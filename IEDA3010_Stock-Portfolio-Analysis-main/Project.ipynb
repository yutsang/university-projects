{
 "cells": [
  {
   "cell_type": "raw",
   "metadata": {},
   "source": [
    "Find effective set and minimize combination variance\n",
    "Find best sharpe (Revenue-Risk Balance Point)\n",
    "Find least risk combination"
   ]
  },
  {
   "cell_type": "code",
   "execution_count": null,
   "metadata": {},
   "outputs": [],
   "source": [
    "import os\n",
    "import pandas as pd\n",
    "import numpy as np\n",
    "import statsmodels.api as sm\n",
    "import scipy.stats as scs\n",
    "import matplotlib.pyplot as plt"
   ]
  },
  {
   "cell_type": "code",
   "execution_count": null,
   "metadata": {},
   "outputs": [],
   "source": [
    "def get_price(stock, path):\n",
    "    result = {}\n",
    "    for i in stock:\n",
    "        data = pd.read_csv(path + '/' + i + '.csv')\n",
    "        result[i] = data[\"Close\"].values.tolist()\n",
    "        result[\"Date\"] = data[\"Date\"].values.tolist()\n",
    "    result = pd.DataFrame(result, index=result[\"Date\"])\n",
    "    return result\n",
    "def get_stock(path):\n",
    "    result = []\n",
    "    for root,dir,files in os.walk(path):\n",
    "        for file in files:\n",
    "            if file.endswith('.csv'):\n",
    "                result.append(file[:-4])\n",
    "    return result"
   ]
  },
  {
   "cell_type": "code",
   "execution_count": null,
   "metadata": {},
   "outputs": [],
   "source": [
    "# Retrieve Stock Data and show some\n",
    "path = r'Stock'\n",
    "\n",
    "stock = get_stock(path) #['0066.HK', '0168.HK', '0857.HK']\n",
    "data = get_price(stock, path)\n",
    "data.pop(\"Date\")\n",
    "data.head()"
   ]
  },
  {
   "cell_type": "code",
   "execution_count": null,
   "metadata": {},
   "outputs": [],
   "source": [
    "(data/data.iloc[0]*100).plot(figsize = (15,6))\n",
    "plt.legend(loc=\"best\")\n",
    "plt.show()"
   ]
  },
  {
   "cell_type": "code",
   "execution_count": null,
   "metadata": {},
   "outputs": [],
   "source": [
    "#252 Transaction days, find annualized return\n",
    "returns = np.log(data / data.shift(1))\n",
    "returns.mean()*252"
   ]
  },
  {
   "cell_type": "code",
   "execution_count": null,
   "metadata": {},
   "outputs": [],
   "source": [
    "# The pandas built-in method was used to produce covariance matrix.\n",
    "returns.cov()*252"
   ]
  },
  {
   "cell_type": "code",
   "execution_count": null,
   "metadata": {},
   "outputs": [],
   "source": [
    "#Randomly assign initial weights to different assets\n",
    "noa = len(stock)\n",
    "weights = np.random.random(noa)\n",
    "weights /= np.sum(weights)\n",
    "weights"
   ]
  },
  {
   "cell_type": "code",
   "execution_count": null,
   "metadata": {},
   "outputs": [],
   "source": [
    "#Annualized return on portfolio\n",
    "np.sum(returns.mean()*weights)*252"
   ]
  },
  {
   "cell_type": "code",
   "execution_count": null,
   "metadata": {},
   "outputs": [],
   "source": [
    "# combination variance\n",
    "np.dot(weights.T, np.dot(returns.cov()*252,weights))"
   ]
  },
  {
   "cell_type": "code",
   "execution_count": null,
   "metadata": {},
   "outputs": [],
   "source": [
    "# Combined standard deviation\n",
    "np.sqrt(np.dot(weights.T, np.dot(returns.cov()* 252,weights)))\n"
   ]
  },
  {
   "cell_type": "code",
   "execution_count": null,
   "metadata": {},
   "outputs": [],
   "source": [
    "# Through a Monte Carlo simulation, a large number of random weight vectors are generated and the expected returns and variances of random combinations are recorded.\n",
    "port_returns = []\n",
    "port_variance = []\n",
    "for p in range(4000):\n",
    "    weights = np.random.random(noa)\n",
    "    weights /=np.sum(weights)\n",
    "    port_returns.append(np.sum(returns.mean()*252*weights))\n",
    "    port_variance.append(np.sqrt(np.dot(weights.T, np.dot(returns.cov()*252, weights))))\n",
    "\n",
    "port_returns = np.array(port_returns)\n",
    "port_variance = np.array(port_variance)\n",
    "\n",
    "#The risk-free rate was set at 4%\n",
    "risk_free = 0.04\n",
    "plt.figure(figsize = (8,4))\n",
    "plt.scatter(port_variance, port_returns, c=(port_returns-risk_free)/port_variance, marker = 'o')\n",
    "plt.grid(True)\n",
    "plt.xlabel('excepted volatility')\n",
    "plt.ylabel('expected return')\n",
    "plt.colorbar(label = 'Sharpe ratio')\n",
    "plt.show()"
   ]
  },
  {
   "cell_type": "code",
   "execution_count": null,
   "metadata": {},
   "outputs": [],
   "source": [
    "# Portfolio Optimization 1 -- SHARPE maximizes\n",
    "# Create statistics function to record important portfolio statistics (returns, variance and # Sharpe ratio)\n",
    "# By solving the constrained optimal problem, the optimal solution is obtained. Where the constraint is that the sum of the weights is 1.\n",
    "\n",
    "def statistics(weights):\n",
    "    weights = np.array(weights)\n",
    "    port_returns = np.sum(returns.mean()*weights)*252\n",
    "    port_variance = np.sqrt(np.dot(weights.T, np.dot(returns.cov()*252,weights)))\n",
    "    return np.array([port_returns, port_variance, port_returns/port_variance])\n",
    "#The derivation of portfolio optimization is a constrained optimization problem\n",
    "import scipy.optimize as sco\n",
    "\n",
    "#Minimize the negative of the Sharpe index\n",
    "def min_sharpe(weights):\n",
    "    return -statistics(weights)[2]\n",
    "\n",
    "#The constraint is that the sum of all the parameters (weights) is 1. This can be expressed in the terms minimize function\n",
    "cons = ({'type':'eq', 'fun':lambda x: np.sum(x)-1})\n",
    "\n",
    "#We also limit the parameter values (weights) to between 0 and 1. These values are provided to the minimization function in the form of a tuple consisting of several tuples\n",
    "bnds = tuple((0,1) for x in range(noa))\n",
    "\n",
    "#The only input ignored in the optimization function call is the start argument list (the initial guess at the weight). Let's just use the average distribution.\n",
    "opts = sco.minimize(min_sharpe, noa*[1./noa,], method = 'SLSQP', bounds = bnds, constraints = cons)\n",
    "opts"
   ]
  },
  {
   "cell_type": "code",
   "execution_count": null,
   "metadata": {},
   "outputs": [],
   "source": [
    "# The optimal combination weight vector obtained is:\n",
    "opts['x'].round(3)"
   ]
  },
  {
   "cell_type": "code",
   "execution_count": null,
   "metadata": {},
   "outputs": [],
   "source": [
    "# The three statistics of the largest combination of SHARpe are:\n",
    "#Expected return, expected volatility, optimal Sharpe index\n",
    "statistics(opts['x']).round(3)"
   ]
  },
  {
   "cell_type": "code",
   "execution_count": null,
   "metadata": {},
   "outputs": [],
   "source": [
    "# Portfolio optimization 2 -- Minimum variance\n",
    "# The optimal portfolio is selected by means of the minimum variance.\n",
    "\n",
    "# But let's define a function that minimizes the variance\n",
    "def min_variance(weights):\n",
    "    return statistics(weights)[1]\n",
    "\n",
    "optv = sco.minimize(min_variance, noa*[1./noa,],method = 'SLSQP', bounds = bnds, constraints = cons)\n",
    "optv"
   ]
  },
  {
   "cell_type": "code",
   "execution_count": null,
   "metadata": {},
   "outputs": [],
   "source": [
    "# The optimal combination weight vector with the minimum variance and the statistical data of the combination are respectively:\n",
    "optv['x'].round(3)"
   ]
  },
  {
   "cell_type": "code",
   "execution_count": null,
   "metadata": {},
   "outputs": [],
   "source": [
    "# The expected yield, volatility and Sharpe index are obtained\n",
    "statistics(optv['x']).round(3)"
   ]
  },
  {
   "cell_type": "code",
   "execution_count": null,
   "metadata": {},
   "outputs": [],
   "source": [
    "# The effective frontier has the portfolio composition with the minimum variance under the given target rate of return.\n",
    "# Two constraints are used in optimization, 1. Given target return rate, 2. Portfolio weight sum is 1.\n",
    "\n",
    "def min_variance(weights):\n",
    "    return statistics(weights)[1]\n",
    "\n",
    "# One of the minimized constraints changes with the different target return levels (TARGEt_returns) loop.\n",
    "target_returns = np.linspace(0.0,0.5,50)\n",
    "target_variance = []\n",
    "for tar in target_returns:\n",
    "    cons = ({'type':'eq','fun':lambda x:statistics(x)[0]-tar},{'type':'eq','fun':lambda x:np.sum(x)-1})\n",
    "    res = sco.minimize(min_variance, noa*[1./noa,],method = 'SLSQP', bounds = bnds, constraints = cons)\n",
    "    target_variance.append(res['fun'])\n",
    "\n",
    "target_variance = np.array(target_variance)"
   ]
  },
  {
   "cell_type": "markdown",
   "metadata": {},
   "source": [
    "The following is a demonstration of the optimal results:\n",
    "Cross: The formed curve is the effective frontier (the optimal portfolio under the target yield rate)\n",
    "\n",
    "Red Star: Sharpe's largest portfolio\n",
    "\n",
    "Yellow Star: The portfolio with the least variance"
   ]
  },
  {
   "cell_type": "code",
   "execution_count": null,
   "metadata": {},
   "outputs": [],
   "source": [
    "plt.figure(figsize = (8,4))\n",
    "#Circle: A combination of randomly generated distributions in Monte Carlo\n",
    "plt.scatter(port_variance, port_returns, c = port_returns/port_variance,marker = 'o')\n",
    "#Cross: Effective leading edge\n",
    "plt.scatter(target_variance,target_returns, c = target_returns/target_variance, marker = 'x')\n",
    "#Red star: Marked with the highest SHARPE combination\n",
    "plt.plot(statistics(opts['x'])[1], statistics(opts['x'])[0], 'r*', markersize = 15.0)\n",
    "#Yellow star: Marks the minimum variance combination\n",
    "plt.plot(statistics(optv['x'])[1], statistics(optv['x'])[0], 'y*', markersize = 15.0)\n",
    "plt.grid(True)\n",
    "plt.xlabel('expected volatility')\n",
    "plt.ylabel('expected return')\n",
    "plt.colorbar(label = 'Sharpe ratio')\n",
    "plt.show()"
   ]
  },
  {
   "cell_type": "code",
   "execution_count": null,
   "metadata": {
    "collapsed": true
   },
   "outputs": [],
   "source": []
  }
 ],
 "metadata": {
  "kernelspec": {
   "display_name": "Python 3",
   "language": "python",
   "name": "python3"
  },
  "language_info": {
   "codemirror_mode": {
    "name": "ipython",
    "version": 3
   },
   "file_extension": ".py",
   "mimetype": "text/x-python",
   "name": "python",
   "nbconvert_exporter": "python",
   "pygments_lexer": "ipython3",
   "version": "3.8.3"
  }
 },
 "nbformat": 4,
 "nbformat_minor": 2
}
