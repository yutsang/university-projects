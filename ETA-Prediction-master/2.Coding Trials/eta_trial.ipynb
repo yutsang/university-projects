{
 "cells": [
  {
   "cell_type": "code",
   "execution_count": 1,
   "metadata": {},
   "outputs": [
    {
     "name": "stderr",
     "output_type": "stream",
     "text": [
      "/var/folders/rx/s42f27kn5j5ddqzlhz7qr2yw0000gn/T/ipykernel_6109/443228955.py:6: DtypeWarning: Columns (10) have mixed types. Specify dtype option on import or set low_memory=False.\n",
      "  df_backup = pd.read_csv(\"eta_prediction.csv\")\n"
     ]
    }
   ],
   "source": [
    "import pandas as pd\n",
    "from sqlalchemy import null\n",
    "\n",
    "pd.set_option('display.max_rows', None)\n",
    "\n",
    "df_backup = pd.read_csv(\"eta_prediction.csv\")\n",
    "df = df_backup\n",
    "df.columns = [\"Location\", \"Vehicle\", \"Shipment Number\", \"Start-Lat\", \"Start-Lon\", \"Dest-Lat\", \"Dest-Lon\", \"Time-1\", \"Time-2\", \"Time-3\", \"Time-4\", \"Time-5\"]\n",
    "\n",
    "for i in range(5):\n",
    "    column = \"Time-\"+ str(i+1)\n",
    "    df[column] = pd.to_datetime(df[column], errors = 'coerce', format='%Y-%m-%d %H:%M:%S')\n",
    "\n",
    "#df = df[df[\"Time-4\"].notnull()]\n",
    "#df = df[df[\"Time-5\"].notnull()]\n",
    "\n",
    "from numpy import datetime64\n",
    "\n",
    "df[\"planDurn\"] = df[\"Time-2\"].dropna().astype(datetime64)-df[\"Time-1\"].dropna().astype(datetime64)\n",
    "df[\"trackDurn\"] = df[\"Time-4\"].dropna().astype(datetime64)-df[\"Time-3\"].dropna().astype(datetime64)\n",
    "df[\"planRemain\"] = df[\"Time-5\"].dropna().astype(datetime64)-df[\"Time-1\"].dropna().astype(datetime64)\n",
    "df[\"trackRemain\"] = df[\"Time-5\"].dropna().astype(datetime64)-df[\"Time-3\"].dropna().astype(datetime64)\n",
    "df[\"Time-25\"] = df[\"Time-5\"].dropna().astype(datetime64)-df[\"Time-2\"].dropna().astype(datetime64)\n",
    "\n",
    "df[\"Time-45\"] = df[\"Time-5\"].dropna().astype(datetime64)-df[\"Time-4\"].dropna().astype(datetime64)\n"
   ]
  },
  {
   "cell_type": "code",
   "execution_count": 2,
   "metadata": {},
   "outputs": [
    {
     "data": {
      "text/plain": [
       "(4965694, 18)"
      ]
     },
     "execution_count": 2,
     "metadata": {},
     "output_type": "execute_result"
    }
   ],
   "source": [
    "df.shape"
   ]
  },
  {
   "cell_type": "code",
   "execution_count": 3,
   "metadata": {},
   "outputs": [
    {
     "data": {
      "text/plain": [
       "array(['CHN', 'HKG', 'IDN', 'MYS', 'PHL', 'SGP', 'THA', 'TWN'],\n",
       "      dtype=object)"
      ]
     },
     "execution_count": 3,
     "metadata": {},
     "output_type": "execute_result"
    }
   ],
   "source": [
    "df[\"Location\"].unique()"
   ]
  },
  {
   "cell_type": "code",
   "execution_count": 4,
   "metadata": {},
   "outputs": [
    {
     "data": {
      "text/plain": [
       "(330167, 18)"
      ]
     },
     "execution_count": 4,
     "metadata": {},
     "output_type": "execute_result"
    }
   ],
   "source": [
    "df[df[\"Location\"]==\"HKG\"].shape"
   ]
  },
  {
   "cell_type": "code",
   "execution_count": 5,
   "metadata": {},
   "outputs": [
    {
     "name": "stdout",
     "output_type": "stream",
     "text": [
      "(4,) (18,) (41,) (18,) (33,) (21,) (20,) (56,) (205,)\n"
     ]
    }
   ],
   "source": [
    "df_CHN = df[df[\"Location\"]==\"CHN\"]\n",
    "df_HKG = df[df[\"Location\"]==\"HKG\"]\n",
    "df_IDN = df[df[\"Location\"]==\"IDN\"]\n",
    "df_MYS = df[df[\"Location\"]==\"MYS\"]\n",
    "df_PHL = df[df[\"Location\"]==\"PHL\"]\n",
    "df_SGP = df[df[\"Location\"]==\"SGP\"]\n",
    "df_THA = df[df[\"Location\"]==\"THA\"]\n",
    "df_TWN = df[df[\"Location\"]==\"TWN\"]\n",
    "print(\n",
    "    #df_CHN[\"Limit\"].unique(), \n",
    "    df_CHN[\"Vehicle\"].unique().shape,\n",
    "    #df_HKG[\"Limit\"].unique(), \n",
    "    df_HKG[\"Vehicle\"].unique().shape,\n",
    "    #df_IDN[\"Limit\"].unique(), \n",
    "    df_IDN[\"Vehicle\"].unique().shape,\n",
    "    #df_MYS[\"Limit\"].unique(), \n",
    "    df_MYS[\"Vehicle\"].unique().shape,\n",
    "    #df_PHL[\"Limit\"].unique(), \n",
    "    df_PHL[\"Vehicle\"].unique().shape,\n",
    "    #df_SGP[\"Limit\"].unique(), \n",
    "    df_SGP[\"Vehicle\"].unique().shape,\n",
    "    #df_THA[\"Limit\"].unique(), \n",
    "    df_THA[\"Vehicle\"].unique().shape,\n",
    "    #df_TWN[\"Limit\"].unique(), \n",
    "    df_TWN[\"Vehicle\"].unique().shape,\n",
    "    df[\"Vehicle\"].unique().shape)\n",
    "\n",
    "#total 211, can assume no duplicate in different region and no reference value \n",
    "#use dictionary to deal with the limit type\n",
    "\n",
    "#model Feb.7, 2017 - Feb.9, 2021 -> Test on the most update data"
   ]
  },
  {
   "cell_type": "code",
   "execution_count": 6,
   "metadata": {},
   "outputs": [
    {
     "data": {
      "text/plain": [
       "array(['COLT DIESEL ENGKEL', 'COLT DIESEL DOUBLE', 'WING BOX', 'FUSO',\n",
       "       '20FT CONTAINER', 'TRONTON', 'CARRY', 'WING BOX DEDICATED', 'L300',\n",
       "       'LTL TRUCK', 'BIGMAMA', 'WING BOX JUMBO', 'BIGMAMA CURTAIN SLIDER',\n",
       "       nan, 'CONTAINER 20FT', '40FT CONTAINER', 'CARRY PICK UP',\n",
       "       'CARRY DEDICATED', 'COLT DIESEL', 'CONTAINER 40FT', 'GRAND MAX',\n",
       "       'FUSO 8T', 'TRONTON 14T', 'TRONTON 16T', 'FUSO 10T', 'CDD LONG',\n",
       "       'LCL-TRUCK', 'WING BOX AC', 'FUSO AIR CONDITIONER',\n",
       "       'COLT DIESEL DOUBLE JUMBO', 'CDE AIR CONDITIONER',\n",
       "       'WINGBOX AIR CONDITIONER', 'LCL', 'CDD AIR CONDITIONER',\n",
       "       'COLT DIESEL ENGKEL AIR CONDITIONER', 'LCL LAUT', 'WINGBOX',\n",
       "       'LCL ONS- 1 DAY SERVICE', 'LCL REGULER - UDARA',\n",
       "       '20FT CONTAINER AIR CONDITIONER', 'GRAND MAX AIR CONDITIONER'],\n",
       "      dtype=object)"
      ]
     },
     "execution_count": 6,
     "metadata": {},
     "output_type": "execute_result"
    }
   ],
   "source": [
    "df_IDN[\"Vehicle\"].unique()"
   ]
  },
  {
   "cell_type": "code",
   "execution_count": 7,
   "metadata": {},
   "outputs": [
    {
     "data": {
      "text/html": [
       "<div>\n",
       "<style scoped>\n",
       "    .dataframe tbody tr th:only-of-type {\n",
       "        vertical-align: middle;\n",
       "    }\n",
       "\n",
       "    .dataframe tbody tr th {\n",
       "        vertical-align: top;\n",
       "    }\n",
       "\n",
       "    .dataframe thead th {\n",
       "        text-align: right;\n",
       "    }\n",
       "</style>\n",
       "<table border=\"1\" class=\"dataframe\">\n",
       "  <thead>\n",
       "    <tr style=\"text-align: right;\">\n",
       "      <th></th>\n",
       "      <th>Location</th>\n",
       "      <th>Vehicle</th>\n",
       "      <th>Shipment Number</th>\n",
       "      <th>Start-Lat</th>\n",
       "      <th>Start-Lon</th>\n",
       "      <th>Dest-Lat</th>\n",
       "      <th>Dest-Lon</th>\n",
       "      <th>Time-1</th>\n",
       "      <th>Time-2</th>\n",
       "      <th>Time-3</th>\n",
       "      <th>Time-4</th>\n",
       "      <th>Time-5</th>\n",
       "      <th>planDurn</th>\n",
       "      <th>trackDurn</th>\n",
       "      <th>planRemain</th>\n",
       "      <th>trackRemain</th>\n",
       "      <th>Time-25</th>\n",
       "      <th>Time-45</th>\n",
       "    </tr>\n",
       "  </thead>\n",
       "  <tbody>\n",
       "    <tr>\n",
       "      <th>4965689</th>\n",
       "      <td>TWN</td>\n",
       "      <td>NaN</td>\n",
       "      <td>LFL/TMS/TWN.OBW0018616560</td>\n",
       "      <td>24.9</td>\n",
       "      <td>121.113</td>\n",
       "      <td>24.777</td>\n",
       "      <td>121.01</td>\n",
       "      <td>2021-02-09 20:35:00</td>\n",
       "      <td>2021-02-09 21:35:00</td>\n",
       "      <td>2021-02-09 20:35:00</td>\n",
       "      <td>NaT</td>\n",
       "      <td>2021-02-10 23:59:00</td>\n",
       "      <td>0 days 01:00:00</td>\n",
       "      <td>NaT</td>\n",
       "      <td>1 days 03:24:00</td>\n",
       "      <td>1 days 03:24:00</td>\n",
       "      <td>1 days 02:24:00</td>\n",
       "      <td>NaT</td>\n",
       "    </tr>\n",
       "    <tr>\n",
       "      <th>4965692</th>\n",
       "      <td>TWN</td>\n",
       "      <td>1T</td>\n",
       "      <td>LFL/TMS/TWN.OBW0018616560</td>\n",
       "      <td>24.9</td>\n",
       "      <td>121.113</td>\n",
       "      <td>24.777</td>\n",
       "      <td>121.01</td>\n",
       "      <td>2021-02-09 21:35:00</td>\n",
       "      <td>2021-02-09 23:35:00</td>\n",
       "      <td>2021-02-09 21:35:00</td>\n",
       "      <td>NaT</td>\n",
       "      <td>2021-02-10 23:59:00</td>\n",
       "      <td>0 days 02:00:00</td>\n",
       "      <td>NaT</td>\n",
       "      <td>1 days 02:24:00</td>\n",
       "      <td>1 days 02:24:00</td>\n",
       "      <td>1 days 00:24:00</td>\n",
       "      <td>NaT</td>\n",
       "    </tr>\n",
       "  </tbody>\n",
       "</table>\n",
       "</div>"
      ],
      "text/plain": [
       "        Location Vehicle            Shipment Number  Start-Lat  Start-Lon  \\\n",
       "4965689      TWN     NaN  LFL/TMS/TWN.OBW0018616560       24.9    121.113   \n",
       "4965692      TWN      1T  LFL/TMS/TWN.OBW0018616560       24.9    121.113   \n",
       "\n",
       "         Dest-Lat  Dest-Lon              Time-1              Time-2  \\\n",
       "4965689    24.777    121.01 2021-02-09 20:35:00 2021-02-09 21:35:00   \n",
       "4965692    24.777    121.01 2021-02-09 21:35:00 2021-02-09 23:35:00   \n",
       "\n",
       "                     Time-3 Time-4              Time-5        planDurn  \\\n",
       "4965689 2021-02-09 20:35:00    NaT 2021-02-10 23:59:00 0 days 01:00:00   \n",
       "4965692 2021-02-09 21:35:00    NaT 2021-02-10 23:59:00 0 days 02:00:00   \n",
       "\n",
       "        trackDurn      planRemain     trackRemain         Time-25 Time-45  \n",
       "4965689       NaT 1 days 03:24:00 1 days 03:24:00 1 days 02:24:00     NaT  \n",
       "4965692       NaT 1 days 02:24:00 1 days 02:24:00 1 days 00:24:00     NaT  "
      ]
     },
     "execution_count": 7,
     "metadata": {},
     "output_type": "execute_result"
    }
   ],
   "source": [
    "df[df[\"Shipment Number\"]==\"LFL/TMS/TWN.OBW0018616560\"]"
   ]
  },
  {
   "cell_type": "code",
   "execution_count": 8,
   "metadata": {},
   "outputs": [],
   "source": [
    "df_HKG_2019 = df_HKG[df_HKG[\"Time-1\"] < \"2019-12-31\"][\"Time-1\"]"
   ]
  },
  {
   "cell_type": "code",
   "execution_count": 9,
   "metadata": {},
   "outputs": [
    {
     "data": {
      "text/plain": [
       "array(['2019-11-01T06:00:00.000000000', '2019-11-01T06:23:00.000000000',\n",
       "       '2019-11-01T07:00:00.000000000', '2019-11-01T08:00:00.000000000',\n",
       "       '2019-11-01T09:00:00.000000000', '2019-11-01T09:30:00.000000000',\n",
       "       '2019-11-01T09:41:59.000000000', '2019-11-01T13:50:00.000000000',\n",
       "       '2019-11-01T15:24:01.000000000', '2019-11-01T15:57:01.000000000',\n",
       "       '2019-11-01T16:03:01.000000000', '2019-11-01T16:21:02.000000000',\n",
       "       '2019-11-01T17:03:01.000000000', '2019-11-01T17:18:01.000000000',\n",
       "       '2019-11-01T17:24:33.000000000', '2019-11-01T17:45:04.000000000'],\n",
       "      dtype='datetime64[ns]')"
      ]
     },
     "execution_count": 9,
     "metadata": {},
     "output_type": "execute_result"
    }
   ],
   "source": [
    "df_HKG_20191101 = df_HKG[(df_HKG[\"Time-1\"] >= \"2019-11-01\") & (df_HKG[\"Time-1\"] < \"2019-11-02\")]\n",
    "df_HKG_20191101_UniqueTime = df_HKG_20191101[\"Time-1\"].unique()\n",
    "df_HKG_20191101_UniqueTime.sort()\n",
    "df_HKG_20191101_UniqueTime"
   ]
  },
  {
   "cell_type": "code",
   "execution_count": 10,
   "metadata": {},
   "outputs": [],
   "source": [
    "df_HKG_20191101.to_csv(\"df_HKG_20191101.csv\")"
   ]
  },
  {
   "cell_type": "code",
   "execution_count": 11,
   "metadata": {},
   "outputs": [
    {
     "data": {
      "text/plain": [
       "array([22.45055, 22.44591, 22.36991, 22.49868, 22.44898, 22.39021,\n",
       "       22.28007, 22.34338])"
      ]
     },
     "execution_count": 11,
     "metadata": {},
     "output_type": "execute_result"
    }
   ],
   "source": [
    "df_HKG[\"Start-Lat\"].unique()"
   ]
  },
  {
   "cell_type": "code",
   "execution_count": 22,
   "metadata": {},
   "outputs": [],
   "source": [
    "df_TWN.to_csv(\"df_TWN.csv\")"
   ]
  }
 ],
 "metadata": {
  "kernelspec": {
   "display_name": "Python 3.9.7 ('base')",
   "language": "python",
   "name": "python3"
  },
  "language_info": {
   "codemirror_mode": {
    "name": "ipython",
    "version": 3
   },
   "file_extension": ".py",
   "mimetype": "text/x-python",
   "name": "python",
   "nbconvert_exporter": "python",
   "pygments_lexer": "ipython3",
   "version": "3.9.7"
  },
  "orig_nbformat": 4,
  "vscode": {
   "interpreter": {
    "hash": "750f7130a0ed5887341392c7bdb5265c945b64bfd064bdaec7ae8d3d01e224ab"
   }
  }
 },
 "nbformat": 4,
 "nbformat_minor": 2
}
