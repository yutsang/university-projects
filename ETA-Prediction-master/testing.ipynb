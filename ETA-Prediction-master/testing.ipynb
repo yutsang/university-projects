{
 "cells": [
  {
   "cell_type": "code",
   "execution_count": null,
   "metadata": {},
   "outputs": [],
   "source": [
    "#testing"
   ]
  }
 ],
 "metadata": {
  "kernelspec": {
   "display_name": "Python 3.9.7 ('base')",
   "language": "python",
   "name": "python3"
  },
  "language_info": {
   "name": "python",
   "version": "3.9.7"
  },
  "orig_nbformat": 4,
  "vscode": {
   "interpreter": {
    "hash": "750f7130a0ed5887341392c7bdb5265c945b64bfd064bdaec7ae8d3d01e224ab"
   }
  }
 },
 "nbformat": 4,
 "nbformat_minor": 2
}
