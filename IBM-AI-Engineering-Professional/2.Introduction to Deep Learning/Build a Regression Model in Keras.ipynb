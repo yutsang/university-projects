{
 "cells": [
  {
   "cell_type": "markdown",
   "metadata": {
    "button": false,
    "deletable": true,
    "new_sheet": false,
    "run_control": {
     "read_only": false
    }
   },
   "source": [
    "<a href=\"https://cognitiveclass.ai\"><img src = \"https://s3-api.us-geo.objectstorage.softlayer.net/cf-courses-data/CognitiveClass/Logos/organization_logo/organization_logo.png\" width = 400> </a>\n",
    "\n",
    "<h1 align=center><font size = 5>Final Project : Regression Model in Keras</font></h1>\n"
   ]
  },
  {
   "cell_type": "markdown",
   "metadata": {
    "button": false,
    "deletable": true,
    "new_sheet": false,
    "run_control": {
     "read_only": false
    }
   },
   "source": [
    "## Guide to reviewer\n"
   ]
  },
  {
   "cell_type": "markdown",
   "metadata": {
    "button": false,
    "deletable": true,
    "new_sheet": false,
    "run_control": {
     "read_only": false
    }
   },
   "source": [
    "This notebook contains 4 parts A, B, C, and D which contain codes corresponding to the parts asked.\n"
   ]
  },
  {
   "cell_type": "markdown",
   "metadata": {},
   "source": [
    "<h2>Regression Models with Keras</h2>\n",
    "\n",
    "I'll be working upon the concrete data mentioned in the problem."
   ]
  },
  {
   "cell_type": "markdown",
   "metadata": {
    "button": false,
    "deletable": true,
    "new_sheet": false,
    "run_control": {
     "read_only": false
    }
   },
   "source": [
    "Let's start by importing the <em>pandas</em> and the Numpy libraries.\n"
   ]
  },
  {
   "cell_type": "code",
   "execution_count": 1,
   "metadata": {
    "button": false,
    "deletable": true,
    "new_sheet": false,
    "run_control": {
     "read_only": false
    }
   },
   "outputs": [],
   "source": [
    "import pandas as pd\n",
    "import numpy as np"
   ]
  },
  {
   "cell_type": "markdown",
   "metadata": {
    "button": false,
    "deletable": true,
    "new_sheet": false,
    "run_control": {
     "read_only": false
    }
   },
   "source": [
    "<strong>The dataset is about the compressive strength of different samples of concrete based on the volumes of the different ingredients that were used to make them. Ingredients include:</strong>\n",
    "\n",
    "<strong>1. Cement</strong>\n",
    "\n",
    "<strong>2. Blast Furnace Slag</strong>\n",
    "\n",
    "<strong>3. Fly Ash</strong>\n",
    "\n",
    "<strong>4. Water</strong>\n",
    "\n",
    "<strong>5. Superplasticizer</strong>\n",
    "\n",
    "<strong>6. Coarse Aggregate</strong>\n",
    "\n",
    "<strong>7. Fine Aggregate</strong>\n"
   ]
  },
  {
   "cell_type": "markdown",
   "metadata": {
    "button": false,
    "deletable": true,
    "new_sheet": false,
    "run_control": {
     "read_only": false
    }
   },
   "source": [
    "Let's download the data and read it into a <em>pandas</em> dataframe.\n"
   ]
  },
  {
   "cell_type": "code",
   "execution_count": 2,
   "metadata": {
    "button": false,
    "deletable": true,
    "new_sheet": false,
    "run_control": {
     "read_only": false
    }
   },
   "outputs": [
    {
     "data": {
      "text/html": [
       "<div>\n",
       "<style scoped>\n",
       "    .dataframe tbody tr th:only-of-type {\n",
       "        vertical-align: middle;\n",
       "    }\n",
       "\n",
       "    .dataframe tbody tr th {\n",
       "        vertical-align: top;\n",
       "    }\n",
       "\n",
       "    .dataframe thead th {\n",
       "        text-align: right;\n",
       "    }\n",
       "</style>\n",
       "<table border=\"1\" class=\"dataframe\">\n",
       "  <thead>\n",
       "    <tr style=\"text-align: right;\">\n",
       "      <th></th>\n",
       "      <th>Cement</th>\n",
       "      <th>Blast Furnace Slag</th>\n",
       "      <th>Fly Ash</th>\n",
       "      <th>Water</th>\n",
       "      <th>Superplasticizer</th>\n",
       "      <th>Coarse Aggregate</th>\n",
       "      <th>Fine Aggregate</th>\n",
       "      <th>Age</th>\n",
       "      <th>Strength</th>\n",
       "    </tr>\n",
       "  </thead>\n",
       "  <tbody>\n",
       "    <tr>\n",
       "      <th>0</th>\n",
       "      <td>540.0</td>\n",
       "      <td>0.0</td>\n",
       "      <td>0.0</td>\n",
       "      <td>162.0</td>\n",
       "      <td>2.5</td>\n",
       "      <td>1040.0</td>\n",
       "      <td>676.0</td>\n",
       "      <td>28</td>\n",
       "      <td>79.99</td>\n",
       "    </tr>\n",
       "    <tr>\n",
       "      <th>1</th>\n",
       "      <td>540.0</td>\n",
       "      <td>0.0</td>\n",
       "      <td>0.0</td>\n",
       "      <td>162.0</td>\n",
       "      <td>2.5</td>\n",
       "      <td>1055.0</td>\n",
       "      <td>676.0</td>\n",
       "      <td>28</td>\n",
       "      <td>61.89</td>\n",
       "    </tr>\n",
       "    <tr>\n",
       "      <th>2</th>\n",
       "      <td>332.5</td>\n",
       "      <td>142.5</td>\n",
       "      <td>0.0</td>\n",
       "      <td>228.0</td>\n",
       "      <td>0.0</td>\n",
       "      <td>932.0</td>\n",
       "      <td>594.0</td>\n",
       "      <td>270</td>\n",
       "      <td>40.27</td>\n",
       "    </tr>\n",
       "    <tr>\n",
       "      <th>3</th>\n",
       "      <td>332.5</td>\n",
       "      <td>142.5</td>\n",
       "      <td>0.0</td>\n",
       "      <td>228.0</td>\n",
       "      <td>0.0</td>\n",
       "      <td>932.0</td>\n",
       "      <td>594.0</td>\n",
       "      <td>365</td>\n",
       "      <td>41.05</td>\n",
       "    </tr>\n",
       "    <tr>\n",
       "      <th>4</th>\n",
       "      <td>198.6</td>\n",
       "      <td>132.4</td>\n",
       "      <td>0.0</td>\n",
       "      <td>192.0</td>\n",
       "      <td>0.0</td>\n",
       "      <td>978.4</td>\n",
       "      <td>825.5</td>\n",
       "      <td>360</td>\n",
       "      <td>44.30</td>\n",
       "    </tr>\n",
       "  </tbody>\n",
       "</table>\n",
       "</div>"
      ],
      "text/plain": [
       "   Cement  Blast Furnace Slag  Fly Ash  Water  Superplasticizer  \\\n",
       "0   540.0                 0.0      0.0  162.0               2.5   \n",
       "1   540.0                 0.0      0.0  162.0               2.5   \n",
       "2   332.5               142.5      0.0  228.0               0.0   \n",
       "3   332.5               142.5      0.0  228.0               0.0   \n",
       "4   198.6               132.4      0.0  192.0               0.0   \n",
       "\n",
       "   Coarse Aggregate  Fine Aggregate  Age  Strength  \n",
       "0            1040.0           676.0   28     79.99  \n",
       "1            1055.0           676.0   28     61.89  \n",
       "2             932.0           594.0  270     40.27  \n",
       "3             932.0           594.0  365     41.05  \n",
       "4             978.4           825.5  360     44.30  "
      ]
     },
     "execution_count": 2,
     "metadata": {},
     "output_type": "execute_result"
    }
   ],
   "source": [
    "concrete_data = pd.read_csv('https://s3-api.us-geo.objectstorage.softlayer.net/cf-courses-data/CognitiveClass/DL0101EN/labs/data/concrete_data.csv')\n",
    "concrete_data.head()"
   ]
  },
  {
   "cell_type": "markdown",
   "metadata": {
    "button": false,
    "deletable": true,
    "new_sheet": false,
    "run_control": {
     "read_only": false
    }
   },
   "source": [
    "So the first concrete sample has 540 cubic meter of cement, 0 cubic meter of blast furnace slag, 0 cubic meter of fly ash, 162 cubic meter of water, 2.5 cubic meter of superplaticizer, 1040 cubic meter of coarse aggregate, 676 cubic meter of fine aggregate. Such a concrete mix which is 28 days old, has a compressive strength of 79.99 MPa. \n"
   ]
  },
  {
   "cell_type": "markdown",
   "metadata": {
    "button": false,
    "deletable": true,
    "new_sheet": false,
    "run_control": {
     "read_only": false
    }
   },
   "source": [
    "#### Let's check how many data points we have.\n"
   ]
  },
  {
   "cell_type": "code",
   "execution_count": 3,
   "metadata": {
    "button": false,
    "deletable": true,
    "new_sheet": false,
    "run_control": {
     "read_only": false
    }
   },
   "outputs": [
    {
     "data": {
      "text/plain": [
       "(1030, 9)"
      ]
     },
     "execution_count": 3,
     "metadata": {},
     "output_type": "execute_result"
    }
   ],
   "source": [
    "concrete_data.shape"
   ]
  },
  {
   "cell_type": "markdown",
   "metadata": {
    "button": false,
    "deletable": true,
    "new_sheet": false,
    "run_control": {
     "read_only": false
    }
   },
   "source": [
    "So, there are approximately 1000 samples to train our model on. Because of the few samples, we have to be careful not to overfit the training data.\n"
   ]
  },
  {
   "cell_type": "markdown",
   "metadata": {
    "button": false,
    "deletable": true,
    "new_sheet": false,
    "run_control": {
     "read_only": false
    }
   },
   "source": [
    "Let's check the dataset for any missing values.\n"
   ]
  },
  {
   "cell_type": "code",
   "execution_count": 4,
   "metadata": {
    "button": false,
    "deletable": true,
    "new_sheet": false,
    "run_control": {
     "read_only": false
    }
   },
   "outputs": [
    {
     "data": {
      "text/html": [
       "<div>\n",
       "<style scoped>\n",
       "    .dataframe tbody tr th:only-of-type {\n",
       "        vertical-align: middle;\n",
       "    }\n",
       "\n",
       "    .dataframe tbody tr th {\n",
       "        vertical-align: top;\n",
       "    }\n",
       "\n",
       "    .dataframe thead th {\n",
       "        text-align: right;\n",
       "    }\n",
       "</style>\n",
       "<table border=\"1\" class=\"dataframe\">\n",
       "  <thead>\n",
       "    <tr style=\"text-align: right;\">\n",
       "      <th></th>\n",
       "      <th>Cement</th>\n",
       "      <th>Blast Furnace Slag</th>\n",
       "      <th>Fly Ash</th>\n",
       "      <th>Water</th>\n",
       "      <th>Superplasticizer</th>\n",
       "      <th>Coarse Aggregate</th>\n",
       "      <th>Fine Aggregate</th>\n",
       "      <th>Age</th>\n",
       "      <th>Strength</th>\n",
       "    </tr>\n",
       "  </thead>\n",
       "  <tbody>\n",
       "    <tr>\n",
       "      <th>count</th>\n",
       "      <td>1030.000000</td>\n",
       "      <td>1030.000000</td>\n",
       "      <td>1030.000000</td>\n",
       "      <td>1030.000000</td>\n",
       "      <td>1030.000000</td>\n",
       "      <td>1030.000000</td>\n",
       "      <td>1030.000000</td>\n",
       "      <td>1030.000000</td>\n",
       "      <td>1030.000000</td>\n",
       "    </tr>\n",
       "    <tr>\n",
       "      <th>mean</th>\n",
       "      <td>281.167864</td>\n",
       "      <td>73.895825</td>\n",
       "      <td>54.188350</td>\n",
       "      <td>181.567282</td>\n",
       "      <td>6.204660</td>\n",
       "      <td>972.918932</td>\n",
       "      <td>773.580485</td>\n",
       "      <td>45.662136</td>\n",
       "      <td>35.817961</td>\n",
       "    </tr>\n",
       "    <tr>\n",
       "      <th>std</th>\n",
       "      <td>104.506364</td>\n",
       "      <td>86.279342</td>\n",
       "      <td>63.997004</td>\n",
       "      <td>21.354219</td>\n",
       "      <td>5.973841</td>\n",
       "      <td>77.753954</td>\n",
       "      <td>80.175980</td>\n",
       "      <td>63.169912</td>\n",
       "      <td>16.705742</td>\n",
       "    </tr>\n",
       "    <tr>\n",
       "      <th>min</th>\n",
       "      <td>102.000000</td>\n",
       "      <td>0.000000</td>\n",
       "      <td>0.000000</td>\n",
       "      <td>121.800000</td>\n",
       "      <td>0.000000</td>\n",
       "      <td>801.000000</td>\n",
       "      <td>594.000000</td>\n",
       "      <td>1.000000</td>\n",
       "      <td>2.330000</td>\n",
       "    </tr>\n",
       "    <tr>\n",
       "      <th>25%</th>\n",
       "      <td>192.375000</td>\n",
       "      <td>0.000000</td>\n",
       "      <td>0.000000</td>\n",
       "      <td>164.900000</td>\n",
       "      <td>0.000000</td>\n",
       "      <td>932.000000</td>\n",
       "      <td>730.950000</td>\n",
       "      <td>7.000000</td>\n",
       "      <td>23.710000</td>\n",
       "    </tr>\n",
       "    <tr>\n",
       "      <th>50%</th>\n",
       "      <td>272.900000</td>\n",
       "      <td>22.000000</td>\n",
       "      <td>0.000000</td>\n",
       "      <td>185.000000</td>\n",
       "      <td>6.400000</td>\n",
       "      <td>968.000000</td>\n",
       "      <td>779.500000</td>\n",
       "      <td>28.000000</td>\n",
       "      <td>34.445000</td>\n",
       "    </tr>\n",
       "    <tr>\n",
       "      <th>75%</th>\n",
       "      <td>350.000000</td>\n",
       "      <td>142.950000</td>\n",
       "      <td>118.300000</td>\n",
       "      <td>192.000000</td>\n",
       "      <td>10.200000</td>\n",
       "      <td>1029.400000</td>\n",
       "      <td>824.000000</td>\n",
       "      <td>56.000000</td>\n",
       "      <td>46.135000</td>\n",
       "    </tr>\n",
       "    <tr>\n",
       "      <th>max</th>\n",
       "      <td>540.000000</td>\n",
       "      <td>359.400000</td>\n",
       "      <td>200.100000</td>\n",
       "      <td>247.000000</td>\n",
       "      <td>32.200000</td>\n",
       "      <td>1145.000000</td>\n",
       "      <td>992.600000</td>\n",
       "      <td>365.000000</td>\n",
       "      <td>82.600000</td>\n",
       "    </tr>\n",
       "  </tbody>\n",
       "</table>\n",
       "</div>"
      ],
      "text/plain": [
       "            Cement  Blast Furnace Slag      Fly Ash        Water  \\\n",
       "count  1030.000000         1030.000000  1030.000000  1030.000000   \n",
       "mean    281.167864           73.895825    54.188350   181.567282   \n",
       "std     104.506364           86.279342    63.997004    21.354219   \n",
       "min     102.000000            0.000000     0.000000   121.800000   \n",
       "25%     192.375000            0.000000     0.000000   164.900000   \n",
       "50%     272.900000           22.000000     0.000000   185.000000   \n",
       "75%     350.000000          142.950000   118.300000   192.000000   \n",
       "max     540.000000          359.400000   200.100000   247.000000   \n",
       "\n",
       "       Superplasticizer  Coarse Aggregate  Fine Aggregate          Age  \\\n",
       "count       1030.000000       1030.000000     1030.000000  1030.000000   \n",
       "mean           6.204660        972.918932      773.580485    45.662136   \n",
       "std            5.973841         77.753954       80.175980    63.169912   \n",
       "min            0.000000        801.000000      594.000000     1.000000   \n",
       "25%            0.000000        932.000000      730.950000     7.000000   \n",
       "50%            6.400000        968.000000      779.500000    28.000000   \n",
       "75%           10.200000       1029.400000      824.000000    56.000000   \n",
       "max           32.200000       1145.000000      992.600000   365.000000   \n",
       "\n",
       "          Strength  \n",
       "count  1030.000000  \n",
       "mean     35.817961  \n",
       "std      16.705742  \n",
       "min       2.330000  \n",
       "25%      23.710000  \n",
       "50%      34.445000  \n",
       "75%      46.135000  \n",
       "max      82.600000  "
      ]
     },
     "execution_count": 4,
     "metadata": {},
     "output_type": "execute_result"
    }
   ],
   "source": [
    "concrete_data.describe()"
   ]
  },
  {
   "cell_type": "code",
   "execution_count": 5,
   "metadata": {
    "button": false,
    "deletable": true,
    "new_sheet": false,
    "run_control": {
     "read_only": false
    }
   },
   "outputs": [
    {
     "data": {
      "text/plain": [
       "Cement                0\n",
       "Blast Furnace Slag    0\n",
       "Fly Ash               0\n",
       "Water                 0\n",
       "Superplasticizer      0\n",
       "Coarse Aggregate      0\n",
       "Fine Aggregate        0\n",
       "Age                   0\n",
       "Strength              0\n",
       "dtype: int64"
      ]
     },
     "execution_count": 5,
     "metadata": {},
     "output_type": "execute_result"
    }
   ],
   "source": [
    "concrete_data.isnull().sum()"
   ]
  },
  {
   "cell_type": "markdown",
   "metadata": {
    "button": false,
    "deletable": true,
    "new_sheet": false,
    "run_control": {
     "read_only": false
    }
   },
   "source": [
    "The data looks very clean and is ready to be used to build our model.\n"
   ]
  },
  {
   "cell_type": "markdown",
   "metadata": {},
   "source": [
    "# PART : A\n",
    "\n",
    "### 1. Building baseline model :\n",
    "    1.1. 1 hidden layer with 10 nodes\n",
    "    1.2. ReLU\n",
    "    1.3. Adam\n",
    "    1.4. MSE\n",
    "\n",
    "### 2. Train Test Split.\n",
    "### 3. Training in 50 epochs.\n",
    "### 4. Evaluatin on test data, finding MSE\n",
    "### 5. Repeating 2-4 50 times and creating list of 50 MSEs.\n",
    "### 6. Finding meand and SD of MSEs."
   ]
  },
  {
   "cell_type": "code",
   "execution_count": 10,
   "metadata": {},
   "outputs": [],
   "source": [
    "import keras\n",
    "from keras.models import Sequential\n",
    "from keras.layers import Dense\n",
    "\n",
    "# define regression model\n",
    "def regression_model():\n",
    "    # create model\n",
    "    model = Sequential()\n",
    "    model.add(Dense(10, activation='relu', input_shape=(n_cols,)))\n",
    "    model.add(Dense(10, activation='relu'))\n",
    "    model.add(Dense(1))\n",
    "    \n",
    "    # compile model\n",
    "    model.compile(optimizer='adam', loss='mean_squared_error')\n",
    "    return model"
   ]
  },
  {
   "cell_type": "code",
   "execution_count": 11,
   "metadata": {},
   "outputs": [],
   "source": [
    "from sklearn.model_selection import train_test_split\n",
    "# splitting data\n",
    "concrete_data_columns = concrete_data.columns\n",
    "\n",
    "predictors = concrete_data[concrete_data_columns[concrete_data_columns != 'Strength']] # all columns except Strength\n",
    "target = concrete_data['Strength'] # Strength column\n",
    "\n",
    "# train_test_split\n",
    "X_train, X_test, y_train, y_test = train_test_split(predictors, target, test_size = 0.2)"
   ]
  },
  {
   "cell_type": "code",
   "execution_count": 12,
   "metadata": {},
   "outputs": [
    {
     "data": {
      "text/html": [
       "<div>\n",
       "<style scoped>\n",
       "    .dataframe tbody tr th:only-of-type {\n",
       "        vertical-align: middle;\n",
       "    }\n",
       "\n",
       "    .dataframe tbody tr th {\n",
       "        vertical-align: top;\n",
       "    }\n",
       "\n",
       "    .dataframe thead th {\n",
       "        text-align: right;\n",
       "    }\n",
       "</style>\n",
       "<table border=\"1\" class=\"dataframe\">\n",
       "  <thead>\n",
       "    <tr style=\"text-align: right;\">\n",
       "      <th></th>\n",
       "      <th>Cement</th>\n",
       "      <th>Blast Furnace Slag</th>\n",
       "      <th>Fly Ash</th>\n",
       "      <th>Water</th>\n",
       "      <th>Superplasticizer</th>\n",
       "      <th>Coarse Aggregate</th>\n",
       "      <th>Fine Aggregate</th>\n",
       "      <th>Age</th>\n",
       "    </tr>\n",
       "  </thead>\n",
       "  <tbody>\n",
       "    <tr>\n",
       "      <th>0</th>\n",
       "      <td>540.0</td>\n",
       "      <td>0.0</td>\n",
       "      <td>0.0</td>\n",
       "      <td>162.0</td>\n",
       "      <td>2.5</td>\n",
       "      <td>1040.0</td>\n",
       "      <td>676.0</td>\n",
       "      <td>28</td>\n",
       "    </tr>\n",
       "    <tr>\n",
       "      <th>1</th>\n",
       "      <td>540.0</td>\n",
       "      <td>0.0</td>\n",
       "      <td>0.0</td>\n",
       "      <td>162.0</td>\n",
       "      <td>2.5</td>\n",
       "      <td>1055.0</td>\n",
       "      <td>676.0</td>\n",
       "      <td>28</td>\n",
       "    </tr>\n",
       "    <tr>\n",
       "      <th>2</th>\n",
       "      <td>332.5</td>\n",
       "      <td>142.5</td>\n",
       "      <td>0.0</td>\n",
       "      <td>228.0</td>\n",
       "      <td>0.0</td>\n",
       "      <td>932.0</td>\n",
       "      <td>594.0</td>\n",
       "      <td>270</td>\n",
       "    </tr>\n",
       "    <tr>\n",
       "      <th>3</th>\n",
       "      <td>332.5</td>\n",
       "      <td>142.5</td>\n",
       "      <td>0.0</td>\n",
       "      <td>228.0</td>\n",
       "      <td>0.0</td>\n",
       "      <td>932.0</td>\n",
       "      <td>594.0</td>\n",
       "      <td>365</td>\n",
       "    </tr>\n",
       "    <tr>\n",
       "      <th>4</th>\n",
       "      <td>198.6</td>\n",
       "      <td>132.4</td>\n",
       "      <td>0.0</td>\n",
       "      <td>192.0</td>\n",
       "      <td>0.0</td>\n",
       "      <td>978.4</td>\n",
       "      <td>825.5</td>\n",
       "      <td>360</td>\n",
       "    </tr>\n",
       "  </tbody>\n",
       "</table>\n",
       "</div>"
      ],
      "text/plain": [
       "   Cement  Blast Furnace Slag  Fly Ash  Water  Superplasticizer  \\\n",
       "0   540.0                 0.0      0.0  162.0               2.5   \n",
       "1   540.0                 0.0      0.0  162.0               2.5   \n",
       "2   332.5               142.5      0.0  228.0               0.0   \n",
       "3   332.5               142.5      0.0  228.0               0.0   \n",
       "4   198.6               132.4      0.0  192.0               0.0   \n",
       "\n",
       "   Coarse Aggregate  Fine Aggregate  Age  \n",
       "0            1040.0           676.0   28  \n",
       "1            1055.0           676.0   28  \n",
       "2             932.0           594.0  270  \n",
       "3             932.0           594.0  365  \n",
       "4             978.4           825.5  360  "
      ]
     },
     "execution_count": 12,
     "metadata": {},
     "output_type": "execute_result"
    }
   ],
   "source": [
    "# predictors\n",
    "predictors.head()"
   ]
  },
  {
   "cell_type": "code",
   "execution_count": 13,
   "metadata": {},
   "outputs": [
    {
     "data": {
      "text/plain": [
       "0    79.99\n",
       "1    61.89\n",
       "2    40.27\n",
       "3    41.05\n",
       "4    44.30\n",
       "Name: Strength, dtype: float64"
      ]
     },
     "execution_count": 13,
     "metadata": {},
     "output_type": "execute_result"
    }
   ],
   "source": [
    "# target\n",
    "target.head()"
   ]
  },
  {
   "cell_type": "code",
   "execution_count": 14,
   "metadata": {},
   "outputs": [],
   "source": [
    "# number of predictor columns\n",
    "n_cols = predictors.shape[1] # number of predictors"
   ]
  },
  {
   "cell_type": "code",
   "execution_count": 15,
   "metadata": {},
   "outputs": [
    {
     "name": "stdout",
     "output_type": "stream",
     "text": [
      "7/7 [==============================] - 0s 392us/step\n",
      "7/7 [==============================] - 0s 400us/step\n",
      "7/7 [==============================] - 0s 388us/step\n",
      "7/7 [==============================] - 0s 358us/step\n",
      "7/7 [==============================] - 0s 346us/step\n",
      "7/7 [==============================] - 0s 374us/step\n",
      "7/7 [==============================] - 0s 385us/step\n",
      "7/7 [==============================] - 0s 379us/step\n",
      "7/7 [==============================] - 0s 378us/step\n",
      "7/7 [==============================] - 0s 403us/step\n",
      "7/7 [==============================] - 0s 343us/step\n",
      "7/7 [==============================] - 0s 406us/step\n",
      "7/7 [==============================] - 0s 383us/step\n",
      "7/7 [==============================] - 0s 324us/step\n",
      "7/7 [==============================] - 0s 347us/step\n",
      "7/7 [==============================] - 0s 331us/step\n",
      "7/7 [==============================] - 0s 347us/step\n",
      "7/7 [==============================] - 0s 378us/step\n",
      "7/7 [==============================] - 0s 365us/step\n",
      "7/7 [==============================] - 0s 325us/step\n",
      "7/7 [==============================] - 0s 342us/step\n",
      "7/7 [==============================] - 0s 340us/step\n",
      "7/7 [==============================] - 0s 336us/step\n",
      "7/7 [==============================] - 0s 365us/step\n",
      "7/7 [==============================] - 0s 334us/step\n",
      "7/7 [==============================] - 0s 342us/step\n",
      "7/7 [==============================] - 0s 397us/step\n",
      "7/7 [==============================] - 0s 329us/step\n",
      "7/7 [==============================] - 0s 391us/step\n",
      "7/7 [==============================] - 0s 354us/step\n",
      "7/7 [==============================] - 0s 370us/step\n",
      "7/7 [==============================] - 0s 434us/step\n",
      "7/7 [==============================] - 0s 343us/step\n",
      "7/7 [==============================] - 0s 783us/step\n",
      "7/7 [==============================] - 0s 383us/step\n",
      "7/7 [==============================] - 0s 338us/step\n",
      "7/7 [==============================] - 0s 384us/step\n",
      "7/7 [==============================] - 0s 370us/step\n",
      "7/7 [==============================] - 0s 469us/step\n",
      "7/7 [==============================] - 0s 373us/step\n",
      "7/7 [==============================] - 0s 445us/step\n",
      "7/7 [==============================] - 0s 401us/step\n",
      "7/7 [==============================] - 0s 344us/step\n",
      "7/7 [==============================] - 0s 363us/step\n",
      "7/7 [==============================] - 0s 339us/step\n",
      "7/7 [==============================] - 0s 350us/step\n",
      "7/7 [==============================] - 0s 346us/step\n",
      "7/7 [==============================] - 0s 314us/step\n",
      "7/7 [==============================] - 0s 344us/step\n",
      "7/7 [==============================] - 0s 370us/step\n",
      "[146.67812076464614, 90.15180519551306, 60.64791303689099, 43.39411066410939, 39.706094853250605, 42.09299256968533, 37.933439451127136, 39.03671324833722, 38.52131726327032, 44.75912962391354, 37.53415731060051, 37.4512031800183, 38.02635567694607, 39.76753500789974, 37.12334832354841, 35.98090939136095, 38.289787965280716, 39.25955443513523, 38.147944578114426, 36.36263111102181, 37.554542644034434, 40.27078522901137, 39.51232577878876, 36.048989987580434, 36.02198599805725, 39.0065162906471, 37.84192895363892, 36.15224942116802, 41.13711928462836, 39.11387182902592, 37.23261406865879, 38.16613117595729, 38.13505828157632, 36.96632828498322, 37.309336112859654, 38.00534436805507, 38.838638558792404, 36.91192918365011, 35.845739549187385, 35.840163160552194, 37.25825091365575, 37.85355357337588, 35.921034569424606, 36.14434235329529, 35.04880048942609, 35.97336781974721, 41.06167187040737, 41.223763466942366, 39.68643670325594, 36.04865738560951]\n"
     ]
    }
   ],
   "source": [
    "# Buidling, Fitting and Evaluating model\n",
    "from sklearn.metrics import mean_squared_error\n",
    "MSEs = []\n",
    "\n",
    "# build the model\n",
    "model = regression_model()\n",
    "\n",
    "for index in range(50) :\n",
    "    \n",
    "    # fit the model\n",
    "    res = model.fit(X_train, y_train, epochs=50, verbose=0)\n",
    "    \n",
    "    # predicting and calculating MSE\n",
    "    y_pred = model.predict(X_test)\n",
    "    MSEs.append(mean_squared_error(y_test, y_pred))\n",
    "\n",
    "print(MSEs)    "
   ]
  },
  {
   "cell_type": "code",
   "execution_count": 16,
   "metadata": {},
   "outputs": [
    {
     "name": "stdout",
     "output_type": "stream",
     "text": [
      "Mean : 41.86\n",
      "Standard Deviation : 17.20\n"
     ]
    }
   ],
   "source": [
    "# finding mean and standard deviation of MSEs.\n",
    "# importing statistics\n",
    "import statistics\n",
    "\n",
    "mean_mse = statistics.mean(MSEs)\n",
    "stdev = statistics.stdev(MSEs)\n",
    "\n",
    "print('Mean : %.2f' % mean_mse)\n",
    "print('Standard Deviation : %.2f' % stdev)"
   ]
  },
  {
   "cell_type": "markdown",
   "metadata": {},
   "source": [
    " "
   ]
  },
  {
   "cell_type": "markdown",
   "metadata": {},
   "source": [
    "# PART : B\n",
    "\n",
    "## Part A with Normalized data"
   ]
  },
  {
   "cell_type": "code",
   "execution_count": 17,
   "metadata": {},
   "outputs": [
    {
     "name": "stdout",
     "output_type": "stream",
     "text": [
      "7/7 [==============================] - 0s 369us/step\n",
      "7/7 [==============================] - 0s 396us/step\n",
      "7/7 [==============================] - 0s 387us/step\n",
      "7/7 [==============================] - 0s 405us/step\n",
      "7/7 [==============================] - 0s 399us/step\n",
      "7/7 [==============================] - 0s 394us/step\n",
      "7/7 [==============================] - 0s 411us/step\n",
      "7/7 [==============================] - 0s 408us/step\n",
      "7/7 [==============================] - 0s 347us/step\n",
      "7/7 [==============================] - 0s 385us/step\n",
      "7/7 [==============================] - 0s 397us/step\n",
      "7/7 [==============================] - 0s 432us/step\n",
      "7/7 [==============================] - 0s 373us/step\n",
      "7/7 [==============================] - 0s 362us/step\n",
      "7/7 [==============================] - 0s 384us/step\n",
      "7/7 [==============================] - 0s 376us/step\n",
      "7/7 [==============================] - 0s 394us/step\n",
      "7/7 [==============================] - 0s 339us/step\n",
      "7/7 [==============================] - 0s 396us/step\n",
      "7/7 [==============================] - 0s 320us/step\n",
      "7/7 [==============================] - 0s 364us/step\n",
      "7/7 [==============================] - 0s 404us/step\n",
      "7/7 [==============================] - 0s 357us/step\n",
      "7/7 [==============================] - 0s 425us/step\n",
      "7/7 [==============================] - 0s 370us/step\n",
      "7/7 [==============================] - 0s 350us/step\n",
      "7/7 [==============================] - 0s 348us/step\n",
      "7/7 [==============================] - 0s 385us/step\n",
      "7/7 [==============================] - 0s 350us/step\n",
      "7/7 [==============================] - 0s 356us/step\n",
      "7/7 [==============================] - 0s 325us/step\n",
      "7/7 [==============================] - 0s 348us/step\n",
      "7/7 [==============================] - 0s 343us/step\n",
      "7/7 [==============================] - 0s 356us/step\n",
      "7/7 [==============================] - 0s 330us/step\n",
      "7/7 [==============================] - 0s 465us/step\n",
      "7/7 [==============================] - 0s 440us/step\n",
      "7/7 [==============================] - 0s 426us/step\n",
      "7/7 [==============================] - 0s 341us/step\n",
      "7/7 [==============================] - 0s 354us/step\n",
      "7/7 [==============================] - 0s 371us/step\n",
      "7/7 [==============================] - 0s 398us/step\n",
      "7/7 [==============================] - 0s 353us/step\n",
      "7/7 [==============================] - 0s 391us/step\n",
      "7/7 [==============================] - 0s 357us/step\n",
      "7/7 [==============================] - 0s 427us/step\n",
      "7/7 [==============================] - 0s 496us/step\n",
      "7/7 [==============================] - 0s 402us/step\n",
      "7/7 [==============================] - 0s 445us/step\n",
      "7/7 [==============================] - 0s 346us/step\n",
      "[104.16897690907767, 54.50541586596538, 41.62055504151261, 37.91637974287171, 36.17117422239982, 34.71829639071134, 33.677447010110605, 32.419575630646875, 32.17116231824734, 31.693549233281804, 31.93192797682759, 31.62452602046483, 31.312140443278437, 31.11305357746709, 29.267788299014615, 28.941468516449884, 28.642527976689777, 28.416337506829894, 28.249193487496633, 27.683896684319357, 27.52055348628294, 28.135822577732053, 27.49231785116721, 27.19731945390886, 27.267392050410024, 26.422055546092018, 26.607335442932367, 26.465084044589698, 26.608118116164807, 26.72265731899872, 26.270020535087188, 25.937515579260946, 25.59744155766591, 26.10030082528517, 26.542560624804235, 25.57762971590291, 25.332321631716297, 25.661284492123265, 25.593150607550253, 24.96264100906396, 24.949107765311457, 25.996268889876124, 24.63765898054062, 24.610761037864645, 24.431265124514265, 24.51595814937806, 24.50087009549758, 25.11437103110908, 24.36834584517608, 25.150447914812123]\n",
      "CPU times: user 22.5 s, sys: 3.91 s, total: 26.4 s\n",
      "Wall time: 19.7 s\n"
     ]
    }
   ],
   "source": [
    "%%time\n",
    "# Normalizing data\n",
    "predictors_norm = (predictors - predictors.mean()) / predictors.std()\n",
    "n_cols = predictors_norm.shape[1] # number of predictors\n",
    "\n",
    "# train_test_split\n",
    "X_train, X_test, y_train, y_test = train_test_split(predictors_norm, target, test_size = 0.2)\n",
    "\n",
    "# Buidling, Fitting and Evaluating model\n",
    "from sklearn.metrics import mean_squared_error\n",
    "MSEsB = []\n",
    "\n",
    "# build the model\n",
    "modelB = regression_model()\n",
    "\n",
    "for index in range(50) :\n",
    "    \n",
    "    # fit the model\n",
    "    modelB.fit(X_train, y_train, epochs=50, verbose=0)\n",
    "    \n",
    "    # predicting and calculating MSE\n",
    "    y_pred = modelB.predict(X_test)\n",
    "    MSEsB.append(mean_squared_error(y_test, y_pred))\n",
    "\n",
    "    \n",
    "print(MSEsB)"
   ]
  },
  {
   "cell_type": "code",
   "execution_count": 18,
   "metadata": {},
   "outputs": [
    {
     "name": "stdout",
     "output_type": "stream",
     "text": [
      "Mean : 30.25\n",
      "Standard Deviation : 11.91\n"
     ]
    }
   ],
   "source": [
    "# finding mean and standard deviation of MSEs.\n",
    "# importing statistics\n",
    "import statistics\n",
    "\n",
    "mean_mseB = statistics.mean(MSEsB)\n",
    "stdevB = statistics.stdev(MSEsB)\n",
    "\n",
    "print('Mean : %.2f' % mean_mseB)\n",
    "print('Standard Deviation : %.2f' % stdevB)"
   ]
  },
  {
   "cell_type": "code",
   "execution_count": 19,
   "metadata": {},
   "outputs": [
    {
     "name": "stdout",
     "output_type": "stream",
     "text": [
      "Difference of means of Model A and Model B is {} 11.60925141604362\n"
     ]
    }
   ],
   "source": [
    "# Difference of means of A and B model\n",
    "print('Difference of means of Model A and Model B is {}', abs(mean_mseB - mean_mse))"
   ]
  },
  {
   "cell_type": "markdown",
   "metadata": {},
   "source": [
    "# Part : C\n",
    "\n",
    "### Part B with 100 epochs"
   ]
  },
  {
   "cell_type": "code",
   "execution_count": 20,
   "metadata": {},
   "outputs": [
    {
     "name": "stdout",
     "output_type": "stream",
     "text": [
      "7/7 [==============================] - 0s 399us/step\n",
      "7/7 [==============================] - 0s 359us/step\n",
      "7/7 [==============================] - 0s 382us/step\n",
      "7/7 [==============================] - 0s 343us/step\n",
      "7/7 [==============================] - 0s 394us/step\n",
      "7/7 [==============================] - 0s 390us/step\n",
      "7/7 [==============================] - 0s 338us/step\n",
      "7/7 [==============================] - 0s 348us/step\n",
      "7/7 [==============================] - 0s 357us/step\n",
      "7/7 [==============================] - 0s 434us/step\n",
      "7/7 [==============================] - 0s 363us/step\n",
      "7/7 [==============================] - 0s 334us/step\n",
      "7/7 [==============================] - 0s 368us/step\n",
      "7/7 [==============================] - 0s 370us/step\n",
      "7/7 [==============================] - 0s 323us/step\n",
      "7/7 [==============================] - 0s 321us/step\n",
      "7/7 [==============================] - 0s 331us/step\n",
      "7/7 [==============================] - 0s 357us/step\n",
      "7/7 [==============================] - 0s 377us/step\n",
      "7/7 [==============================] - 0s 393us/step\n",
      "7/7 [==============================] - 0s 353us/step\n",
      "7/7 [==============================] - 0s 331us/step\n",
      "7/7 [==============================] - 0s 350us/step\n",
      "7/7 [==============================] - 0s 328us/step\n",
      "7/7 [==============================] - 0s 405us/step\n",
      "7/7 [==============================] - 0s 350us/step\n",
      "7/7 [==============================] - 0s 380us/step\n",
      "7/7 [==============================] - 0s 309us/step\n",
      "7/7 [==============================] - 0s 404us/step\n",
      "7/7 [==============================] - 0s 358us/step\n",
      "7/7 [==============================] - 0s 401us/step\n",
      "7/7 [==============================] - 0s 326us/step\n",
      "7/7 [==============================] - 0s 360us/step\n",
      "7/7 [==============================] - 0s 328us/step\n",
      "7/7 [==============================] - 0s 333us/step\n",
      "7/7 [==============================] - 0s 339us/step\n",
      "7/7 [==============================] - 0s 306us/step\n",
      "7/7 [==============================] - 0s 335us/step\n",
      "7/7 [==============================] - 0s 326us/step\n",
      "7/7 [==============================] - 0s 319us/step\n",
      "7/7 [==============================] - 0s 308us/step\n",
      "7/7 [==============================] - 0s 314us/step\n",
      "7/7 [==============================] - 0s 329us/step\n",
      "7/7 [==============================] - 0s 309us/step\n",
      "7/7 [==============================] - 0s 349us/step\n",
      "7/7 [==============================] - 0s 337us/step\n",
      "7/7 [==============================] - 0s 341us/step\n",
      "7/7 [==============================] - 0s 356us/step\n",
      "7/7 [==============================] - 0s 339us/step\n",
      "7/7 [==============================] - 0s 332us/step\n",
      "[111.10344380476121, 59.600438945123635, 42.25930167339531, 38.43099236306122, 38.09411563610241, 36.0305955354927, 35.671098576880055, 34.976045849487946, 34.37850874908017, 34.11387648492096, 33.502034134207854, 33.12362198489779, 32.6583801804382, 32.31419114916109, 31.357437653815342, 31.789054758250167, 30.969574807057064, 31.324510206024648, 30.967333868124804, 30.757438666591256, 30.601355104702368, 30.849444442694043, 30.816741508580588, 32.199493218185665, 30.851015386777124, 30.76409496888257, 30.659643669126343, 30.31168299132048, 29.876734909108865, 30.132353457686502, 29.651158438976378, 31.41158862490589, 29.726266522275633, 29.699157185859153, 30.277518770685056, 30.50852769581658, 29.99327823484942, 32.14665872954846, 29.74412548892853, 29.917347352557176, 29.974217115362496, 29.649065680290036, 29.98331239498231, 29.520980656786104, 30.543289339201294, 29.90268478050391, 30.126979710349946, 30.293559394185227, 29.076894656732602, 30.075231352041552]\n",
      "CPU times: user 40.8 s, sys: 7 s, total: 47.8 s\n",
      "Wall time: 35.1 s\n"
     ]
    }
   ],
   "source": [
    "%%time\n",
    "# Normalizing data\n",
    "predictors_norm = (predictors - predictors.mean()) / predictors.std()\n",
    "n_cols = predictors_norm.shape[1] # number of predictors\n",
    "\n",
    "# train_test_split\n",
    "X_train, X_test, y_train, y_test = train_test_split(predictors_norm, target, test_size = 0.2)\n",
    "\n",
    "# Buidling, Fitting and Evaluating model\n",
    "from sklearn.metrics import mean_squared_error\n",
    "MSEsC = []\n",
    "\n",
    "# build the model\n",
    "modelC = regression_model()\n",
    "\n",
    "for index in range(50) :\n",
    "    \n",
    "    # fit the model\n",
    "    modelC.fit(X_train, y_train, epochs=100, verbose=0)\n",
    "    \n",
    "    # predicting and calculating MSE\n",
    "    y_pred = modelC.predict(X_test)\n",
    "    MSEsC.append(mean_squared_error(y_test, y_pred))\n",
    "\n",
    "    \n",
    "print(MSEsC)"
   ]
  },
  {
   "cell_type": "code",
   "execution_count": 21,
   "metadata": {},
   "outputs": [
    {
     "name": "stdout",
     "output_type": "stream",
     "text": [
      "Mean : 33.85\n",
      "Standard Deviation : 12.11\n",
      "Difference of means of Model B and Model C is {} 3.6034485330858814\n"
     ]
    }
   ],
   "source": [
    "# finding mean and standard deviation of MSEs.\n",
    "# importing statistics\n",
    "import statistics\n",
    "\n",
    "mean_mseC = statistics.mean(MSEsC)\n",
    "stdevC = statistics.stdev(MSEsC)\n",
    "\n",
    "print('Mean : %.2f' % mean_mseC)\n",
    "print('Standard Deviation : %.2f' % stdevC)\n",
    "\n",
    "# Difference of means of A and B model\n",
    "print('Difference of means of Model B and Model C is {}', abs(mean_mseB - mean_mseC))"
   ]
  },
  {
   "cell_type": "markdown",
   "metadata": {},
   "source": [
    "# Part : D\n",
    "### Part D is Part B with Three hidden layers, each of 10 nodes and ReLU activation function."
   ]
  },
  {
   "cell_type": "code",
   "execution_count": 22,
   "metadata": {},
   "outputs": [],
   "source": [
    "# define regression model\n",
    "def regression_model_D():\n",
    "    # create model\n",
    "    modelD = Sequential()\n",
    "    modelD.add(Dense(10, activation='relu', input_shape=(n_cols,)))\n",
    "    modelD.add(Dense(10, activation='relu')) # HL1\n",
    "    modelD.add(Dense(10, activation='relu')) # HL2\n",
    "    modelD.add(Dense(10, activation='relu')) # HL3\n",
    "    modelD.add(Dense(1))\n",
    "    \n",
    "    # compile model\n",
    "    modelD.compile(optimizer='adam', loss='mean_squared_error')\n",
    "    return modelD"
   ]
  },
  {
   "cell_type": "code",
   "execution_count": 23,
   "metadata": {},
   "outputs": [
    {
     "name": "stdout",
     "output_type": "stream",
     "text": [
      "7/7 [==============================] - 0s 411us/step\n",
      "7/7 [==============================] - 0s 407us/step\n",
      "7/7 [==============================] - 0s 407us/step\n",
      "7/7 [==============================] - 0s 408us/step\n",
      "7/7 [==============================] - 0s 425us/step\n",
      "7/7 [==============================] - 0s 385us/step\n",
      "7/7 [==============================] - 0s 368us/step\n",
      "7/7 [==============================] - 0s 436us/step\n",
      "7/7 [==============================] - 0s 390us/step\n",
      "7/7 [==============================] - 0s 391us/step\n",
      "7/7 [==============================] - 0s 425us/step\n",
      "7/7 [==============================] - 0s 371us/step\n",
      "7/7 [==============================] - 0s 366us/step\n",
      "7/7 [==============================] - 0s 340us/step\n",
      "7/7 [==============================] - 0s 364us/step\n",
      "7/7 [==============================] - 0s 377us/step\n",
      "7/7 [==============================] - 0s 335us/step\n",
      "7/7 [==============================] - 0s 380us/step\n",
      "7/7 [==============================] - 0s 340us/step\n",
      "7/7 [==============================] - 0s 351us/step\n",
      "7/7 [==============================] - 0s 346us/step\n",
      "7/7 [==============================] - 0s 346us/step\n",
      "7/7 [==============================] - 0s 348us/step\n",
      "7/7 [==============================] - 0s 319us/step\n",
      "7/7 [==============================] - 0s 340us/step\n",
      "7/7 [==============================] - 0s 433us/step\n",
      "7/7 [==============================] - 0s 329us/step\n",
      "7/7 [==============================] - 0s 333us/step\n",
      "7/7 [==============================] - 0s 367us/step\n",
      "7/7 [==============================] - 0s 356us/step\n",
      "7/7 [==============================] - 0s 352us/step\n",
      "7/7 [==============================] - 0s 317us/step\n",
      "7/7 [==============================] - 0s 318us/step\n",
      "7/7 [==============================] - 0s 335us/step\n",
      "7/7 [==============================] - 0s 338us/step\n",
      "7/7 [==============================] - 0s 316us/step\n",
      "7/7 [==============================] - 0s 341us/step\n",
      "7/7 [==============================] - 0s 322us/step\n",
      "7/7 [==============================] - 0s 378us/step\n",
      "7/7 [==============================] - 0s 434us/step\n",
      "7/7 [==============================] - 0s 327us/step\n",
      "7/7 [==============================] - 0s 383us/step\n",
      "7/7 [==============================] - 0s 329us/step\n",
      "7/7 [==============================] - 0s 343us/step\n",
      "7/7 [==============================] - 0s 365us/step\n",
      "7/7 [==============================] - 0s 383us/step\n",
      "7/7 [==============================] - 0s 382us/step\n",
      "7/7 [==============================] - 0s 331us/step\n",
      "7/7 [==============================] - 0s 356us/step\n",
      "7/7 [==============================] - 0s 386us/step\n",
      "[65.56721548150381, 39.39155738306632, 34.73529990465261, 32.86217002829231, 31.16024934844825, 30.98354730825358, 30.301381987708886, 29.365849212766673, 28.679988278895475, 28.96278385113849, 28.20485257422848, 28.366575771078555, 27.885929591880483, 28.079503040282653, 27.78585551240425, 28.707171231593996, 28.872783187801794, 28.271499623976776, 28.9646022169062, 28.299467114644976, 28.873607293916702, 29.307322335138426, 30.041080533136153, 29.145500970225992, 29.08503630901967, 28.668828394538213, 28.533114486704495, 29.504275597080017, 28.49390510481923, 27.909236311087994, 27.4093122566495, 28.122380059169124, 27.681079873048677, 27.312891420896488, 27.56198649964784, 27.621896015628646, 27.163841926538904, 27.105943126636987, 27.406187431590094, 27.85685434620073, 28.084843612240252, 27.728966904235936, 27.78505444922237, 28.022061428083028, 28.586845974151135, 28.715251606100086, 29.10992942337567, 28.70151923634619, 28.852140496730474, 28.363089589664014]\n",
      "CPU times: user 22.8 s, sys: 3.4 s, total: 26.2 s\n",
      "Wall time: 19.9 s\n"
     ]
    }
   ],
   "source": [
    "%%time\n",
    "# Normalizing data\n",
    "predictors_norm = (predictors - predictors.mean()) / predictors.std()\n",
    "n_cols = predictors_norm.shape[1] # number of predictors\n",
    "\n",
    "# train_test_split\n",
    "X_train, X_test, y_train, y_test = train_test_split(predictors_norm, target, test_size = 0.2)\n",
    "\n",
    "# Buidling, Fitting and Evaluating model\n",
    "from sklearn.metrics import mean_squared_error\n",
    "MSEsD = []\n",
    "\n",
    "# build the model\n",
    "modelD = regression_model_D()\n",
    "\n",
    "for index in range(50) :\n",
    "    \n",
    "    # fit the model\n",
    "    modelD.fit(X_train, y_train, epochs=50, verbose=0)\n",
    "    \n",
    "    # predicting and calculating MSE\n",
    "    y_pred = modelD.predict(X_test)\n",
    "    MSEsD.append(mean_squared_error(y_test, y_pred))\n",
    "\n",
    "    \n",
    "print(MSEsD)"
   ]
  },
  {
   "cell_type": "code",
   "execution_count": 24,
   "metadata": {},
   "outputs": [
    {
     "name": "stdout",
     "output_type": "stream",
     "text": [
      "Mean : 29.68\n",
      "Standard Deviation : 5.56\n",
      "Difference of means of Model B and Model D is {} 0.5666340898626885\n"
     ]
    }
   ],
   "source": [
    "# finding mean and standard deviation of MSEs.\n",
    "# importing statistics\n",
    "import statistics\n",
    "\n",
    "mean_mseD = statistics.mean(MSEsD)\n",
    "stdevD = statistics.stdev(MSEsD)\n",
    "\n",
    "print('Mean : %.2f' % mean_mseD)\n",
    "print('Standard Deviation : %.2f' % stdevD)\n",
    "\n",
    "# Difference of means of B and D model\n",
    "print('Difference of means of Model B and Model D is {}', abs(mean_mseB - mean_mseD))"
   ]
  },
  {
   "cell_type": "markdown",
   "metadata": {},
   "source": [
    "# End of Notebook"
   ]
  }
 ],
 "metadata": {
  "kernelspec": {
   "display_name": "base",
   "language": "python",
   "name": "python3"
  },
  "language_info": {
   "codemirror_mode": {
    "name": "ipython",
    "version": 3
   },
   "file_extension": ".py",
   "mimetype": "text/x-python",
   "name": "python",
   "nbconvert_exporter": "python",
   "pygments_lexer": "ipython3",
   "version": "3.10.9"
  }
 },
 "nbformat": 4,
 "nbformat_minor": 4
}
