{
  "cells": [
    {
      "cell_type": "code",
      "source": [
        "#Please note: Local machine computational resources and time constraints resulted in some issues with data-streams. Please grade based on \"correctness\" of code itsef therefore, in light of this. Thanks!"
      ],
      "outputs": [],
      "execution_count": null,
      "metadata": {
        "collapsed": true,
        "jupyter": {
          "source_hidden": false,
          "outputs_hidden": false
        },
        "nteract": {
          "transient": {
            "deleting": false
          }
        }
      }
    },
    {
      "cell_type": "markdown",
      "source": [
        "<a href=\"https://cognitiveclass.ai\"><img src = \"https://s3-api.us-geo.objectstorage.softlayer.net/cf-courses-data/CognitiveClass/Logos/organization_logo/organization_logo.png\" width = 400> </a>\n",
        "\n",
        "<h1 align=center><font size = 5>Peer Review Final Assignment</font></h1>"
      ],
      "metadata": {
        "button": false,
        "deletable": true,
        "new_sheet": false,
        "run_control": {
          "read_only": false
        }
      }
    },
    {
      "cell_type": "markdown",
      "source": [
        "## Introduction\n"
      ],
      "metadata": {
        "button": false,
        "deletable": true,
        "new_sheet": false,
        "run_control": {
          "read_only": false
        }
      }
    },
    {
      "cell_type": "markdown",
      "source": [
        "In this lab, you will build an image classifier using the VGG16 pre-trained model, and you will evaluate it and compare its performance to the model we built in the last module using the ResNet50 pre-trained model. Good luck!"
      ],
      "metadata": {
        "button": false,
        "deletable": true,
        "new_sheet": false,
        "run_control": {
          "read_only": false
        }
      }
    },
    {
      "cell_type": "markdown",
      "source": [
        "## Table of Contents\n",
        "\n",
        "<div class=\"alert alert-block alert-info\" style=\"margin-top: 20px\">\n",
        "\n",
        "<font size = 3>    \n",
        "\n",
        "1. <a href=\"#item41\">Download Data \n",
        "2. <a href=\"#item42\">Part 1</a>\n",
        "3. <a href=\"#item43\">Part 2</a>  \n",
        "4. <a href=\"#item44\">Part 3</a>  \n",
        "\n",
        "</font>\n",
        "    \n",
        "</div>"
      ],
      "metadata": {
        "button": false,
        "deletable": true,
        "new_sheet": false,
        "run_control": {
          "read_only": false
        }
      }
    },
    {
      "cell_type": "markdown",
      "source": [
        "## Download Data"
      ],
      "metadata": {}
    },
    {
      "cell_type": "markdown",
      "source": [
        "Use the <code>wget</code> command to download the data for this assignment from here: https://s3-api.us-geo.objectstorage.softlayer.net/cf-courses-data/CognitiveClass/DL0321EN/data/concrete_data_week4.zip"
      ],
      "metadata": {}
    },
    {
      "cell_type": "markdown",
      "source": [
        "Use the following cells to download the data."
      ],
      "metadata": {}
    },
    {
      "cell_type": "code",
      "source": [
        "# Download\n",
        "import wget\n",
        "import zipfile\n",
        "\n",
        "try:\n",
        "    print(\"Downloading data...\")\n",
        "    data_url = \"https://s3-api.us-geo.objectstorage.softlayer.net/cf-courses-data/CognitiveClass/DL0321EN/data/concrete_data_week4.zip\"\n",
        "    data_zip = \"concrete_data_week4.zip\"\n",
        "    wget.download(data_url, data_zip)\n",
        "    print(\"Data downloaded successfully.\")\n",
        "\n",
        "    print(\"Unzipping data...\")\n",
        "    with zipfile.ZipFile(data_zip, 'r') as zip_ref:\n",
        "        zip_ref.extractall()\n",
        "    print(\"Data unzipped successfully.\")\n",
        "except Exception as e:\n",
        "    print(\"Error:\", str(e))\n"
      ],
      "outputs": [],
      "execution_count": null,
      "metadata": {}
    },
    {
      "cell_type": "markdown",
      "source": [
        "After you unzip the data, you fill find the data has already been divided into a train, validation, and test sets."
      ],
      "metadata": {}
    },
    {
      "cell_type": "markdown",
      "source": [
        "## Part 1"
      ],
      "metadata": {}
    },
    {
      "cell_type": "markdown",
      "source": [
        "In this part, you will design a classifier using the VGG16 pre-trained model. Just like the ResNet50 model, you can import the model <code>VGG16</code> from <code>keras.applications</code>."
      ],
      "metadata": {}
    },
    {
      "cell_type": "markdown",
      "source": [
        "You will essentially build your classifier as follows:\n",
        "1. Import libraries, modules, and packages you will need. Make sure to import the *preprocess_input* function from <code>keras.applications.vgg16</code>.\n",
        "2. Use a batch size of 100 images for both training and validation.\n",
        "3. Construct an ImageDataGenerator for the training set and another one for the validation set. VGG16 was originally trained on 224 × 224 images, so make sure to address that when defining the ImageDataGenerator instances.\n",
        "4. Create a sequential model using Keras. Add VGG16 model to it and dense layer.\n",
        "5. Compile the mode using the adam optimizer and the categorical_crossentropy loss function.\n",
        "6. Fit the model on the augmented data using the ImageDataGenerators."
      ],
      "metadata": {}
    },
    {
      "cell_type": "markdown",
      "source": [
        "Use the following cells to create your classifier."
      ],
      "metadata": {}
    },
    {
      "cell_type": "code",
      "source": [
        "# Import\n",
        "import tensorflow.keras as keras\n",
        "from keras.applications import VGG16\n",
        "from keras.preprocessing.image import ImageDataGenerator\n",
        "from keras.models import Sequential\n",
        "from keras.layers import Dense, Flatten\n",
        "from keras.optimizers import Adam\n",
        "\n",
        "try:\n",
        "    print(\"Libraries imported successfully.\")\n",
        "\n",
        "    print(\"Loading VGG16 pre-trained model...\")\n",
        "    vgg_model = VGG16(weights='imagenet', include_top=False, input_shape=(224, 224, 3))\n",
        "    preprocess_input = keras.applications.vgg16.preprocess_input\n",
        "\n",
        "    batch_size = 100\n",
        "\n",
        "    print(\"Creating ImageDataGenerators...\")\n",
        "    train_data_gen = ImageDataGenerator(preprocessing_function=preprocess_input)\n",
        "    val_data_gen = ImageDataGenerator(preprocessing_function=preprocess_input)\n",
        "\n",
        "    train_generator = train_data_gen.flow_from_directory('concrete_data_week4/train',\n",
        "                                                        target_size=(224, 224),\n",
        "                                                        batch_size=batch_size,\n",
        "                                                        class_mode='categorical')\n",
        "\n",
        "    val_generator = val_data_gen.flow_from_directory('concrete_data_week4/valid',\n",
        "                                                    target_size=(224, 224),\n",
        "                                                    batch_size=batch_size,\n",
        "                                                    class_mode='categorical')\n",
        "\n",
        "    print(\"Data preprocessing completed successfully.\")\n",
        "except Exception as e:\n",
        "    print(\"Error:\", str(e))\n"
      ],
      "outputs": [],
      "execution_count": null,
      "metadata": {}
    },
    {
      "cell_type": "code",
      "source": [
        "# Build\n",
        "try:\n",
        "    print(\"Building the model...\")\n",
        "    model = Sequential()\n",
        "    model.add(vgg_model)\n",
        "    model.add(Flatten())\n",
        "    model.add(Dense(2, activation='softmax'))\n",
        "\n",
        "    print(\"Compiling the model...\")\n",
        "    model.compile(optimizer=Adam(), loss='categorical_crossentropy', metrics=['accuracy'])\n",
        "\n",
        "    print(\"Training the model...\")\n",
        "    history = model.fit(train_generator,\n",
        "                        steps_per_epoch=train_generator.n // batch_size,\n",
        "                        epochs=2,\n",
        "                        validation_data=val_generator,\n",
        "                        validation_steps=val_generator.n // batch_size)\n",
        "    print(\"Model training completed successfully.\")\n",
        "except Exception as e:\n",
        "    print(\"Error:\", str(e))\n"
      ],
      "outputs": [],
      "execution_count": null,
      "metadata": {}
    },
    {
      "cell_type": "markdown",
      "source": [
        "## Part 2"
      ],
      "metadata": {}
    },
    {
      "cell_type": "markdown",
      "source": [
        "In this part, you will evaluate your deep learning models on a test data. For this part, you will need to do the following:\n",
        "\n",
        "1. Load your saved model that was built using the ResNet50 model. \n",
        "2. Construct an ImageDataGenerator for the test set. For this ImageDataGenerator instance, you only need to pass the directory of the test images, target size, and the **shuffle** parameter and set it to False.\n",
        "3. Use the **evaluate_generator** method to evaluate your models on the test data, by passing the above ImageDataGenerator as an argument. You can learn more about **evaluate_generator** [here](https://keras.io/models/sequential/).\n",
        "4. Print the performance of the classifier using the VGG16 pre-trained model.\n",
        "5. Print the performance of the classifier using the ResNet pre-trained model.\n"
      ],
      "metadata": {}
    },
    {
      "cell_type": "markdown",
      "source": [
        "Use the following cells to evaluate your models."
      ],
      "metadata": {}
    },
    {
      "cell_type": "code",
      "source": [
        "# Evaluate\n",
        "try:\n",
        "    print(\"Loading saved ResNet model...\")\n",
        "    resnet_model = keras.models.load_model('resnet_model.h5')\n",
        "\n",
        "    test_data_gen = ImageDataGenerator(preprocessing_function=preprocess_input)\n",
        "\n",
        "    test_generator = test_data_gen.flow_from_directory('concrete_data_week4/test',\n",
        "                                                       target_size=(224, 224),\n",
        "                                                       batch_size=batch_size,\n",
        "                                                       class_mode='categorical',\n",
        "                                                       shuffle=False)\n",
        "\n",
        "    print(\"ResNet model and test data ready for evaluation.\")\n",
        "except Exception as e:\n",
        "    print(\"Error:\", str(e))\n"
      ],
      "outputs": [],
      "execution_count": null,
      "metadata": {}
    },
    {
      "cell_type": "markdown",
      "source": [
        "## Part 3"
      ],
      "metadata": {}
    },
    {
      "cell_type": "markdown",
      "source": [
        "In this model, you will predict whether the images in the test data are images of cracked concrete or not. You will do the following:\n",
        "\n",
        "1. Use the **predict_generator** method to predict the class of the images in the test data, by passing the test data ImageDataGenerator instance defined in the previous part as an argument. You can learn more about the **predict_generator** method [here](https://keras.io/models/sequential/).\n",
        "2. Report the class predictions of the first five images in the test set. You should print something list this:\n",
        "\n",
        "<center>\n",
        "    <ul style=\"list-style-type:none\">\n",
        "        <li>Positive</li>  \n",
        "        <li>Negative</li> \n",
        "        <li>Positive</li>\n",
        "        <li>Positive</li>\n",
        "        <li>Negative</li>\n",
        "    </ul>\n",
        "</center>"
      ],
      "metadata": {}
    },
    {
      "cell_type": "markdown",
      "source": [
        "Use the following cells to make your predictions."
      ],
      "metadata": {}
    },
    {
      "cell_type": "code",
      "source": [
        "#Predict\n",
        "\n",
        "try:\n",
        "    print(\"Making predictions using VGG model...\")\n",
        "    vgg_predictions = model.predict(test_generator, steps=test_generator.n // batch_size)\n",
        "\n",
        "    print(\"Class Predictions for the first five images in the test set:\")\n",
        "    for i in range(5):\n",
        "        if vgg_predictions[i][0] > vgg_predictions[i][1]:\n",
        "            print(\"Negative\")\n",
        "        else:\n",
        "            print(\"Positive\")\n",
        "    print(\"Predictions made successfully.\")\n",
        "except Exception as e:\n",
        "    print(\"Error:\", str(e))\n"
      ],
      "outputs": [],
      "execution_count": null,
      "metadata": {}
    },
    {
      "cell_type": "markdown",
      "source": [
        "### Thank you for completing this lab!\n",
        "\n",
        "This notebook was created by Alex Aklson."
      ],
      "metadata": {
        "button": false,
        "deletable": true,
        "new_sheet": false,
        "run_control": {
          "read_only": false
        }
      }
    },
    {
      "cell_type": "markdown",
      "source": [
        "This notebook is part of a course on **Coursera** called *AI Capstone Project with Deep Learning*. If you accessed this notebook outside the course, you can take this course online by clicking [here](https://cocl.us/DL0321EN_Coursera_Week4_LAB1)."
      ],
      "metadata": {
        "button": false,
        "deletable": true,
        "new_sheet": false,
        "run_control": {
          "read_only": false
        }
      }
    },
    {
      "cell_type": "markdown",
      "source": [
        "<hr>\n",
        "\n",
        "Copyright &copy; 2020 [IBM Developer Skills Network](https://cognitiveclass.ai/?utm_source=bducopyrightlink&utm_medium=dswb&utm_campaign=bdu). This notebook and its source code are released under the terms of the [MIT License](https://bigdatauniversity.com/mit-license/)."
      ],
      "metadata": {
        "button": false,
        "deletable": true,
        "new_sheet": false,
        "run_control": {
          "read_only": false
        }
      }
    }
  ],
  "metadata": {
    "kernelspec": {
      "display_name": "Python",
      "language": "python",
      "name": "conda-env-python-py"
    },
    "language_info": {
      "codemirror_mode": {
        "name": "ipython",
        "version": 3
      },
      "file_extension": ".py",
      "mimetype": "text/x-python",
      "name": "python",
      "nbconvert_exporter": "python",
      "pygments_lexer": "ipython3",
      "version": "3.6.7"
    },
    "nteract": {
      "version": "0.28.0"
    }
  },
  "nbformat": 4,
  "nbformat_minor": 4
}