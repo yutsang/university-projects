{
 "cells": [
  {
   "cell_type": "code",
   "execution_count": 19,
   "metadata": {},
   "outputs": [],
   "source": [
    "import pandas as pd\n",
    "import pdfplumber"
   ]
  },
  {
   "cell_type": "code",
   "execution_count": 20,
   "metadata": {},
   "outputs": [],
   "source": [
    "#pip install pdfplumber"
   ]
  },
  {
   "cell_type": "code",
   "execution_count": 21,
   "metadata": {},
   "outputs": [
    {
     "data": {
      "text/plain": [
       "PosixPath('/Users/ytsang/Desktop/Sanction List')"
      ]
     },
     "execution_count": 21,
     "metadata": {},
     "output_type": "execute_result"
    }
   ],
   "source": [
    "import pathlib\n",
    "pathlib.Path().resolve()"
   ]
  },
  {
   "cell_type": "code",
   "execution_count": 22,
   "metadata": {},
   "outputs": [],
   "source": [
    "import sys\n",
    "\n",
    "Path = os.getcwd()"
   ]
  },
  {
   "cell_type": "code",
   "execution_count": 23,
   "metadata": {},
   "outputs": [],
   "source": [
    "def stringRefining(testString):\n",
    " \n",
    "    output = testString[:8] + testString[13:]\n",
    "    output = output.split(\" \")\n",
    "\n",
    "    for i in range(len(output)):\n",
    "        output[i] = output[i].lstrip()\n",
    "\n",
    "        if \"1:\" in output[i]:\n",
    "            output[i] = output[i].replace(\"1:\", '')\n",
    "        if \"2:\" in output[i]:\n",
    "            output[i] = output[i].replace(\"2:\", '')\n",
    "        if \"3:\" in output[i]:\n",
    "            output[i] = output[i].replace(\"3:\", '')\n",
    "        if \"4:\" in output[i]:\n",
    "            output[i] = output[i].replace(\"4:\", '')\n",
    "        if \"5:\" in output[i]:\n",
    "            output[i] = output[i].replace(\"5:\", '')\n",
    "        if \"6:\" in output[i]:\n",
    "            output[i] = output[i].replace(\"6:\", '')\n",
    "        if \":\" in output[i]:\n",
    "            output[i] = output[i].replace(\":\", '')\n",
    "        if \"na\" in output[i]:\n",
    "            output[i] = output[i].replace(\"na\", '')\n",
    "\n",
    "    output = list(filter(None, output))\n",
    "    return ' '.join(output)"
   ]
  },
  {
   "cell_type": "code",
   "execution_count": 24,
   "metadata": {},
   "outputs": [],
   "source": [
    "import re\n",
    "import glob, os\n",
    "\n",
    "for fileName in glob.glob(\"*.pdf\"):\n",
    "    if fileName.endswith(\".pdf\"):\n",
    "        stinfo = os.stat(fileName)\n",
    "        last_mtime = stinfo.st_mtime\n",
    "        last_atime = stinfo.st_atime\n",
    "\n",
    "        page_count = 0\n",
    "        page=''\n",
    "        current_page = ''\n",
    "        content = []\n",
    "\n",
    "        #page_number = 3\n",
    "        idx = 0\n",
    "\n",
    "        #Path = '/Users/ytsang/Desktop/Sanction List/'\n",
    "        #fileName = 'HKICPA_UN Consolidated list_20200128.pdf'\n",
    "        #fileName = input(\"Enter your file name to be converted: \")\n",
    "\n",
    "        with pdfplumber.open(Path + '/' + fileName) as pdf:\n",
    "            page_number = len(pdf.pages)\n",
    "            while page_count < page_number:\n",
    "                current_page = pdf.pages[page_count].extract_text()\n",
    "                page = page + current_page\n",
    "\n",
    "                #lines = current_page.readlines()\n",
    "                lines = current_page.split('\\n')\n",
    "\n",
    "                for line in lines:\n",
    "            \n",
    "                    if \"Name:\" in line:\n",
    "                        if \"(original script)\" not in line: \n",
    "                            content.insert(idx, line)\n",
    "                            idx +=1\n",
    "\n",
    "                page_count = page_count + 1\n",
    "\n",
    "\n",
    "        sanctionList = pd.DataFrame()\n",
    "\n",
    "        for i in range(len(content)):\n",
    "            content[i] = stringRefining(content[i])\n",
    "            sanctionList = sanctionList.append({'Code': content[i][:7], 'Name': content[i][8:]}, ignore_index = True)\n",
    "\n",
    "        output_filename = fileName[:-4] +'.csv'\n",
    "        sanctionList.to_csv(output_filename, index=False)\n",
    "\n",
    "        last_mtime += 100\n",
    "        last_atime += 100\n",
    "\n",
    "        os.utime(output_filename, (last_atime, last_mtime))\n"
   ]
  }
 ],
 "metadata": {
  "interpreter": {
   "hash": "750f7130a0ed5887341392c7bdb5265c945b64bfd064bdaec7ae8d3d01e224ab"
  },
  "kernelspec": {
   "display_name": "Python 3 (ipykernel)",
   "language": "python",
   "name": "python3"
  },
  "language_info": {
   "codemirror_mode": {
    "name": "ipython",
    "version": 3
   },
   "file_extension": ".py",
   "mimetype": "text/x-python",
   "name": "python",
   "nbconvert_exporter": "python",
   "pygments_lexer": "ipython3",
   "version": "3.9.7"
  }
 },
 "nbformat": 4,
 "nbformat_minor": 2
}
