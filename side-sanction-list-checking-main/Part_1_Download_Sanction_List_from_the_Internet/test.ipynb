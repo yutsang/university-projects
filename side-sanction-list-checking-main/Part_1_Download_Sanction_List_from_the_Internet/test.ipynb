{
 "cells": [
  {
   "cell_type": "code",
   "execution_count": 7,
   "metadata": {},
   "outputs": [],
   "source": [
    "import urllib.request\n",
    "from datetime import date\n",
    "\n",
    "def download_file(url, filename):\n",
    "    response = urllib.request.urlopen(URL)\n",
    "    file = open(filename, \"wb\")\n",
    "    file.write(response.read())\n",
    "    file.close()\n",
    "\n",
    "#URL = \"https://scsanctions.un.org/consolidated/\" + \".pdf\"\n",
    "URL = \"https://www.hkex.com.hk/eng/cbbc/download/CBBC10.zip\"\n",
    "Location = \"/Users/ytsang/Desktop/Github/side-sanction-list-checking/Sanction_List/\"\n",
    "Filename = \"HKICPA_UN Consolidated list_\"+str(date.today())+\".zip\"\n",
    "\n",
    "download_file(URL, Location+Filename)"
   ]
  }
 ],
 "metadata": {
  "kernelspec": {
   "display_name": "Python 3.9.7 ('base')",
   "language": "python",
   "name": "python3"
  },
  "language_info": {
   "codemirror_mode": {
    "name": "ipython",
    "version": 3
   },
   "file_extension": ".py",
   "mimetype": "text/x-python",
   "name": "python",
   "nbconvert_exporter": "python",
   "pygments_lexer": "ipython3",
   "version": "3.9.7"
  },
  "orig_nbformat": 4,
  "vscode": {
   "interpreter": {
    "hash": "750f7130a0ed5887341392c7bdb5265c945b64bfd064bdaec7ae8d3d01e224ab"
   }
  }
 },
 "nbformat": 4,
 "nbformat_minor": 2
}
