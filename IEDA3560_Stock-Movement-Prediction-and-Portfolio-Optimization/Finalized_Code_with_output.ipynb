{
  "cells": [
    {
      "cell_type": "markdown",
      "metadata": {
        "id": "tET5PUEiDKC6"
      },
      "source": [
        "# Get Ready for the Libraries"
      ]
    },
    {
      "cell_type": "code",
      "execution_count": null,
      "metadata": {
        "id": "ULStMSdWp4AV"
      },
      "outputs": [],
      "source": [
        "!pip install catboost\n",
        "!pip install yfinance\n",
        "!pip install seaborn\n",
        "!pip install PyPortfolioOpt"
      ]
    },
    {
      "cell_type": "code",
      "execution_count": 2,
      "metadata": {
        "id": "JUNyR4Ylpr7x"
      },
      "outputs": [],
      "source": [
        "import pandas as pd\n",
        "import numpy as np\n",
        "import matplotlib.pyplot as plt\n",
        "import seaborn as sns\n",
        "import yfinance as yf\n",
        "\n",
        "from math import exp\n",
        "from datetime import date,timedelta\n",
        "from catboost import CatBoostRegressor, Pool\n",
        "from sklearn.model_selection import train_test_split\n",
        "from sklearn.linear_model import LinearRegression\n",
        "from pypfopt.risk_models import CovarianceShrinkage\n",
        "from pypfopt import black_litterman, plotting, objective_functions\n",
        "from pypfopt.black_litterman import BlackLittermanModel\n",
        "from pypfopt.efficient_frontier import EfficientFrontier"
      ]
    },
    {
      "cell_type": "markdown",
      "metadata": {
        "id": "4g5F__kADKD5"
      },
      "source": [
        "# Get Ready for the datasets"
      ]
    },
    {
      "cell_type": "code",
      "execution_count": 3,
      "metadata": {
        "colab": {
          "base_uri": "https://localhost:8080/"
        },
        "id": "cwpaoyh47CCJ",
        "outputId": "8441580b-393a-41ea-e501-5c0a1bd432c6"
      },
      "outputs": [
        {
          "name": "stdout",
          "output_type": "stream",
          "text": [
            "/usr/local/lib/python3.7/dist-packages/gdown/cli.py:131: FutureWarning: Option `--id` was deprecated in version 4.3.1 and will be removed in 5.0. You don't need to pass it anymore to use a file ID.\n",
            "  category=FutureWarning,\n",
            "Downloading...\n",
            "From: https://drive.google.com/uc?id=1qLoKEZHEjqvjgBB1CFX62oh7IGJptAk7\n",
            "To: /content/S&P500.csv\n",
            "100% 33.1k/33.1k [00:00<00:00, 30.0MB/s]\n",
            "/usr/local/lib/python3.7/dist-packages/gdown/cli.py:131: FutureWarning: Option `--id` was deprecated in version 4.3.1 and will be removed in 5.0. You don't need to pass it anymore to use a file ID.\n",
            "  category=FutureWarning,\n",
            "Downloading...\n",
            "From: https://drive.google.com/uc?id=1YZmaQNzgpkj-DHbyFUhzzSDXKajabViF\n",
            "To: /content/market_cap.csv\n",
            "100% 7.90k/7.90k [00:00<00:00, 8.86MB/s]\n",
            "/usr/local/lib/python3.7/dist-packages/gdown/cli.py:131: FutureWarning: Option `--id` was deprecated in version 4.3.1 and will be removed in 5.0. You don't need to pass it anymore to use a file ID.\n",
            "  category=FutureWarning,\n",
            "Downloading...\n",
            "From: https://drive.google.com/uc?id=1KRYPKo4ZEZdbq0RCmIutu6n93FYAjQDN\n",
            "To: /content/risk_free.csv\n",
            "100% 22.1k/22.1k [00:00<00:00, 14.7MB/s]\n"
          ]
        }
      ],
      "source": [
        "!gdown --id 1qLoKEZHEjqvjgBB1CFX62oh7IGJptAk7\n",
        "!gdown --id 1YZmaQNzgpkj-DHbyFUhzzSDXKajabViF\n",
        "!gdown --id 1KRYPKo4ZEZdbq0RCmIutu6n93FYAjQDN"
      ]
    },
    {
      "cell_type": "markdown",
      "metadata": {
        "id": "SHyFsKAj5NAR"
      },
      "source": [
        "# Import data from Yahoo Finance"
      ]
    },
    {
      "cell_type": "code",
      "execution_count": 4,
      "metadata": {
        "id": "gJhlHSrz5K4I"
      },
      "outputs": [],
      "source": [
        "#list of stock codes of S&P stocks\n",
        "tickers_csv = pd.read_csv(\"S&P500.csv\")\n",
        "tickers = list(tickers_csv[\"Symbol\"])\n",
        "\n",
        "#eliminate stocks that are too new and have insuffcient traning data\n",
        "bug_stocks = [\"BRK.B\",\"BF.B\",\"EMBC\",\"CEG\",\"OGN\",\"CARR\",\"OTIS\",\"CTVA\",\"MRNA\",\"FOX\",\"FOXA\",\"DOW\",\"CDAY\",\"IR\"]\n",
        "tickers = list(set(tickers) - set(bug_stocks))"
      ]
    },
    {
      "cell_type": "code",
      "execution_count": 5,
      "metadata": {
        "colab": {
          "base_uri": "https://localhost:8080/"
        },
        "id": "yTRnNeRd5bE1",
        "outputId": "0d320288-5834-47d4-af9f-19506feef95d"
      },
      "outputs": [
        {
          "name": "stdout",
          "output_type": "stream",
          "text": [
            "[*********************100%***********************]  491 of 491 completed\n"
          ]
        }
      ],
      "source": [
        "# Get AdjClose, Close, High, Low, Open, Volume\n",
        "yf.pdr_override()\n",
        "end = pd.to_datetime(\"30/04/2022\")\n",
        "start = end - timedelta(days=5000)\n",
        "data = yf.download(tickers, start=start, end=end,group_by=\"ticker\", interval=\"1d\")"
      ]
    },
    {
      "cell_type": "code",
      "execution_count": null,
      "metadata": {
        "id": "g76caQ_F5cin"
      },
      "outputs": [],
      "source": [
        "data_to_process = pd.DataFrame.copy(data)\n",
        "data_processed = data_to_process.dropna(axis=0)\n",
        "data_processed"
      ]
    },
    {
      "cell_type": "code",
      "execution_count": null,
      "metadata": {
        "colab": {
          "base_uri": "https://localhost:8080/"
        },
        "id": "hjMxnZ4t5eps",
        "outputId": "123591b3-1c96-47e5-f043-91f23d64cdde"
      },
      "outputs": [
        {
          "name": "stdout",
          "output_type": "stream",
          "text": [
            "\r[*********************100%***********************]  1 of 1 completed\n"
          ]
        }
      ],
      "source": [
        "#Get information on SnP for comparison\n",
        "SnP_start=data_processed.index[0].date()\n",
        "SnP_end=date.today()\n",
        "SnP=yf.download('^GSPC',start=SnP_start, end=SnP_end, interval='1d')"
      ]
    },
    {
      "cell_type": "code",
      "execution_count": null,
      "metadata": {
        "colab": {
          "base_uri": "https://localhost:8080/",
          "height": 455
        },
        "id": "yGV1lszG5fzt",
        "outputId": "34a0a229-03ad-467b-8e1e-c1a19ea9b84c"
      },
      "outputs": [
        {
          "data": {
            "text/html": [
              "\n",
              "  <div id=\"df-4573e04f-12fe-417f-9901-74c31bb2b4bd\">\n",
              "    <div class=\"colab-df-container\">\n",
              "      <div>\n",
              "<style scoped>\n",
              "    .dataframe tbody tr th:only-of-type {\n",
              "        vertical-align: middle;\n",
              "    }\n",
              "\n",
              "    .dataframe tbody tr th {\n",
              "        vertical-align: top;\n",
              "    }\n",
              "\n",
              "    .dataframe thead th {\n",
              "        text-align: right;\n",
              "    }\n",
              "</style>\n",
              "<table border=\"1\" class=\"dataframe\">\n",
              "  <thead>\n",
              "    <tr style=\"text-align: right;\">\n",
              "      <th></th>\n",
              "      <th>Open</th>\n",
              "      <th>High</th>\n",
              "      <th>Low</th>\n",
              "      <th>Close</th>\n",
              "      <th>Adj Close</th>\n",
              "      <th>Volume</th>\n",
              "      <th>SnP Log Return</th>\n",
              "    </tr>\n",
              "    <tr>\n",
              "      <th>Date</th>\n",
              "      <th></th>\n",
              "      <th></th>\n",
              "      <th></th>\n",
              "      <th></th>\n",
              "      <th></th>\n",
              "      <th></th>\n",
              "      <th></th>\n",
              "    </tr>\n",
              "  </thead>\n",
              "  <tbody>\n",
              "    <tr>\n",
              "      <th>2016-11-10</th>\n",
              "      <td>2167.489990</td>\n",
              "      <td>2182.300049</td>\n",
              "      <td>2151.169922</td>\n",
              "      <td>2167.479980</td>\n",
              "      <td>2167.479980</td>\n",
              "      <td>6451640000</td>\n",
              "      <td>NaN</td>\n",
              "    </tr>\n",
              "    <tr>\n",
              "      <th>2016-11-11</th>\n",
              "      <td>2162.709961</td>\n",
              "      <td>2165.919922</td>\n",
              "      <td>2152.489990</td>\n",
              "      <td>2164.449951</td>\n",
              "      <td>2164.449951</td>\n",
              "      <td>4988050000</td>\n",
              "      <td>-0.001399</td>\n",
              "    </tr>\n",
              "    <tr>\n",
              "      <th>2016-11-14</th>\n",
              "      <td>2165.639893</td>\n",
              "      <td>2171.360107</td>\n",
              "      <td>2156.080078</td>\n",
              "      <td>2164.199951</td>\n",
              "      <td>2164.199951</td>\n",
              "      <td>5367200000</td>\n",
              "      <td>-0.000116</td>\n",
              "    </tr>\n",
              "    <tr>\n",
              "      <th>2016-11-15</th>\n",
              "      <td>2168.290039</td>\n",
              "      <td>2180.840088</td>\n",
              "      <td>2166.379883</td>\n",
              "      <td>2180.389893</td>\n",
              "      <td>2180.389893</td>\n",
              "      <td>4543860000</td>\n",
              "      <td>0.007453</td>\n",
              "    </tr>\n",
              "    <tr>\n",
              "      <th>2016-11-16</th>\n",
              "      <td>2177.530029</td>\n",
              "      <td>2179.219971</td>\n",
              "      <td>2172.199951</td>\n",
              "      <td>2176.939941</td>\n",
              "      <td>2176.939941</td>\n",
              "      <td>3830590000</td>\n",
              "      <td>-0.001584</td>\n",
              "    </tr>\n",
              "    <tr>\n",
              "      <th>...</th>\n",
              "      <td>...</td>\n",
              "      <td>...</td>\n",
              "      <td>...</td>\n",
              "      <td>...</td>\n",
              "      <td>...</td>\n",
              "      <td>...</td>\n",
              "      <td>...</td>\n",
              "    </tr>\n",
              "    <tr>\n",
              "      <th>2022-05-03</th>\n",
              "      <td>4159.779785</td>\n",
              "      <td>4200.100098</td>\n",
              "      <td>4147.080078</td>\n",
              "      <td>4175.479980</td>\n",
              "      <td>4175.479980</td>\n",
              "      <td>3877530000</td>\n",
              "      <td>0.004825</td>\n",
              "    </tr>\n",
              "    <tr>\n",
              "      <th>2022-05-04</th>\n",
              "      <td>4181.180176</td>\n",
              "      <td>4307.660156</td>\n",
              "      <td>4148.910156</td>\n",
              "      <td>4300.169922</td>\n",
              "      <td>4300.169922</td>\n",
              "      <td>4236210000</td>\n",
              "      <td>0.029425</td>\n",
              "    </tr>\n",
              "    <tr>\n",
              "      <th>2022-05-05</th>\n",
              "      <td>4270.430176</td>\n",
              "      <td>4270.430176</td>\n",
              "      <td>4106.009766</td>\n",
              "      <td>4146.870117</td>\n",
              "      <td>4146.870117</td>\n",
              "      <td>4197620000</td>\n",
              "      <td>-0.036301</td>\n",
              "    </tr>\n",
              "    <tr>\n",
              "      <th>2022-05-06</th>\n",
              "      <td>4128.169922</td>\n",
              "      <td>4157.689941</td>\n",
              "      <td>4067.909912</td>\n",
              "      <td>4123.339844</td>\n",
              "      <td>4123.339844</td>\n",
              "      <td>4254300000</td>\n",
              "      <td>-0.005690</td>\n",
              "    </tr>\n",
              "    <tr>\n",
              "      <th>2022-05-09</th>\n",
              "      <td>4081.270020</td>\n",
              "      <td>4081.270020</td>\n",
              "      <td>3975.479980</td>\n",
              "      <td>3991.239990</td>\n",
              "      <td>3991.239990</td>\n",
              "      <td>4746120000</td>\n",
              "      <td>-0.032562</td>\n",
              "    </tr>\n",
              "  </tbody>\n",
              "</table>\n",
              "<p>1382 rows × 7 columns</p>\n",
              "</div>\n",
              "      <button class=\"colab-df-convert\" onclick=\"convertToInteractive('df-4573e04f-12fe-417f-9901-74c31bb2b4bd')\"\n",
              "              title=\"Convert this dataframe to an interactive table.\"\n",
              "              style=\"display:none;\">\n",
              "        \n",
              "  <svg xmlns=\"http://www.w3.org/2000/svg\" height=\"24px\"viewBox=\"0 0 24 24\"\n",
              "       width=\"24px\">\n",
              "    <path d=\"M0 0h24v24H0V0z\" fill=\"none\"/>\n",
              "    <path d=\"M18.56 5.44l.94 2.06.94-2.06 2.06-.94-2.06-.94-.94-2.06-.94 2.06-2.06.94zm-11 1L8.5 8.5l.94-2.06 2.06-.94-2.06-.94L8.5 2.5l-.94 2.06-2.06.94zm10 10l.94 2.06.94-2.06 2.06-.94-2.06-.94-.94-2.06-.94 2.06-2.06.94z\"/><path d=\"M17.41 7.96l-1.37-1.37c-.4-.4-.92-.59-1.43-.59-.52 0-1.04.2-1.43.59L10.3 9.45l-7.72 7.72c-.78.78-.78 2.05 0 2.83L4 21.41c.39.39.9.59 1.41.59.51 0 1.02-.2 1.41-.59l7.78-7.78 2.81-2.81c.8-.78.8-2.07 0-2.86zM5.41 20L4 18.59l7.72-7.72 1.47 1.35L5.41 20z\"/>\n",
              "  </svg>\n",
              "      </button>\n",
              "      \n",
              "  <style>\n",
              "    .colab-df-container {\n",
              "      display:flex;\n",
              "      flex-wrap:wrap;\n",
              "      gap: 12px;\n",
              "    }\n",
              "\n",
              "    .colab-df-convert {\n",
              "      background-color: #E8F0FE;\n",
              "      border: none;\n",
              "      border-radius: 50%;\n",
              "      cursor: pointer;\n",
              "      display: none;\n",
              "      fill: #1967D2;\n",
              "      height: 32px;\n",
              "      padding: 0 0 0 0;\n",
              "      width: 32px;\n",
              "    }\n",
              "\n",
              "    .colab-df-convert:hover {\n",
              "      background-color: #E2EBFA;\n",
              "      box-shadow: 0px 1px 2px rgba(60, 64, 67, 0.3), 0px 1px 3px 1px rgba(60, 64, 67, 0.15);\n",
              "      fill: #174EA6;\n",
              "    }\n",
              "\n",
              "    [theme=dark] .colab-df-convert {\n",
              "      background-color: #3B4455;\n",
              "      fill: #D2E3FC;\n",
              "    }\n",
              "\n",
              "    [theme=dark] .colab-df-convert:hover {\n",
              "      background-color: #434B5C;\n",
              "      box-shadow: 0px 1px 3px 1px rgba(0, 0, 0, 0.15);\n",
              "      filter: drop-shadow(0px 1px 2px rgba(0, 0, 0, 0.3));\n",
              "      fill: #FFFFFF;\n",
              "    }\n",
              "  </style>\n",
              "\n",
              "      <script>\n",
              "        const buttonEl =\n",
              "          document.querySelector('#df-4573e04f-12fe-417f-9901-74c31bb2b4bd button.colab-df-convert');\n",
              "        buttonEl.style.display =\n",
              "          google.colab.kernel.accessAllowed ? 'block' : 'none';\n",
              "\n",
              "        async function convertToInteractive(key) {\n",
              "          const element = document.querySelector('#df-4573e04f-12fe-417f-9901-74c31bb2b4bd');\n",
              "          const dataTable =\n",
              "            await google.colab.kernel.invokeFunction('convertToInteractive',\n",
              "                                                     [key], {});\n",
              "          if (!dataTable) return;\n",
              "\n",
              "          const docLinkHtml = 'Like what you see? Visit the ' +\n",
              "            '<a target=\"_blank\" href=https://colab.research.google.com/notebooks/data_table.ipynb>data table notebook</a>'\n",
              "            + ' to learn more about interactive tables.';\n",
              "          element.innerHTML = '';\n",
              "          dataTable['output_type'] = 'display_data';\n",
              "          await google.colab.output.renderOutput(dataTable, element);\n",
              "          const docLink = document.createElement('div');\n",
              "          docLink.innerHTML = docLinkHtml;\n",
              "          element.appendChild(docLink);\n",
              "        }\n",
              "      </script>\n",
              "    </div>\n",
              "  </div>\n",
              "  "
            ],
            "text/plain": [
              "                   Open         High          Low        Close    Adj Close  \\\n",
              "Date                                                                          \n",
              "2016-11-10  2167.489990  2182.300049  2151.169922  2167.479980  2167.479980   \n",
              "2016-11-11  2162.709961  2165.919922  2152.489990  2164.449951  2164.449951   \n",
              "2016-11-14  2165.639893  2171.360107  2156.080078  2164.199951  2164.199951   \n",
              "2016-11-15  2168.290039  2180.840088  2166.379883  2180.389893  2180.389893   \n",
              "2016-11-16  2177.530029  2179.219971  2172.199951  2176.939941  2176.939941   \n",
              "...                 ...          ...          ...          ...          ...   \n",
              "2022-05-03  4159.779785  4200.100098  4147.080078  4175.479980  4175.479980   \n",
              "2022-05-04  4181.180176  4307.660156  4148.910156  4300.169922  4300.169922   \n",
              "2022-05-05  4270.430176  4270.430176  4106.009766  4146.870117  4146.870117   \n",
              "2022-05-06  4128.169922  4157.689941  4067.909912  4123.339844  4123.339844   \n",
              "2022-05-09  4081.270020  4081.270020  3975.479980  3991.239990  3991.239990   \n",
              "\n",
              "                Volume  SnP Log Return  \n",
              "Date                                    \n",
              "2016-11-10  6451640000             NaN  \n",
              "2016-11-11  4988050000       -0.001399  \n",
              "2016-11-14  5367200000       -0.000116  \n",
              "2016-11-15  4543860000        0.007453  \n",
              "2016-11-16  3830590000       -0.001584  \n",
              "...                ...             ...  \n",
              "2022-05-03  3877530000        0.004825  \n",
              "2022-05-04  4236210000        0.029425  \n",
              "2022-05-05  4197620000       -0.036301  \n",
              "2022-05-06  4254300000       -0.005690  \n",
              "2022-05-09  4746120000       -0.032562  \n",
              "\n",
              "[1382 rows x 7 columns]"
            ]
          },
          "execution_count": 12,
          "metadata": {},
          "output_type": "execute_result"
        }
      ],
      "source": [
        "#Calculate log daily log return of S&P\n",
        "SnP['SnP Log Return']=np.log(SnP['Close'])-np.log(SnP['Close']).shift(1)\n",
        "SnP"
      ]
    },
    {
      "cell_type": "markdown",
      "metadata": {
        "id": "_WGwflra5ien"
      },
      "source": [
        "# Feature Engineering"
      ]
    },
    {
      "cell_type": "code",
      "execution_count": null,
      "metadata": {
        "id": "INsOwxDD5jkY"
      },
      "outputs": [],
      "source": [
        "def find_std(data,period,start_date):\n",
        "\n",
        "    df = data.copy()\n",
        "    end = df.index.get_loc(start_date)\n",
        "    start=end-period\n",
        "    if start>=0:\n",
        "        log_return=df['Log Return'].iloc[start:end]\n",
        "        std=np.std(log_return, ddof=1)\n",
        "        return std\n",
        "    else:\n",
        "        return np.NaN\n",
        "\n",
        "\n",
        "def find_beta(data,period,start_date):\n",
        "\n",
        "    df = data.copy()\n",
        "    end=df.index.get_loc(start_date)\n",
        "    start=end-period\n",
        "    if start>=0:\n",
        "        log_return=df['Log Return'].iloc[start:end].to_numpy()\n",
        "        SnP_log_return=df['SnP Log Return'].iloc[start:end].to_numpy().reshape(-1,1)\n",
        "\n",
        "        regr = LinearRegression()\n",
        "        beta=regr.fit(SnP_log_return,log_return).coef_[0]\n",
        "        return beta\n",
        "    else:\n",
        "        return np.NaN\n",
        "\n",
        "def ShiftNum(var):\n",
        "    if var[1]=='D':\n",
        "        return int(var[0])\n",
        "    elif var[1]=='W':\n",
        "        return int(var[0])*5\n",
        "    elif var[1]=='M':\n",
        "        return int(var[0])*20\n",
        "    elif var[1]=='Y':\n",
        "        return int(var[0])*250\n",
        "    else:\n",
        "        return(\"Please give a str whose format is xD, xW, xM, xY.\")"
      ]
    },
    {
      "cell_type": "code",
      "execution_count": null,
      "metadata": {
        "id": "PzVS4nEL5nCf"
      },
      "outputs": [],
      "source": [
        "stocks={}\n",
        "return_lag=['1D','3D','1W','2W','3W','1M','6W','2M','3M']\n",
        "for stock in tickers:\n",
        "    stocks[stock]=data_processed[stock][['Close']].copy()\n",
        "\n",
        "    #retain stock code as a feature\n",
        "    stocks[stock]['Stock']=[stock]*stocks[stock].shape[0]\n",
        "\n",
        "    #daily log return of stocks\n",
        "    stocks[stock]['Log Return']=np.log(stocks[stock]['Close'])-np.log(stocks[stock]['Close']).shift(1)\n",
        "\n",
        "    #join with SnP return for generating other features \n",
        "    #(SnP return on that day will not be used as feature to avoid data leakage)\n",
        "    stocks[stock]=stocks[stock].join(SnP[['SnP Log Return']], how='left')\n",
        "\n",
        "    #SnP return of yesterday as a feature\n",
        "    stocks[stock]['SnP Log Return_1D']=stocks[stock]['SnP Log Return'].shift(1)\n",
        "    stocks[stock].dropna(inplace=True)\n",
        "\n",
        "    #calculate s.d. of stock return in the past 30 days\n",
        "    stocks[stock]['Volatility']=[ find_std(stocks[stock],30,date) for date in stocks[stock].index]\n",
        "\n",
        "    #calculate beta(a measure of a stock's volatility in relation to the overall market) for the past 30days\n",
        "    stocks[stock]['Beta']=[ find_beta(stocks[stock],30,date) for date in stocks[stock].index]\n",
        "\n",
        "    #Use return from n_days ago as feature\n",
        "    for var in return_lag:\n",
        "        name = 'Return_' + var\n",
        "        stocks[stock][name] =  stocks[stock]['Log Return'].shift(ShiftNum(var))"
      ]
    },
    {
      "cell_type": "code",
      "execution_count": null,
      "metadata": {
        "id": "p-S9Vl7i5pVL"
      },
      "outputs": [],
      "source": [
        "#join information of all stocks in one df\n",
        "cleaned=pd.DataFrame()\n",
        "for stock in tickers:\n",
        "    cleaned=pd.concat([cleaned,stocks[stock]])\n",
        "cleaned.dropna(inplace=True)"
      ]
    },
    {
      "cell_type": "markdown",
      "metadata": {
        "id": "ZGUNIAwDpr7y"
      },
      "source": [
        "# Data Processing"
      ]
    },
    {
      "cell_type": "code",
      "execution_count": null,
      "metadata": {
        "id": "q2v6s6Dnpr7z"
      },
      "outputs": [],
      "source": [
        "# Read csv Files\n",
        "riskfree = pd.read_csv('risk_free.csv')\n",
        "market_cap = pd.read_csv(\"market_cap.csv\").astype(\"int64\")\n",
        "\n",
        "# For cleaned\n",
        "cleaned.index = pd.to_datetime(cleaned.index)\n",
        "SnP_Return = cleaned[[\"SnP Log Return\"]]\n",
        "cleaned = cleaned.drop(columns=[\"SnP Log Return\",\"Close\"],axis=1)\n",
        "cleaned = cleaned.sort_values(by=[\"Stock\",\"Date\"])\n",
        "\n",
        "# For Market Capitalisation\n",
        "market_cap = market_cap.iloc[0]\n",
        "market_cap = market_cap.to_dict()"
      ]
    },
    {
      "cell_type": "code",
      "execution_count": null,
      "metadata": {
        "id": "LXzFzhtYpr7z"
      },
      "outputs": [],
      "source": [
        "# Get list[date] for later looping\n",
        "date_list = cleaned.index\n",
        "date_list = date_list.drop_duplicates()\n",
        "stock_list = cleaned[\"Stock\"]\n",
        "stock_list = stock_list.drop_duplicates()"
      ]
    },
    {
      "cell_type": "code",
      "execution_count": null,
      "metadata": {
        "id": "VjtTVxnw4vVY"
      },
      "outputs": [],
      "source": [
        "SnP_Return = SnP_Return.drop_duplicates()\n",
        "SnP_Return = SnP_Return.reset_index().drop_duplicates().set_index(\"Date\")"
      ]
    },
    {
      "cell_type": "code",
      "execution_count": null,
      "metadata": {
        "id": "ZCe9r07-pr72"
      },
      "outputs": [],
      "source": [
        "log_return_df = cleaned[['Stock','Log Return']].reset_index().set_index(['Stock','Date']).unstack(level=[0])\n",
        "log_return_df = log_return_df[\"Log Return\"]"
      ]
    },
    {
      "cell_type": "code",
      "execution_count": null,
      "metadata": {
        "colab": {
          "base_uri": "https://localhost:8080/"
        },
        "id": "WXRhcixKJPPA",
        "outputId": "1149ccfe-b2e2-4da3-fb78-772fdfc60f59"
      },
      "outputs": [
        {
          "name": "stdout",
          "output_type": "stream",
          "text": [
            "\r[*********************100%***********************]  1 of 1 completed\n"
          ]
        }
      ],
      "source": [
        "# Import SPY Data from API\n",
        "SPY = yf.download('SPY', start=date_list[0], end=date_list[-1])"
      ]
    },
    {
      "cell_type": "markdown",
      "metadata": {
        "id": "BLPTw661DKEk"
      },
      "source": [
        "# Main Body for Machine Learning & Optimisation"
      ]
    },
    {
      "cell_type": "code",
      "execution_count": null,
      "metadata": {
        "colab": {
          "base_uri": "https://localhost:8080/"
        },
        "id": "2gDrLnPgpr73",
        "outputId": "3da30d09-2500-480b-d49c-611c5d447105"
      },
      "outputs": [
        {
          "name": "stdout",
          "output_type": "stream",
          "text": [
            "2021-05-03 00:00:00\n",
            "0:\tlearn: 0.0140153\ttest: 0.0143340\tbest: 0.0143340 (0)\ttotal: 16ms\tremaining: 1.58s\n",
            "1:\tlearn: 0.0138727\ttest: 0.0143407\tbest: 0.0143340 (0)\ttotal: 31.7ms\tremaining: 1.55s\n",
            "2:\tlearn: 0.0137792\ttest: 0.0143471\tbest: 0.0143340 (0)\ttotal: 47ms\tremaining: 1.52s\n",
            "3:\tlearn: 0.0136710\ttest: 0.0143406\tbest: 0.0143340 (0)\ttotal: 62.8ms\tremaining: 1.51s\n",
            "4:\tlearn: 0.0135557\ttest: 0.0143389\tbest: 0.0143340 (0)\ttotal: 78.3ms\tremaining: 1.49s\n",
            "5:\tlearn: 0.0134853\ttest: 0.0143459\tbest: 0.0143340 (0)\ttotal: 93.2ms\tremaining: 1.46s\n",
            "6:\tlearn: 0.0133690\ttest: 0.0143616\tbest: 0.0143340 (0)\ttotal: 108ms\tremaining: 1.44s\n",
            "7:\tlearn: 0.0132900\ttest: 0.0143637\tbest: 0.0143340 (0)\ttotal: 125ms\tremaining: 1.43s\n",
            "8:\tlearn: 0.0132205\ttest: 0.0143689\tbest: 0.0143340 (0)\ttotal: 143ms\tremaining: 1.45s\n",
            "9:\tlearn: 0.0131143\ttest: 0.0143838\tbest: 0.0143340 (0)\ttotal: 158ms\tremaining: 1.43s\n",
            "10:\tlearn: 0.0130516\ttest: 0.0144201\tbest: 0.0143340 (0)\ttotal: 173ms\tremaining: 1.4s\n",
            "Stopped by overfitting detector  (10 iterations wait)\n",
            "\n",
            "bestTest = 0.01433403073\n",
            "bestIteration = 0\n",
            "\n",
            "Shrink model to first 1 iterations.\n"
          ]
        },
        {
          "name": "stderr",
          "output_type": "stream",
          "text": [
            "/usr/local/lib/python3.7/dist-packages/pypfopt/efficient_frontier/efficient_frontier.py:258: UserWarning: max_sharpe transforms the optimization problem so additional objectives may not work as expected.\n",
            "  \"max_sharpe transforms the optimization problem so additional objectives may not work as expected.\"\n",
            "/usr/local/lib/python3.7/dist-packages/cvxpy/problems/problem.py:1334: UserWarning: Solution may be inaccurate. Try another solver, adjusting the solver settings, or solve with verbose=True for more information.\n",
            "  \"Solution may be inaccurate. Try another solver, \"\n"
          ]
        },
        {
          "name": "stdout",
          "output_type": "stream",
          "text": [
            "2021-05-04 00:00:00\n",
            "0:\tlearn: 0.0135968\ttest: 0.0145400\tbest: 0.0145400 (0)\ttotal: 15.8ms\tremaining: 1.56s\n",
            "1:\tlearn: 0.0134891\ttest: 0.0145493\tbest: 0.0145400 (0)\ttotal: 32.5ms\tremaining: 1.59s\n",
            "2:\tlearn: 0.0133765\ttest: 0.0145411\tbest: 0.0145400 (0)\ttotal: 48.3ms\tremaining: 1.56s\n",
            "3:\tlearn: 0.0133056\ttest: 0.0145464\tbest: 0.0145400 (0)\ttotal: 64.8ms\tremaining: 1.55s\n",
            "4:\tlearn: 0.0132108\ttest: 0.0145876\tbest: 0.0145400 (0)\ttotal: 80.4ms\tremaining: 1.53s\n",
            "5:\tlearn: 0.0131074\ttest: 0.0146003\tbest: 0.0145400 (0)\ttotal: 97.7ms\tremaining: 1.53s\n",
            "6:\tlearn: 0.0130255\ttest: 0.0145923\tbest: 0.0145400 (0)\ttotal: 113ms\tremaining: 1.5s\n",
            "7:\tlearn: 0.0129662\ttest: 0.0146160\tbest: 0.0145400 (0)\ttotal: 130ms\tremaining: 1.5s\n",
            "8:\tlearn: 0.0128825\ttest: 0.0146303\tbest: 0.0145400 (0)\ttotal: 146ms\tremaining: 1.47s\n",
            "9:\tlearn: 0.0128190\ttest: 0.0146338\tbest: 0.0145400 (0)\ttotal: 161ms\tremaining: 1.45s\n",
            "10:\tlearn: 0.0127503\ttest: 0.0146433\tbest: 0.0145400 (0)\ttotal: 176ms\tremaining: 1.43s\n",
            "Stopped by overfitting detector  (10 iterations wait)\n",
            "\n",
            "bestTest = 0.01454000881\n",
            "bestIteration = 0\n",
            "\n",
            "Shrink model to first 1 iterations.\n"
          ]
        },
        {
          "name": "stderr",
          "output_type": "stream",
          "text": [
            "/usr/local/lib/python3.7/dist-packages/pypfopt/efficient_frontier/efficient_frontier.py:258: UserWarning: max_sharpe transforms the optimization problem so additional objectives may not work as expected.\n",
            "  \"max_sharpe transforms the optimization problem so additional objectives may not work as expected.\"\n"
          ]
        },
        {
          "name": "stdout",
          "output_type": "stream",
          "text": [
            "2021-05-05 00:00:00\n",
            "0:\tlearn: 0.0145327\ttest: 0.0141698\tbest: 0.0141698 (0)\ttotal: 31.8ms\tremaining: 3.15s\n",
            "1:\tlearn: 0.0143826\ttest: 0.0141867\tbest: 0.0141698 (0)\ttotal: 81.2ms\tremaining: 3.98s\n",
            "2:\tlearn: 0.0142162\ttest: 0.0142056\tbest: 0.0141698 (0)\ttotal: 115ms\tremaining: 3.73s\n",
            "3:\tlearn: 0.0141018\ttest: 0.0142216\tbest: 0.0141698 (0)\ttotal: 167ms\tremaining: 4.01s\n",
            "4:\tlearn: 0.0139654\ttest: 0.0142650\tbest: 0.0141698 (0)\ttotal: 213ms\tremaining: 4.04s\n",
            "5:\tlearn: 0.0138468\ttest: 0.0142944\tbest: 0.0141698 (0)\ttotal: 265ms\tremaining: 4.15s\n",
            "6:\tlearn: 0.0137115\ttest: 0.0143065\tbest: 0.0141698 (0)\ttotal: 310ms\tremaining: 4.12s\n",
            "7:\tlearn: 0.0136002\ttest: 0.0143398\tbest: 0.0141698 (0)\ttotal: 371ms\tremaining: 4.27s\n",
            "8:\tlearn: 0.0134882\ttest: 0.0143878\tbest: 0.0141698 (0)\ttotal: 408ms\tremaining: 4.13s\n",
            "9:\tlearn: 0.0133896\ttest: 0.0144414\tbest: 0.0141698 (0)\ttotal: 441ms\tremaining: 3.96s\n",
            "10:\tlearn: 0.0133018\ttest: 0.0144470\tbest: 0.0141698 (0)\ttotal: 488ms\tremaining: 3.95s\n",
            "Stopped by overfitting detector  (10 iterations wait)\n",
            "\n",
            "bestTest = 0.01416978689\n",
            "bestIteration = 0\n",
            "\n",
            "Shrink model to first 1 iterations.\n"
          ]
        },
        {
          "name": "stderr",
          "output_type": "stream",
          "text": [
            "/usr/local/lib/python3.7/dist-packages/pypfopt/efficient_frontier/efficient_frontier.py:258: UserWarning: max_sharpe transforms the optimization problem so additional objectives may not work as expected.\n",
            "  \"max_sharpe transforms the optimization problem so additional objectives may not work as expected.\"\n",
            "/usr/local/lib/python3.7/dist-packages/cvxpy/problems/problem.py:1334: UserWarning: Solution may be inaccurate. Try another solver, adjusting the solver settings, or solve with verbose=True for more information.\n",
            "  \"Solution may be inaccurate. Try another solver, \"\n"
          ]
        },
        {
          "name": "stdout",
          "output_type": "stream",
          "text": [
            "2021-05-06 00:00:00\n",
            "0:\tlearn: 0.0140889\ttest: 0.0144293\tbest: 0.0144293 (0)\ttotal: 16.7ms\tremaining: 1.65s\n",
            "1:\tlearn: 0.0139576\ttest: 0.0144811\tbest: 0.0144293 (0)\ttotal: 31.9ms\tremaining: 1.56s\n",
            "2:\tlearn: 0.0138190\ttest: 0.0145315\tbest: 0.0144293 (0)\ttotal: 47ms\tremaining: 1.52s\n",
            "3:\tlearn: 0.0137340\ttest: 0.0145807\tbest: 0.0144293 (0)\ttotal: 62.7ms\tremaining: 1.5s\n",
            "4:\tlearn: 0.0135909\ttest: 0.0146245\tbest: 0.0144293 (0)\ttotal: 77.7ms\tremaining: 1.48s\n",
            "5:\tlearn: 0.0134527\ttest: 0.0146607\tbest: 0.0144293 (0)\ttotal: 92.8ms\tremaining: 1.45s\n",
            "6:\tlearn: 0.0133261\ttest: 0.0146646\tbest: 0.0144293 (0)\ttotal: 108ms\tremaining: 1.44s\n",
            "7:\tlearn: 0.0132581\ttest: 0.0147001\tbest: 0.0144293 (0)\ttotal: 123ms\tremaining: 1.41s\n",
            "8:\tlearn: 0.0131496\ttest: 0.0147066\tbest: 0.0144293 (0)\ttotal: 149ms\tremaining: 1.51s\n",
            "9:\tlearn: 0.0130584\ttest: 0.0147324\tbest: 0.0144293 (0)\ttotal: 194ms\tremaining: 1.75s\n",
            "10:\tlearn: 0.0129565\ttest: 0.0147988\tbest: 0.0144293 (0)\ttotal: 238ms\tremaining: 1.93s\n",
            "Stopped by overfitting detector  (10 iterations wait)\n",
            "\n",
            "bestTest = 0.01442926321\n",
            "bestIteration = 0\n",
            "\n",
            "Shrink model to first 1 iterations.\n"
          ]
        },
        {
          "name": "stderr",
          "output_type": "stream",
          "text": [
            "/usr/local/lib/python3.7/dist-packages/pypfopt/efficient_frontier/efficient_frontier.py:258: UserWarning: max_sharpe transforms the optimization problem so additional objectives may not work as expected.\n",
            "  \"max_sharpe transforms the optimization problem so additional objectives may not work as expected.\"\n"
          ]
        },
        {
          "name": "stdout",
          "output_type": "stream",
          "text": [
            "2021-05-07 00:00:00\n",
            "0:\tlearn: 0.0152850\ttest: 0.0138235\tbest: 0.0138235 (0)\ttotal: 55.2ms\tremaining: 5.46s\n",
            "1:\tlearn: 0.0150447\ttest: 0.0138658\tbest: 0.0138235 (0)\ttotal: 70.9ms\tremaining: 3.48s\n",
            "2:\tlearn: 0.0148641\ttest: 0.0138820\tbest: 0.0138235 (0)\ttotal: 86.1ms\tremaining: 2.78s\n",
            "3:\tlearn: 0.0146907\ttest: 0.0139524\tbest: 0.0138235 (0)\ttotal: 102ms\tremaining: 2.44s\n",
            "4:\tlearn: 0.0145456\ttest: 0.0140055\tbest: 0.0138235 (0)\ttotal: 118ms\tremaining: 2.24s\n",
            "5:\tlearn: 0.0144006\ttest: 0.0140110\tbest: 0.0138235 (0)\ttotal: 133ms\tremaining: 2.09s\n",
            "6:\tlearn: 0.0142264\ttest: 0.0140343\tbest: 0.0138235 (0)\ttotal: 149ms\tremaining: 1.98s\n",
            "7:\tlearn: 0.0140629\ttest: 0.0140748\tbest: 0.0138235 (0)\ttotal: 164ms\tremaining: 1.89s\n",
            "8:\tlearn: 0.0139447\ttest: 0.0140880\tbest: 0.0138235 (0)\ttotal: 182ms\tremaining: 1.84s\n",
            "9:\tlearn: 0.0138161\ttest: 0.0141128\tbest: 0.0138235 (0)\ttotal: 197ms\tremaining: 1.77s\n",
            "10:\tlearn: 0.0136810\ttest: 0.0141916\tbest: 0.0138235 (0)\ttotal: 213ms\tremaining: 1.72s\n",
            "Stopped by overfitting detector  (10 iterations wait)\n",
            "\n",
            "bestTest = 0.01382353335\n",
            "bestIteration = 0\n",
            "\n",
            "Shrink model to first 1 iterations.\n"
          ]
        },
        {
          "name": "stderr",
          "output_type": "stream",
          "text": [
            "/usr/local/lib/python3.7/dist-packages/pypfopt/efficient_frontier/efficient_frontier.py:258: UserWarning: max_sharpe transforms the optimization problem so additional objectives may not work as expected.\n",
            "  \"max_sharpe transforms the optimization problem so additional objectives may not work as expected.\"\n"
          ]
        },
        {
          "name": "stdout",
          "output_type": "stream",
          "text": [
            "2021-05-10 00:00:00\n",
            "0:\tlearn: 0.0129849\ttest: 0.0149602\tbest: 0.0149602 (0)\ttotal: 15.8ms\tremaining: 1.56s\n",
            "1:\tlearn: 0.0128762\ttest: 0.0149880\tbest: 0.0149602 (0)\ttotal: 31ms\tremaining: 1.52s\n",
            "2:\tlearn: 0.0127694\ttest: 0.0150084\tbest: 0.0149602 (0)\ttotal: 46.1ms\tremaining: 1.49s\n",
            "3:\tlearn: 0.0126671\ttest: 0.0150434\tbest: 0.0149602 (0)\ttotal: 62ms\tremaining: 1.49s\n",
            "4:\tlearn: 0.0125866\ttest: 0.0150526\tbest: 0.0149602 (0)\ttotal: 77.2ms\tremaining: 1.47s\n",
            "5:\tlearn: 0.0125080\ttest: 0.0150743\tbest: 0.0149602 (0)\ttotal: 92.1ms\tremaining: 1.44s\n",
            "6:\tlearn: 0.0124404\ttest: 0.0150913\tbest: 0.0149602 (0)\ttotal: 107ms\tremaining: 1.42s\n",
            "7:\tlearn: 0.0123865\ttest: 0.0151042\tbest: 0.0149602 (0)\ttotal: 123ms\tremaining: 1.41s\n",
            "8:\tlearn: 0.0123231\ttest: 0.0150892\tbest: 0.0149602 (0)\ttotal: 138ms\tremaining: 1.39s\n",
            "9:\tlearn: 0.0122537\ttest: 0.0151232\tbest: 0.0149602 (0)\ttotal: 153ms\tremaining: 1.38s\n",
            "10:\tlearn: 0.0121762\ttest: 0.0151458\tbest: 0.0149602 (0)\ttotal: 170ms\tremaining: 1.38s\n",
            "Stopped by overfitting detector  (10 iterations wait)\n",
            "\n",
            "bestTest = 0.01496016177\n",
            "bestIteration = 0\n",
            "\n",
            "Shrink model to first 1 iterations.\n"
          ]
        },
        {
          "name": "stderr",
          "output_type": "stream",
          "text": [
            "/usr/local/lib/python3.7/dist-packages/pypfopt/efficient_frontier/efficient_frontier.py:258: UserWarning: max_sharpe transforms the optimization problem so additional objectives may not work as expected.\n",
            "  \"max_sharpe transforms the optimization problem so additional objectives may not work as expected.\"\n",
            "/usr/local/lib/python3.7/dist-packages/cvxpy/problems/problem.py:1334: UserWarning: Solution may be inaccurate. Try another solver, adjusting the solver settings, or solve with verbose=True for more information.\n",
            "  \"Solution may be inaccurate. Try another solver, \"\n"
          ]
        },
        {
          "name": "stdout",
          "output_type": "stream",
          "text": [
            "2021-05-11 00:00:00\n",
            "0:\tlearn: 0.0125398\ttest: 0.0150137\tbest: 0.0150137 (0)\ttotal: 15.8ms\tremaining: 1.56s\n",
            "1:\tlearn: 0.0124334\ttest: 0.0150072\tbest: 0.0150072 (1)\ttotal: 32.3ms\tremaining: 1.58s\n",
            "2:\tlearn: 0.0122816\ttest: 0.0150139\tbest: 0.0150072 (1)\ttotal: 47.3ms\tremaining: 1.53s\n",
            "3:\tlearn: 0.0121755\ttest: 0.0150238\tbest: 0.0150072 (1)\ttotal: 63.5ms\tremaining: 1.52s\n",
            "4:\tlearn: 0.0120675\ttest: 0.0150356\tbest: 0.0150072 (1)\ttotal: 79.3ms\tremaining: 1.51s\n",
            "5:\tlearn: 0.0119654\ttest: 0.0150396\tbest: 0.0150072 (1)\ttotal: 94.4ms\tremaining: 1.48s\n",
            "6:\tlearn: 0.0118624\ttest: 0.0150596\tbest: 0.0150072 (1)\ttotal: 110ms\tremaining: 1.46s\n",
            "7:\tlearn: 0.0117898\ttest: 0.0150717\tbest: 0.0150072 (1)\ttotal: 125ms\tremaining: 1.44s\n",
            "8:\tlearn: 0.0117041\ttest: 0.0150747\tbest: 0.0150072 (1)\ttotal: 141ms\tremaining: 1.43s\n",
            "9:\tlearn: 0.0116319\ttest: 0.0150924\tbest: 0.0150072 (1)\ttotal: 157ms\tremaining: 1.41s\n",
            "10:\tlearn: 0.0115527\ttest: 0.0151024\tbest: 0.0150072 (1)\ttotal: 172ms\tremaining: 1.39s\n",
            "11:\tlearn: 0.0114934\ttest: 0.0151056\tbest: 0.0150072 (1)\ttotal: 188ms\tremaining: 1.38s\n",
            "Stopped by overfitting detector  (10 iterations wait)\n",
            "\n",
            "bestTest = 0.01500716846\n",
            "bestIteration = 1\n",
            "\n",
            "Shrink model to first 2 iterations.\n"
          ]
        },
        {
          "name": "stderr",
          "output_type": "stream",
          "text": [
            "/usr/local/lib/python3.7/dist-packages/pypfopt/efficient_frontier/efficient_frontier.py:258: UserWarning: max_sharpe transforms the optimization problem so additional objectives may not work as expected.\n",
            "  \"max_sharpe transforms the optimization problem so additional objectives may not work as expected.\"\n",
            "/usr/local/lib/python3.7/dist-packages/cvxpy/problems/problem.py:1334: UserWarning: Solution may be inaccurate. Try another solver, adjusting the solver settings, or solve with verbose=True for more information.\n",
            "  \"Solution may be inaccurate. Try another solver, \"\n"
          ]
        },
        {
          "name": "stdout",
          "output_type": "stream",
          "text": [
            "2021-05-12 00:00:00\n",
            "0:\tlearn: 0.0134030\ttest: 0.0147616\tbest: 0.0147616 (0)\ttotal: 15.5ms\tremaining: 1.54s\n",
            "1:\tlearn: 0.0132393\ttest: 0.0147681\tbest: 0.0147616 (0)\ttotal: 32.3ms\tremaining: 1.58s\n",
            "2:\tlearn: 0.0130789\ttest: 0.0147902\tbest: 0.0147616 (0)\ttotal: 47.2ms\tremaining: 1.53s\n",
            "3:\tlearn: 0.0129471\ttest: 0.0148184\tbest: 0.0147616 (0)\ttotal: 62.8ms\tremaining: 1.51s\n",
            "4:\tlearn: 0.0128247\ttest: 0.0148361\tbest: 0.0147616 (0)\ttotal: 77.9ms\tremaining: 1.48s\n",
            "5:\tlearn: 0.0127238\ttest: 0.0148653\tbest: 0.0147616 (0)\ttotal: 93.2ms\tremaining: 1.46s\n",
            "6:\tlearn: 0.0126383\ttest: 0.0148802\tbest: 0.0147616 (0)\ttotal: 108ms\tremaining: 1.44s\n",
            "7:\tlearn: 0.0125594\ttest: 0.0149024\tbest: 0.0147616 (0)\ttotal: 124ms\tremaining: 1.42s\n",
            "8:\tlearn: 0.0124715\ttest: 0.0148810\tbest: 0.0147616 (0)\ttotal: 140ms\tremaining: 1.42s\n",
            "9:\tlearn: 0.0123959\ttest: 0.0148894\tbest: 0.0147616 (0)\ttotal: 156ms\tremaining: 1.4s\n",
            "10:\tlearn: 0.0123142\ttest: 0.0148917\tbest: 0.0147616 (0)\ttotal: 173ms\tremaining: 1.4s\n",
            "Stopped by overfitting detector  (10 iterations wait)\n",
            "\n",
            "bestTest = 0.01476155186\n",
            "bestIteration = 0\n",
            "\n",
            "Shrink model to first 1 iterations.\n"
          ]
        },
        {
          "name": "stderr",
          "output_type": "stream",
          "text": [
            "/usr/local/lib/python3.7/dist-packages/pypfopt/efficient_frontier/efficient_frontier.py:258: UserWarning: max_sharpe transforms the optimization problem so additional objectives may not work as expected.\n",
            "  \"max_sharpe transforms the optimization problem so additional objectives may not work as expected.\"\n"
          ]
        },
        {
          "name": "stdout",
          "output_type": "stream",
          "text": [
            "2021-05-13 00:00:00\n",
            "0:\tlearn: 0.0148250\ttest: 0.0142782\tbest: 0.0142782 (0)\ttotal: 16.4ms\tremaining: 1.63s\n",
            "1:\tlearn: 0.0146281\ttest: 0.0142778\tbest: 0.0142778 (1)\ttotal: 33.4ms\tremaining: 1.64s\n",
            "2:\tlearn: 0.0144589\ttest: 0.0142666\tbest: 0.0142666 (2)\ttotal: 48.8ms\tremaining: 1.58s\n",
            "3:\tlearn: 0.0143220\ttest: 0.0142653\tbest: 0.0142653 (3)\ttotal: 64.8ms\tremaining: 1.55s\n",
            "4:\tlearn: 0.0141815\ttest: 0.0143053\tbest: 0.0142653 (3)\ttotal: 79.8ms\tremaining: 1.51s\n",
            "5:\tlearn: 0.0140613\ttest: 0.0142941\tbest: 0.0142653 (3)\ttotal: 94.9ms\tremaining: 1.49s\n",
            "6:\tlearn: 0.0139280\ttest: 0.0142990\tbest: 0.0142653 (3)\ttotal: 110ms\tremaining: 1.46s\n",
            "7:\tlearn: 0.0138470\ttest: 0.0143048\tbest: 0.0142653 (3)\ttotal: 128ms\tremaining: 1.47s\n",
            "8:\tlearn: 0.0137667\ttest: 0.0143174\tbest: 0.0142653 (3)\ttotal: 144ms\tremaining: 1.45s\n",
            "9:\tlearn: 0.0136626\ttest: 0.0143332\tbest: 0.0142653 (3)\ttotal: 160ms\tremaining: 1.44s\n",
            "10:\tlearn: 0.0135213\ttest: 0.0143729\tbest: 0.0142653 (3)\ttotal: 175ms\tremaining: 1.42s\n",
            "11:\tlearn: 0.0134287\ttest: 0.0143853\tbest: 0.0142653 (3)\ttotal: 191ms\tremaining: 1.4s\n",
            "12:\tlearn: 0.0133325\ttest: 0.0144156\tbest: 0.0142653 (3)\ttotal: 206ms\tremaining: 1.38s\n",
            "13:\tlearn: 0.0132361\ttest: 0.0144481\tbest: 0.0142653 (3)\ttotal: 235ms\tremaining: 1.44s\n",
            "Stopped by overfitting detector  (10 iterations wait)\n",
            "\n",
            "bestTest = 0.01426525467\n",
            "bestIteration = 3\n",
            "\n",
            "Shrink model to first 4 iterations.\n"
          ]
        },
        {
          "name": "stderr",
          "output_type": "stream",
          "text": [
            "/usr/local/lib/python3.7/dist-packages/pypfopt/efficient_frontier/efficient_frontier.py:258: UserWarning: max_sharpe transforms the optimization problem so additional objectives may not work as expected.\n",
            "  \"max_sharpe transforms the optimization problem so additional objectives may not work as expected.\"\n"
          ]
        },
        {
          "name": "stdout",
          "output_type": "stream",
          "text": [
            "2021-05-14 00:00:00\n",
            "0:\tlearn: 0.0144844\ttest: 0.0144605\tbest: 0.0144605 (0)\ttotal: 29.9ms\tremaining: 2.96s\n",
            "1:\tlearn: 0.0143075\ttest: 0.0144453\tbest: 0.0144453 (1)\ttotal: 50.3ms\tremaining: 2.46s\n",
            "2:\tlearn: 0.0141200\ttest: 0.0144501\tbest: 0.0144453 (1)\ttotal: 90.3ms\tremaining: 2.92s\n",
            "3:\tlearn: 0.0139863\ttest: 0.0144576\tbest: 0.0144453 (1)\ttotal: 135ms\tremaining: 3.24s\n",
            "4:\tlearn: 0.0138567\ttest: 0.0144508\tbest: 0.0144453 (1)\ttotal: 155ms\tremaining: 2.95s\n",
            "5:\tlearn: 0.0137260\ttest: 0.0144512\tbest: 0.0144453 (1)\ttotal: 184ms\tremaining: 2.88s\n",
            "6:\tlearn: 0.0135864\ttest: 0.0144662\tbest: 0.0144453 (1)\ttotal: 217ms\tremaining: 2.89s\n",
            "7:\tlearn: 0.0134922\ttest: 0.0144883\tbest: 0.0144453 (1)\ttotal: 240ms\tremaining: 2.76s\n",
            "8:\tlearn: 0.0134028\ttest: 0.0145044\tbest: 0.0144453 (1)\ttotal: 278ms\tremaining: 2.81s\n",
            "9:\tlearn: 0.0132952\ttest: 0.0145072\tbest: 0.0144453 (1)\ttotal: 306ms\tremaining: 2.75s\n",
            "10:\tlearn: 0.0132241\ttest: 0.0145154\tbest: 0.0144453 (1)\ttotal: 356ms\tremaining: 2.88s\n",
            "11:\tlearn: 0.0131309\ttest: 0.0145263\tbest: 0.0144453 (1)\ttotal: 376ms\tremaining: 2.76s\n",
            "Stopped by overfitting detector  (10 iterations wait)\n",
            "\n",
            "bestTest = 0.01444531131\n",
            "bestIteration = 1\n",
            "\n",
            "Shrink model to first 2 iterations.\n"
          ]
        },
        {
          "name": "stderr",
          "output_type": "stream",
          "text": [
            "/usr/local/lib/python3.7/dist-packages/pypfopt/efficient_frontier/efficient_frontier.py:258: UserWarning: max_sharpe transforms the optimization problem so additional objectives may not work as expected.\n",
            "  \"max_sharpe transforms the optimization problem so additional objectives may not work as expected.\"\n"
          ]
        },
        {
          "name": "stdout",
          "output_type": "stream",
          "text": [
            "2021-05-17 00:00:00\n",
            "0:\tlearn: 0.0142719\ttest: 0.0146458\tbest: 0.0146458 (0)\ttotal: 36.3ms\tremaining: 3.59s\n",
            "1:\tlearn: 0.0140913\ttest: 0.0146650\tbest: 0.0146458 (0)\ttotal: 58.3ms\tremaining: 2.85s\n",
            "2:\tlearn: 0.0139168\ttest: 0.0146940\tbest: 0.0146458 (0)\ttotal: 77ms\tremaining: 2.49s\n",
            "3:\tlearn: 0.0138087\ttest: 0.0146960\tbest: 0.0146458 (0)\ttotal: 111ms\tremaining: 2.67s\n",
            "4:\tlearn: 0.0136831\ttest: 0.0147072\tbest: 0.0146458 (0)\ttotal: 160ms\tremaining: 3.03s\n",
            "5:\tlearn: 0.0135715\ttest: 0.0147047\tbest: 0.0146458 (0)\ttotal: 203ms\tremaining: 3.18s\n",
            "6:\tlearn: 0.0134517\ttest: 0.0147218\tbest: 0.0146458 (0)\ttotal: 251ms\tremaining: 3.33s\n",
            "7:\tlearn: 0.0133690\ttest: 0.0147254\tbest: 0.0146458 (0)\ttotal: 292ms\tremaining: 3.36s\n",
            "8:\tlearn: 0.0132563\ttest: 0.0147350\tbest: 0.0146458 (0)\ttotal: 314ms\tremaining: 3.17s\n",
            "9:\tlearn: 0.0131459\ttest: 0.0147471\tbest: 0.0146458 (0)\ttotal: 333ms\tremaining: 3s\n",
            "10:\tlearn: 0.0130386\ttest: 0.0147745\tbest: 0.0146458 (0)\ttotal: 370ms\tremaining: 3s\n",
            "Stopped by overfitting detector  (10 iterations wait)\n",
            "\n",
            "bestTest = 0.01464578752\n",
            "bestIteration = 0\n",
            "\n",
            "Shrink model to first 1 iterations.\n"
          ]
        },
        {
          "name": "stderr",
          "output_type": "stream",
          "text": [
            "/usr/local/lib/python3.7/dist-packages/pypfopt/efficient_frontier/efficient_frontier.py:258: UserWarning: max_sharpe transforms the optimization problem so additional objectives may not work as expected.\n",
            "  \"max_sharpe transforms the optimization problem so additional objectives may not work as expected.\"\n",
            "/usr/local/lib/python3.7/dist-packages/cvxpy/problems/problem.py:1334: UserWarning: Solution may be inaccurate. Try another solver, adjusting the solver settings, or solve with verbose=True for more information.\n",
            "  \"Solution may be inaccurate. Try another solver, \"\n"
          ]
        },
        {
          "name": "stdout",
          "output_type": "stream",
          "text": [
            "2021-05-18 00:00:00\n",
            "0:\tlearn: 0.0149611\ttest: 0.0143595\tbest: 0.0143595 (0)\ttotal: 15.8ms\tremaining: 1.56s\n",
            "1:\tlearn: 0.0147301\ttest: 0.0144197\tbest: 0.0143595 (0)\ttotal: 31.7ms\tremaining: 1.55s\n",
            "2:\tlearn: 0.0145015\ttest: 0.0144826\tbest: 0.0143595 (0)\ttotal: 47.2ms\tremaining: 1.53s\n",
            "3:\tlearn: 0.0143331\ttest: 0.0144872\tbest: 0.0143595 (0)\ttotal: 63.1ms\tremaining: 1.51s\n",
            "4:\tlearn: 0.0141040\ttest: 0.0145252\tbest: 0.0143595 (0)\ttotal: 77.9ms\tremaining: 1.48s\n",
            "5:\tlearn: 0.0139528\ttest: 0.0145863\tbest: 0.0143595 (0)\ttotal: 93.3ms\tremaining: 1.46s\n",
            "6:\tlearn: 0.0138055\ttest: 0.0146942\tbest: 0.0143595 (0)\ttotal: 108ms\tremaining: 1.44s\n",
            "7:\tlearn: 0.0136763\ttest: 0.0147208\tbest: 0.0143595 (0)\ttotal: 123ms\tremaining: 1.42s\n",
            "8:\tlearn: 0.0135259\ttest: 0.0147398\tbest: 0.0143595 (0)\ttotal: 139ms\tremaining: 1.4s\n",
            "9:\tlearn: 0.0134028\ttest: 0.0147960\tbest: 0.0143595 (0)\ttotal: 153ms\tremaining: 1.38s\n",
            "10:\tlearn: 0.0132626\ttest: 0.0148082\tbest: 0.0143595 (0)\ttotal: 173ms\tremaining: 1.4s\n",
            "Stopped by overfitting detector  (10 iterations wait)\n",
            "\n",
            "bestTest = 0.0143595444\n",
            "bestIteration = 0\n",
            "\n",
            "Shrink model to first 1 iterations.\n"
          ]
        },
        {
          "name": "stderr",
          "output_type": "stream",
          "text": [
            "/usr/local/lib/python3.7/dist-packages/pypfopt/efficient_frontier/efficient_frontier.py:258: UserWarning: max_sharpe transforms the optimization problem so additional objectives may not work as expected.\n",
            "  \"max_sharpe transforms the optimization problem so additional objectives may not work as expected.\"\n"
          ]
        },
        {
          "name": "stdout",
          "output_type": "stream",
          "text": [
            "2021-05-19 00:00:00\n",
            "0:\tlearn: 0.0146315\ttest: 0.0144725\tbest: 0.0144725 (0)\ttotal: 16.4ms\tremaining: 1.63s\n",
            "1:\tlearn: 0.0143759\ttest: 0.0144898\tbest: 0.0144725 (0)\ttotal: 34ms\tremaining: 1.67s\n",
            "2:\tlearn: 0.0141350\ttest: 0.0145510\tbest: 0.0144725 (0)\ttotal: 49.5ms\tremaining: 1.6s\n",
            "3:\tlearn: 0.0139653\ttest: 0.0145963\tbest: 0.0144725 (0)\ttotal: 75.1ms\tremaining: 1.8s\n",
            "4:\tlearn: 0.0137755\ttest: 0.0146328\tbest: 0.0144725 (0)\ttotal: 90.3ms\tremaining: 1.72s\n",
            "5:\tlearn: 0.0136508\ttest: 0.0146869\tbest: 0.0144725 (0)\ttotal: 109ms\tremaining: 1.71s\n",
            "6:\tlearn: 0.0134891\ttest: 0.0147231\tbest: 0.0144725 (0)\ttotal: 125ms\tremaining: 1.66s\n",
            "7:\tlearn: 0.0133395\ttest: 0.0147909\tbest: 0.0144725 (0)\ttotal: 141ms\tremaining: 1.62s\n",
            "8:\tlearn: 0.0132329\ttest: 0.0148312\tbest: 0.0144725 (0)\ttotal: 157ms\tremaining: 1.58s\n",
            "9:\tlearn: 0.0130858\ttest: 0.0148916\tbest: 0.0144725 (0)\ttotal: 172ms\tremaining: 1.55s\n",
            "10:\tlearn: 0.0129585\ttest: 0.0149480\tbest: 0.0144725 (0)\ttotal: 188ms\tremaining: 1.52s\n",
            "Stopped by overfitting detector  (10 iterations wait)\n",
            "\n",
            "bestTest = 0.01447245724\n",
            "bestIteration = 0\n",
            "\n",
            "Shrink model to first 1 iterations.\n"
          ]
        },
        {
          "name": "stderr",
          "output_type": "stream",
          "text": [
            "/usr/local/lib/python3.7/dist-packages/pypfopt/efficient_frontier/efficient_frontier.py:258: UserWarning: max_sharpe transforms the optimization problem so additional objectives may not work as expected.\n",
            "  \"max_sharpe transforms the optimization problem so additional objectives may not work as expected.\"\n",
            "/usr/local/lib/python3.7/dist-packages/cvxpy/problems/problem.py:1334: UserWarning: Solution may be inaccurate. Try another solver, adjusting the solver settings, or solve with verbose=True for more information.\n",
            "  \"Solution may be inaccurate. Try another solver, \"\n"
          ]
        },
        {
          "name": "stdout",
          "output_type": "stream",
          "text": [
            "2021-05-20 00:00:00\n",
            "0:\tlearn: 0.0145673\ttest: 0.0144932\tbest: 0.0144932 (0)\ttotal: 40.5ms\tremaining: 4.01s\n",
            "1:\tlearn: 0.0143605\ttest: 0.0145342\tbest: 0.0144932 (0)\ttotal: 86ms\tremaining: 4.21s\n",
            "2:\tlearn: 0.0141419\ttest: 0.0145838\tbest: 0.0144932 (0)\ttotal: 132ms\tremaining: 4.27s\n",
            "3:\tlearn: 0.0139340\ttest: 0.0146179\tbest: 0.0144932 (0)\ttotal: 177ms\tremaining: 4.25s\n",
            "4:\tlearn: 0.0137298\ttest: 0.0146967\tbest: 0.0144932 (0)\ttotal: 222ms\tremaining: 4.22s\n",
            "5:\tlearn: 0.0135597\ttest: 0.0147497\tbest: 0.0144932 (0)\ttotal: 249ms\tremaining: 3.91s\n",
            "6:\tlearn: 0.0134265\ttest: 0.0147705\tbest: 0.0144932 (0)\ttotal: 269ms\tremaining: 3.57s\n",
            "7:\tlearn: 0.0132963\ttest: 0.0148050\tbest: 0.0144932 (0)\ttotal: 307ms\tremaining: 3.53s\n",
            "8:\tlearn: 0.0131913\ttest: 0.0148349\tbest: 0.0144932 (0)\ttotal: 379ms\tremaining: 3.83s\n",
            "9:\tlearn: 0.0131011\ttest: 0.0148733\tbest: 0.0144932 (0)\ttotal: 427ms\tremaining: 3.84s\n",
            "10:\tlearn: 0.0129982\ttest: 0.0149014\tbest: 0.0144932 (0)\ttotal: 467ms\tremaining: 3.78s\n",
            "Stopped by overfitting detector  (10 iterations wait)\n",
            "\n",
            "bestTest = 0.01449324867\n",
            "bestIteration = 0\n",
            "\n",
            "Shrink model to first 1 iterations.\n"
          ]
        },
        {
          "name": "stderr",
          "output_type": "stream",
          "text": [
            "/usr/local/lib/python3.7/dist-packages/pypfopt/efficient_frontier/efficient_frontier.py:258: UserWarning: max_sharpe transforms the optimization problem so additional objectives may not work as expected.\n",
            "  \"max_sharpe transforms the optimization problem so additional objectives may not work as expected.\"\n"
          ]
        },
        {
          "name": "stdout",
          "output_type": "stream",
          "text": [
            "2021-05-21 00:00:00\n",
            "0:\tlearn: 0.0143056\ttest: 0.0146777\tbest: 0.0146777 (0)\ttotal: 35.9ms\tremaining: 3.56s\n",
            "1:\tlearn: 0.0141595\ttest: 0.0146794\tbest: 0.0146777 (0)\ttotal: 80.5ms\tremaining: 3.94s\n",
            "2:\tlearn: 0.0140206\ttest: 0.0146906\tbest: 0.0146777 (0)\ttotal: 128ms\tremaining: 4.12s\n",
            "3:\tlearn: 0.0138992\ttest: 0.0147211\tbest: 0.0146777 (0)\ttotal: 172ms\tremaining: 4.13s\n",
            "4:\tlearn: 0.0137844\ttest: 0.0147475\tbest: 0.0146777 (0)\ttotal: 217ms\tremaining: 4.13s\n",
            "5:\tlearn: 0.0136816\ttest: 0.0147778\tbest: 0.0146777 (0)\ttotal: 251ms\tremaining: 3.93s\n",
            "6:\tlearn: 0.0136013\ttest: 0.0148053\tbest: 0.0146777 (0)\ttotal: 271ms\tremaining: 3.6s\n",
            "7:\tlearn: 0.0134736\ttest: 0.0148372\tbest: 0.0146777 (0)\ttotal: 309ms\tremaining: 3.56s\n",
            "8:\tlearn: 0.0133654\ttest: 0.0148761\tbest: 0.0146777 (0)\ttotal: 344ms\tremaining: 3.48s\n",
            "9:\tlearn: 0.0132904\ttest: 0.0148923\tbest: 0.0146777 (0)\ttotal: 384ms\tremaining: 3.45s\n",
            "10:\tlearn: 0.0132074\ttest: 0.0149262\tbest: 0.0146777 (0)\ttotal: 424ms\tremaining: 3.43s\n",
            "Stopped by overfitting detector  (10 iterations wait)\n",
            "\n",
            "bestTest = 0.01467768511\n",
            "bestIteration = 0\n",
            "\n",
            "Shrink model to first 1 iterations.\n"
          ]
        },
        {
          "name": "stderr",
          "output_type": "stream",
          "text": [
            "/usr/local/lib/python3.7/dist-packages/pypfopt/efficient_frontier/efficient_frontier.py:258: UserWarning: max_sharpe transforms the optimization problem so additional objectives may not work as expected.\n",
            "  \"max_sharpe transforms the optimization problem so additional objectives may not work as expected.\"\n"
          ]
        },
        {
          "name": "stdout",
          "output_type": "stream",
          "text": [
            "2021-05-24 00:00:00\n",
            "0:\tlearn: 0.0147648\ttest: 0.0144954\tbest: 0.0144954 (0)\ttotal: 15.9ms\tremaining: 1.57s\n",
            "1:\tlearn: 0.0145607\ttest: 0.0146530\tbest: 0.0144954 (0)\ttotal: 32.3ms\tremaining: 1.58s\n",
            "2:\tlearn: 0.0143595\ttest: 0.0148263\tbest: 0.0144954 (0)\ttotal: 47.6ms\tremaining: 1.54s\n",
            "3:\tlearn: 0.0142030\ttest: 0.0149254\tbest: 0.0144954 (0)\ttotal: 64.4ms\tremaining: 1.54s\n",
            "4:\tlearn: 0.0140639\ttest: 0.0150410\tbest: 0.0144954 (0)\ttotal: 79.5ms\tremaining: 1.51s\n",
            "5:\tlearn: 0.0139375\ttest: 0.0151850\tbest: 0.0144954 (0)\ttotal: 94.4ms\tremaining: 1.48s\n",
            "6:\tlearn: 0.0138438\ttest: 0.0153120\tbest: 0.0144954 (0)\ttotal: 110ms\tremaining: 1.46s\n",
            "7:\tlearn: 0.0137652\ttest: 0.0153773\tbest: 0.0144954 (0)\ttotal: 125ms\tremaining: 1.44s\n",
            "8:\tlearn: 0.0136889\ttest: 0.0154181\tbest: 0.0144954 (0)\ttotal: 141ms\tremaining: 1.42s\n",
            "9:\tlearn: 0.0135655\ttest: 0.0154781\tbest: 0.0144954 (0)\ttotal: 157ms\tremaining: 1.41s\n",
            "10:\tlearn: 0.0134632\ttest: 0.0155318\tbest: 0.0144954 (0)\ttotal: 172ms\tremaining: 1.39s\n",
            "Stopped by overfitting detector  (10 iterations wait)\n",
            "\n",
            "bestTest = 0.01449535636\n",
            "bestIteration = 0\n",
            "\n",
            "Shrink model to first 1 iterations.\n"
          ]
        },
        {
          "name": "stderr",
          "output_type": "stream",
          "text": [
            "/usr/local/lib/python3.7/dist-packages/pypfopt/efficient_frontier/efficient_frontier.py:258: UserWarning: max_sharpe transforms the optimization problem so additional objectives may not work as expected.\n",
            "  \"max_sharpe transforms the optimization problem so additional objectives may not work as expected.\"\n"
          ]
        },
        {
          "name": "stdout",
          "output_type": "stream",
          "text": [
            "2021-05-25 00:00:00\n",
            "0:\tlearn: 0.0139581\ttest: 0.0149386\tbest: 0.0149386 (0)\ttotal: 15.6ms\tremaining: 1.54s\n",
            "1:\tlearn: 0.0137518\ttest: 0.0150399\tbest: 0.0149386 (0)\ttotal: 31.6ms\tremaining: 1.55s\n",
            "2:\tlearn: 0.0135700\ttest: 0.0151564\tbest: 0.0149386 (0)\ttotal: 46.9ms\tremaining: 1.51s\n",
            "3:\tlearn: 0.0133767\ttest: 0.0151922\tbest: 0.0149386 (0)\ttotal: 62.7ms\tremaining: 1.5s\n",
            "4:\tlearn: 0.0132224\ttest: 0.0152527\tbest: 0.0149386 (0)\ttotal: 77.6ms\tremaining: 1.47s\n",
            "5:\tlearn: 0.0130825\ttest: 0.0152833\tbest: 0.0149386 (0)\ttotal: 92.8ms\tremaining: 1.45s\n",
            "6:\tlearn: 0.0129563\ttest: 0.0153505\tbest: 0.0149386 (0)\ttotal: 109ms\tremaining: 1.45s\n",
            "7:\tlearn: 0.0128390\ttest: 0.0153817\tbest: 0.0149386 (0)\ttotal: 124ms\tremaining: 1.43s\n",
            "8:\tlearn: 0.0127278\ttest: 0.0154055\tbest: 0.0149386 (0)\ttotal: 146ms\tremaining: 1.47s\n",
            "9:\tlearn: 0.0126398\ttest: 0.0155125\tbest: 0.0149386 (0)\ttotal: 161ms\tremaining: 1.45s\n",
            "10:\tlearn: 0.0125666\ttest: 0.0155825\tbest: 0.0149386 (0)\ttotal: 175ms\tremaining: 1.42s\n",
            "Stopped by overfitting detector  (10 iterations wait)\n",
            "\n",
            "bestTest = 0.01493857265\n",
            "bestIteration = 0\n",
            "\n",
            "Shrink model to first 1 iterations.\n"
          ]
        },
        {
          "name": "stderr",
          "output_type": "stream",
          "text": [
            "/usr/local/lib/python3.7/dist-packages/pypfopt/efficient_frontier/efficient_frontier.py:258: UserWarning: max_sharpe transforms the optimization problem so additional objectives may not work as expected.\n",
            "  \"max_sharpe transforms the optimization problem so additional objectives may not work as expected.\"\n",
            "/usr/local/lib/python3.7/dist-packages/cvxpy/problems/problem.py:1334: UserWarning: Solution may be inaccurate. Try another solver, adjusting the solver settings, or solve with verbose=True for more information.\n",
            "  \"Solution may be inaccurate. Try another solver, \"\n"
          ]
        },
        {
          "name": "stdout",
          "output_type": "stream",
          "text": [
            "2021-05-26 00:00:00\n",
            "0:\tlearn: 0.0150533\ttest: 0.0143620\tbest: 0.0143620 (0)\ttotal: 16.6ms\tremaining: 1.64s\n",
            "1:\tlearn: 0.0148955\ttest: 0.0144269\tbest: 0.0143620 (0)\ttotal: 33.5ms\tremaining: 1.64s\n",
            "2:\tlearn: 0.0147623\ttest: 0.0144587\tbest: 0.0143620 (0)\ttotal: 48.6ms\tremaining: 1.57s\n",
            "3:\tlearn: 0.0146365\ttest: 0.0145047\tbest: 0.0143620 (0)\ttotal: 64.8ms\tremaining: 1.55s\n",
            "4:\tlearn: 0.0145189\ttest: 0.0145337\tbest: 0.0143620 (0)\ttotal: 80.1ms\tremaining: 1.52s\n",
            "5:\tlearn: 0.0144167\ttest: 0.0145306\tbest: 0.0143620 (0)\ttotal: 95.3ms\tremaining: 1.49s\n",
            "6:\tlearn: 0.0142847\ttest: 0.0145518\tbest: 0.0143620 (0)\ttotal: 122ms\tremaining: 1.62s\n",
            "7:\tlearn: 0.0142016\ttest: 0.0145974\tbest: 0.0143620 (0)\ttotal: 137ms\tremaining: 1.57s\n",
            "8:\tlearn: 0.0140619\ttest: 0.0146130\tbest: 0.0143620 (0)\ttotal: 152ms\tremaining: 1.54s\n",
            "9:\tlearn: 0.0139918\ttest: 0.0146556\tbest: 0.0143620 (0)\ttotal: 168ms\tremaining: 1.51s\n",
            "10:\tlearn: 0.0139211\ttest: 0.0146816\tbest: 0.0143620 (0)\ttotal: 183ms\tremaining: 1.48s\n",
            "Stopped by overfitting detector  (10 iterations wait)\n",
            "\n",
            "bestTest = 0.01436199277\n",
            "bestIteration = 0\n",
            "\n",
            "Shrink model to first 1 iterations.\n"
          ]
        },
        {
          "name": "stderr",
          "output_type": "stream",
          "text": [
            "/usr/local/lib/python3.7/dist-packages/pypfopt/efficient_frontier/efficient_frontier.py:258: UserWarning: max_sharpe transforms the optimization problem so additional objectives may not work as expected.\n",
            "  \"max_sharpe transforms the optimization problem so additional objectives may not work as expected.\"\n"
          ]
        },
        {
          "name": "stdout",
          "output_type": "stream",
          "text": [
            "2021-05-27 00:00:00\n",
            "0:\tlearn: 0.0140233\ttest: 0.0147627\tbest: 0.0147627 (0)\ttotal: 15.5ms\tremaining: 1.54s\n",
            "1:\tlearn: 0.0137514\ttest: 0.0147710\tbest: 0.0147627 (0)\ttotal: 31.8ms\tremaining: 1.56s\n",
            "2:\tlearn: 0.0135052\ttest: 0.0148097\tbest: 0.0147627 (0)\ttotal: 46.8ms\tremaining: 1.51s\n",
            "3:\tlearn: 0.0133047\ttest: 0.0148698\tbest: 0.0147627 (0)\ttotal: 62.9ms\tremaining: 1.51s\n",
            "4:\tlearn: 0.0131432\ttest: 0.0149331\tbest: 0.0147627 (0)\ttotal: 78.1ms\tremaining: 1.48s\n",
            "5:\tlearn: 0.0130016\ttest: 0.0149926\tbest: 0.0147627 (0)\ttotal: 93.8ms\tremaining: 1.47s\n",
            "6:\tlearn: 0.0128343\ttest: 0.0150343\tbest: 0.0147627 (0)\ttotal: 109ms\tremaining: 1.45s\n",
            "7:\tlearn: 0.0127330\ttest: 0.0150847\tbest: 0.0147627 (0)\ttotal: 126ms\tremaining: 1.45s\n",
            "8:\tlearn: 0.0126183\ttest: 0.0151384\tbest: 0.0147627 (0)\ttotal: 142ms\tremaining: 1.44s\n",
            "9:\tlearn: 0.0124832\ttest: 0.0151990\tbest: 0.0147627 (0)\ttotal: 157ms\tremaining: 1.41s\n",
            "10:\tlearn: 0.0123934\ttest: 0.0152423\tbest: 0.0147627 (0)\ttotal: 173ms\tremaining: 1.4s\n",
            "Stopped by overfitting detector  (10 iterations wait)\n",
            "\n",
            "bestTest = 0.0147626861\n",
            "bestIteration = 0\n",
            "\n",
            "Shrink model to first 1 iterations.\n"
          ]
        },
        {
          "name": "stderr",
          "output_type": "stream",
          "text": [
            "/usr/local/lib/python3.7/dist-packages/pypfopt/efficient_frontier/efficient_frontier.py:258: UserWarning: max_sharpe transforms the optimization problem so additional objectives may not work as expected.\n",
            "  \"max_sharpe transforms the optimization problem so additional objectives may not work as expected.\"\n"
          ]
        },
        {
          "name": "stdout",
          "output_type": "stream",
          "text": [
            "2021-05-28 00:00:00\n",
            "0:\tlearn: 0.0152625\ttest: 0.0142275\tbest: 0.0142275 (0)\ttotal: 15.8ms\tremaining: 1.56s\n",
            "1:\tlearn: 0.0150572\ttest: 0.0143265\tbest: 0.0142275 (0)\ttotal: 32.6ms\tremaining: 1.6s\n",
            "2:\tlearn: 0.0148647\ttest: 0.0143935\tbest: 0.0142275 (0)\ttotal: 47.8ms\tremaining: 1.55s\n",
            "3:\tlearn: 0.0146944\ttest: 0.0144848\tbest: 0.0142275 (0)\ttotal: 63.9ms\tremaining: 1.53s\n",
            "4:\tlearn: 0.0145233\ttest: 0.0145412\tbest: 0.0142275 (0)\ttotal: 79.1ms\tremaining: 1.5s\n",
            "5:\tlearn: 0.0144145\ttest: 0.0145513\tbest: 0.0142275 (0)\ttotal: 94.3ms\tremaining: 1.48s\n",
            "6:\tlearn: 0.0142643\ttest: 0.0145621\tbest: 0.0142275 (0)\ttotal: 110ms\tremaining: 1.46s\n",
            "7:\tlearn: 0.0141318\ttest: 0.0146579\tbest: 0.0142275 (0)\ttotal: 125ms\tremaining: 1.44s\n",
            "8:\tlearn: 0.0140037\ttest: 0.0146829\tbest: 0.0142275 (0)\ttotal: 141ms\tremaining: 1.42s\n",
            "9:\tlearn: 0.0139211\ttest: 0.0146833\tbest: 0.0142275 (0)\ttotal: 156ms\tremaining: 1.4s\n",
            "10:\tlearn: 0.0138343\ttest: 0.0147191\tbest: 0.0142275 (0)\ttotal: 171ms\tremaining: 1.38s\n",
            "Stopped by overfitting detector  (10 iterations wait)\n",
            "\n",
            "bestTest = 0.01422754531\n",
            "bestIteration = 0\n",
            "\n",
            "Shrink model to first 1 iterations.\n"
          ]
        },
        {
          "name": "stderr",
          "output_type": "stream",
          "text": [
            "/usr/local/lib/python3.7/dist-packages/pypfopt/efficient_frontier/efficient_frontier.py:258: UserWarning: max_sharpe transforms the optimization problem so additional objectives may not work as expected.\n",
            "  \"max_sharpe transforms the optimization problem so additional objectives may not work as expected.\"\n"
          ]
        },
        {
          "name": "stdout",
          "output_type": "stream",
          "text": [
            "2021-06-01 00:00:00\n",
            "0:\tlearn: 0.0137774\ttest: 0.0146223\tbest: 0.0146223 (0)\ttotal: 16.2ms\tremaining: 1.6s\n",
            "1:\tlearn: 0.0135466\ttest: 0.0146881\tbest: 0.0146223 (0)\ttotal: 32.3ms\tremaining: 1.58s\n",
            "2:\tlearn: 0.0133646\ttest: 0.0147602\tbest: 0.0146223 (0)\ttotal: 47.3ms\tremaining: 1.53s\n",
            "3:\tlearn: 0.0131896\ttest: 0.0148489\tbest: 0.0146223 (0)\ttotal: 63.3ms\tremaining: 1.52s\n",
            "4:\tlearn: 0.0130609\ttest: 0.0149210\tbest: 0.0146223 (0)\ttotal: 78.3ms\tremaining: 1.49s\n",
            "5:\tlearn: 0.0129239\ttest: 0.0149707\tbest: 0.0146223 (0)\ttotal: 97.9ms\tremaining: 1.53s\n",
            "6:\tlearn: 0.0128270\ttest: 0.0150088\tbest: 0.0146223 (0)\ttotal: 113ms\tremaining: 1.5s\n",
            "7:\tlearn: 0.0127507\ttest: 0.0150407\tbest: 0.0146223 (0)\ttotal: 129ms\tremaining: 1.48s\n",
            "8:\tlearn: 0.0126783\ttest: 0.0150702\tbest: 0.0146223 (0)\ttotal: 144ms\tremaining: 1.46s\n",
            "9:\tlearn: 0.0125868\ttest: 0.0151330\tbest: 0.0146223 (0)\ttotal: 160ms\tremaining: 1.44s\n",
            "10:\tlearn: 0.0125045\ttest: 0.0151641\tbest: 0.0146223 (0)\ttotal: 175ms\tremaining: 1.42s\n",
            "Stopped by overfitting detector  (10 iterations wait)\n",
            "\n",
            "bestTest = 0.01462226644\n",
            "bestIteration = 0\n",
            "\n",
            "Shrink model to first 1 iterations.\n"
          ]
        },
        {
          "name": "stderr",
          "output_type": "stream",
          "text": [
            "/usr/local/lib/python3.7/dist-packages/pypfopt/efficient_frontier/efficient_frontier.py:258: UserWarning: max_sharpe transforms the optimization problem so additional objectives may not work as expected.\n",
            "  \"max_sharpe transforms the optimization problem so additional objectives may not work as expected.\"\n"
          ]
        },
        {
          "name": "stdout",
          "output_type": "stream",
          "text": [
            "2021-06-02 00:00:00\n",
            "0:\tlearn: 0.0135547\ttest: 0.0144368\tbest: 0.0144368 (0)\ttotal: 15.7ms\tremaining: 1.55s\n",
            "1:\tlearn: 0.0133795\ttest: 0.0144818\tbest: 0.0144368 (0)\ttotal: 33ms\tremaining: 1.62s\n",
            "2:\tlearn: 0.0132422\ttest: 0.0145054\tbest: 0.0144368 (0)\ttotal: 47.9ms\tremaining: 1.55s\n",
            "3:\tlearn: 0.0131001\ttest: 0.0145566\tbest: 0.0144368 (0)\ttotal: 64.3ms\tremaining: 1.54s\n",
            "4:\tlearn: 0.0129778\ttest: 0.0145794\tbest: 0.0144368 (0)\ttotal: 80.9ms\tremaining: 1.54s\n",
            "5:\tlearn: 0.0128553\ttest: 0.0146438\tbest: 0.0144368 (0)\ttotal: 100ms\tremaining: 1.57s\n",
            "6:\tlearn: 0.0127523\ttest: 0.0146717\tbest: 0.0144368 (0)\ttotal: 116ms\tremaining: 1.54s\n",
            "7:\tlearn: 0.0126390\ttest: 0.0147054\tbest: 0.0144368 (0)\ttotal: 132ms\tremaining: 1.51s\n",
            "8:\tlearn: 0.0125519\ttest: 0.0147427\tbest: 0.0144368 (0)\ttotal: 148ms\tremaining: 1.49s\n",
            "9:\tlearn: 0.0124681\ttest: 0.0148026\tbest: 0.0144368 (0)\ttotal: 163ms\tremaining: 1.46s\n",
            "10:\tlearn: 0.0123661\ttest: 0.0148139\tbest: 0.0144368 (0)\ttotal: 178ms\tremaining: 1.44s\n",
            "Stopped by overfitting detector  (10 iterations wait)\n",
            "\n",
            "bestTest = 0.01443678783\n",
            "bestIteration = 0\n",
            "\n",
            "Shrink model to first 1 iterations.\n"
          ]
        },
        {
          "name": "stderr",
          "output_type": "stream",
          "text": [
            "/usr/local/lib/python3.7/dist-packages/pypfopt/efficient_frontier/efficient_frontier.py:258: UserWarning: max_sharpe transforms the optimization problem so additional objectives may not work as expected.\n",
            "  \"max_sharpe transforms the optimization problem so additional objectives may not work as expected.\"\n"
          ]
        },
        {
          "name": "stdout",
          "output_type": "stream",
          "text": [
            "2021-06-03 00:00:00\n",
            "0:\tlearn: 0.0149730\ttest: 0.0137330\tbest: 0.0137330 (0)\ttotal: 26.1ms\tremaining: 2.58s\n",
            "1:\tlearn: 0.0147512\ttest: 0.0137318\tbest: 0.0137318 (1)\ttotal: 47ms\tremaining: 2.3s\n",
            "2:\tlearn: 0.0145764\ttest: 0.0137368\tbest: 0.0137318 (1)\ttotal: 82.1ms\tremaining: 2.65s\n",
            "3:\tlearn: 0.0144207\ttest: 0.0137236\tbest: 0.0137236 (3)\ttotal: 129ms\tremaining: 3.08s\n",
            "4:\tlearn: 0.0142489\ttest: 0.0137372\tbest: 0.0137236 (3)\ttotal: 156ms\tremaining: 2.97s\n",
            "5:\tlearn: 0.0141245\ttest: 0.0137700\tbest: 0.0137236 (3)\ttotal: 194ms\tremaining: 3.04s\n",
            "6:\tlearn: 0.0139931\ttest: 0.0137935\tbest: 0.0137236 (3)\ttotal: 231ms\tremaining: 3.07s\n",
            "7:\tlearn: 0.0138812\ttest: 0.0138175\tbest: 0.0137236 (3)\ttotal: 266ms\tremaining: 3.06s\n",
            "8:\tlearn: 0.0137481\ttest: 0.0138504\tbest: 0.0137236 (3)\ttotal: 312ms\tremaining: 3.15s\n",
            "9:\tlearn: 0.0136293\ttest: 0.0138422\tbest: 0.0137236 (3)\ttotal: 351ms\tremaining: 3.15s\n",
            "10:\tlearn: 0.0135210\ttest: 0.0138548\tbest: 0.0137236 (3)\ttotal: 387ms\tremaining: 3.13s\n",
            "11:\tlearn: 0.0134148\ttest: 0.0138549\tbest: 0.0137236 (3)\ttotal: 411ms\tremaining: 3.02s\n",
            "12:\tlearn: 0.0133314\ttest: 0.0138876\tbest: 0.0137236 (3)\ttotal: 451ms\tremaining: 3.02s\n",
            "13:\tlearn: 0.0132528\ttest: 0.0139056\tbest: 0.0137236 (3)\ttotal: 491ms\tremaining: 3.02s\n",
            "Stopped by overfitting detector  (10 iterations wait)\n",
            "\n",
            "bestTest = 0.0137235678\n",
            "bestIteration = 3\n",
            "\n",
            "Shrink model to first 4 iterations.\n"
          ]
        },
        {
          "name": "stderr",
          "output_type": "stream",
          "text": [
            "/usr/local/lib/python3.7/dist-packages/pypfopt/efficient_frontier/efficient_frontier.py:258: UserWarning: max_sharpe transforms the optimization problem so additional objectives may not work as expected.\n",
            "  \"max_sharpe transforms the optimization problem so additional objectives may not work as expected.\"\n"
          ]
        },
        {
          "name": "stdout",
          "output_type": "stream",
          "text": [
            "2021-06-04 00:00:00\n",
            "0:\tlearn: 0.0136860\ttest: 0.0144548\tbest: 0.0144548 (0)\ttotal: 17.1ms\tremaining: 1.69s\n",
            "1:\tlearn: 0.0134330\ttest: 0.0144761\tbest: 0.0144548 (0)\ttotal: 33.9ms\tremaining: 1.66s\n",
            "2:\tlearn: 0.0132318\ttest: 0.0144859\tbest: 0.0144548 (0)\ttotal: 49.1ms\tremaining: 1.59s\n",
            "3:\tlearn: 0.0130154\ttest: 0.0145066\tbest: 0.0144548 (0)\ttotal: 65.5ms\tremaining: 1.57s\n",
            "4:\tlearn: 0.0128234\ttest: 0.0145312\tbest: 0.0144548 (0)\ttotal: 80.9ms\tremaining: 1.54s\n",
            "5:\tlearn: 0.0126634\ttest: 0.0145473\tbest: 0.0144548 (0)\ttotal: 96.1ms\tremaining: 1.5s\n",
            "6:\tlearn: 0.0125350\ttest: 0.0145712\tbest: 0.0144548 (0)\ttotal: 111ms\tremaining: 1.48s\n",
            "7:\tlearn: 0.0124273\ttest: 0.0145800\tbest: 0.0144548 (0)\ttotal: 127ms\tremaining: 1.46s\n",
            "8:\tlearn: 0.0123060\ttest: 0.0146156\tbest: 0.0144548 (0)\ttotal: 142ms\tremaining: 1.44s\n",
            "9:\tlearn: 0.0121911\ttest: 0.0146262\tbest: 0.0144548 (0)\ttotal: 158ms\tremaining: 1.42s\n",
            "10:\tlearn: 0.0121202\ttest: 0.0146224\tbest: 0.0144548 (0)\ttotal: 174ms\tremaining: 1.41s\n",
            "Stopped by overfitting detector  (10 iterations wait)\n",
            "\n",
            "bestTest = 0.01445480301\n",
            "bestIteration = 0\n",
            "\n",
            "Shrink model to first 1 iterations.\n"
          ]
        },
        {
          "name": "stderr",
          "output_type": "stream",
          "text": [
            "/usr/local/lib/python3.7/dist-packages/pypfopt/efficient_frontier/efficient_frontier.py:258: UserWarning: max_sharpe transforms the optimization problem so additional objectives may not work as expected.\n",
            "  \"max_sharpe transforms the optimization problem so additional objectives may not work as expected.\"\n"
          ]
        },
        {
          "name": "stdout",
          "output_type": "stream",
          "text": [
            "2021-06-07 00:00:00\n",
            "0:\tlearn: 0.0138821\ttest: 0.0142532\tbest: 0.0142532 (0)\ttotal: 39ms\tremaining: 3.86s\n",
            "1:\tlearn: 0.0137020\ttest: 0.0142196\tbest: 0.0142196 (1)\ttotal: 59ms\tremaining: 2.89s\n",
            "2:\tlearn: 0.0135035\ttest: 0.0142176\tbest: 0.0142176 (2)\ttotal: 88.5ms\tremaining: 2.86s\n",
            "3:\tlearn: 0.0133558\ttest: 0.0142203\tbest: 0.0142176 (2)\ttotal: 110ms\tremaining: 2.65s\n",
            "4:\tlearn: 0.0132239\ttest: 0.0142157\tbest: 0.0142157 (4)\ttotal: 141ms\tremaining: 2.67s\n",
            "5:\tlearn: 0.0131103\ttest: 0.0142206\tbest: 0.0142157 (4)\ttotal: 188ms\tremaining: 2.95s\n",
            "6:\tlearn: 0.0129945\ttest: 0.0142183\tbest: 0.0142157 (4)\ttotal: 226ms\tremaining: 3s\n",
            "7:\tlearn: 0.0128828\ttest: 0.0142601\tbest: 0.0142157 (4)\ttotal: 276ms\tremaining: 3.18s\n",
            "8:\tlearn: 0.0127699\ttest: 0.0143056\tbest: 0.0142157 (4)\ttotal: 311ms\tremaining: 3.15s\n",
            "9:\tlearn: 0.0126736\ttest: 0.0143197\tbest: 0.0142157 (4)\ttotal: 353ms\tremaining: 3.18s\n",
            "10:\tlearn: 0.0125915\ttest: 0.0143244\tbest: 0.0142157 (4)\ttotal: 397ms\tremaining: 3.21s\n",
            "11:\tlearn: 0.0124991\ttest: 0.0143378\tbest: 0.0142157 (4)\ttotal: 435ms\tremaining: 3.19s\n",
            "12:\tlearn: 0.0124407\ttest: 0.0143534\tbest: 0.0142157 (4)\ttotal: 479ms\tremaining: 3.2s\n",
            "13:\tlearn: 0.0123554\ttest: 0.0143667\tbest: 0.0142157 (4)\ttotal: 515ms\tremaining: 3.16s\n",
            "14:\tlearn: 0.0122880\ttest: 0.0143613\tbest: 0.0142157 (4)\ttotal: 562ms\tremaining: 3.18s\n",
            "Stopped by overfitting detector  (10 iterations wait)\n",
            "\n",
            "bestTest = 0.0142156651\n",
            "bestIteration = 4\n",
            "\n",
            "Shrink model to first 5 iterations.\n"
          ]
        },
        {
          "name": "stderr",
          "output_type": "stream",
          "text": [
            "/usr/local/lib/python3.7/dist-packages/pypfopt/efficient_frontier/efficient_frontier.py:258: UserWarning: max_sharpe transforms the optimization problem so additional objectives may not work as expected.\n",
            "  \"max_sharpe transforms the optimization problem so additional objectives may not work as expected.\"\n"
          ]
        },
        {
          "name": "stdout",
          "output_type": "stream",
          "text": [
            "2021-06-08 00:00:00\n",
            "0:\tlearn: 0.0152691\ttest: 0.0135139\tbest: 0.0135139 (0)\ttotal: 16.2ms\tremaining: 1.6s\n",
            "1:\tlearn: 0.0150732\ttest: 0.0135017\tbest: 0.0135017 (1)\ttotal: 33.2ms\tremaining: 1.62s\n",
            "2:\tlearn: 0.0149239\ttest: 0.0135028\tbest: 0.0135017 (1)\ttotal: 48.7ms\tremaining: 1.57s\n",
            "3:\tlearn: 0.0148189\ttest: 0.0135305\tbest: 0.0135017 (1)\ttotal: 65ms\tremaining: 1.56s\n",
            "4:\tlearn: 0.0146232\ttest: 0.0135480\tbest: 0.0135017 (1)\ttotal: 80.5ms\tremaining: 1.53s\n",
            "5:\tlearn: 0.0145458\ttest: 0.0135613\tbest: 0.0135017 (1)\ttotal: 96ms\tremaining: 1.5s\n",
            "6:\tlearn: 0.0143913\ttest: 0.0136044\tbest: 0.0135017 (1)\ttotal: 113ms\tremaining: 1.5s\n",
            "7:\tlearn: 0.0142855\ttest: 0.0136277\tbest: 0.0135017 (1)\ttotal: 132ms\tremaining: 1.51s\n",
            "8:\tlearn: 0.0141722\ttest: 0.0136507\tbest: 0.0135017 (1)\ttotal: 147ms\tremaining: 1.49s\n",
            "9:\tlearn: 0.0140633\ttest: 0.0136433\tbest: 0.0135017 (1)\ttotal: 163ms\tremaining: 1.46s\n",
            "10:\tlearn: 0.0139668\ttest: 0.0136726\tbest: 0.0135017 (1)\ttotal: 188ms\tremaining: 1.52s\n",
            "11:\tlearn: 0.0138778\ttest: 0.0136859\tbest: 0.0135017 (1)\ttotal: 238ms\tremaining: 1.74s\n",
            "Stopped by overfitting detector  (10 iterations wait)\n",
            "\n",
            "bestTest = 0.01350169797\n",
            "bestIteration = 1\n",
            "\n",
            "Shrink model to first 2 iterations.\n"
          ]
        },
        {
          "name": "stderr",
          "output_type": "stream",
          "text": [
            "/usr/local/lib/python3.7/dist-packages/pypfopt/efficient_frontier/efficient_frontier.py:258: UserWarning: max_sharpe transforms the optimization problem so additional objectives may not work as expected.\n",
            "  \"max_sharpe transforms the optimization problem so additional objectives may not work as expected.\"\n"
          ]
        },
        {
          "name": "stdout",
          "output_type": "stream",
          "text": [
            "2021-06-09 00:00:00\n",
            "0:\tlearn: 0.0130002\ttest: 0.0144147\tbest: 0.0144147 (0)\ttotal: 15.8ms\tremaining: 1.56s\n",
            "1:\tlearn: 0.0128497\ttest: 0.0144050\tbest: 0.0144050 (1)\ttotal: 32.8ms\tremaining: 1.6s\n",
            "2:\tlearn: 0.0127239\ttest: 0.0143885\tbest: 0.0143885 (2)\ttotal: 48.3ms\tremaining: 1.56s\n",
            "3:\tlearn: 0.0126228\ttest: 0.0144101\tbest: 0.0143885 (2)\ttotal: 71.3ms\tremaining: 1.71s\n",
            "4:\tlearn: 0.0124939\ttest: 0.0144095\tbest: 0.0143885 (2)\ttotal: 87.3ms\tremaining: 1.66s\n",
            "5:\tlearn: 0.0124089\ttest: 0.0144330\tbest: 0.0143885 (2)\ttotal: 103ms\tremaining: 1.61s\n",
            "6:\tlearn: 0.0123129\ttest: 0.0144747\tbest: 0.0143885 (2)\ttotal: 118ms\tremaining: 1.57s\n",
            "7:\tlearn: 0.0122355\ttest: 0.0145228\tbest: 0.0143885 (2)\ttotal: 134ms\tremaining: 1.53s\n",
            "8:\tlearn: 0.0121164\ttest: 0.0145204\tbest: 0.0143885 (2)\ttotal: 154ms\tremaining: 1.55s\n",
            "9:\tlearn: 0.0120496\ttest: 0.0145645\tbest: 0.0143885 (2)\ttotal: 169ms\tremaining: 1.52s\n",
            "10:\tlearn: 0.0119778\ttest: 0.0145835\tbest: 0.0143885 (2)\ttotal: 184ms\tremaining: 1.49s\n",
            "11:\tlearn: 0.0119076\ttest: 0.0146088\tbest: 0.0143885 (2)\ttotal: 200ms\tremaining: 1.46s\n",
            "12:\tlearn: 0.0118347\ttest: 0.0146262\tbest: 0.0143885 (2)\ttotal: 217ms\tremaining: 1.45s\n",
            "Stopped by overfitting detector  (10 iterations wait)\n",
            "\n",
            "bestTest = 0.01438846284\n",
            "bestIteration = 2\n",
            "\n",
            "Shrink model to first 3 iterations.\n"
          ]
        },
        {
          "name": "stderr",
          "output_type": "stream",
          "text": [
            "/usr/local/lib/python3.7/dist-packages/pypfopt/efficient_frontier/efficient_frontier.py:258: UserWarning: max_sharpe transforms the optimization problem so additional objectives may not work as expected.\n",
            "  \"max_sharpe transforms the optimization problem so additional objectives may not work as expected.\"\n"
          ]
        },
        {
          "name": "stdout",
          "output_type": "stream",
          "text": [
            "2021-06-10 00:00:00\n",
            "0:\tlearn: 0.0131493\ttest: 0.0142170\tbest: 0.0142170 (0)\ttotal: 48.3ms\tremaining: 4.78s\n",
            "1:\tlearn: 0.0130425\ttest: 0.0142233\tbest: 0.0142170 (0)\ttotal: 63.5ms\tremaining: 3.11s\n",
            "2:\tlearn: 0.0129295\ttest: 0.0142214\tbest: 0.0142170 (0)\ttotal: 78.3ms\tremaining: 2.53s\n",
            "3:\tlearn: 0.0128386\ttest: 0.0142321\tbest: 0.0142170 (0)\ttotal: 94.3ms\tremaining: 2.26s\n",
            "4:\tlearn: 0.0127543\ttest: 0.0142338\tbest: 0.0142170 (0)\ttotal: 109ms\tremaining: 2.08s\n",
            "5:\tlearn: 0.0126476\ttest: 0.0142626\tbest: 0.0142170 (0)\ttotal: 124ms\tremaining: 1.95s\n",
            "6:\tlearn: 0.0125386\ttest: 0.0142863\tbest: 0.0142170 (0)\ttotal: 139ms\tremaining: 1.85s\n",
            "7:\tlearn: 0.0124653\ttest: 0.0142934\tbest: 0.0142170 (0)\ttotal: 154ms\tremaining: 1.78s\n",
            "8:\tlearn: 0.0123839\ttest: 0.0143015\tbest: 0.0142170 (0)\ttotal: 170ms\tremaining: 1.72s\n",
            "9:\tlearn: 0.0123163\ttest: 0.0143063\tbest: 0.0142170 (0)\ttotal: 185ms\tremaining: 1.67s\n",
            "10:\tlearn: 0.0122614\ttest: 0.0143110\tbest: 0.0142170 (0)\ttotal: 201ms\tremaining: 1.62s\n",
            "Stopped by overfitting detector  (10 iterations wait)\n",
            "\n",
            "bestTest = 0.01421699665\n",
            "bestIteration = 0\n",
            "\n",
            "Shrink model to first 1 iterations.\n"
          ]
        },
        {
          "name": "stderr",
          "output_type": "stream",
          "text": [
            "/usr/local/lib/python3.7/dist-packages/pypfopt/efficient_frontier/efficient_frontier.py:258: UserWarning: max_sharpe transforms the optimization problem so additional objectives may not work as expected.\n",
            "  \"max_sharpe transforms the optimization problem so additional objectives may not work as expected.\"\n"
          ]
        },
        {
          "name": "stdout",
          "output_type": "stream",
          "text": [
            "2021-06-11 00:00:00\n",
            "0:\tlearn: 0.0146832\ttest: 0.0135189\tbest: 0.0135189 (0)\ttotal: 15.9ms\tremaining: 1.57s\n",
            "1:\tlearn: 0.0144218\ttest: 0.0135446\tbest: 0.0135189 (0)\ttotal: 32.1ms\tremaining: 1.57s\n",
            "2:\tlearn: 0.0142131\ttest: 0.0136488\tbest: 0.0135189 (0)\ttotal: 47.1ms\tremaining: 1.52s\n",
            "3:\tlearn: 0.0139821\ttest: 0.0137138\tbest: 0.0135189 (0)\ttotal: 63.9ms\tremaining: 1.53s\n",
            "4:\tlearn: 0.0138363\ttest: 0.0138448\tbest: 0.0135189 (0)\ttotal: 78.8ms\tremaining: 1.5s\n",
            "5:\tlearn: 0.0136679\ttest: 0.0140023\tbest: 0.0135189 (0)\ttotal: 94.5ms\tremaining: 1.48s\n",
            "6:\tlearn: 0.0135399\ttest: 0.0141155\tbest: 0.0135189 (0)\ttotal: 111ms\tremaining: 1.47s\n",
            "7:\tlearn: 0.0134490\ttest: 0.0142592\tbest: 0.0135189 (0)\ttotal: 130ms\tremaining: 1.49s\n",
            "8:\tlearn: 0.0133302\ttest: 0.0143719\tbest: 0.0135189 (0)\ttotal: 145ms\tremaining: 1.47s\n",
            "9:\tlearn: 0.0132300\ttest: 0.0145299\tbest: 0.0135189 (0)\ttotal: 160ms\tremaining: 1.44s\n",
            "10:\tlearn: 0.0131310\ttest: 0.0146269\tbest: 0.0135189 (0)\ttotal: 176ms\tremaining: 1.42s\n",
            "Stopped by overfitting detector  (10 iterations wait)\n",
            "\n",
            "bestTest = 0.01351891627\n",
            "bestIteration = 0\n",
            "\n",
            "Shrink model to first 1 iterations.\n"
          ]
        },
        {
          "name": "stderr",
          "output_type": "stream",
          "text": [
            "/usr/local/lib/python3.7/dist-packages/pypfopt/efficient_frontier/efficient_frontier.py:258: UserWarning: max_sharpe transforms the optimization problem so additional objectives may not work as expected.\n",
            "  \"max_sharpe transforms the optimization problem so additional objectives may not work as expected.\"\n"
          ]
        },
        {
          "name": "stdout",
          "output_type": "stream",
          "text": [
            "2021-06-14 00:00:00\n",
            "0:\tlearn: 0.0141697\ttest: 0.0137314\tbest: 0.0137314 (0)\ttotal: 17.4ms\tremaining: 1.72s\n",
            "1:\tlearn: 0.0139632\ttest: 0.0137851\tbest: 0.0137314 (0)\ttotal: 33.7ms\tremaining: 1.65s\n",
            "2:\tlearn: 0.0137971\ttest: 0.0138453\tbest: 0.0137314 (0)\ttotal: 54ms\tremaining: 1.74s\n",
            "3:\tlearn: 0.0136675\ttest: 0.0139038\tbest: 0.0137314 (0)\ttotal: 74.1ms\tremaining: 1.78s\n",
            "4:\tlearn: 0.0135377\ttest: 0.0139155\tbest: 0.0137314 (0)\ttotal: 89.3ms\tremaining: 1.7s\n",
            "5:\tlearn: 0.0134237\ttest: 0.0139339\tbest: 0.0137314 (0)\ttotal: 104ms\tremaining: 1.63s\n",
            "6:\tlearn: 0.0132796\ttest: 0.0139642\tbest: 0.0137314 (0)\ttotal: 120ms\tremaining: 1.6s\n",
            "7:\tlearn: 0.0132068\ttest: 0.0139951\tbest: 0.0137314 (0)\ttotal: 135ms\tremaining: 1.55s\n",
            "8:\tlearn: 0.0131304\ttest: 0.0140267\tbest: 0.0137314 (0)\ttotal: 150ms\tremaining: 1.52s\n",
            "9:\tlearn: 0.0130552\ttest: 0.0140509\tbest: 0.0137314 (0)\ttotal: 166ms\tremaining: 1.49s\n",
            "10:\tlearn: 0.0129678\ttest: 0.0140809\tbest: 0.0137314 (0)\ttotal: 182ms\tremaining: 1.47s\n",
            "Stopped by overfitting detector  (10 iterations wait)\n",
            "\n",
            "bestTest = 0.01373144935\n",
            "bestIteration = 0\n",
            "\n",
            "Shrink model to first 1 iterations.\n"
          ]
        },
        {
          "name": "stderr",
          "output_type": "stream",
          "text": [
            "/usr/local/lib/python3.7/dist-packages/pypfopt/efficient_frontier/efficient_frontier.py:258: UserWarning: max_sharpe transforms the optimization problem so additional objectives may not work as expected.\n",
            "  \"max_sharpe transforms the optimization problem so additional objectives may not work as expected.\"\n"
          ]
        },
        {
          "name": "stdout",
          "output_type": "stream",
          "text": [
            "2021-06-15 00:00:00\n",
            "0:\tlearn: 0.0136154\ttest: 0.0138469\tbest: 0.0138469 (0)\ttotal: 16.3ms\tremaining: 1.61s\n",
            "1:\tlearn: 0.0134576\ttest: 0.0139036\tbest: 0.0138469 (0)\ttotal: 33.5ms\tremaining: 1.64s\n",
            "2:\tlearn: 0.0133122\ttest: 0.0139022\tbest: 0.0138469 (0)\ttotal: 49ms\tremaining: 1.58s\n",
            "3:\tlearn: 0.0131608\ttest: 0.0139030\tbest: 0.0138469 (0)\ttotal: 65ms\tremaining: 1.56s\n",
            "4:\tlearn: 0.0130035\ttest: 0.0138947\tbest: 0.0138469 (0)\ttotal: 79.7ms\tremaining: 1.51s\n",
            "5:\tlearn: 0.0129195\ttest: 0.0139051\tbest: 0.0138469 (0)\ttotal: 95ms\tremaining: 1.49s\n",
            "6:\tlearn: 0.0128034\ttest: 0.0139192\tbest: 0.0138469 (0)\ttotal: 110ms\tremaining: 1.46s\n",
            "7:\tlearn: 0.0127004\ttest: 0.0139256\tbest: 0.0138469 (0)\ttotal: 127ms\tremaining: 1.47s\n",
            "8:\tlearn: 0.0125916\ttest: 0.0139655\tbest: 0.0138469 (0)\ttotal: 143ms\tremaining: 1.45s\n",
            "9:\tlearn: 0.0124839\ttest: 0.0139893\tbest: 0.0138469 (0)\ttotal: 158ms\tremaining: 1.42s\n",
            "10:\tlearn: 0.0124079\ttest: 0.0140095\tbest: 0.0138469 (0)\ttotal: 174ms\tremaining: 1.4s\n",
            "Stopped by overfitting detector  (10 iterations wait)\n",
            "\n",
            "bestTest = 0.01384691444\n",
            "bestIteration = 0\n",
            "\n",
            "Shrink model to first 1 iterations.\n"
          ]
        },
        {
          "name": "stderr",
          "output_type": "stream",
          "text": [
            "/usr/local/lib/python3.7/dist-packages/pypfopt/efficient_frontier/efficient_frontier.py:258: UserWarning: max_sharpe transforms the optimization problem so additional objectives may not work as expected.\n",
            "  \"max_sharpe transforms the optimization problem so additional objectives may not work as expected.\"\n"
          ]
        },
        {
          "name": "stdout",
          "output_type": "stream",
          "text": [
            "2021-06-16 00:00:00\n",
            "0:\tlearn: 0.0133277\ttest: 0.0139084\tbest: 0.0139084 (0)\ttotal: 17.3ms\tremaining: 1.71s\n",
            "1:\tlearn: 0.0131436\ttest: 0.0139301\tbest: 0.0139084 (0)\ttotal: 33.5ms\tremaining: 1.64s\n",
            "2:\tlearn: 0.0129490\ttest: 0.0139261\tbest: 0.0139084 (0)\ttotal: 49.1ms\tremaining: 1.59s\n",
            "3:\tlearn: 0.0128273\ttest: 0.0139411\tbest: 0.0139084 (0)\ttotal: 64.9ms\tremaining: 1.56s\n",
            "4:\tlearn: 0.0126802\ttest: 0.0139256\tbest: 0.0139084 (0)\ttotal: 80.4ms\tremaining: 1.53s\n",
            "5:\tlearn: 0.0125797\ttest: 0.0139504\tbest: 0.0139084 (0)\ttotal: 95.9ms\tremaining: 1.5s\n",
            "6:\tlearn: 0.0124524\ttest: 0.0139461\tbest: 0.0139084 (0)\ttotal: 111ms\tremaining: 1.47s\n",
            "7:\tlearn: 0.0123650\ttest: 0.0139453\tbest: 0.0139084 (0)\ttotal: 126ms\tremaining: 1.45s\n",
            "8:\tlearn: 0.0122757\ttest: 0.0139496\tbest: 0.0139084 (0)\ttotal: 143ms\tremaining: 1.45s\n",
            "9:\tlearn: 0.0121895\ttest: 0.0139566\tbest: 0.0139084 (0)\ttotal: 158ms\tremaining: 1.42s\n",
            "10:\tlearn: 0.0120866\ttest: 0.0139556\tbest: 0.0139084 (0)\ttotal: 173ms\tremaining: 1.4s\n",
            "Stopped by overfitting detector  (10 iterations wait)\n",
            "\n",
            "bestTest = 0.01390836878\n",
            "bestIteration = 0\n",
            "\n",
            "Shrink model to first 1 iterations.\n"
          ]
        },
        {
          "name": "stderr",
          "output_type": "stream",
          "text": [
            "/usr/local/lib/python3.7/dist-packages/pypfopt/efficient_frontier/efficient_frontier.py:258: UserWarning: max_sharpe transforms the optimization problem so additional objectives may not work as expected.\n",
            "  \"max_sharpe transforms the optimization problem so additional objectives may not work as expected.\"\n"
          ]
        },
        {
          "name": "stdout",
          "output_type": "stream",
          "text": [
            "2021-06-17 00:00:00\n",
            "0:\tlearn: 0.0136875\ttest: 0.0138060\tbest: 0.0138060 (0)\ttotal: 36.1ms\tremaining: 3.58s\n",
            "1:\tlearn: 0.0134594\ttest: 0.0138194\tbest: 0.0138060 (0)\ttotal: 72.3ms\tremaining: 3.54s\n",
            "2:\tlearn: 0.0132880\ttest: 0.0138528\tbest: 0.0138060 (0)\ttotal: 116ms\tremaining: 3.74s\n",
            "3:\tlearn: 0.0131340\ttest: 0.0138974\tbest: 0.0138060 (0)\ttotal: 159ms\tremaining: 3.81s\n",
            "4:\tlearn: 0.0129795\ttest: 0.0138717\tbest: 0.0138060 (0)\ttotal: 199ms\tremaining: 3.78s\n",
            "5:\tlearn: 0.0128487\ttest: 0.0138644\tbest: 0.0138060 (0)\ttotal: 215ms\tremaining: 3.37s\n",
            "6:\tlearn: 0.0127267\ttest: 0.0139160\tbest: 0.0138060 (0)\ttotal: 230ms\tremaining: 3.05s\n",
            "7:\tlearn: 0.0126331\ttest: 0.0139134\tbest: 0.0138060 (0)\ttotal: 248ms\tremaining: 2.85s\n",
            "8:\tlearn: 0.0125334\ttest: 0.0139135\tbest: 0.0138060 (0)\ttotal: 263ms\tremaining: 2.66s\n",
            "9:\tlearn: 0.0124419\ttest: 0.0139629\tbest: 0.0138060 (0)\ttotal: 279ms\tremaining: 2.52s\n",
            "10:\tlearn: 0.0123686\ttest: 0.0139655\tbest: 0.0138060 (0)\ttotal: 295ms\tremaining: 2.38s\n",
            "Stopped by overfitting detector  (10 iterations wait)\n",
            "\n",
            "bestTest = 0.01380596523\n",
            "bestIteration = 0\n",
            "\n",
            "Shrink model to first 1 iterations.\n"
          ]
        },
        {
          "name": "stderr",
          "output_type": "stream",
          "text": [
            "/usr/local/lib/python3.7/dist-packages/pypfopt/efficient_frontier/efficient_frontier.py:258: UserWarning: max_sharpe transforms the optimization problem so additional objectives may not work as expected.\n",
            "  \"max_sharpe transforms the optimization problem so additional objectives may not work as expected.\"\n"
          ]
        },
        {
          "name": "stdout",
          "output_type": "stream",
          "text": [
            "2021-06-18 00:00:00\n",
            "0:\tlearn: 0.0141553\ttest: 0.0135786\tbest: 0.0135786 (0)\ttotal: 28.3ms\tremaining: 2.81s\n",
            "1:\tlearn: 0.0139541\ttest: 0.0135850\tbest: 0.0135786 (0)\ttotal: 72.8ms\tremaining: 3.57s\n",
            "2:\tlearn: 0.0137248\ttest: 0.0136295\tbest: 0.0135786 (0)\ttotal: 118ms\tremaining: 3.83s\n",
            "3:\tlearn: 0.0135793\ttest: 0.0136696\tbest: 0.0135786 (0)\ttotal: 164ms\tremaining: 3.92s\n",
            "4:\tlearn: 0.0134406\ttest: 0.0137085\tbest: 0.0135786 (0)\ttotal: 203ms\tremaining: 3.85s\n",
            "5:\tlearn: 0.0133502\ttest: 0.0137763\tbest: 0.0135786 (0)\ttotal: 223ms\tremaining: 3.49s\n",
            "6:\tlearn: 0.0132344\ttest: 0.0138075\tbest: 0.0135786 (0)\ttotal: 250ms\tremaining: 3.33s\n",
            "7:\tlearn: 0.0131102\ttest: 0.0138582\tbest: 0.0135786 (0)\ttotal: 294ms\tremaining: 3.38s\n",
            "8:\tlearn: 0.0129935\ttest: 0.0138984\tbest: 0.0135786 (0)\ttotal: 328ms\tremaining: 3.32s\n",
            "9:\tlearn: 0.0129049\ttest: 0.0139100\tbest: 0.0135786 (0)\ttotal: 364ms\tremaining: 3.28s\n",
            "10:\tlearn: 0.0128528\ttest: 0.0139242\tbest: 0.0135786 (0)\ttotal: 391ms\tremaining: 3.17s\n",
            "Stopped by overfitting detector  (10 iterations wait)\n",
            "\n",
            "bestTest = 0.01357857224\n",
            "bestIteration = 0\n",
            "\n",
            "Shrink model to first 1 iterations.\n"
          ]
        },
        {
          "name": "stderr",
          "output_type": "stream",
          "text": [
            "/usr/local/lib/python3.7/dist-packages/pypfopt/efficient_frontier/efficient_frontier.py:258: UserWarning: max_sharpe transforms the optimization problem so additional objectives may not work as expected.\n",
            "  \"max_sharpe transforms the optimization problem so additional objectives may not work as expected.\"\n"
          ]
        },
        {
          "name": "stdout",
          "output_type": "stream",
          "text": [
            "2021-06-21 00:00:00\n",
            "0:\tlearn: 0.0134498\ttest: 0.0143263\tbest: 0.0143263 (0)\ttotal: 22.6ms\tremaining: 2.24s\n",
            "1:\tlearn: 0.0132105\ttest: 0.0144415\tbest: 0.0143263 (0)\ttotal: 67.1ms\tremaining: 3.29s\n",
            "2:\tlearn: 0.0129930\ttest: 0.0145734\tbest: 0.0143263 (0)\ttotal: 111ms\tremaining: 3.6s\n",
            "3:\tlearn: 0.0128061\ttest: 0.0146422\tbest: 0.0143263 (0)\ttotal: 140ms\tremaining: 3.35s\n",
            "4:\tlearn: 0.0126438\ttest: 0.0147825\tbest: 0.0143263 (0)\ttotal: 159ms\tremaining: 3.03s\n",
            "5:\tlearn: 0.0125157\ttest: 0.0148762\tbest: 0.0143263 (0)\ttotal: 180ms\tremaining: 2.81s\n",
            "6:\tlearn: 0.0124045\ttest: 0.0149266\tbest: 0.0143263 (0)\ttotal: 199ms\tremaining: 2.65s\n",
            "7:\tlearn: 0.0122915\ttest: 0.0149652\tbest: 0.0143263 (0)\ttotal: 237ms\tremaining: 2.72s\n",
            "8:\tlearn: 0.0121911\ttest: 0.0149775\tbest: 0.0143263 (0)\ttotal: 285ms\tremaining: 2.88s\n",
            "9:\tlearn: 0.0121073\ttest: 0.0149985\tbest: 0.0143263 (0)\ttotal: 326ms\tremaining: 2.93s\n",
            "10:\tlearn: 0.0120149\ttest: 0.0150023\tbest: 0.0143263 (0)\ttotal: 368ms\tremaining: 2.98s\n",
            "Stopped by overfitting detector  (10 iterations wait)\n",
            "\n",
            "bestTest = 0.01432627427\n",
            "bestIteration = 0\n",
            "\n",
            "Shrink model to first 1 iterations.\n"
          ]
        },
        {
          "name": "stderr",
          "output_type": "stream",
          "text": [
            "/usr/local/lib/python3.7/dist-packages/pypfopt/efficient_frontier/efficient_frontier.py:258: UserWarning: max_sharpe transforms the optimization problem so additional objectives may not work as expected.\n",
            "  \"max_sharpe transforms the optimization problem so additional objectives may not work as expected.\"\n"
          ]
        },
        {
          "name": "stdout",
          "output_type": "stream",
          "text": [
            "2021-06-22 00:00:00\n",
            "0:\tlearn: 0.0138712\ttest: 0.0134497\tbest: 0.0134497 (0)\ttotal: 16.1ms\tremaining: 1.59s\n",
            "1:\tlearn: 0.0135924\ttest: 0.0134363\tbest: 0.0134363 (1)\ttotal: 32.6ms\tremaining: 1.6s\n",
            "2:\tlearn: 0.0133567\ttest: 0.0134444\tbest: 0.0134363 (1)\ttotal: 47.8ms\tremaining: 1.54s\n",
            "3:\tlearn: 0.0131755\ttest: 0.0134501\tbest: 0.0134363 (1)\ttotal: 63.6ms\tremaining: 1.53s\n",
            "4:\tlearn: 0.0130311\ttest: 0.0134359\tbest: 0.0134359 (4)\ttotal: 78.8ms\tremaining: 1.5s\n",
            "5:\tlearn: 0.0129203\ttest: 0.0134602\tbest: 0.0134359 (4)\ttotal: 93.9ms\tremaining: 1.47s\n",
            "6:\tlearn: 0.0128087\ttest: 0.0134651\tbest: 0.0134359 (4)\ttotal: 109ms\tremaining: 1.45s\n",
            "7:\tlearn: 0.0126381\ttest: 0.0134809\tbest: 0.0134359 (4)\ttotal: 124ms\tremaining: 1.42s\n",
            "8:\tlearn: 0.0125343\ttest: 0.0134920\tbest: 0.0134359 (4)\ttotal: 142ms\tremaining: 1.43s\n",
            "9:\tlearn: 0.0124369\ttest: 0.0135059\tbest: 0.0134359 (4)\ttotal: 157ms\tremaining: 1.41s\n",
            "10:\tlearn: 0.0123073\ttest: 0.0134974\tbest: 0.0134359 (4)\ttotal: 173ms\tremaining: 1.4s\n",
            "11:\tlearn: 0.0121799\ttest: 0.0135165\tbest: 0.0134359 (4)\ttotal: 188ms\tremaining: 1.38s\n",
            "12:\tlearn: 0.0120988\ttest: 0.0135195\tbest: 0.0134359 (4)\ttotal: 203ms\tremaining: 1.36s\n",
            "13:\tlearn: 0.0120254\ttest: 0.0135374\tbest: 0.0134359 (4)\ttotal: 220ms\tremaining: 1.35s\n",
            "14:\tlearn: 0.0119319\ttest: 0.0135512\tbest: 0.0134359 (4)\ttotal: 236ms\tremaining: 1.33s\n",
            "Stopped by overfitting detector  (10 iterations wait)\n",
            "\n",
            "bestTest = 0.01343589457\n",
            "bestIteration = 4\n",
            "\n",
            "Shrink model to first 5 iterations.\n"
          ]
        },
        {
          "name": "stderr",
          "output_type": "stream",
          "text": [
            "/usr/local/lib/python3.7/dist-packages/pypfopt/efficient_frontier/efficient_frontier.py:258: UserWarning: max_sharpe transforms the optimization problem so additional objectives may not work as expected.\n",
            "  \"max_sharpe transforms the optimization problem so additional objectives may not work as expected.\"\n"
          ]
        },
        {
          "name": "stdout",
          "output_type": "stream",
          "text": [
            "2021-06-23 00:00:00\n",
            "0:\tlearn: 0.0138929\ttest: 0.0133491\tbest: 0.0133491 (0)\ttotal: 15.7ms\tremaining: 1.55s\n",
            "1:\tlearn: 0.0137221\ttest: 0.0133576\tbest: 0.0133491 (0)\ttotal: 33ms\tremaining: 1.62s\n",
            "2:\tlearn: 0.0135519\ttest: 0.0133760\tbest: 0.0133491 (0)\ttotal: 48.8ms\tremaining: 1.58s\n",
            "3:\tlearn: 0.0134144\ttest: 0.0133878\tbest: 0.0133491 (0)\ttotal: 64.8ms\tremaining: 1.55s\n",
            "4:\tlearn: 0.0132786\ttest: 0.0133879\tbest: 0.0133491 (0)\ttotal: 79.7ms\tremaining: 1.51s\n",
            "5:\tlearn: 0.0131949\ttest: 0.0134161\tbest: 0.0133491 (0)\ttotal: 94.4ms\tremaining: 1.48s\n",
            "6:\tlearn: 0.0131049\ttest: 0.0134348\tbest: 0.0133491 (0)\ttotal: 109ms\tremaining: 1.45s\n",
            "7:\tlearn: 0.0129954\ttest: 0.0134489\tbest: 0.0133491 (0)\ttotal: 125ms\tremaining: 1.43s\n",
            "8:\tlearn: 0.0128962\ttest: 0.0134715\tbest: 0.0133491 (0)\ttotal: 140ms\tremaining: 1.42s\n",
            "9:\tlearn: 0.0127930\ttest: 0.0134953\tbest: 0.0133491 (0)\ttotal: 156ms\tremaining: 1.4s\n",
            "10:\tlearn: 0.0127070\ttest: 0.0135248\tbest: 0.0133491 (0)\ttotal: 171ms\tremaining: 1.38s\n",
            "Stopped by overfitting detector  (10 iterations wait)\n",
            "\n",
            "bestTest = 0.01334913755\n",
            "bestIteration = 0\n",
            "\n",
            "Shrink model to first 1 iterations.\n"
          ]
        },
        {
          "name": "stderr",
          "output_type": "stream",
          "text": [
            "/usr/local/lib/python3.7/dist-packages/pypfopt/efficient_frontier/efficient_frontier.py:258: UserWarning: max_sharpe transforms the optimization problem so additional objectives may not work as expected.\n",
            "  \"max_sharpe transforms the optimization problem so additional objectives may not work as expected.\"\n"
          ]
        },
        {
          "name": "stdout",
          "output_type": "stream",
          "text": [
            "2021-06-24 00:00:00\n",
            "0:\tlearn: 0.0131910\ttest: 0.0134736\tbest: 0.0134736 (0)\ttotal: 15.6ms\tremaining: 1.54s\n",
            "1:\tlearn: 0.0130284\ttest: 0.0135261\tbest: 0.0134736 (0)\ttotal: 32.1ms\tremaining: 1.57s\n",
            "2:\tlearn: 0.0128617\ttest: 0.0135935\tbest: 0.0134736 (0)\ttotal: 46.7ms\tremaining: 1.51s\n",
            "3:\tlearn: 0.0126923\ttest: 0.0136708\tbest: 0.0134736 (0)\ttotal: 62ms\tremaining: 1.49s\n",
            "4:\tlearn: 0.0125426\ttest: 0.0137402\tbest: 0.0134736 (0)\ttotal: 77.3ms\tremaining: 1.47s\n",
            "5:\tlearn: 0.0124506\ttest: 0.0137462\tbest: 0.0134736 (0)\ttotal: 92.3ms\tremaining: 1.45s\n",
            "6:\tlearn: 0.0123502\ttest: 0.0138045\tbest: 0.0134736 (0)\ttotal: 110ms\tremaining: 1.47s\n",
            "7:\tlearn: 0.0122463\ttest: 0.0138871\tbest: 0.0134736 (0)\ttotal: 126ms\tremaining: 1.45s\n",
            "8:\tlearn: 0.0121638\ttest: 0.0138975\tbest: 0.0134736 (0)\ttotal: 141ms\tremaining: 1.42s\n",
            "9:\tlearn: 0.0120526\ttest: 0.0139443\tbest: 0.0134736 (0)\ttotal: 156ms\tremaining: 1.4s\n",
            "10:\tlearn: 0.0119773\ttest: 0.0139752\tbest: 0.0134736 (0)\ttotal: 171ms\tremaining: 1.38s\n",
            "Stopped by overfitting detector  (10 iterations wait)\n",
            "\n",
            "bestTest = 0.01347363195\n",
            "bestIteration = 0\n",
            "\n",
            "Shrink model to first 1 iterations.\n"
          ]
        },
        {
          "name": "stderr",
          "output_type": "stream",
          "text": [
            "/usr/local/lib/python3.7/dist-packages/pypfopt/efficient_frontier/efficient_frontier.py:258: UserWarning: max_sharpe transforms the optimization problem so additional objectives may not work as expected.\n",
            "  \"max_sharpe transforms the optimization problem so additional objectives may not work as expected.\"\n"
          ]
        },
        {
          "name": "stdout",
          "output_type": "stream",
          "text": [
            "2021-06-25 00:00:00\n",
            "0:\tlearn: 0.0128459\ttest: 0.0136559\tbest: 0.0136559 (0)\ttotal: 16ms\tremaining: 1.58s\n",
            "1:\tlearn: 0.0127550\ttest: 0.0136301\tbest: 0.0136301 (1)\ttotal: 33.4ms\tremaining: 1.64s\n",
            "2:\tlearn: 0.0126622\ttest: 0.0136287\tbest: 0.0136287 (2)\ttotal: 48.6ms\tremaining: 1.57s\n",
            "3:\tlearn: 0.0125819\ttest: 0.0136352\tbest: 0.0136287 (2)\ttotal: 64.5ms\tremaining: 1.55s\n",
            "4:\tlearn: 0.0125059\ttest: 0.0136263\tbest: 0.0136263 (4)\ttotal: 79.8ms\tremaining: 1.51s\n",
            "5:\tlearn: 0.0124359\ttest: 0.0136302\tbest: 0.0136263 (4)\ttotal: 94.8ms\tremaining: 1.48s\n",
            "6:\tlearn: 0.0123588\ttest: 0.0136318\tbest: 0.0136263 (4)\ttotal: 110ms\tremaining: 1.46s\n",
            "7:\tlearn: 0.0122638\ttest: 0.0136278\tbest: 0.0136263 (4)\ttotal: 128ms\tremaining: 1.48s\n",
            "8:\tlearn: 0.0121957\ttest: 0.0136226\tbest: 0.0136226 (8)\ttotal: 143ms\tremaining: 1.45s\n",
            "9:\tlearn: 0.0121120\ttest: 0.0136332\tbest: 0.0136226 (8)\ttotal: 158ms\tremaining: 1.43s\n",
            "10:\tlearn: 0.0120547\ttest: 0.0136329\tbest: 0.0136226 (8)\ttotal: 178ms\tremaining: 1.44s\n",
            "11:\tlearn: 0.0119961\ttest: 0.0136434\tbest: 0.0136226 (8)\ttotal: 194ms\tremaining: 1.42s\n",
            "12:\tlearn: 0.0119256\ttest: 0.0136616\tbest: 0.0136226 (8)\ttotal: 209ms\tremaining: 1.4s\n",
            "13:\tlearn: 0.0118643\ttest: 0.0136718\tbest: 0.0136226 (8)\ttotal: 230ms\tremaining: 1.41s\n",
            "14:\tlearn: 0.0118087\ttest: 0.0136706\tbest: 0.0136226 (8)\ttotal: 246ms\tremaining: 1.39s\n",
            "15:\tlearn: 0.0117473\ttest: 0.0136779\tbest: 0.0136226 (8)\ttotal: 261ms\tremaining: 1.37s\n",
            "16:\tlearn: 0.0116881\ttest: 0.0136750\tbest: 0.0136226 (8)\ttotal: 276ms\tremaining: 1.35s\n",
            "17:\tlearn: 0.0116335\ttest: 0.0136859\tbest: 0.0136226 (8)\ttotal: 291ms\tremaining: 1.33s\n",
            "18:\tlearn: 0.0115881\ttest: 0.0136886\tbest: 0.0136226 (8)\ttotal: 307ms\tremaining: 1.31s\n",
            "Stopped by overfitting detector  (10 iterations wait)\n",
            "\n",
            "bestTest = 0.01362257544\n",
            "bestIteration = 8\n",
            "\n",
            "Shrink model to first 9 iterations.\n"
          ]
        },
        {
          "name": "stderr",
          "output_type": "stream",
          "text": [
            "/usr/local/lib/python3.7/dist-packages/pypfopt/efficient_frontier/efficient_frontier.py:258: UserWarning: max_sharpe transforms the optimization problem so additional objectives may not work as expected.\n",
            "  \"max_sharpe transforms the optimization problem so additional objectives may not work as expected.\"\n"
          ]
        },
        {
          "name": "stdout",
          "output_type": "stream",
          "text": [
            "2021-06-28 00:00:00\n",
            "0:\tlearn: 0.0133120\ttest: 0.0132334\tbest: 0.0132334 (0)\ttotal: 15.6ms\tremaining: 1.55s\n",
            "1:\tlearn: 0.0131619\ttest: 0.0132269\tbest: 0.0132269 (1)\ttotal: 31.3ms\tremaining: 1.53s\n",
            "2:\tlearn: 0.0129917\ttest: 0.0132128\tbest: 0.0132128 (2)\ttotal: 46.6ms\tremaining: 1.5s\n",
            "3:\tlearn: 0.0128880\ttest: 0.0132073\tbest: 0.0132073 (3)\ttotal: 62.2ms\tremaining: 1.49s\n",
            "4:\tlearn: 0.0127629\ttest: 0.0131894\tbest: 0.0131894 (4)\ttotal: 77.4ms\tremaining: 1.47s\n",
            "5:\tlearn: 0.0126808\ttest: 0.0131935\tbest: 0.0131894 (4)\ttotal: 93.9ms\tremaining: 1.47s\n",
            "6:\tlearn: 0.0126077\ttest: 0.0132046\tbest: 0.0131894 (4)\ttotal: 116ms\tremaining: 1.54s\n",
            "7:\tlearn: 0.0125137\ttest: 0.0131982\tbest: 0.0131894 (4)\ttotal: 132ms\tremaining: 1.52s\n",
            "8:\tlearn: 0.0124370\ttest: 0.0132041\tbest: 0.0131894 (4)\ttotal: 147ms\tremaining: 1.49s\n",
            "9:\tlearn: 0.0123680\ttest: 0.0131949\tbest: 0.0131894 (4)\ttotal: 162ms\tremaining: 1.46s\n",
            "10:\tlearn: 0.0122994\ttest: 0.0131979\tbest: 0.0131894 (4)\ttotal: 177ms\tremaining: 1.43s\n",
            "11:\tlearn: 0.0121901\ttest: 0.0132077\tbest: 0.0131894 (4)\ttotal: 192ms\tremaining: 1.41s\n",
            "12:\tlearn: 0.0121378\ttest: 0.0132186\tbest: 0.0131894 (4)\ttotal: 208ms\tremaining: 1.39s\n",
            "13:\tlearn: 0.0120407\ttest: 0.0132341\tbest: 0.0131894 (4)\ttotal: 231ms\tremaining: 1.42s\n",
            "14:\tlearn: 0.0119868\ttest: 0.0132484\tbest: 0.0131894 (4)\ttotal: 245ms\tremaining: 1.39s\n",
            "Stopped by overfitting detector  (10 iterations wait)\n",
            "\n",
            "bestTest = 0.01318939595\n",
            "bestIteration = 4\n",
            "\n",
            "Shrink model to first 5 iterations.\n"
          ]
        },
        {
          "name": "stderr",
          "output_type": "stream",
          "text": [
            "/usr/local/lib/python3.7/dist-packages/pypfopt/efficient_frontier/efficient_frontier.py:258: UserWarning: max_sharpe transforms the optimization problem so additional objectives may not work as expected.\n",
            "  \"max_sharpe transforms the optimization problem so additional objectives may not work as expected.\"\n"
          ]
        },
        {
          "name": "stdout",
          "output_type": "stream",
          "text": [
            "2021-06-29 00:00:00\n",
            "0:\tlearn: 0.0121100\ttest: 0.0138048\tbest: 0.0138048 (0)\ttotal: 16.1ms\tremaining: 1.6s\n",
            "1:\tlearn: 0.0119857\ttest: 0.0138656\tbest: 0.0138048 (0)\ttotal: 31.5ms\tremaining: 1.54s\n",
            "2:\tlearn: 0.0118382\ttest: 0.0138990\tbest: 0.0138048 (0)\ttotal: 47.2ms\tremaining: 1.53s\n",
            "3:\tlearn: 0.0117327\ttest: 0.0139664\tbest: 0.0138048 (0)\ttotal: 63.6ms\tremaining: 1.53s\n",
            "4:\tlearn: 0.0116220\ttest: 0.0139943\tbest: 0.0138048 (0)\ttotal: 78.9ms\tremaining: 1.5s\n",
            "5:\tlearn: 0.0115517\ttest: 0.0140221\tbest: 0.0138048 (0)\ttotal: 95ms\tremaining: 1.49s\n",
            "6:\tlearn: 0.0114598\ttest: 0.0140233\tbest: 0.0138048 (0)\ttotal: 111ms\tremaining: 1.47s\n",
            "7:\tlearn: 0.0113502\ttest: 0.0140409\tbest: 0.0138048 (0)\ttotal: 127ms\tremaining: 1.46s\n",
            "8:\tlearn: 0.0112555\ttest: 0.0140452\tbest: 0.0138048 (0)\ttotal: 143ms\tremaining: 1.44s\n",
            "9:\tlearn: 0.0111757\ttest: 0.0140308\tbest: 0.0138048 (0)\ttotal: 158ms\tremaining: 1.43s\n",
            "10:\tlearn: 0.0110869\ttest: 0.0140314\tbest: 0.0138048 (0)\ttotal: 174ms\tremaining: 1.41s\n",
            "Stopped by overfitting detector  (10 iterations wait)\n",
            "\n",
            "bestTest = 0.01380478801\n",
            "bestIteration = 0\n",
            "\n",
            "Shrink model to first 1 iterations.\n"
          ]
        },
        {
          "name": "stderr",
          "output_type": "stream",
          "text": [
            "/usr/local/lib/python3.7/dist-packages/pypfopt/efficient_frontier/efficient_frontier.py:258: UserWarning: max_sharpe transforms the optimization problem so additional objectives may not work as expected.\n",
            "  \"max_sharpe transforms the optimization problem so additional objectives may not work as expected.\"\n"
          ]
        },
        {
          "name": "stdout",
          "output_type": "stream",
          "text": [
            "2021-06-30 00:00:00\n",
            "0:\tlearn: 0.0140134\ttest: 0.0128711\tbest: 0.0128711 (0)\ttotal: 16.2ms\tremaining: 1.61s\n",
            "1:\tlearn: 0.0137987\ttest: 0.0129079\tbest: 0.0128711 (0)\ttotal: 32.6ms\tremaining: 1.6s\n",
            "2:\tlearn: 0.0136049\ttest: 0.0129641\tbest: 0.0128711 (0)\ttotal: 48.2ms\tremaining: 1.56s\n",
            "3:\tlearn: 0.0134346\ttest: 0.0130215\tbest: 0.0128711 (0)\ttotal: 64.7ms\tremaining: 1.55s\n",
            "4:\tlearn: 0.0132733\ttest: 0.0131122\tbest: 0.0128711 (0)\ttotal: 87.3ms\tremaining: 1.66s\n",
            "5:\tlearn: 0.0131522\ttest: 0.0131703\tbest: 0.0128711 (0)\ttotal: 102ms\tremaining: 1.6s\n",
            "6:\tlearn: 0.0130341\ttest: 0.0132546\tbest: 0.0128711 (0)\ttotal: 117ms\tremaining: 1.56s\n",
            "7:\tlearn: 0.0129166\ttest: 0.0133101\tbest: 0.0128711 (0)\ttotal: 134ms\tremaining: 1.54s\n",
            "8:\tlearn: 0.0128241\ttest: 0.0133713\tbest: 0.0128711 (0)\ttotal: 149ms\tremaining: 1.5s\n",
            "9:\tlearn: 0.0127158\ttest: 0.0134314\tbest: 0.0128711 (0)\ttotal: 163ms\tremaining: 1.47s\n",
            "10:\tlearn: 0.0126113\ttest: 0.0134821\tbest: 0.0128711 (0)\ttotal: 187ms\tremaining: 1.51s\n",
            "Stopped by overfitting detector  (10 iterations wait)\n",
            "\n",
            "bestTest = 0.01287107225\n",
            "bestIteration = 0\n",
            "\n",
            "Shrink model to first 1 iterations.\n"
          ]
        },
        {
          "name": "stderr",
          "output_type": "stream",
          "text": [
            "/usr/local/lib/python3.7/dist-packages/pypfopt/efficient_frontier/efficient_frontier.py:258: UserWarning: max_sharpe transforms the optimization problem so additional objectives may not work as expected.\n",
            "  \"max_sharpe transforms the optimization problem so additional objectives may not work as expected.\"\n"
          ]
        },
        {
          "name": "stdout",
          "output_type": "stream",
          "text": [
            "2021-07-01 00:00:00\n",
            "0:\tlearn: 0.0122922\ttest: 0.0133608\tbest: 0.0133608 (0)\ttotal: 16.1ms\tremaining: 1.59s\n",
            "1:\tlearn: 0.0120927\ttest: 0.0134118\tbest: 0.0133608 (0)\ttotal: 32.4ms\tremaining: 1.59s\n",
            "2:\tlearn: 0.0119168\ttest: 0.0134836\tbest: 0.0133608 (0)\ttotal: 48.3ms\tremaining: 1.56s\n",
            "3:\tlearn: 0.0117731\ttest: 0.0135262\tbest: 0.0133608 (0)\ttotal: 64.5ms\tremaining: 1.55s\n",
            "4:\tlearn: 0.0116187\ttest: 0.0136023\tbest: 0.0133608 (0)\ttotal: 80.1ms\tremaining: 1.52s\n",
            "5:\tlearn: 0.0114895\ttest: 0.0136160\tbest: 0.0133608 (0)\ttotal: 95.2ms\tremaining: 1.49s\n",
            "6:\tlearn: 0.0113616\ttest: 0.0136653\tbest: 0.0133608 (0)\ttotal: 111ms\tremaining: 1.47s\n",
            "7:\tlearn: 0.0112524\ttest: 0.0137270\tbest: 0.0133608 (0)\ttotal: 126ms\tremaining: 1.45s\n",
            "8:\tlearn: 0.0111431\ttest: 0.0137535\tbest: 0.0133608 (0)\ttotal: 142ms\tremaining: 1.44s\n",
            "9:\tlearn: 0.0110332\ttest: 0.0137669\tbest: 0.0133608 (0)\ttotal: 158ms\tremaining: 1.42s\n",
            "10:\tlearn: 0.0109640\ttest: 0.0137902\tbest: 0.0133608 (0)\ttotal: 173ms\tremaining: 1.4s\n",
            "Stopped by overfitting detector  (10 iterations wait)\n",
            "\n",
            "bestTest = 0.01336075304\n",
            "bestIteration = 0\n",
            "\n",
            "Shrink model to first 1 iterations.\n"
          ]
        },
        {
          "name": "stderr",
          "output_type": "stream",
          "text": [
            "/usr/local/lib/python3.7/dist-packages/pypfopt/efficient_frontier/efficient_frontier.py:258: UserWarning: max_sharpe transforms the optimization problem so additional objectives may not work as expected.\n",
            "  \"max_sharpe transforms the optimization problem so additional objectives may not work as expected.\"\n"
          ]
        },
        {
          "name": "stdout",
          "output_type": "stream",
          "text": [
            "2021-07-02 00:00:00\n",
            "0:\tlearn: 0.0134659\ttest: 0.0127690\tbest: 0.0127690 (0)\ttotal: 16.1ms\tremaining: 1.59s\n",
            "1:\tlearn: 0.0132560\ttest: 0.0128413\tbest: 0.0127690 (0)\ttotal: 38ms\tremaining: 1.86s\n",
            "2:\tlearn: 0.0130209\ttest: 0.0128959\tbest: 0.0127690 (0)\ttotal: 52.9ms\tremaining: 1.71s\n",
            "3:\tlearn: 0.0128351\ttest: 0.0129554\tbest: 0.0127690 (0)\ttotal: 79.7ms\tremaining: 1.91s\n",
            "4:\tlearn: 0.0126474\ttest: 0.0130389\tbest: 0.0127690 (0)\ttotal: 94.8ms\tremaining: 1.8s\n",
            "5:\tlearn: 0.0124928\ttest: 0.0130749\tbest: 0.0127690 (0)\ttotal: 109ms\tremaining: 1.72s\n",
            "6:\tlearn: 0.0123317\ttest: 0.0130960\tbest: 0.0127690 (0)\ttotal: 125ms\tremaining: 1.66s\n",
            "7:\tlearn: 0.0122176\ttest: 0.0131466\tbest: 0.0127690 (0)\ttotal: 139ms\tremaining: 1.6s\n",
            "8:\tlearn: 0.0120979\ttest: 0.0131662\tbest: 0.0127690 (0)\ttotal: 155ms\tremaining: 1.56s\n",
            "9:\tlearn: 0.0120203\ttest: 0.0132161\tbest: 0.0127690 (0)\ttotal: 169ms\tremaining: 1.52s\n",
            "10:\tlearn: 0.0119151\ttest: 0.0132544\tbest: 0.0127690 (0)\ttotal: 185ms\tremaining: 1.5s\n",
            "Stopped by overfitting detector  (10 iterations wait)\n",
            "\n",
            "bestTest = 0.01276897434\n",
            "bestIteration = 0\n",
            "\n",
            "Shrink model to first 1 iterations.\n"
          ]
        },
        {
          "name": "stderr",
          "output_type": "stream",
          "text": [
            "/usr/local/lib/python3.7/dist-packages/pypfopt/efficient_frontier/efficient_frontier.py:258: UserWarning: max_sharpe transforms the optimization problem so additional objectives may not work as expected.\n",
            "  \"max_sharpe transforms the optimization problem so additional objectives may not work as expected.\"\n"
          ]
        },
        {
          "name": "stdout",
          "output_type": "stream",
          "text": [
            "2021-07-06 00:00:00\n",
            "0:\tlearn: 0.0132655\ttest: 0.0127948\tbest: 0.0127948 (0)\ttotal: 34.9ms\tremaining: 3.46s\n",
            "1:\tlearn: 0.0130761\ttest: 0.0128556\tbest: 0.0127948 (0)\ttotal: 80.3ms\tremaining: 3.93s\n",
            "2:\tlearn: 0.0129045\ttest: 0.0129202\tbest: 0.0127948 (0)\ttotal: 114ms\tremaining: 3.68s\n",
            "3:\tlearn: 0.0127536\ttest: 0.0129667\tbest: 0.0127948 (0)\ttotal: 151ms\tremaining: 3.62s\n",
            "4:\tlearn: 0.0125882\ttest: 0.0130246\tbest: 0.0127948 (0)\ttotal: 184ms\tremaining: 3.5s\n",
            "5:\tlearn: 0.0124710\ttest: 0.0130630\tbest: 0.0127948 (0)\ttotal: 215ms\tremaining: 3.37s\n",
            "6:\tlearn: 0.0123719\ttest: 0.0130946\tbest: 0.0127948 (0)\ttotal: 260ms\tremaining: 3.46s\n",
            "7:\tlearn: 0.0122768\ttest: 0.0131639\tbest: 0.0127948 (0)\ttotal: 296ms\tremaining: 3.4s\n",
            "8:\tlearn: 0.0121692\ttest: 0.0132356\tbest: 0.0127948 (0)\ttotal: 338ms\tremaining: 3.42s\n",
            "9:\tlearn: 0.0120691\ttest: 0.0133157\tbest: 0.0127948 (0)\ttotal: 370ms\tremaining: 3.33s\n",
            "10:\tlearn: 0.0120028\ttest: 0.0133536\tbest: 0.0127948 (0)\ttotal: 402ms\tremaining: 3.25s\n",
            "Stopped by overfitting detector  (10 iterations wait)\n",
            "\n",
            "bestTest = 0.01279483869\n",
            "bestIteration = 0\n",
            "\n",
            "Shrink model to first 1 iterations.\n"
          ]
        },
        {
          "name": "stderr",
          "output_type": "stream",
          "text": [
            "/usr/local/lib/python3.7/dist-packages/pypfopt/efficient_frontier/efficient_frontier.py:258: UserWarning: max_sharpe transforms the optimization problem so additional objectives may not work as expected.\n",
            "  \"max_sharpe transforms the optimization problem so additional objectives may not work as expected.\"\n"
          ]
        },
        {
          "name": "stdout",
          "output_type": "stream",
          "text": [
            "2021-07-07 00:00:00\n",
            "0:\tlearn: 0.0135656\ttest: 0.0127014\tbest: 0.0127014 (0)\ttotal: 35ms\tremaining: 3.46s\n",
            "1:\tlearn: 0.0133960\ttest: 0.0127289\tbest: 0.0127014 (0)\ttotal: 108ms\tremaining: 5.27s\n",
            "2:\tlearn: 0.0132444\ttest: 0.0127493\tbest: 0.0127014 (0)\ttotal: 144ms\tremaining: 4.66s\n",
            "3:\tlearn: 0.0131083\ttest: 0.0127833\tbest: 0.0127014 (0)\ttotal: 179ms\tremaining: 4.29s\n",
            "4:\tlearn: 0.0129583\ttest: 0.0128410\tbest: 0.0127014 (0)\ttotal: 216ms\tremaining: 4.11s\n",
            "5:\tlearn: 0.0128406\ttest: 0.0128855\tbest: 0.0127014 (0)\ttotal: 258ms\tremaining: 4.04s\n",
            "6:\tlearn: 0.0127089\ttest: 0.0129493\tbest: 0.0127014 (0)\ttotal: 285ms\tremaining: 3.78s\n",
            "7:\tlearn: 0.0125949\ttest: 0.0129800\tbest: 0.0127014 (0)\ttotal: 329ms\tremaining: 3.78s\n",
            "8:\tlearn: 0.0125071\ttest: 0.0130065\tbest: 0.0127014 (0)\ttotal: 365ms\tremaining: 3.69s\n",
            "9:\tlearn: 0.0124080\ttest: 0.0130632\tbest: 0.0127014 (0)\ttotal: 384ms\tremaining: 3.45s\n",
            "10:\tlearn: 0.0123454\ttest: 0.0130865\tbest: 0.0127014 (0)\ttotal: 405ms\tremaining: 3.27s\n",
            "Stopped by overfitting detector  (10 iterations wait)\n",
            "\n",
            "bestTest = 0.01270140926\n",
            "bestIteration = 0\n",
            "\n",
            "Shrink model to first 1 iterations.\n"
          ]
        },
        {
          "name": "stderr",
          "output_type": "stream",
          "text": [
            "/usr/local/lib/python3.7/dist-packages/pypfopt/efficient_frontier/efficient_frontier.py:258: UserWarning: max_sharpe transforms the optimization problem so additional objectives may not work as expected.\n",
            "  \"max_sharpe transforms the optimization problem so additional objectives may not work as expected.\"\n"
          ]
        },
        {
          "name": "stdout",
          "output_type": "stream",
          "text": [
            "2021-07-08 00:00:00\n",
            "0:\tlearn: 0.0120043\ttest: 0.0133076\tbest: 0.0133076 (0)\ttotal: 63.5ms\tremaining: 6.29s\n",
            "1:\tlearn: 0.0118199\ttest: 0.0132964\tbest: 0.0132964 (1)\ttotal: 79.4ms\tremaining: 3.89s\n",
            "2:\tlearn: 0.0116663\ttest: 0.0133075\tbest: 0.0132964 (1)\ttotal: 94.6ms\tremaining: 3.06s\n",
            "3:\tlearn: 0.0115295\ttest: 0.0133406\tbest: 0.0132964 (1)\ttotal: 112ms\tremaining: 2.68s\n",
            "4:\tlearn: 0.0113972\ttest: 0.0133623\tbest: 0.0132964 (1)\ttotal: 127ms\tremaining: 2.42s\n",
            "5:\tlearn: 0.0112863\ttest: 0.0133925\tbest: 0.0132964 (1)\ttotal: 146ms\tremaining: 2.29s\n",
            "6:\tlearn: 0.0111854\ttest: 0.0134342\tbest: 0.0132964 (1)\ttotal: 161ms\tremaining: 2.14s\n",
            "7:\tlearn: 0.0110959\ttest: 0.0134717\tbest: 0.0132964 (1)\ttotal: 177ms\tremaining: 2.03s\n",
            "8:\tlearn: 0.0110090\ttest: 0.0134974\tbest: 0.0132964 (1)\ttotal: 193ms\tremaining: 1.95s\n",
            "9:\tlearn: 0.0109388\ttest: 0.0135163\tbest: 0.0132964 (1)\ttotal: 208ms\tremaining: 1.87s\n",
            "10:\tlearn: 0.0108718\ttest: 0.0135312\tbest: 0.0132964 (1)\ttotal: 223ms\tremaining: 1.8s\n",
            "11:\tlearn: 0.0108195\ttest: 0.0135404\tbest: 0.0132964 (1)\ttotal: 238ms\tremaining: 1.74s\n",
            "Stopped by overfitting detector  (10 iterations wait)\n",
            "\n",
            "bestTest = 0.01329641764\n",
            "bestIteration = 1\n",
            "\n",
            "Shrink model to first 2 iterations.\n"
          ]
        },
        {
          "name": "stderr",
          "output_type": "stream",
          "text": [
            "/usr/local/lib/python3.7/dist-packages/pypfopt/efficient_frontier/efficient_frontier.py:258: UserWarning: max_sharpe transforms the optimization problem so additional objectives may not work as expected.\n",
            "  \"max_sharpe transforms the optimization problem so additional objectives may not work as expected.\"\n"
          ]
        },
        {
          "name": "stdout",
          "output_type": "stream",
          "text": [
            "2021-07-09 00:00:00\n",
            "0:\tlearn: 0.0126596\ttest: 0.0130900\tbest: 0.0130900 (0)\ttotal: 17.8ms\tremaining: 1.76s\n",
            "1:\tlearn: 0.0124315\ttest: 0.0131624\tbest: 0.0130900 (0)\ttotal: 34.8ms\tremaining: 1.71s\n",
            "2:\tlearn: 0.0122442\ttest: 0.0132459\tbest: 0.0130900 (0)\ttotal: 49.6ms\tremaining: 1.6s\n",
            "3:\tlearn: 0.0120848\ttest: 0.0133159\tbest: 0.0130900 (0)\ttotal: 65.4ms\tremaining: 1.57s\n",
            "4:\tlearn: 0.0119042\ttest: 0.0134023\tbest: 0.0130900 (0)\ttotal: 83.5ms\tremaining: 1.59s\n",
            "5:\tlearn: 0.0117727\ttest: 0.0134888\tbest: 0.0130900 (0)\ttotal: 119ms\tremaining: 1.87s\n",
            "6:\tlearn: 0.0116558\ttest: 0.0135904\tbest: 0.0130900 (0)\ttotal: 145ms\tremaining: 1.92s\n",
            "7:\tlearn: 0.0115785\ttest: 0.0136609\tbest: 0.0130900 (0)\ttotal: 160ms\tremaining: 1.84s\n",
            "8:\tlearn: 0.0114894\ttest: 0.0137216\tbest: 0.0130900 (0)\ttotal: 176ms\tremaining: 1.78s\n",
            "9:\tlearn: 0.0113913\ttest: 0.0137982\tbest: 0.0130900 (0)\ttotal: 192ms\tremaining: 1.72s\n",
            "10:\tlearn: 0.0113106\ttest: 0.0138362\tbest: 0.0130900 (0)\ttotal: 207ms\tremaining: 1.68s\n",
            "Stopped by overfitting detector  (10 iterations wait)\n",
            "\n",
            "bestTest = 0.01308996392\n",
            "bestIteration = 0\n",
            "\n",
            "Shrink model to first 1 iterations.\n"
          ]
        },
        {
          "name": "stderr",
          "output_type": "stream",
          "text": [
            "/usr/local/lib/python3.7/dist-packages/pypfopt/efficient_frontier/efficient_frontier.py:258: UserWarning: max_sharpe transforms the optimization problem so additional objectives may not work as expected.\n",
            "  \"max_sharpe transforms the optimization problem so additional objectives may not work as expected.\"\n"
          ]
        },
        {
          "name": "stdout",
          "output_type": "stream",
          "text": [
            "2021-07-12 00:00:00\n",
            "0:\tlearn: 0.0126611\ttest: 0.0131140\tbest: 0.0131140 (0)\ttotal: 16ms\tremaining: 1.58s\n",
            "1:\tlearn: 0.0124436\ttest: 0.0131224\tbest: 0.0131140 (0)\ttotal: 31.6ms\tremaining: 1.55s\n",
            "2:\tlearn: 0.0122478\ttest: 0.0131188\tbest: 0.0131140 (0)\ttotal: 47ms\tremaining: 1.52s\n",
            "3:\tlearn: 0.0120813\ttest: 0.0131393\tbest: 0.0131140 (0)\ttotal: 62.9ms\tremaining: 1.51s\n",
            "4:\tlearn: 0.0119091\ttest: 0.0132068\tbest: 0.0131140 (0)\ttotal: 78.3ms\tremaining: 1.49s\n",
            "5:\tlearn: 0.0117643\ttest: 0.0132222\tbest: 0.0131140 (0)\ttotal: 93.5ms\tremaining: 1.46s\n",
            "6:\tlearn: 0.0116431\ttest: 0.0132657\tbest: 0.0131140 (0)\ttotal: 109ms\tremaining: 1.44s\n",
            "7:\tlearn: 0.0115214\ttest: 0.0132988\tbest: 0.0131140 (0)\ttotal: 125ms\tremaining: 1.44s\n",
            "8:\tlearn: 0.0114390\ttest: 0.0133098\tbest: 0.0131140 (0)\ttotal: 140ms\tremaining: 1.42s\n",
            "9:\tlearn: 0.0113394\ttest: 0.0133237\tbest: 0.0131140 (0)\ttotal: 155ms\tremaining: 1.4s\n",
            "10:\tlearn: 0.0112517\ttest: 0.0133439\tbest: 0.0131140 (0)\ttotal: 171ms\tremaining: 1.38s\n",
            "Stopped by overfitting detector  (10 iterations wait)\n",
            "\n",
            "bestTest = 0.0131140484\n",
            "bestIteration = 0\n",
            "\n",
            "Shrink model to first 1 iterations.\n"
          ]
        },
        {
          "name": "stderr",
          "output_type": "stream",
          "text": [
            "/usr/local/lib/python3.7/dist-packages/pypfopt/efficient_frontier/efficient_frontier.py:258: UserWarning: max_sharpe transforms the optimization problem so additional objectives may not work as expected.\n",
            "  \"max_sharpe transforms the optimization problem so additional objectives may not work as expected.\"\n"
          ]
        },
        {
          "name": "stdout",
          "output_type": "stream",
          "text": [
            "2021-07-13 00:00:00\n",
            "0:\tlearn: 0.0135880\ttest: 0.0126592\tbest: 0.0126592 (0)\ttotal: 16.2ms\tremaining: 1.6s\n",
            "1:\tlearn: 0.0132823\ttest: 0.0127889\tbest: 0.0126592 (0)\ttotal: 43.3ms\tremaining: 2.12s\n",
            "2:\tlearn: 0.0130195\ttest: 0.0129205\tbest: 0.0126592 (0)\ttotal: 77.3ms\tremaining: 2.5s\n",
            "3:\tlearn: 0.0128578\ttest: 0.0130471\tbest: 0.0126592 (0)\ttotal: 93.3ms\tremaining: 2.24s\n",
            "4:\tlearn: 0.0126363\ttest: 0.0131680\tbest: 0.0126592 (0)\ttotal: 108ms\tremaining: 2.06s\n",
            "5:\tlearn: 0.0124411\ttest: 0.0132817\tbest: 0.0126592 (0)\ttotal: 124ms\tremaining: 1.95s\n",
            "6:\tlearn: 0.0122964\ttest: 0.0132876\tbest: 0.0126592 (0)\ttotal: 140ms\tremaining: 1.86s\n",
            "7:\tlearn: 0.0121352\ttest: 0.0133673\tbest: 0.0126592 (0)\ttotal: 156ms\tremaining: 1.79s\n",
            "8:\tlearn: 0.0120033\ttest: 0.0134373\tbest: 0.0126592 (0)\ttotal: 171ms\tremaining: 1.73s\n",
            "9:\tlearn: 0.0118801\ttest: 0.0134676\tbest: 0.0126592 (0)\ttotal: 187ms\tremaining: 1.68s\n",
            "10:\tlearn: 0.0117525\ttest: 0.0134691\tbest: 0.0126592 (0)\ttotal: 204ms\tremaining: 1.65s\n",
            "Stopped by overfitting detector  (10 iterations wait)\n",
            "\n",
            "bestTest = 0.01265916836\n",
            "bestIteration = 0\n",
            "\n",
            "Shrink model to first 1 iterations.\n"
          ]
        },
        {
          "name": "stderr",
          "output_type": "stream",
          "text": [
            "/usr/local/lib/python3.7/dist-packages/pypfopt/efficient_frontier/efficient_frontier.py:258: UserWarning: max_sharpe transforms the optimization problem so additional objectives may not work as expected.\n",
            "  \"max_sharpe transforms the optimization problem so additional objectives may not work as expected.\"\n"
          ]
        },
        {
          "name": "stdout",
          "output_type": "stream",
          "text": [
            "2021-07-14 00:00:00\n",
            "0:\tlearn: 0.0132786\ttest: 0.0129703\tbest: 0.0129703 (0)\ttotal: 15.8ms\tremaining: 1.56s\n",
            "1:\tlearn: 0.0130925\ttest: 0.0129711\tbest: 0.0129703 (0)\ttotal: 32ms\tremaining: 1.57s\n",
            "2:\tlearn: 0.0129025\ttest: 0.0130030\tbest: 0.0129703 (0)\ttotal: 50.6ms\tremaining: 1.64s\n",
            "3:\tlearn: 0.0127623\ttest: 0.0130361\tbest: 0.0129703 (0)\ttotal: 98.9ms\tremaining: 2.37s\n",
            "4:\tlearn: 0.0126035\ttest: 0.0130664\tbest: 0.0129703 (0)\ttotal: 116ms\tremaining: 2.2s\n",
            "5:\tlearn: 0.0124674\ttest: 0.0131289\tbest: 0.0129703 (0)\ttotal: 131ms\tremaining: 2.06s\n",
            "6:\tlearn: 0.0123110\ttest: 0.0131647\tbest: 0.0129703 (0)\ttotal: 147ms\tremaining: 1.95s\n",
            "7:\tlearn: 0.0121888\ttest: 0.0132079\tbest: 0.0129703 (0)\ttotal: 163ms\tremaining: 1.87s\n",
            "8:\tlearn: 0.0120783\ttest: 0.0132282\tbest: 0.0129703 (0)\ttotal: 178ms\tremaining: 1.8s\n",
            "9:\tlearn: 0.0119682\ttest: 0.0132609\tbest: 0.0129703 (0)\ttotal: 194ms\tremaining: 1.75s\n",
            "10:\tlearn: 0.0118693\ttest: 0.0133222\tbest: 0.0129703 (0)\ttotal: 210ms\tremaining: 1.7s\n",
            "Stopped by overfitting detector  (10 iterations wait)\n",
            "\n",
            "bestTest = 0.01297025935\n",
            "bestIteration = 0\n",
            "\n",
            "Shrink model to first 1 iterations.\n"
          ]
        },
        {
          "name": "stderr",
          "output_type": "stream",
          "text": [
            "/usr/local/lib/python3.7/dist-packages/pypfopt/efficient_frontier/efficient_frontier.py:258: UserWarning: max_sharpe transforms the optimization problem so additional objectives may not work as expected.\n",
            "  \"max_sharpe transforms the optimization problem so additional objectives may not work as expected.\"\n"
          ]
        },
        {
          "name": "stdout",
          "output_type": "stream",
          "text": [
            "2021-07-15 00:00:00\n",
            "0:\tlearn: 0.0122811\ttest: 0.0130801\tbest: 0.0130801 (0)\ttotal: 42.3ms\tremaining: 4.18s\n",
            "1:\tlearn: 0.0120461\ttest: 0.0131161\tbest: 0.0130801 (0)\ttotal: 87.6ms\tremaining: 4.29s\n",
            "2:\tlearn: 0.0118745\ttest: 0.0131642\tbest: 0.0130801 (0)\ttotal: 132ms\tremaining: 4.27s\n",
            "3:\tlearn: 0.0117306\ttest: 0.0132050\tbest: 0.0130801 (0)\ttotal: 167ms\tremaining: 4.01s\n",
            "4:\tlearn: 0.0115804\ttest: 0.0132630\tbest: 0.0130801 (0)\ttotal: 186ms\tremaining: 3.53s\n",
            "5:\tlearn: 0.0114431\ttest: 0.0132831\tbest: 0.0130801 (0)\ttotal: 206ms\tremaining: 3.22s\n",
            "6:\tlearn: 0.0113106\ttest: 0.0133304\tbest: 0.0130801 (0)\ttotal: 244ms\tremaining: 3.25s\n",
            "7:\tlearn: 0.0112100\ttest: 0.0133494\tbest: 0.0130801 (0)\ttotal: 290ms\tremaining: 3.34s\n",
            "8:\tlearn: 0.0111107\ttest: 0.0133846\tbest: 0.0130801 (0)\ttotal: 331ms\tremaining: 3.35s\n",
            "9:\tlearn: 0.0110265\ttest: 0.0134820\tbest: 0.0130801 (0)\ttotal: 365ms\tremaining: 3.28s\n",
            "10:\tlearn: 0.0109487\ttest: 0.0135044\tbest: 0.0130801 (0)\ttotal: 401ms\tremaining: 3.24s\n",
            "Stopped by overfitting detector  (10 iterations wait)\n",
            "\n",
            "bestTest = 0.01308009925\n",
            "bestIteration = 0\n",
            "\n",
            "Shrink model to first 1 iterations.\n"
          ]
        },
        {
          "name": "stderr",
          "output_type": "stream",
          "text": [
            "/usr/local/lib/python3.7/dist-packages/pypfopt/efficient_frontier/efficient_frontier.py:258: UserWarning: max_sharpe transforms the optimization problem so additional objectives may not work as expected.\n",
            "  \"max_sharpe transforms the optimization problem so additional objectives may not work as expected.\"\n"
          ]
        },
        {
          "name": "stdout",
          "output_type": "stream",
          "text": [
            "2021-07-16 00:00:00\n",
            "0:\tlearn: 0.0118119\ttest: 0.0131453\tbest: 0.0131453 (0)\ttotal: 55.7ms\tremaining: 5.51s\n",
            "1:\tlearn: 0.0116242\ttest: 0.0131842\tbest: 0.0131453 (0)\ttotal: 130ms\tremaining: 6.37s\n",
            "2:\tlearn: 0.0114941\ttest: 0.0132396\tbest: 0.0131453 (0)\ttotal: 191ms\tremaining: 6.19s\n",
            "3:\tlearn: 0.0113996\ttest: 0.0132908\tbest: 0.0131453 (0)\ttotal: 262ms\tremaining: 6.3s\n",
            "4:\tlearn: 0.0112906\ttest: 0.0133468\tbest: 0.0131453 (0)\ttotal: 333ms\tremaining: 6.33s\n",
            "5:\tlearn: 0.0111947\ttest: 0.0134029\tbest: 0.0131453 (0)\ttotal: 401ms\tremaining: 6.29s\n",
            "6:\tlearn: 0.0110781\ttest: 0.0134482\tbest: 0.0131453 (0)\ttotal: 470ms\tremaining: 6.24s\n",
            "7:\tlearn: 0.0109984\ttest: 0.0134875\tbest: 0.0131453 (0)\ttotal: 551ms\tremaining: 6.33s\n",
            "8:\tlearn: 0.0109253\ttest: 0.0135194\tbest: 0.0131453 (0)\ttotal: 624ms\tremaining: 6.31s\n",
            "9:\tlearn: 0.0108558\ttest: 0.0135746\tbest: 0.0131453 (0)\ttotal: 692ms\tremaining: 6.23s\n",
            "10:\tlearn: 0.0107720\ttest: 0.0135828\tbest: 0.0131453 (0)\ttotal: 733ms\tremaining: 5.93s\n",
            "Stopped by overfitting detector  (10 iterations wait)\n",
            "\n",
            "bestTest = 0.0131452866\n",
            "bestIteration = 0\n",
            "\n",
            "Shrink model to first 1 iterations.\n"
          ]
        },
        {
          "name": "stderr",
          "output_type": "stream",
          "text": [
            "/usr/local/lib/python3.7/dist-packages/pypfopt/efficient_frontier/efficient_frontier.py:258: UserWarning: max_sharpe transforms the optimization problem so additional objectives may not work as expected.\n",
            "  \"max_sharpe transforms the optimization problem so additional objectives may not work as expected.\"\n"
          ]
        },
        {
          "name": "stdout",
          "output_type": "stream",
          "text": [
            "2021-07-19 00:00:00\n",
            "0:\tlearn: 0.0123709\ttest: 0.0129289\tbest: 0.0129289 (0)\ttotal: 39.5ms\tremaining: 3.91s\n",
            "1:\tlearn: 0.0122442\ttest: 0.0129401\tbest: 0.0129289 (0)\ttotal: 101ms\tremaining: 4.96s\n",
            "2:\tlearn: 0.0121011\ttest: 0.0129897\tbest: 0.0129289 (0)\ttotal: 168ms\tremaining: 5.44s\n",
            "3:\tlearn: 0.0120152\ttest: 0.0130397\tbest: 0.0129289 (0)\ttotal: 216ms\tremaining: 5.19s\n",
            "4:\tlearn: 0.0118984\ttest: 0.0130765\tbest: 0.0129289 (0)\ttotal: 272ms\tremaining: 5.17s\n",
            "5:\tlearn: 0.0117844\ttest: 0.0130479\tbest: 0.0129289 (0)\ttotal: 312ms\tremaining: 4.89s\n",
            "6:\tlearn: 0.0116670\ttest: 0.0130700\tbest: 0.0129289 (0)\ttotal: 359ms\tremaining: 4.77s\n",
            "7:\tlearn: 0.0115804\ttest: 0.0131388\tbest: 0.0129289 (0)\ttotal: 417ms\tremaining: 4.8s\n",
            "8:\tlearn: 0.0115082\ttest: 0.0131377\tbest: 0.0129289 (0)\ttotal: 471ms\tremaining: 4.76s\n",
            "9:\tlearn: 0.0114350\ttest: 0.0131752\tbest: 0.0129289 (0)\ttotal: 515ms\tremaining: 4.64s\n",
            "10:\tlearn: 0.0113332\ttest: 0.0131805\tbest: 0.0129289 (0)\ttotal: 556ms\tremaining: 4.5s\n",
            "Stopped by overfitting detector  (10 iterations wait)\n",
            "\n",
            "bestTest = 0.01292893151\n",
            "bestIteration = 0\n",
            "\n",
            "Shrink model to first 1 iterations.\n"
          ]
        },
        {
          "name": "stderr",
          "output_type": "stream",
          "text": [
            "/usr/local/lib/python3.7/dist-packages/pypfopt/efficient_frontier/efficient_frontier.py:258: UserWarning: max_sharpe transforms the optimization problem so additional objectives may not work as expected.\n",
            "  \"max_sharpe transforms the optimization problem so additional objectives may not work as expected.\"\n"
          ]
        },
        {
          "name": "stdout",
          "output_type": "stream",
          "text": [
            "2021-07-20 00:00:00\n",
            "0:\tlearn: 0.0130352\ttest: 0.0126378\tbest: 0.0126378 (0)\ttotal: 39.8ms\tremaining: 3.94s\n",
            "1:\tlearn: 0.0128337\ttest: 0.0126823\tbest: 0.0126378 (0)\ttotal: 84.5ms\tremaining: 4.14s\n",
            "2:\tlearn: 0.0126441\ttest: 0.0127096\tbest: 0.0126378 (0)\ttotal: 113ms\tremaining: 3.67s\n",
            "3:\tlearn: 0.0125100\ttest: 0.0127193\tbest: 0.0126378 (0)\ttotal: 145ms\tremaining: 3.48s\n",
            "4:\tlearn: 0.0123759\ttest: 0.0127469\tbest: 0.0126378 (0)\ttotal: 181ms\tremaining: 3.44s\n",
            "5:\tlearn: 0.0122476\ttest: 0.0128154\tbest: 0.0126378 (0)\ttotal: 223ms\tremaining: 3.5s\n",
            "6:\tlearn: 0.0121056\ttest: 0.0128793\tbest: 0.0126378 (0)\ttotal: 279ms\tremaining: 3.71s\n",
            "7:\tlearn: 0.0120122\ttest: 0.0129389\tbest: 0.0126378 (0)\ttotal: 320ms\tremaining: 3.68s\n",
            "8:\tlearn: 0.0118981\ttest: 0.0129454\tbest: 0.0126378 (0)\ttotal: 361ms\tremaining: 3.65s\n",
            "9:\tlearn: 0.0117968\ttest: 0.0129936\tbest: 0.0126378 (0)\ttotal: 396ms\tremaining: 3.57s\n",
            "10:\tlearn: 0.0117136\ttest: 0.0130523\tbest: 0.0126378 (0)\ttotal: 442ms\tremaining: 3.58s\n",
            "Stopped by overfitting detector  (10 iterations wait)\n",
            "\n",
            "bestTest = 0.01263777544\n",
            "bestIteration = 0\n",
            "\n",
            "Shrink model to first 1 iterations.\n"
          ]
        },
        {
          "name": "stderr",
          "output_type": "stream",
          "text": [
            "/usr/local/lib/python3.7/dist-packages/pypfopt/efficient_frontier/efficient_frontier.py:258: UserWarning: max_sharpe transforms the optimization problem so additional objectives may not work as expected.\n",
            "  \"max_sharpe transforms the optimization problem so additional objectives may not work as expected.\"\n"
          ]
        },
        {
          "name": "stdout",
          "output_type": "stream",
          "text": [
            "2021-07-21 00:00:00\n",
            "0:\tlearn: 0.0121141\ttest: 0.0128801\tbest: 0.0128801 (0)\ttotal: 16.3ms\tremaining: 1.61s\n",
            "1:\tlearn: 0.0119660\ttest: 0.0129072\tbest: 0.0128801 (0)\ttotal: 32.3ms\tremaining: 1.58s\n",
            "2:\tlearn: 0.0118095\ttest: 0.0129600\tbest: 0.0128801 (0)\ttotal: 48.1ms\tremaining: 1.55s\n",
            "3:\tlearn: 0.0116630\ttest: 0.0129637\tbest: 0.0128801 (0)\ttotal: 63.9ms\tremaining: 1.53s\n",
            "4:\tlearn: 0.0115282\ttest: 0.0129971\tbest: 0.0128801 (0)\ttotal: 79ms\tremaining: 1.5s\n",
            "5:\tlearn: 0.0114019\ttest: 0.0130013\tbest: 0.0128801 (0)\ttotal: 94.6ms\tremaining: 1.48s\n",
            "6:\tlearn: 0.0112952\ttest: 0.0130722\tbest: 0.0128801 (0)\ttotal: 110ms\tremaining: 1.47s\n",
            "7:\tlearn: 0.0111763\ttest: 0.0130946\tbest: 0.0128801 (0)\ttotal: 127ms\tremaining: 1.46s\n",
            "8:\tlearn: 0.0110696\ttest: 0.0131294\tbest: 0.0128801 (0)\ttotal: 142ms\tremaining: 1.44s\n",
            "9:\tlearn: 0.0109830\ttest: 0.0131419\tbest: 0.0128801 (0)\ttotal: 158ms\tremaining: 1.42s\n",
            "10:\tlearn: 0.0109175\ttest: 0.0131515\tbest: 0.0128801 (0)\ttotal: 173ms\tremaining: 1.4s\n",
            "Stopped by overfitting detector  (10 iterations wait)\n",
            "\n",
            "bestTest = 0.01288014395\n",
            "bestIteration = 0\n",
            "\n",
            "Shrink model to first 1 iterations.\n"
          ]
        },
        {
          "name": "stderr",
          "output_type": "stream",
          "text": [
            "/usr/local/lib/python3.7/dist-packages/pypfopt/efficient_frontier/efficient_frontier.py:258: UserWarning: max_sharpe transforms the optimization problem so additional objectives may not work as expected.\n",
            "  \"max_sharpe transforms the optimization problem so additional objectives may not work as expected.\"\n"
          ]
        },
        {
          "name": "stdout",
          "output_type": "stream",
          "text": [
            "2021-07-22 00:00:00\n",
            "0:\tlearn: 0.0116909\ttest: 0.0130112\tbest: 0.0130112 (0)\ttotal: 15.8ms\tremaining: 1.56s\n",
            "1:\tlearn: 0.0115344\ttest: 0.0130003\tbest: 0.0130003 (1)\ttotal: 31.5ms\tremaining: 1.54s\n",
            "2:\tlearn: 0.0113590\ttest: 0.0129893\tbest: 0.0129893 (2)\ttotal: 46.6ms\tremaining: 1.51s\n",
            "3:\tlearn: 0.0112530\ttest: 0.0129837\tbest: 0.0129837 (3)\ttotal: 62.7ms\tremaining: 1.5s\n",
            "4:\tlearn: 0.0111214\ttest: 0.0129875\tbest: 0.0129837 (3)\ttotal: 77.8ms\tremaining: 1.48s\n",
            "5:\tlearn: 0.0110159\ttest: 0.0130075\tbest: 0.0129837 (3)\ttotal: 93.1ms\tremaining: 1.46s\n",
            "6:\tlearn: 0.0109131\ttest: 0.0130236\tbest: 0.0129837 (3)\ttotal: 109ms\tremaining: 1.44s\n",
            "7:\tlearn: 0.0108133\ttest: 0.0130360\tbest: 0.0129837 (3)\ttotal: 125ms\tremaining: 1.43s\n",
            "8:\tlearn: 0.0107381\ttest: 0.0130465\tbest: 0.0129837 (3)\ttotal: 141ms\tremaining: 1.42s\n",
            "9:\tlearn: 0.0106668\ttest: 0.0130692\tbest: 0.0129837 (3)\ttotal: 156ms\tremaining: 1.41s\n",
            "10:\tlearn: 0.0105918\ttest: 0.0130831\tbest: 0.0129837 (3)\ttotal: 172ms\tremaining: 1.39s\n",
            "11:\tlearn: 0.0105166\ttest: 0.0131090\tbest: 0.0129837 (3)\ttotal: 189ms\tremaining: 1.38s\n",
            "12:\tlearn: 0.0104397\ttest: 0.0131247\tbest: 0.0129837 (3)\ttotal: 206ms\tremaining: 1.38s\n",
            "13:\tlearn: 0.0103858\ttest: 0.0131453\tbest: 0.0129837 (3)\ttotal: 228ms\tremaining: 1.4s\n",
            "Stopped by overfitting detector  (10 iterations wait)\n",
            "\n",
            "bestTest = 0.01298371168\n",
            "bestIteration = 3\n",
            "\n",
            "Shrink model to first 4 iterations.\n"
          ]
        },
        {
          "name": "stderr",
          "output_type": "stream",
          "text": [
            "/usr/local/lib/python3.7/dist-packages/pypfopt/efficient_frontier/efficient_frontier.py:258: UserWarning: max_sharpe transforms the optimization problem so additional objectives may not work as expected.\n",
            "  \"max_sharpe transforms the optimization problem so additional objectives may not work as expected.\"\n"
          ]
        },
        {
          "name": "stdout",
          "output_type": "stream",
          "text": [
            "2021-07-23 00:00:00\n",
            "0:\tlearn: 0.0127953\ttest: 0.0123826\tbest: 0.0123826 (0)\ttotal: 15.9ms\tremaining: 1.57s\n",
            "1:\tlearn: 0.0126501\ttest: 0.0123848\tbest: 0.0123826 (0)\ttotal: 32.4ms\tremaining: 1.59s\n",
            "2:\tlearn: 0.0124951\ttest: 0.0123950\tbest: 0.0123826 (0)\ttotal: 47.4ms\tremaining: 1.53s\n",
            "3:\tlearn: 0.0123426\ttest: 0.0124221\tbest: 0.0123826 (0)\ttotal: 63.2ms\tremaining: 1.51s\n",
            "4:\tlearn: 0.0122153\ttest: 0.0124346\tbest: 0.0123826 (0)\ttotal: 78.2ms\tremaining: 1.49s\n",
            "5:\tlearn: 0.0120781\ttest: 0.0124643\tbest: 0.0123826 (0)\ttotal: 94.7ms\tremaining: 1.48s\n",
            "6:\tlearn: 0.0119529\ttest: 0.0124708\tbest: 0.0123826 (0)\ttotal: 110ms\tremaining: 1.47s\n",
            "7:\tlearn: 0.0118337\ttest: 0.0125103\tbest: 0.0123826 (0)\ttotal: 126ms\tremaining: 1.45s\n",
            "8:\tlearn: 0.0117213\ttest: 0.0125179\tbest: 0.0123826 (0)\ttotal: 142ms\tremaining: 1.43s\n",
            "9:\tlearn: 0.0116185\ttest: 0.0125423\tbest: 0.0123826 (0)\ttotal: 157ms\tremaining: 1.42s\n",
            "10:\tlearn: 0.0115036\ttest: 0.0125451\tbest: 0.0123826 (0)\ttotal: 173ms\tremaining: 1.4s\n",
            "Stopped by overfitting detector  (10 iterations wait)\n",
            "\n",
            "bestTest = 0.01238260672\n",
            "bestIteration = 0\n",
            "\n",
            "Shrink model to first 1 iterations.\n"
          ]
        },
        {
          "name": "stderr",
          "output_type": "stream",
          "text": [
            "/usr/local/lib/python3.7/dist-packages/pypfopt/efficient_frontier/efficient_frontier.py:258: UserWarning: max_sharpe transforms the optimization problem so additional objectives may not work as expected.\n",
            "  \"max_sharpe transforms the optimization problem so additional objectives may not work as expected.\"\n"
          ]
        },
        {
          "name": "stdout",
          "output_type": "stream",
          "text": [
            "2021-07-26 00:00:00\n",
            "0:\tlearn: 0.0120338\ttest: 0.0127748\tbest: 0.0127748 (0)\ttotal: 15.6ms\tremaining: 1.54s\n",
            "1:\tlearn: 0.0118739\ttest: 0.0127561\tbest: 0.0127561 (1)\ttotal: 32.4ms\tremaining: 1.59s\n",
            "2:\tlearn: 0.0117120\ttest: 0.0127510\tbest: 0.0127510 (2)\ttotal: 47.7ms\tremaining: 1.54s\n",
            "3:\tlearn: 0.0115945\ttest: 0.0127846\tbest: 0.0127510 (2)\ttotal: 63.6ms\tremaining: 1.53s\n",
            "4:\tlearn: 0.0114718\ttest: 0.0127867\tbest: 0.0127510 (2)\ttotal: 78.9ms\tremaining: 1.5s\n",
            "5:\tlearn: 0.0113662\ttest: 0.0127930\tbest: 0.0127510 (2)\ttotal: 97.3ms\tremaining: 1.52s\n",
            "6:\tlearn: 0.0112671\ttest: 0.0127977\tbest: 0.0127510 (2)\ttotal: 112ms\tremaining: 1.49s\n",
            "7:\tlearn: 0.0112002\ttest: 0.0127967\tbest: 0.0127510 (2)\ttotal: 128ms\tremaining: 1.47s\n",
            "8:\tlearn: 0.0111155\ttest: 0.0128142\tbest: 0.0127510 (2)\ttotal: 143ms\tremaining: 1.45s\n",
            "9:\tlearn: 0.0110406\ttest: 0.0128400\tbest: 0.0127510 (2)\ttotal: 159ms\tremaining: 1.43s\n",
            "10:\tlearn: 0.0109666\ttest: 0.0128724\tbest: 0.0127510 (2)\ttotal: 174ms\tremaining: 1.41s\n",
            "11:\tlearn: 0.0108881\ttest: 0.0128575\tbest: 0.0127510 (2)\ttotal: 189ms\tremaining: 1.39s\n",
            "12:\tlearn: 0.0108210\ttest: 0.0128295\tbest: 0.0127510 (2)\ttotal: 204ms\tremaining: 1.36s\n",
            "Stopped by overfitting detector  (10 iterations wait)\n",
            "\n",
            "bestTest = 0.01275103655\n",
            "bestIteration = 2\n",
            "\n",
            "Shrink model to first 3 iterations.\n"
          ]
        },
        {
          "name": "stderr",
          "output_type": "stream",
          "text": [
            "/usr/local/lib/python3.7/dist-packages/pypfopt/efficient_frontier/efficient_frontier.py:258: UserWarning: max_sharpe transforms the optimization problem so additional objectives may not work as expected.\n",
            "  \"max_sharpe transforms the optimization problem so additional objectives may not work as expected.\"\n",
            "/usr/local/lib/python3.7/dist-packages/cvxpy/problems/problem.py:1334: UserWarning: Solution may be inaccurate. Try another solver, adjusting the solver settings, or solve with verbose=True for more information.\n",
            "  \"Solution may be inaccurate. Try another solver, \"\n"
          ]
        },
        {
          "name": "stdout",
          "output_type": "stream",
          "text": [
            "2021-07-27 00:00:00\n",
            "0:\tlearn: 0.0133186\ttest: 0.0120011\tbest: 0.0120011 (0)\ttotal: 16.1ms\tremaining: 1.59s\n",
            "1:\tlearn: 0.0130557\ttest: 0.0119937\tbest: 0.0119937 (1)\ttotal: 32.5ms\tremaining: 1.59s\n",
            "2:\tlearn: 0.0128305\ttest: 0.0120053\tbest: 0.0119937 (1)\ttotal: 47.2ms\tremaining: 1.52s\n",
            "3:\tlearn: 0.0126404\ttest: 0.0120154\tbest: 0.0119937 (1)\ttotal: 63.2ms\tremaining: 1.52s\n",
            "4:\tlearn: 0.0124422\ttest: 0.0120502\tbest: 0.0119937 (1)\ttotal: 79.2ms\tremaining: 1.5s\n",
            "5:\tlearn: 0.0122611\ttest: 0.0120651\tbest: 0.0119937 (1)\ttotal: 95ms\tremaining: 1.49s\n",
            "6:\tlearn: 0.0120995\ttest: 0.0121031\tbest: 0.0119937 (1)\ttotal: 111ms\tremaining: 1.47s\n",
            "7:\tlearn: 0.0119400\ttest: 0.0121435\tbest: 0.0119937 (1)\ttotal: 128ms\tremaining: 1.48s\n",
            "8:\tlearn: 0.0118280\ttest: 0.0121712\tbest: 0.0119937 (1)\ttotal: 144ms\tremaining: 1.45s\n",
            "9:\tlearn: 0.0117080\ttest: 0.0121932\tbest: 0.0119937 (1)\ttotal: 159ms\tremaining: 1.43s\n",
            "10:\tlearn: 0.0116048\ttest: 0.0122050\tbest: 0.0119937 (1)\ttotal: 177ms\tremaining: 1.43s\n",
            "11:\tlearn: 0.0115338\ttest: 0.0122321\tbest: 0.0119937 (1)\ttotal: 193ms\tremaining: 1.42s\n",
            "Stopped by overfitting detector  (10 iterations wait)\n",
            "\n",
            "bestTest = 0.01199369748\n",
            "bestIteration = 1\n",
            "\n",
            "Shrink model to first 2 iterations.\n"
          ]
        },
        {
          "name": "stderr",
          "output_type": "stream",
          "text": [
            "/usr/local/lib/python3.7/dist-packages/pypfopt/efficient_frontier/efficient_frontier.py:258: UserWarning: max_sharpe transforms the optimization problem so additional objectives may not work as expected.\n",
            "  \"max_sharpe transforms the optimization problem so additional objectives may not work as expected.\"\n",
            "/usr/local/lib/python3.7/dist-packages/cvxpy/problems/problem.py:1334: UserWarning: Solution may be inaccurate. Try another solver, adjusting the solver settings, or solve with verbose=True for more information.\n",
            "  \"Solution may be inaccurate. Try another solver, \"\n"
          ]
        },
        {
          "name": "stdout",
          "output_type": "stream",
          "text": [
            "2021-07-28 00:00:00\n",
            "0:\tlearn: 0.0127570\ttest: 0.0121282\tbest: 0.0121282 (0)\ttotal: 51.6ms\tremaining: 5.11s\n",
            "1:\tlearn: 0.0125567\ttest: 0.0121321\tbest: 0.0121282 (0)\ttotal: 82ms\tremaining: 4.02s\n",
            "2:\tlearn: 0.0123495\ttest: 0.0121429\tbest: 0.0121282 (0)\ttotal: 130ms\tremaining: 4.19s\n",
            "3:\tlearn: 0.0122598\ttest: 0.0121430\tbest: 0.0121282 (0)\ttotal: 171ms\tremaining: 4.11s\n",
            "4:\tlearn: 0.0121314\ttest: 0.0121683\tbest: 0.0121282 (0)\ttotal: 209ms\tremaining: 3.97s\n",
            "5:\tlearn: 0.0119963\ttest: 0.0121725\tbest: 0.0121282 (0)\ttotal: 243ms\tremaining: 3.8s\n",
            "6:\tlearn: 0.0118777\ttest: 0.0121886\tbest: 0.0121282 (0)\ttotal: 300ms\tremaining: 3.99s\n",
            "7:\tlearn: 0.0118141\ttest: 0.0122080\tbest: 0.0121282 (0)\ttotal: 363ms\tremaining: 4.18s\n",
            "8:\tlearn: 0.0116804\ttest: 0.0122495\tbest: 0.0121282 (0)\ttotal: 399ms\tremaining: 4.04s\n",
            "9:\tlearn: 0.0115694\ttest: 0.0122652\tbest: 0.0121282 (0)\ttotal: 442ms\tremaining: 3.98s\n",
            "10:\tlearn: 0.0114572\ttest: 0.0122713\tbest: 0.0121282 (0)\ttotal: 487ms\tremaining: 3.94s\n",
            "Stopped by overfitting detector  (10 iterations wait)\n",
            "\n",
            "bestTest = 0.01212824944\n",
            "bestIteration = 0\n",
            "\n",
            "Shrink model to first 1 iterations.\n"
          ]
        },
        {
          "name": "stderr",
          "output_type": "stream",
          "text": [
            "/usr/local/lib/python3.7/dist-packages/pypfopt/efficient_frontier/efficient_frontier.py:258: UserWarning: max_sharpe transforms the optimization problem so additional objectives may not work as expected.\n",
            "  \"max_sharpe transforms the optimization problem so additional objectives may not work as expected.\"\n"
          ]
        },
        {
          "name": "stdout",
          "output_type": "stream",
          "text": [
            "2021-07-29 00:00:00\n",
            "0:\tlearn: 0.0118469\ttest: 0.0123836\tbest: 0.0123836 (0)\ttotal: 16.1ms\tremaining: 1.6s\n",
            "1:\tlearn: 0.0116208\ttest: 0.0124295\tbest: 0.0123836 (0)\ttotal: 33.6ms\tremaining: 1.64s\n",
            "2:\tlearn: 0.0114205\ttest: 0.0125125\tbest: 0.0123836 (0)\ttotal: 48.3ms\tremaining: 1.56s\n",
            "3:\tlearn: 0.0112595\ttest: 0.0125917\tbest: 0.0123836 (0)\ttotal: 65.9ms\tremaining: 1.58s\n",
            "4:\tlearn: 0.0111177\ttest: 0.0126592\tbest: 0.0123836 (0)\ttotal: 81.2ms\tremaining: 1.54s\n",
            "5:\tlearn: 0.0110163\ttest: 0.0126928\tbest: 0.0123836 (0)\ttotal: 96.3ms\tremaining: 1.51s\n",
            "6:\tlearn: 0.0108985\ttest: 0.0127664\tbest: 0.0123836 (0)\ttotal: 111ms\tremaining: 1.48s\n",
            "7:\tlearn: 0.0107927\ttest: 0.0128311\tbest: 0.0123836 (0)\ttotal: 126ms\tremaining: 1.45s\n",
            "8:\tlearn: 0.0106863\ttest: 0.0128831\tbest: 0.0123836 (0)\ttotal: 142ms\tremaining: 1.44s\n",
            "9:\tlearn: 0.0105822\ttest: 0.0129167\tbest: 0.0123836 (0)\ttotal: 158ms\tremaining: 1.42s\n",
            "10:\tlearn: 0.0105088\ttest: 0.0129412\tbest: 0.0123836 (0)\ttotal: 173ms\tremaining: 1.4s\n",
            "Stopped by overfitting detector  (10 iterations wait)\n",
            "\n",
            "bestTest = 0.01238360751\n",
            "bestIteration = 0\n",
            "\n",
            "Shrink model to first 1 iterations.\n"
          ]
        },
        {
          "name": "stderr",
          "output_type": "stream",
          "text": [
            "/usr/local/lib/python3.7/dist-packages/pypfopt/efficient_frontier/efficient_frontier.py:258: UserWarning: max_sharpe transforms the optimization problem so additional objectives may not work as expected.\n",
            "  \"max_sharpe transforms the optimization problem so additional objectives may not work as expected.\"\n"
          ]
        },
        {
          "name": "stdout",
          "output_type": "stream",
          "text": [
            "2021-07-30 00:00:00\n",
            "0:\tlearn: 0.0130764\ttest: 0.0116976\tbest: 0.0116976 (0)\ttotal: 20.5ms\tremaining: 2.03s\n",
            "1:\tlearn: 0.0128432\ttest: 0.0117045\tbest: 0.0116976 (0)\ttotal: 55.8ms\tremaining: 2.73s\n",
            "2:\tlearn: 0.0126376\ttest: 0.0117255\tbest: 0.0116976 (0)\ttotal: 91.6ms\tremaining: 2.96s\n",
            "3:\tlearn: 0.0124508\ttest: 0.0117526\tbest: 0.0116976 (0)\ttotal: 122ms\tremaining: 2.93s\n",
            "4:\tlearn: 0.0122868\ttest: 0.0118150\tbest: 0.0116976 (0)\ttotal: 167ms\tremaining: 3.17s\n",
            "5:\tlearn: 0.0121458\ttest: 0.0118347\tbest: 0.0116976 (0)\ttotal: 189ms\tremaining: 2.96s\n",
            "6:\tlearn: 0.0120044\ttest: 0.0118184\tbest: 0.0116976 (0)\ttotal: 209ms\tremaining: 2.77s\n",
            "7:\tlearn: 0.0118764\ttest: 0.0118483\tbest: 0.0116976 (0)\ttotal: 258ms\tremaining: 2.96s\n",
            "8:\tlearn: 0.0117853\ttest: 0.0118635\tbest: 0.0116976 (0)\ttotal: 300ms\tremaining: 3.03s\n",
            "9:\tlearn: 0.0116754\ttest: 0.0119007\tbest: 0.0116976 (0)\ttotal: 344ms\tremaining: 3.1s\n",
            "10:\tlearn: 0.0115621\ttest: 0.0119230\tbest: 0.0116976 (0)\ttotal: 383ms\tremaining: 3.1s\n",
            "Stopped by overfitting detector  (10 iterations wait)\n",
            "\n",
            "bestTest = 0.01169759798\n",
            "bestIteration = 0\n",
            "\n",
            "Shrink model to first 1 iterations.\n"
          ]
        },
        {
          "name": "stderr",
          "output_type": "stream",
          "text": [
            "/usr/local/lib/python3.7/dist-packages/pypfopt/efficient_frontier/efficient_frontier.py:258: UserWarning: max_sharpe transforms the optimization problem so additional objectives may not work as expected.\n",
            "  \"max_sharpe transforms the optimization problem so additional objectives may not work as expected.\"\n",
            "/usr/local/lib/python3.7/dist-packages/cvxpy/problems/problem.py:1334: UserWarning: Solution may be inaccurate. Try another solver, adjusting the solver settings, or solve with verbose=True for more information.\n",
            "  \"Solution may be inaccurate. Try another solver, \"\n"
          ]
        },
        {
          "name": "stdout",
          "output_type": "stream",
          "text": [
            "2021-08-02 00:00:00\n",
            "0:\tlearn: 0.0124482\ttest: 0.0118379\tbest: 0.0118379 (0)\ttotal: 20.8ms\tremaining: 2.06s\n",
            "1:\tlearn: 0.0122501\ttest: 0.0118618\tbest: 0.0118379 (0)\ttotal: 57.9ms\tremaining: 2.84s\n",
            "2:\tlearn: 0.0120560\ttest: 0.0119116\tbest: 0.0118379 (0)\ttotal: 92.6ms\tremaining: 2.99s\n",
            "3:\tlearn: 0.0119036\ttest: 0.0119564\tbest: 0.0118379 (0)\ttotal: 135ms\tremaining: 3.24s\n",
            "4:\tlearn: 0.0117256\ttest: 0.0120174\tbest: 0.0118379 (0)\ttotal: 178ms\tremaining: 3.38s\n",
            "5:\tlearn: 0.0115886\ttest: 0.0120721\tbest: 0.0118379 (0)\ttotal: 216ms\tremaining: 3.38s\n",
            "6:\tlearn: 0.0114656\ttest: 0.0121219\tbest: 0.0118379 (0)\ttotal: 255ms\tremaining: 3.39s\n",
            "7:\tlearn: 0.0113379\ttest: 0.0121871\tbest: 0.0118379 (0)\ttotal: 295ms\tremaining: 3.39s\n",
            "8:\tlearn: 0.0112300\ttest: 0.0122116\tbest: 0.0118379 (0)\ttotal: 341ms\tremaining: 3.45s\n",
            "9:\tlearn: 0.0111603\ttest: 0.0122392\tbest: 0.0118379 (0)\ttotal: 378ms\tremaining: 3.4s\n",
            "10:\tlearn: 0.0110708\ttest: 0.0122850\tbest: 0.0118379 (0)\ttotal: 416ms\tremaining: 3.37s\n",
            "Stopped by overfitting detector  (10 iterations wait)\n",
            "\n",
            "bestTest = 0.01183792431\n",
            "bestIteration = 0\n",
            "\n",
            "Shrink model to first 1 iterations.\n"
          ]
        },
        {
          "name": "stderr",
          "output_type": "stream",
          "text": [
            "/usr/local/lib/python3.7/dist-packages/pypfopt/efficient_frontier/efficient_frontier.py:258: UserWarning: max_sharpe transforms the optimization problem so additional objectives may not work as expected.\n",
            "  \"max_sharpe transforms the optimization problem so additional objectives may not work as expected.\"\n"
          ]
        },
        {
          "name": "stdout",
          "output_type": "stream",
          "text": [
            "2021-08-03 00:00:00\n",
            "0:\tlearn: 0.0118668\ttest: 0.0120068\tbest: 0.0120068 (0)\ttotal: 16ms\tremaining: 1.58s\n",
            "1:\tlearn: 0.0117398\ttest: 0.0119769\tbest: 0.0119769 (1)\ttotal: 33.2ms\tremaining: 1.63s\n",
            "2:\tlearn: 0.0115880\ttest: 0.0119451\tbest: 0.0119451 (2)\ttotal: 48.9ms\tremaining: 1.58s\n",
            "3:\tlearn: 0.0114379\ttest: 0.0119343\tbest: 0.0119343 (3)\ttotal: 65.7ms\tremaining: 1.58s\n",
            "4:\tlearn: 0.0113358\ttest: 0.0119227\tbest: 0.0119227 (4)\ttotal: 81.5ms\tremaining: 1.55s\n",
            "5:\tlearn: 0.0112263\ttest: 0.0119058\tbest: 0.0119058 (5)\ttotal: 97.2ms\tremaining: 1.52s\n",
            "6:\tlearn: 0.0111321\ttest: 0.0119009\tbest: 0.0119009 (6)\ttotal: 113ms\tremaining: 1.5s\n",
            "7:\tlearn: 0.0110624\ttest: 0.0118987\tbest: 0.0118987 (7)\ttotal: 133ms\tremaining: 1.52s\n",
            "8:\tlearn: 0.0109708\ttest: 0.0118943\tbest: 0.0118943 (8)\ttotal: 148ms\tremaining: 1.5s\n",
            "9:\tlearn: 0.0109028\ttest: 0.0118857\tbest: 0.0118857 (9)\ttotal: 163ms\tremaining: 1.47s\n",
            "10:\tlearn: 0.0108140\ttest: 0.0118978\tbest: 0.0118857 (9)\ttotal: 179ms\tremaining: 1.45s\n",
            "11:\tlearn: 0.0107436\ttest: 0.0119048\tbest: 0.0118857 (9)\ttotal: 194ms\tremaining: 1.42s\n",
            "12:\tlearn: 0.0106553\ttest: 0.0119178\tbest: 0.0118857 (9)\ttotal: 210ms\tremaining: 1.4s\n",
            "13:\tlearn: 0.0105763\ttest: 0.0119348\tbest: 0.0118857 (9)\ttotal: 238ms\tremaining: 1.46s\n",
            "14:\tlearn: 0.0105110\ttest: 0.0119523\tbest: 0.0118857 (9)\ttotal: 253ms\tremaining: 1.44s\n",
            "15:\tlearn: 0.0104519\ttest: 0.0119596\tbest: 0.0118857 (9)\ttotal: 271ms\tremaining: 1.43s\n",
            "16:\tlearn: 0.0103937\ttest: 0.0119563\tbest: 0.0118857 (9)\ttotal: 294ms\tremaining: 1.44s\n",
            "17:\tlearn: 0.0103474\ttest: 0.0119545\tbest: 0.0118857 (9)\ttotal: 309ms\tremaining: 1.41s\n",
            "18:\tlearn: 0.0102979\ttest: 0.0119641\tbest: 0.0118857 (9)\ttotal: 324ms\tremaining: 1.38s\n",
            "19:\tlearn: 0.0102622\ttest: 0.0119729\tbest: 0.0118857 (9)\ttotal: 340ms\tremaining: 1.36s\n",
            "Stopped by overfitting detector  (10 iterations wait)\n",
            "\n",
            "bestTest = 0.01188567308\n",
            "bestIteration = 9\n",
            "\n",
            "Shrink model to first 10 iterations.\n"
          ]
        },
        {
          "name": "stderr",
          "output_type": "stream",
          "text": [
            "/usr/local/lib/python3.7/dist-packages/pypfopt/efficient_frontier/efficient_frontier.py:258: UserWarning: max_sharpe transforms the optimization problem so additional objectives may not work as expected.\n",
            "  \"max_sharpe transforms the optimization problem so additional objectives may not work as expected.\"\n"
          ]
        },
        {
          "name": "stdout",
          "output_type": "stream",
          "text": [
            "2021-08-04 00:00:00\n",
            "0:\tlearn: 0.0126361\ttest: 0.0116750\tbest: 0.0116750 (0)\ttotal: 15.8ms\tremaining: 1.57s\n",
            "1:\tlearn: 0.0124524\ttest: 0.0117279\tbest: 0.0116750 (0)\ttotal: 31.7ms\tremaining: 1.55s\n",
            "2:\tlearn: 0.0122821\ttest: 0.0117571\tbest: 0.0116750 (0)\ttotal: 46.6ms\tremaining: 1.51s\n",
            "3:\tlearn: 0.0120909\ttest: 0.0118163\tbest: 0.0116750 (0)\ttotal: 62.4ms\tremaining: 1.5s\n",
            "4:\tlearn: 0.0119357\ttest: 0.0118848\tbest: 0.0116750 (0)\ttotal: 77.4ms\tremaining: 1.47s\n",
            "5:\tlearn: 0.0118147\ttest: 0.0119370\tbest: 0.0116750 (0)\ttotal: 92.6ms\tremaining: 1.45s\n",
            "6:\tlearn: 0.0116912\ttest: 0.0119928\tbest: 0.0116750 (0)\ttotal: 108ms\tremaining: 1.43s\n",
            "7:\tlearn: 0.0115991\ttest: 0.0120282\tbest: 0.0116750 (0)\ttotal: 126ms\tremaining: 1.45s\n",
            "8:\tlearn: 0.0115112\ttest: 0.0120630\tbest: 0.0116750 (0)\ttotal: 141ms\tremaining: 1.43s\n",
            "9:\tlearn: 0.0114181\ttest: 0.0120953\tbest: 0.0116750 (0)\ttotal: 156ms\tremaining: 1.41s\n",
            "10:\tlearn: 0.0112979\ttest: 0.0121232\tbest: 0.0116750 (0)\ttotal: 171ms\tremaining: 1.38s\n",
            "Stopped by overfitting detector  (10 iterations wait)\n",
            "\n",
            "bestTest = 0.01167495807\n",
            "bestIteration = 0\n",
            "\n",
            "Shrink model to first 1 iterations.\n"
          ]
        },
        {
          "name": "stderr",
          "output_type": "stream",
          "text": [
            "/usr/local/lib/python3.7/dist-packages/pypfopt/efficient_frontier/efficient_frontier.py:258: UserWarning: max_sharpe transforms the optimization problem so additional objectives may not work as expected.\n",
            "  \"max_sharpe transforms the optimization problem so additional objectives may not work as expected.\"\n"
          ]
        },
        {
          "name": "stdout",
          "output_type": "stream",
          "text": [
            "2021-08-05 00:00:00\n",
            "0:\tlearn: 0.0111596\ttest: 0.0123782\tbest: 0.0123782 (0)\ttotal: 15.9ms\tremaining: 1.57s\n",
            "1:\tlearn: 0.0110169\ttest: 0.0124114\tbest: 0.0123782 (0)\ttotal: 31.6ms\tremaining: 1.55s\n",
            "2:\tlearn: 0.0108711\ttest: 0.0124767\tbest: 0.0123782 (0)\ttotal: 47ms\tremaining: 1.52s\n",
            "3:\tlearn: 0.0107659\ttest: 0.0124946\tbest: 0.0123782 (0)\ttotal: 63.2ms\tremaining: 1.52s\n",
            "4:\tlearn: 0.0106515\ttest: 0.0125648\tbest: 0.0123782 (0)\ttotal: 78.8ms\tremaining: 1.5s\n",
            "5:\tlearn: 0.0105541\ttest: 0.0125773\tbest: 0.0123782 (0)\ttotal: 94.2ms\tremaining: 1.48s\n",
            "6:\tlearn: 0.0104644\ttest: 0.0126515\tbest: 0.0123782 (0)\ttotal: 109ms\tremaining: 1.45s\n",
            "7:\tlearn: 0.0103765\ttest: 0.0127110\tbest: 0.0123782 (0)\ttotal: 125ms\tremaining: 1.44s\n",
            "8:\tlearn: 0.0103086\ttest: 0.0127382\tbest: 0.0123782 (0)\ttotal: 150ms\tremaining: 1.52s\n",
            "9:\tlearn: 0.0102317\ttest: 0.0128028\tbest: 0.0123782 (0)\ttotal: 165ms\tremaining: 1.48s\n",
            "10:\tlearn: 0.0101536\ttest: 0.0128571\tbest: 0.0123782 (0)\ttotal: 180ms\tremaining: 1.46s\n",
            "Stopped by overfitting detector  (10 iterations wait)\n",
            "\n",
            "bestTest = 0.01237816886\n",
            "bestIteration = 0\n",
            "\n",
            "Shrink model to first 1 iterations.\n"
          ]
        },
        {
          "name": "stderr",
          "output_type": "stream",
          "text": [
            "/usr/local/lib/python3.7/dist-packages/pypfopt/efficient_frontier/efficient_frontier.py:258: UserWarning: max_sharpe transforms the optimization problem so additional objectives may not work as expected.\n",
            "  \"max_sharpe transforms the optimization problem so additional objectives may not work as expected.\"\n"
          ]
        },
        {
          "name": "stdout",
          "output_type": "stream",
          "text": [
            "2021-08-06 00:00:00\n",
            "0:\tlearn: 0.0118437\ttest: 0.0120175\tbest: 0.0120175 (0)\ttotal: 17.4ms\tremaining: 1.72s\n",
            "1:\tlearn: 0.0116479\ttest: 0.0120122\tbest: 0.0120122 (1)\ttotal: 33.9ms\tremaining: 1.66s\n",
            "2:\tlearn: 0.0114303\ttest: 0.0120347\tbest: 0.0120122 (1)\ttotal: 49.8ms\tremaining: 1.61s\n",
            "3:\tlearn: 0.0112937\ttest: 0.0120378\tbest: 0.0120122 (1)\ttotal: 66.2ms\tremaining: 1.59s\n",
            "4:\tlearn: 0.0111328\ttest: 0.0120402\tbest: 0.0120122 (1)\ttotal: 94.6ms\tremaining: 1.8s\n",
            "5:\tlearn: 0.0109911\ttest: 0.0120448\tbest: 0.0120122 (1)\ttotal: 110ms\tremaining: 1.73s\n",
            "6:\tlearn: 0.0108757\ttest: 0.0120563\tbest: 0.0120122 (1)\ttotal: 126ms\tremaining: 1.67s\n",
            "7:\tlearn: 0.0107582\ttest: 0.0120653\tbest: 0.0120122 (1)\ttotal: 144ms\tremaining: 1.65s\n",
            "8:\tlearn: 0.0106580\ttest: 0.0120866\tbest: 0.0120122 (1)\ttotal: 159ms\tremaining: 1.61s\n",
            "9:\tlearn: 0.0105564\ttest: 0.0121045\tbest: 0.0120122 (1)\ttotal: 175ms\tremaining: 1.57s\n",
            "10:\tlearn: 0.0104844\ttest: 0.0121222\tbest: 0.0120122 (1)\ttotal: 190ms\tremaining: 1.53s\n",
            "11:\tlearn: 0.0104013\ttest: 0.0121404\tbest: 0.0120122 (1)\ttotal: 205ms\tremaining: 1.51s\n",
            "Stopped by overfitting detector  (10 iterations wait)\n",
            "\n",
            "bestTest = 0.01201221933\n",
            "bestIteration = 1\n",
            "\n",
            "Shrink model to first 2 iterations.\n"
          ]
        },
        {
          "name": "stderr",
          "output_type": "stream",
          "text": [
            "/usr/local/lib/python3.7/dist-packages/pypfopt/efficient_frontier/efficient_frontier.py:258: UserWarning: max_sharpe transforms the optimization problem so additional objectives may not work as expected.\n",
            "  \"max_sharpe transforms the optimization problem so additional objectives may not work as expected.\"\n"
          ]
        },
        {
          "name": "stdout",
          "output_type": "stream",
          "text": [
            "2021-08-09 00:00:00\n",
            "0:\tlearn: 0.0126312\ttest: 0.0116803\tbest: 0.0116803 (0)\ttotal: 16.3ms\tremaining: 1.61s\n",
            "1:\tlearn: 0.0124058\ttest: 0.0116850\tbest: 0.0116803 (0)\ttotal: 31.8ms\tremaining: 1.56s\n",
            "2:\tlearn: 0.0121818\ttest: 0.0117414\tbest: 0.0116803 (0)\ttotal: 48.8ms\tremaining: 1.58s\n",
            "3:\tlearn: 0.0120416\ttest: 0.0117482\tbest: 0.0116803 (0)\ttotal: 64.9ms\tremaining: 1.56s\n",
            "4:\tlearn: 0.0118796\ttest: 0.0117792\tbest: 0.0116803 (0)\ttotal: 79.8ms\tremaining: 1.52s\n",
            "5:\tlearn: 0.0117350\ttest: 0.0118260\tbest: 0.0116803 (0)\ttotal: 95.2ms\tremaining: 1.49s\n",
            "6:\tlearn: 0.0116063\ttest: 0.0118737\tbest: 0.0116803 (0)\ttotal: 110ms\tremaining: 1.47s\n",
            "7:\tlearn: 0.0115206\ttest: 0.0118874\tbest: 0.0116803 (0)\ttotal: 133ms\tremaining: 1.53s\n",
            "8:\tlearn: 0.0114216\ttest: 0.0119350\tbest: 0.0116803 (0)\ttotal: 151ms\tremaining: 1.53s\n",
            "9:\tlearn: 0.0113112\ttest: 0.0119724\tbest: 0.0116803 (0)\ttotal: 167ms\tremaining: 1.5s\n",
            "10:\tlearn: 0.0112422\ttest: 0.0119903\tbest: 0.0116803 (0)\ttotal: 182ms\tremaining: 1.47s\n",
            "Stopped by overfitting detector  (10 iterations wait)\n",
            "\n",
            "bestTest = 0.01168032359\n",
            "bestIteration = 0\n",
            "\n",
            "Shrink model to first 1 iterations.\n"
          ]
        },
        {
          "name": "stderr",
          "output_type": "stream",
          "text": [
            "/usr/local/lib/python3.7/dist-packages/pypfopt/efficient_frontier/efficient_frontier.py:258: UserWarning: max_sharpe transforms the optimization problem so additional objectives may not work as expected.\n",
            "  \"max_sharpe transforms the optimization problem so additional objectives may not work as expected.\"\n"
          ]
        },
        {
          "name": "stdout",
          "output_type": "stream",
          "text": [
            "2021-08-10 00:00:00\n",
            "0:\tlearn: 0.0119753\ttest: 0.0118949\tbest: 0.0118949 (0)\ttotal: 47.1ms\tremaining: 4.66s\n",
            "1:\tlearn: 0.0117530\ttest: 0.0119470\tbest: 0.0118949 (0)\ttotal: 88.3ms\tremaining: 4.32s\n",
            "2:\tlearn: 0.0115194\ttest: 0.0120134\tbest: 0.0118949 (0)\ttotal: 124ms\tremaining: 4.02s\n",
            "3:\tlearn: 0.0113424\ttest: 0.0120714\tbest: 0.0118949 (0)\ttotal: 167ms\tremaining: 4.01s\n",
            "4:\tlearn: 0.0111855\ttest: 0.0121285\tbest: 0.0118949 (0)\ttotal: 214ms\tremaining: 4.06s\n",
            "5:\tlearn: 0.0110612\ttest: 0.0121765\tbest: 0.0118949 (0)\ttotal: 256ms\tremaining: 4s\n",
            "6:\tlearn: 0.0109072\ttest: 0.0122300\tbest: 0.0118949 (0)\ttotal: 299ms\tremaining: 3.97s\n",
            "7:\tlearn: 0.0107918\ttest: 0.0122939\tbest: 0.0118949 (0)\ttotal: 333ms\tremaining: 3.83s\n",
            "8:\tlearn: 0.0106831\ttest: 0.0123439\tbest: 0.0118949 (0)\ttotal: 376ms\tremaining: 3.8s\n",
            "9:\tlearn: 0.0105883\ttest: 0.0123867\tbest: 0.0118949 (0)\ttotal: 421ms\tremaining: 3.79s\n",
            "10:\tlearn: 0.0105029\ttest: 0.0124379\tbest: 0.0118949 (0)\ttotal: 464ms\tremaining: 3.76s\n",
            "Stopped by overfitting detector  (10 iterations wait)\n",
            "\n",
            "bestTest = 0.01189485605\n",
            "bestIteration = 0\n",
            "\n",
            "Shrink model to first 1 iterations.\n"
          ]
        },
        {
          "name": "stderr",
          "output_type": "stream",
          "text": [
            "/usr/local/lib/python3.7/dist-packages/pypfopt/efficient_frontier/efficient_frontier.py:258: UserWarning: max_sharpe transforms the optimization problem so additional objectives may not work as expected.\n",
            "  \"max_sharpe transforms the optimization problem so additional objectives may not work as expected.\"\n"
          ]
        },
        {
          "name": "stdout",
          "output_type": "stream",
          "text": [
            "2021-08-11 00:00:00\n",
            "0:\tlearn: 0.0119874\ttest: 0.0117849\tbest: 0.0117849 (0)\ttotal: 41.2ms\tremaining: 4.08s\n",
            "1:\tlearn: 0.0117981\ttest: 0.0118313\tbest: 0.0117849 (0)\ttotal: 70.1ms\tremaining: 3.43s\n",
            "2:\tlearn: 0.0116160\ttest: 0.0119070\tbest: 0.0117849 (0)\ttotal: 98.6ms\tremaining: 3.19s\n",
            "3:\tlearn: 0.0114606\ttest: 0.0119459\tbest: 0.0117849 (0)\ttotal: 162ms\tremaining: 3.9s\n",
            "4:\tlearn: 0.0113127\ttest: 0.0120534\tbest: 0.0117849 (0)\ttotal: 200ms\tremaining: 3.81s\n",
            "5:\tlearn: 0.0111821\ttest: 0.0121036\tbest: 0.0117849 (0)\ttotal: 282ms\tremaining: 4.42s\n",
            "6:\tlearn: 0.0110737\ttest: 0.0121581\tbest: 0.0117849 (0)\ttotal: 320ms\tremaining: 4.25s\n",
            "7:\tlearn: 0.0109639\ttest: 0.0121951\tbest: 0.0117849 (0)\ttotal: 360ms\tremaining: 4.13s\n",
            "8:\tlearn: 0.0108477\ttest: 0.0122192\tbest: 0.0117849 (0)\ttotal: 393ms\tremaining: 3.97s\n",
            "9:\tlearn: 0.0107374\ttest: 0.0122660\tbest: 0.0117849 (0)\ttotal: 431ms\tremaining: 3.88s\n",
            "10:\tlearn: 0.0106653\ttest: 0.0122922\tbest: 0.0117849 (0)\ttotal: 474ms\tremaining: 3.83s\n",
            "Stopped by overfitting detector  (10 iterations wait)\n",
            "\n",
            "bestTest = 0.01178487515\n",
            "bestIteration = 0\n",
            "\n",
            "Shrink model to first 1 iterations.\n"
          ]
        },
        {
          "name": "stderr",
          "output_type": "stream",
          "text": [
            "/usr/local/lib/python3.7/dist-packages/pypfopt/efficient_frontier/efficient_frontier.py:258: UserWarning: max_sharpe transforms the optimization problem so additional objectives may not work as expected.\n",
            "  \"max_sharpe transforms the optimization problem so additional objectives may not work as expected.\"\n"
          ]
        },
        {
          "name": "stdout",
          "output_type": "stream",
          "text": [
            "2021-08-12 00:00:00\n",
            "0:\tlearn: 0.0114590\ttest: 0.0119646\tbest: 0.0119646 (0)\ttotal: 25.6ms\tremaining: 2.53s\n",
            "1:\tlearn: 0.0113238\ttest: 0.0119452\tbest: 0.0119452 (1)\ttotal: 66.2ms\tremaining: 3.24s\n",
            "2:\tlearn: 0.0111852\ttest: 0.0119499\tbest: 0.0119452 (1)\ttotal: 106ms\tremaining: 3.42s\n",
            "3:\tlearn: 0.0110696\ttest: 0.0119401\tbest: 0.0119401 (3)\ttotal: 148ms\tremaining: 3.56s\n",
            "4:\tlearn: 0.0109548\ttest: 0.0119553\tbest: 0.0119401 (3)\ttotal: 187ms\tremaining: 3.56s\n",
            "5:\tlearn: 0.0108655\ttest: 0.0119742\tbest: 0.0119401 (3)\ttotal: 209ms\tremaining: 3.28s\n",
            "6:\tlearn: 0.0107680\ttest: 0.0119887\tbest: 0.0119401 (3)\ttotal: 243ms\tremaining: 3.23s\n",
            "7:\tlearn: 0.0107132\ttest: 0.0120001\tbest: 0.0119401 (3)\ttotal: 263ms\tremaining: 3.02s\n",
            "8:\tlearn: 0.0106535\ttest: 0.0120099\tbest: 0.0119401 (3)\ttotal: 281ms\tremaining: 2.84s\n",
            "9:\tlearn: 0.0105648\ttest: 0.0120246\tbest: 0.0119401 (3)\ttotal: 323ms\tremaining: 2.9s\n",
            "10:\tlearn: 0.0104962\ttest: 0.0120178\tbest: 0.0119401 (3)\ttotal: 360ms\tremaining: 2.91s\n",
            "11:\tlearn: 0.0104346\ttest: 0.0120215\tbest: 0.0119401 (3)\ttotal: 385ms\tremaining: 2.83s\n",
            "12:\tlearn: 0.0103726\ttest: 0.0120260\tbest: 0.0119401 (3)\ttotal: 424ms\tremaining: 2.84s\n",
            "13:\tlearn: 0.0102976\ttest: 0.0120437\tbest: 0.0119401 (3)\ttotal: 458ms\tremaining: 2.81s\n",
            "Stopped by overfitting detector  (10 iterations wait)\n",
            "\n",
            "bestTest = 0.01194010454\n",
            "bestIteration = 3\n",
            "\n",
            "Shrink model to first 4 iterations.\n"
          ]
        },
        {
          "name": "stderr",
          "output_type": "stream",
          "text": [
            "/usr/local/lib/python3.7/dist-packages/pypfopt/efficient_frontier/efficient_frontier.py:258: UserWarning: max_sharpe transforms the optimization problem so additional objectives may not work as expected.\n",
            "  \"max_sharpe transforms the optimization problem so additional objectives may not work as expected.\"\n"
          ]
        },
        {
          "name": "stdout",
          "output_type": "stream",
          "text": [
            "2021-08-13 00:00:00\n",
            "0:\tlearn: 0.0115884\ttest: 0.0119700\tbest: 0.0119700 (0)\ttotal: 21.4ms\tremaining: 2.12s\n",
            "1:\tlearn: 0.0114564\ttest: 0.0120431\tbest: 0.0119700 (0)\ttotal: 48.4ms\tremaining: 2.37s\n",
            "2:\tlearn: 0.0113301\ttest: 0.0121073\tbest: 0.0119700 (0)\ttotal: 85.7ms\tremaining: 2.77s\n",
            "3:\tlearn: 0.0112266\ttest: 0.0121787\tbest: 0.0119700 (0)\ttotal: 142ms\tremaining: 3.42s\n",
            "4:\tlearn: 0.0111466\ttest: 0.0122133\tbest: 0.0119700 (0)\ttotal: 188ms\tremaining: 3.57s\n",
            "5:\tlearn: 0.0110543\ttest: 0.0122290\tbest: 0.0119700 (0)\ttotal: 218ms\tremaining: 3.42s\n",
            "6:\tlearn: 0.0109635\ttest: 0.0122751\tbest: 0.0119700 (0)\ttotal: 259ms\tremaining: 3.44s\n",
            "7:\tlearn: 0.0108940\ttest: 0.0123158\tbest: 0.0119700 (0)\ttotal: 288ms\tremaining: 3.31s\n",
            "8:\tlearn: 0.0108312\ttest: 0.0123746\tbest: 0.0119700 (0)\ttotal: 314ms\tremaining: 3.17s\n",
            "9:\tlearn: 0.0107519\ttest: 0.0123860\tbest: 0.0119700 (0)\ttotal: 336ms\tremaining: 3.02s\n",
            "10:\tlearn: 0.0106867\ttest: 0.0124340\tbest: 0.0119700 (0)\ttotal: 361ms\tremaining: 2.92s\n",
            "Stopped by overfitting detector  (10 iterations wait)\n",
            "\n",
            "bestTest = 0.01196999635\n",
            "bestIteration = 0\n",
            "\n",
            "Shrink model to first 1 iterations.\n"
          ]
        },
        {
          "name": "stderr",
          "output_type": "stream",
          "text": [
            "/usr/local/lib/python3.7/dist-packages/pypfopt/efficient_frontier/efficient_frontier.py:258: UserWarning: max_sharpe transforms the optimization problem so additional objectives may not work as expected.\n",
            "  \"max_sharpe transforms the optimization problem so additional objectives may not work as expected.\"\n"
          ]
        },
        {
          "name": "stdout",
          "output_type": "stream",
          "text": [
            "2021-08-16 00:00:00\n",
            "0:\tlearn: 0.0103396\ttest: 0.0122955\tbest: 0.0122955 (0)\ttotal: 16.6ms\tremaining: 1.65s\n",
            "1:\tlearn: 0.0102393\ttest: 0.0122949\tbest: 0.0122949 (1)\ttotal: 32.7ms\tremaining: 1.6s\n",
            "2:\tlearn: 0.0101310\ttest: 0.0123060\tbest: 0.0122949 (1)\ttotal: 48.6ms\tremaining: 1.57s\n",
            "3:\tlearn: 0.0100320\ttest: 0.0123241\tbest: 0.0122949 (1)\ttotal: 64.7ms\tremaining: 1.55s\n",
            "4:\tlearn: 0.0099536\ttest: 0.0123681\tbest: 0.0122949 (1)\ttotal: 79.8ms\tremaining: 1.52s\n",
            "5:\tlearn: 0.0098818\ttest: 0.0123941\tbest: 0.0122949 (1)\ttotal: 95ms\tremaining: 1.49s\n",
            "6:\tlearn: 0.0098096\ttest: 0.0124178\tbest: 0.0122949 (1)\ttotal: 110ms\tremaining: 1.47s\n",
            "7:\tlearn: 0.0097436\ttest: 0.0124355\tbest: 0.0122949 (1)\ttotal: 126ms\tremaining: 1.45s\n",
            "8:\tlearn: 0.0096738\ttest: 0.0124550\tbest: 0.0122949 (1)\ttotal: 142ms\tremaining: 1.44s\n",
            "9:\tlearn: 0.0096128\ttest: 0.0124767\tbest: 0.0122949 (1)\ttotal: 158ms\tremaining: 1.42s\n",
            "10:\tlearn: 0.0095608\ttest: 0.0124736\tbest: 0.0122949 (1)\ttotal: 174ms\tremaining: 1.4s\n",
            "11:\tlearn: 0.0094987\ttest: 0.0124883\tbest: 0.0122949 (1)\ttotal: 189ms\tremaining: 1.39s\n",
            "Stopped by overfitting detector  (10 iterations wait)\n",
            "\n",
            "bestTest = 0.01229493121\n",
            "bestIteration = 1\n",
            "\n",
            "Shrink model to first 2 iterations.\n"
          ]
        },
        {
          "name": "stderr",
          "output_type": "stream",
          "text": [
            "/usr/local/lib/python3.7/dist-packages/pypfopt/efficient_frontier/efficient_frontier.py:258: UserWarning: max_sharpe transforms the optimization problem so additional objectives may not work as expected.\n",
            "  \"max_sharpe transforms the optimization problem so additional objectives may not work as expected.\"\n",
            "/usr/local/lib/python3.7/dist-packages/cvxpy/problems/problem.py:1334: UserWarning: Solution may be inaccurate. Try another solver, adjusting the solver settings, or solve with verbose=True for more information.\n",
            "  \"Solution may be inaccurate. Try another solver, \"\n"
          ]
        },
        {
          "name": "stdout",
          "output_type": "stream",
          "text": [
            "2021-08-17 00:00:00\n",
            "0:\tlearn: 0.0110967\ttest: 0.0118531\tbest: 0.0118531 (0)\ttotal: 20.7ms\tremaining: 2.05s\n",
            "1:\tlearn: 0.0109575\ttest: 0.0118709\tbest: 0.0118531 (0)\ttotal: 44.5ms\tremaining: 2.18s\n",
            "2:\tlearn: 0.0108232\ttest: 0.0118892\tbest: 0.0118531 (0)\ttotal: 62.3ms\tremaining: 2.01s\n",
            "3:\tlearn: 0.0107120\ttest: 0.0119109\tbest: 0.0118531 (0)\ttotal: 78ms\tremaining: 1.87s\n",
            "4:\tlearn: 0.0106067\ttest: 0.0119351\tbest: 0.0118531 (0)\ttotal: 93.4ms\tremaining: 1.77s\n",
            "5:\tlearn: 0.0105071\ttest: 0.0119582\tbest: 0.0118531 (0)\ttotal: 109ms\tremaining: 1.71s\n",
            "6:\tlearn: 0.0104217\ttest: 0.0119716\tbest: 0.0118531 (0)\ttotal: 125ms\tremaining: 1.66s\n",
            "7:\tlearn: 0.0103393\ttest: 0.0119976\tbest: 0.0118531 (0)\ttotal: 141ms\tremaining: 1.62s\n",
            "8:\tlearn: 0.0102594\ttest: 0.0120205\tbest: 0.0118531 (0)\ttotal: 157ms\tremaining: 1.58s\n",
            "9:\tlearn: 0.0101892\ttest: 0.0120385\tbest: 0.0118531 (0)\ttotal: 173ms\tremaining: 1.55s\n",
            "10:\tlearn: 0.0101088\ttest: 0.0120543\tbest: 0.0118531 (0)\ttotal: 188ms\tremaining: 1.52s\n",
            "Stopped by overfitting detector  (10 iterations wait)\n",
            "\n",
            "bestTest = 0.01185311303\n",
            "bestIteration = 0\n",
            "\n",
            "Shrink model to first 1 iterations.\n"
          ]
        },
        {
          "name": "stderr",
          "output_type": "stream",
          "text": [
            "/usr/local/lib/python3.7/dist-packages/pypfopt/efficient_frontier/efficient_frontier.py:258: UserWarning: max_sharpe transforms the optimization problem so additional objectives may not work as expected.\n",
            "  \"max_sharpe transforms the optimization problem so additional objectives may not work as expected.\"\n"
          ]
        },
        {
          "name": "stdout",
          "output_type": "stream",
          "text": [
            "2021-08-18 00:00:00\n",
            "0:\tlearn: 0.0116930\ttest: 0.0115597\tbest: 0.0115597 (0)\ttotal: 15.7ms\tremaining: 1.55s\n",
            "1:\tlearn: 0.0115607\ttest: 0.0115669\tbest: 0.0115597 (0)\ttotal: 39.5ms\tremaining: 1.94s\n",
            "2:\tlearn: 0.0114362\ttest: 0.0115878\tbest: 0.0115597 (0)\ttotal: 56ms\tremaining: 1.81s\n",
            "3:\tlearn: 0.0113098\ttest: 0.0116056\tbest: 0.0115597 (0)\ttotal: 72.2ms\tremaining: 1.73s\n",
            "4:\tlearn: 0.0111828\ttest: 0.0116342\tbest: 0.0115597 (0)\ttotal: 87.6ms\tremaining: 1.66s\n",
            "5:\tlearn: 0.0110434\ttest: 0.0116534\tbest: 0.0115597 (0)\ttotal: 104ms\tremaining: 1.63s\n",
            "6:\tlearn: 0.0109250\ttest: 0.0116456\tbest: 0.0115597 (0)\ttotal: 120ms\tremaining: 1.6s\n",
            "7:\tlearn: 0.0108472\ttest: 0.0116531\tbest: 0.0115597 (0)\ttotal: 137ms\tremaining: 1.57s\n",
            "8:\tlearn: 0.0107617\ttest: 0.0116922\tbest: 0.0115597 (0)\ttotal: 153ms\tremaining: 1.54s\n",
            "9:\tlearn: 0.0106779\ttest: 0.0117363\tbest: 0.0115597 (0)\ttotal: 171ms\tremaining: 1.53s\n",
            "10:\tlearn: 0.0106085\ttest: 0.0117320\tbest: 0.0115597 (0)\ttotal: 186ms\tremaining: 1.51s\n",
            "Stopped by overfitting detector  (10 iterations wait)\n",
            "\n",
            "bestTest = 0.01155969354\n",
            "bestIteration = 0\n",
            "\n",
            "Shrink model to first 1 iterations.\n"
          ]
        },
        {
          "name": "stderr",
          "output_type": "stream",
          "text": [
            "/usr/local/lib/python3.7/dist-packages/pypfopt/efficient_frontier/efficient_frontier.py:258: UserWarning: max_sharpe transforms the optimization problem so additional objectives may not work as expected.\n",
            "  \"max_sharpe transforms the optimization problem so additional objectives may not work as expected.\"\n"
          ]
        },
        {
          "name": "stdout",
          "output_type": "stream",
          "text": [
            "2021-08-19 00:00:00\n",
            "0:\tlearn: 0.0115539\ttest: 0.0115222\tbest: 0.0115222 (0)\ttotal: 17.5ms\tremaining: 1.73s\n",
            "1:\tlearn: 0.0113726\ttest: 0.0115110\tbest: 0.0115110 (1)\ttotal: 33.3ms\tremaining: 1.63s\n",
            "2:\tlearn: 0.0112132\ttest: 0.0115270\tbest: 0.0115110 (1)\ttotal: 48ms\tremaining: 1.55s\n",
            "3:\tlearn: 0.0110824\ttest: 0.0115503\tbest: 0.0115110 (1)\ttotal: 63.9ms\tremaining: 1.53s\n",
            "4:\tlearn: 0.0109426\ttest: 0.0115672\tbest: 0.0115110 (1)\ttotal: 79.2ms\tremaining: 1.5s\n",
            "5:\tlearn: 0.0108285\ttest: 0.0115980\tbest: 0.0115110 (1)\ttotal: 94.2ms\tremaining: 1.48s\n",
            "6:\tlearn: 0.0107221\ttest: 0.0116006\tbest: 0.0115110 (1)\ttotal: 109ms\tremaining: 1.45s\n",
            "7:\tlearn: 0.0106289\ttest: 0.0116080\tbest: 0.0115110 (1)\ttotal: 125ms\tremaining: 1.44s\n",
            "8:\tlearn: 0.0105401\ttest: 0.0116560\tbest: 0.0115110 (1)\ttotal: 141ms\tremaining: 1.42s\n",
            "9:\tlearn: 0.0104718\ttest: 0.0116803\tbest: 0.0115110 (1)\ttotal: 157ms\tremaining: 1.41s\n",
            "10:\tlearn: 0.0104157\ttest: 0.0116940\tbest: 0.0115110 (1)\ttotal: 172ms\tremaining: 1.39s\n",
            "11:\tlearn: 0.0103418\ttest: 0.0117343\tbest: 0.0115110 (1)\ttotal: 188ms\tremaining: 1.38s\n",
            "Stopped by overfitting detector  (10 iterations wait)\n",
            "\n",
            "bestTest = 0.01151099225\n",
            "bestIteration = 1\n",
            "\n",
            "Shrink model to first 2 iterations.\n"
          ]
        },
        {
          "name": "stderr",
          "output_type": "stream",
          "text": [
            "/usr/local/lib/python3.7/dist-packages/pypfopt/efficient_frontier/efficient_frontier.py:258: UserWarning: max_sharpe transforms the optimization problem so additional objectives may not work as expected.\n",
            "  \"max_sharpe transforms the optimization problem so additional objectives may not work as expected.\"\n"
          ]
        },
        {
          "name": "stdout",
          "output_type": "stream",
          "text": [
            "2021-08-20 00:00:00\n",
            "0:\tlearn: 0.0117230\ttest: 0.0115288\tbest: 0.0115288 (0)\ttotal: 16.2ms\tremaining: 1.61s\n",
            "1:\tlearn: 0.0115173\ttest: 0.0115157\tbest: 0.0115157 (1)\ttotal: 31.9ms\tremaining: 1.56s\n",
            "2:\tlearn: 0.0113191\ttest: 0.0115159\tbest: 0.0115157 (1)\ttotal: 47.3ms\tremaining: 1.53s\n",
            "3:\tlearn: 0.0111473\ttest: 0.0115240\tbest: 0.0115157 (1)\ttotal: 63.3ms\tremaining: 1.52s\n",
            "4:\tlearn: 0.0109814\ttest: 0.0115589\tbest: 0.0115157 (1)\ttotal: 78.6ms\tremaining: 1.49s\n",
            "5:\tlearn: 0.0108456\ttest: 0.0115833\tbest: 0.0115157 (1)\ttotal: 94.3ms\tremaining: 1.48s\n",
            "6:\tlearn: 0.0107249\ttest: 0.0115945\tbest: 0.0115157 (1)\ttotal: 110ms\tremaining: 1.46s\n",
            "7:\tlearn: 0.0106171\ttest: 0.0116181\tbest: 0.0115157 (1)\ttotal: 125ms\tremaining: 1.44s\n",
            "8:\tlearn: 0.0105226\ttest: 0.0116277\tbest: 0.0115157 (1)\ttotal: 141ms\tremaining: 1.43s\n",
            "9:\tlearn: 0.0104160\ttest: 0.0116365\tbest: 0.0115157 (1)\ttotal: 157ms\tremaining: 1.41s\n",
            "10:\tlearn: 0.0103235\ttest: 0.0116596\tbest: 0.0115157 (1)\ttotal: 172ms\tremaining: 1.39s\n",
            "11:\tlearn: 0.0102448\ttest: 0.0116977\tbest: 0.0115157 (1)\ttotal: 190ms\tremaining: 1.4s\n",
            "Stopped by overfitting detector  (10 iterations wait)\n",
            "\n",
            "bestTest = 0.01151565514\n",
            "bestIteration = 1\n",
            "\n",
            "Shrink model to first 2 iterations.\n"
          ]
        },
        {
          "name": "stderr",
          "output_type": "stream",
          "text": [
            "/usr/local/lib/python3.7/dist-packages/pypfopt/efficient_frontier/efficient_frontier.py:258: UserWarning: max_sharpe transforms the optimization problem so additional objectives may not work as expected.\n",
            "  \"max_sharpe transforms the optimization problem so additional objectives may not work as expected.\"\n"
          ]
        },
        {
          "name": "stdout",
          "output_type": "stream",
          "text": [
            "2021-08-23 00:00:00\n",
            "0:\tlearn: 0.0124518\ttest: 0.0110230\tbest: 0.0110230 (0)\ttotal: 15.6ms\tremaining: 1.54s\n",
            "1:\tlearn: 0.0121839\ttest: 0.0110506\tbest: 0.0110230 (0)\ttotal: 31.4ms\tremaining: 1.54s\n",
            "2:\tlearn: 0.0119072\ttest: 0.0110993\tbest: 0.0110230 (0)\ttotal: 46.3ms\tremaining: 1.5s\n",
            "3:\tlearn: 0.0116790\ttest: 0.0111207\tbest: 0.0110230 (0)\ttotal: 62.1ms\tremaining: 1.49s\n",
            "4:\tlearn: 0.0114618\ttest: 0.0111637\tbest: 0.0110230 (0)\ttotal: 77.3ms\tremaining: 1.47s\n",
            "5:\tlearn: 0.0112821\ttest: 0.0112195\tbest: 0.0110230 (0)\ttotal: 92.7ms\tremaining: 1.45s\n",
            "6:\tlearn: 0.0111300\ttest: 0.0112731\tbest: 0.0110230 (0)\ttotal: 109ms\tremaining: 1.44s\n",
            "7:\tlearn: 0.0110213\ttest: 0.0113114\tbest: 0.0110230 (0)\ttotal: 124ms\tremaining: 1.42s\n",
            "8:\tlearn: 0.0109193\ttest: 0.0113357\tbest: 0.0110230 (0)\ttotal: 139ms\tremaining: 1.41s\n",
            "9:\tlearn: 0.0107828\ttest: 0.0113675\tbest: 0.0110230 (0)\ttotal: 154ms\tremaining: 1.39s\n",
            "10:\tlearn: 0.0106748\ttest: 0.0114081\tbest: 0.0110230 (0)\ttotal: 170ms\tremaining: 1.37s\n",
            "Stopped by overfitting detector  (10 iterations wait)\n",
            "\n",
            "bestTest = 0.01102301849\n",
            "bestIteration = 0\n",
            "\n",
            "Shrink model to first 1 iterations.\n"
          ]
        },
        {
          "name": "stderr",
          "output_type": "stream",
          "text": [
            "/usr/local/lib/python3.7/dist-packages/pypfopt/efficient_frontier/efficient_frontier.py:258: UserWarning: max_sharpe transforms the optimization problem so additional objectives may not work as expected.\n",
            "  \"max_sharpe transforms the optimization problem so additional objectives may not work as expected.\"\n"
          ]
        },
        {
          "name": "stdout",
          "output_type": "stream",
          "text": [
            "2021-08-24 00:00:00\n",
            "0:\tlearn: 0.0121439\ttest: 0.0111662\tbest: 0.0111662 (0)\ttotal: 15.9ms\tremaining: 1.57s\n",
            "1:\tlearn: 0.0119101\ttest: 0.0112038\tbest: 0.0111662 (0)\ttotal: 32.3ms\tremaining: 1.58s\n",
            "2:\tlearn: 0.0116449\ttest: 0.0112671\tbest: 0.0111662 (0)\ttotal: 47.5ms\tremaining: 1.53s\n",
            "3:\tlearn: 0.0114422\ttest: 0.0113144\tbest: 0.0111662 (0)\ttotal: 64.9ms\tremaining: 1.56s\n",
            "4:\tlearn: 0.0112697\ttest: 0.0113498\tbest: 0.0111662 (0)\ttotal: 80.2ms\tremaining: 1.52s\n",
            "5:\tlearn: 0.0110678\ttest: 0.0114238\tbest: 0.0111662 (0)\ttotal: 95.6ms\tremaining: 1.5s\n",
            "6:\tlearn: 0.0109042\ttest: 0.0114809\tbest: 0.0111662 (0)\ttotal: 111ms\tremaining: 1.48s\n",
            "7:\tlearn: 0.0107970\ttest: 0.0115086\tbest: 0.0111662 (0)\ttotal: 127ms\tremaining: 1.46s\n",
            "8:\tlearn: 0.0106845\ttest: 0.0115408\tbest: 0.0111662 (0)\ttotal: 143ms\tremaining: 1.45s\n",
            "9:\tlearn: 0.0105601\ttest: 0.0116132\tbest: 0.0111662 (0)\ttotal: 158ms\tremaining: 1.43s\n",
            "10:\tlearn: 0.0104522\ttest: 0.0116548\tbest: 0.0111662 (0)\ttotal: 174ms\tremaining: 1.41s\n",
            "Stopped by overfitting detector  (10 iterations wait)\n",
            "\n",
            "bestTest = 0.01116617075\n",
            "bestIteration = 0\n",
            "\n",
            "Shrink model to first 1 iterations.\n"
          ]
        },
        {
          "name": "stderr",
          "output_type": "stream",
          "text": [
            "/usr/local/lib/python3.7/dist-packages/pypfopt/efficient_frontier/efficient_frontier.py:258: UserWarning: max_sharpe transforms the optimization problem so additional objectives may not work as expected.\n",
            "  \"max_sharpe transforms the optimization problem so additional objectives may not work as expected.\"\n"
          ]
        },
        {
          "name": "stdout",
          "output_type": "stream",
          "text": [
            "2021-08-25 00:00:00\n",
            "0:\tlearn: 0.0101960\ttest: 0.0120072\tbest: 0.0120072 (0)\ttotal: 16.3ms\tremaining: 1.61s\n",
            "1:\tlearn: 0.0100944\ttest: 0.0120058\tbest: 0.0120058 (1)\ttotal: 32.8ms\tremaining: 1.61s\n",
            "2:\tlearn: 0.0100078\ttest: 0.0120281\tbest: 0.0120058 (1)\ttotal: 48.2ms\tremaining: 1.56s\n",
            "3:\tlearn: 0.0099008\ttest: 0.0120384\tbest: 0.0120058 (1)\ttotal: 65.1ms\tremaining: 1.56s\n",
            "4:\tlearn: 0.0097929\ttest: 0.0120664\tbest: 0.0120058 (1)\ttotal: 80.8ms\tremaining: 1.53s\n",
            "5:\tlearn: 0.0097154\ttest: 0.0120885\tbest: 0.0120058 (1)\ttotal: 96.5ms\tremaining: 1.51s\n",
            "6:\tlearn: 0.0096336\ttest: 0.0120880\tbest: 0.0120058 (1)\ttotal: 116ms\tremaining: 1.54s\n",
            "7:\tlearn: 0.0095786\ttest: 0.0120949\tbest: 0.0120058 (1)\ttotal: 136ms\tremaining: 1.56s\n",
            "8:\tlearn: 0.0095105\ttest: 0.0121081\tbest: 0.0120058 (1)\ttotal: 152ms\tremaining: 1.53s\n",
            "9:\tlearn: 0.0094414\ttest: 0.0121334\tbest: 0.0120058 (1)\ttotal: 167ms\tremaining: 1.51s\n",
            "10:\tlearn: 0.0093939\ttest: 0.0121329\tbest: 0.0120058 (1)\ttotal: 183ms\tremaining: 1.48s\n",
            "11:\tlearn: 0.0093536\ttest: 0.0121437\tbest: 0.0120058 (1)\ttotal: 201ms\tremaining: 1.48s\n",
            "Stopped by overfitting detector  (10 iterations wait)\n",
            "\n",
            "bestTest = 0.01200575115\n",
            "bestIteration = 1\n",
            "\n",
            "Shrink model to first 2 iterations.\n"
          ]
        },
        {
          "name": "stderr",
          "output_type": "stream",
          "text": [
            "/usr/local/lib/python3.7/dist-packages/pypfopt/efficient_frontier/efficient_frontier.py:258: UserWarning: max_sharpe transforms the optimization problem so additional objectives may not work as expected.\n",
            "  \"max_sharpe transforms the optimization problem so additional objectives may not work as expected.\"\n"
          ]
        },
        {
          "name": "stdout",
          "output_type": "stream",
          "text": [
            "2021-08-26 00:00:00\n",
            "0:\tlearn: 0.0103036\ttest: 0.0119150\tbest: 0.0119150 (0)\ttotal: 16.3ms\tremaining: 1.61s\n",
            "1:\tlearn: 0.0101817\ttest: 0.0119384\tbest: 0.0119150 (0)\ttotal: 32ms\tremaining: 1.57s\n",
            "2:\tlearn: 0.0100935\ttest: 0.0119688\tbest: 0.0119150 (0)\ttotal: 47.1ms\tremaining: 1.52s\n",
            "3:\tlearn: 0.0100049\ttest: 0.0119864\tbest: 0.0119150 (0)\ttotal: 63.4ms\tremaining: 1.52s\n",
            "4:\tlearn: 0.0099150\ttest: 0.0120192\tbest: 0.0119150 (0)\ttotal: 78.9ms\tremaining: 1.5s\n",
            "5:\tlearn: 0.0098381\ttest: 0.0120357\tbest: 0.0119150 (0)\ttotal: 94ms\tremaining: 1.47s\n",
            "6:\tlearn: 0.0097710\ttest: 0.0120325\tbest: 0.0119150 (0)\ttotal: 109ms\tremaining: 1.45s\n",
            "7:\tlearn: 0.0097076\ttest: 0.0120399\tbest: 0.0119150 (0)\ttotal: 126ms\tremaining: 1.45s\n",
            "8:\tlearn: 0.0096127\ttest: 0.0120596\tbest: 0.0119150 (0)\ttotal: 142ms\tremaining: 1.44s\n",
            "9:\tlearn: 0.0095220\ttest: 0.0120770\tbest: 0.0119150 (0)\ttotal: 158ms\tremaining: 1.42s\n",
            "10:\tlearn: 0.0094847\ttest: 0.0120824\tbest: 0.0119150 (0)\ttotal: 173ms\tremaining: 1.4s\n",
            "Stopped by overfitting detector  (10 iterations wait)\n",
            "\n",
            "bestTest = 0.01191502687\n",
            "bestIteration = 0\n",
            "\n",
            "Shrink model to first 1 iterations.\n"
          ]
        },
        {
          "name": "stderr",
          "output_type": "stream",
          "text": [
            "/usr/local/lib/python3.7/dist-packages/pypfopt/efficient_frontier/efficient_frontier.py:258: UserWarning: max_sharpe transforms the optimization problem so additional objectives may not work as expected.\n",
            "  \"max_sharpe transforms the optimization problem so additional objectives may not work as expected.\"\n"
          ]
        },
        {
          "name": "stdout",
          "output_type": "stream",
          "text": [
            "2021-08-27 00:00:00\n",
            "0:\tlearn: 0.0120174\ttest: 0.0112118\tbest: 0.0112118 (0)\ttotal: 15.7ms\tremaining: 1.55s\n",
            "1:\tlearn: 0.0117719\ttest: 0.0111848\tbest: 0.0111848 (1)\ttotal: 31.4ms\tremaining: 1.54s\n",
            "2:\tlearn: 0.0115800\ttest: 0.0111822\tbest: 0.0111822 (2)\ttotal: 46.4ms\tremaining: 1.5s\n",
            "3:\tlearn: 0.0114109\ttest: 0.0111931\tbest: 0.0111822 (2)\ttotal: 62.2ms\tremaining: 1.49s\n",
            "4:\tlearn: 0.0112478\ttest: 0.0112002\tbest: 0.0111822 (2)\ttotal: 76.9ms\tremaining: 1.46s\n",
            "5:\tlearn: 0.0111142\ttest: 0.0112151\tbest: 0.0111822 (2)\ttotal: 92.9ms\tremaining: 1.46s\n",
            "6:\tlearn: 0.0109860\ttest: 0.0112553\tbest: 0.0111822 (2)\ttotal: 108ms\tremaining: 1.43s\n",
            "7:\tlearn: 0.0108707\ttest: 0.0112654\tbest: 0.0111822 (2)\ttotal: 123ms\tremaining: 1.41s\n",
            "8:\tlearn: 0.0107733\ttest: 0.0112981\tbest: 0.0111822 (2)\ttotal: 138ms\tremaining: 1.4s\n",
            "9:\tlearn: 0.0106838\ttest: 0.0113192\tbest: 0.0111822 (2)\ttotal: 154ms\tremaining: 1.38s\n",
            "10:\tlearn: 0.0106110\ttest: 0.0113258\tbest: 0.0111822 (2)\ttotal: 169ms\tremaining: 1.36s\n",
            "11:\tlearn: 0.0105434\ttest: 0.0113475\tbest: 0.0111822 (2)\ttotal: 184ms\tremaining: 1.35s\n",
            "12:\tlearn: 0.0104728\ttest: 0.0113538\tbest: 0.0111822 (2)\ttotal: 201ms\tremaining: 1.34s\n",
            "Stopped by overfitting detector  (10 iterations wait)\n",
            "\n",
            "bestTest = 0.01118222805\n",
            "bestIteration = 2\n",
            "\n",
            "Shrink model to first 3 iterations.\n"
          ]
        },
        {
          "name": "stderr",
          "output_type": "stream",
          "text": [
            "/usr/local/lib/python3.7/dist-packages/pypfopt/efficient_frontier/efficient_frontier.py:258: UserWarning: max_sharpe transforms the optimization problem so additional objectives may not work as expected.\n",
            "  \"max_sharpe transforms the optimization problem so additional objectives may not work as expected.\"\n"
          ]
        },
        {
          "name": "stdout",
          "output_type": "stream",
          "text": [
            "2021-08-30 00:00:00\n",
            "0:\tlearn: 0.0113200\ttest: 0.0116924\tbest: 0.0116924 (0)\ttotal: 16.1ms\tremaining: 1.59s\n",
            "1:\tlearn: 0.0111432\ttest: 0.0117749\tbest: 0.0116924 (0)\ttotal: 32ms\tremaining: 1.57s\n",
            "2:\tlearn: 0.0109762\ttest: 0.0118399\tbest: 0.0116924 (0)\ttotal: 47.4ms\tremaining: 1.53s\n",
            "3:\tlearn: 0.0108504\ttest: 0.0118715\tbest: 0.0116924 (0)\ttotal: 63.3ms\tremaining: 1.52s\n",
            "4:\tlearn: 0.0107032\ttest: 0.0118927\tbest: 0.0116924 (0)\ttotal: 79.1ms\tremaining: 1.5s\n",
            "5:\tlearn: 0.0105685\ttest: 0.0119531\tbest: 0.0116924 (0)\ttotal: 94.5ms\tremaining: 1.48s\n",
            "6:\tlearn: 0.0104741\ttest: 0.0119883\tbest: 0.0116924 (0)\ttotal: 110ms\tremaining: 1.46s\n",
            "7:\tlearn: 0.0103808\ttest: 0.0120087\tbest: 0.0116924 (0)\ttotal: 126ms\tremaining: 1.45s\n",
            "8:\tlearn: 0.0103044\ttest: 0.0120277\tbest: 0.0116924 (0)\ttotal: 142ms\tremaining: 1.44s\n",
            "9:\tlearn: 0.0102151\ttest: 0.0120500\tbest: 0.0116924 (0)\ttotal: 158ms\tremaining: 1.42s\n",
            "10:\tlearn: 0.0101331\ttest: 0.0120997\tbest: 0.0116924 (0)\ttotal: 173ms\tremaining: 1.4s\n",
            "Stopped by overfitting detector  (10 iterations wait)\n",
            "\n",
            "bestTest = 0.01169241053\n",
            "bestIteration = 0\n",
            "\n",
            "Shrink model to first 1 iterations.\n"
          ]
        },
        {
          "name": "stderr",
          "output_type": "stream",
          "text": [
            "/usr/local/lib/python3.7/dist-packages/pypfopt/efficient_frontier/efficient_frontier.py:258: UserWarning: max_sharpe transforms the optimization problem so additional objectives may not work as expected.\n",
            "  \"max_sharpe transforms the optimization problem so additional objectives may not work as expected.\"\n"
          ]
        },
        {
          "name": "stdout",
          "output_type": "stream",
          "text": [
            "2021-08-31 00:00:00\n",
            "0:\tlearn: 0.0107041\ttest: 0.0120509\tbest: 0.0120509 (0)\ttotal: 16.6ms\tremaining: 1.65s\n",
            "1:\tlearn: 0.0105449\ttest: 0.0121794\tbest: 0.0120509 (0)\ttotal: 32.9ms\tremaining: 1.61s\n",
            "2:\tlearn: 0.0103852\ttest: 0.0122783\tbest: 0.0120509 (0)\ttotal: 48.3ms\tremaining: 1.56s\n",
            "3:\tlearn: 0.0102708\ttest: 0.0123568\tbest: 0.0120509 (0)\ttotal: 66.2ms\tremaining: 1.59s\n",
            "4:\tlearn: 0.0101564\ttest: 0.0124480\tbest: 0.0120509 (0)\ttotal: 81.7ms\tremaining: 1.55s\n",
            "5:\tlearn: 0.0100705\ttest: 0.0125473\tbest: 0.0120509 (0)\ttotal: 97.1ms\tremaining: 1.52s\n",
            "6:\tlearn: 0.0099667\ttest: 0.0126303\tbest: 0.0120509 (0)\ttotal: 113ms\tremaining: 1.5s\n",
            "7:\tlearn: 0.0098982\ttest: 0.0127115\tbest: 0.0120509 (0)\ttotal: 130ms\tremaining: 1.49s\n",
            "8:\tlearn: 0.0098199\ttest: 0.0128105\tbest: 0.0120509 (0)\ttotal: 145ms\tremaining: 1.47s\n",
            "9:\tlearn: 0.0097313\ttest: 0.0128654\tbest: 0.0120509 (0)\ttotal: 161ms\tremaining: 1.45s\n",
            "10:\tlearn: 0.0096758\ttest: 0.0129475\tbest: 0.0120509 (0)\ttotal: 176ms\tremaining: 1.43s\n",
            "Stopped by overfitting detector  (10 iterations wait)\n",
            "\n",
            "bestTest = 0.0120509404\n",
            "bestIteration = 0\n",
            "\n",
            "Shrink model to first 1 iterations.\n"
          ]
        },
        {
          "name": "stderr",
          "output_type": "stream",
          "text": [
            "/usr/local/lib/python3.7/dist-packages/pypfopt/efficient_frontier/efficient_frontier.py:258: UserWarning: max_sharpe transforms the optimization problem so additional objectives may not work as expected.\n",
            "  \"max_sharpe transforms the optimization problem so additional objectives may not work as expected.\"\n"
          ]
        },
        {
          "name": "stdout",
          "output_type": "stream",
          "text": [
            "2021-09-01 00:00:00\n",
            "0:\tlearn: 0.0110861\ttest: 0.0115720\tbest: 0.0115720 (0)\ttotal: 15.7ms\tremaining: 1.56s\n",
            "1:\tlearn: 0.0108640\ttest: 0.0115898\tbest: 0.0115720 (0)\ttotal: 31.8ms\tremaining: 1.56s\n",
            "2:\tlearn: 0.0106654\ttest: 0.0116195\tbest: 0.0115720 (0)\ttotal: 47ms\tremaining: 1.52s\n",
            "3:\tlearn: 0.0104814\ttest: 0.0116559\tbest: 0.0115720 (0)\ttotal: 62.9ms\tremaining: 1.51s\n",
            "4:\tlearn: 0.0103373\ttest: 0.0116855\tbest: 0.0115720 (0)\ttotal: 78.3ms\tremaining: 1.49s\n",
            "5:\tlearn: 0.0102213\ttest: 0.0117122\tbest: 0.0115720 (0)\ttotal: 93.4ms\tremaining: 1.46s\n",
            "6:\tlearn: 0.0101145\ttest: 0.0117451\tbest: 0.0115720 (0)\ttotal: 109ms\tremaining: 1.45s\n",
            "7:\tlearn: 0.0100127\ttest: 0.0117993\tbest: 0.0115720 (0)\ttotal: 125ms\tremaining: 1.44s\n",
            "8:\tlearn: 0.0099416\ttest: 0.0118468\tbest: 0.0115720 (0)\ttotal: 142ms\tremaining: 1.43s\n",
            "9:\tlearn: 0.0098596\ttest: 0.0118851\tbest: 0.0115720 (0)\ttotal: 157ms\tremaining: 1.41s\n",
            "10:\tlearn: 0.0098045\ttest: 0.0118898\tbest: 0.0115720 (0)\ttotal: 172ms\tremaining: 1.39s\n",
            "Stopped by overfitting detector  (10 iterations wait)\n",
            "\n",
            "bestTest = 0.01157200372\n",
            "bestIteration = 0\n",
            "\n",
            "Shrink model to first 1 iterations.\n"
          ]
        },
        {
          "name": "stderr",
          "output_type": "stream",
          "text": [
            "/usr/local/lib/python3.7/dist-packages/pypfopt/efficient_frontier/efficient_frontier.py:258: UserWarning: max_sharpe transforms the optimization problem so additional objectives may not work as expected.\n",
            "  \"max_sharpe transforms the optimization problem so additional objectives may not work as expected.\"\n"
          ]
        },
        {
          "name": "stdout",
          "output_type": "stream",
          "text": [
            "2021-09-02 00:00:00\n",
            "0:\tlearn: 0.0116911\ttest: 0.0112933\tbest: 0.0112933 (0)\ttotal: 15.9ms\tremaining: 1.57s\n",
            "1:\tlearn: 0.0114801\ttest: 0.0113085\tbest: 0.0112933 (0)\ttotal: 32.3ms\tremaining: 1.58s\n",
            "2:\tlearn: 0.0112707\ttest: 0.0113220\tbest: 0.0112933 (0)\ttotal: 47.6ms\tremaining: 1.54s\n",
            "3:\tlearn: 0.0110996\ttest: 0.0113384\tbest: 0.0112933 (0)\ttotal: 63.4ms\tremaining: 1.52s\n",
            "4:\tlearn: 0.0109429\ttest: 0.0113821\tbest: 0.0112933 (0)\ttotal: 78.7ms\tremaining: 1.5s\n",
            "5:\tlearn: 0.0107950\ttest: 0.0114013\tbest: 0.0112933 (0)\ttotal: 94ms\tremaining: 1.47s\n",
            "6:\tlearn: 0.0106797\ttest: 0.0114289\tbest: 0.0112933 (0)\ttotal: 112ms\tremaining: 1.48s\n",
            "7:\tlearn: 0.0105742\ttest: 0.0114422\tbest: 0.0112933 (0)\ttotal: 128ms\tremaining: 1.47s\n",
            "8:\tlearn: 0.0104697\ttest: 0.0114738\tbest: 0.0112933 (0)\ttotal: 144ms\tremaining: 1.46s\n",
            "9:\tlearn: 0.0103825\ttest: 0.0114914\tbest: 0.0112933 (0)\ttotal: 160ms\tremaining: 1.44s\n",
            "10:\tlearn: 0.0103179\ttest: 0.0115232\tbest: 0.0112933 (0)\ttotal: 176ms\tremaining: 1.42s\n",
            "Stopped by overfitting detector  (10 iterations wait)\n",
            "\n",
            "bestTest = 0.01129325732\n",
            "bestIteration = 0\n",
            "\n",
            "Shrink model to first 1 iterations.\n"
          ]
        },
        {
          "name": "stderr",
          "output_type": "stream",
          "text": [
            "/usr/local/lib/python3.7/dist-packages/pypfopt/efficient_frontier/efficient_frontier.py:258: UserWarning: max_sharpe transforms the optimization problem so additional objectives may not work as expected.\n",
            "  \"max_sharpe transforms the optimization problem so additional objectives may not work as expected.\"\n"
          ]
        },
        {
          "name": "stdout",
          "output_type": "stream",
          "text": [
            "2021-09-03 00:00:00\n",
            "0:\tlearn: 0.0118493\ttest: 0.0115163\tbest: 0.0115163 (0)\ttotal: 16.1ms\tremaining: 1.59s\n",
            "1:\tlearn: 0.0116837\ttest: 0.0115483\tbest: 0.0115163 (0)\ttotal: 32ms\tremaining: 1.57s\n",
            "2:\tlearn: 0.0114944\ttest: 0.0115888\tbest: 0.0115163 (0)\ttotal: 47.2ms\tremaining: 1.52s\n",
            "3:\tlearn: 0.0113252\ttest: 0.0116249\tbest: 0.0115163 (0)\ttotal: 63ms\tremaining: 1.51s\n",
            "4:\tlearn: 0.0111698\ttest: 0.0116805\tbest: 0.0115163 (0)\ttotal: 78.3ms\tremaining: 1.49s\n",
            "5:\tlearn: 0.0110504\ttest: 0.0116968\tbest: 0.0115163 (0)\ttotal: 93.7ms\tremaining: 1.47s\n",
            "6:\tlearn: 0.0109325\ttest: 0.0116924\tbest: 0.0115163 (0)\ttotal: 110ms\tremaining: 1.46s\n",
            "7:\tlearn: 0.0108440\ttest: 0.0117064\tbest: 0.0115163 (0)\ttotal: 125ms\tremaining: 1.44s\n",
            "8:\tlearn: 0.0107494\ttest: 0.0117365\tbest: 0.0115163 (0)\ttotal: 141ms\tremaining: 1.43s\n",
            "9:\tlearn: 0.0106522\ttest: 0.0117669\tbest: 0.0115163 (0)\ttotal: 157ms\tremaining: 1.41s\n",
            "10:\tlearn: 0.0105837\ttest: 0.0117577\tbest: 0.0115163 (0)\ttotal: 172ms\tremaining: 1.39s\n",
            "Stopped by overfitting detector  (10 iterations wait)\n",
            "\n",
            "bestTest = 0.01151625134\n",
            "bestIteration = 0\n",
            "\n",
            "Shrink model to first 1 iterations.\n"
          ]
        },
        {
          "name": "stderr",
          "output_type": "stream",
          "text": [
            "/usr/local/lib/python3.7/dist-packages/pypfopt/efficient_frontier/efficient_frontier.py:258: UserWarning: max_sharpe transforms the optimization problem so additional objectives may not work as expected.\n",
            "  \"max_sharpe transforms the optimization problem so additional objectives may not work as expected.\"\n"
          ]
        },
        {
          "name": "stdout",
          "output_type": "stream",
          "text": [
            "2021-09-07 00:00:00\n",
            "0:\tlearn: 0.0111706\ttest: 0.0116582\tbest: 0.0116582 (0)\ttotal: 17.5ms\tremaining: 1.73s\n",
            "1:\tlearn: 0.0110615\ttest: 0.0116758\tbest: 0.0116582 (0)\ttotal: 33.9ms\tremaining: 1.66s\n",
            "2:\tlearn: 0.0109448\ttest: 0.0116815\tbest: 0.0116582 (0)\ttotal: 48.9ms\tremaining: 1.58s\n",
            "3:\tlearn: 0.0108440\ttest: 0.0116750\tbest: 0.0116582 (0)\ttotal: 65ms\tremaining: 1.56s\n",
            "4:\tlearn: 0.0107388\ttest: 0.0116896\tbest: 0.0116582 (0)\ttotal: 80ms\tremaining: 1.52s\n",
            "5:\tlearn: 0.0106507\ttest: 0.0117105\tbest: 0.0116582 (0)\ttotal: 95.5ms\tremaining: 1.5s\n",
            "6:\tlearn: 0.0105480\ttest: 0.0116889\tbest: 0.0116582 (0)\ttotal: 111ms\tremaining: 1.48s\n",
            "7:\tlearn: 0.0104842\ttest: 0.0116927\tbest: 0.0116582 (0)\ttotal: 128ms\tremaining: 1.47s\n",
            "8:\tlearn: 0.0104090\ttest: 0.0117054\tbest: 0.0116582 (0)\ttotal: 144ms\tremaining: 1.46s\n",
            "9:\tlearn: 0.0103418\ttest: 0.0117129\tbest: 0.0116582 (0)\ttotal: 159ms\tremaining: 1.43s\n",
            "10:\tlearn: 0.0102657\ttest: 0.0117292\tbest: 0.0116582 (0)\ttotal: 175ms\tremaining: 1.42s\n",
            "Stopped by overfitting detector  (10 iterations wait)\n",
            "\n",
            "bestTest = 0.01165822624\n",
            "bestIteration = 0\n",
            "\n",
            "Shrink model to first 1 iterations.\n"
          ]
        },
        {
          "name": "stderr",
          "output_type": "stream",
          "text": [
            "/usr/local/lib/python3.7/dist-packages/pypfopt/efficient_frontier/efficient_frontier.py:258: UserWarning: max_sharpe transforms the optimization problem so additional objectives may not work as expected.\n",
            "  \"max_sharpe transforms the optimization problem so additional objectives may not work as expected.\"\n"
          ]
        },
        {
          "name": "stdout",
          "output_type": "stream",
          "text": [
            "2021-09-08 00:00:00\n",
            "0:\tlearn: 0.0112977\ttest: 0.0115140\tbest: 0.0115140 (0)\ttotal: 16.2ms\tremaining: 1.6s\n",
            "1:\tlearn: 0.0110700\ttest: 0.0115738\tbest: 0.0115140 (0)\ttotal: 32.2ms\tremaining: 1.57s\n",
            "2:\tlearn: 0.0108645\ttest: 0.0116231\tbest: 0.0115140 (0)\ttotal: 47.3ms\tremaining: 1.53s\n",
            "3:\tlearn: 0.0106955\ttest: 0.0116763\tbest: 0.0115140 (0)\ttotal: 63.5ms\tremaining: 1.52s\n",
            "4:\tlearn: 0.0105356\ttest: 0.0117290\tbest: 0.0115140 (0)\ttotal: 79ms\tremaining: 1.5s\n",
            "5:\tlearn: 0.0104045\ttest: 0.0117699\tbest: 0.0115140 (0)\ttotal: 94.8ms\tremaining: 1.48s\n",
            "6:\tlearn: 0.0102709\ttest: 0.0118054\tbest: 0.0115140 (0)\ttotal: 110ms\tremaining: 1.47s\n",
            "7:\tlearn: 0.0101549\ttest: 0.0118611\tbest: 0.0115140 (0)\ttotal: 126ms\tremaining: 1.45s\n",
            "8:\tlearn: 0.0100438\ttest: 0.0119159\tbest: 0.0115140 (0)\ttotal: 141ms\tremaining: 1.43s\n",
            "9:\tlearn: 0.0099539\ttest: 0.0119465\tbest: 0.0115140 (0)\ttotal: 157ms\tremaining: 1.41s\n",
            "10:\tlearn: 0.0098692\ttest: 0.0119800\tbest: 0.0115140 (0)\ttotal: 173ms\tremaining: 1.4s\n",
            "Stopped by overfitting detector  (10 iterations wait)\n",
            "\n",
            "bestTest = 0.01151400081\n",
            "bestIteration = 0\n",
            "\n",
            "Shrink model to first 1 iterations.\n"
          ]
        },
        {
          "name": "stderr",
          "output_type": "stream",
          "text": [
            "/usr/local/lib/python3.7/dist-packages/pypfopt/efficient_frontier/efficient_frontier.py:258: UserWarning: max_sharpe transforms the optimization problem so additional objectives may not work as expected.\n",
            "  \"max_sharpe transforms the optimization problem so additional objectives may not work as expected.\"\n"
          ]
        },
        {
          "name": "stdout",
          "output_type": "stream",
          "text": [
            "2021-09-09 00:00:00\n",
            "0:\tlearn: 0.0105931\ttest: 0.0118923\tbest: 0.0118923 (0)\ttotal: 18.3ms\tremaining: 1.82s\n",
            "1:\tlearn: 0.0104788\ttest: 0.0118921\tbest: 0.0118921 (1)\ttotal: 34.6ms\tremaining: 1.7s\n",
            "2:\tlearn: 0.0103584\ttest: 0.0119066\tbest: 0.0118921 (1)\ttotal: 49.8ms\tremaining: 1.61s\n",
            "3:\tlearn: 0.0102416\ttest: 0.0119124\tbest: 0.0118921 (1)\ttotal: 65.7ms\tremaining: 1.58s\n",
            "4:\tlearn: 0.0101106\ttest: 0.0119176\tbest: 0.0118921 (1)\ttotal: 80.9ms\tremaining: 1.54s\n",
            "5:\tlearn: 0.0100057\ttest: 0.0119566\tbest: 0.0118921 (1)\ttotal: 96.1ms\tremaining: 1.5s\n",
            "6:\tlearn: 0.0099012\ttest: 0.0119699\tbest: 0.0118921 (1)\ttotal: 112ms\tremaining: 1.48s\n",
            "7:\tlearn: 0.0098295\ttest: 0.0119865\tbest: 0.0118921 (1)\ttotal: 126ms\tremaining: 1.45s\n",
            "8:\tlearn: 0.0097607\ttest: 0.0120099\tbest: 0.0118921 (1)\ttotal: 142ms\tremaining: 1.44s\n",
            "9:\tlearn: 0.0096858\ttest: 0.0120210\tbest: 0.0118921 (1)\ttotal: 157ms\tremaining: 1.42s\n",
            "10:\tlearn: 0.0095958\ttest: 0.0120363\tbest: 0.0118921 (1)\ttotal: 173ms\tremaining: 1.4s\n",
            "11:\tlearn: 0.0095272\ttest: 0.0120299\tbest: 0.0118921 (1)\ttotal: 189ms\tremaining: 1.38s\n",
            "Stopped by overfitting detector  (10 iterations wait)\n",
            "\n",
            "bestTest = 0.01189213366\n",
            "bestIteration = 1\n",
            "\n",
            "Shrink model to first 2 iterations.\n"
          ]
        },
        {
          "name": "stderr",
          "output_type": "stream",
          "text": [
            "/usr/local/lib/python3.7/dist-packages/pypfopt/efficient_frontier/efficient_frontier.py:258: UserWarning: max_sharpe transforms the optimization problem so additional objectives may not work as expected.\n",
            "  \"max_sharpe transforms the optimization problem so additional objectives may not work as expected.\"\n"
          ]
        },
        {
          "name": "stdout",
          "output_type": "stream",
          "text": [
            "2021-09-10 00:00:00\n",
            "0:\tlearn: 0.0115959\ttest: 0.0114393\tbest: 0.0114393 (0)\ttotal: 16.3ms\tremaining: 1.61s\n",
            "1:\tlearn: 0.0113781\ttest: 0.0114660\tbest: 0.0114393 (0)\ttotal: 33.1ms\tremaining: 1.62s\n",
            "2:\tlearn: 0.0111782\ttest: 0.0115272\tbest: 0.0114393 (0)\ttotal: 48.1ms\tremaining: 1.56s\n",
            "3:\tlearn: 0.0110065\ttest: 0.0115722\tbest: 0.0114393 (0)\ttotal: 64.1ms\tremaining: 1.54s\n",
            "4:\tlearn: 0.0108077\ttest: 0.0116193\tbest: 0.0114393 (0)\ttotal: 79.3ms\tremaining: 1.51s\n",
            "5:\tlearn: 0.0106902\ttest: 0.0116874\tbest: 0.0114393 (0)\ttotal: 94.9ms\tremaining: 1.49s\n",
            "6:\tlearn: 0.0105741\ttest: 0.0117355\tbest: 0.0114393 (0)\ttotal: 110ms\tremaining: 1.47s\n",
            "7:\tlearn: 0.0104391\ttest: 0.0117701\tbest: 0.0114393 (0)\ttotal: 126ms\tremaining: 1.45s\n",
            "8:\tlearn: 0.0103558\ttest: 0.0118113\tbest: 0.0114393 (0)\ttotal: 142ms\tremaining: 1.44s\n",
            "9:\tlearn: 0.0102707\ttest: 0.0118752\tbest: 0.0114393 (0)\ttotal: 158ms\tremaining: 1.42s\n",
            "10:\tlearn: 0.0101735\ttest: 0.0119235\tbest: 0.0114393 (0)\ttotal: 173ms\tremaining: 1.4s\n",
            "Stopped by overfitting detector  (10 iterations wait)\n",
            "\n",
            "bestTest = 0.0114393172\n",
            "bestIteration = 0\n",
            "\n",
            "Shrink model to first 1 iterations.\n"
          ]
        },
        {
          "name": "stderr",
          "output_type": "stream",
          "text": [
            "/usr/local/lib/python3.7/dist-packages/pypfopt/efficient_frontier/efficient_frontier.py:258: UserWarning: max_sharpe transforms the optimization problem so additional objectives may not work as expected.\n",
            "  \"max_sharpe transforms the optimization problem so additional objectives may not work as expected.\"\n"
          ]
        },
        {
          "name": "stdout",
          "output_type": "stream",
          "text": [
            "2021-09-13 00:00:00\n",
            "0:\tlearn: 0.0108831\ttest: 0.0116742\tbest: 0.0116742 (0)\ttotal: 15.9ms\tremaining: 1.58s\n",
            "1:\tlearn: 0.0107215\ttest: 0.0116583\tbest: 0.0116583 (1)\ttotal: 32ms\tremaining: 1.57s\n",
            "2:\tlearn: 0.0105476\ttest: 0.0116751\tbest: 0.0116583 (1)\ttotal: 46.9ms\tremaining: 1.51s\n",
            "3:\tlearn: 0.0103927\ttest: 0.0116912\tbest: 0.0116583 (1)\ttotal: 63.1ms\tremaining: 1.51s\n",
            "4:\tlearn: 0.0102552\ttest: 0.0117198\tbest: 0.0116583 (1)\ttotal: 78.5ms\tremaining: 1.49s\n",
            "5:\tlearn: 0.0101212\ttest: 0.0117463\tbest: 0.0116583 (1)\ttotal: 93.6ms\tremaining: 1.47s\n",
            "6:\tlearn: 0.0100192\ttest: 0.0117756\tbest: 0.0116583 (1)\ttotal: 109ms\tremaining: 1.45s\n",
            "7:\tlearn: 0.0099334\ttest: 0.0117897\tbest: 0.0116583 (1)\ttotal: 124ms\tremaining: 1.42s\n",
            "8:\tlearn: 0.0098641\ttest: 0.0118066\tbest: 0.0116583 (1)\ttotal: 140ms\tremaining: 1.41s\n",
            "9:\tlearn: 0.0097874\ttest: 0.0118303\tbest: 0.0116583 (1)\ttotal: 155ms\tremaining: 1.39s\n",
            "10:\tlearn: 0.0097189\ttest: 0.0118587\tbest: 0.0116583 (1)\ttotal: 170ms\tremaining: 1.38s\n",
            "11:\tlearn: 0.0096610\ttest: 0.0118697\tbest: 0.0116583 (1)\ttotal: 190ms\tremaining: 1.39s\n",
            "Stopped by overfitting detector  (10 iterations wait)\n",
            "\n",
            "bestTest = 0.0116582524\n",
            "bestIteration = 1\n",
            "\n",
            "Shrink model to first 2 iterations.\n"
          ]
        },
        {
          "name": "stderr",
          "output_type": "stream",
          "text": [
            "/usr/local/lib/python3.7/dist-packages/pypfopt/efficient_frontier/efficient_frontier.py:258: UserWarning: max_sharpe transforms the optimization problem so additional objectives may not work as expected.\n",
            "  \"max_sharpe transforms the optimization problem so additional objectives may not work as expected.\"\n"
          ]
        },
        {
          "name": "stdout",
          "output_type": "stream",
          "text": [
            "2021-09-14 00:00:00\n",
            "0:\tlearn: 0.0103736\ttest: 0.0119115\tbest: 0.0119115 (0)\ttotal: 19.2ms\tremaining: 1.9s\n",
            "1:\tlearn: 0.0102732\ttest: 0.0118990\tbest: 0.0118990 (1)\ttotal: 35.6ms\tremaining: 1.74s\n",
            "2:\tlearn: 0.0101767\ttest: 0.0118844\tbest: 0.0118844 (2)\ttotal: 51.1ms\tremaining: 1.65s\n",
            "3:\tlearn: 0.0101074\ttest: 0.0118873\tbest: 0.0118844 (2)\ttotal: 66.9ms\tremaining: 1.6s\n",
            "4:\tlearn: 0.0100187\ttest: 0.0118891\tbest: 0.0118844 (2)\ttotal: 82.6ms\tremaining: 1.57s\n",
            "5:\tlearn: 0.0099460\ttest: 0.0119039\tbest: 0.0118844 (2)\ttotal: 98ms\tremaining: 1.53s\n",
            "6:\tlearn: 0.0098694\ttest: 0.0119120\tbest: 0.0118844 (2)\ttotal: 114ms\tremaining: 1.51s\n",
            "7:\tlearn: 0.0098031\ttest: 0.0119222\tbest: 0.0118844 (2)\ttotal: 132ms\tremaining: 1.51s\n",
            "8:\tlearn: 0.0097405\ttest: 0.0119457\tbest: 0.0118844 (2)\ttotal: 148ms\tremaining: 1.49s\n",
            "9:\tlearn: 0.0096890\ttest: 0.0119546\tbest: 0.0118844 (2)\ttotal: 164ms\tremaining: 1.48s\n",
            "10:\tlearn: 0.0096391\ttest: 0.0119503\tbest: 0.0118844 (2)\ttotal: 184ms\tremaining: 1.49s\n",
            "11:\tlearn: 0.0095868\ttest: 0.0119703\tbest: 0.0118844 (2)\ttotal: 199ms\tremaining: 1.46s\n",
            "12:\tlearn: 0.0095563\ttest: 0.0119715\tbest: 0.0118844 (2)\ttotal: 215ms\tremaining: 1.44s\n",
            "Stopped by overfitting detector  (10 iterations wait)\n",
            "\n",
            "bestTest = 0.01188442569\n",
            "bestIteration = 2\n",
            "\n",
            "Shrink model to first 3 iterations.\n"
          ]
        },
        {
          "name": "stderr",
          "output_type": "stream",
          "text": [
            "/usr/local/lib/python3.7/dist-packages/pypfopt/efficient_frontier/efficient_frontier.py:258: UserWarning: max_sharpe transforms the optimization problem so additional objectives may not work as expected.\n",
            "  \"max_sharpe transforms the optimization problem so additional objectives may not work as expected.\"\n"
          ]
        },
        {
          "name": "stdout",
          "output_type": "stream",
          "text": [
            "2021-09-15 00:00:00\n",
            "0:\tlearn: 0.0120333\ttest: 0.0111530\tbest: 0.0111530 (0)\ttotal: 16ms\tremaining: 1.59s\n",
            "1:\tlearn: 0.0118361\ttest: 0.0111569\tbest: 0.0111530 (0)\ttotal: 32.2ms\tremaining: 1.58s\n",
            "2:\tlearn: 0.0116481\ttest: 0.0111812\tbest: 0.0111530 (0)\ttotal: 47.5ms\tremaining: 1.53s\n",
            "3:\tlearn: 0.0114984\ttest: 0.0111905\tbest: 0.0111530 (0)\ttotal: 63.6ms\tremaining: 1.52s\n",
            "4:\tlearn: 0.0113501\ttest: 0.0111971\tbest: 0.0111530 (0)\ttotal: 78.5ms\tremaining: 1.49s\n",
            "5:\tlearn: 0.0112138\ttest: 0.0112041\tbest: 0.0111530 (0)\ttotal: 94.5ms\tremaining: 1.48s\n",
            "6:\tlearn: 0.0111039\ttest: 0.0112121\tbest: 0.0111530 (0)\ttotal: 110ms\tremaining: 1.46s\n",
            "7:\tlearn: 0.0109985\ttest: 0.0112340\tbest: 0.0111530 (0)\ttotal: 125ms\tremaining: 1.44s\n",
            "8:\tlearn: 0.0108685\ttest: 0.0112138\tbest: 0.0111530 (0)\ttotal: 140ms\tremaining: 1.42s\n",
            "9:\tlearn: 0.0107885\ttest: 0.0112179\tbest: 0.0111530 (0)\ttotal: 156ms\tremaining: 1.4s\n",
            "10:\tlearn: 0.0106965\ttest: 0.0112302\tbest: 0.0111530 (0)\ttotal: 171ms\tremaining: 1.38s\n",
            "Stopped by overfitting detector  (10 iterations wait)\n",
            "\n",
            "bestTest = 0.01115300222\n",
            "bestIteration = 0\n",
            "\n",
            "Shrink model to first 1 iterations.\n"
          ]
        },
        {
          "name": "stderr",
          "output_type": "stream",
          "text": [
            "/usr/local/lib/python3.7/dist-packages/pypfopt/efficient_frontier/efficient_frontier.py:258: UserWarning: max_sharpe transforms the optimization problem so additional objectives may not work as expected.\n",
            "  \"max_sharpe transforms the optimization problem so additional objectives may not work as expected.\"\n"
          ]
        },
        {
          "name": "stdout",
          "output_type": "stream",
          "text": [
            "2021-09-16 00:00:00\n",
            "0:\tlearn: 0.0112565\ttest: 0.0114471\tbest: 0.0114471 (0)\ttotal: 15.6ms\tremaining: 1.54s\n",
            "1:\tlearn: 0.0110871\ttest: 0.0114267\tbest: 0.0114267 (1)\ttotal: 32.1ms\tremaining: 1.57s\n",
            "2:\tlearn: 0.0109179\ttest: 0.0114130\tbest: 0.0114130 (2)\ttotal: 47.5ms\tremaining: 1.54s\n",
            "3:\tlearn: 0.0107832\ttest: 0.0113961\tbest: 0.0113961 (3)\ttotal: 63.1ms\tremaining: 1.51s\n",
            "4:\tlearn: 0.0106597\ttest: 0.0113808\tbest: 0.0113808 (4)\ttotal: 78.4ms\tremaining: 1.49s\n",
            "5:\tlearn: 0.0105432\ttest: 0.0113906\tbest: 0.0113808 (4)\ttotal: 93.5ms\tremaining: 1.47s\n",
            "6:\tlearn: 0.0104224\ttest: 0.0113854\tbest: 0.0113808 (4)\ttotal: 109ms\tremaining: 1.44s\n",
            "7:\tlearn: 0.0103444\ttest: 0.0113818\tbest: 0.0113808 (4)\ttotal: 124ms\tremaining: 1.43s\n",
            "8:\tlearn: 0.0102768\ttest: 0.0113816\tbest: 0.0113808 (4)\ttotal: 139ms\tremaining: 1.41s\n",
            "9:\tlearn: 0.0102065\ttest: 0.0113858\tbest: 0.0113808 (4)\ttotal: 160ms\tremaining: 1.44s\n",
            "10:\tlearn: 0.0101474\ttest: 0.0113902\tbest: 0.0113808 (4)\ttotal: 181ms\tremaining: 1.46s\n",
            "11:\tlearn: 0.0100836\ttest: 0.0113929\tbest: 0.0113808 (4)\ttotal: 197ms\tremaining: 1.45s\n",
            "12:\tlearn: 0.0100252\ttest: 0.0114035\tbest: 0.0113808 (4)\ttotal: 217ms\tremaining: 1.45s\n",
            "13:\tlearn: 0.0099514\ttest: 0.0113855\tbest: 0.0113808 (4)\ttotal: 241ms\tremaining: 1.48s\n",
            "14:\tlearn: 0.0098982\ttest: 0.0113859\tbest: 0.0113808 (4)\ttotal: 257ms\tremaining: 1.46s\n",
            "Stopped by overfitting detector  (10 iterations wait)\n",
            "\n",
            "bestTest = 0.01138083341\n",
            "bestIteration = 4\n",
            "\n",
            "Shrink model to first 5 iterations.\n"
          ]
        },
        {
          "name": "stderr",
          "output_type": "stream",
          "text": [
            "/usr/local/lib/python3.7/dist-packages/pypfopt/efficient_frontier/efficient_frontier.py:258: UserWarning: max_sharpe transforms the optimization problem so additional objectives may not work as expected.\n",
            "  \"max_sharpe transforms the optimization problem so additional objectives may not work as expected.\"\n"
          ]
        },
        {
          "name": "stdout",
          "output_type": "stream",
          "text": [
            "2021-09-17 00:00:00\n",
            "0:\tlearn: 0.0111744\ttest: 0.0115120\tbest: 0.0115120 (0)\ttotal: 20.2ms\tremaining: 2s\n",
            "1:\tlearn: 0.0109857\ttest: 0.0115046\tbest: 0.0115046 (1)\ttotal: 36.9ms\tremaining: 1.81s\n",
            "2:\tlearn: 0.0108177\ttest: 0.0114967\tbest: 0.0114967 (2)\ttotal: 51.9ms\tremaining: 1.68s\n",
            "3:\tlearn: 0.0106659\ttest: 0.0114960\tbest: 0.0114960 (3)\ttotal: 68.1ms\tremaining: 1.63s\n",
            "4:\tlearn: 0.0105290\ttest: 0.0114940\tbest: 0.0114940 (4)\ttotal: 83ms\tremaining: 1.58s\n",
            "5:\tlearn: 0.0104035\ttest: 0.0114981\tbest: 0.0114940 (4)\ttotal: 98.4ms\tremaining: 1.54s\n",
            "6:\tlearn: 0.0102860\ttest: 0.0114989\tbest: 0.0114940 (4)\ttotal: 114ms\tremaining: 1.52s\n",
            "7:\tlearn: 0.0101872\ttest: 0.0115082\tbest: 0.0114940 (4)\ttotal: 130ms\tremaining: 1.49s\n",
            "8:\tlearn: 0.0100975\ttest: 0.0115153\tbest: 0.0114940 (4)\ttotal: 145ms\tremaining: 1.46s\n",
            "9:\tlearn: 0.0100153\ttest: 0.0115278\tbest: 0.0114940 (4)\ttotal: 160ms\tremaining: 1.44s\n",
            "10:\tlearn: 0.0099349\ttest: 0.0115366\tbest: 0.0114940 (4)\ttotal: 175ms\tremaining: 1.42s\n",
            "11:\tlearn: 0.0098595\ttest: 0.0115513\tbest: 0.0114940 (4)\ttotal: 190ms\tremaining: 1.4s\n",
            "12:\tlearn: 0.0098028\ttest: 0.0115547\tbest: 0.0114940 (4)\ttotal: 209ms\tremaining: 1.4s\n",
            "13:\tlearn: 0.0097242\ttest: 0.0115747\tbest: 0.0114940 (4)\ttotal: 229ms\tremaining: 1.4s\n",
            "14:\tlearn: 0.0096650\ttest: 0.0115910\tbest: 0.0114940 (4)\ttotal: 245ms\tremaining: 1.39s\n",
            "Stopped by overfitting detector  (10 iterations wait)\n",
            "\n",
            "bestTest = 0.01149404132\n",
            "bestIteration = 4\n",
            "\n",
            "Shrink model to first 5 iterations.\n"
          ]
        },
        {
          "name": "stderr",
          "output_type": "stream",
          "text": [
            "/usr/local/lib/python3.7/dist-packages/pypfopt/efficient_frontier/efficient_frontier.py:258: UserWarning: max_sharpe transforms the optimization problem so additional objectives may not work as expected.\n",
            "  \"max_sharpe transforms the optimization problem so additional objectives may not work as expected.\"\n"
          ]
        },
        {
          "name": "stdout",
          "output_type": "stream",
          "text": [
            "2021-09-20 00:00:00\n",
            "0:\tlearn: 0.0105200\ttest: 0.0118132\tbest: 0.0118132 (0)\ttotal: 16.3ms\tremaining: 1.62s\n",
            "1:\tlearn: 0.0103789\ttest: 0.0118088\tbest: 0.0118088 (1)\ttotal: 32.7ms\tremaining: 1.6s\n",
            "2:\tlearn: 0.0102789\ttest: 0.0118280\tbest: 0.0118088 (1)\ttotal: 48.1ms\tremaining: 1.55s\n",
            "3:\tlearn: 0.0101851\ttest: 0.0118372\tbest: 0.0118088 (1)\ttotal: 63.8ms\tremaining: 1.53s\n",
            "4:\tlearn: 0.0100900\ttest: 0.0118705\tbest: 0.0118088 (1)\ttotal: 78.9ms\tremaining: 1.5s\n",
            "5:\tlearn: 0.0100030\ttest: 0.0119050\tbest: 0.0118088 (1)\ttotal: 94.6ms\tremaining: 1.48s\n",
            "6:\tlearn: 0.0099200\ttest: 0.0119155\tbest: 0.0118088 (1)\ttotal: 110ms\tremaining: 1.46s\n",
            "7:\tlearn: 0.0098593\ttest: 0.0119115\tbest: 0.0118088 (1)\ttotal: 126ms\tremaining: 1.44s\n",
            "8:\tlearn: 0.0097885\ttest: 0.0119314\tbest: 0.0118088 (1)\ttotal: 141ms\tremaining: 1.43s\n",
            "9:\tlearn: 0.0097190\ttest: 0.0119591\tbest: 0.0118088 (1)\ttotal: 157ms\tremaining: 1.41s\n",
            "10:\tlearn: 0.0096653\ttest: 0.0119783\tbest: 0.0118088 (1)\ttotal: 172ms\tremaining: 1.39s\n",
            "11:\tlearn: 0.0096207\ttest: 0.0119858\tbest: 0.0118088 (1)\ttotal: 187ms\tremaining: 1.37s\n",
            "Stopped by overfitting detector  (10 iterations wait)\n",
            "\n",
            "bestTest = 0.01180884841\n",
            "bestIteration = 1\n",
            "\n",
            "Shrink model to first 2 iterations.\n"
          ]
        },
        {
          "name": "stderr",
          "output_type": "stream",
          "text": [
            "/usr/local/lib/python3.7/dist-packages/pypfopt/efficient_frontier/efficient_frontier.py:258: UserWarning: max_sharpe transforms the optimization problem so additional objectives may not work as expected.\n",
            "  \"max_sharpe transforms the optimization problem so additional objectives may not work as expected.\"\n"
          ]
        },
        {
          "name": "stdout",
          "output_type": "stream",
          "text": [
            "2021-09-21 00:00:00\n",
            "0:\tlearn: 0.0104989\ttest: 0.0119501\tbest: 0.0119501 (0)\ttotal: 15.8ms\tremaining: 1.56s\n",
            "1:\tlearn: 0.0103518\ttest: 0.0120106\tbest: 0.0119501 (0)\ttotal: 32.2ms\tremaining: 1.58s\n",
            "2:\tlearn: 0.0102133\ttest: 0.0120626\tbest: 0.0119501 (0)\ttotal: 47.3ms\tremaining: 1.53s\n",
            "3:\tlearn: 0.0101061\ttest: 0.0121183\tbest: 0.0119501 (0)\ttotal: 63.1ms\tremaining: 1.51s\n",
            "4:\tlearn: 0.0100014\ttest: 0.0121676\tbest: 0.0119501 (0)\ttotal: 78.6ms\tremaining: 1.49s\n",
            "5:\tlearn: 0.0098964\ttest: 0.0122335\tbest: 0.0119501 (0)\ttotal: 93.9ms\tremaining: 1.47s\n",
            "6:\tlearn: 0.0098138\ttest: 0.0122761\tbest: 0.0119501 (0)\ttotal: 110ms\tremaining: 1.46s\n",
            "7:\tlearn: 0.0097322\ttest: 0.0123134\tbest: 0.0119501 (0)\ttotal: 125ms\tremaining: 1.44s\n",
            "8:\tlearn: 0.0096478\ttest: 0.0123648\tbest: 0.0119501 (0)\ttotal: 141ms\tremaining: 1.43s\n",
            "9:\tlearn: 0.0095799\ttest: 0.0124117\tbest: 0.0119501 (0)\ttotal: 159ms\tremaining: 1.43s\n",
            "10:\tlearn: 0.0095323\ttest: 0.0124489\tbest: 0.0119501 (0)\ttotal: 174ms\tremaining: 1.41s\n",
            "Stopped by overfitting detector  (10 iterations wait)\n",
            "\n",
            "bestTest = 0.01195006477\n",
            "bestIteration = 0\n",
            "\n",
            "Shrink model to first 1 iterations.\n"
          ]
        },
        {
          "name": "stderr",
          "output_type": "stream",
          "text": [
            "/usr/local/lib/python3.7/dist-packages/pypfopt/efficient_frontier/efficient_frontier.py:258: UserWarning: max_sharpe transforms the optimization problem so additional objectives may not work as expected.\n",
            "  \"max_sharpe transforms the optimization problem so additional objectives may not work as expected.\"\n",
            "/usr/local/lib/python3.7/dist-packages/cvxpy/problems/problem.py:1334: UserWarning: Solution may be inaccurate. Try another solver, adjusting the solver settings, or solve with verbose=True for more information.\n",
            "  \"Solution may be inaccurate. Try another solver, \"\n"
          ]
        },
        {
          "name": "stdout",
          "output_type": "stream",
          "text": [
            "2021-09-22 00:00:00\n",
            "0:\tlearn: 0.0111583\ttest: 0.0114857\tbest: 0.0114857 (0)\ttotal: 16.3ms\tremaining: 1.62s\n",
            "1:\tlearn: 0.0109644\ttest: 0.0115128\tbest: 0.0114857 (0)\ttotal: 25.2ms\tremaining: 1.24s\n",
            "2:\tlearn: 0.0107639\ttest: 0.0115350\tbest: 0.0114857 (0)\ttotal: 40.4ms\tremaining: 1.31s\n",
            "3:\tlearn: 0.0105902\ttest: 0.0115710\tbest: 0.0114857 (0)\ttotal: 56.4ms\tremaining: 1.35s\n",
            "4:\tlearn: 0.0104678\ttest: 0.0115893\tbest: 0.0114857 (0)\ttotal: 71.8ms\tremaining: 1.36s\n",
            "5:\tlearn: 0.0103355\ttest: 0.0116248\tbest: 0.0114857 (0)\ttotal: 88ms\tremaining: 1.38s\n",
            "6:\tlearn: 0.0102180\ttest: 0.0116428\tbest: 0.0114857 (0)\ttotal: 103ms\tremaining: 1.37s\n",
            "7:\tlearn: 0.0100905\ttest: 0.0116735\tbest: 0.0114857 (0)\ttotal: 119ms\tremaining: 1.36s\n",
            "8:\tlearn: 0.0099884\ttest: 0.0116962\tbest: 0.0114857 (0)\ttotal: 135ms\tremaining: 1.36s\n",
            "9:\tlearn: 0.0098847\ttest: 0.0117247\tbest: 0.0114857 (0)\ttotal: 150ms\tremaining: 1.35s\n",
            "10:\tlearn: 0.0097991\ttest: 0.0117373\tbest: 0.0114857 (0)\ttotal: 166ms\tremaining: 1.34s\n",
            "Stopped by overfitting detector  (10 iterations wait)\n",
            "\n",
            "bestTest = 0.01148571805\n",
            "bestIteration = 0\n",
            "\n",
            "Shrink model to first 1 iterations.\n"
          ]
        },
        {
          "name": "stderr",
          "output_type": "stream",
          "text": [
            "/usr/local/lib/python3.7/dist-packages/pypfopt/efficient_frontier/efficient_frontier.py:258: UserWarning: max_sharpe transforms the optimization problem so additional objectives may not work as expected.\n",
            "  \"max_sharpe transforms the optimization problem so additional objectives may not work as expected.\"\n",
            "/usr/local/lib/python3.7/dist-packages/cvxpy/problems/problem.py:1334: UserWarning: Solution may be inaccurate. Try another solver, adjusting the solver settings, or solve with verbose=True for more information.\n",
            "  \"Solution may be inaccurate. Try another solver, \"\n"
          ]
        },
        {
          "name": "stdout",
          "output_type": "stream",
          "text": [
            "2021-09-23 00:00:00\n",
            "0:\tlearn: 0.0121201\ttest: 0.0110571\tbest: 0.0110571 (0)\ttotal: 16.1ms\tremaining: 1.59s\n",
            "1:\tlearn: 0.0118472\ttest: 0.0110842\tbest: 0.0110571 (0)\ttotal: 32.9ms\tremaining: 1.61s\n",
            "2:\tlearn: 0.0116316\ttest: 0.0111001\tbest: 0.0110571 (0)\ttotal: 48.3ms\tremaining: 1.56s\n",
            "3:\tlearn: 0.0114347\ttest: 0.0111299\tbest: 0.0110571 (0)\ttotal: 64.4ms\tremaining: 1.55s\n",
            "4:\tlearn: 0.0112667\ttest: 0.0111597\tbest: 0.0110571 (0)\ttotal: 79.9ms\tremaining: 1.52s\n",
            "5:\tlearn: 0.0111316\ttest: 0.0111626\tbest: 0.0110571 (0)\ttotal: 95.3ms\tremaining: 1.49s\n",
            "6:\tlearn: 0.0109948\ttest: 0.0111742\tbest: 0.0110571 (0)\ttotal: 111ms\tremaining: 1.47s\n",
            "7:\tlearn: 0.0108724\ttest: 0.0111845\tbest: 0.0110571 (0)\ttotal: 126ms\tremaining: 1.45s\n",
            "8:\tlearn: 0.0107668\ttest: 0.0111934\tbest: 0.0110571 (0)\ttotal: 142ms\tremaining: 1.44s\n",
            "9:\tlearn: 0.0106702\ttest: 0.0112037\tbest: 0.0110571 (0)\ttotal: 157ms\tremaining: 1.41s\n",
            "10:\tlearn: 0.0105499\ttest: 0.0112147\tbest: 0.0110571 (0)\ttotal: 175ms\tremaining: 1.41s\n",
            "Stopped by overfitting detector  (10 iterations wait)\n",
            "\n",
            "bestTest = 0.01105712605\n",
            "bestIteration = 0\n",
            "\n",
            "Shrink model to first 1 iterations.\n"
          ]
        },
        {
          "name": "stderr",
          "output_type": "stream",
          "text": [
            "/usr/local/lib/python3.7/dist-packages/pypfopt/efficient_frontier/efficient_frontier.py:258: UserWarning: max_sharpe transforms the optimization problem so additional objectives may not work as expected.\n",
            "  \"max_sharpe transforms the optimization problem so additional objectives may not work as expected.\"\n"
          ]
        },
        {
          "name": "stdout",
          "output_type": "stream",
          "text": [
            "2021-09-24 00:00:00\n",
            "0:\tlearn: 0.0112685\ttest: 0.0115410\tbest: 0.0115410 (0)\ttotal: 17.1ms\tremaining: 1.69s\n",
            "1:\tlearn: 0.0111640\ttest: 0.0115584\tbest: 0.0115410 (0)\ttotal: 34.5ms\tremaining: 1.69s\n",
            "2:\tlearn: 0.0110302\ttest: 0.0115981\tbest: 0.0115410 (0)\ttotal: 50.3ms\tremaining: 1.63s\n",
            "3:\tlearn: 0.0109269\ttest: 0.0116389\tbest: 0.0115410 (0)\ttotal: 66.8ms\tremaining: 1.6s\n",
            "4:\tlearn: 0.0108245\ttest: 0.0116844\tbest: 0.0115410 (0)\ttotal: 82.2ms\tremaining: 1.56s\n",
            "5:\tlearn: 0.0107523\ttest: 0.0117086\tbest: 0.0115410 (0)\ttotal: 98ms\tremaining: 1.53s\n",
            "6:\tlearn: 0.0106669\ttest: 0.0117525\tbest: 0.0115410 (0)\ttotal: 113ms\tremaining: 1.51s\n",
            "7:\tlearn: 0.0106104\ttest: 0.0117641\tbest: 0.0115410 (0)\ttotal: 129ms\tremaining: 1.48s\n",
            "8:\tlearn: 0.0105457\ttest: 0.0117863\tbest: 0.0115410 (0)\ttotal: 145ms\tremaining: 1.46s\n",
            "9:\tlearn: 0.0104852\ttest: 0.0117860\tbest: 0.0115410 (0)\ttotal: 161ms\tremaining: 1.45s\n",
            "10:\tlearn: 0.0104033\ttest: 0.0117801\tbest: 0.0115410 (0)\ttotal: 176ms\tremaining: 1.42s\n",
            "Stopped by overfitting detector  (10 iterations wait)\n",
            "\n",
            "bestTest = 0.01154102335\n",
            "bestIteration = 0\n",
            "\n",
            "Shrink model to first 1 iterations.\n"
          ]
        },
        {
          "name": "stderr",
          "output_type": "stream",
          "text": [
            "/usr/local/lib/python3.7/dist-packages/pypfopt/efficient_frontier/efficient_frontier.py:258: UserWarning: max_sharpe transforms the optimization problem so additional objectives may not work as expected.\n",
            "  \"max_sharpe transforms the optimization problem so additional objectives may not work as expected.\"\n"
          ]
        },
        {
          "name": "stdout",
          "output_type": "stream",
          "text": [
            "2021-09-27 00:00:00\n",
            "0:\tlearn: 0.0111583\ttest: 0.0115448\tbest: 0.0115448 (0)\ttotal: 16.2ms\tremaining: 1.6s\n",
            "1:\tlearn: 0.0109628\ttest: 0.0115955\tbest: 0.0115448 (0)\ttotal: 33.7ms\tremaining: 1.65s\n",
            "2:\tlearn: 0.0107771\ttest: 0.0116518\tbest: 0.0115448 (0)\ttotal: 49.6ms\tremaining: 1.6s\n",
            "3:\tlearn: 0.0106465\ttest: 0.0117096\tbest: 0.0115448 (0)\ttotal: 67ms\tremaining: 1.61s\n",
            "4:\tlearn: 0.0105006\ttest: 0.0117492\tbest: 0.0115448 (0)\ttotal: 82.3ms\tremaining: 1.56s\n",
            "5:\tlearn: 0.0103500\ttest: 0.0117677\tbest: 0.0115448 (0)\ttotal: 98.7ms\tremaining: 1.54s\n",
            "6:\tlearn: 0.0102435\ttest: 0.0118236\tbest: 0.0115448 (0)\ttotal: 114ms\tremaining: 1.52s\n",
            "7:\tlearn: 0.0101360\ttest: 0.0118364\tbest: 0.0115448 (0)\ttotal: 130ms\tremaining: 1.5s\n",
            "8:\tlearn: 0.0100451\ttest: 0.0118726\tbest: 0.0115448 (0)\ttotal: 147ms\tremaining: 1.48s\n",
            "9:\tlearn: 0.0099468\ttest: 0.0119004\tbest: 0.0115448 (0)\ttotal: 163ms\tremaining: 1.46s\n",
            "10:\tlearn: 0.0098539\ttest: 0.0119417\tbest: 0.0115448 (0)\ttotal: 179ms\tremaining: 1.45s\n",
            "Stopped by overfitting detector  (10 iterations wait)\n",
            "\n",
            "bestTest = 0.01154484148\n",
            "bestIteration = 0\n",
            "\n",
            "Shrink model to first 1 iterations.\n"
          ]
        },
        {
          "name": "stderr",
          "output_type": "stream",
          "text": [
            "/usr/local/lib/python3.7/dist-packages/pypfopt/efficient_frontier/efficient_frontier.py:258: UserWarning: max_sharpe transforms the optimization problem so additional objectives may not work as expected.\n",
            "  \"max_sharpe transforms the optimization problem so additional objectives may not work as expected.\"\n"
          ]
        },
        {
          "name": "stdout",
          "output_type": "stream",
          "text": [
            "2021-09-28 00:00:00\n",
            "0:\tlearn: 0.0107633\ttest: 0.0116560\tbest: 0.0116560 (0)\ttotal: 15.9ms\tremaining: 1.57s\n",
            "1:\tlearn: 0.0105992\ttest: 0.0116477\tbest: 0.0116477 (1)\ttotal: 32.9ms\tremaining: 1.61s\n",
            "2:\tlearn: 0.0104544\ttest: 0.0116534\tbest: 0.0116477 (1)\ttotal: 48ms\tremaining: 1.55s\n",
            "3:\tlearn: 0.0103246\ttest: 0.0116627\tbest: 0.0116477 (1)\ttotal: 64.2ms\tremaining: 1.54s\n",
            "4:\tlearn: 0.0101958\ttest: 0.0116737\tbest: 0.0116477 (1)\ttotal: 79.5ms\tremaining: 1.51s\n",
            "5:\tlearn: 0.0101090\ttest: 0.0116977\tbest: 0.0116477 (1)\ttotal: 94.6ms\tremaining: 1.48s\n",
            "6:\tlearn: 0.0100052\ttest: 0.0117066\tbest: 0.0116477 (1)\ttotal: 110ms\tremaining: 1.46s\n",
            "7:\tlearn: 0.0099293\ttest: 0.0117066\tbest: 0.0116477 (1)\ttotal: 125ms\tremaining: 1.44s\n",
            "8:\tlearn: 0.0098485\ttest: 0.0117139\tbest: 0.0116477 (1)\ttotal: 141ms\tremaining: 1.42s\n",
            "9:\tlearn: 0.0097573\ttest: 0.0117148\tbest: 0.0116477 (1)\ttotal: 156ms\tremaining: 1.4s\n",
            "10:\tlearn: 0.0096905\ttest: 0.0117215\tbest: 0.0116477 (1)\ttotal: 171ms\tremaining: 1.39s\n",
            "11:\tlearn: 0.0096347\ttest: 0.0117371\tbest: 0.0116477 (1)\ttotal: 187ms\tremaining: 1.37s\n",
            "Stopped by overfitting detector  (10 iterations wait)\n",
            "\n",
            "bestTest = 0.01164772044\n",
            "bestIteration = 1\n",
            "\n",
            "Shrink model to first 2 iterations.\n"
          ]
        },
        {
          "name": "stderr",
          "output_type": "stream",
          "text": [
            "/usr/local/lib/python3.7/dist-packages/pypfopt/efficient_frontier/efficient_frontier.py:258: UserWarning: max_sharpe transforms the optimization problem so additional objectives may not work as expected.\n",
            "  \"max_sharpe transforms the optimization problem so additional objectives may not work as expected.\"\n"
          ]
        },
        {
          "name": "stdout",
          "output_type": "stream",
          "text": [
            "2021-09-29 00:00:00\n",
            "0:\tlearn: 0.0110799\ttest: 0.0116664\tbest: 0.0116664 (0)\ttotal: 15.9ms\tremaining: 1.58s\n",
            "1:\tlearn: 0.0109480\ttest: 0.0116707\tbest: 0.0116664 (0)\ttotal: 32.2ms\tremaining: 1.58s\n",
            "2:\tlearn: 0.0107808\ttest: 0.0116800\tbest: 0.0116664 (0)\ttotal: 46.8ms\tremaining: 1.51s\n",
            "3:\tlearn: 0.0106510\ttest: 0.0117117\tbest: 0.0116664 (0)\ttotal: 62.2ms\tremaining: 1.49s\n",
            "4:\tlearn: 0.0105236\ttest: 0.0116915\tbest: 0.0116664 (0)\ttotal: 77.2ms\tremaining: 1.47s\n",
            "5:\tlearn: 0.0104346\ttest: 0.0116905\tbest: 0.0116664 (0)\ttotal: 91.8ms\tremaining: 1.44s\n",
            "6:\tlearn: 0.0103419\ttest: 0.0116907\tbest: 0.0116664 (0)\ttotal: 107ms\tremaining: 1.42s\n",
            "7:\tlearn: 0.0102522\ttest: 0.0117159\tbest: 0.0116664 (0)\ttotal: 122ms\tremaining: 1.41s\n",
            "8:\tlearn: 0.0101918\ttest: 0.0117211\tbest: 0.0116664 (0)\ttotal: 138ms\tremaining: 1.4s\n",
            "9:\tlearn: 0.0101086\ttest: 0.0117544\tbest: 0.0116664 (0)\ttotal: 153ms\tremaining: 1.37s\n",
            "10:\tlearn: 0.0100502\ttest: 0.0117812\tbest: 0.0116664 (0)\ttotal: 167ms\tremaining: 1.35s\n",
            "Stopped by overfitting detector  (10 iterations wait)\n",
            "\n",
            "bestTest = 0.01166639544\n",
            "bestIteration = 0\n",
            "\n",
            "Shrink model to first 1 iterations.\n"
          ]
        },
        {
          "name": "stderr",
          "output_type": "stream",
          "text": [
            "/usr/local/lib/python3.7/dist-packages/pypfopt/efficient_frontier/efficient_frontier.py:258: UserWarning: max_sharpe transforms the optimization problem so additional objectives may not work as expected.\n",
            "  \"max_sharpe transforms the optimization problem so additional objectives may not work as expected.\"\n",
            "/usr/local/lib/python3.7/dist-packages/cvxpy/problems/problem.py:1334: UserWarning: Solution may be inaccurate. Try another solver, adjusting the solver settings, or solve with verbose=True for more information.\n",
            "  \"Solution may be inaccurate. Try another solver, \"\n"
          ]
        },
        {
          "name": "stdout",
          "output_type": "stream",
          "text": [
            "2021-09-30 00:00:00\n",
            "0:\tlearn: 0.0116760\ttest: 0.0112430\tbest: 0.0112430 (0)\ttotal: 16.3ms\tremaining: 1.61s\n",
            "1:\tlearn: 0.0114726\ttest: 0.0112490\tbest: 0.0112430 (0)\ttotal: 33.1ms\tremaining: 1.62s\n",
            "2:\tlearn: 0.0112710\ttest: 0.0112360\tbest: 0.0112360 (2)\ttotal: 48.3ms\tremaining: 1.56s\n",
            "3:\tlearn: 0.0110960\ttest: 0.0112513\tbest: 0.0112360 (2)\ttotal: 65.2ms\tremaining: 1.56s\n",
            "4:\tlearn: 0.0109295\ttest: 0.0112569\tbest: 0.0112360 (2)\ttotal: 80.3ms\tremaining: 1.52s\n",
            "5:\tlearn: 0.0107395\ttest: 0.0112928\tbest: 0.0112360 (2)\ttotal: 95.3ms\tremaining: 1.49s\n",
            "6:\tlearn: 0.0106163\ttest: 0.0113377\tbest: 0.0112360 (2)\ttotal: 110ms\tremaining: 1.47s\n",
            "7:\tlearn: 0.0104881\ttest: 0.0113773\tbest: 0.0112360 (2)\ttotal: 126ms\tremaining: 1.45s\n",
            "8:\tlearn: 0.0103819\ttest: 0.0113927\tbest: 0.0112360 (2)\ttotal: 141ms\tremaining: 1.42s\n",
            "9:\tlearn: 0.0102897\ttest: 0.0113954\tbest: 0.0112360 (2)\ttotal: 156ms\tremaining: 1.4s\n",
            "10:\tlearn: 0.0102271\ttest: 0.0114101\tbest: 0.0112360 (2)\ttotal: 171ms\tremaining: 1.39s\n",
            "11:\tlearn: 0.0101501\ttest: 0.0114267\tbest: 0.0112360 (2)\ttotal: 186ms\tremaining: 1.36s\n",
            "12:\tlearn: 0.0100875\ttest: 0.0114567\tbest: 0.0112360 (2)\ttotal: 202ms\tremaining: 1.35s\n",
            "Stopped by overfitting detector  (10 iterations wait)\n",
            "\n",
            "bestTest = 0.01123598033\n",
            "bestIteration = 2\n",
            "\n",
            "Shrink model to first 3 iterations.\n"
          ]
        },
        {
          "name": "stderr",
          "output_type": "stream",
          "text": [
            "/usr/local/lib/python3.7/dist-packages/pypfopt/efficient_frontier/efficient_frontier.py:258: UserWarning: max_sharpe transforms the optimization problem so additional objectives may not work as expected.\n",
            "  \"max_sharpe transforms the optimization problem so additional objectives may not work as expected.\"\n",
            "/usr/local/lib/python3.7/dist-packages/cvxpy/problems/problem.py:1334: UserWarning: Solution may be inaccurate. Try another solver, adjusting the solver settings, or solve with verbose=True for more information.\n",
            "  \"Solution may be inaccurate. Try another solver, \"\n"
          ]
        },
        {
          "name": "stdout",
          "output_type": "stream",
          "text": [
            "2021-10-01 00:00:00\n",
            "0:\tlearn: 0.0107124\ttest: 0.0117726\tbest: 0.0117726 (0)\ttotal: 15.6ms\tremaining: 1.55s\n",
            "1:\tlearn: 0.0105640\ttest: 0.0117830\tbest: 0.0117726 (0)\ttotal: 32.2ms\tremaining: 1.58s\n",
            "2:\tlearn: 0.0104361\ttest: 0.0118049\tbest: 0.0117726 (0)\ttotal: 47.5ms\tremaining: 1.53s\n",
            "3:\tlearn: 0.0103279\ttest: 0.0118246\tbest: 0.0117726 (0)\ttotal: 63.9ms\tremaining: 1.53s\n",
            "4:\tlearn: 0.0102288\ttest: 0.0118654\tbest: 0.0117726 (0)\ttotal: 79.3ms\tremaining: 1.51s\n",
            "5:\tlearn: 0.0101273\ttest: 0.0118979\tbest: 0.0117726 (0)\ttotal: 95.3ms\tremaining: 1.49s\n",
            "6:\tlearn: 0.0100461\ttest: 0.0119420\tbest: 0.0117726 (0)\ttotal: 111ms\tremaining: 1.47s\n",
            "7:\tlearn: 0.0099827\ttest: 0.0119778\tbest: 0.0117726 (0)\ttotal: 126ms\tremaining: 1.45s\n",
            "8:\tlearn: 0.0099236\ttest: 0.0120065\tbest: 0.0117726 (0)\ttotal: 142ms\tremaining: 1.43s\n",
            "9:\tlearn: 0.0098418\ttest: 0.0120263\tbest: 0.0117726 (0)\ttotal: 159ms\tremaining: 1.43s\n",
            "10:\tlearn: 0.0097801\ttest: 0.0120578\tbest: 0.0117726 (0)\ttotal: 179ms\tremaining: 1.44s\n",
            "Stopped by overfitting detector  (10 iterations wait)\n",
            "\n",
            "bestTest = 0.01177255619\n",
            "bestIteration = 0\n",
            "\n",
            "Shrink model to first 1 iterations.\n"
          ]
        },
        {
          "name": "stderr",
          "output_type": "stream",
          "text": [
            "/usr/local/lib/python3.7/dist-packages/pypfopt/efficient_frontier/efficient_frontier.py:258: UserWarning: max_sharpe transforms the optimization problem so additional objectives may not work as expected.\n",
            "  \"max_sharpe transforms the optimization problem so additional objectives may not work as expected.\"\n",
            "/usr/local/lib/python3.7/dist-packages/cvxpy/problems/problem.py:1334: UserWarning: Solution may be inaccurate. Try another solver, adjusting the solver settings, or solve with verbose=True for more information.\n",
            "  \"Solution may be inaccurate. Try another solver, \"\n"
          ]
        },
        {
          "name": "stdout",
          "output_type": "stream",
          "text": [
            "2021-10-04 00:00:00\n",
            "0:\tlearn: 0.0108569\ttest: 0.0119524\tbest: 0.0119524 (0)\ttotal: 15.6ms\tremaining: 1.55s\n",
            "1:\tlearn: 0.0107171\ttest: 0.0119487\tbest: 0.0119487 (1)\ttotal: 31.7ms\tremaining: 1.55s\n",
            "2:\tlearn: 0.0105347\ttest: 0.0119271\tbest: 0.0119271 (2)\ttotal: 46.9ms\tremaining: 1.51s\n",
            "3:\tlearn: 0.0103692\ttest: 0.0119230\tbest: 0.0119230 (3)\ttotal: 63ms\tremaining: 1.51s\n",
            "4:\tlearn: 0.0102696\ttest: 0.0119469\tbest: 0.0119230 (3)\ttotal: 77.6ms\tremaining: 1.47s\n",
            "5:\tlearn: 0.0101487\ttest: 0.0119798\tbest: 0.0119230 (3)\ttotal: 92.1ms\tremaining: 1.44s\n",
            "6:\tlearn: 0.0100615\ttest: 0.0120054\tbest: 0.0119230 (3)\ttotal: 108ms\tremaining: 1.43s\n",
            "7:\tlearn: 0.0099890\ttest: 0.0120188\tbest: 0.0119230 (3)\ttotal: 123ms\tremaining: 1.41s\n",
            "8:\tlearn: 0.0099230\ttest: 0.0120377\tbest: 0.0119230 (3)\ttotal: 138ms\tremaining: 1.4s\n",
            "9:\tlearn: 0.0098397\ttest: 0.0120456\tbest: 0.0119230 (3)\ttotal: 153ms\tremaining: 1.38s\n",
            "10:\tlearn: 0.0097862\ttest: 0.0120566\tbest: 0.0119230 (3)\ttotal: 169ms\tremaining: 1.36s\n",
            "11:\tlearn: 0.0097243\ttest: 0.0120703\tbest: 0.0119230 (3)\ttotal: 184ms\tremaining: 1.35s\n",
            "12:\tlearn: 0.0096706\ttest: 0.0120805\tbest: 0.0119230 (3)\ttotal: 200ms\tremaining: 1.33s\n",
            "13:\tlearn: 0.0095917\ttest: 0.0121023\tbest: 0.0119230 (3)\ttotal: 219ms\tremaining: 1.35s\n",
            "Stopped by overfitting detector  (10 iterations wait)\n",
            "\n",
            "bestTest = 0.01192299202\n",
            "bestIteration = 3\n",
            "\n",
            "Shrink model to first 4 iterations.\n"
          ]
        },
        {
          "name": "stderr",
          "output_type": "stream",
          "text": [
            "/usr/local/lib/python3.7/dist-packages/pypfopt/efficient_frontier/efficient_frontier.py:258: UserWarning: max_sharpe transforms the optimization problem so additional objectives may not work as expected.\n",
            "  \"max_sharpe transforms the optimization problem so additional objectives may not work as expected.\"\n"
          ]
        },
        {
          "name": "stdout",
          "output_type": "stream",
          "text": [
            "2021-10-05 00:00:00\n",
            "0:\tlearn: 0.0111241\ttest: 0.0115869\tbest: 0.0115869 (0)\ttotal: 16.3ms\tremaining: 1.62s\n",
            "1:\tlearn: 0.0109697\ttest: 0.0115886\tbest: 0.0115869 (0)\ttotal: 33.4ms\tremaining: 1.64s\n",
            "2:\tlearn: 0.0107878\ttest: 0.0115854\tbest: 0.0115854 (2)\ttotal: 48.5ms\tremaining: 1.57s\n",
            "3:\tlearn: 0.0106615\ttest: 0.0115956\tbest: 0.0115854 (2)\ttotal: 63.9ms\tremaining: 1.53s\n",
            "4:\tlearn: 0.0105402\ttest: 0.0116211\tbest: 0.0115854 (2)\ttotal: 78.6ms\tremaining: 1.49s\n",
            "5:\tlearn: 0.0104249\ttest: 0.0116541\tbest: 0.0115854 (2)\ttotal: 93.9ms\tremaining: 1.47s\n",
            "6:\tlearn: 0.0103188\ttest: 0.0116576\tbest: 0.0115854 (2)\ttotal: 109ms\tremaining: 1.45s\n",
            "7:\tlearn: 0.0102408\ttest: 0.0116787\tbest: 0.0115854 (2)\ttotal: 124ms\tremaining: 1.43s\n",
            "8:\tlearn: 0.0101663\ttest: 0.0117006\tbest: 0.0115854 (2)\ttotal: 140ms\tremaining: 1.42s\n",
            "9:\tlearn: 0.0100824\ttest: 0.0117091\tbest: 0.0115854 (2)\ttotal: 155ms\tremaining: 1.4s\n",
            "10:\tlearn: 0.0099994\ttest: 0.0117197\tbest: 0.0115854 (2)\ttotal: 171ms\tremaining: 1.38s\n",
            "11:\tlearn: 0.0099389\ttest: 0.0117479\tbest: 0.0115854 (2)\ttotal: 187ms\tremaining: 1.37s\n",
            "12:\tlearn: 0.0098731\ttest: 0.0117634\tbest: 0.0115854 (2)\ttotal: 205ms\tremaining: 1.37s\n",
            "Stopped by overfitting detector  (10 iterations wait)\n",
            "\n",
            "bestTest = 0.01158536068\n",
            "bestIteration = 2\n",
            "\n",
            "Shrink model to first 3 iterations.\n"
          ]
        },
        {
          "name": "stderr",
          "output_type": "stream",
          "text": [
            "/usr/local/lib/python3.7/dist-packages/pypfopt/efficient_frontier/efficient_frontier.py:258: UserWarning: max_sharpe transforms the optimization problem so additional objectives may not work as expected.\n",
            "  \"max_sharpe transforms the optimization problem so additional objectives may not work as expected.\"\n"
          ]
        },
        {
          "name": "stdout",
          "output_type": "stream",
          "text": [
            "2021-10-06 00:00:00\n",
            "0:\tlearn: 0.0105221\ttest: 0.0116696\tbest: 0.0116696 (0)\ttotal: 15.7ms\tremaining: 1.56s\n",
            "1:\tlearn: 0.0103792\ttest: 0.0116974\tbest: 0.0116696 (0)\ttotal: 32.5ms\tremaining: 1.59s\n",
            "2:\tlearn: 0.0102427\ttest: 0.0117533\tbest: 0.0116696 (0)\ttotal: 48.2ms\tremaining: 1.56s\n",
            "3:\tlearn: 0.0101338\ttest: 0.0117667\tbest: 0.0116696 (0)\ttotal: 64.4ms\tremaining: 1.54s\n",
            "4:\tlearn: 0.0100164\ttest: 0.0117871\tbest: 0.0116696 (0)\ttotal: 79.9ms\tremaining: 1.52s\n",
            "5:\tlearn: 0.0099150\ttest: 0.0118286\tbest: 0.0116696 (0)\ttotal: 95.6ms\tremaining: 1.5s\n",
            "6:\tlearn: 0.0098420\ttest: 0.0118718\tbest: 0.0116696 (0)\ttotal: 111ms\tremaining: 1.47s\n",
            "7:\tlearn: 0.0097529\ttest: 0.0119024\tbest: 0.0116696 (0)\ttotal: 138ms\tremaining: 1.58s\n",
            "8:\tlearn: 0.0096868\ttest: 0.0119344\tbest: 0.0116696 (0)\ttotal: 153ms\tremaining: 1.55s\n",
            "9:\tlearn: 0.0096163\ttest: 0.0119712\tbest: 0.0116696 (0)\ttotal: 168ms\tremaining: 1.52s\n",
            "10:\tlearn: 0.0095559\ttest: 0.0120020\tbest: 0.0116696 (0)\ttotal: 184ms\tremaining: 1.49s\n",
            "Stopped by overfitting detector  (10 iterations wait)\n",
            "\n",
            "bestTest = 0.01166957338\n",
            "bestIteration = 0\n",
            "\n",
            "Shrink model to first 1 iterations.\n"
          ]
        },
        {
          "name": "stderr",
          "output_type": "stream",
          "text": [
            "/usr/local/lib/python3.7/dist-packages/pypfopt/efficient_frontier/efficient_frontier.py:258: UserWarning: max_sharpe transforms the optimization problem so additional objectives may not work as expected.\n",
            "  \"max_sharpe transforms the optimization problem so additional objectives may not work as expected.\"\n"
          ]
        },
        {
          "name": "stdout",
          "output_type": "stream",
          "text": [
            "2021-10-07 00:00:00\n",
            "0:\tlearn: 0.0107543\ttest: 0.0114430\tbest: 0.0114430 (0)\ttotal: 16.2ms\tremaining: 1.6s\n",
            "1:\tlearn: 0.0106047\ttest: 0.0114368\tbest: 0.0114368 (1)\ttotal: 33.3ms\tremaining: 1.63s\n",
            "2:\tlearn: 0.0104533\ttest: 0.0114696\tbest: 0.0114368 (1)\ttotal: 48.2ms\tremaining: 1.56s\n",
            "3:\tlearn: 0.0103344\ttest: 0.0115045\tbest: 0.0114368 (1)\ttotal: 64ms\tremaining: 1.53s\n",
            "4:\tlearn: 0.0102313\ttest: 0.0115371\tbest: 0.0114368 (1)\ttotal: 78.9ms\tremaining: 1.5s\n",
            "5:\tlearn: 0.0101099\ttest: 0.0115851\tbest: 0.0114368 (1)\ttotal: 93.9ms\tremaining: 1.47s\n",
            "6:\tlearn: 0.0100305\ttest: 0.0115923\tbest: 0.0114368 (1)\ttotal: 110ms\tremaining: 1.46s\n",
            "7:\tlearn: 0.0099538\ttest: 0.0116438\tbest: 0.0114368 (1)\ttotal: 125ms\tremaining: 1.44s\n",
            "8:\tlearn: 0.0098707\ttest: 0.0116806\tbest: 0.0114368 (1)\ttotal: 141ms\tremaining: 1.42s\n",
            "9:\tlearn: 0.0097663\ttest: 0.0116970\tbest: 0.0114368 (1)\ttotal: 156ms\tremaining: 1.41s\n",
            "10:\tlearn: 0.0096914\ttest: 0.0117044\tbest: 0.0114368 (1)\ttotal: 171ms\tremaining: 1.38s\n",
            "11:\tlearn: 0.0095910\ttest: 0.0117285\tbest: 0.0114368 (1)\ttotal: 188ms\tremaining: 1.38s\n",
            "Stopped by overfitting detector  (10 iterations wait)\n",
            "\n",
            "bestTest = 0.01143680183\n",
            "bestIteration = 1\n",
            "\n",
            "Shrink model to first 2 iterations.\n"
          ]
        },
        {
          "name": "stderr",
          "output_type": "stream",
          "text": [
            "/usr/local/lib/python3.7/dist-packages/pypfopt/efficient_frontier/efficient_frontier.py:258: UserWarning: max_sharpe transforms the optimization problem so additional objectives may not work as expected.\n",
            "  \"max_sharpe transforms the optimization problem so additional objectives may not work as expected.\"\n"
          ]
        },
        {
          "name": "stdout",
          "output_type": "stream",
          "text": [
            "2021-10-08 00:00:00\n",
            "0:\tlearn: 0.0105624\ttest: 0.0116131\tbest: 0.0116131 (0)\ttotal: 16.2ms\tremaining: 1.6s\n",
            "1:\tlearn: 0.0103867\ttest: 0.0116454\tbest: 0.0116131 (0)\ttotal: 32.9ms\tremaining: 1.61s\n",
            "2:\tlearn: 0.0102462\ttest: 0.0116918\tbest: 0.0116131 (0)\ttotal: 48.1ms\tremaining: 1.55s\n",
            "3:\tlearn: 0.0101278\ttest: 0.0117270\tbest: 0.0116131 (0)\ttotal: 64.6ms\tremaining: 1.55s\n",
            "4:\tlearn: 0.0100400\ttest: 0.0117644\tbest: 0.0116131 (0)\ttotal: 80.3ms\tremaining: 1.52s\n",
            "5:\tlearn: 0.0099283\ttest: 0.0117818\tbest: 0.0116131 (0)\ttotal: 95.5ms\tremaining: 1.5s\n",
            "6:\tlearn: 0.0098443\ttest: 0.0118049\tbest: 0.0116131 (0)\ttotal: 111ms\tremaining: 1.47s\n",
            "7:\tlearn: 0.0097656\ttest: 0.0118112\tbest: 0.0116131 (0)\ttotal: 126ms\tremaining: 1.45s\n",
            "8:\tlearn: 0.0096705\ttest: 0.0118296\tbest: 0.0116131 (0)\ttotal: 142ms\tremaining: 1.43s\n",
            "9:\tlearn: 0.0096181\ttest: 0.0118603\tbest: 0.0116131 (0)\ttotal: 157ms\tremaining: 1.41s\n",
            "10:\tlearn: 0.0095615\ttest: 0.0118598\tbest: 0.0116131 (0)\ttotal: 173ms\tremaining: 1.4s\n",
            "Stopped by overfitting detector  (10 iterations wait)\n",
            "\n",
            "bestTest = 0.01161309133\n",
            "bestIteration = 0\n",
            "\n",
            "Shrink model to first 1 iterations.\n"
          ]
        },
        {
          "name": "stderr",
          "output_type": "stream",
          "text": [
            "/usr/local/lib/python3.7/dist-packages/pypfopt/efficient_frontier/efficient_frontier.py:258: UserWarning: max_sharpe transforms the optimization problem so additional objectives may not work as expected.\n",
            "  \"max_sharpe transforms the optimization problem so additional objectives may not work as expected.\"\n",
            "/usr/local/lib/python3.7/dist-packages/cvxpy/problems/problem.py:1334: UserWarning: Solution may be inaccurate. Try another solver, adjusting the solver settings, or solve with verbose=True for more information.\n",
            "  \"Solution may be inaccurate. Try another solver, \"\n"
          ]
        },
        {
          "name": "stdout",
          "output_type": "stream",
          "text": [
            "2021-10-11 00:00:00\n",
            "0:\tlearn: 0.0113367\ttest: 0.0111321\tbest: 0.0111321 (0)\ttotal: 16.1ms\tremaining: 1.59s\n",
            "1:\tlearn: 0.0111131\ttest: 0.0111598\tbest: 0.0111321 (0)\ttotal: 32.4ms\tremaining: 1.59s\n",
            "2:\tlearn: 0.0108992\ttest: 0.0112157\tbest: 0.0111321 (0)\ttotal: 47.5ms\tremaining: 1.54s\n",
            "3:\tlearn: 0.0107364\ttest: 0.0112508\tbest: 0.0111321 (0)\ttotal: 63.2ms\tremaining: 1.52s\n",
            "4:\tlearn: 0.0105664\ttest: 0.0112924\tbest: 0.0111321 (0)\ttotal: 78.4ms\tremaining: 1.49s\n",
            "5:\tlearn: 0.0104272\ttest: 0.0113652\tbest: 0.0111321 (0)\ttotal: 93.9ms\tremaining: 1.47s\n",
            "6:\tlearn: 0.0103221\ttest: 0.0114053\tbest: 0.0111321 (0)\ttotal: 109ms\tremaining: 1.45s\n",
            "7:\tlearn: 0.0102075\ttest: 0.0114586\tbest: 0.0111321 (0)\ttotal: 124ms\tremaining: 1.43s\n",
            "8:\tlearn: 0.0101268\ttest: 0.0114967\tbest: 0.0111321 (0)\ttotal: 140ms\tremaining: 1.41s\n",
            "9:\tlearn: 0.0100362\ttest: 0.0115523\tbest: 0.0111321 (0)\ttotal: 155ms\tremaining: 1.4s\n",
            "10:\tlearn: 0.0099519\ttest: 0.0115813\tbest: 0.0111321 (0)\ttotal: 171ms\tremaining: 1.38s\n",
            "Stopped by overfitting detector  (10 iterations wait)\n",
            "\n",
            "bestTest = 0.01113207529\n",
            "bestIteration = 0\n",
            "\n",
            "Shrink model to first 1 iterations.\n"
          ]
        },
        {
          "name": "stderr",
          "output_type": "stream",
          "text": [
            "/usr/local/lib/python3.7/dist-packages/pypfopt/efficient_frontier/efficient_frontier.py:258: UserWarning: max_sharpe transforms the optimization problem so additional objectives may not work as expected.\n",
            "  \"max_sharpe transforms the optimization problem so additional objectives may not work as expected.\"\n",
            "/usr/local/lib/python3.7/dist-packages/cvxpy/problems/problem.py:1334: UserWarning: Solution may be inaccurate. Try another solver, adjusting the solver settings, or solve with verbose=True for more information.\n",
            "  \"Solution may be inaccurate. Try another solver, \"\n"
          ]
        },
        {
          "name": "stdout",
          "output_type": "stream",
          "text": [
            "2021-10-12 00:00:00\n",
            "0:\tlearn: 0.0108846\ttest: 0.0114173\tbest: 0.0114173 (0)\ttotal: 16.6ms\tremaining: 1.64s\n",
            "1:\tlearn: 0.0107288\ttest: 0.0114539\tbest: 0.0114173 (0)\ttotal: 32.9ms\tremaining: 1.61s\n",
            "2:\tlearn: 0.0105618\ttest: 0.0115066\tbest: 0.0114173 (0)\ttotal: 48.8ms\tremaining: 1.58s\n",
            "3:\tlearn: 0.0104344\ttest: 0.0115391\tbest: 0.0114173 (0)\ttotal: 64.7ms\tremaining: 1.55s\n",
            "4:\tlearn: 0.0103002\ttest: 0.0115884\tbest: 0.0114173 (0)\ttotal: 80.4ms\tremaining: 1.53s\n",
            "5:\tlearn: 0.0101859\ttest: 0.0116395\tbest: 0.0114173 (0)\ttotal: 97.5ms\tremaining: 1.53s\n",
            "6:\tlearn: 0.0100807\ttest: 0.0116970\tbest: 0.0114173 (0)\ttotal: 113ms\tremaining: 1.5s\n",
            "7:\tlearn: 0.0099725\ttest: 0.0117114\tbest: 0.0114173 (0)\ttotal: 128ms\tremaining: 1.47s\n",
            "8:\tlearn: 0.0098640\ttest: 0.0117390\tbest: 0.0114173 (0)\ttotal: 144ms\tremaining: 1.45s\n",
            "9:\tlearn: 0.0097780\ttest: 0.0117683\tbest: 0.0114173 (0)\ttotal: 159ms\tremaining: 1.43s\n",
            "10:\tlearn: 0.0096993\ttest: 0.0118121\tbest: 0.0114173 (0)\ttotal: 176ms\tremaining: 1.42s\n",
            "Stopped by overfitting detector  (10 iterations wait)\n",
            "\n",
            "bestTest = 0.01141730786\n",
            "bestIteration = 0\n",
            "\n",
            "Shrink model to first 1 iterations.\n"
          ]
        },
        {
          "name": "stderr",
          "output_type": "stream",
          "text": [
            "/usr/local/lib/python3.7/dist-packages/pypfopt/efficient_frontier/efficient_frontier.py:258: UserWarning: max_sharpe transforms the optimization problem so additional objectives may not work as expected.\n",
            "  \"max_sharpe transforms the optimization problem so additional objectives may not work as expected.\"\n"
          ]
        },
        {
          "name": "stdout",
          "output_type": "stream",
          "text": [
            "2021-10-13 00:00:00\n",
            "0:\tlearn: 0.0113954\ttest: 0.0111308\tbest: 0.0111308 (0)\ttotal: 20.7ms\tremaining: 2.04s\n",
            "1:\tlearn: 0.0112516\ttest: 0.0111932\tbest: 0.0111308 (0)\ttotal: 41.9ms\tremaining: 2.05s\n",
            "2:\tlearn: 0.0110879\ttest: 0.0112112\tbest: 0.0111308 (0)\ttotal: 57.6ms\tremaining: 1.86s\n",
            "3:\tlearn: 0.0109441\ttest: 0.0112303\tbest: 0.0111308 (0)\ttotal: 74.3ms\tremaining: 1.78s\n",
            "4:\tlearn: 0.0107720\ttest: 0.0112777\tbest: 0.0111308 (0)\ttotal: 90ms\tremaining: 1.71s\n",
            "5:\tlearn: 0.0106263\ttest: 0.0113018\tbest: 0.0111308 (0)\ttotal: 106ms\tremaining: 1.65s\n",
            "6:\tlearn: 0.0105167\ttest: 0.0113952\tbest: 0.0111308 (0)\ttotal: 121ms\tremaining: 1.61s\n",
            "7:\tlearn: 0.0104013\ttest: 0.0114352\tbest: 0.0111308 (0)\ttotal: 137ms\tremaining: 1.58s\n",
            "8:\tlearn: 0.0103066\ttest: 0.0114730\tbest: 0.0111308 (0)\ttotal: 152ms\tremaining: 1.54s\n",
            "9:\tlearn: 0.0102240\ttest: 0.0115197\tbest: 0.0111308 (0)\ttotal: 168ms\tremaining: 1.51s\n",
            "10:\tlearn: 0.0101296\ttest: 0.0115608\tbest: 0.0111308 (0)\ttotal: 183ms\tremaining: 1.48s\n",
            "Stopped by overfitting detector  (10 iterations wait)\n",
            "\n",
            "bestTest = 0.01113080418\n",
            "bestIteration = 0\n",
            "\n",
            "Shrink model to first 1 iterations.\n"
          ]
        },
        {
          "name": "stderr",
          "output_type": "stream",
          "text": [
            "/usr/local/lib/python3.7/dist-packages/pypfopt/efficient_frontier/efficient_frontier.py:258: UserWarning: max_sharpe transforms the optimization problem so additional objectives may not work as expected.\n",
            "  \"max_sharpe transforms the optimization problem so additional objectives may not work as expected.\"\n"
          ]
        },
        {
          "name": "stdout",
          "output_type": "stream",
          "text": [
            "2021-10-14 00:00:00\n",
            "0:\tlearn: 0.0119361\ttest: 0.0109325\tbest: 0.0109325 (0)\ttotal: 15.9ms\tremaining: 1.57s\n",
            "1:\tlearn: 0.0117489\ttest: 0.0109393\tbest: 0.0109325 (0)\ttotal: 32.4ms\tremaining: 1.59s\n",
            "2:\tlearn: 0.0115781\ttest: 0.0109324\tbest: 0.0109324 (2)\ttotal: 47.9ms\tremaining: 1.55s\n",
            "3:\tlearn: 0.0114486\ttest: 0.0109232\tbest: 0.0109232 (3)\ttotal: 64.1ms\tremaining: 1.54s\n",
            "4:\tlearn: 0.0113018\ttest: 0.0109414\tbest: 0.0109232 (3)\ttotal: 79.3ms\tremaining: 1.5s\n",
            "5:\tlearn: 0.0111529\ttest: 0.0109476\tbest: 0.0109232 (3)\ttotal: 96.8ms\tremaining: 1.51s\n",
            "6:\tlearn: 0.0110419\ttest: 0.0109488\tbest: 0.0109232 (3)\ttotal: 113ms\tremaining: 1.5s\n",
            "7:\tlearn: 0.0109346\ttest: 0.0109583\tbest: 0.0109232 (3)\ttotal: 128ms\tremaining: 1.47s\n",
            "8:\tlearn: 0.0108351\ttest: 0.0109669\tbest: 0.0109232 (3)\ttotal: 144ms\tremaining: 1.46s\n",
            "9:\tlearn: 0.0107401\ttest: 0.0109622\tbest: 0.0109232 (3)\ttotal: 159ms\tremaining: 1.43s\n",
            "10:\tlearn: 0.0106517\ttest: 0.0109834\tbest: 0.0109232 (3)\ttotal: 174ms\tremaining: 1.41s\n",
            "11:\tlearn: 0.0105695\ttest: 0.0109849\tbest: 0.0109232 (3)\ttotal: 192ms\tremaining: 1.41s\n",
            "12:\tlearn: 0.0105018\ttest: 0.0109960\tbest: 0.0109232 (3)\ttotal: 210ms\tremaining: 1.4s\n",
            "13:\tlearn: 0.0104495\ttest: 0.0110041\tbest: 0.0109232 (3)\ttotal: 232ms\tremaining: 1.43s\n",
            "Stopped by overfitting detector  (10 iterations wait)\n",
            "\n",
            "bestTest = 0.01092321703\n",
            "bestIteration = 3\n",
            "\n",
            "Shrink model to first 4 iterations.\n"
          ]
        },
        {
          "name": "stderr",
          "output_type": "stream",
          "text": [
            "/usr/local/lib/python3.7/dist-packages/pypfopt/efficient_frontier/efficient_frontier.py:258: UserWarning: max_sharpe transforms the optimization problem so additional objectives may not work as expected.\n",
            "  \"max_sharpe transforms the optimization problem so additional objectives may not work as expected.\"\n"
          ]
        },
        {
          "name": "stdout",
          "output_type": "stream",
          "text": [
            "2021-10-15 00:00:00\n",
            "0:\tlearn: 0.0105185\ttest: 0.0116651\tbest: 0.0116651 (0)\ttotal: 19.8ms\tremaining: 1.96s\n",
            "1:\tlearn: 0.0103724\ttest: 0.0116757\tbest: 0.0116651 (0)\ttotal: 43.5ms\tremaining: 2.13s\n",
            "2:\tlearn: 0.0102257\ttest: 0.0116886\tbest: 0.0116651 (0)\ttotal: 58.8ms\tremaining: 1.9s\n",
            "3:\tlearn: 0.0101231\ttest: 0.0117006\tbest: 0.0116651 (0)\ttotal: 75.4ms\tremaining: 1.81s\n",
            "4:\tlearn: 0.0100058\ttest: 0.0117208\tbest: 0.0116651 (0)\ttotal: 90.8ms\tremaining: 1.73s\n",
            "5:\tlearn: 0.0099195\ttest: 0.0117491\tbest: 0.0116651 (0)\ttotal: 106ms\tremaining: 1.67s\n",
            "6:\tlearn: 0.0098391\ttest: 0.0117540\tbest: 0.0116651 (0)\ttotal: 122ms\tremaining: 1.62s\n",
            "7:\tlearn: 0.0097580\ttest: 0.0117699\tbest: 0.0116651 (0)\ttotal: 137ms\tremaining: 1.58s\n",
            "8:\tlearn: 0.0096810\ttest: 0.0117930\tbest: 0.0116651 (0)\ttotal: 153ms\tremaining: 1.55s\n",
            "9:\tlearn: 0.0095921\ttest: 0.0118251\tbest: 0.0116651 (0)\ttotal: 170ms\tremaining: 1.53s\n",
            "10:\tlearn: 0.0095382\ttest: 0.0118317\tbest: 0.0116651 (0)\ttotal: 189ms\tremaining: 1.53s\n",
            "Stopped by overfitting detector  (10 iterations wait)\n",
            "\n",
            "bestTest = 0.01166511209\n",
            "bestIteration = 0\n",
            "\n",
            "Shrink model to first 1 iterations.\n"
          ]
        },
        {
          "name": "stderr",
          "output_type": "stream",
          "text": [
            "/usr/local/lib/python3.7/dist-packages/pypfopt/efficient_frontier/efficient_frontier.py:258: UserWarning: max_sharpe transforms the optimization problem so additional objectives may not work as expected.\n",
            "  \"max_sharpe transforms the optimization problem so additional objectives may not work as expected.\"\n"
          ]
        },
        {
          "name": "stdout",
          "output_type": "stream",
          "text": [
            "2021-10-18 00:00:00\n",
            "0:\tlearn: 0.0108824\ttest: 0.0114953\tbest: 0.0114953 (0)\ttotal: 17ms\tremaining: 1.69s\n",
            "1:\tlearn: 0.0107516\ttest: 0.0115034\tbest: 0.0114953 (0)\ttotal: 33.4ms\tremaining: 1.64s\n",
            "2:\tlearn: 0.0106037\ttest: 0.0115205\tbest: 0.0114953 (0)\ttotal: 48.9ms\tremaining: 1.58s\n",
            "3:\tlearn: 0.0105052\ttest: 0.0115366\tbest: 0.0114953 (0)\ttotal: 64.7ms\tremaining: 1.55s\n",
            "4:\tlearn: 0.0103619\ttest: 0.0115365\tbest: 0.0114953 (0)\ttotal: 79.9ms\tremaining: 1.52s\n",
            "5:\tlearn: 0.0102428\ttest: 0.0115534\tbest: 0.0114953 (0)\ttotal: 95.8ms\tremaining: 1.5s\n",
            "6:\tlearn: 0.0101810\ttest: 0.0115589\tbest: 0.0114953 (0)\ttotal: 110ms\tremaining: 1.47s\n",
            "7:\tlearn: 0.0101149\ttest: 0.0115790\tbest: 0.0114953 (0)\ttotal: 125ms\tremaining: 1.44s\n",
            "8:\tlearn: 0.0100273\ttest: 0.0116109\tbest: 0.0114953 (0)\ttotal: 141ms\tremaining: 1.43s\n",
            "9:\tlearn: 0.0099321\ttest: 0.0116230\tbest: 0.0114953 (0)\ttotal: 157ms\tremaining: 1.41s\n",
            "10:\tlearn: 0.0098738\ttest: 0.0116243\tbest: 0.0114953 (0)\ttotal: 171ms\tremaining: 1.38s\n",
            "Stopped by overfitting detector  (10 iterations wait)\n",
            "\n",
            "bestTest = 0.01149531737\n",
            "bestIteration = 0\n",
            "\n",
            "Shrink model to first 1 iterations.\n"
          ]
        },
        {
          "name": "stderr",
          "output_type": "stream",
          "text": [
            "/usr/local/lib/python3.7/dist-packages/pypfopt/efficient_frontier/efficient_frontier.py:258: UserWarning: max_sharpe transforms the optimization problem so additional objectives may not work as expected.\n",
            "  \"max_sharpe transforms the optimization problem so additional objectives may not work as expected.\"\n"
          ]
        },
        {
          "name": "stdout",
          "output_type": "stream",
          "text": [
            "2021-10-19 00:00:00\n",
            "0:\tlearn: 0.0111675\ttest: 0.0113924\tbest: 0.0113924 (0)\ttotal: 16ms\tremaining: 1.59s\n",
            "1:\tlearn: 0.0109786\ttest: 0.0114316\tbest: 0.0113924 (0)\ttotal: 34.2ms\tremaining: 1.68s\n",
            "2:\tlearn: 0.0108071\ttest: 0.0114571\tbest: 0.0113924 (0)\ttotal: 49.6ms\tremaining: 1.6s\n",
            "3:\tlearn: 0.0106959\ttest: 0.0114660\tbest: 0.0113924 (0)\ttotal: 65.5ms\tremaining: 1.57s\n",
            "4:\tlearn: 0.0105931\ttest: 0.0115046\tbest: 0.0113924 (0)\ttotal: 80.6ms\tremaining: 1.53s\n",
            "5:\tlearn: 0.0104893\ttest: 0.0115326\tbest: 0.0113924 (0)\ttotal: 106ms\tremaining: 1.66s\n",
            "6:\tlearn: 0.0103818\ttest: 0.0115484\tbest: 0.0113924 (0)\ttotal: 122ms\tremaining: 1.61s\n",
            "7:\tlearn: 0.0102808\ttest: 0.0115762\tbest: 0.0113924 (0)\ttotal: 137ms\tremaining: 1.58s\n",
            "8:\tlearn: 0.0101945\ttest: 0.0115937\tbest: 0.0113924 (0)\ttotal: 153ms\tremaining: 1.55s\n",
            "9:\tlearn: 0.0100992\ttest: 0.0116407\tbest: 0.0113924 (0)\ttotal: 169ms\tremaining: 1.52s\n",
            "10:\tlearn: 0.0100292\ttest: 0.0116491\tbest: 0.0113924 (0)\ttotal: 184ms\tremaining: 1.49s\n",
            "Stopped by overfitting detector  (10 iterations wait)\n",
            "\n",
            "bestTest = 0.01139242888\n",
            "bestIteration = 0\n",
            "\n",
            "Shrink model to first 1 iterations.\n"
          ]
        },
        {
          "name": "stderr",
          "output_type": "stream",
          "text": [
            "/usr/local/lib/python3.7/dist-packages/pypfopt/efficient_frontier/efficient_frontier.py:258: UserWarning: max_sharpe transforms the optimization problem so additional objectives may not work as expected.\n",
            "  \"max_sharpe transforms the optimization problem so additional objectives may not work as expected.\"\n"
          ]
        },
        {
          "name": "stdout",
          "output_type": "stream",
          "text": [
            "2021-10-20 00:00:00\n",
            "0:\tlearn: 0.0119138\ttest: 0.0110642\tbest: 0.0110642 (0)\ttotal: 15.6ms\tremaining: 1.55s\n",
            "1:\tlearn: 0.0116586\ttest: 0.0111115\tbest: 0.0110642 (0)\ttotal: 32.4ms\tremaining: 1.58s\n",
            "2:\tlearn: 0.0114193\ttest: 0.0111688\tbest: 0.0110642 (0)\ttotal: 47.3ms\tremaining: 1.53s\n",
            "3:\tlearn: 0.0112213\ttest: 0.0112021\tbest: 0.0110642 (0)\ttotal: 63.3ms\tremaining: 1.52s\n",
            "4:\tlearn: 0.0109689\ttest: 0.0112014\tbest: 0.0110642 (0)\ttotal: 78.8ms\tremaining: 1.5s\n",
            "5:\tlearn: 0.0108089\ttest: 0.0112700\tbest: 0.0110642 (0)\ttotal: 94.8ms\tremaining: 1.48s\n",
            "6:\tlearn: 0.0106652\ttest: 0.0113457\tbest: 0.0110642 (0)\ttotal: 110ms\tremaining: 1.47s\n",
            "7:\tlearn: 0.0105333\ttest: 0.0113806\tbest: 0.0110642 (0)\ttotal: 126ms\tremaining: 1.45s\n",
            "8:\tlearn: 0.0104403\ttest: 0.0114223\tbest: 0.0110642 (0)\ttotal: 141ms\tremaining: 1.43s\n",
            "9:\tlearn: 0.0103353\ttest: 0.0114837\tbest: 0.0110642 (0)\ttotal: 158ms\tremaining: 1.42s\n",
            "10:\tlearn: 0.0102640\ttest: 0.0115321\tbest: 0.0110642 (0)\ttotal: 174ms\tremaining: 1.4s\n",
            "Stopped by overfitting detector  (10 iterations wait)\n",
            "\n",
            "bestTest = 0.01106421382\n",
            "bestIteration = 0\n",
            "\n",
            "Shrink model to first 1 iterations.\n"
          ]
        },
        {
          "name": "stderr",
          "output_type": "stream",
          "text": [
            "/usr/local/lib/python3.7/dist-packages/pypfopt/efficient_frontier/efficient_frontier.py:258: UserWarning: max_sharpe transforms the optimization problem so additional objectives may not work as expected.\n",
            "  \"max_sharpe transforms the optimization problem so additional objectives may not work as expected.\"\n"
          ]
        },
        {
          "name": "stdout",
          "output_type": "stream",
          "text": [
            "2021-10-21 00:00:00\n",
            "0:\tlearn: 0.0125501\ttest: 0.0108929\tbest: 0.0108929 (0)\ttotal: 15.9ms\tremaining: 1.58s\n",
            "1:\tlearn: 0.0123293\ttest: 0.0109332\tbest: 0.0108929 (0)\ttotal: 32.2ms\tremaining: 1.58s\n",
            "2:\tlearn: 0.0120871\ttest: 0.0110094\tbest: 0.0108929 (0)\ttotal: 47.4ms\tremaining: 1.53s\n",
            "3:\tlearn: 0.0118897\ttest: 0.0110686\tbest: 0.0108929 (0)\ttotal: 63.7ms\tremaining: 1.53s\n",
            "4:\tlearn: 0.0116655\ttest: 0.0111242\tbest: 0.0108929 (0)\ttotal: 81ms\tremaining: 1.54s\n",
            "5:\tlearn: 0.0114746\ttest: 0.0112022\tbest: 0.0108929 (0)\ttotal: 96.6ms\tremaining: 1.51s\n",
            "6:\tlearn: 0.0113165\ttest: 0.0112687\tbest: 0.0108929 (0)\ttotal: 112ms\tremaining: 1.49s\n",
            "7:\tlearn: 0.0111611\ttest: 0.0113610\tbest: 0.0108929 (0)\ttotal: 128ms\tremaining: 1.47s\n",
            "8:\tlearn: 0.0110563\ttest: 0.0114150\tbest: 0.0108929 (0)\ttotal: 144ms\tremaining: 1.45s\n",
            "9:\tlearn: 0.0109217\ttest: 0.0114897\tbest: 0.0108929 (0)\ttotal: 159ms\tremaining: 1.43s\n",
            "10:\tlearn: 0.0108236\ttest: 0.0115468\tbest: 0.0108929 (0)\ttotal: 175ms\tremaining: 1.41s\n",
            "Stopped by overfitting detector  (10 iterations wait)\n",
            "\n",
            "bestTest = 0.01089294411\n",
            "bestIteration = 0\n",
            "\n",
            "Shrink model to first 1 iterations.\n"
          ]
        },
        {
          "name": "stderr",
          "output_type": "stream",
          "text": [
            "/usr/local/lib/python3.7/dist-packages/pypfopt/efficient_frontier/efficient_frontier.py:258: UserWarning: max_sharpe transforms the optimization problem so additional objectives may not work as expected.\n",
            "  \"max_sharpe transforms the optimization problem so additional objectives may not work as expected.\"\n"
          ]
        },
        {
          "name": "stdout",
          "output_type": "stream",
          "text": [
            "2021-10-22 00:00:00\n",
            "0:\tlearn: 0.0110767\ttest: 0.0115082\tbest: 0.0115082 (0)\ttotal: 16ms\tremaining: 1.58s\n",
            "1:\tlearn: 0.0109035\ttest: 0.0115268\tbest: 0.0115082 (0)\ttotal: 32.9ms\tremaining: 1.61s\n",
            "2:\tlearn: 0.0107560\ttest: 0.0115174\tbest: 0.0115082 (0)\ttotal: 48.3ms\tremaining: 1.56s\n",
            "3:\tlearn: 0.0106014\ttest: 0.0115176\tbest: 0.0115082 (0)\ttotal: 65.1ms\tremaining: 1.56s\n",
            "4:\tlearn: 0.0104611\ttest: 0.0115307\tbest: 0.0115082 (0)\ttotal: 80.8ms\tremaining: 1.53s\n",
            "5:\tlearn: 0.0103480\ttest: 0.0115425\tbest: 0.0115082 (0)\ttotal: 96.1ms\tremaining: 1.5s\n",
            "6:\tlearn: 0.0102265\ttest: 0.0115671\tbest: 0.0115082 (0)\ttotal: 112ms\tremaining: 1.48s\n",
            "7:\tlearn: 0.0101376\ttest: 0.0115707\tbest: 0.0115082 (0)\ttotal: 128ms\tremaining: 1.47s\n",
            "8:\tlearn: 0.0100503\ttest: 0.0115831\tbest: 0.0115082 (0)\ttotal: 143ms\tremaining: 1.45s\n",
            "9:\tlearn: 0.0099630\ttest: 0.0116204\tbest: 0.0115082 (0)\ttotal: 159ms\tremaining: 1.43s\n",
            "10:\tlearn: 0.0098820\ttest: 0.0116376\tbest: 0.0115082 (0)\ttotal: 175ms\tremaining: 1.42s\n",
            "Stopped by overfitting detector  (10 iterations wait)\n",
            "\n",
            "bestTest = 0.01150824431\n",
            "bestIteration = 0\n",
            "\n",
            "Shrink model to first 1 iterations.\n"
          ]
        },
        {
          "name": "stderr",
          "output_type": "stream",
          "text": [
            "/usr/local/lib/python3.7/dist-packages/pypfopt/efficient_frontier/efficient_frontier.py:258: UserWarning: max_sharpe transforms the optimization problem so additional objectives may not work as expected.\n",
            "  \"max_sharpe transforms the optimization problem so additional objectives may not work as expected.\"\n"
          ]
        },
        {
          "name": "stdout",
          "output_type": "stream",
          "text": [
            "2021-10-25 00:00:00\n",
            "0:\tlearn: 0.0107746\ttest: 0.0119701\tbest: 0.0119701 (0)\ttotal: 17ms\tremaining: 1.68s\n",
            "1:\tlearn: 0.0106361\ttest: 0.0119927\tbest: 0.0119701 (0)\ttotal: 33.5ms\tremaining: 1.64s\n",
            "2:\tlearn: 0.0105067\ttest: 0.0120031\tbest: 0.0119701 (0)\ttotal: 49.3ms\tremaining: 1.59s\n",
            "3:\tlearn: 0.0104047\ttest: 0.0120456\tbest: 0.0119701 (0)\ttotal: 65.5ms\tremaining: 1.57s\n",
            "4:\tlearn: 0.0102762\ttest: 0.0120960\tbest: 0.0119701 (0)\ttotal: 81.7ms\tremaining: 1.55s\n",
            "5:\tlearn: 0.0101762\ttest: 0.0121424\tbest: 0.0119701 (0)\ttotal: 97.4ms\tremaining: 1.52s\n",
            "6:\tlearn: 0.0100870\ttest: 0.0121500\tbest: 0.0119701 (0)\ttotal: 120ms\tremaining: 1.6s\n",
            "7:\tlearn: 0.0099963\ttest: 0.0121918\tbest: 0.0119701 (0)\ttotal: 135ms\tremaining: 1.56s\n",
            "8:\tlearn: 0.0099035\ttest: 0.0122083\tbest: 0.0119701 (0)\ttotal: 151ms\tremaining: 1.52s\n",
            "9:\tlearn: 0.0098258\ttest: 0.0122284\tbest: 0.0119701 (0)\ttotal: 166ms\tremaining: 1.49s\n",
            "10:\tlearn: 0.0097544\ttest: 0.0122453\tbest: 0.0119701 (0)\ttotal: 181ms\tremaining: 1.47s\n",
            "Stopped by overfitting detector  (10 iterations wait)\n",
            "\n",
            "bestTest = 0.01197005036\n",
            "bestIteration = 0\n",
            "\n",
            "Shrink model to first 1 iterations.\n"
          ]
        },
        {
          "name": "stderr",
          "output_type": "stream",
          "text": [
            "/usr/local/lib/python3.7/dist-packages/pypfopt/efficient_frontier/efficient_frontier.py:258: UserWarning: max_sharpe transforms the optimization problem so additional objectives may not work as expected.\n",
            "  \"max_sharpe transforms the optimization problem so additional objectives may not work as expected.\"\n"
          ]
        },
        {
          "name": "stdout",
          "output_type": "stream",
          "text": [
            "2021-10-26 00:00:00\n",
            "0:\tlearn: 0.0104338\ttest: 0.0117606\tbest: 0.0117606 (0)\ttotal: 16ms\tremaining: 1.59s\n",
            "1:\tlearn: 0.0102837\ttest: 0.0117796\tbest: 0.0117606 (0)\ttotal: 32.5ms\tremaining: 1.59s\n",
            "2:\tlearn: 0.0101522\ttest: 0.0118091\tbest: 0.0117606 (0)\ttotal: 48.1ms\tremaining: 1.56s\n",
            "3:\tlearn: 0.0100303\ttest: 0.0118327\tbest: 0.0117606 (0)\ttotal: 64.6ms\tremaining: 1.55s\n",
            "4:\tlearn: 0.0099690\ttest: 0.0118578\tbest: 0.0117606 (0)\ttotal: 69.5ms\tremaining: 1.32s\n",
            "5:\tlearn: 0.0098780\ttest: 0.0119011\tbest: 0.0117606 (0)\ttotal: 84.8ms\tremaining: 1.33s\n",
            "6:\tlearn: 0.0097760\ttest: 0.0119678\tbest: 0.0117606 (0)\ttotal: 100ms\tremaining: 1.33s\n",
            "7:\tlearn: 0.0096884\ttest: 0.0120141\tbest: 0.0117606 (0)\ttotal: 116ms\tremaining: 1.33s\n",
            "8:\tlearn: 0.0096195\ttest: 0.0120726\tbest: 0.0117606 (0)\ttotal: 132ms\tremaining: 1.33s\n",
            "9:\tlearn: 0.0095653\ttest: 0.0120992\tbest: 0.0117606 (0)\ttotal: 147ms\tremaining: 1.32s\n",
            "10:\tlearn: 0.0094958\ttest: 0.0121373\tbest: 0.0117606 (0)\ttotal: 163ms\tremaining: 1.32s\n",
            "Stopped by overfitting detector  (10 iterations wait)\n",
            "\n",
            "bestTest = 0.01176055337\n",
            "bestIteration = 0\n",
            "\n",
            "Shrink model to first 1 iterations.\n"
          ]
        },
        {
          "name": "stderr",
          "output_type": "stream",
          "text": [
            "/usr/local/lib/python3.7/dist-packages/pypfopt/efficient_frontier/efficient_frontier.py:258: UserWarning: max_sharpe transforms the optimization problem so additional objectives may not work as expected.\n",
            "  \"max_sharpe transforms the optimization problem so additional objectives may not work as expected.\"\n"
          ]
        },
        {
          "name": "stdout",
          "output_type": "stream",
          "text": [
            "2021-10-27 00:00:00\n",
            "0:\tlearn: 0.0112377\ttest: 0.0115368\tbest: 0.0115368 (0)\ttotal: 16.1ms\tremaining: 1.6s\n",
            "1:\tlearn: 0.0110904\ttest: 0.0116855\tbest: 0.0115368 (0)\ttotal: 32.3ms\tremaining: 1.58s\n",
            "2:\tlearn: 0.0109225\ttest: 0.0118316\tbest: 0.0115368 (0)\ttotal: 50.1ms\tremaining: 1.62s\n",
            "3:\tlearn: 0.0108215\ttest: 0.0119402\tbest: 0.0115368 (0)\ttotal: 66.6ms\tremaining: 1.6s\n",
            "4:\tlearn: 0.0106624\ttest: 0.0120870\tbest: 0.0115368 (0)\ttotal: 82ms\tremaining: 1.56s\n",
            "5:\tlearn: 0.0105525\ttest: 0.0121886\tbest: 0.0115368 (0)\ttotal: 100ms\tremaining: 1.57s\n",
            "6:\tlearn: 0.0104652\ttest: 0.0123275\tbest: 0.0115368 (0)\ttotal: 124ms\tremaining: 1.65s\n",
            "7:\tlearn: 0.0103793\ttest: 0.0123742\tbest: 0.0115368 (0)\ttotal: 140ms\tremaining: 1.61s\n",
            "8:\tlearn: 0.0103009\ttest: 0.0124324\tbest: 0.0115368 (0)\ttotal: 155ms\tremaining: 1.57s\n",
            "9:\tlearn: 0.0102277\ttest: 0.0125129\tbest: 0.0115368 (0)\ttotal: 171ms\tremaining: 1.54s\n",
            "10:\tlearn: 0.0101705\ttest: 0.0125479\tbest: 0.0115368 (0)\ttotal: 186ms\tremaining: 1.51s\n",
            "Stopped by overfitting detector  (10 iterations wait)\n",
            "\n",
            "bestTest = 0.01153684936\n",
            "bestIteration = 0\n",
            "\n",
            "Shrink model to first 1 iterations.\n"
          ]
        },
        {
          "name": "stderr",
          "output_type": "stream",
          "text": [
            "/usr/local/lib/python3.7/dist-packages/pypfopt/efficient_frontier/efficient_frontier.py:258: UserWarning: max_sharpe transforms the optimization problem so additional objectives may not work as expected.\n",
            "  \"max_sharpe transforms the optimization problem so additional objectives may not work as expected.\"\n"
          ]
        },
        {
          "name": "stdout",
          "output_type": "stream",
          "text": [
            "2021-10-28 00:00:00\n",
            "0:\tlearn: 0.0117986\ttest: 0.0112938\tbest: 0.0112938 (0)\ttotal: 16.8ms\tremaining: 1.66s\n",
            "1:\tlearn: 0.0115885\ttest: 0.0113175\tbest: 0.0112938 (0)\ttotal: 34.8ms\tremaining: 1.71s\n",
            "2:\tlearn: 0.0113988\ttest: 0.0113382\tbest: 0.0112938 (0)\ttotal: 51.5ms\tremaining: 1.66s\n",
            "3:\tlearn: 0.0112171\ttest: 0.0113710\tbest: 0.0112938 (0)\ttotal: 68.1ms\tremaining: 1.63s\n",
            "4:\tlearn: 0.0110751\ttest: 0.0114001\tbest: 0.0112938 (0)\ttotal: 83ms\tremaining: 1.58s\n",
            "5:\tlearn: 0.0109193\ttest: 0.0114390\tbest: 0.0112938 (0)\ttotal: 98.9ms\tremaining: 1.55s\n",
            "6:\tlearn: 0.0107948\ttest: 0.0114753\tbest: 0.0112938 (0)\ttotal: 118ms\tremaining: 1.57s\n",
            "7:\tlearn: 0.0106769\ttest: 0.0114935\tbest: 0.0112938 (0)\ttotal: 134ms\tremaining: 1.54s\n",
            "8:\tlearn: 0.0105628\ttest: 0.0115210\tbest: 0.0112938 (0)\ttotal: 162ms\tremaining: 1.64s\n",
            "9:\tlearn: 0.0104547\ttest: 0.0115256\tbest: 0.0112938 (0)\ttotal: 178ms\tremaining: 1.6s\n",
            "10:\tlearn: 0.0103771\ttest: 0.0115361\tbest: 0.0112938 (0)\ttotal: 198ms\tremaining: 1.6s\n",
            "Stopped by overfitting detector  (10 iterations wait)\n",
            "\n",
            "bestTest = 0.01129383955\n",
            "bestIteration = 0\n",
            "\n",
            "Shrink model to first 1 iterations.\n"
          ]
        },
        {
          "name": "stderr",
          "output_type": "stream",
          "text": [
            "/usr/local/lib/python3.7/dist-packages/pypfopt/efficient_frontier/efficient_frontier.py:258: UserWarning: max_sharpe transforms the optimization problem so additional objectives may not work as expected.\n",
            "  \"max_sharpe transforms the optimization problem so additional objectives may not work as expected.\"\n"
          ]
        },
        {
          "name": "stdout",
          "output_type": "stream",
          "text": [
            "2021-10-29 00:00:00\n",
            "0:\tlearn: 0.0111930\ttest: 0.0116627\tbest: 0.0116627 (0)\ttotal: 16ms\tremaining: 1.58s\n",
            "1:\tlearn: 0.0110753\ttest: 0.0116783\tbest: 0.0116627 (0)\ttotal: 32.4ms\tremaining: 1.58s\n",
            "2:\tlearn: 0.0108935\ttest: 0.0116987\tbest: 0.0116627 (0)\ttotal: 47.6ms\tremaining: 1.54s\n",
            "3:\tlearn: 0.0107543\ttest: 0.0117134\tbest: 0.0116627 (0)\ttotal: 64.1ms\tremaining: 1.54s\n",
            "4:\tlearn: 0.0106248\ttest: 0.0117543\tbest: 0.0116627 (0)\ttotal: 79.7ms\tremaining: 1.51s\n",
            "5:\tlearn: 0.0105148\ttest: 0.0117734\tbest: 0.0116627 (0)\ttotal: 95.3ms\tremaining: 1.49s\n",
            "6:\tlearn: 0.0103961\ttest: 0.0118131\tbest: 0.0116627 (0)\ttotal: 116ms\tremaining: 1.54s\n",
            "7:\tlearn: 0.0102846\ttest: 0.0118452\tbest: 0.0116627 (0)\ttotal: 136ms\tremaining: 1.57s\n",
            "8:\tlearn: 0.0102055\ttest: 0.0118547\tbest: 0.0116627 (0)\ttotal: 152ms\tremaining: 1.53s\n",
            "9:\tlearn: 0.0101264\ttest: 0.0118736\tbest: 0.0116627 (0)\ttotal: 167ms\tremaining: 1.5s\n",
            "10:\tlearn: 0.0100395\ttest: 0.0119020\tbest: 0.0116627 (0)\ttotal: 182ms\tremaining: 1.47s\n",
            "Stopped by overfitting detector  (10 iterations wait)\n",
            "\n",
            "bestTest = 0.01166265738\n",
            "bestIteration = 0\n",
            "\n",
            "Shrink model to first 1 iterations.\n"
          ]
        },
        {
          "name": "stderr",
          "output_type": "stream",
          "text": [
            "/usr/local/lib/python3.7/dist-packages/pypfopt/efficient_frontier/efficient_frontier.py:258: UserWarning: max_sharpe transforms the optimization problem so additional objectives may not work as expected.\n",
            "  \"max_sharpe transforms the optimization problem so additional objectives may not work as expected.\"\n"
          ]
        },
        {
          "name": "stdout",
          "output_type": "stream",
          "text": [
            "2021-11-01 00:00:00\n",
            "0:\tlearn: 0.0112918\ttest: 0.0118769\tbest: 0.0118769 (0)\ttotal: 16.4ms\tremaining: 1.62s\n",
            "1:\tlearn: 0.0111356\ttest: 0.0119559\tbest: 0.0118769 (0)\ttotal: 33.5ms\tremaining: 1.64s\n",
            "2:\tlearn: 0.0109946\ttest: 0.0119924\tbest: 0.0118769 (0)\ttotal: 49.2ms\tremaining: 1.59s\n",
            "3:\tlearn: 0.0108941\ttest: 0.0119936\tbest: 0.0118769 (0)\ttotal: 65.1ms\tremaining: 1.56s\n",
            "4:\tlearn: 0.0107680\ttest: 0.0120697\tbest: 0.0118769 (0)\ttotal: 80.5ms\tremaining: 1.53s\n",
            "5:\tlearn: 0.0106827\ttest: 0.0120890\tbest: 0.0118769 (0)\ttotal: 97.5ms\tremaining: 1.53s\n",
            "6:\tlearn: 0.0106062\ttest: 0.0121203\tbest: 0.0118769 (0)\ttotal: 113ms\tremaining: 1.5s\n",
            "7:\tlearn: 0.0105271\ttest: 0.0121726\tbest: 0.0118769 (0)\ttotal: 128ms\tremaining: 1.48s\n",
            "8:\tlearn: 0.0104241\ttest: 0.0122063\tbest: 0.0118769 (0)\ttotal: 143ms\tremaining: 1.45s\n",
            "9:\tlearn: 0.0103448\ttest: 0.0122199\tbest: 0.0118769 (0)\ttotal: 159ms\tremaining: 1.43s\n",
            "10:\tlearn: 0.0102793\ttest: 0.0122333\tbest: 0.0118769 (0)\ttotal: 174ms\tremaining: 1.41s\n",
            "Stopped by overfitting detector  (10 iterations wait)\n",
            "\n",
            "bestTest = 0.01187687295\n",
            "bestIteration = 0\n",
            "\n",
            "Shrink model to first 1 iterations.\n"
          ]
        },
        {
          "name": "stderr",
          "output_type": "stream",
          "text": [
            "/usr/local/lib/python3.7/dist-packages/pypfopt/efficient_frontier/efficient_frontier.py:258: UserWarning: max_sharpe transforms the optimization problem so additional objectives may not work as expected.\n",
            "  \"max_sharpe transforms the optimization problem so additional objectives may not work as expected.\"\n"
          ]
        },
        {
          "name": "stdout",
          "output_type": "stream",
          "text": [
            "2021-11-02 00:00:00\n",
            "0:\tlearn: 0.0107568\ttest: 0.0121068\tbest: 0.0121068 (0)\ttotal: 15.9ms\tremaining: 1.58s\n",
            "1:\tlearn: 0.0106053\ttest: 0.0121406\tbest: 0.0121068 (0)\ttotal: 31.8ms\tremaining: 1.56s\n",
            "2:\tlearn: 0.0104454\ttest: 0.0121871\tbest: 0.0121068 (0)\ttotal: 47.8ms\tremaining: 1.55s\n",
            "3:\tlearn: 0.0103212\ttest: 0.0122154\tbest: 0.0121068 (0)\ttotal: 63.8ms\tremaining: 1.53s\n",
            "4:\tlearn: 0.0102037\ttest: 0.0122762\tbest: 0.0121068 (0)\ttotal: 79ms\tremaining: 1.5s\n",
            "5:\tlearn: 0.0100918\ttest: 0.0123069\tbest: 0.0121068 (0)\ttotal: 94.2ms\tremaining: 1.48s\n",
            "6:\tlearn: 0.0099854\ttest: 0.0123897\tbest: 0.0121068 (0)\ttotal: 110ms\tremaining: 1.46s\n",
            "7:\tlearn: 0.0099006\ttest: 0.0124245\tbest: 0.0121068 (0)\ttotal: 126ms\tremaining: 1.45s\n",
            "8:\tlearn: 0.0098146\ttest: 0.0124512\tbest: 0.0121068 (0)\ttotal: 141ms\tremaining: 1.43s\n",
            "9:\tlearn: 0.0097509\ttest: 0.0124734\tbest: 0.0121068 (0)\ttotal: 157ms\tremaining: 1.41s\n",
            "10:\tlearn: 0.0096619\ttest: 0.0125138\tbest: 0.0121068 (0)\ttotal: 172ms\tremaining: 1.39s\n",
            "Stopped by overfitting detector  (10 iterations wait)\n",
            "\n",
            "bestTest = 0.01210684241\n",
            "bestIteration = 0\n",
            "\n",
            "Shrink model to first 1 iterations.\n"
          ]
        },
        {
          "name": "stderr",
          "output_type": "stream",
          "text": [
            "/usr/local/lib/python3.7/dist-packages/pypfopt/efficient_frontier/efficient_frontier.py:258: UserWarning: max_sharpe transforms the optimization problem so additional objectives may not work as expected.\n",
            "  \"max_sharpe transforms the optimization problem so additional objectives may not work as expected.\"\n"
          ]
        },
        {
          "name": "stdout",
          "output_type": "stream",
          "text": [
            "2021-11-03 00:00:00\n",
            "0:\tlearn: 0.0120608\ttest: 0.0114141\tbest: 0.0114141 (0)\ttotal: 16.4ms\tremaining: 1.62s\n",
            "1:\tlearn: 0.0118582\ttest: 0.0114311\tbest: 0.0114141 (0)\ttotal: 33.2ms\tremaining: 1.63s\n",
            "2:\tlearn: 0.0116953\ttest: 0.0114519\tbest: 0.0114141 (0)\ttotal: 48.6ms\tremaining: 1.57s\n",
            "3:\tlearn: 0.0115617\ttest: 0.0114628\tbest: 0.0114141 (0)\ttotal: 64.4ms\tremaining: 1.54s\n",
            "4:\tlearn: 0.0114344\ttest: 0.0114892\tbest: 0.0114141 (0)\ttotal: 79.5ms\tremaining: 1.51s\n",
            "5:\tlearn: 0.0112800\ttest: 0.0115295\tbest: 0.0114141 (0)\ttotal: 94.7ms\tremaining: 1.48s\n",
            "6:\tlearn: 0.0111230\ttest: 0.0115356\tbest: 0.0114141 (0)\ttotal: 110ms\tremaining: 1.46s\n",
            "7:\tlearn: 0.0110061\ttest: 0.0115615\tbest: 0.0114141 (0)\ttotal: 125ms\tremaining: 1.44s\n",
            "8:\tlearn: 0.0108964\ttest: 0.0115746\tbest: 0.0114141 (0)\ttotal: 141ms\tremaining: 1.42s\n",
            "9:\tlearn: 0.0107976\ttest: 0.0116027\tbest: 0.0114141 (0)\ttotal: 158ms\tremaining: 1.42s\n",
            "10:\tlearn: 0.0107348\ttest: 0.0116287\tbest: 0.0114141 (0)\ttotal: 173ms\tremaining: 1.4s\n",
            "Stopped by overfitting detector  (10 iterations wait)\n",
            "\n",
            "bestTest = 0.01141411736\n",
            "bestIteration = 0\n",
            "\n",
            "Shrink model to first 1 iterations.\n"
          ]
        },
        {
          "name": "stderr",
          "output_type": "stream",
          "text": [
            "/usr/local/lib/python3.7/dist-packages/pypfopt/efficient_frontier/efficient_frontier.py:258: UserWarning: max_sharpe transforms the optimization problem so additional objectives may not work as expected.\n",
            "  \"max_sharpe transforms the optimization problem so additional objectives may not work as expected.\"\n"
          ]
        },
        {
          "name": "stdout",
          "output_type": "stream",
          "text": [
            "2021-11-04 00:00:00\n",
            "0:\tlearn: 0.0116183\ttest: 0.0119496\tbest: 0.0119496 (0)\ttotal: 15.8ms\tremaining: 1.57s\n",
            "1:\tlearn: 0.0114499\ttest: 0.0119945\tbest: 0.0119496 (0)\ttotal: 32.9ms\tremaining: 1.61s\n",
            "2:\tlearn: 0.0112982\ttest: 0.0120259\tbest: 0.0119496 (0)\ttotal: 48.2ms\tremaining: 1.56s\n",
            "3:\tlearn: 0.0111656\ttest: 0.0120745\tbest: 0.0119496 (0)\ttotal: 64.3ms\tremaining: 1.54s\n",
            "4:\tlearn: 0.0110442\ttest: 0.0121069\tbest: 0.0119496 (0)\ttotal: 79.3ms\tremaining: 1.51s\n",
            "5:\tlearn: 0.0109374\ttest: 0.0121450\tbest: 0.0119496 (0)\ttotal: 94.2ms\tremaining: 1.48s\n",
            "6:\tlearn: 0.0108179\ttest: 0.0121933\tbest: 0.0119496 (0)\ttotal: 110ms\tremaining: 1.46s\n",
            "7:\tlearn: 0.0107395\ttest: 0.0122242\tbest: 0.0119496 (0)\ttotal: 125ms\tremaining: 1.44s\n",
            "8:\tlearn: 0.0106521\ttest: 0.0122774\tbest: 0.0119496 (0)\ttotal: 141ms\tremaining: 1.43s\n",
            "9:\tlearn: 0.0105599\ttest: 0.0123394\tbest: 0.0119496 (0)\ttotal: 157ms\tremaining: 1.41s\n",
            "10:\tlearn: 0.0104710\ttest: 0.0123428\tbest: 0.0119496 (0)\ttotal: 172ms\tremaining: 1.39s\n",
            "Stopped by overfitting detector  (10 iterations wait)\n",
            "\n",
            "bestTest = 0.01194956904\n",
            "bestIteration = 0\n",
            "\n",
            "Shrink model to first 1 iterations.\n"
          ]
        },
        {
          "name": "stderr",
          "output_type": "stream",
          "text": [
            "/usr/local/lib/python3.7/dist-packages/pypfopt/efficient_frontier/efficient_frontier.py:258: UserWarning: max_sharpe transforms the optimization problem so additional objectives may not work as expected.\n",
            "  \"max_sharpe transforms the optimization problem so additional objectives may not work as expected.\"\n"
          ]
        },
        {
          "name": "stdout",
          "output_type": "stream",
          "text": [
            "2021-11-05 00:00:00\n",
            "0:\tlearn: 0.0116700\ttest: 0.0117563\tbest: 0.0117563 (0)\ttotal: 16ms\tremaining: 1.59s\n",
            "1:\tlearn: 0.0115199\ttest: 0.0117619\tbest: 0.0117563 (0)\ttotal: 33.5ms\tremaining: 1.64s\n",
            "2:\tlearn: 0.0113743\ttest: 0.0117901\tbest: 0.0117563 (0)\ttotal: 48.5ms\tremaining: 1.57s\n",
            "3:\tlearn: 0.0112734\ttest: 0.0118220\tbest: 0.0117563 (0)\ttotal: 67.3ms\tremaining: 1.61s\n",
            "4:\tlearn: 0.0111602\ttest: 0.0118432\tbest: 0.0117563 (0)\ttotal: 82.6ms\tremaining: 1.57s\n",
            "5:\tlearn: 0.0110647\ttest: 0.0119013\tbest: 0.0117563 (0)\ttotal: 97.7ms\tremaining: 1.53s\n",
            "6:\tlearn: 0.0109579\ttest: 0.0119262\tbest: 0.0117563 (0)\ttotal: 113ms\tremaining: 1.5s\n",
            "7:\tlearn: 0.0108847\ttest: 0.0119270\tbest: 0.0117563 (0)\ttotal: 129ms\tremaining: 1.48s\n",
            "8:\tlearn: 0.0108065\ttest: 0.0119548\tbest: 0.0117563 (0)\ttotal: 144ms\tremaining: 1.46s\n",
            "9:\tlearn: 0.0106996\ttest: 0.0119793\tbest: 0.0117563 (0)\ttotal: 160ms\tremaining: 1.44s\n",
            "10:\tlearn: 0.0106043\ttest: 0.0119994\tbest: 0.0117563 (0)\ttotal: 175ms\tremaining: 1.42s\n",
            "Stopped by overfitting detector  (10 iterations wait)\n",
            "\n",
            "bestTest = 0.01175634394\n",
            "bestIteration = 0\n",
            "\n",
            "Shrink model to first 1 iterations.\n"
          ]
        },
        {
          "name": "stderr",
          "output_type": "stream",
          "text": [
            "/usr/local/lib/python3.7/dist-packages/pypfopt/efficient_frontier/efficient_frontier.py:258: UserWarning: max_sharpe transforms the optimization problem so additional objectives may not work as expected.\n",
            "  \"max_sharpe transforms the optimization problem so additional objectives may not work as expected.\"\n"
          ]
        },
        {
          "name": "stdout",
          "output_type": "stream",
          "text": [
            "2021-11-08 00:00:00\n",
            "0:\tlearn: 0.0121175\ttest: 0.0116460\tbest: 0.0116460 (0)\ttotal: 16.1ms\tremaining: 1.59s\n",
            "1:\tlearn: 0.0119178\ttest: 0.0116563\tbest: 0.0116460 (0)\ttotal: 31.6ms\tremaining: 1.55s\n",
            "2:\tlearn: 0.0117204\ttest: 0.0116848\tbest: 0.0116460 (0)\ttotal: 48.5ms\tremaining: 1.57s\n",
            "3:\tlearn: 0.0116123\ttest: 0.0117037\tbest: 0.0116460 (0)\ttotal: 65.9ms\tremaining: 1.58s\n",
            "4:\tlearn: 0.0114842\ttest: 0.0117145\tbest: 0.0116460 (0)\ttotal: 80.5ms\tremaining: 1.53s\n",
            "5:\tlearn: 0.0113379\ttest: 0.0117430\tbest: 0.0116460 (0)\ttotal: 95.6ms\tremaining: 1.5s\n",
            "6:\tlearn: 0.0112318\ttest: 0.0117873\tbest: 0.0116460 (0)\ttotal: 111ms\tremaining: 1.47s\n",
            "7:\tlearn: 0.0111059\ttest: 0.0118722\tbest: 0.0116460 (0)\ttotal: 127ms\tremaining: 1.46s\n",
            "8:\tlearn: 0.0110034\ttest: 0.0118998\tbest: 0.0116460 (0)\ttotal: 142ms\tremaining: 1.44s\n",
            "9:\tlearn: 0.0109176\ttest: 0.0119025\tbest: 0.0116460 (0)\ttotal: 158ms\tremaining: 1.42s\n",
            "10:\tlearn: 0.0108292\ttest: 0.0119345\tbest: 0.0116460 (0)\ttotal: 173ms\tremaining: 1.4s\n",
            "Stopped by overfitting detector  (10 iterations wait)\n",
            "\n",
            "bestTest = 0.01164596493\n",
            "bestIteration = 0\n",
            "\n",
            "Shrink model to first 1 iterations.\n"
          ]
        },
        {
          "name": "stderr",
          "output_type": "stream",
          "text": [
            "/usr/local/lib/python3.7/dist-packages/pypfopt/efficient_frontier/efficient_frontier.py:258: UserWarning: max_sharpe transforms the optimization problem so additional objectives may not work as expected.\n",
            "  \"max_sharpe transforms the optimization problem so additional objectives may not work as expected.\"\n"
          ]
        },
        {
          "name": "stdout",
          "output_type": "stream",
          "text": [
            "2021-11-09 00:00:00\n",
            "0:\tlearn: 0.0120063\ttest: 0.0115612\tbest: 0.0115612 (0)\ttotal: 15.9ms\tremaining: 1.57s\n",
            "1:\tlearn: 0.0117864\ttest: 0.0116049\tbest: 0.0115612 (0)\ttotal: 32.2ms\tremaining: 1.58s\n",
            "2:\tlearn: 0.0115767\ttest: 0.0116588\tbest: 0.0115612 (0)\ttotal: 47.8ms\tremaining: 1.54s\n",
            "3:\tlearn: 0.0114208\ttest: 0.0117114\tbest: 0.0115612 (0)\ttotal: 64.5ms\tremaining: 1.55s\n",
            "4:\tlearn: 0.0112630\ttest: 0.0117963\tbest: 0.0115612 (0)\ttotal: 80.1ms\tremaining: 1.52s\n",
            "5:\tlearn: 0.0110962\ttest: 0.0118635\tbest: 0.0115612 (0)\ttotal: 96.2ms\tremaining: 1.51s\n",
            "6:\tlearn: 0.0109712\ttest: 0.0119407\tbest: 0.0115612 (0)\ttotal: 112ms\tremaining: 1.49s\n",
            "7:\tlearn: 0.0108435\ttest: 0.0119904\tbest: 0.0115612 (0)\ttotal: 129ms\tremaining: 1.48s\n",
            "8:\tlearn: 0.0107508\ttest: 0.0120453\tbest: 0.0115612 (0)\ttotal: 144ms\tremaining: 1.46s\n",
            "9:\tlearn: 0.0106515\ttest: 0.0120979\tbest: 0.0115612 (0)\ttotal: 160ms\tremaining: 1.44s\n",
            "10:\tlearn: 0.0105336\ttest: 0.0121464\tbest: 0.0115612 (0)\ttotal: 176ms\tremaining: 1.42s\n",
            "Stopped by overfitting detector  (10 iterations wait)\n",
            "\n",
            "bestTest = 0.01156118573\n",
            "bestIteration = 0\n",
            "\n",
            "Shrink model to first 1 iterations.\n"
          ]
        },
        {
          "name": "stderr",
          "output_type": "stream",
          "text": [
            "/usr/local/lib/python3.7/dist-packages/pypfopt/efficient_frontier/efficient_frontier.py:258: UserWarning: max_sharpe transforms the optimization problem so additional objectives may not work as expected.\n",
            "  \"max_sharpe transforms the optimization problem so additional objectives may not work as expected.\"\n"
          ]
        },
        {
          "name": "stdout",
          "output_type": "stream",
          "text": [
            "2021-11-10 00:00:00\n",
            "0:\tlearn: 0.0115507\ttest: 0.0116864\tbest: 0.0116864 (0)\ttotal: 15.6ms\tremaining: 1.54s\n",
            "1:\tlearn: 0.0114235\ttest: 0.0117789\tbest: 0.0116864 (0)\ttotal: 32.1ms\tremaining: 1.57s\n",
            "2:\tlearn: 0.0113019\ttest: 0.0118839\tbest: 0.0116864 (0)\ttotal: 47.2ms\tremaining: 1.53s\n",
            "3:\tlearn: 0.0111838\ttest: 0.0119689\tbest: 0.0116864 (0)\ttotal: 65ms\tremaining: 1.56s\n",
            "4:\tlearn: 0.0110501\ttest: 0.0121040\tbest: 0.0116864 (0)\ttotal: 80ms\tremaining: 1.52s\n",
            "5:\tlearn: 0.0109409\ttest: 0.0122214\tbest: 0.0116864 (0)\ttotal: 95.5ms\tremaining: 1.5s\n",
            "6:\tlearn: 0.0108650\ttest: 0.0123381\tbest: 0.0116864 (0)\ttotal: 111ms\tremaining: 1.47s\n",
            "7:\tlearn: 0.0108029\ttest: 0.0124401\tbest: 0.0116864 (0)\ttotal: 126ms\tremaining: 1.45s\n",
            "8:\tlearn: 0.0107157\ttest: 0.0125212\tbest: 0.0116864 (0)\ttotal: 142ms\tremaining: 1.43s\n",
            "9:\tlearn: 0.0106376\ttest: 0.0126111\tbest: 0.0116864 (0)\ttotal: 157ms\tremaining: 1.42s\n",
            "10:\tlearn: 0.0105703\ttest: 0.0126729\tbest: 0.0116864 (0)\ttotal: 176ms\tremaining: 1.42s\n",
            "Stopped by overfitting detector  (10 iterations wait)\n",
            "\n",
            "bestTest = 0.01168642825\n",
            "bestIteration = 0\n",
            "\n",
            "Shrink model to first 1 iterations.\n"
          ]
        },
        {
          "name": "stderr",
          "output_type": "stream",
          "text": [
            "/usr/local/lib/python3.7/dist-packages/pypfopt/efficient_frontier/efficient_frontier.py:258: UserWarning: max_sharpe transforms the optimization problem so additional objectives may not work as expected.\n",
            "  \"max_sharpe transforms the optimization problem so additional objectives may not work as expected.\"\n"
          ]
        },
        {
          "name": "stdout",
          "output_type": "stream",
          "text": [
            "2021-11-11 00:00:00\n",
            "0:\tlearn: 0.0115170\ttest: 0.0117362\tbest: 0.0117362 (0)\ttotal: 15.8ms\tremaining: 1.56s\n",
            "1:\tlearn: 0.0113128\ttest: 0.0117561\tbest: 0.0117362 (0)\ttotal: 31.6ms\tremaining: 1.55s\n",
            "2:\tlearn: 0.0111589\ttest: 0.0117826\tbest: 0.0117362 (0)\ttotal: 47.2ms\tremaining: 1.52s\n",
            "3:\tlearn: 0.0110122\ttest: 0.0117973\tbest: 0.0117362 (0)\ttotal: 63.6ms\tremaining: 1.53s\n",
            "4:\tlearn: 0.0108990\ttest: 0.0118226\tbest: 0.0117362 (0)\ttotal: 79ms\tremaining: 1.5s\n",
            "5:\tlearn: 0.0108040\ttest: 0.0118389\tbest: 0.0117362 (0)\ttotal: 94.7ms\tremaining: 1.48s\n",
            "6:\tlearn: 0.0106587\ttest: 0.0118884\tbest: 0.0117362 (0)\ttotal: 111ms\tremaining: 1.47s\n",
            "7:\tlearn: 0.0105549\ttest: 0.0119072\tbest: 0.0117362 (0)\ttotal: 127ms\tremaining: 1.46s\n",
            "8:\tlearn: 0.0104635\ttest: 0.0119481\tbest: 0.0117362 (0)\ttotal: 142ms\tremaining: 1.44s\n",
            "9:\tlearn: 0.0103816\ttest: 0.0119688\tbest: 0.0117362 (0)\ttotal: 158ms\tremaining: 1.42s\n",
            "10:\tlearn: 0.0103219\ttest: 0.0119862\tbest: 0.0117362 (0)\ttotal: 174ms\tremaining: 1.4s\n",
            "Stopped by overfitting detector  (10 iterations wait)\n",
            "\n",
            "bestTest = 0.01173624252\n",
            "bestIteration = 0\n",
            "\n",
            "Shrink model to first 1 iterations.\n"
          ]
        },
        {
          "name": "stderr",
          "output_type": "stream",
          "text": [
            "/usr/local/lib/python3.7/dist-packages/pypfopt/efficient_frontier/efficient_frontier.py:258: UserWarning: max_sharpe transforms the optimization problem so additional objectives may not work as expected.\n",
            "  \"max_sharpe transforms the optimization problem so additional objectives may not work as expected.\"\n",
            "/usr/local/lib/python3.7/dist-packages/cvxpy/problems/problem.py:1334: UserWarning: Solution may be inaccurate. Try another solver, adjusting the solver settings, or solve with verbose=True for more information.\n",
            "  \"Solution may be inaccurate. Try another solver, \"\n"
          ]
        },
        {
          "name": "stdout",
          "output_type": "stream",
          "text": [
            "2021-11-12 00:00:00\n",
            "0:\tlearn: 0.0115389\ttest: 0.0115754\tbest: 0.0115754 (0)\ttotal: 15.9ms\tremaining: 1.58s\n",
            "1:\tlearn: 0.0113435\ttest: 0.0116016\tbest: 0.0115754 (0)\ttotal: 34.3ms\tremaining: 1.68s\n",
            "2:\tlearn: 0.0111559\ttest: 0.0116240\tbest: 0.0115754 (0)\ttotal: 51.7ms\tremaining: 1.67s\n",
            "3:\tlearn: 0.0110050\ttest: 0.0116478\tbest: 0.0115754 (0)\ttotal: 67.4ms\tremaining: 1.62s\n",
            "4:\tlearn: 0.0108809\ttest: 0.0116741\tbest: 0.0115754 (0)\ttotal: 82.5ms\tremaining: 1.57s\n",
            "5:\tlearn: 0.0107727\ttest: 0.0116974\tbest: 0.0115754 (0)\ttotal: 98ms\tremaining: 1.53s\n",
            "6:\tlearn: 0.0106467\ttest: 0.0117394\tbest: 0.0115754 (0)\ttotal: 114ms\tremaining: 1.51s\n",
            "7:\tlearn: 0.0105706\ttest: 0.0117507\tbest: 0.0115754 (0)\ttotal: 132ms\tremaining: 1.51s\n",
            "8:\tlearn: 0.0104922\ttest: 0.0117839\tbest: 0.0115754 (0)\ttotal: 147ms\tremaining: 1.48s\n",
            "9:\tlearn: 0.0104105\ttest: 0.0118078\tbest: 0.0115754 (0)\ttotal: 162ms\tremaining: 1.46s\n",
            "10:\tlearn: 0.0103298\ttest: 0.0118172\tbest: 0.0115754 (0)\ttotal: 178ms\tremaining: 1.44s\n",
            "Stopped by overfitting detector  (10 iterations wait)\n",
            "\n",
            "bestTest = 0.01157538721\n",
            "bestIteration = 0\n",
            "\n",
            "Shrink model to first 1 iterations.\n"
          ]
        },
        {
          "name": "stderr",
          "output_type": "stream",
          "text": [
            "/usr/local/lib/python3.7/dist-packages/pypfopt/efficient_frontier/efficient_frontier.py:258: UserWarning: max_sharpe transforms the optimization problem so additional objectives may not work as expected.\n",
            "  \"max_sharpe transforms the optimization problem so additional objectives may not work as expected.\"\n"
          ]
        },
        {
          "name": "stdout",
          "output_type": "stream",
          "text": [
            "2021-11-15 00:00:00\n",
            "0:\tlearn: 0.0111891\ttest: 0.0119176\tbest: 0.0119176 (0)\ttotal: 16.4ms\tremaining: 1.62s\n",
            "1:\tlearn: 0.0110665\ttest: 0.0119691\tbest: 0.0119176 (0)\ttotal: 32.5ms\tremaining: 1.59s\n",
            "2:\tlearn: 0.0109572\ttest: 0.0119958\tbest: 0.0119176 (0)\ttotal: 48.1ms\tremaining: 1.55s\n",
            "3:\tlearn: 0.0108673\ttest: 0.0120159\tbest: 0.0119176 (0)\ttotal: 67.4ms\tremaining: 1.62s\n",
            "4:\tlearn: 0.0107626\ttest: 0.0120599\tbest: 0.0119176 (0)\ttotal: 83.1ms\tremaining: 1.58s\n",
            "5:\tlearn: 0.0106726\ttest: 0.0121064\tbest: 0.0119176 (0)\ttotal: 99.1ms\tremaining: 1.55s\n",
            "6:\tlearn: 0.0105912\ttest: 0.0121446\tbest: 0.0119176 (0)\ttotal: 115ms\tremaining: 1.52s\n",
            "7:\tlearn: 0.0105167\ttest: 0.0121771\tbest: 0.0119176 (0)\ttotal: 131ms\tremaining: 1.5s\n",
            "8:\tlearn: 0.0104410\ttest: 0.0121937\tbest: 0.0119176 (0)\ttotal: 147ms\tremaining: 1.48s\n",
            "9:\tlearn: 0.0103730\ttest: 0.0122027\tbest: 0.0119176 (0)\ttotal: 163ms\tremaining: 1.46s\n",
            "10:\tlearn: 0.0103275\ttest: 0.0122041\tbest: 0.0119176 (0)\ttotal: 177ms\tremaining: 1.44s\n",
            "Stopped by overfitting detector  (10 iterations wait)\n",
            "\n",
            "bestTest = 0.0119176025\n",
            "bestIteration = 0\n",
            "\n",
            "Shrink model to first 1 iterations.\n"
          ]
        },
        {
          "name": "stderr",
          "output_type": "stream",
          "text": [
            "/usr/local/lib/python3.7/dist-packages/pypfopt/efficient_frontier/efficient_frontier.py:258: UserWarning: max_sharpe transforms the optimization problem so additional objectives may not work as expected.\n",
            "  \"max_sharpe transforms the optimization problem so additional objectives may not work as expected.\"\n"
          ]
        },
        {
          "name": "stdout",
          "output_type": "stream",
          "text": [
            "2021-11-16 00:00:00\n",
            "0:\tlearn: 0.0113038\ttest: 0.0119678\tbest: 0.0119678 (0)\ttotal: 16ms\tremaining: 1.58s\n",
            "1:\tlearn: 0.0111831\ttest: 0.0119793\tbest: 0.0119678 (0)\ttotal: 32.8ms\tremaining: 1.61s\n",
            "2:\tlearn: 0.0110869\ttest: 0.0119999\tbest: 0.0119678 (0)\ttotal: 48.5ms\tremaining: 1.57s\n",
            "3:\tlearn: 0.0109799\ttest: 0.0120064\tbest: 0.0119678 (0)\ttotal: 65.1ms\tremaining: 1.56s\n",
            "4:\tlearn: 0.0108787\ttest: 0.0120110\tbest: 0.0119678 (0)\ttotal: 80.3ms\tremaining: 1.53s\n",
            "5:\tlearn: 0.0107798\ttest: 0.0120038\tbest: 0.0119678 (0)\ttotal: 95.7ms\tremaining: 1.5s\n",
            "6:\tlearn: 0.0107104\ttest: 0.0120343\tbest: 0.0119678 (0)\ttotal: 112ms\tremaining: 1.48s\n",
            "7:\tlearn: 0.0106469\ttest: 0.0120438\tbest: 0.0119678 (0)\ttotal: 128ms\tremaining: 1.47s\n",
            "8:\tlearn: 0.0105728\ttest: 0.0120590\tbest: 0.0119678 (0)\ttotal: 143ms\tremaining: 1.45s\n",
            "9:\tlearn: 0.0105144\ttest: 0.0120762\tbest: 0.0119678 (0)\ttotal: 158ms\tremaining: 1.42s\n",
            "10:\tlearn: 0.0104443\ttest: 0.0120912\tbest: 0.0119678 (0)\ttotal: 173ms\tremaining: 1.4s\n",
            "Stopped by overfitting detector  (10 iterations wait)\n",
            "\n",
            "bestTest = 0.0119678164\n",
            "bestIteration = 0\n",
            "\n",
            "Shrink model to first 1 iterations.\n"
          ]
        },
        {
          "name": "stderr",
          "output_type": "stream",
          "text": [
            "/usr/local/lib/python3.7/dist-packages/pypfopt/efficient_frontier/efficient_frontier.py:258: UserWarning: max_sharpe transforms the optimization problem so additional objectives may not work as expected.\n",
            "  \"max_sharpe transforms the optimization problem so additional objectives may not work as expected.\"\n"
          ]
        },
        {
          "name": "stdout",
          "output_type": "stream",
          "text": [
            "2021-11-17 00:00:00\n",
            "0:\tlearn: 0.0119449\ttest: 0.0115097\tbest: 0.0115097 (0)\ttotal: 15.7ms\tremaining: 1.55s\n",
            "1:\tlearn: 0.0118026\ttest: 0.0114984\tbest: 0.0114984 (1)\ttotal: 32.8ms\tremaining: 1.61s\n",
            "2:\tlearn: 0.0116859\ttest: 0.0114991\tbest: 0.0114984 (1)\ttotal: 48.1ms\tremaining: 1.56s\n",
            "3:\tlearn: 0.0115823\ttest: 0.0114918\tbest: 0.0114918 (3)\ttotal: 64.4ms\tremaining: 1.55s\n",
            "4:\tlearn: 0.0114859\ttest: 0.0115276\tbest: 0.0114918 (3)\ttotal: 79.3ms\tremaining: 1.51s\n",
            "5:\tlearn: 0.0113859\ttest: 0.0115649\tbest: 0.0114918 (3)\ttotal: 94ms\tremaining: 1.47s\n",
            "6:\tlearn: 0.0112982\ttest: 0.0115713\tbest: 0.0114918 (3)\ttotal: 110ms\tremaining: 1.46s\n",
            "7:\tlearn: 0.0112083\ttest: 0.0115972\tbest: 0.0114918 (3)\ttotal: 125ms\tremaining: 1.44s\n",
            "8:\tlearn: 0.0111429\ttest: 0.0116030\tbest: 0.0114918 (3)\ttotal: 140ms\tremaining: 1.42s\n",
            "9:\tlearn: 0.0110810\ttest: 0.0116085\tbest: 0.0114918 (3)\ttotal: 160ms\tremaining: 1.44s\n",
            "10:\tlearn: 0.0110158\ttest: 0.0116307\tbest: 0.0114918 (3)\ttotal: 182ms\tremaining: 1.47s\n",
            "11:\tlearn: 0.0109484\ttest: 0.0116618\tbest: 0.0114918 (3)\ttotal: 197ms\tremaining: 1.45s\n",
            "12:\tlearn: 0.0108973\ttest: 0.0116663\tbest: 0.0114918 (3)\ttotal: 215ms\tremaining: 1.44s\n",
            "13:\tlearn: 0.0108287\ttest: 0.0116687\tbest: 0.0114918 (3)\ttotal: 239ms\tremaining: 1.47s\n",
            "Stopped by overfitting detector  (10 iterations wait)\n",
            "\n",
            "bestTest = 0.01149184755\n",
            "bestIteration = 3\n",
            "\n",
            "Shrink model to first 4 iterations.\n"
          ]
        },
        {
          "name": "stderr",
          "output_type": "stream",
          "text": [
            "/usr/local/lib/python3.7/dist-packages/pypfopt/efficient_frontier/efficient_frontier.py:258: UserWarning: max_sharpe transforms the optimization problem so additional objectives may not work as expected.\n",
            "  \"max_sharpe transforms the optimization problem so additional objectives may not work as expected.\"\n"
          ]
        },
        {
          "name": "stdout",
          "output_type": "stream",
          "text": [
            "2021-11-18 00:00:00\n",
            "0:\tlearn: 0.0112988\ttest: 0.0117077\tbest: 0.0117077 (0)\ttotal: 16.4ms\tremaining: 1.63s\n",
            "1:\tlearn: 0.0111185\ttest: 0.0117579\tbest: 0.0117077 (0)\ttotal: 32.3ms\tremaining: 1.58s\n",
            "2:\tlearn: 0.0109484\ttest: 0.0118360\tbest: 0.0117077 (0)\ttotal: 47.8ms\tremaining: 1.54s\n",
            "3:\tlearn: 0.0107803\ttest: 0.0118654\tbest: 0.0117077 (0)\ttotal: 64.4ms\tremaining: 1.54s\n",
            "4:\tlearn: 0.0106443\ttest: 0.0119209\tbest: 0.0117077 (0)\ttotal: 80.4ms\tremaining: 1.53s\n",
            "5:\tlearn: 0.0105288\ttest: 0.0119624\tbest: 0.0117077 (0)\ttotal: 96.2ms\tremaining: 1.51s\n",
            "6:\tlearn: 0.0104031\ttest: 0.0120033\tbest: 0.0117077 (0)\ttotal: 112ms\tremaining: 1.49s\n",
            "7:\tlearn: 0.0102813\ttest: 0.0120397\tbest: 0.0117077 (0)\ttotal: 130ms\tremaining: 1.5s\n",
            "8:\tlearn: 0.0101853\ttest: 0.0120930\tbest: 0.0117077 (0)\ttotal: 146ms\tremaining: 1.47s\n",
            "9:\tlearn: 0.0100752\ttest: 0.0121505\tbest: 0.0117077 (0)\ttotal: 161ms\tremaining: 1.45s\n",
            "10:\tlearn: 0.0100238\ttest: 0.0121971\tbest: 0.0117077 (0)\ttotal: 176ms\tremaining: 1.42s\n",
            "Stopped by overfitting detector  (10 iterations wait)\n",
            "\n",
            "bestTest = 0.01170768487\n",
            "bestIteration = 0\n",
            "\n",
            "Shrink model to first 1 iterations.\n"
          ]
        },
        {
          "name": "stderr",
          "output_type": "stream",
          "text": [
            "/usr/local/lib/python3.7/dist-packages/pypfopt/efficient_frontier/efficient_frontier.py:258: UserWarning: max_sharpe transforms the optimization problem so additional objectives may not work as expected.\n",
            "  \"max_sharpe transforms the optimization problem so additional objectives may not work as expected.\"\n"
          ]
        },
        {
          "name": "stdout",
          "output_type": "stream",
          "text": [
            "2021-11-19 00:00:00\n",
            "0:\tlearn: 0.0119577\ttest: 0.0115131\tbest: 0.0115131 (0)\ttotal: 15.9ms\tremaining: 1.57s\n",
            "1:\tlearn: 0.0117737\ttest: 0.0115163\tbest: 0.0115131 (0)\ttotal: 31.5ms\tremaining: 1.54s\n",
            "2:\tlearn: 0.0115864\ttest: 0.0115242\tbest: 0.0115131 (0)\ttotal: 46.7ms\tremaining: 1.51s\n",
            "3:\tlearn: 0.0114442\ttest: 0.0115337\tbest: 0.0115131 (0)\ttotal: 62.8ms\tremaining: 1.51s\n",
            "4:\tlearn: 0.0113072\ttest: 0.0115643\tbest: 0.0115131 (0)\ttotal: 77.8ms\tremaining: 1.48s\n",
            "5:\tlearn: 0.0111772\ttest: 0.0115773\tbest: 0.0115131 (0)\ttotal: 93.1ms\tremaining: 1.46s\n",
            "6:\tlearn: 0.0110665\ttest: 0.0115987\tbest: 0.0115131 (0)\ttotal: 109ms\tremaining: 1.44s\n",
            "7:\tlearn: 0.0109767\ttest: 0.0116213\tbest: 0.0115131 (0)\ttotal: 125ms\tremaining: 1.43s\n",
            "8:\tlearn: 0.0108840\ttest: 0.0116315\tbest: 0.0115131 (0)\ttotal: 140ms\tremaining: 1.42s\n",
            "9:\tlearn: 0.0108058\ttest: 0.0116501\tbest: 0.0115131 (0)\ttotal: 155ms\tremaining: 1.4s\n",
            "10:\tlearn: 0.0107182\ttest: 0.0116817\tbest: 0.0115131 (0)\ttotal: 170ms\tremaining: 1.38s\n",
            "Stopped by overfitting detector  (10 iterations wait)\n",
            "\n",
            "bestTest = 0.01151309072\n",
            "bestIteration = 0\n",
            "\n",
            "Shrink model to first 1 iterations.\n"
          ]
        },
        {
          "name": "stderr",
          "output_type": "stream",
          "text": [
            "/usr/local/lib/python3.7/dist-packages/pypfopt/efficient_frontier/efficient_frontier.py:258: UserWarning: max_sharpe transforms the optimization problem so additional objectives may not work as expected.\n",
            "  \"max_sharpe transforms the optimization problem so additional objectives may not work as expected.\"\n"
          ]
        },
        {
          "name": "stdout",
          "output_type": "stream",
          "text": [
            "2021-11-22 00:00:00\n",
            "0:\tlearn: 0.0118687\ttest: 0.0117344\tbest: 0.0117344 (0)\ttotal: 16.3ms\tremaining: 1.61s\n",
            "1:\tlearn: 0.0117113\ttest: 0.0117653\tbest: 0.0117344 (0)\ttotal: 32.3ms\tremaining: 1.58s\n",
            "2:\tlearn: 0.0115205\ttest: 0.0117856\tbest: 0.0117344 (0)\ttotal: 47.9ms\tremaining: 1.55s\n",
            "3:\tlearn: 0.0113895\ttest: 0.0117924\tbest: 0.0117344 (0)\ttotal: 63.9ms\tremaining: 1.53s\n",
            "4:\tlearn: 0.0112704\ttest: 0.0117995\tbest: 0.0117344 (0)\ttotal: 79.2ms\tremaining: 1.5s\n",
            "5:\tlearn: 0.0111346\ttest: 0.0118320\tbest: 0.0117344 (0)\ttotal: 94.7ms\tremaining: 1.48s\n",
            "6:\tlearn: 0.0110204\ttest: 0.0118947\tbest: 0.0117344 (0)\ttotal: 111ms\tremaining: 1.47s\n",
            "7:\tlearn: 0.0109141\ttest: 0.0119345\tbest: 0.0117344 (0)\ttotal: 127ms\tremaining: 1.46s\n",
            "8:\tlearn: 0.0108443\ttest: 0.0119493\tbest: 0.0117344 (0)\ttotal: 142ms\tremaining: 1.44s\n",
            "9:\tlearn: 0.0107530\ttest: 0.0119855\tbest: 0.0117344 (0)\ttotal: 158ms\tremaining: 1.42s\n",
            "10:\tlearn: 0.0106929\ttest: 0.0119960\tbest: 0.0117344 (0)\ttotal: 177ms\tremaining: 1.44s\n",
            "Stopped by overfitting detector  (10 iterations wait)\n",
            "\n",
            "bestTest = 0.0117344123\n",
            "bestIteration = 0\n",
            "\n",
            "Shrink model to first 1 iterations.\n"
          ]
        },
        {
          "name": "stderr",
          "output_type": "stream",
          "text": [
            "/usr/local/lib/python3.7/dist-packages/pypfopt/efficient_frontier/efficient_frontier.py:258: UserWarning: max_sharpe transforms the optimization problem so additional objectives may not work as expected.\n",
            "  \"max_sharpe transforms the optimization problem so additional objectives may not work as expected.\"\n"
          ]
        },
        {
          "name": "stdout",
          "output_type": "stream",
          "text": [
            "2021-11-23 00:00:00\n",
            "0:\tlearn: 0.0113762\ttest: 0.0118620\tbest: 0.0118620 (0)\ttotal: 16.7ms\tremaining: 1.65s\n",
            "1:\tlearn: 0.0112726\ttest: 0.0119004\tbest: 0.0118620 (0)\ttotal: 33.1ms\tremaining: 1.62s\n",
            "2:\tlearn: 0.0111132\ttest: 0.0119439\tbest: 0.0118620 (0)\ttotal: 48.7ms\tremaining: 1.57s\n",
            "3:\tlearn: 0.0110196\ttest: 0.0119663\tbest: 0.0118620 (0)\ttotal: 65.4ms\tremaining: 1.57s\n",
            "4:\tlearn: 0.0108772\ttest: 0.0120054\tbest: 0.0118620 (0)\ttotal: 81.1ms\tremaining: 1.54s\n",
            "5:\tlearn: 0.0107884\ttest: 0.0120362\tbest: 0.0118620 (0)\ttotal: 96.4ms\tremaining: 1.51s\n",
            "6:\tlearn: 0.0106746\ttest: 0.0120647\tbest: 0.0118620 (0)\ttotal: 112ms\tremaining: 1.49s\n",
            "7:\tlearn: 0.0105840\ttest: 0.0120863\tbest: 0.0118620 (0)\ttotal: 128ms\tremaining: 1.47s\n",
            "8:\tlearn: 0.0105168\ttest: 0.0121089\tbest: 0.0118620 (0)\ttotal: 143ms\tremaining: 1.45s\n",
            "9:\tlearn: 0.0104406\ttest: 0.0121428\tbest: 0.0118620 (0)\ttotal: 158ms\tremaining: 1.43s\n",
            "10:\tlearn: 0.0103678\ttest: 0.0121506\tbest: 0.0118620 (0)\ttotal: 174ms\tremaining: 1.41s\n",
            "Stopped by overfitting detector  (10 iterations wait)\n",
            "\n",
            "bestTest = 0.01186200072\n",
            "bestIteration = 0\n",
            "\n",
            "Shrink model to first 1 iterations.\n"
          ]
        },
        {
          "name": "stderr",
          "output_type": "stream",
          "text": [
            "/usr/local/lib/python3.7/dist-packages/pypfopt/efficient_frontier/efficient_frontier.py:258: UserWarning: max_sharpe transforms the optimization problem so additional objectives may not work as expected.\n",
            "  \"max_sharpe transforms the optimization problem so additional objectives may not work as expected.\"\n"
          ]
        },
        {
          "name": "stdout",
          "output_type": "stream",
          "text": [
            "2021-11-24 00:00:00\n",
            "0:\tlearn: 0.0120435\ttest: 0.0116121\tbest: 0.0116121 (0)\ttotal: 16ms\tremaining: 1.58s\n",
            "1:\tlearn: 0.0118515\ttest: 0.0116476\tbest: 0.0116121 (0)\ttotal: 31.4ms\tremaining: 1.54s\n",
            "2:\tlearn: 0.0116735\ttest: 0.0116905\tbest: 0.0116121 (0)\ttotal: 46.7ms\tremaining: 1.51s\n",
            "3:\tlearn: 0.0115243\ttest: 0.0117399\tbest: 0.0116121 (0)\ttotal: 62.5ms\tremaining: 1.5s\n",
            "4:\tlearn: 0.0113967\ttest: 0.0117995\tbest: 0.0116121 (0)\ttotal: 77.7ms\tremaining: 1.48s\n",
            "5:\tlearn: 0.0112213\ttest: 0.0118595\tbest: 0.0116121 (0)\ttotal: 92.9ms\tremaining: 1.46s\n",
            "6:\tlearn: 0.0110699\ttest: 0.0119491\tbest: 0.0116121 (0)\ttotal: 108ms\tremaining: 1.43s\n",
            "7:\tlearn: 0.0109398\ttest: 0.0119935\tbest: 0.0116121 (0)\ttotal: 124ms\tremaining: 1.43s\n",
            "8:\tlearn: 0.0108514\ttest: 0.0120208\tbest: 0.0116121 (0)\ttotal: 140ms\tremaining: 1.41s\n",
            "9:\tlearn: 0.0107471\ttest: 0.0120878\tbest: 0.0116121 (0)\ttotal: 155ms\tremaining: 1.4s\n",
            "10:\tlearn: 0.0106547\ttest: 0.0121142\tbest: 0.0116121 (0)\ttotal: 170ms\tremaining: 1.38s\n",
            "Stopped by overfitting detector  (10 iterations wait)\n",
            "\n",
            "bestTest = 0.01161209929\n",
            "bestIteration = 0\n",
            "\n",
            "Shrink model to first 1 iterations.\n"
          ]
        },
        {
          "name": "stderr",
          "output_type": "stream",
          "text": [
            "/usr/local/lib/python3.7/dist-packages/pypfopt/efficient_frontier/efficient_frontier.py:258: UserWarning: max_sharpe transforms the optimization problem so additional objectives may not work as expected.\n",
            "  \"max_sharpe transforms the optimization problem so additional objectives may not work as expected.\"\n"
          ]
        },
        {
          "name": "stdout",
          "output_type": "stream",
          "text": [
            "2021-11-26 00:00:00\n",
            "0:\tlearn: 0.0114380\ttest: 0.0118089\tbest: 0.0118089 (0)\ttotal: 15.8ms\tremaining: 1.57s\n",
            "1:\tlearn: 0.0113098\ttest: 0.0118256\tbest: 0.0118089 (0)\ttotal: 32.2ms\tremaining: 1.57s\n",
            "2:\tlearn: 0.0111670\ttest: 0.0118629\tbest: 0.0118089 (0)\ttotal: 48.1ms\tremaining: 1.55s\n",
            "3:\tlearn: 0.0110603\ttest: 0.0118815\tbest: 0.0118089 (0)\ttotal: 64.6ms\tremaining: 1.55s\n",
            "4:\tlearn: 0.0109142\ttest: 0.0119252\tbest: 0.0118089 (0)\ttotal: 80.3ms\tremaining: 1.52s\n",
            "5:\tlearn: 0.0107827\ttest: 0.0119822\tbest: 0.0118089 (0)\ttotal: 96.1ms\tremaining: 1.5s\n",
            "6:\tlearn: 0.0107069\ttest: 0.0120038\tbest: 0.0118089 (0)\ttotal: 111ms\tremaining: 1.48s\n",
            "7:\tlearn: 0.0106124\ttest: 0.0120498\tbest: 0.0118089 (0)\ttotal: 127ms\tremaining: 1.46s\n",
            "8:\tlearn: 0.0105271\ttest: 0.0120773\tbest: 0.0118089 (0)\ttotal: 143ms\tremaining: 1.44s\n",
            "9:\tlearn: 0.0104514\ttest: 0.0121115\tbest: 0.0118089 (0)\ttotal: 158ms\tremaining: 1.42s\n",
            "10:\tlearn: 0.0103929\ttest: 0.0121551\tbest: 0.0118089 (0)\ttotal: 174ms\tremaining: 1.4s\n",
            "Stopped by overfitting detector  (10 iterations wait)\n",
            "\n",
            "bestTest = 0.0118089376\n",
            "bestIteration = 0\n",
            "\n",
            "Shrink model to first 1 iterations.\n"
          ]
        },
        {
          "name": "stderr",
          "output_type": "stream",
          "text": [
            "/usr/local/lib/python3.7/dist-packages/pypfopt/efficient_frontier/efficient_frontier.py:258: UserWarning: max_sharpe transforms the optimization problem so additional objectives may not work as expected.\n",
            "  \"max_sharpe transforms the optimization problem so additional objectives may not work as expected.\"\n"
          ]
        },
        {
          "name": "stdout",
          "output_type": "stream",
          "text": [
            "2021-11-29 00:00:00\n",
            "0:\tlearn: 0.0113664\ttest: 0.0121001\tbest: 0.0121001 (0)\ttotal: 16.3ms\tremaining: 1.61s\n",
            "1:\tlearn: 0.0111790\ttest: 0.0121075\tbest: 0.0121001 (0)\ttotal: 32.3ms\tremaining: 1.58s\n",
            "2:\tlearn: 0.0110036\ttest: 0.0121352\tbest: 0.0121001 (0)\ttotal: 47.7ms\tremaining: 1.54s\n",
            "3:\tlearn: 0.0108452\ttest: 0.0121438\tbest: 0.0121001 (0)\ttotal: 63.9ms\tremaining: 1.53s\n",
            "4:\tlearn: 0.0107283\ttest: 0.0121568\tbest: 0.0121001 (0)\ttotal: 79.4ms\tremaining: 1.51s\n",
            "5:\tlearn: 0.0106065\ttest: 0.0121971\tbest: 0.0121001 (0)\ttotal: 95ms\tremaining: 1.49s\n",
            "6:\tlearn: 0.0105154\ttest: 0.0122219\tbest: 0.0121001 (0)\ttotal: 110ms\tremaining: 1.47s\n",
            "7:\tlearn: 0.0104297\ttest: 0.0122277\tbest: 0.0121001 (0)\ttotal: 127ms\tremaining: 1.46s\n",
            "8:\tlearn: 0.0103489\ttest: 0.0122574\tbest: 0.0121001 (0)\ttotal: 143ms\tremaining: 1.44s\n",
            "9:\tlearn: 0.0102671\ttest: 0.0122675\tbest: 0.0121001 (0)\ttotal: 158ms\tremaining: 1.42s\n",
            "10:\tlearn: 0.0101876\ttest: 0.0122989\tbest: 0.0121001 (0)\ttotal: 174ms\tremaining: 1.41s\n",
            "Stopped by overfitting detector  (10 iterations wait)\n",
            "\n",
            "bestTest = 0.01210014045\n",
            "bestIteration = 0\n",
            "\n",
            "Shrink model to first 1 iterations.\n"
          ]
        },
        {
          "name": "stderr",
          "output_type": "stream",
          "text": [
            "/usr/local/lib/python3.7/dist-packages/pypfopt/efficient_frontier/efficient_frontier.py:258: UserWarning: max_sharpe transforms the optimization problem so additional objectives may not work as expected.\n",
            "  \"max_sharpe transforms the optimization problem so additional objectives may not work as expected.\"\n"
          ]
        },
        {
          "name": "stdout",
          "output_type": "stream",
          "text": [
            "2021-11-30 00:00:00\n",
            "0:\tlearn: 0.0116004\ttest: 0.0120307\tbest: 0.0120307 (0)\ttotal: 16.2ms\tremaining: 1.6s\n",
            "1:\tlearn: 0.0114718\ttest: 0.0120529\tbest: 0.0120307 (0)\ttotal: 32.8ms\tremaining: 1.61s\n",
            "2:\tlearn: 0.0113017\ttest: 0.0120555\tbest: 0.0120307 (0)\ttotal: 48.5ms\tremaining: 1.57s\n",
            "3:\tlearn: 0.0111470\ttest: 0.0120551\tbest: 0.0120307 (0)\ttotal: 65.1ms\tremaining: 1.56s\n",
            "4:\tlearn: 0.0110287\ttest: 0.0120883\tbest: 0.0120307 (0)\ttotal: 80.9ms\tremaining: 1.54s\n",
            "5:\tlearn: 0.0109211\ttest: 0.0120998\tbest: 0.0120307 (0)\ttotal: 97.7ms\tremaining: 1.53s\n",
            "6:\tlearn: 0.0108200\ttest: 0.0121384\tbest: 0.0120307 (0)\ttotal: 114ms\tremaining: 1.51s\n",
            "7:\tlearn: 0.0107317\ttest: 0.0121722\tbest: 0.0120307 (0)\ttotal: 129ms\tremaining: 1.49s\n",
            "8:\tlearn: 0.0106367\ttest: 0.0121998\tbest: 0.0120307 (0)\ttotal: 145ms\tremaining: 1.47s\n",
            "9:\tlearn: 0.0105692\ttest: 0.0122143\tbest: 0.0120307 (0)\ttotal: 161ms\tremaining: 1.45s\n",
            "10:\tlearn: 0.0105025\ttest: 0.0122484\tbest: 0.0120307 (0)\ttotal: 177ms\tremaining: 1.44s\n",
            "Stopped by overfitting detector  (10 iterations wait)\n",
            "\n",
            "bestTest = 0.01203066333\n",
            "bestIteration = 0\n",
            "\n",
            "Shrink model to first 1 iterations.\n"
          ]
        },
        {
          "name": "stderr",
          "output_type": "stream",
          "text": [
            "/usr/local/lib/python3.7/dist-packages/pypfopt/efficient_frontier/efficient_frontier.py:258: UserWarning: max_sharpe transforms the optimization problem so additional objectives may not work as expected.\n",
            "  \"max_sharpe transforms the optimization problem so additional objectives may not work as expected.\"\n"
          ]
        },
        {
          "name": "stdout",
          "output_type": "stream",
          "text": [
            "2021-12-01 00:00:00\n",
            "0:\tlearn: 0.0116623\ttest: 0.0122183\tbest: 0.0122183 (0)\ttotal: 16.1ms\tremaining: 1.6s\n",
            "1:\tlearn: 0.0115524\ttest: 0.0122475\tbest: 0.0122183 (0)\ttotal: 32.7ms\tremaining: 1.6s\n",
            "2:\tlearn: 0.0113947\ttest: 0.0123354\tbest: 0.0122183 (0)\ttotal: 47.7ms\tremaining: 1.54s\n",
            "3:\tlearn: 0.0113076\ttest: 0.0123555\tbest: 0.0122183 (0)\ttotal: 63.9ms\tremaining: 1.53s\n",
            "4:\tlearn: 0.0111810\ttest: 0.0124389\tbest: 0.0122183 (0)\ttotal: 79.3ms\tremaining: 1.51s\n",
            "5:\tlearn: 0.0110858\ttest: 0.0125010\tbest: 0.0122183 (0)\ttotal: 94.6ms\tremaining: 1.48s\n",
            "6:\tlearn: 0.0109950\ttest: 0.0124967\tbest: 0.0122183 (0)\ttotal: 110ms\tremaining: 1.46s\n",
            "7:\tlearn: 0.0108878\ttest: 0.0125616\tbest: 0.0122183 (0)\ttotal: 126ms\tremaining: 1.45s\n",
            "8:\tlearn: 0.0108020\ttest: 0.0126441\tbest: 0.0122183 (0)\ttotal: 141ms\tremaining: 1.43s\n",
            "9:\tlearn: 0.0107344\ttest: 0.0126800\tbest: 0.0122183 (0)\ttotal: 157ms\tremaining: 1.41s\n",
            "10:\tlearn: 0.0106627\ttest: 0.0127085\tbest: 0.0122183 (0)\ttotal: 172ms\tremaining: 1.39s\n",
            "Stopped by overfitting detector  (10 iterations wait)\n",
            "\n",
            "bestTest = 0.01221829559\n",
            "bestIteration = 0\n",
            "\n",
            "Shrink model to first 1 iterations.\n"
          ]
        },
        {
          "name": "stderr",
          "output_type": "stream",
          "text": [
            "/usr/local/lib/python3.7/dist-packages/pypfopt/efficient_frontier/efficient_frontier.py:258: UserWarning: max_sharpe transforms the optimization problem so additional objectives may not work as expected.\n",
            "  \"max_sharpe transforms the optimization problem so additional objectives may not work as expected.\"\n"
          ]
        },
        {
          "name": "stdout",
          "output_type": "stream",
          "text": [
            "2021-12-02 00:00:00\n",
            "0:\tlearn: 0.0110233\ttest: 0.0129485\tbest: 0.0129485 (0)\ttotal: 16.2ms\tremaining: 1.61s\n",
            "1:\tlearn: 0.0109236\ttest: 0.0129607\tbest: 0.0129485 (0)\ttotal: 32.5ms\tremaining: 1.59s\n",
            "2:\tlearn: 0.0108143\ttest: 0.0129772\tbest: 0.0129485 (0)\ttotal: 47.8ms\tremaining: 1.54s\n",
            "3:\tlearn: 0.0106813\ttest: 0.0130373\tbest: 0.0129485 (0)\ttotal: 64.6ms\tremaining: 1.55s\n",
            "4:\tlearn: 0.0105775\ttest: 0.0130750\tbest: 0.0129485 (0)\ttotal: 80.1ms\tremaining: 1.52s\n",
            "5:\tlearn: 0.0104952\ttest: 0.0130794\tbest: 0.0129485 (0)\ttotal: 95.7ms\tremaining: 1.5s\n",
            "6:\tlearn: 0.0104098\ttest: 0.0131431\tbest: 0.0129485 (0)\ttotal: 111ms\tremaining: 1.48s\n",
            "7:\tlearn: 0.0103476\ttest: 0.0131542\tbest: 0.0129485 (0)\ttotal: 128ms\tremaining: 1.47s\n",
            "8:\tlearn: 0.0102661\ttest: 0.0131650\tbest: 0.0129485 (0)\ttotal: 144ms\tremaining: 1.45s\n",
            "9:\tlearn: 0.0101962\ttest: 0.0132217\tbest: 0.0129485 (0)\ttotal: 159ms\tremaining: 1.43s\n",
            "10:\tlearn: 0.0101112\ttest: 0.0132743\tbest: 0.0129485 (0)\ttotal: 177ms\tremaining: 1.43s\n",
            "Stopped by overfitting detector  (10 iterations wait)\n",
            "\n",
            "bestTest = 0.01294845353\n",
            "bestIteration = 0\n",
            "\n",
            "Shrink model to first 1 iterations.\n"
          ]
        },
        {
          "name": "stderr",
          "output_type": "stream",
          "text": [
            "/usr/local/lib/python3.7/dist-packages/pypfopt/efficient_frontier/efficient_frontier.py:258: UserWarning: max_sharpe transforms the optimization problem so additional objectives may not work as expected.\n",
            "  \"max_sharpe transforms the optimization problem so additional objectives may not work as expected.\"\n",
            "/usr/local/lib/python3.7/dist-packages/cvxpy/problems/problem.py:1334: UserWarning: Solution may be inaccurate. Try another solver, adjusting the solver settings, or solve with verbose=True for more information.\n",
            "  \"Solution may be inaccurate. Try another solver, \"\n"
          ]
        },
        {
          "name": "stdout",
          "output_type": "stream",
          "text": [
            "2021-12-03 00:00:00\n",
            "0:\tlearn: 0.0126377\ttest: 0.0120588\tbest: 0.0120588 (0)\ttotal: 16ms\tremaining: 1.58s\n",
            "1:\tlearn: 0.0124444\ttest: 0.0120735\tbest: 0.0120588 (0)\ttotal: 32.8ms\tremaining: 1.61s\n",
            "2:\tlearn: 0.0122730\ttest: 0.0121204\tbest: 0.0120588 (0)\ttotal: 48.4ms\tremaining: 1.56s\n",
            "3:\tlearn: 0.0121160\ttest: 0.0121567\tbest: 0.0120588 (0)\ttotal: 64.8ms\tremaining: 1.55s\n",
            "4:\tlearn: 0.0119598\ttest: 0.0121837\tbest: 0.0120588 (0)\ttotal: 80.5ms\tremaining: 1.53s\n",
            "5:\tlearn: 0.0118196\ttest: 0.0122370\tbest: 0.0120588 (0)\ttotal: 96ms\tremaining: 1.5s\n",
            "6:\tlearn: 0.0116858\ttest: 0.0123200\tbest: 0.0120588 (0)\ttotal: 112ms\tremaining: 1.49s\n",
            "7:\tlearn: 0.0115775\ttest: 0.0123654\tbest: 0.0120588 (0)\ttotal: 128ms\tremaining: 1.47s\n",
            "8:\tlearn: 0.0114654\ttest: 0.0124267\tbest: 0.0120588 (0)\ttotal: 144ms\tremaining: 1.46s\n",
            "9:\tlearn: 0.0113743\ttest: 0.0124821\tbest: 0.0120588 (0)\ttotal: 159ms\tremaining: 1.43s\n",
            "10:\tlearn: 0.0112948\ttest: 0.0125330\tbest: 0.0120588 (0)\ttotal: 175ms\tremaining: 1.41s\n",
            "Stopped by overfitting detector  (10 iterations wait)\n",
            "\n",
            "bestTest = 0.01205883478\n",
            "bestIteration = 0\n",
            "\n",
            "Shrink model to first 1 iterations.\n"
          ]
        },
        {
          "name": "stderr",
          "output_type": "stream",
          "text": [
            "/usr/local/lib/python3.7/dist-packages/pypfopt/efficient_frontier/efficient_frontier.py:258: UserWarning: max_sharpe transforms the optimization problem so additional objectives may not work as expected.\n",
            "  \"max_sharpe transforms the optimization problem so additional objectives may not work as expected.\"\n"
          ]
        },
        {
          "name": "stdout",
          "output_type": "stream",
          "text": [
            "2021-12-06 00:00:00\n",
            "0:\tlearn: 0.0116659\ttest: 0.0125536\tbest: 0.0125536 (0)\ttotal: 16.5ms\tremaining: 1.64s\n",
            "1:\tlearn: 0.0115326\ttest: 0.0125640\tbest: 0.0125536 (0)\ttotal: 32.3ms\tremaining: 1.58s\n",
            "2:\tlearn: 0.0113773\ttest: 0.0126027\tbest: 0.0125536 (0)\ttotal: 47.9ms\tremaining: 1.55s\n",
            "3:\tlearn: 0.0112587\ttest: 0.0126256\tbest: 0.0125536 (0)\ttotal: 64ms\tremaining: 1.53s\n",
            "4:\tlearn: 0.0111375\ttest: 0.0126665\tbest: 0.0125536 (0)\ttotal: 79.4ms\tremaining: 1.51s\n",
            "5:\tlearn: 0.0110421\ttest: 0.0126807\tbest: 0.0125536 (0)\ttotal: 94.9ms\tremaining: 1.49s\n",
            "6:\tlearn: 0.0109492\ttest: 0.0127159\tbest: 0.0125536 (0)\ttotal: 111ms\tremaining: 1.47s\n",
            "7:\tlearn: 0.0108782\ttest: 0.0127646\tbest: 0.0125536 (0)\ttotal: 126ms\tremaining: 1.45s\n",
            "8:\tlearn: 0.0107976\ttest: 0.0127893\tbest: 0.0125536 (0)\ttotal: 142ms\tremaining: 1.44s\n",
            "9:\tlearn: 0.0107224\ttest: 0.0128539\tbest: 0.0125536 (0)\ttotal: 158ms\tremaining: 1.42s\n",
            "10:\tlearn: 0.0106559\ttest: 0.0128682\tbest: 0.0125536 (0)\ttotal: 173ms\tremaining: 1.4s\n",
            "Stopped by overfitting detector  (10 iterations wait)\n",
            "\n",
            "bestTest = 0.01255362449\n",
            "bestIteration = 0\n",
            "\n",
            "Shrink model to first 1 iterations.\n"
          ]
        },
        {
          "name": "stderr",
          "output_type": "stream",
          "text": [
            "/usr/local/lib/python3.7/dist-packages/pypfopt/efficient_frontier/efficient_frontier.py:258: UserWarning: max_sharpe transforms the optimization problem so additional objectives may not work as expected.\n",
            "  \"max_sharpe transforms the optimization problem so additional objectives may not work as expected.\"\n"
          ]
        },
        {
          "name": "stdout",
          "output_type": "stream",
          "text": [
            "2021-12-07 00:00:00\n",
            "0:\tlearn: 0.0108387\ttest: 0.0130574\tbest: 0.0130574 (0)\ttotal: 16.4ms\tremaining: 1.62s\n",
            "1:\tlearn: 0.0106932\ttest: 0.0130946\tbest: 0.0130574 (0)\ttotal: 33.2ms\tremaining: 1.63s\n",
            "2:\tlearn: 0.0105644\ttest: 0.0131314\tbest: 0.0130574 (0)\ttotal: 48.5ms\tremaining: 1.57s\n",
            "3:\tlearn: 0.0104547\ttest: 0.0131657\tbest: 0.0130574 (0)\ttotal: 65ms\tremaining: 1.56s\n",
            "4:\tlearn: 0.0103596\ttest: 0.0131756\tbest: 0.0130574 (0)\ttotal: 80ms\tremaining: 1.52s\n",
            "5:\tlearn: 0.0102837\ttest: 0.0131816\tbest: 0.0130574 (0)\ttotal: 95.3ms\tremaining: 1.49s\n",
            "6:\tlearn: 0.0101957\ttest: 0.0131857\tbest: 0.0130574 (0)\ttotal: 111ms\tremaining: 1.48s\n",
            "7:\tlearn: 0.0101444\ttest: 0.0131959\tbest: 0.0130574 (0)\ttotal: 127ms\tremaining: 1.46s\n",
            "8:\tlearn: 0.0100784\ttest: 0.0132191\tbest: 0.0130574 (0)\ttotal: 143ms\tremaining: 1.44s\n",
            "9:\tlearn: 0.0100177\ttest: 0.0132119\tbest: 0.0130574 (0)\ttotal: 158ms\tremaining: 1.42s\n",
            "10:\tlearn: 0.0099543\ttest: 0.0132331\tbest: 0.0130574 (0)\ttotal: 173ms\tremaining: 1.4s\n",
            "Stopped by overfitting detector  (10 iterations wait)\n",
            "\n",
            "bestTest = 0.01305739262\n",
            "bestIteration = 0\n",
            "\n",
            "Shrink model to first 1 iterations.\n"
          ]
        },
        {
          "name": "stderr",
          "output_type": "stream",
          "text": [
            "/usr/local/lib/python3.7/dist-packages/pypfopt/efficient_frontier/efficient_frontier.py:258: UserWarning: max_sharpe transforms the optimization problem so additional objectives may not work as expected.\n",
            "  \"max_sharpe transforms the optimization problem so additional objectives may not work as expected.\"\n"
          ]
        },
        {
          "name": "stdout",
          "output_type": "stream",
          "text": [
            "2021-12-08 00:00:00\n",
            "0:\tlearn: 0.0121230\ttest: 0.0126750\tbest: 0.0126750 (0)\ttotal: 16.1ms\tremaining: 1.59s\n",
            "1:\tlearn: 0.0119346\ttest: 0.0126965\tbest: 0.0126750 (0)\ttotal: 31.6ms\tremaining: 1.55s\n",
            "2:\tlearn: 0.0117649\ttest: 0.0127249\tbest: 0.0126750 (0)\ttotal: 47ms\tremaining: 1.52s\n",
            "3:\tlearn: 0.0116516\ttest: 0.0127593\tbest: 0.0126750 (0)\ttotal: 62.5ms\tremaining: 1.5s\n",
            "4:\tlearn: 0.0115286\ttest: 0.0127692\tbest: 0.0126750 (0)\ttotal: 77.6ms\tremaining: 1.47s\n",
            "5:\tlearn: 0.0114190\ttest: 0.0128279\tbest: 0.0126750 (0)\ttotal: 93.2ms\tremaining: 1.46s\n",
            "6:\tlearn: 0.0113323\ttest: 0.0128972\tbest: 0.0126750 (0)\ttotal: 109ms\tremaining: 1.44s\n",
            "7:\tlearn: 0.0112488\ttest: 0.0129650\tbest: 0.0126750 (0)\ttotal: 125ms\tremaining: 1.43s\n",
            "8:\tlearn: 0.0111623\ttest: 0.0130050\tbest: 0.0126750 (0)\ttotal: 141ms\tremaining: 1.42s\n",
            "9:\tlearn: 0.0110774\ttest: 0.0130321\tbest: 0.0126750 (0)\ttotal: 156ms\tremaining: 1.4s\n",
            "10:\tlearn: 0.0110057\ttest: 0.0130777\tbest: 0.0126750 (0)\ttotal: 171ms\tremaining: 1.39s\n",
            "Stopped by overfitting detector  (10 iterations wait)\n",
            "\n",
            "bestTest = 0.01267504172\n",
            "bestIteration = 0\n",
            "\n",
            "Shrink model to first 1 iterations.\n"
          ]
        },
        {
          "name": "stderr",
          "output_type": "stream",
          "text": [
            "/usr/local/lib/python3.7/dist-packages/pypfopt/efficient_frontier/efficient_frontier.py:258: UserWarning: max_sharpe transforms the optimization problem so additional objectives may not work as expected.\n",
            "  \"max_sharpe transforms the optimization problem so additional objectives may not work as expected.\"\n"
          ]
        },
        {
          "name": "stdout",
          "output_type": "stream",
          "text": [
            "2021-12-09 00:00:00\n",
            "0:\tlearn: 0.0125390\ttest: 0.0121784\tbest: 0.0121784 (0)\ttotal: 16.2ms\tremaining: 1.6s\n",
            "1:\tlearn: 0.0123287\ttest: 0.0121658\tbest: 0.0121658 (1)\ttotal: 33.8ms\tremaining: 1.65s\n",
            "2:\tlearn: 0.0121261\ttest: 0.0121927\tbest: 0.0121658 (1)\ttotal: 49.6ms\tremaining: 1.6s\n",
            "3:\tlearn: 0.0119494\ttest: 0.0122245\tbest: 0.0121658 (1)\ttotal: 66.3ms\tremaining: 1.59s\n",
            "4:\tlearn: 0.0118169\ttest: 0.0122781\tbest: 0.0121658 (1)\ttotal: 83.2ms\tremaining: 1.58s\n",
            "5:\tlearn: 0.0116656\ttest: 0.0122981\tbest: 0.0121658 (1)\ttotal: 98.5ms\tremaining: 1.54s\n",
            "6:\tlearn: 0.0115431\ttest: 0.0123388\tbest: 0.0121658 (1)\ttotal: 114ms\tremaining: 1.51s\n",
            "7:\tlearn: 0.0114298\ttest: 0.0123747\tbest: 0.0121658 (1)\ttotal: 129ms\tremaining: 1.48s\n",
            "8:\tlearn: 0.0113207\ttest: 0.0124537\tbest: 0.0121658 (1)\ttotal: 145ms\tremaining: 1.46s\n",
            "9:\tlearn: 0.0112126\ttest: 0.0124636\tbest: 0.0121658 (1)\ttotal: 160ms\tremaining: 1.44s\n",
            "10:\tlearn: 0.0111309\ttest: 0.0125063\tbest: 0.0121658 (1)\ttotal: 177ms\tremaining: 1.43s\n",
            "11:\tlearn: 0.0110437\ttest: 0.0125358\tbest: 0.0121658 (1)\ttotal: 196ms\tremaining: 1.43s\n",
            "Stopped by overfitting detector  (10 iterations wait)\n",
            "\n",
            "bestTest = 0.01216583364\n",
            "bestIteration = 1\n",
            "\n",
            "Shrink model to first 2 iterations.\n"
          ]
        },
        {
          "name": "stderr",
          "output_type": "stream",
          "text": [
            "/usr/local/lib/python3.7/dist-packages/pypfopt/efficient_frontier/efficient_frontier.py:258: UserWarning: max_sharpe transforms the optimization problem so additional objectives may not work as expected.\n",
            "  \"max_sharpe transforms the optimization problem so additional objectives may not work as expected.\"\n"
          ]
        },
        {
          "name": "stdout",
          "output_type": "stream",
          "text": [
            "2021-12-10 00:00:00\n",
            "0:\tlearn: 0.0123012\ttest: 0.0126554\tbest: 0.0126554 (0)\ttotal: 16.2ms\tremaining: 1.61s\n",
            "1:\tlearn: 0.0120779\ttest: 0.0126867\tbest: 0.0126554 (0)\ttotal: 32.2ms\tremaining: 1.58s\n",
            "2:\tlearn: 0.0119341\ttest: 0.0127347\tbest: 0.0126554 (0)\ttotal: 48.9ms\tremaining: 1.58s\n",
            "3:\tlearn: 0.0118260\ttest: 0.0127635\tbest: 0.0126554 (0)\ttotal: 65.3ms\tremaining: 1.57s\n",
            "4:\tlearn: 0.0116636\ttest: 0.0128104\tbest: 0.0126554 (0)\ttotal: 81.2ms\tremaining: 1.54s\n",
            "5:\tlearn: 0.0115556\ttest: 0.0128691\tbest: 0.0126554 (0)\ttotal: 97ms\tremaining: 1.52s\n",
            "6:\tlearn: 0.0114454\ttest: 0.0128892\tbest: 0.0126554 (0)\ttotal: 113ms\tremaining: 1.5s\n",
            "7:\tlearn: 0.0113617\ttest: 0.0128950\tbest: 0.0126554 (0)\ttotal: 130ms\tremaining: 1.49s\n",
            "8:\tlearn: 0.0112851\ttest: 0.0129123\tbest: 0.0126554 (0)\ttotal: 145ms\tremaining: 1.47s\n",
            "9:\tlearn: 0.0112091\ttest: 0.0129746\tbest: 0.0126554 (0)\ttotal: 161ms\tremaining: 1.45s\n",
            "10:\tlearn: 0.0111419\ttest: 0.0130357\tbest: 0.0126554 (0)\ttotal: 176ms\tremaining: 1.43s\n",
            "Stopped by overfitting detector  (10 iterations wait)\n",
            "\n",
            "bestTest = 0.01265542083\n",
            "bestIteration = 0\n",
            "\n",
            "Shrink model to first 1 iterations.\n"
          ]
        },
        {
          "name": "stderr",
          "output_type": "stream",
          "text": [
            "/usr/local/lib/python3.7/dist-packages/pypfopt/efficient_frontier/efficient_frontier.py:258: UserWarning: max_sharpe transforms the optimization problem so additional objectives may not work as expected.\n",
            "  \"max_sharpe transforms the optimization problem so additional objectives may not work as expected.\"\n"
          ]
        },
        {
          "name": "stdout",
          "output_type": "stream",
          "text": [
            "2021-12-13 00:00:00\n",
            "0:\tlearn: 0.0114365\ttest: 0.0126950\tbest: 0.0126950 (0)\ttotal: 15.7ms\tremaining: 1.55s\n",
            "1:\tlearn: 0.0113121\ttest: 0.0127078\tbest: 0.0126950 (0)\ttotal: 32ms\tremaining: 1.56s\n",
            "2:\tlearn: 0.0111865\ttest: 0.0127863\tbest: 0.0126950 (0)\ttotal: 47.5ms\tremaining: 1.54s\n",
            "3:\tlearn: 0.0110666\ttest: 0.0128219\tbest: 0.0126950 (0)\ttotal: 63.9ms\tremaining: 1.53s\n",
            "4:\tlearn: 0.0109654\ttest: 0.0128975\tbest: 0.0126950 (0)\ttotal: 79.3ms\tremaining: 1.51s\n",
            "5:\tlearn: 0.0108830\ttest: 0.0129655\tbest: 0.0126950 (0)\ttotal: 94.5ms\tremaining: 1.48s\n",
            "6:\tlearn: 0.0107815\ttest: 0.0130716\tbest: 0.0126950 (0)\ttotal: 110ms\tremaining: 1.46s\n",
            "7:\tlearn: 0.0107197\ttest: 0.0131389\tbest: 0.0126950 (0)\ttotal: 126ms\tremaining: 1.45s\n",
            "8:\tlearn: 0.0106305\ttest: 0.0132144\tbest: 0.0126950 (0)\ttotal: 142ms\tremaining: 1.44s\n",
            "9:\tlearn: 0.0105593\ttest: 0.0132405\tbest: 0.0126950 (0)\ttotal: 158ms\tremaining: 1.42s\n",
            "10:\tlearn: 0.0104854\ttest: 0.0132744\tbest: 0.0126950 (0)\ttotal: 174ms\tremaining: 1.41s\n",
            "Stopped by overfitting detector  (10 iterations wait)\n",
            "\n",
            "bestTest = 0.01269499026\n",
            "bestIteration = 0\n",
            "\n",
            "Shrink model to first 1 iterations.\n"
          ]
        },
        {
          "name": "stderr",
          "output_type": "stream",
          "text": [
            "/usr/local/lib/python3.7/dist-packages/pypfopt/efficient_frontier/efficient_frontier.py:258: UserWarning: max_sharpe transforms the optimization problem so additional objectives may not work as expected.\n",
            "  \"max_sharpe transforms the optimization problem so additional objectives may not work as expected.\"\n"
          ]
        },
        {
          "name": "stdout",
          "output_type": "stream",
          "text": [
            "2021-12-14 00:00:00\n",
            "0:\tlearn: 0.0120401\ttest: 0.0123044\tbest: 0.0123044 (0)\ttotal: 16ms\tremaining: 1.58s\n",
            "1:\tlearn: 0.0118611\ttest: 0.0123487\tbest: 0.0123044 (0)\ttotal: 31.5ms\tremaining: 1.54s\n",
            "2:\tlearn: 0.0117179\ttest: 0.0123964\tbest: 0.0123044 (0)\ttotal: 46.9ms\tremaining: 1.52s\n",
            "3:\tlearn: 0.0115971\ttest: 0.0124607\tbest: 0.0123044 (0)\ttotal: 62.9ms\tremaining: 1.51s\n",
            "4:\tlearn: 0.0114824\ttest: 0.0125418\tbest: 0.0123044 (0)\ttotal: 77.9ms\tremaining: 1.48s\n",
            "5:\tlearn: 0.0113825\ttest: 0.0125759\tbest: 0.0123044 (0)\ttotal: 93.5ms\tremaining: 1.46s\n",
            "6:\tlearn: 0.0112710\ttest: 0.0126521\tbest: 0.0123044 (0)\ttotal: 110ms\tremaining: 1.46s\n",
            "7:\tlearn: 0.0111951\ttest: 0.0127356\tbest: 0.0123044 (0)\ttotal: 125ms\tremaining: 1.44s\n",
            "8:\tlearn: 0.0111274\ttest: 0.0127921\tbest: 0.0123044 (0)\ttotal: 140ms\tremaining: 1.41s\n",
            "9:\tlearn: 0.0110758\ttest: 0.0128234\tbest: 0.0123044 (0)\ttotal: 155ms\tremaining: 1.39s\n",
            "10:\tlearn: 0.0110083\ttest: 0.0128664\tbest: 0.0123044 (0)\ttotal: 172ms\tremaining: 1.39s\n",
            "Stopped by overfitting detector  (10 iterations wait)\n",
            "\n",
            "bestTest = 0.0123044259\n",
            "bestIteration = 0\n",
            "\n",
            "Shrink model to first 1 iterations.\n"
          ]
        },
        {
          "name": "stderr",
          "output_type": "stream",
          "text": [
            "/usr/local/lib/python3.7/dist-packages/pypfopt/efficient_frontier/efficient_frontier.py:258: UserWarning: max_sharpe transforms the optimization problem so additional objectives may not work as expected.\n",
            "  \"max_sharpe transforms the optimization problem so additional objectives may not work as expected.\"\n"
          ]
        },
        {
          "name": "stdout",
          "output_type": "stream",
          "text": [
            "2021-12-15 00:00:00\n",
            "0:\tlearn: 0.0110974\ttest: 0.0127358\tbest: 0.0127358 (0)\ttotal: 16.2ms\tremaining: 1.6s\n",
            "1:\tlearn: 0.0109661\ttest: 0.0127792\tbest: 0.0127358 (0)\ttotal: 33.1ms\tremaining: 1.62s\n",
            "2:\tlearn: 0.0108456\ttest: 0.0128223\tbest: 0.0127358 (0)\ttotal: 48.6ms\tremaining: 1.57s\n",
            "3:\tlearn: 0.0107470\ttest: 0.0128373\tbest: 0.0127358 (0)\ttotal: 64.7ms\tremaining: 1.55s\n",
            "4:\tlearn: 0.0106471\ttest: 0.0129135\tbest: 0.0127358 (0)\ttotal: 80.4ms\tremaining: 1.53s\n",
            "5:\tlearn: 0.0105427\ttest: 0.0129453\tbest: 0.0127358 (0)\ttotal: 96.8ms\tremaining: 1.52s\n",
            "6:\tlearn: 0.0104670\ttest: 0.0129652\tbest: 0.0127358 (0)\ttotal: 115ms\tremaining: 1.53s\n",
            "7:\tlearn: 0.0104113\ttest: 0.0129667\tbest: 0.0127358 (0)\ttotal: 140ms\tremaining: 1.61s\n",
            "8:\tlearn: 0.0103369\ttest: 0.0130216\tbest: 0.0127358 (0)\ttotal: 155ms\tremaining: 1.57s\n",
            "9:\tlearn: 0.0102487\ttest: 0.0130866\tbest: 0.0127358 (0)\ttotal: 170ms\tremaining: 1.53s\n",
            "10:\tlearn: 0.0101848\ttest: 0.0131098\tbest: 0.0127358 (0)\ttotal: 186ms\tremaining: 1.5s\n",
            "Stopped by overfitting detector  (10 iterations wait)\n",
            "\n",
            "bestTest = 0.01273578423\n",
            "bestIteration = 0\n",
            "\n",
            "Shrink model to first 1 iterations.\n"
          ]
        },
        {
          "name": "stderr",
          "output_type": "stream",
          "text": [
            "/usr/local/lib/python3.7/dist-packages/pypfopt/efficient_frontier/efficient_frontier.py:258: UserWarning: max_sharpe transforms the optimization problem so additional objectives may not work as expected.\n",
            "  \"max_sharpe transforms the optimization problem so additional objectives may not work as expected.\"\n"
          ]
        },
        {
          "name": "stdout",
          "output_type": "stream",
          "text": [
            "2021-12-16 00:00:00\n",
            "0:\tlearn: 0.0122001\ttest: 0.0122789\tbest: 0.0122789 (0)\ttotal: 15.9ms\tremaining: 1.58s\n",
            "1:\tlearn: 0.0119441\ttest: 0.0123031\tbest: 0.0122789 (0)\ttotal: 31.5ms\tremaining: 1.54s\n",
            "2:\tlearn: 0.0117094\ttest: 0.0123714\tbest: 0.0122789 (0)\ttotal: 46.6ms\tremaining: 1.51s\n",
            "3:\tlearn: 0.0115235\ttest: 0.0124080\tbest: 0.0122789 (0)\ttotal: 65ms\tremaining: 1.56s\n",
            "4:\tlearn: 0.0113572\ttest: 0.0124913\tbest: 0.0122789 (0)\ttotal: 80.3ms\tremaining: 1.52s\n",
            "5:\tlearn: 0.0111742\ttest: 0.0125865\tbest: 0.0122789 (0)\ttotal: 95.8ms\tremaining: 1.5s\n",
            "6:\tlearn: 0.0110269\ttest: 0.0126535\tbest: 0.0122789 (0)\ttotal: 111ms\tremaining: 1.48s\n",
            "7:\tlearn: 0.0109318\ttest: 0.0127030\tbest: 0.0122789 (0)\ttotal: 128ms\tremaining: 1.47s\n",
            "8:\tlearn: 0.0108460\ttest: 0.0127630\tbest: 0.0122789 (0)\ttotal: 143ms\tremaining: 1.45s\n",
            "9:\tlearn: 0.0107659\ttest: 0.0128281\tbest: 0.0122789 (0)\ttotal: 159ms\tremaining: 1.43s\n",
            "10:\tlearn: 0.0107030\ttest: 0.0128716\tbest: 0.0122789 (0)\ttotal: 174ms\tremaining: 1.41s\n",
            "Stopped by overfitting detector  (10 iterations wait)\n",
            "\n",
            "bestTest = 0.01227891663\n",
            "bestIteration = 0\n",
            "\n",
            "Shrink model to first 1 iterations.\n"
          ]
        },
        {
          "name": "stderr",
          "output_type": "stream",
          "text": [
            "/usr/local/lib/python3.7/dist-packages/pypfopt/efficient_frontier/efficient_frontier.py:258: UserWarning: max_sharpe transforms the optimization problem so additional objectives may not work as expected.\n",
            "  \"max_sharpe transforms the optimization problem so additional objectives may not work as expected.\"\n"
          ]
        },
        {
          "name": "stdout",
          "output_type": "stream",
          "text": [
            "2021-12-17 00:00:00\n",
            "0:\tlearn: 0.0116517\ttest: 0.0127375\tbest: 0.0127375 (0)\ttotal: 15.9ms\tremaining: 1.57s\n",
            "1:\tlearn: 0.0115456\ttest: 0.0127905\tbest: 0.0127375 (0)\ttotal: 31.7ms\tremaining: 1.55s\n",
            "2:\tlearn: 0.0114145\ttest: 0.0128524\tbest: 0.0127375 (0)\ttotal: 47.2ms\tremaining: 1.52s\n",
            "3:\tlearn: 0.0113339\ttest: 0.0129160\tbest: 0.0127375 (0)\ttotal: 62.9ms\tremaining: 1.51s\n",
            "4:\tlearn: 0.0111986\ttest: 0.0129951\tbest: 0.0127375 (0)\ttotal: 78.2ms\tremaining: 1.49s\n",
            "5:\tlearn: 0.0111313\ttest: 0.0130200\tbest: 0.0127375 (0)\ttotal: 94.1ms\tremaining: 1.47s\n",
            "6:\tlearn: 0.0110670\ttest: 0.0130779\tbest: 0.0127375 (0)\ttotal: 110ms\tremaining: 1.46s\n",
            "7:\tlearn: 0.0109908\ttest: 0.0131368\tbest: 0.0127375 (0)\ttotal: 126ms\tremaining: 1.44s\n",
            "8:\tlearn: 0.0109119\ttest: 0.0131399\tbest: 0.0127375 (0)\ttotal: 141ms\tremaining: 1.43s\n",
            "9:\tlearn: 0.0108465\ttest: 0.0131797\tbest: 0.0127375 (0)\ttotal: 157ms\tremaining: 1.41s\n",
            "10:\tlearn: 0.0107769\ttest: 0.0132269\tbest: 0.0127375 (0)\ttotal: 173ms\tremaining: 1.4s\n",
            "Stopped by overfitting detector  (10 iterations wait)\n",
            "\n",
            "bestTest = 0.01273753067\n",
            "bestIteration = 0\n",
            "\n",
            "Shrink model to first 1 iterations.\n"
          ]
        },
        {
          "name": "stderr",
          "output_type": "stream",
          "text": [
            "/usr/local/lib/python3.7/dist-packages/pypfopt/efficient_frontier/efficient_frontier.py:258: UserWarning: max_sharpe transforms the optimization problem so additional objectives may not work as expected.\n",
            "  \"max_sharpe transforms the optimization problem so additional objectives may not work as expected.\"\n"
          ]
        },
        {
          "name": "stdout",
          "output_type": "stream",
          "text": [
            "2021-12-20 00:00:00\n",
            "0:\tlearn: 0.0115334\ttest: 0.0128203\tbest: 0.0128203 (0)\ttotal: 16.1ms\tremaining: 1.59s\n",
            "1:\tlearn: 0.0113966\ttest: 0.0128073\tbest: 0.0128073 (1)\ttotal: 32.8ms\tremaining: 1.61s\n",
            "2:\tlearn: 0.0112814\ttest: 0.0127971\tbest: 0.0127971 (2)\ttotal: 48.2ms\tremaining: 1.56s\n",
            "3:\tlearn: 0.0112052\ttest: 0.0128055\tbest: 0.0127971 (2)\ttotal: 68.3ms\tremaining: 1.64s\n",
            "4:\tlearn: 0.0111129\ttest: 0.0128048\tbest: 0.0127971 (2)\ttotal: 94ms\tremaining: 1.79s\n",
            "5:\tlearn: 0.0110298\ttest: 0.0128260\tbest: 0.0127971 (2)\ttotal: 113ms\tremaining: 1.77s\n",
            "6:\tlearn: 0.0109275\ttest: 0.0128075\tbest: 0.0127971 (2)\ttotal: 129ms\tremaining: 1.71s\n",
            "7:\tlearn: 0.0108325\ttest: 0.0128373\tbest: 0.0127971 (2)\ttotal: 144ms\tremaining: 1.66s\n",
            "8:\tlearn: 0.0107532\ttest: 0.0128571\tbest: 0.0127971 (2)\ttotal: 160ms\tremaining: 1.62s\n",
            "9:\tlearn: 0.0106598\ttest: 0.0128845\tbest: 0.0127971 (2)\ttotal: 176ms\tremaining: 1.58s\n",
            "10:\tlearn: 0.0105920\ttest: 0.0128928\tbest: 0.0127971 (2)\ttotal: 192ms\tremaining: 1.55s\n",
            "11:\tlearn: 0.0105217\ttest: 0.0129148\tbest: 0.0127971 (2)\ttotal: 208ms\tremaining: 1.52s\n",
            "12:\tlearn: 0.0104604\ttest: 0.0129271\tbest: 0.0127971 (2)\ttotal: 230ms\tremaining: 1.54s\n",
            "Stopped by overfitting detector  (10 iterations wait)\n",
            "\n",
            "bestTest = 0.01279714002\n",
            "bestIteration = 2\n",
            "\n",
            "Shrink model to first 3 iterations.\n"
          ]
        },
        {
          "name": "stderr",
          "output_type": "stream",
          "text": [
            "/usr/local/lib/python3.7/dist-packages/pypfopt/efficient_frontier/efficient_frontier.py:258: UserWarning: max_sharpe transforms the optimization problem so additional objectives may not work as expected.\n",
            "  \"max_sharpe transforms the optimization problem so additional objectives may not work as expected.\"\n",
            "/usr/local/lib/python3.7/dist-packages/cvxpy/problems/problem.py:1334: UserWarning: Solution may be inaccurate. Try another solver, adjusting the solver settings, or solve with verbose=True for more information.\n",
            "  \"Solution may be inaccurate. Try another solver, \"\n"
          ]
        },
        {
          "name": "stdout",
          "output_type": "stream",
          "text": [
            "2021-12-21 00:00:00\n",
            "0:\tlearn: 0.0122213\ttest: 0.0125496\tbest: 0.0125496 (0)\ttotal: 16.5ms\tremaining: 1.64s\n",
            "1:\tlearn: 0.0121061\ttest: 0.0125621\tbest: 0.0125496 (0)\ttotal: 34.1ms\tremaining: 1.67s\n",
            "2:\tlearn: 0.0120014\ttest: 0.0125902\tbest: 0.0125496 (0)\ttotal: 49.4ms\tremaining: 1.6s\n",
            "3:\tlearn: 0.0119327\ttest: 0.0126029\tbest: 0.0125496 (0)\ttotal: 66.1ms\tremaining: 1.59s\n",
            "4:\tlearn: 0.0118315\ttest: 0.0126154\tbest: 0.0125496 (0)\ttotal: 81.5ms\tremaining: 1.55s\n",
            "5:\tlearn: 0.0117257\ttest: 0.0126357\tbest: 0.0125496 (0)\ttotal: 97.3ms\tremaining: 1.52s\n",
            "6:\tlearn: 0.0116366\ttest: 0.0126634\tbest: 0.0125496 (0)\ttotal: 113ms\tremaining: 1.5s\n",
            "7:\tlearn: 0.0115476\ttest: 0.0126912\tbest: 0.0125496 (0)\ttotal: 129ms\tremaining: 1.48s\n",
            "8:\tlearn: 0.0114698\ttest: 0.0127090\tbest: 0.0125496 (0)\ttotal: 144ms\tremaining: 1.46s\n",
            "9:\tlearn: 0.0113934\ttest: 0.0127350\tbest: 0.0125496 (0)\ttotal: 160ms\tremaining: 1.44s\n",
            "10:\tlearn: 0.0113241\ttest: 0.0127631\tbest: 0.0125496 (0)\ttotal: 176ms\tremaining: 1.43s\n",
            "Stopped by overfitting detector  (10 iterations wait)\n",
            "\n",
            "bestTest = 0.01254956117\n",
            "bestIteration = 0\n",
            "\n",
            "Shrink model to first 1 iterations.\n"
          ]
        },
        {
          "name": "stderr",
          "output_type": "stream",
          "text": [
            "/usr/local/lib/python3.7/dist-packages/pypfopt/efficient_frontier/efficient_frontier.py:258: UserWarning: max_sharpe transforms the optimization problem so additional objectives may not work as expected.\n",
            "  \"max_sharpe transforms the optimization problem so additional objectives may not work as expected.\"\n",
            "/usr/local/lib/python3.7/dist-packages/cvxpy/problems/problem.py:1334: UserWarning: Solution may be inaccurate. Try another solver, adjusting the solver settings, or solve with verbose=True for more information.\n",
            "  \"Solution may be inaccurate. Try another solver, \"\n"
          ]
        },
        {
          "name": "stdout",
          "output_type": "stream",
          "text": [
            "2021-12-22 00:00:00\n",
            "0:\tlearn: 0.0129610\ttest: 0.0123526\tbest: 0.0123526 (0)\ttotal: 16.1ms\tremaining: 1.6s\n",
            "1:\tlearn: 0.0128112\ttest: 0.0123762\tbest: 0.0123526 (0)\ttotal: 31.5ms\tremaining: 1.54s\n",
            "2:\tlearn: 0.0126486\ttest: 0.0124215\tbest: 0.0123526 (0)\ttotal: 46.5ms\tremaining: 1.5s\n",
            "3:\tlearn: 0.0125020\ttest: 0.0124251\tbest: 0.0123526 (0)\ttotal: 63.1ms\tremaining: 1.51s\n",
            "4:\tlearn: 0.0123729\ttest: 0.0124790\tbest: 0.0123526 (0)\ttotal: 78.6ms\tremaining: 1.49s\n",
            "5:\tlearn: 0.0122453\ttest: 0.0124936\tbest: 0.0123526 (0)\ttotal: 94.6ms\tremaining: 1.48s\n",
            "6:\tlearn: 0.0121291\ttest: 0.0125591\tbest: 0.0123526 (0)\ttotal: 110ms\tremaining: 1.46s\n",
            "7:\tlearn: 0.0120365\ttest: 0.0125713\tbest: 0.0123526 (0)\ttotal: 127ms\tremaining: 1.46s\n",
            "8:\tlearn: 0.0119065\ttest: 0.0126285\tbest: 0.0123526 (0)\ttotal: 142ms\tremaining: 1.43s\n",
            "9:\tlearn: 0.0117936\ttest: 0.0126792\tbest: 0.0123526 (0)\ttotal: 157ms\tremaining: 1.41s\n",
            "10:\tlearn: 0.0117114\ttest: 0.0127070\tbest: 0.0123526 (0)\ttotal: 173ms\tremaining: 1.4s\n",
            "Stopped by overfitting detector  (10 iterations wait)\n",
            "\n",
            "bestTest = 0.01235259546\n",
            "bestIteration = 0\n",
            "\n",
            "Shrink model to first 1 iterations.\n"
          ]
        },
        {
          "name": "stderr",
          "output_type": "stream",
          "text": [
            "/usr/local/lib/python3.7/dist-packages/pypfopt/efficient_frontier/efficient_frontier.py:258: UserWarning: max_sharpe transforms the optimization problem so additional objectives may not work as expected.\n",
            "  \"max_sharpe transforms the optimization problem so additional objectives may not work as expected.\"\n",
            "/usr/local/lib/python3.7/dist-packages/cvxpy/problems/problem.py:1334: UserWarning: Solution may be inaccurate. Try another solver, adjusting the solver settings, or solve with verbose=True for more information.\n",
            "  \"Solution may be inaccurate. Try another solver, \"\n"
          ]
        },
        {
          "name": "stdout",
          "output_type": "stream",
          "text": [
            "2021-12-23 00:00:00\n",
            "0:\tlearn: 0.0126015\ttest: 0.0124762\tbest: 0.0124762 (0)\ttotal: 25.1ms\tremaining: 2.48s\n",
            "1:\tlearn: 0.0125076\ttest: 0.0125053\tbest: 0.0124762 (0)\ttotal: 41.9ms\tremaining: 2.05s\n",
            "2:\tlearn: 0.0123203\ttest: 0.0125123\tbest: 0.0124762 (0)\ttotal: 56.9ms\tremaining: 1.84s\n",
            "3:\tlearn: 0.0122102\ttest: 0.0125534\tbest: 0.0124762 (0)\ttotal: 73.1ms\tremaining: 1.75s\n",
            "4:\tlearn: 0.0120533\ttest: 0.0125916\tbest: 0.0124762 (0)\ttotal: 88.5ms\tremaining: 1.68s\n",
            "5:\tlearn: 0.0119345\ttest: 0.0126278\tbest: 0.0124762 (0)\ttotal: 104ms\tremaining: 1.62s\n",
            "6:\tlearn: 0.0118457\ttest: 0.0126317\tbest: 0.0124762 (0)\ttotal: 123ms\tremaining: 1.64s\n",
            "7:\tlearn: 0.0117815\ttest: 0.0126826\tbest: 0.0124762 (0)\ttotal: 139ms\tremaining: 1.59s\n",
            "8:\tlearn: 0.0116706\ttest: 0.0127365\tbest: 0.0124762 (0)\ttotal: 154ms\tremaining: 1.55s\n",
            "9:\tlearn: 0.0116013\ttest: 0.0127564\tbest: 0.0124762 (0)\ttotal: 169ms\tremaining: 1.52s\n",
            "10:\tlearn: 0.0115239\ttest: 0.0128144\tbest: 0.0124762 (0)\ttotal: 184ms\tremaining: 1.49s\n",
            "Stopped by overfitting detector  (10 iterations wait)\n",
            "\n",
            "bestTest = 0.01247623579\n",
            "bestIteration = 0\n",
            "\n",
            "Shrink model to first 1 iterations.\n"
          ]
        },
        {
          "name": "stderr",
          "output_type": "stream",
          "text": [
            "/usr/local/lib/python3.7/dist-packages/pypfopt/efficient_frontier/efficient_frontier.py:258: UserWarning: max_sharpe transforms the optimization problem so additional objectives may not work as expected.\n",
            "  \"max_sharpe transforms the optimization problem so additional objectives may not work as expected.\"\n",
            "/usr/local/lib/python3.7/dist-packages/cvxpy/problems/problem.py:1334: UserWarning: Solution may be inaccurate. Try another solver, adjusting the solver settings, or solve with verbose=True for more information.\n",
            "  \"Solution may be inaccurate. Try another solver, \"\n"
          ]
        },
        {
          "name": "stdout",
          "output_type": "stream",
          "text": [
            "2021-12-27 00:00:00\n",
            "0:\tlearn: 0.0132370\ttest: 0.0120725\tbest: 0.0120725 (0)\ttotal: 16.2ms\tremaining: 1.61s\n",
            "1:\tlearn: 0.0130734\ttest: 0.0120511\tbest: 0.0120511 (1)\ttotal: 32.9ms\tremaining: 1.61s\n",
            "2:\tlearn: 0.0128689\ttest: 0.0120433\tbest: 0.0120433 (2)\ttotal: 48ms\tremaining: 1.55s\n",
            "3:\tlearn: 0.0127286\ttest: 0.0120958\tbest: 0.0120433 (2)\ttotal: 63.8ms\tremaining: 1.53s\n",
            "4:\tlearn: 0.0125402\ttest: 0.0121556\tbest: 0.0120433 (2)\ttotal: 79.1ms\tremaining: 1.5s\n",
            "5:\tlearn: 0.0123785\ttest: 0.0121795\tbest: 0.0120433 (2)\ttotal: 94.8ms\tremaining: 1.48s\n",
            "6:\tlearn: 0.0122458\ttest: 0.0122511\tbest: 0.0120433 (2)\ttotal: 111ms\tremaining: 1.47s\n",
            "7:\tlearn: 0.0121449\ttest: 0.0122713\tbest: 0.0120433 (2)\ttotal: 127ms\tremaining: 1.46s\n",
            "8:\tlearn: 0.0120538\ttest: 0.0122874\tbest: 0.0120433 (2)\ttotal: 142ms\tremaining: 1.44s\n",
            "9:\tlearn: 0.0119591\ttest: 0.0124013\tbest: 0.0120433 (2)\ttotal: 158ms\tremaining: 1.42s\n",
            "10:\tlearn: 0.0118655\ttest: 0.0123964\tbest: 0.0120433 (2)\ttotal: 176ms\tremaining: 1.43s\n",
            "11:\tlearn: 0.0117836\ttest: 0.0123908\tbest: 0.0120433 (2)\ttotal: 192ms\tremaining: 1.41s\n",
            "12:\tlearn: 0.0117259\ttest: 0.0124088\tbest: 0.0120433 (2)\ttotal: 207ms\tremaining: 1.39s\n",
            "Stopped by overfitting detector  (10 iterations wait)\n",
            "\n",
            "bestTest = 0.01204330339\n",
            "bestIteration = 2\n",
            "\n",
            "Shrink model to first 3 iterations.\n"
          ]
        },
        {
          "name": "stderr",
          "output_type": "stream",
          "text": [
            "/usr/local/lib/python3.7/dist-packages/pypfopt/efficient_frontier/efficient_frontier.py:258: UserWarning: max_sharpe transforms the optimization problem so additional objectives may not work as expected.\n",
            "  \"max_sharpe transforms the optimization problem so additional objectives may not work as expected.\"\n"
          ]
        },
        {
          "name": "stdout",
          "output_type": "stream",
          "text": [
            "2021-12-28 00:00:00\n",
            "0:\tlearn: 0.0123415\ttest: 0.0125313\tbest: 0.0125313 (0)\ttotal: 15.8ms\tremaining: 1.57s\n",
            "1:\tlearn: 0.0121699\ttest: 0.0125466\tbest: 0.0125313 (0)\ttotal: 31.8ms\tremaining: 1.56s\n",
            "2:\tlearn: 0.0120004\ttest: 0.0125743\tbest: 0.0125313 (0)\ttotal: 47.2ms\tremaining: 1.52s\n",
            "3:\tlearn: 0.0118734\ttest: 0.0125954\tbest: 0.0125313 (0)\ttotal: 62.9ms\tremaining: 1.51s\n",
            "4:\tlearn: 0.0117395\ttest: 0.0126268\tbest: 0.0125313 (0)\ttotal: 78ms\tremaining: 1.48s\n",
            "5:\tlearn: 0.0116282\ttest: 0.0126585\tbest: 0.0125313 (0)\ttotal: 93.1ms\tremaining: 1.46s\n",
            "6:\tlearn: 0.0115232\ttest: 0.0126810\tbest: 0.0125313 (0)\ttotal: 110ms\tremaining: 1.46s\n",
            "7:\tlearn: 0.0114457\ttest: 0.0126966\tbest: 0.0125313 (0)\ttotal: 127ms\tremaining: 1.46s\n",
            "8:\tlearn: 0.0113861\ttest: 0.0127060\tbest: 0.0125313 (0)\ttotal: 142ms\tremaining: 1.44s\n",
            "9:\tlearn: 0.0112816\ttest: 0.0126969\tbest: 0.0125313 (0)\ttotal: 158ms\tremaining: 1.42s\n",
            "10:\tlearn: 0.0111885\ttest: 0.0127383\tbest: 0.0125313 (0)\ttotal: 174ms\tremaining: 1.4s\n",
            "Stopped by overfitting detector  (10 iterations wait)\n",
            "\n",
            "bestTest = 0.01253126929\n",
            "bestIteration = 0\n",
            "\n",
            "Shrink model to first 1 iterations.\n"
          ]
        },
        {
          "name": "stderr",
          "output_type": "stream",
          "text": [
            "/usr/local/lib/python3.7/dist-packages/pypfopt/efficient_frontier/efficient_frontier.py:258: UserWarning: max_sharpe transforms the optimization problem so additional objectives may not work as expected.\n",
            "  \"max_sharpe transforms the optimization problem so additional objectives may not work as expected.\"\n"
          ]
        },
        {
          "name": "stdout",
          "output_type": "stream",
          "text": [
            "2021-12-29 00:00:00\n",
            "0:\tlearn: 0.0119103\ttest: 0.0126204\tbest: 0.0126204 (0)\ttotal: 17.5ms\tremaining: 1.73s\n",
            "1:\tlearn: 0.0117538\ttest: 0.0125562\tbest: 0.0125562 (1)\ttotal: 33.7ms\tremaining: 1.65s\n",
            "2:\tlearn: 0.0116523\ttest: 0.0125723\tbest: 0.0125562 (1)\ttotal: 49.6ms\tremaining: 1.6s\n",
            "3:\tlearn: 0.0115406\ttest: 0.0125840\tbest: 0.0125562 (1)\ttotal: 66.1ms\tremaining: 1.58s\n",
            "4:\tlearn: 0.0114178\ttest: 0.0125823\tbest: 0.0125562 (1)\ttotal: 81.1ms\tremaining: 1.54s\n",
            "5:\tlearn: 0.0113285\ttest: 0.0126289\tbest: 0.0125562 (1)\ttotal: 96.8ms\tremaining: 1.51s\n",
            "6:\tlearn: 0.0112363\ttest: 0.0126476\tbest: 0.0125562 (1)\ttotal: 114ms\tremaining: 1.51s\n",
            "7:\tlearn: 0.0111345\ttest: 0.0125982\tbest: 0.0125562 (1)\ttotal: 131ms\tremaining: 1.51s\n",
            "8:\tlearn: 0.0110460\ttest: 0.0125805\tbest: 0.0125562 (1)\ttotal: 146ms\tremaining: 1.48s\n",
            "9:\tlearn: 0.0109672\ttest: 0.0125934\tbest: 0.0125562 (1)\ttotal: 162ms\tremaining: 1.45s\n",
            "10:\tlearn: 0.0109061\ttest: 0.0126136\tbest: 0.0125562 (1)\ttotal: 177ms\tremaining: 1.43s\n",
            "11:\tlearn: 0.0108427\ttest: 0.0126247\tbest: 0.0125562 (1)\ttotal: 193ms\tremaining: 1.41s\n",
            "Stopped by overfitting detector  (10 iterations wait)\n",
            "\n",
            "bestTest = 0.01255617428\n",
            "bestIteration = 1\n",
            "\n",
            "Shrink model to first 2 iterations.\n"
          ]
        },
        {
          "name": "stderr",
          "output_type": "stream",
          "text": [
            "/usr/local/lib/python3.7/dist-packages/pypfopt/efficient_frontier/efficient_frontier.py:258: UserWarning: max_sharpe transforms the optimization problem so additional objectives may not work as expected.\n",
            "  \"max_sharpe transforms the optimization problem so additional objectives may not work as expected.\"\n"
          ]
        },
        {
          "name": "stdout",
          "output_type": "stream",
          "text": [
            "2021-12-30 00:00:00\n",
            "0:\tlearn: 0.0121693\ttest: 0.0129240\tbest: 0.0129240 (0)\ttotal: 16ms\tremaining: 1.58s\n",
            "1:\tlearn: 0.0119754\ttest: 0.0129580\tbest: 0.0129240 (0)\ttotal: 33.2ms\tremaining: 1.63s\n",
            "2:\tlearn: 0.0117663\ttest: 0.0129879\tbest: 0.0129240 (0)\ttotal: 48.7ms\tremaining: 1.57s\n",
            "3:\tlearn: 0.0116345\ttest: 0.0130293\tbest: 0.0129240 (0)\ttotal: 64.9ms\tremaining: 1.56s\n",
            "4:\tlearn: 0.0115401\ttest: 0.0130787\tbest: 0.0129240 (0)\ttotal: 82.6ms\tremaining: 1.57s\n",
            "5:\tlearn: 0.0114126\ttest: 0.0130818\tbest: 0.0129240 (0)\ttotal: 107ms\tremaining: 1.68s\n",
            "6:\tlearn: 0.0112484\ttest: 0.0130558\tbest: 0.0129240 (0)\ttotal: 123ms\tremaining: 1.63s\n",
            "7:\tlearn: 0.0111772\ttest: 0.0130956\tbest: 0.0129240 (0)\ttotal: 139ms\tremaining: 1.59s\n",
            "8:\tlearn: 0.0110793\ttest: 0.0131061\tbest: 0.0129240 (0)\ttotal: 154ms\tremaining: 1.56s\n",
            "9:\tlearn: 0.0109799\ttest: 0.0131232\tbest: 0.0129240 (0)\ttotal: 170ms\tremaining: 1.53s\n",
            "10:\tlearn: 0.0109007\ttest: 0.0131254\tbest: 0.0129240 (0)\ttotal: 185ms\tremaining: 1.5s\n",
            "Stopped by overfitting detector  (10 iterations wait)\n",
            "\n",
            "bestTest = 0.01292400737\n",
            "bestIteration = 0\n",
            "\n",
            "Shrink model to first 1 iterations.\n"
          ]
        },
        {
          "name": "stderr",
          "output_type": "stream",
          "text": [
            "/usr/local/lib/python3.7/dist-packages/pypfopt/efficient_frontier/efficient_frontier.py:258: UserWarning: max_sharpe transforms the optimization problem so additional objectives may not work as expected.\n",
            "  \"max_sharpe transforms the optimization problem so additional objectives may not work as expected.\"\n"
          ]
        },
        {
          "name": "stdout",
          "output_type": "stream",
          "text": [
            "2021-12-31 00:00:00\n",
            "0:\tlearn: 0.0108582\ttest: 0.0130408\tbest: 0.0130408 (0)\ttotal: 16.1ms\tremaining: 1.59s\n",
            "1:\tlearn: 0.0107576\ttest: 0.0130600\tbest: 0.0130408 (0)\ttotal: 33ms\tremaining: 1.61s\n",
            "2:\tlearn: 0.0106581\ttest: 0.0130831\tbest: 0.0130408 (0)\ttotal: 48.3ms\tremaining: 1.56s\n",
            "3:\tlearn: 0.0105936\ttest: 0.0131052\tbest: 0.0130408 (0)\ttotal: 64ms\tremaining: 1.53s\n",
            "4:\tlearn: 0.0105116\ttest: 0.0131277\tbest: 0.0130408 (0)\ttotal: 80.8ms\tremaining: 1.53s\n",
            "5:\tlearn: 0.0104361\ttest: 0.0131525\tbest: 0.0130408 (0)\ttotal: 97.5ms\tremaining: 1.53s\n",
            "6:\tlearn: 0.0103779\ttest: 0.0131622\tbest: 0.0130408 (0)\ttotal: 113ms\tremaining: 1.5s\n",
            "7:\tlearn: 0.0103201\ttest: 0.0131874\tbest: 0.0130408 (0)\ttotal: 128ms\tremaining: 1.47s\n",
            "8:\tlearn: 0.0102569\ttest: 0.0132049\tbest: 0.0130408 (0)\ttotal: 144ms\tremaining: 1.45s\n",
            "9:\tlearn: 0.0102017\ttest: 0.0132272\tbest: 0.0130408 (0)\ttotal: 159ms\tremaining: 1.43s\n",
            "10:\tlearn: 0.0101535\ttest: 0.0132485\tbest: 0.0130408 (0)\ttotal: 174ms\tremaining: 1.41s\n",
            "Stopped by overfitting detector  (10 iterations wait)\n",
            "\n",
            "bestTest = 0.01304082446\n",
            "bestIteration = 0\n",
            "\n",
            "Shrink model to first 1 iterations.\n"
          ]
        },
        {
          "name": "stderr",
          "output_type": "stream",
          "text": [
            "/usr/local/lib/python3.7/dist-packages/pypfopt/efficient_frontier/efficient_frontier.py:258: UserWarning: max_sharpe transforms the optimization problem so additional objectives may not work as expected.\n",
            "  \"max_sharpe transforms the optimization problem so additional objectives may not work as expected.\"\n"
          ]
        },
        {
          "name": "stdout",
          "output_type": "stream",
          "text": [
            "2022-01-03 00:00:00\n",
            "0:\tlearn: 0.0126244\ttest: 0.0121406\tbest: 0.0121406 (0)\ttotal: 17.4ms\tremaining: 1.72s\n",
            "1:\tlearn: 0.0123507\ttest: 0.0121514\tbest: 0.0121406 (0)\ttotal: 33.6ms\tremaining: 1.65s\n",
            "2:\tlearn: 0.0121390\ttest: 0.0121790\tbest: 0.0121406 (0)\ttotal: 48.9ms\tremaining: 1.58s\n",
            "3:\tlearn: 0.0119874\ttest: 0.0122024\tbest: 0.0121406 (0)\ttotal: 65.8ms\tremaining: 1.58s\n",
            "4:\tlearn: 0.0118109\ttest: 0.0122074\tbest: 0.0121406 (0)\ttotal: 81.2ms\tremaining: 1.54s\n",
            "5:\tlearn: 0.0116632\ttest: 0.0122430\tbest: 0.0121406 (0)\ttotal: 99.6ms\tremaining: 1.56s\n",
            "6:\tlearn: 0.0115095\ttest: 0.0122445\tbest: 0.0121406 (0)\ttotal: 115ms\tremaining: 1.53s\n",
            "7:\tlearn: 0.0113654\ttest: 0.0123000\tbest: 0.0121406 (0)\ttotal: 132ms\tremaining: 1.51s\n",
            "8:\tlearn: 0.0112423\ttest: 0.0123506\tbest: 0.0121406 (0)\ttotal: 147ms\tremaining: 1.49s\n",
            "9:\tlearn: 0.0111286\ttest: 0.0123678\tbest: 0.0121406 (0)\ttotal: 163ms\tremaining: 1.47s\n",
            "10:\tlearn: 0.0110294\ttest: 0.0123728\tbest: 0.0121406 (0)\ttotal: 178ms\tremaining: 1.44s\n",
            "Stopped by overfitting detector  (10 iterations wait)\n",
            "\n",
            "bestTest = 0.01214064386\n",
            "bestIteration = 0\n",
            "\n",
            "Shrink model to first 1 iterations.\n"
          ]
        },
        {
          "name": "stderr",
          "output_type": "stream",
          "text": [
            "/usr/local/lib/python3.7/dist-packages/pypfopt/efficient_frontier/efficient_frontier.py:258: UserWarning: max_sharpe transforms the optimization problem so additional objectives may not work as expected.\n",
            "  \"max_sharpe transforms the optimization problem so additional objectives may not work as expected.\"\n"
          ]
        },
        {
          "name": "stdout",
          "output_type": "stream",
          "text": [
            "2022-01-04 00:00:00\n",
            "0:\tlearn: 0.0133414\ttest: 0.0118757\tbest: 0.0118757 (0)\ttotal: 16.6ms\tremaining: 1.65s\n",
            "1:\tlearn: 0.0130288\ttest: 0.0119329\tbest: 0.0118757 (0)\ttotal: 32.4ms\tremaining: 1.59s\n",
            "2:\tlearn: 0.0127534\ttest: 0.0119794\tbest: 0.0118757 (0)\ttotal: 47.9ms\tremaining: 1.55s\n",
            "3:\tlearn: 0.0125431\ttest: 0.0120525\tbest: 0.0118757 (0)\ttotal: 64.6ms\tremaining: 1.55s\n",
            "4:\tlearn: 0.0123664\ttest: 0.0121312\tbest: 0.0118757 (0)\ttotal: 81.5ms\tremaining: 1.55s\n",
            "5:\tlearn: 0.0121999\ttest: 0.0122396\tbest: 0.0118757 (0)\ttotal: 97ms\tremaining: 1.52s\n",
            "6:\tlearn: 0.0120567\ttest: 0.0123279\tbest: 0.0118757 (0)\ttotal: 113ms\tremaining: 1.5s\n",
            "7:\tlearn: 0.0119260\ttest: 0.0123986\tbest: 0.0118757 (0)\ttotal: 128ms\tremaining: 1.48s\n",
            "8:\tlearn: 0.0117948\ttest: 0.0125047\tbest: 0.0118757 (0)\ttotal: 144ms\tremaining: 1.46s\n",
            "9:\tlearn: 0.0116759\ttest: 0.0125726\tbest: 0.0118757 (0)\ttotal: 160ms\tremaining: 1.44s\n",
            "10:\tlearn: 0.0115635\ttest: 0.0126607\tbest: 0.0118757 (0)\ttotal: 176ms\tremaining: 1.42s\n",
            "Stopped by overfitting detector  (10 iterations wait)\n",
            "\n",
            "bestTest = 0.01187566759\n",
            "bestIteration = 0\n",
            "\n",
            "Shrink model to first 1 iterations.\n"
          ]
        },
        {
          "name": "stderr",
          "output_type": "stream",
          "text": [
            "/usr/local/lib/python3.7/dist-packages/pypfopt/efficient_frontier/efficient_frontier.py:258: UserWarning: max_sharpe transforms the optimization problem so additional objectives may not work as expected.\n",
            "  \"max_sharpe transforms the optimization problem so additional objectives may not work as expected.\"\n"
          ]
        },
        {
          "name": "stdout",
          "output_type": "stream",
          "text": [
            "2022-01-05 00:00:00\n",
            "0:\tlearn: 0.0124974\ttest: 0.0125846\tbest: 0.0125846 (0)\ttotal: 15.8ms\tremaining: 1.56s\n",
            "1:\tlearn: 0.0123143\ttest: 0.0125872\tbest: 0.0125846 (0)\ttotal: 32.2ms\tremaining: 1.58s\n",
            "2:\tlearn: 0.0120900\ttest: 0.0126461\tbest: 0.0125846 (0)\ttotal: 46.9ms\tremaining: 1.52s\n",
            "3:\tlearn: 0.0119237\ttest: 0.0127153\tbest: 0.0125846 (0)\ttotal: 62.7ms\tremaining: 1.5s\n",
            "4:\tlearn: 0.0117770\ttest: 0.0127959\tbest: 0.0125846 (0)\ttotal: 77.5ms\tremaining: 1.47s\n",
            "5:\tlearn: 0.0116623\ttest: 0.0128737\tbest: 0.0125846 (0)\ttotal: 92.9ms\tremaining: 1.45s\n",
            "6:\tlearn: 0.0115575\ttest: 0.0129853\tbest: 0.0125846 (0)\ttotal: 108ms\tremaining: 1.43s\n",
            "7:\tlearn: 0.0114434\ttest: 0.0129957\tbest: 0.0125846 (0)\ttotal: 123ms\tremaining: 1.42s\n",
            "8:\tlearn: 0.0113352\ttest: 0.0130109\tbest: 0.0125846 (0)\ttotal: 139ms\tremaining: 1.41s\n",
            "9:\tlearn: 0.0112277\ttest: 0.0130544\tbest: 0.0125846 (0)\ttotal: 154ms\tremaining: 1.39s\n",
            "10:\tlearn: 0.0111312\ttest: 0.0131016\tbest: 0.0125846 (0)\ttotal: 169ms\tremaining: 1.37s\n",
            "Stopped by overfitting detector  (10 iterations wait)\n",
            "\n",
            "bestTest = 0.0125845599\n",
            "bestIteration = 0\n",
            "\n",
            "Shrink model to first 1 iterations.\n"
          ]
        },
        {
          "name": "stderr",
          "output_type": "stream",
          "text": [
            "/usr/local/lib/python3.7/dist-packages/pypfopt/efficient_frontier/efficient_frontier.py:258: UserWarning: max_sharpe transforms the optimization problem so additional objectives may not work as expected.\n",
            "  \"max_sharpe transforms the optimization problem so additional objectives may not work as expected.\"\n"
          ]
        },
        {
          "name": "stdout",
          "output_type": "stream",
          "text": [
            "2022-01-06 00:00:00\n",
            "0:\tlearn: 0.0128921\ttest: 0.0123786\tbest: 0.0123786 (0)\ttotal: 16ms\tremaining: 1.58s\n",
            "1:\tlearn: 0.0127297\ttest: 0.0123627\tbest: 0.0123627 (1)\ttotal: 32.9ms\tremaining: 1.61s\n",
            "2:\tlearn: 0.0125282\ttest: 0.0123714\tbest: 0.0123627 (1)\ttotal: 47.7ms\tremaining: 1.54s\n",
            "3:\tlearn: 0.0123840\ttest: 0.0123939\tbest: 0.0123627 (1)\ttotal: 63.7ms\tremaining: 1.53s\n",
            "4:\tlearn: 0.0122188\ttest: 0.0124448\tbest: 0.0123627 (1)\ttotal: 78.9ms\tremaining: 1.5s\n",
            "5:\tlearn: 0.0121141\ttest: 0.0124463\tbest: 0.0123627 (1)\ttotal: 94.6ms\tremaining: 1.48s\n",
            "6:\tlearn: 0.0120111\ttest: 0.0124733\tbest: 0.0123627 (1)\ttotal: 110ms\tremaining: 1.46s\n",
            "7:\tlearn: 0.0119130\ttest: 0.0124943\tbest: 0.0123627 (1)\ttotal: 126ms\tremaining: 1.45s\n",
            "8:\tlearn: 0.0118238\ttest: 0.0125050\tbest: 0.0123627 (1)\ttotal: 142ms\tremaining: 1.44s\n",
            "9:\tlearn: 0.0117292\ttest: 0.0125132\tbest: 0.0123627 (1)\ttotal: 157ms\tremaining: 1.42s\n",
            "10:\tlearn: 0.0116275\ttest: 0.0125772\tbest: 0.0123627 (1)\ttotal: 172ms\tremaining: 1.4s\n",
            "11:\tlearn: 0.0115622\ttest: 0.0126034\tbest: 0.0123627 (1)\ttotal: 188ms\tremaining: 1.38s\n",
            "Stopped by overfitting detector  (10 iterations wait)\n",
            "\n",
            "bestTest = 0.0123626535\n",
            "bestIteration = 1\n",
            "\n",
            "Shrink model to first 2 iterations.\n"
          ]
        },
        {
          "name": "stderr",
          "output_type": "stream",
          "text": [
            "/usr/local/lib/python3.7/dist-packages/pypfopt/efficient_frontier/efficient_frontier.py:258: UserWarning: max_sharpe transforms the optimization problem so additional objectives may not work as expected.\n",
            "  \"max_sharpe transforms the optimization problem so additional objectives may not work as expected.\"\n",
            "/usr/local/lib/python3.7/dist-packages/cvxpy/problems/problem.py:1334: UserWarning: Solution may be inaccurate. Try another solver, adjusting the solver settings, or solve with verbose=True for more information.\n",
            "  \"Solution may be inaccurate. Try another solver, \"\n"
          ]
        },
        {
          "name": "stdout",
          "output_type": "stream",
          "text": [
            "2022-01-07 00:00:00\n",
            "0:\tlearn: 0.0129169\ttest: 0.0124898\tbest: 0.0124898 (0)\ttotal: 18ms\tremaining: 1.78s\n",
            "1:\tlearn: 0.0127460\ttest: 0.0125394\tbest: 0.0124898 (0)\ttotal: 34.4ms\tremaining: 1.69s\n",
            "2:\tlearn: 0.0125748\ttest: 0.0126072\tbest: 0.0124898 (0)\ttotal: 49.5ms\tremaining: 1.6s\n",
            "3:\tlearn: 0.0124636\ttest: 0.0126534\tbest: 0.0124898 (0)\ttotal: 65.7ms\tremaining: 1.58s\n",
            "4:\tlearn: 0.0123456\ttest: 0.0127120\tbest: 0.0124898 (0)\ttotal: 81.2ms\tremaining: 1.54s\n",
            "5:\tlearn: 0.0122547\ttest: 0.0127553\tbest: 0.0124898 (0)\ttotal: 98.3ms\tremaining: 1.54s\n",
            "6:\tlearn: 0.0121633\ttest: 0.0127782\tbest: 0.0124898 (0)\ttotal: 116ms\tremaining: 1.54s\n",
            "7:\tlearn: 0.0120999\ttest: 0.0128222\tbest: 0.0124898 (0)\ttotal: 132ms\tremaining: 1.51s\n",
            "8:\tlearn: 0.0120204\ttest: 0.0128789\tbest: 0.0124898 (0)\ttotal: 148ms\tremaining: 1.49s\n",
            "9:\tlearn: 0.0119643\ttest: 0.0129164\tbest: 0.0124898 (0)\ttotal: 164ms\tremaining: 1.47s\n",
            "10:\tlearn: 0.0118685\ttest: 0.0129439\tbest: 0.0124898 (0)\ttotal: 179ms\tremaining: 1.45s\n",
            "Stopped by overfitting detector  (10 iterations wait)\n",
            "\n",
            "bestTest = 0.01248975933\n",
            "bestIteration = 0\n",
            "\n",
            "Shrink model to first 1 iterations.\n"
          ]
        },
        {
          "name": "stderr",
          "output_type": "stream",
          "text": [
            "/usr/local/lib/python3.7/dist-packages/pypfopt/efficient_frontier/efficient_frontier.py:258: UserWarning: max_sharpe transforms the optimization problem so additional objectives may not work as expected.\n",
            "  \"max_sharpe transforms the optimization problem so additional objectives may not work as expected.\"\n",
            "/usr/local/lib/python3.7/dist-packages/cvxpy/problems/problem.py:1334: UserWarning: Solution may be inaccurate. Try another solver, adjusting the solver settings, or solve with verbose=True for more information.\n",
            "  \"Solution may be inaccurate. Try another solver, \"\n"
          ]
        },
        {
          "name": "stdout",
          "output_type": "stream",
          "text": [
            "2022-01-10 00:00:00\n",
            "0:\tlearn: 0.0123406\ttest: 0.0126443\tbest: 0.0126443 (0)\ttotal: 15.6ms\tremaining: 1.54s\n",
            "1:\tlearn: 0.0121489\ttest: 0.0126333\tbest: 0.0126333 (1)\ttotal: 31.5ms\tremaining: 1.54s\n",
            "2:\tlearn: 0.0119441\ttest: 0.0126368\tbest: 0.0126333 (1)\ttotal: 46.8ms\tremaining: 1.51s\n",
            "3:\tlearn: 0.0118057\ttest: 0.0126459\tbest: 0.0126333 (1)\ttotal: 62.3ms\tremaining: 1.49s\n",
            "4:\tlearn: 0.0116394\ttest: 0.0126733\tbest: 0.0126333 (1)\ttotal: 77ms\tremaining: 1.46s\n",
            "5:\tlearn: 0.0115250\ttest: 0.0126788\tbest: 0.0126333 (1)\ttotal: 92.2ms\tremaining: 1.44s\n",
            "6:\tlearn: 0.0114113\ttest: 0.0127021\tbest: 0.0126333 (1)\ttotal: 107ms\tremaining: 1.42s\n",
            "7:\tlearn: 0.0113136\ttest: 0.0127214\tbest: 0.0126333 (1)\ttotal: 122ms\tremaining: 1.4s\n",
            "8:\tlearn: 0.0111895\ttest: 0.0127536\tbest: 0.0126333 (1)\ttotal: 139ms\tremaining: 1.41s\n",
            "9:\tlearn: 0.0110826\ttest: 0.0128051\tbest: 0.0126333 (1)\ttotal: 154ms\tremaining: 1.39s\n",
            "10:\tlearn: 0.0109940\ttest: 0.0128336\tbest: 0.0126333 (1)\ttotal: 170ms\tremaining: 1.37s\n",
            "11:\tlearn: 0.0108697\ttest: 0.0128652\tbest: 0.0126333 (1)\ttotal: 185ms\tremaining: 1.36s\n",
            "Stopped by overfitting detector  (10 iterations wait)\n",
            "\n",
            "bestTest = 0.01263333409\n",
            "bestIteration = 1\n",
            "\n",
            "Shrink model to first 2 iterations.\n"
          ]
        },
        {
          "name": "stderr",
          "output_type": "stream",
          "text": [
            "/usr/local/lib/python3.7/dist-packages/pypfopt/efficient_frontier/efficient_frontier.py:258: UserWarning: max_sharpe transforms the optimization problem so additional objectives may not work as expected.\n",
            "  \"max_sharpe transforms the optimization problem so additional objectives may not work as expected.\"\n"
          ]
        },
        {
          "name": "stdout",
          "output_type": "stream",
          "text": [
            "2022-01-11 00:00:00\n",
            "0:\tlearn: 0.0110933\ttest: 0.0132553\tbest: 0.0132553 (0)\ttotal: 15.6ms\tremaining: 1.54s\n",
            "1:\tlearn: 0.0109535\ttest: 0.0132519\tbest: 0.0132519 (1)\ttotal: 41.4ms\tremaining: 2.03s\n",
            "2:\tlearn: 0.0108299\ttest: 0.0132593\tbest: 0.0132519 (1)\ttotal: 56.9ms\tremaining: 1.84s\n",
            "3:\tlearn: 0.0107236\ttest: 0.0132634\tbest: 0.0132519 (1)\ttotal: 73.4ms\tremaining: 1.76s\n",
            "4:\tlearn: 0.0106132\ttest: 0.0132833\tbest: 0.0132519 (1)\ttotal: 88.5ms\tremaining: 1.68s\n",
            "5:\tlearn: 0.0105325\ttest: 0.0133077\tbest: 0.0132519 (1)\ttotal: 106ms\tremaining: 1.65s\n",
            "6:\tlearn: 0.0104419\ttest: 0.0133451\tbest: 0.0132519 (1)\ttotal: 124ms\tremaining: 1.64s\n",
            "7:\tlearn: 0.0103872\ttest: 0.0133676\tbest: 0.0132519 (1)\ttotal: 139ms\tremaining: 1.6s\n",
            "8:\tlearn: 0.0103128\ttest: 0.0133977\tbest: 0.0132519 (1)\ttotal: 155ms\tremaining: 1.57s\n",
            "9:\tlearn: 0.0102302\ttest: 0.0134107\tbest: 0.0132519 (1)\ttotal: 171ms\tremaining: 1.54s\n",
            "10:\tlearn: 0.0101630\ttest: 0.0134274\tbest: 0.0132519 (1)\ttotal: 187ms\tremaining: 1.51s\n",
            "11:\tlearn: 0.0101090\ttest: 0.0134362\tbest: 0.0132519 (1)\ttotal: 202ms\tremaining: 1.48s\n",
            "Stopped by overfitting detector  (10 iterations wait)\n",
            "\n",
            "bestTest = 0.01325187032\n",
            "bestIteration = 1\n",
            "\n",
            "Shrink model to first 2 iterations.\n"
          ]
        },
        {
          "name": "stderr",
          "output_type": "stream",
          "text": [
            "/usr/local/lib/python3.7/dist-packages/pypfopt/efficient_frontier/efficient_frontier.py:258: UserWarning: max_sharpe transforms the optimization problem so additional objectives may not work as expected.\n",
            "  \"max_sharpe transforms the optimization problem so additional objectives may not work as expected.\"\n",
            "/usr/local/lib/python3.7/dist-packages/cvxpy/problems/problem.py:1334: UserWarning: Solution may be inaccurate. Try another solver, adjusting the solver settings, or solve with verbose=True for more information.\n",
            "  \"Solution may be inaccurate. Try another solver, \"\n"
          ]
        },
        {
          "name": "stdout",
          "output_type": "stream",
          "text": [
            "2022-01-12 00:00:00\n",
            "0:\tlearn: 0.0127655\ttest: 0.0126520\tbest: 0.0126520 (0)\ttotal: 15.8ms\tremaining: 1.56s\n",
            "1:\tlearn: 0.0125232\ttest: 0.0126941\tbest: 0.0126520 (0)\ttotal: 32ms\tremaining: 1.57s\n",
            "2:\tlearn: 0.0122700\ttest: 0.0127705\tbest: 0.0126520 (0)\ttotal: 54.6ms\tremaining: 1.77s\n",
            "3:\tlearn: 0.0120500\ttest: 0.0128442\tbest: 0.0126520 (0)\ttotal: 71.7ms\tremaining: 1.72s\n",
            "4:\tlearn: 0.0118906\ttest: 0.0129361\tbest: 0.0126520 (0)\ttotal: 90.8ms\tremaining: 1.72s\n",
            "5:\tlearn: 0.0117448\ttest: 0.0130225\tbest: 0.0126520 (0)\ttotal: 106ms\tremaining: 1.66s\n",
            "6:\tlearn: 0.0116132\ttest: 0.0131139\tbest: 0.0126520 (0)\ttotal: 121ms\tremaining: 1.61s\n",
            "7:\tlearn: 0.0115066\ttest: 0.0132209\tbest: 0.0126520 (0)\ttotal: 137ms\tremaining: 1.57s\n",
            "8:\tlearn: 0.0113741\ttest: 0.0132882\tbest: 0.0126520 (0)\ttotal: 152ms\tremaining: 1.54s\n",
            "9:\tlearn: 0.0112690\ttest: 0.0133913\tbest: 0.0126520 (0)\ttotal: 167ms\tremaining: 1.51s\n",
            "10:\tlearn: 0.0111987\ttest: 0.0134445\tbest: 0.0126520 (0)\ttotal: 183ms\tremaining: 1.48s\n",
            "Stopped by overfitting detector  (10 iterations wait)\n",
            "\n",
            "bestTest = 0.01265198507\n",
            "bestIteration = 0\n",
            "\n",
            "Shrink model to first 1 iterations.\n"
          ]
        },
        {
          "name": "stderr",
          "output_type": "stream",
          "text": [
            "/usr/local/lib/python3.7/dist-packages/pypfopt/efficient_frontier/efficient_frontier.py:258: UserWarning: max_sharpe transforms the optimization problem so additional objectives may not work as expected.\n",
            "  \"max_sharpe transforms the optimization problem so additional objectives may not work as expected.\"\n"
          ]
        },
        {
          "name": "stdout",
          "output_type": "stream",
          "text": [
            "2022-01-13 00:00:00\n",
            "0:\tlearn: 0.0127872\ttest: 0.0126041\tbest: 0.0126041 (0)\ttotal: 15.7ms\tremaining: 1.56s\n",
            "1:\tlearn: 0.0126172\ttest: 0.0126405\tbest: 0.0126041 (0)\ttotal: 32.3ms\tremaining: 1.58s\n",
            "2:\tlearn: 0.0124475\ttest: 0.0127069\tbest: 0.0126041 (0)\ttotal: 47.5ms\tremaining: 1.53s\n",
            "3:\tlearn: 0.0123150\ttest: 0.0128193\tbest: 0.0126041 (0)\ttotal: 75.4ms\tremaining: 1.81s\n",
            "4:\tlearn: 0.0121753\ttest: 0.0129701\tbest: 0.0126041 (0)\ttotal: 90.2ms\tremaining: 1.71s\n",
            "5:\tlearn: 0.0120256\ttest: 0.0130348\tbest: 0.0126041 (0)\ttotal: 107ms\tremaining: 1.67s\n",
            "6:\tlearn: 0.0119063\ttest: 0.0131159\tbest: 0.0126041 (0)\ttotal: 123ms\tremaining: 1.63s\n",
            "7:\tlearn: 0.0118095\ttest: 0.0132823\tbest: 0.0126041 (0)\ttotal: 138ms\tremaining: 1.59s\n",
            "8:\tlearn: 0.0117152\ttest: 0.0134013\tbest: 0.0126041 (0)\ttotal: 154ms\tremaining: 1.55s\n",
            "9:\tlearn: 0.0115640\ttest: 0.0134889\tbest: 0.0126041 (0)\ttotal: 170ms\tremaining: 1.52s\n",
            "10:\tlearn: 0.0114879\ttest: 0.0135324\tbest: 0.0126041 (0)\ttotal: 185ms\tremaining: 1.49s\n",
            "Stopped by overfitting detector  (10 iterations wait)\n",
            "\n",
            "bestTest = 0.01260408534\n",
            "bestIteration = 0\n",
            "\n",
            "Shrink model to first 1 iterations.\n"
          ]
        },
        {
          "name": "stderr",
          "output_type": "stream",
          "text": [
            "/usr/local/lib/python3.7/dist-packages/pypfopt/efficient_frontier/efficient_frontier.py:258: UserWarning: max_sharpe transforms the optimization problem so additional objectives may not work as expected.\n",
            "  \"max_sharpe transforms the optimization problem so additional objectives may not work as expected.\"\n"
          ]
        },
        {
          "name": "stdout",
          "output_type": "stream",
          "text": [
            "2022-01-14 00:00:00\n",
            "0:\tlearn: 0.0133970\ttest: 0.0121863\tbest: 0.0121863 (0)\ttotal: 15.6ms\tremaining: 1.55s\n",
            "1:\tlearn: 0.0131781\ttest: 0.0121462\tbest: 0.0121462 (1)\ttotal: 32.1ms\tremaining: 1.57s\n",
            "2:\tlearn: 0.0129077\ttest: 0.0121102\tbest: 0.0121102 (2)\ttotal: 47.1ms\tremaining: 1.52s\n",
            "3:\tlearn: 0.0127360\ttest: 0.0121068\tbest: 0.0121068 (3)\ttotal: 63.1ms\tremaining: 1.51s\n",
            "4:\tlearn: 0.0125603\ttest: 0.0121528\tbest: 0.0121068 (3)\ttotal: 78.3ms\tremaining: 1.49s\n",
            "5:\tlearn: 0.0124064\ttest: 0.0121218\tbest: 0.0121068 (3)\ttotal: 93.5ms\tremaining: 1.46s\n",
            "6:\tlearn: 0.0122774\ttest: 0.0121131\tbest: 0.0121068 (3)\ttotal: 108ms\tremaining: 1.44s\n",
            "7:\tlearn: 0.0121702\ttest: 0.0121144\tbest: 0.0121068 (3)\ttotal: 129ms\tremaining: 1.49s\n",
            "8:\tlearn: 0.0120344\ttest: 0.0121604\tbest: 0.0121068 (3)\ttotal: 145ms\tremaining: 1.47s\n",
            "9:\tlearn: 0.0119139\ttest: 0.0121849\tbest: 0.0121068 (3)\ttotal: 160ms\tremaining: 1.44s\n",
            "10:\tlearn: 0.0118347\ttest: 0.0122098\tbest: 0.0121068 (3)\ttotal: 176ms\tremaining: 1.42s\n",
            "11:\tlearn: 0.0117349\ttest: 0.0122322\tbest: 0.0121068 (3)\ttotal: 191ms\tremaining: 1.4s\n",
            "12:\tlearn: 0.0116412\ttest: 0.0122372\tbest: 0.0121068 (3)\ttotal: 206ms\tremaining: 1.38s\n",
            "13:\tlearn: 0.0115494\ttest: 0.0122594\tbest: 0.0121068 (3)\ttotal: 228ms\tremaining: 1.4s\n",
            "Stopped by overfitting detector  (10 iterations wait)\n",
            "\n",
            "bestTest = 0.01210675255\n",
            "bestIteration = 3\n",
            "\n",
            "Shrink model to first 4 iterations.\n"
          ]
        },
        {
          "name": "stderr",
          "output_type": "stream",
          "text": [
            "/usr/local/lib/python3.7/dist-packages/pypfopt/efficient_frontier/efficient_frontier.py:258: UserWarning: max_sharpe transforms the optimization problem so additional objectives may not work as expected.\n",
            "  \"max_sharpe transforms the optimization problem so additional objectives may not work as expected.\"\n"
          ]
        },
        {
          "name": "stdout",
          "output_type": "stream",
          "text": [
            "2022-01-18 00:00:00\n",
            "0:\tlearn: 0.0122690\ttest: 0.0128959\tbest: 0.0128959 (0)\ttotal: 15.7ms\tremaining: 1.55s\n",
            "1:\tlearn: 0.0121070\ttest: 0.0129214\tbest: 0.0128959 (0)\ttotal: 31.7ms\tremaining: 1.55s\n",
            "2:\tlearn: 0.0119856\ttest: 0.0129486\tbest: 0.0128959 (0)\ttotal: 47.2ms\tremaining: 1.52s\n",
            "3:\tlearn: 0.0118556\ttest: 0.0129975\tbest: 0.0128959 (0)\ttotal: 63.3ms\tremaining: 1.52s\n",
            "4:\tlearn: 0.0117567\ttest: 0.0130414\tbest: 0.0128959 (0)\ttotal: 80.7ms\tremaining: 1.53s\n",
            "5:\tlearn: 0.0116286\ttest: 0.0130756\tbest: 0.0128959 (0)\ttotal: 96.6ms\tremaining: 1.51s\n",
            "6:\tlearn: 0.0115499\ttest: 0.0131191\tbest: 0.0128959 (0)\ttotal: 112ms\tremaining: 1.49s\n",
            "7:\tlearn: 0.0114657\ttest: 0.0131572\tbest: 0.0128959 (0)\ttotal: 129ms\tremaining: 1.48s\n",
            "8:\tlearn: 0.0113864\ttest: 0.0132014\tbest: 0.0128959 (0)\ttotal: 144ms\tremaining: 1.46s\n",
            "9:\tlearn: 0.0112923\ttest: 0.0132278\tbest: 0.0128959 (0)\ttotal: 159ms\tremaining: 1.44s\n",
            "10:\tlearn: 0.0112162\ttest: 0.0132621\tbest: 0.0128959 (0)\ttotal: 175ms\tremaining: 1.42s\n",
            "Stopped by overfitting detector  (10 iterations wait)\n",
            "\n",
            "bestTest = 0.01289594067\n",
            "bestIteration = 0\n",
            "\n",
            "Shrink model to first 1 iterations.\n"
          ]
        },
        {
          "name": "stderr",
          "output_type": "stream",
          "text": [
            "/usr/local/lib/python3.7/dist-packages/pypfopt/efficient_frontier/efficient_frontier.py:258: UserWarning: max_sharpe transforms the optimization problem so additional objectives may not work as expected.\n",
            "  \"max_sharpe transforms the optimization problem so additional objectives may not work as expected.\"\n"
          ]
        },
        {
          "name": "stdout",
          "output_type": "stream",
          "text": [
            "2022-01-19 00:00:00\n",
            "0:\tlearn: 0.0131987\ttest: 0.0130287\tbest: 0.0130287 (0)\ttotal: 19.5ms\tremaining: 1.93s\n",
            "1:\tlearn: 0.0129947\ttest: 0.0130410\tbest: 0.0130287 (0)\ttotal: 39.3ms\tremaining: 1.92s\n",
            "2:\tlearn: 0.0128199\ttest: 0.0130856\tbest: 0.0130287 (0)\ttotal: 54.2ms\tremaining: 1.75s\n",
            "3:\tlearn: 0.0126883\ttest: 0.0130918\tbest: 0.0130287 (0)\ttotal: 70.2ms\tremaining: 1.68s\n",
            "4:\tlearn: 0.0125629\ttest: 0.0131053\tbest: 0.0130287 (0)\ttotal: 85.4ms\tremaining: 1.62s\n",
            "5:\tlearn: 0.0124657\ttest: 0.0131150\tbest: 0.0130287 (0)\ttotal: 101ms\tremaining: 1.58s\n",
            "6:\tlearn: 0.0123720\ttest: 0.0131437\tbest: 0.0130287 (0)\ttotal: 123ms\tremaining: 1.63s\n",
            "7:\tlearn: 0.0122741\ttest: 0.0131772\tbest: 0.0130287 (0)\ttotal: 138ms\tremaining: 1.59s\n",
            "8:\tlearn: 0.0121852\ttest: 0.0132092\tbest: 0.0130287 (0)\ttotal: 154ms\tremaining: 1.55s\n",
            "9:\tlearn: 0.0121027\ttest: 0.0132557\tbest: 0.0130287 (0)\ttotal: 169ms\tremaining: 1.52s\n",
            "10:\tlearn: 0.0120200\ttest: 0.0132992\tbest: 0.0130287 (0)\ttotal: 185ms\tremaining: 1.5s\n",
            "Stopped by overfitting detector  (10 iterations wait)\n",
            "\n",
            "bestTest = 0.0130287344\n",
            "bestIteration = 0\n",
            "\n",
            "Shrink model to first 1 iterations.\n"
          ]
        },
        {
          "name": "stderr",
          "output_type": "stream",
          "text": [
            "/usr/local/lib/python3.7/dist-packages/pypfopt/efficient_frontier/efficient_frontier.py:258: UserWarning: max_sharpe transforms the optimization problem so additional objectives may not work as expected.\n",
            "  \"max_sharpe transforms the optimization problem so additional objectives may not work as expected.\"\n"
          ]
        },
        {
          "name": "stdout",
          "output_type": "stream",
          "text": [
            "2022-01-20 00:00:00\n",
            "0:\tlearn: 0.0122492\ttest: 0.0133003\tbest: 0.0133003 (0)\ttotal: 16.4ms\tremaining: 1.62s\n",
            "1:\tlearn: 0.0120540\ttest: 0.0133183\tbest: 0.0133003 (0)\ttotal: 33.8ms\tremaining: 1.65s\n",
            "2:\tlearn: 0.0118670\ttest: 0.0133549\tbest: 0.0133003 (0)\ttotal: 49.1ms\tremaining: 1.59s\n",
            "3:\tlearn: 0.0117163\ttest: 0.0133767\tbest: 0.0133003 (0)\ttotal: 65.3ms\tremaining: 1.57s\n",
            "4:\tlearn: 0.0115794\ttest: 0.0133396\tbest: 0.0133003 (0)\ttotal: 80.6ms\tremaining: 1.53s\n",
            "5:\tlearn: 0.0114598\ttest: 0.0133706\tbest: 0.0133003 (0)\ttotal: 97.7ms\tremaining: 1.53s\n",
            "6:\tlearn: 0.0113631\ttest: 0.0133974\tbest: 0.0133003 (0)\ttotal: 116ms\tremaining: 1.54s\n",
            "7:\tlearn: 0.0112726\ttest: 0.0134182\tbest: 0.0133003 (0)\ttotal: 132ms\tremaining: 1.51s\n",
            "8:\tlearn: 0.0111870\ttest: 0.0134108\tbest: 0.0133003 (0)\ttotal: 147ms\tremaining: 1.49s\n",
            "9:\tlearn: 0.0111132\ttest: 0.0134264\tbest: 0.0133003 (0)\ttotal: 163ms\tremaining: 1.47s\n",
            "10:\tlearn: 0.0110442\ttest: 0.0134515\tbest: 0.0133003 (0)\ttotal: 179ms\tremaining: 1.45s\n",
            "Stopped by overfitting detector  (10 iterations wait)\n",
            "\n",
            "bestTest = 0.01330032895\n",
            "bestIteration = 0\n",
            "\n",
            "Shrink model to first 1 iterations.\n"
          ]
        },
        {
          "name": "stderr",
          "output_type": "stream",
          "text": [
            "/usr/local/lib/python3.7/dist-packages/pypfopt/efficient_frontier/efficient_frontier.py:258: UserWarning: max_sharpe transforms the optimization problem so additional objectives may not work as expected.\n",
            "  \"max_sharpe transforms the optimization problem so additional objectives may not work as expected.\"\n"
          ]
        },
        {
          "name": "stdout",
          "output_type": "stream",
          "text": [
            "2022-01-21 00:00:00\n",
            "0:\tlearn: 0.0125695\ttest: 0.0129876\tbest: 0.0129876 (0)\ttotal: 16ms\tremaining: 1.58s\n",
            "1:\tlearn: 0.0124128\ttest: 0.0130549\tbest: 0.0129876 (0)\ttotal: 32.8ms\tremaining: 1.6s\n",
            "2:\tlearn: 0.0122870\ttest: 0.0130706\tbest: 0.0129876 (0)\ttotal: 48.1ms\tremaining: 1.55s\n",
            "3:\tlearn: 0.0121686\ttest: 0.0131310\tbest: 0.0129876 (0)\ttotal: 64.8ms\tremaining: 1.56s\n",
            "4:\tlearn: 0.0120435\ttest: 0.0132153\tbest: 0.0129876 (0)\ttotal: 80.7ms\tremaining: 1.53s\n",
            "5:\tlearn: 0.0119248\ttest: 0.0133007\tbest: 0.0129876 (0)\ttotal: 101ms\tremaining: 1.58s\n",
            "6:\tlearn: 0.0118392\ttest: 0.0133531\tbest: 0.0129876 (0)\ttotal: 117ms\tremaining: 1.55s\n",
            "7:\tlearn: 0.0117660\ttest: 0.0134007\tbest: 0.0129876 (0)\ttotal: 134ms\tremaining: 1.55s\n",
            "8:\tlearn: 0.0116858\ttest: 0.0134402\tbest: 0.0129876 (0)\ttotal: 150ms\tremaining: 1.52s\n",
            "9:\tlearn: 0.0116136\ttest: 0.0135014\tbest: 0.0129876 (0)\ttotal: 166ms\tremaining: 1.49s\n",
            "10:\tlearn: 0.0115567\ttest: 0.0135135\tbest: 0.0129876 (0)\ttotal: 182ms\tremaining: 1.47s\n",
            "Stopped by overfitting detector  (10 iterations wait)\n",
            "\n",
            "bestTest = 0.01298764207\n",
            "bestIteration = 0\n",
            "\n",
            "Shrink model to first 1 iterations.\n"
          ]
        },
        {
          "name": "stderr",
          "output_type": "stream",
          "text": [
            "/usr/local/lib/python3.7/dist-packages/pypfopt/efficient_frontier/efficient_frontier.py:258: UserWarning: max_sharpe transforms the optimization problem so additional objectives may not work as expected.\n",
            "  \"max_sharpe transforms the optimization problem so additional objectives may not work as expected.\"\n"
          ]
        },
        {
          "name": "stdout",
          "output_type": "stream",
          "text": [
            "2022-01-24 00:00:00\n",
            "0:\tlearn: 0.0133745\ttest: 0.0128522\tbest: 0.0128522 (0)\ttotal: 16.7ms\tremaining: 1.65s\n",
            "1:\tlearn: 0.0131602\ttest: 0.0129447\tbest: 0.0128522 (0)\ttotal: 33ms\tremaining: 1.62s\n",
            "2:\tlearn: 0.0129131\ttest: 0.0130280\tbest: 0.0128522 (0)\ttotal: 48.1ms\tremaining: 1.55s\n",
            "3:\tlearn: 0.0127517\ttest: 0.0130967\tbest: 0.0128522 (0)\ttotal: 63.7ms\tremaining: 1.53s\n",
            "4:\tlearn: 0.0125682\ttest: 0.0132131\tbest: 0.0128522 (0)\ttotal: 80.4ms\tremaining: 1.53s\n",
            "5:\tlearn: 0.0124207\ttest: 0.0133090\tbest: 0.0128522 (0)\ttotal: 100ms\tremaining: 1.57s\n",
            "6:\tlearn: 0.0122858\ttest: 0.0134120\tbest: 0.0128522 (0)\ttotal: 116ms\tremaining: 1.54s\n",
            "7:\tlearn: 0.0121736\ttest: 0.0134376\tbest: 0.0128522 (0)\ttotal: 131ms\tremaining: 1.5s\n",
            "8:\tlearn: 0.0120786\ttest: 0.0135119\tbest: 0.0128522 (0)\ttotal: 146ms\tremaining: 1.48s\n",
            "9:\tlearn: 0.0119768\ttest: 0.0135946\tbest: 0.0128522 (0)\ttotal: 170ms\tremaining: 1.53s\n",
            "10:\tlearn: 0.0118931\ttest: 0.0136209\tbest: 0.0128522 (0)\ttotal: 189ms\tremaining: 1.53s\n",
            "Stopped by overfitting detector  (10 iterations wait)\n",
            "\n",
            "bestTest = 0.01285216026\n",
            "bestIteration = 0\n",
            "\n",
            "Shrink model to first 1 iterations.\n"
          ]
        },
        {
          "name": "stderr",
          "output_type": "stream",
          "text": [
            "/usr/local/lib/python3.7/dist-packages/pypfopt/efficient_frontier/efficient_frontier.py:258: UserWarning: max_sharpe transforms the optimization problem so additional objectives may not work as expected.\n",
            "  \"max_sharpe transforms the optimization problem so additional objectives may not work as expected.\"\n",
            "/usr/local/lib/python3.7/dist-packages/cvxpy/problems/problem.py:1334: UserWarning: Solution may be inaccurate. Try another solver, adjusting the solver settings, or solve with verbose=True for more information.\n",
            "  \"Solution may be inaccurate. Try another solver, \"\n"
          ]
        },
        {
          "name": "stdout",
          "output_type": "stream",
          "text": [
            "2022-01-25 00:00:00\n",
            "0:\tlearn: 0.0125175\ttest: 0.0134402\tbest: 0.0134402 (0)\ttotal: 15.9ms\tremaining: 1.57s\n",
            "1:\tlearn: 0.0123663\ttest: 0.0135397\tbest: 0.0134402 (0)\ttotal: 32.8ms\tremaining: 1.61s\n",
            "2:\tlearn: 0.0122080\ttest: 0.0136708\tbest: 0.0134402 (0)\ttotal: 48.5ms\tremaining: 1.57s\n",
            "3:\tlearn: 0.0120830\ttest: 0.0137998\tbest: 0.0134402 (0)\ttotal: 65ms\tremaining: 1.56s\n",
            "4:\tlearn: 0.0119646\ttest: 0.0138959\tbest: 0.0134402 (0)\ttotal: 80.3ms\tremaining: 1.53s\n",
            "5:\tlearn: 0.0118439\ttest: 0.0140224\tbest: 0.0134402 (0)\ttotal: 95.9ms\tremaining: 1.5s\n",
            "6:\tlearn: 0.0117178\ttest: 0.0141022\tbest: 0.0134402 (0)\ttotal: 112ms\tremaining: 1.49s\n",
            "7:\tlearn: 0.0116272\ttest: 0.0142098\tbest: 0.0134402 (0)\ttotal: 130ms\tremaining: 1.49s\n",
            "8:\tlearn: 0.0115486\ttest: 0.0143038\tbest: 0.0134402 (0)\ttotal: 146ms\tremaining: 1.48s\n",
            "9:\tlearn: 0.0114603\ttest: 0.0143332\tbest: 0.0134402 (0)\ttotal: 162ms\tremaining: 1.46s\n",
            "10:\tlearn: 0.0113856\ttest: 0.0143701\tbest: 0.0134402 (0)\ttotal: 177ms\tremaining: 1.43s\n",
            "Stopped by overfitting detector  (10 iterations wait)\n",
            "\n",
            "bestTest = 0.01344023254\n",
            "bestIteration = 0\n",
            "\n",
            "Shrink model to first 1 iterations.\n"
          ]
        },
        {
          "name": "stderr",
          "output_type": "stream",
          "text": [
            "/usr/local/lib/python3.7/dist-packages/pypfopt/efficient_frontier/efficient_frontier.py:258: UserWarning: max_sharpe transforms the optimization problem so additional objectives may not work as expected.\n",
            "  \"max_sharpe transforms the optimization problem so additional objectives may not work as expected.\"\n"
          ]
        },
        {
          "name": "stdout",
          "output_type": "stream",
          "text": [
            "2022-01-26 00:00:00\n",
            "0:\tlearn: 0.0140221\ttest: 0.0127059\tbest: 0.0127059 (0)\ttotal: 16ms\tremaining: 1.58s\n",
            "1:\tlearn: 0.0137775\ttest: 0.0127655\tbest: 0.0127059 (0)\ttotal: 33.5ms\tremaining: 1.64s\n",
            "2:\tlearn: 0.0134928\ttest: 0.0128110\tbest: 0.0127059 (0)\ttotal: 48ms\tremaining: 1.55s\n",
            "3:\tlearn: 0.0133108\ttest: 0.0128729\tbest: 0.0127059 (0)\ttotal: 64.3ms\tremaining: 1.54s\n",
            "4:\tlearn: 0.0131411\ttest: 0.0129420\tbest: 0.0127059 (0)\ttotal: 79.7ms\tremaining: 1.51s\n",
            "5:\tlearn: 0.0129999\ttest: 0.0130270\tbest: 0.0127059 (0)\ttotal: 95.7ms\tremaining: 1.5s\n",
            "6:\tlearn: 0.0128533\ttest: 0.0130800\tbest: 0.0127059 (0)\ttotal: 111ms\tremaining: 1.48s\n",
            "7:\tlearn: 0.0127466\ttest: 0.0131449\tbest: 0.0127059 (0)\ttotal: 127ms\tremaining: 1.46s\n",
            "8:\tlearn: 0.0126007\ttest: 0.0131960\tbest: 0.0127059 (0)\ttotal: 142ms\tremaining: 1.44s\n",
            "9:\tlearn: 0.0124346\ttest: 0.0132055\tbest: 0.0127059 (0)\ttotal: 160ms\tremaining: 1.44s\n",
            "10:\tlearn: 0.0123117\ttest: 0.0132221\tbest: 0.0127059 (0)\ttotal: 175ms\tremaining: 1.42s\n",
            "Stopped by overfitting detector  (10 iterations wait)\n",
            "\n",
            "bestTest = 0.01270588267\n",
            "bestIteration = 0\n",
            "\n",
            "Shrink model to first 1 iterations.\n"
          ]
        },
        {
          "name": "stderr",
          "output_type": "stream",
          "text": [
            "/usr/local/lib/python3.7/dist-packages/pypfopt/efficient_frontier/efficient_frontier.py:258: UserWarning: max_sharpe transforms the optimization problem so additional objectives may not work as expected.\n",
            "  \"max_sharpe transforms the optimization problem so additional objectives may not work as expected.\"\n",
            "/usr/local/lib/python3.7/dist-packages/cvxpy/problems/problem.py:1334: UserWarning: Solution may be inaccurate. Try another solver, adjusting the solver settings, or solve with verbose=True for more information.\n",
            "  \"Solution may be inaccurate. Try another solver, \"\n"
          ]
        },
        {
          "name": "stdout",
          "output_type": "stream",
          "text": [
            "2022-01-27 00:00:00\n",
            "0:\tlearn: 0.0132463\ttest: 0.0130199\tbest: 0.0130199 (0)\ttotal: 16.2ms\tremaining: 1.6s\n",
            "1:\tlearn: 0.0130018\ttest: 0.0130310\tbest: 0.0130199 (0)\ttotal: 33.3ms\tremaining: 1.63s\n",
            "2:\tlearn: 0.0127786\ttest: 0.0129918\tbest: 0.0129918 (2)\ttotal: 48.8ms\tremaining: 1.58s\n",
            "3:\tlearn: 0.0125896\ttest: 0.0129993\tbest: 0.0129918 (2)\ttotal: 64.7ms\tremaining: 1.55s\n",
            "4:\tlearn: 0.0124253\ttest: 0.0130041\tbest: 0.0129918 (2)\ttotal: 79.9ms\tremaining: 1.52s\n",
            "5:\tlearn: 0.0122800\ttest: 0.0130339\tbest: 0.0129918 (2)\ttotal: 97.1ms\tremaining: 1.52s\n",
            "6:\tlearn: 0.0121624\ttest: 0.0130282\tbest: 0.0129918 (2)\ttotal: 112ms\tremaining: 1.49s\n",
            "7:\tlearn: 0.0120496\ttest: 0.0130430\tbest: 0.0129918 (2)\ttotal: 128ms\tremaining: 1.47s\n",
            "8:\tlearn: 0.0119555\ttest: 0.0130619\tbest: 0.0129918 (2)\ttotal: 143ms\tremaining: 1.45s\n",
            "9:\tlearn: 0.0118818\ttest: 0.0130759\tbest: 0.0129918 (2)\ttotal: 159ms\tremaining: 1.43s\n",
            "10:\tlearn: 0.0117849\ttest: 0.0130836\tbest: 0.0129918 (2)\ttotal: 174ms\tremaining: 1.41s\n",
            "11:\tlearn: 0.0117169\ttest: 0.0131102\tbest: 0.0129918 (2)\ttotal: 190ms\tremaining: 1.39s\n",
            "12:\tlearn: 0.0116519\ttest: 0.0131157\tbest: 0.0129918 (2)\ttotal: 205ms\tremaining: 1.37s\n",
            "Stopped by overfitting detector  (10 iterations wait)\n",
            "\n",
            "bestTest = 0.01299176601\n",
            "bestIteration = 2\n",
            "\n",
            "Shrink model to first 3 iterations.\n"
          ]
        },
        {
          "name": "stderr",
          "output_type": "stream",
          "text": [
            "/usr/local/lib/python3.7/dist-packages/pypfopt/efficient_frontier/efficient_frontier.py:258: UserWarning: max_sharpe transforms the optimization problem so additional objectives may not work as expected.\n",
            "  \"max_sharpe transforms the optimization problem so additional objectives may not work as expected.\"\n"
          ]
        },
        {
          "name": "stdout",
          "output_type": "stream",
          "text": [
            "2022-01-28 00:00:00\n",
            "0:\tlearn: 0.0118357\ttest: 0.0138665\tbest: 0.0138665 (0)\ttotal: 16.1ms\tremaining: 1.6s\n",
            "1:\tlearn: 0.0117183\ttest: 0.0138823\tbest: 0.0138665 (0)\ttotal: 32.6ms\tremaining: 1.6s\n",
            "2:\tlearn: 0.0115626\ttest: 0.0139296\tbest: 0.0138665 (0)\ttotal: 47.8ms\tremaining: 1.55s\n",
            "3:\tlearn: 0.0114598\ttest: 0.0139690\tbest: 0.0138665 (0)\ttotal: 64.2ms\tremaining: 1.54s\n",
            "4:\tlearn: 0.0113534\ttest: 0.0140187\tbest: 0.0138665 (0)\ttotal: 79.9ms\tremaining: 1.52s\n",
            "5:\tlearn: 0.0112711\ttest: 0.0140527\tbest: 0.0138665 (0)\ttotal: 95.3ms\tremaining: 1.49s\n",
            "6:\tlearn: 0.0111908\ttest: 0.0141019\tbest: 0.0138665 (0)\ttotal: 111ms\tremaining: 1.48s\n",
            "7:\tlearn: 0.0111044\ttest: 0.0141449\tbest: 0.0138665 (0)\ttotal: 128ms\tremaining: 1.47s\n",
            "8:\tlearn: 0.0110546\ttest: 0.0141480\tbest: 0.0138665 (0)\ttotal: 144ms\tremaining: 1.46s\n",
            "9:\tlearn: 0.0109927\ttest: 0.0141655\tbest: 0.0138665 (0)\ttotal: 160ms\tremaining: 1.44s\n",
            "10:\tlearn: 0.0109203\ttest: 0.0142005\tbest: 0.0138665 (0)\ttotal: 180ms\tremaining: 1.46s\n",
            "Stopped by overfitting detector  (10 iterations wait)\n",
            "\n",
            "bestTest = 0.01386650086\n",
            "bestIteration = 0\n",
            "\n",
            "Shrink model to first 1 iterations.\n"
          ]
        },
        {
          "name": "stderr",
          "output_type": "stream",
          "text": [
            "/usr/local/lib/python3.7/dist-packages/pypfopt/efficient_frontier/efficient_frontier.py:258: UserWarning: max_sharpe transforms the optimization problem so additional objectives may not work as expected.\n",
            "  \"max_sharpe transforms the optimization problem so additional objectives may not work as expected.\"\n",
            "/usr/local/lib/python3.7/dist-packages/cvxpy/problems/problem.py:1334: UserWarning: Solution may be inaccurate. Try another solver, adjusting the solver settings, or solve with verbose=True for more information.\n",
            "  \"Solution may be inaccurate. Try another solver, \"\n"
          ]
        },
        {
          "name": "stdout",
          "output_type": "stream",
          "text": [
            "2022-01-31 00:00:00\n",
            "0:\tlearn: 0.0128147\ttest: 0.0136333\tbest: 0.0136333 (0)\ttotal: 16.6ms\tremaining: 1.64s\n",
            "1:\tlearn: 0.0126597\ttest: 0.0136945\tbest: 0.0136333 (0)\ttotal: 32.9ms\tremaining: 1.61s\n",
            "2:\tlearn: 0.0124526\ttest: 0.0137993\tbest: 0.0136333 (0)\ttotal: 47.7ms\tremaining: 1.54s\n",
            "3:\tlearn: 0.0123421\ttest: 0.0139074\tbest: 0.0136333 (0)\ttotal: 63.7ms\tremaining: 1.53s\n",
            "4:\tlearn: 0.0121497\ttest: 0.0139789\tbest: 0.0136333 (0)\ttotal: 78.6ms\tremaining: 1.49s\n",
            "5:\tlearn: 0.0120459\ttest: 0.0140775\tbest: 0.0136333 (0)\ttotal: 94.2ms\tremaining: 1.48s\n",
            "6:\tlearn: 0.0118788\ttest: 0.0141294\tbest: 0.0136333 (0)\ttotal: 110ms\tremaining: 1.46s\n",
            "7:\tlearn: 0.0118038\ttest: 0.0142060\tbest: 0.0136333 (0)\ttotal: 125ms\tremaining: 1.44s\n",
            "8:\tlearn: 0.0117236\ttest: 0.0142843\tbest: 0.0136333 (0)\ttotal: 141ms\tremaining: 1.43s\n",
            "9:\tlearn: 0.0116053\ttest: 0.0143459\tbest: 0.0136333 (0)\ttotal: 156ms\tremaining: 1.41s\n",
            "10:\tlearn: 0.0115461\ttest: 0.0144330\tbest: 0.0136333 (0)\ttotal: 172ms\tremaining: 1.39s\n",
            "Stopped by overfitting detector  (10 iterations wait)\n",
            "\n",
            "bestTest = 0.01363331044\n",
            "bestIteration = 0\n",
            "\n",
            "Shrink model to first 1 iterations.\n"
          ]
        },
        {
          "name": "stderr",
          "output_type": "stream",
          "text": [
            "/usr/local/lib/python3.7/dist-packages/pypfopt/efficient_frontier/efficient_frontier.py:258: UserWarning: max_sharpe transforms the optimization problem so additional objectives may not work as expected.\n",
            "  \"max_sharpe transforms the optimization problem so additional objectives may not work as expected.\"\n"
          ]
        },
        {
          "name": "stdout",
          "output_type": "stream",
          "text": [
            "2022-02-01 00:00:00\n",
            "0:\tlearn: 0.0135329\ttest: 0.0133603\tbest: 0.0133603 (0)\ttotal: 15.9ms\tremaining: 1.58s\n",
            "1:\tlearn: 0.0133420\ttest: 0.0134550\tbest: 0.0133603 (0)\ttotal: 31.8ms\tremaining: 1.56s\n",
            "2:\tlearn: 0.0131658\ttest: 0.0135348\tbest: 0.0133603 (0)\ttotal: 46.9ms\tremaining: 1.52s\n",
            "3:\tlearn: 0.0130293\ttest: 0.0136314\tbest: 0.0133603 (0)\ttotal: 63.1ms\tremaining: 1.51s\n",
            "4:\tlearn: 0.0128993\ttest: 0.0137392\tbest: 0.0133603 (0)\ttotal: 82.3ms\tremaining: 1.56s\n",
            "5:\tlearn: 0.0128146\ttest: 0.0137693\tbest: 0.0133603 (0)\ttotal: 103ms\tremaining: 1.61s\n",
            "6:\tlearn: 0.0126964\ttest: 0.0138458\tbest: 0.0133603 (0)\ttotal: 119ms\tremaining: 1.58s\n",
            "7:\tlearn: 0.0125947\ttest: 0.0139047\tbest: 0.0133603 (0)\ttotal: 134ms\tremaining: 1.54s\n",
            "8:\tlearn: 0.0125102\ttest: 0.0139734\tbest: 0.0133603 (0)\ttotal: 150ms\tremaining: 1.51s\n",
            "9:\tlearn: 0.0124058\ttest: 0.0140343\tbest: 0.0133603 (0)\ttotal: 165ms\tremaining: 1.49s\n",
            "10:\tlearn: 0.0123079\ttest: 0.0140519\tbest: 0.0133603 (0)\ttotal: 181ms\tremaining: 1.46s\n",
            "Stopped by overfitting detector  (10 iterations wait)\n",
            "\n",
            "bestTest = 0.01336033486\n",
            "bestIteration = 0\n",
            "\n",
            "Shrink model to first 1 iterations.\n"
          ]
        },
        {
          "name": "stderr",
          "output_type": "stream",
          "text": [
            "/usr/local/lib/python3.7/dist-packages/pypfopt/efficient_frontier/efficient_frontier.py:258: UserWarning: max_sharpe transforms the optimization problem so additional objectives may not work as expected.\n",
            "  \"max_sharpe transforms the optimization problem so additional objectives may not work as expected.\"\n"
          ]
        },
        {
          "name": "stdout",
          "output_type": "stream",
          "text": [
            "2022-02-02 00:00:00\n",
            "0:\tlearn: 0.0126356\ttest: 0.0137220\tbest: 0.0137220 (0)\ttotal: 15.7ms\tremaining: 1.56s\n",
            "1:\tlearn: 0.0124770\ttest: 0.0137331\tbest: 0.0137220 (0)\ttotal: 31.9ms\tremaining: 1.56s\n",
            "2:\tlearn: 0.0123427\ttest: 0.0137196\tbest: 0.0137196 (2)\ttotal: 51.7ms\tremaining: 1.67s\n",
            "3:\tlearn: 0.0122369\ttest: 0.0137360\tbest: 0.0137196 (2)\ttotal: 73.1ms\tremaining: 1.75s\n",
            "4:\tlearn: 0.0121143\ttest: 0.0137499\tbest: 0.0137196 (2)\ttotal: 90.1ms\tremaining: 1.71s\n",
            "5:\tlearn: 0.0120225\ttest: 0.0138194\tbest: 0.0137196 (2)\ttotal: 106ms\tremaining: 1.66s\n",
            "6:\tlearn: 0.0119267\ttest: 0.0138180\tbest: 0.0137196 (2)\ttotal: 122ms\tremaining: 1.62s\n",
            "7:\tlearn: 0.0118408\ttest: 0.0138363\tbest: 0.0137196 (2)\ttotal: 138ms\tremaining: 1.58s\n",
            "8:\tlearn: 0.0117317\ttest: 0.0137981\tbest: 0.0137196 (2)\ttotal: 153ms\tremaining: 1.54s\n",
            "9:\tlearn: 0.0116809\ttest: 0.0138139\tbest: 0.0137196 (2)\ttotal: 168ms\tremaining: 1.51s\n",
            "10:\tlearn: 0.0115528\ttest: 0.0137983\tbest: 0.0137196 (2)\ttotal: 184ms\tremaining: 1.49s\n",
            "11:\tlearn: 0.0114817\ttest: 0.0138213\tbest: 0.0137196 (2)\ttotal: 199ms\tremaining: 1.46s\n",
            "12:\tlearn: 0.0114112\ttest: 0.0138332\tbest: 0.0137196 (2)\ttotal: 216ms\tremaining: 1.44s\n",
            "Stopped by overfitting detector  (10 iterations wait)\n",
            "\n",
            "bestTest = 0.01371962838\n",
            "bestIteration = 2\n",
            "\n",
            "Shrink model to first 3 iterations.\n"
          ]
        },
        {
          "name": "stderr",
          "output_type": "stream",
          "text": [
            "/usr/local/lib/python3.7/dist-packages/pypfopt/efficient_frontier/efficient_frontier.py:258: UserWarning: max_sharpe transforms the optimization problem so additional objectives may not work as expected.\n",
            "  \"max_sharpe transforms the optimization problem so additional objectives may not work as expected.\"\n"
          ]
        },
        {
          "name": "stdout",
          "output_type": "stream",
          "text": [
            "2022-02-03 00:00:00\n",
            "0:\tlearn: 0.0137525\ttest: 0.0131966\tbest: 0.0131966 (0)\ttotal: 16.3ms\tremaining: 1.61s\n",
            "1:\tlearn: 0.0134575\ttest: 0.0131680\tbest: 0.0131680 (1)\ttotal: 32.3ms\tremaining: 1.58s\n",
            "2:\tlearn: 0.0132004\ttest: 0.0131758\tbest: 0.0131680 (1)\ttotal: 49.1ms\tremaining: 1.59s\n",
            "3:\tlearn: 0.0130298\ttest: 0.0132442\tbest: 0.0131680 (1)\ttotal: 64.9ms\tremaining: 1.56s\n",
            "4:\tlearn: 0.0128659\ttest: 0.0133435\tbest: 0.0131680 (1)\ttotal: 80.2ms\tremaining: 1.52s\n",
            "5:\tlearn: 0.0127427\ttest: 0.0134250\tbest: 0.0131680 (1)\ttotal: 96ms\tremaining: 1.5s\n",
            "6:\tlearn: 0.0125908\ttest: 0.0134649\tbest: 0.0131680 (1)\ttotal: 111ms\tremaining: 1.48s\n",
            "7:\tlearn: 0.0124739\ttest: 0.0135445\tbest: 0.0131680 (1)\ttotal: 128ms\tremaining: 1.47s\n",
            "8:\tlearn: 0.0123775\ttest: 0.0136575\tbest: 0.0131680 (1)\ttotal: 143ms\tremaining: 1.45s\n",
            "9:\tlearn: 0.0123025\ttest: 0.0137106\tbest: 0.0131680 (1)\ttotal: 159ms\tremaining: 1.43s\n",
            "10:\tlearn: 0.0122096\ttest: 0.0137973\tbest: 0.0131680 (1)\ttotal: 174ms\tremaining: 1.41s\n",
            "11:\tlearn: 0.0120979\ttest: 0.0138703\tbest: 0.0131680 (1)\ttotal: 191ms\tremaining: 1.4s\n",
            "Stopped by overfitting detector  (10 iterations wait)\n",
            "\n",
            "bestTest = 0.01316799422\n",
            "bestIteration = 1\n",
            "\n",
            "Shrink model to first 2 iterations.\n"
          ]
        },
        {
          "name": "stderr",
          "output_type": "stream",
          "text": [
            "/usr/local/lib/python3.7/dist-packages/pypfopt/efficient_frontier/efficient_frontier.py:258: UserWarning: max_sharpe transforms the optimization problem so additional objectives may not work as expected.\n",
            "  \"max_sharpe transforms the optimization problem so additional objectives may not work as expected.\"\n",
            "/usr/local/lib/python3.7/dist-packages/cvxpy/problems/problem.py:1334: UserWarning: Solution may be inaccurate. Try another solver, adjusting the solver settings, or solve with verbose=True for more information.\n",
            "  \"Solution may be inaccurate. Try another solver, \"\n"
          ]
        },
        {
          "name": "stdout",
          "output_type": "stream",
          "text": [
            "2022-02-04 00:00:00\n",
            "0:\tlearn: 0.0124749\ttest: 0.0140895\tbest: 0.0140895 (0)\ttotal: 15.8ms\tremaining: 1.56s\n",
            "1:\tlearn: 0.0122966\ttest: 0.0141014\tbest: 0.0140895 (0)\ttotal: 31.2ms\tremaining: 1.53s\n",
            "2:\tlearn: 0.0121268\ttest: 0.0141341\tbest: 0.0140895 (0)\ttotal: 46.6ms\tremaining: 1.51s\n",
            "3:\tlearn: 0.0119672\ttest: 0.0141856\tbest: 0.0140895 (0)\ttotal: 62.9ms\tremaining: 1.51s\n",
            "4:\tlearn: 0.0118148\ttest: 0.0141968\tbest: 0.0140895 (0)\ttotal: 78.7ms\tremaining: 1.49s\n",
            "5:\tlearn: 0.0116926\ttest: 0.0142396\tbest: 0.0140895 (0)\ttotal: 94.2ms\tremaining: 1.48s\n",
            "6:\tlearn: 0.0115899\ttest: 0.0142871\tbest: 0.0140895 (0)\ttotal: 110ms\tremaining: 1.46s\n",
            "7:\tlearn: 0.0114875\ttest: 0.0143343\tbest: 0.0140895 (0)\ttotal: 126ms\tremaining: 1.44s\n",
            "8:\tlearn: 0.0114164\ttest: 0.0143828\tbest: 0.0140895 (0)\ttotal: 157ms\tremaining: 1.59s\n",
            "9:\tlearn: 0.0113164\ttest: 0.0144379\tbest: 0.0140895 (0)\ttotal: 178ms\tremaining: 1.6s\n",
            "10:\tlearn: 0.0112079\ttest: 0.0144600\tbest: 0.0140895 (0)\ttotal: 193ms\tremaining: 1.56s\n",
            "Stopped by overfitting detector  (10 iterations wait)\n",
            "\n",
            "bestTest = 0.01408952438\n",
            "bestIteration = 0\n",
            "\n",
            "Shrink model to first 1 iterations.\n"
          ]
        },
        {
          "name": "stderr",
          "output_type": "stream",
          "text": [
            "/usr/local/lib/python3.7/dist-packages/pypfopt/efficient_frontier/efficient_frontier.py:258: UserWarning: max_sharpe transforms the optimization problem so additional objectives may not work as expected.\n",
            "  \"max_sharpe transforms the optimization problem so additional objectives may not work as expected.\"\n"
          ]
        },
        {
          "name": "stdout",
          "output_type": "stream",
          "text": [
            "2022-02-07 00:00:00\n",
            "0:\tlearn: 0.0121942\ttest: 0.0143415\tbest: 0.0143415 (0)\ttotal: 15.8ms\tremaining: 1.56s\n",
            "1:\tlearn: 0.0119963\ttest: 0.0143949\tbest: 0.0143415 (0)\ttotal: 31.5ms\tremaining: 1.54s\n",
            "2:\tlearn: 0.0118423\ttest: 0.0144595\tbest: 0.0143415 (0)\ttotal: 46.1ms\tremaining: 1.49s\n",
            "3:\tlearn: 0.0116997\ttest: 0.0145434\tbest: 0.0143415 (0)\ttotal: 62ms\tremaining: 1.49s\n",
            "4:\tlearn: 0.0115590\ttest: 0.0146279\tbest: 0.0143415 (0)\ttotal: 77.4ms\tremaining: 1.47s\n",
            "5:\tlearn: 0.0114459\ttest: 0.0146924\tbest: 0.0143415 (0)\ttotal: 92.6ms\tremaining: 1.45s\n",
            "6:\tlearn: 0.0113374\ttest: 0.0147606\tbest: 0.0143415 (0)\ttotal: 109ms\tremaining: 1.45s\n",
            "7:\tlearn: 0.0112477\ttest: 0.0148244\tbest: 0.0143415 (0)\ttotal: 124ms\tremaining: 1.42s\n",
            "8:\tlearn: 0.0111427\ttest: 0.0148822\tbest: 0.0143415 (0)\ttotal: 139ms\tremaining: 1.41s\n",
            "9:\tlearn: 0.0110712\ttest: 0.0149185\tbest: 0.0143415 (0)\ttotal: 154ms\tremaining: 1.39s\n",
            "10:\tlearn: 0.0110115\ttest: 0.0149585\tbest: 0.0143415 (0)\ttotal: 170ms\tremaining: 1.37s\n",
            "Stopped by overfitting detector  (10 iterations wait)\n",
            "\n",
            "bestTest = 0.0143415165\n",
            "bestIteration = 0\n",
            "\n",
            "Shrink model to first 1 iterations.\n"
          ]
        },
        {
          "name": "stderr",
          "output_type": "stream",
          "text": [
            "/usr/local/lib/python3.7/dist-packages/pypfopt/efficient_frontier/efficient_frontier.py:258: UserWarning: max_sharpe transforms the optimization problem so additional objectives may not work as expected.\n",
            "  \"max_sharpe transforms the optimization problem so additional objectives may not work as expected.\"\n",
            "/usr/local/lib/python3.7/dist-packages/cvxpy/problems/problem.py:1334: UserWarning: Solution may be inaccurate. Try another solver, adjusting the solver settings, or solve with verbose=True for more information.\n",
            "  \"Solution may be inaccurate. Try another solver, \"\n"
          ]
        },
        {
          "name": "stdout",
          "output_type": "stream",
          "text": [
            "2022-02-08 00:00:00\n",
            "0:\tlearn: 0.0122100\ttest: 0.0140849\tbest: 0.0140849 (0)\ttotal: 15.8ms\tremaining: 1.56s\n",
            "1:\tlearn: 0.0120403\ttest: 0.0141147\tbest: 0.0140849 (0)\ttotal: 31.6ms\tremaining: 1.55s\n",
            "2:\tlearn: 0.0118913\ttest: 0.0141783\tbest: 0.0140849 (0)\ttotal: 46.6ms\tremaining: 1.51s\n",
            "3:\tlearn: 0.0117927\ttest: 0.0142171\tbest: 0.0140849 (0)\ttotal: 62.4ms\tremaining: 1.5s\n",
            "4:\tlearn: 0.0117128\ttest: 0.0142437\tbest: 0.0140849 (0)\ttotal: 77.9ms\tremaining: 1.48s\n",
            "5:\tlearn: 0.0116550\ttest: 0.0142663\tbest: 0.0140849 (0)\ttotal: 93.2ms\tremaining: 1.46s\n",
            "6:\tlearn: 0.0115735\ttest: 0.0143078\tbest: 0.0140849 (0)\ttotal: 109ms\tremaining: 1.45s\n",
            "7:\tlearn: 0.0115019\ttest: 0.0143410\tbest: 0.0140849 (0)\ttotal: 124ms\tremaining: 1.43s\n",
            "8:\tlearn: 0.0114383\ttest: 0.0143785\tbest: 0.0140849 (0)\ttotal: 140ms\tremaining: 1.41s\n",
            "9:\tlearn: 0.0113681\ttest: 0.0144116\tbest: 0.0140849 (0)\ttotal: 155ms\tremaining: 1.4s\n",
            "10:\tlearn: 0.0112982\ttest: 0.0144508\tbest: 0.0140849 (0)\ttotal: 171ms\tremaining: 1.38s\n",
            "Stopped by overfitting detector  (10 iterations wait)\n",
            "\n",
            "bestTest = 0.01408494699\n",
            "bestIteration = 0\n",
            "\n",
            "Shrink model to first 1 iterations.\n"
          ]
        },
        {
          "name": "stderr",
          "output_type": "stream",
          "text": [
            "/usr/local/lib/python3.7/dist-packages/pypfopt/efficient_frontier/efficient_frontier.py:258: UserWarning: max_sharpe transforms the optimization problem so additional objectives may not work as expected.\n",
            "  \"max_sharpe transforms the optimization problem so additional objectives may not work as expected.\"\n",
            "/usr/local/lib/python3.7/dist-packages/cvxpy/problems/problem.py:1334: UserWarning: Solution may be inaccurate. Try another solver, adjusting the solver settings, or solve with verbose=True for more information.\n",
            "  \"Solution may be inaccurate. Try another solver, \"\n"
          ]
        },
        {
          "name": "stdout",
          "output_type": "stream",
          "text": [
            "2022-02-09 00:00:00\n",
            "0:\tlearn: 0.0132062\ttest: 0.0137690\tbest: 0.0137690 (0)\ttotal: 16.4ms\tremaining: 1.63s\n",
            "1:\tlearn: 0.0129934\ttest: 0.0138373\tbest: 0.0137690 (0)\ttotal: 32.3ms\tremaining: 1.58s\n",
            "2:\tlearn: 0.0128003\ttest: 0.0139261\tbest: 0.0137690 (0)\ttotal: 47.7ms\tremaining: 1.54s\n",
            "3:\tlearn: 0.0126440\ttest: 0.0140141\tbest: 0.0137690 (0)\ttotal: 64.3ms\tremaining: 1.54s\n",
            "4:\tlearn: 0.0124917\ttest: 0.0141079\tbest: 0.0137690 (0)\ttotal: 79.9ms\tremaining: 1.52s\n",
            "5:\tlearn: 0.0123647\ttest: 0.0141555\tbest: 0.0137690 (0)\ttotal: 95.6ms\tremaining: 1.5s\n",
            "6:\tlearn: 0.0122499\ttest: 0.0142251\tbest: 0.0137690 (0)\ttotal: 111ms\tremaining: 1.48s\n",
            "7:\tlearn: 0.0121442\ttest: 0.0143051\tbest: 0.0137690 (0)\ttotal: 128ms\tremaining: 1.47s\n",
            "8:\tlearn: 0.0120393\ttest: 0.0143635\tbest: 0.0137690 (0)\ttotal: 143ms\tremaining: 1.45s\n",
            "9:\tlearn: 0.0119557\ttest: 0.0144056\tbest: 0.0137690 (0)\ttotal: 159ms\tremaining: 1.43s\n",
            "10:\tlearn: 0.0118847\ttest: 0.0144419\tbest: 0.0137690 (0)\ttotal: 174ms\tremaining: 1.41s\n",
            "Stopped by overfitting detector  (10 iterations wait)\n",
            "\n",
            "bestTest = 0.0137689945\n",
            "bestIteration = 0\n",
            "\n",
            "Shrink model to first 1 iterations.\n"
          ]
        },
        {
          "name": "stderr",
          "output_type": "stream",
          "text": [
            "/usr/local/lib/python3.7/dist-packages/pypfopt/efficient_frontier/efficient_frontier.py:258: UserWarning: max_sharpe transforms the optimization problem so additional objectives may not work as expected.\n",
            "  \"max_sharpe transforms the optimization problem so additional objectives may not work as expected.\"\n",
            "/usr/local/lib/python3.7/dist-packages/cvxpy/problems/problem.py:1334: UserWarning: Solution may be inaccurate. Try another solver, adjusting the solver settings, or solve with verbose=True for more information.\n",
            "  \"Solution may be inaccurate. Try another solver, \"\n"
          ]
        },
        {
          "name": "stdout",
          "output_type": "stream",
          "text": [
            "2022-02-10 00:00:00\n",
            "0:\tlearn: 0.0127187\ttest: 0.0141773\tbest: 0.0141773 (0)\ttotal: 15.8ms\tremaining: 1.56s\n",
            "1:\tlearn: 0.0125941\ttest: 0.0142188\tbest: 0.0141773 (0)\ttotal: 31.1ms\tremaining: 1.52s\n",
            "2:\tlearn: 0.0124086\ttest: 0.0142622\tbest: 0.0141773 (0)\ttotal: 45.7ms\tremaining: 1.48s\n",
            "3:\tlearn: 0.0122415\ttest: 0.0142972\tbest: 0.0141773 (0)\ttotal: 62.1ms\tremaining: 1.49s\n",
            "4:\tlearn: 0.0121419\ttest: 0.0143150\tbest: 0.0141773 (0)\ttotal: 76.9ms\tremaining: 1.46s\n",
            "5:\tlearn: 0.0120528\ttest: 0.0143547\tbest: 0.0141773 (0)\ttotal: 91.9ms\tremaining: 1.44s\n",
            "6:\tlearn: 0.0119424\ttest: 0.0143929\tbest: 0.0141773 (0)\ttotal: 107ms\tremaining: 1.43s\n",
            "7:\tlearn: 0.0118720\ttest: 0.0144279\tbest: 0.0141773 (0)\ttotal: 123ms\tremaining: 1.42s\n",
            "8:\tlearn: 0.0117655\ttest: 0.0144521\tbest: 0.0141773 (0)\ttotal: 139ms\tremaining: 1.4s\n",
            "9:\tlearn: 0.0116949\ttest: 0.0145010\tbest: 0.0141773 (0)\ttotal: 155ms\tremaining: 1.39s\n",
            "10:\tlearn: 0.0116131\ttest: 0.0145456\tbest: 0.0141773 (0)\ttotal: 170ms\tremaining: 1.37s\n",
            "Stopped by overfitting detector  (10 iterations wait)\n",
            "\n",
            "bestTest = 0.01417729197\n",
            "bestIteration = 0\n",
            "\n",
            "Shrink model to first 1 iterations.\n"
          ]
        },
        {
          "name": "stderr",
          "output_type": "stream",
          "text": [
            "/usr/local/lib/python3.7/dist-packages/pypfopt/efficient_frontier/efficient_frontier.py:258: UserWarning: max_sharpe transforms the optimization problem so additional objectives may not work as expected.\n",
            "  \"max_sharpe transforms the optimization problem so additional objectives may not work as expected.\"\n"
          ]
        },
        {
          "name": "stdout",
          "output_type": "stream",
          "text": [
            "2022-02-11 00:00:00\n",
            "0:\tlearn: 0.0139232\ttest: 0.0136944\tbest: 0.0136944 (0)\ttotal: 16.9ms\tremaining: 1.68s\n",
            "1:\tlearn: 0.0136883\ttest: 0.0137715\tbest: 0.0136944 (0)\ttotal: 32.8ms\tremaining: 1.61s\n",
            "2:\tlearn: 0.0134661\ttest: 0.0138538\tbest: 0.0136944 (0)\ttotal: 47.5ms\tremaining: 1.53s\n",
            "3:\tlearn: 0.0133322\ttest: 0.0139402\tbest: 0.0136944 (0)\ttotal: 63.2ms\tremaining: 1.51s\n",
            "4:\tlearn: 0.0131550\ttest: 0.0140594\tbest: 0.0136944 (0)\ttotal: 78.1ms\tremaining: 1.48s\n",
            "5:\tlearn: 0.0130370\ttest: 0.0140833\tbest: 0.0136944 (0)\ttotal: 93.4ms\tremaining: 1.46s\n",
            "6:\tlearn: 0.0128922\ttest: 0.0142061\tbest: 0.0136944 (0)\ttotal: 108ms\tremaining: 1.44s\n",
            "7:\tlearn: 0.0127570\ttest: 0.0143033\tbest: 0.0136944 (0)\ttotal: 124ms\tremaining: 1.42s\n",
            "8:\tlearn: 0.0126498\ttest: 0.0143165\tbest: 0.0136944 (0)\ttotal: 139ms\tremaining: 1.41s\n",
            "9:\tlearn: 0.0125555\ttest: 0.0143962\tbest: 0.0136944 (0)\ttotal: 154ms\tremaining: 1.39s\n",
            "10:\tlearn: 0.0124942\ttest: 0.0144442\tbest: 0.0136944 (0)\ttotal: 170ms\tremaining: 1.37s\n",
            "Stopped by overfitting detector  (10 iterations wait)\n",
            "\n",
            "bestTest = 0.01369441988\n",
            "bestIteration = 0\n",
            "\n",
            "Shrink model to first 1 iterations.\n"
          ]
        },
        {
          "name": "stderr",
          "output_type": "stream",
          "text": [
            "/usr/local/lib/python3.7/dist-packages/pypfopt/efficient_frontier/efficient_frontier.py:258: UserWarning: max_sharpe transforms the optimization problem so additional objectives may not work as expected.\n",
            "  \"max_sharpe transforms the optimization problem so additional objectives may not work as expected.\"\n",
            "/usr/local/lib/python3.7/dist-packages/cvxpy/problems/problem.py:1334: UserWarning: Solution may be inaccurate. Try another solver, adjusting the solver settings, or solve with verbose=True for more information.\n",
            "  \"Solution may be inaccurate. Try another solver, \"\n"
          ]
        },
        {
          "name": "stdout",
          "output_type": "stream",
          "text": [
            "2022-02-14 00:00:00\n",
            "0:\tlearn: 0.0129514\ttest: 0.0141510\tbest: 0.0141510 (0)\ttotal: 16ms\tremaining: 1.59s\n",
            "1:\tlearn: 0.0127317\ttest: 0.0141927\tbest: 0.0141510 (0)\ttotal: 32.4ms\tremaining: 1.59s\n",
            "2:\tlearn: 0.0125088\ttest: 0.0142078\tbest: 0.0141510 (0)\ttotal: 47.7ms\tremaining: 1.54s\n",
            "3:\tlearn: 0.0123322\ttest: 0.0142457\tbest: 0.0141510 (0)\ttotal: 64.1ms\tremaining: 1.54s\n",
            "4:\tlearn: 0.0121636\ttest: 0.0143298\tbest: 0.0141510 (0)\ttotal: 78.9ms\tremaining: 1.5s\n",
            "5:\tlearn: 0.0120490\ttest: 0.0143836\tbest: 0.0141510 (0)\ttotal: 95.9ms\tremaining: 1.5s\n",
            "6:\tlearn: 0.0119194\ttest: 0.0144495\tbest: 0.0141510 (0)\ttotal: 121ms\tremaining: 1.61s\n",
            "7:\tlearn: 0.0118072\ttest: 0.0145260\tbest: 0.0141510 (0)\ttotal: 137ms\tremaining: 1.57s\n",
            "8:\tlearn: 0.0116968\ttest: 0.0145999\tbest: 0.0141510 (0)\ttotal: 152ms\tremaining: 1.54s\n",
            "9:\tlearn: 0.0116074\ttest: 0.0146829\tbest: 0.0141510 (0)\ttotal: 168ms\tremaining: 1.51s\n",
            "10:\tlearn: 0.0115236\ttest: 0.0147476\tbest: 0.0141510 (0)\ttotal: 187ms\tremaining: 1.51s\n",
            "Stopped by overfitting detector  (10 iterations wait)\n",
            "\n",
            "bestTest = 0.01415098356\n",
            "bestIteration = 0\n",
            "\n",
            "Shrink model to first 1 iterations.\n"
          ]
        },
        {
          "name": "stderr",
          "output_type": "stream",
          "text": [
            "/usr/local/lib/python3.7/dist-packages/pypfopt/efficient_frontier/efficient_frontier.py:258: UserWarning: max_sharpe transforms the optimization problem so additional objectives may not work as expected.\n",
            "  \"max_sharpe transforms the optimization problem so additional objectives may not work as expected.\"\n"
          ]
        },
        {
          "name": "stdout",
          "output_type": "stream",
          "text": [
            "2022-02-15 00:00:00\n",
            "0:\tlearn: 0.0136461\ttest: 0.0138670\tbest: 0.0138670 (0)\ttotal: 16.4ms\tremaining: 1.62s\n",
            "1:\tlearn: 0.0134771\ttest: 0.0138827\tbest: 0.0138670 (0)\ttotal: 32.8ms\tremaining: 1.61s\n",
            "2:\tlearn: 0.0133012\ttest: 0.0139051\tbest: 0.0138670 (0)\ttotal: 47.9ms\tremaining: 1.55s\n",
            "3:\tlearn: 0.0131878\ttest: 0.0139223\tbest: 0.0138670 (0)\ttotal: 64.6ms\tremaining: 1.55s\n",
            "4:\tlearn: 0.0130539\ttest: 0.0139457\tbest: 0.0138670 (0)\ttotal: 80ms\tremaining: 1.52s\n",
            "5:\tlearn: 0.0129224\ttest: 0.0139620\tbest: 0.0138670 (0)\ttotal: 95.5ms\tremaining: 1.5s\n",
            "6:\tlearn: 0.0128093\ttest: 0.0140032\tbest: 0.0138670 (0)\ttotal: 112ms\tremaining: 1.49s\n",
            "7:\tlearn: 0.0126866\ttest: 0.0140515\tbest: 0.0138670 (0)\ttotal: 127ms\tremaining: 1.46s\n",
            "8:\tlearn: 0.0125852\ttest: 0.0140983\tbest: 0.0138670 (0)\ttotal: 143ms\tremaining: 1.44s\n",
            "9:\tlearn: 0.0125038\ttest: 0.0141245\tbest: 0.0138670 (0)\ttotal: 158ms\tremaining: 1.42s\n",
            "10:\tlearn: 0.0124329\ttest: 0.0141554\tbest: 0.0138670 (0)\ttotal: 178ms\tremaining: 1.44s\n",
            "Stopped by overfitting detector  (10 iterations wait)\n",
            "\n",
            "bestTest = 0.01386697922\n",
            "bestIteration = 0\n",
            "\n",
            "Shrink model to first 1 iterations.\n"
          ]
        },
        {
          "name": "stderr",
          "output_type": "stream",
          "text": [
            "/usr/local/lib/python3.7/dist-packages/pypfopt/efficient_frontier/efficient_frontier.py:258: UserWarning: max_sharpe transforms the optimization problem so additional objectives may not work as expected.\n",
            "  \"max_sharpe transforms the optimization problem so additional objectives may not work as expected.\"\n",
            "/usr/local/lib/python3.7/dist-packages/cvxpy/problems/problem.py:1334: UserWarning: Solution may be inaccurate. Try another solver, adjusting the solver settings, or solve with verbose=True for more information.\n",
            "  \"Solution may be inaccurate. Try another solver, \"\n"
          ]
        },
        {
          "name": "stdout",
          "output_type": "stream",
          "text": [
            "2022-02-16 00:00:00\n",
            "0:\tlearn: 0.0137079\ttest: 0.0141389\tbest: 0.0141389 (0)\ttotal: 16ms\tremaining: 1.59s\n",
            "1:\tlearn: 0.0134874\ttest: 0.0141170\tbest: 0.0141170 (1)\ttotal: 32.1ms\tremaining: 1.57s\n",
            "2:\tlearn: 0.0132806\ttest: 0.0141062\tbest: 0.0141062 (2)\ttotal: 47.8ms\tremaining: 1.55s\n",
            "3:\tlearn: 0.0131248\ttest: 0.0141059\tbest: 0.0141059 (3)\ttotal: 63.5ms\tremaining: 1.52s\n",
            "4:\tlearn: 0.0129597\ttest: 0.0141321\tbest: 0.0141059 (3)\ttotal: 78.2ms\tremaining: 1.49s\n",
            "5:\tlearn: 0.0127601\ttest: 0.0141300\tbest: 0.0141059 (3)\ttotal: 93.6ms\tremaining: 1.47s\n",
            "6:\tlearn: 0.0125754\ttest: 0.0141413\tbest: 0.0141059 (3)\ttotal: 109ms\tremaining: 1.45s\n",
            "7:\tlearn: 0.0124875\ttest: 0.0141591\tbest: 0.0141059 (3)\ttotal: 125ms\tremaining: 1.44s\n",
            "8:\tlearn: 0.0123948\ttest: 0.0141946\tbest: 0.0141059 (3)\ttotal: 141ms\tremaining: 1.43s\n",
            "9:\tlearn: 0.0122677\ttest: 0.0142185\tbest: 0.0141059 (3)\ttotal: 157ms\tremaining: 1.41s\n",
            "10:\tlearn: 0.0122098\ttest: 0.0142319\tbest: 0.0141059 (3)\ttotal: 172ms\tremaining: 1.39s\n",
            "11:\tlearn: 0.0121106\ttest: 0.0142445\tbest: 0.0141059 (3)\ttotal: 190ms\tremaining: 1.39s\n",
            "12:\tlearn: 0.0120609\ttest: 0.0142695\tbest: 0.0141059 (3)\ttotal: 205ms\tremaining: 1.37s\n",
            "13:\tlearn: 0.0119683\ttest: 0.0142876\tbest: 0.0141059 (3)\ttotal: 228ms\tremaining: 1.4s\n",
            "Stopped by overfitting detector  (10 iterations wait)\n",
            "\n",
            "bestTest = 0.01410586523\n",
            "bestIteration = 3\n",
            "\n",
            "Shrink model to first 4 iterations.\n"
          ]
        },
        {
          "name": "stderr",
          "output_type": "stream",
          "text": [
            "/usr/local/lib/python3.7/dist-packages/pypfopt/efficient_frontier/efficient_frontier.py:258: UserWarning: max_sharpe transforms the optimization problem so additional objectives may not work as expected.\n",
            "  \"max_sharpe transforms the optimization problem so additional objectives may not work as expected.\"\n",
            "/usr/local/lib/python3.7/dist-packages/cvxpy/problems/problem.py:1334: UserWarning: Solution may be inaccurate. Try another solver, adjusting the solver settings, or solve with verbose=True for more information.\n",
            "  \"Solution may be inaccurate. Try another solver, \"\n"
          ]
        },
        {
          "name": "stdout",
          "output_type": "stream",
          "text": [
            "2022-02-17 00:00:00\n",
            "0:\tlearn: 0.0137637\ttest: 0.0139259\tbest: 0.0139259 (0)\ttotal: 17ms\tremaining: 1.68s\n",
            "1:\tlearn: 0.0135540\ttest: 0.0139712\tbest: 0.0139259 (0)\ttotal: 32.9ms\tremaining: 1.61s\n",
            "2:\tlearn: 0.0133189\ttest: 0.0139664\tbest: 0.0139259 (0)\ttotal: 48.6ms\tremaining: 1.57s\n",
            "3:\tlearn: 0.0131447\ttest: 0.0139979\tbest: 0.0139259 (0)\ttotal: 64.8ms\tremaining: 1.55s\n",
            "4:\tlearn: 0.0129768\ttest: 0.0140462\tbest: 0.0139259 (0)\ttotal: 80.2ms\tremaining: 1.52s\n",
            "5:\tlearn: 0.0128080\ttest: 0.0141305\tbest: 0.0139259 (0)\ttotal: 95.9ms\tremaining: 1.5s\n",
            "6:\tlearn: 0.0126886\ttest: 0.0141769\tbest: 0.0139259 (0)\ttotal: 111ms\tremaining: 1.48s\n",
            "7:\tlearn: 0.0125690\ttest: 0.0142236\tbest: 0.0139259 (0)\ttotal: 128ms\tremaining: 1.47s\n",
            "8:\tlearn: 0.0124388\ttest: 0.0142693\tbest: 0.0139259 (0)\ttotal: 143ms\tremaining: 1.45s\n",
            "9:\tlearn: 0.0123357\ttest: 0.0143219\tbest: 0.0139259 (0)\ttotal: 158ms\tremaining: 1.42s\n",
            "10:\tlearn: 0.0122708\ttest: 0.0143714\tbest: 0.0139259 (0)\ttotal: 173ms\tremaining: 1.4s\n",
            "Stopped by overfitting detector  (10 iterations wait)\n",
            "\n",
            "bestTest = 0.01392593946\n",
            "bestIteration = 0\n",
            "\n",
            "Shrink model to first 1 iterations.\n"
          ]
        },
        {
          "name": "stderr",
          "output_type": "stream",
          "text": [
            "/usr/local/lib/python3.7/dist-packages/pypfopt/efficient_frontier/efficient_frontier.py:258: UserWarning: max_sharpe transforms the optimization problem so additional objectives may not work as expected.\n",
            "  \"max_sharpe transforms the optimization problem so additional objectives may not work as expected.\"\n",
            "/usr/local/lib/python3.7/dist-packages/cvxpy/problems/problem.py:1334: UserWarning: Solution may be inaccurate. Try another solver, adjusting the solver settings, or solve with verbose=True for more information.\n",
            "  \"Solution may be inaccurate. Try another solver, \"\n"
          ]
        },
        {
          "name": "stdout",
          "output_type": "stream",
          "text": [
            "2022-02-18 00:00:00\n",
            "0:\tlearn: 0.0121406\ttest: 0.0151799\tbest: 0.0151799 (0)\ttotal: 15.6ms\tremaining: 1.55s\n",
            "1:\tlearn: 0.0120189\ttest: 0.0151596\tbest: 0.0151596 (1)\ttotal: 31.5ms\tremaining: 1.54s\n",
            "2:\tlearn: 0.0119053\ttest: 0.0151717\tbest: 0.0151596 (1)\ttotal: 46.9ms\tremaining: 1.52s\n",
            "3:\tlearn: 0.0117944\ttest: 0.0151751\tbest: 0.0151596 (1)\ttotal: 62.9ms\tremaining: 1.51s\n",
            "4:\tlearn: 0.0117033\ttest: 0.0151605\tbest: 0.0151596 (1)\ttotal: 77.9ms\tremaining: 1.48s\n",
            "5:\tlearn: 0.0116124\ttest: 0.0151782\tbest: 0.0151596 (1)\ttotal: 93.2ms\tremaining: 1.46s\n",
            "6:\tlearn: 0.0115288\ttest: 0.0152084\tbest: 0.0151596 (1)\ttotal: 109ms\tremaining: 1.44s\n",
            "7:\tlearn: 0.0114771\ttest: 0.0152199\tbest: 0.0151596 (1)\ttotal: 130ms\tremaining: 1.49s\n",
            "8:\tlearn: 0.0114279\ttest: 0.0152271\tbest: 0.0151596 (1)\ttotal: 144ms\tremaining: 1.46s\n",
            "9:\tlearn: 0.0113934\ttest: 0.0152294\tbest: 0.0151596 (1)\ttotal: 159ms\tremaining: 1.44s\n",
            "10:\tlearn: 0.0113226\ttest: 0.0152616\tbest: 0.0151596 (1)\ttotal: 175ms\tremaining: 1.42s\n",
            "11:\tlearn: 0.0112488\ttest: 0.0152801\tbest: 0.0151596 (1)\ttotal: 191ms\tremaining: 1.4s\n",
            "Stopped by overfitting detector  (10 iterations wait)\n",
            "\n",
            "bestTest = 0.01515962443\n",
            "bestIteration = 1\n",
            "\n",
            "Shrink model to first 2 iterations.\n"
          ]
        },
        {
          "name": "stderr",
          "output_type": "stream",
          "text": [
            "/usr/local/lib/python3.7/dist-packages/pypfopt/efficient_frontier/efficient_frontier.py:258: UserWarning: max_sharpe transforms the optimization problem so additional objectives may not work as expected.\n",
            "  \"max_sharpe transforms the optimization problem so additional objectives may not work as expected.\"\n",
            "/usr/local/lib/python3.7/dist-packages/cvxpy/problems/problem.py:1334: UserWarning: Solution may be inaccurate. Try another solver, adjusting the solver settings, or solve with verbose=True for more information.\n",
            "  \"Solution may be inaccurate. Try another solver, \"\n"
          ]
        },
        {
          "name": "stdout",
          "output_type": "stream",
          "text": [
            "2022-02-22 00:00:00\n",
            "0:\tlearn: 0.0127142\ttest: 0.0143156\tbest: 0.0143156 (0)\ttotal: 15.9ms\tremaining: 1.57s\n",
            "1:\tlearn: 0.0125668\ttest: 0.0143341\tbest: 0.0143156 (0)\ttotal: 31.7ms\tremaining: 1.55s\n",
            "2:\tlearn: 0.0123433\ttest: 0.0143252\tbest: 0.0143156 (0)\ttotal: 46.5ms\tremaining: 1.5s\n",
            "3:\tlearn: 0.0122121\ttest: 0.0143537\tbest: 0.0143156 (0)\ttotal: 62.3ms\tremaining: 1.5s\n",
            "4:\tlearn: 0.0120903\ttest: 0.0143776\tbest: 0.0143156 (0)\ttotal: 77.3ms\tremaining: 1.47s\n",
            "5:\tlearn: 0.0119477\ttest: 0.0144059\tbest: 0.0143156 (0)\ttotal: 92.5ms\tremaining: 1.45s\n",
            "6:\tlearn: 0.0118255\ttest: 0.0144497\tbest: 0.0143156 (0)\ttotal: 108ms\tremaining: 1.44s\n",
            "7:\tlearn: 0.0117337\ttest: 0.0144567\tbest: 0.0143156 (0)\ttotal: 127ms\tremaining: 1.46s\n",
            "8:\tlearn: 0.0116442\ttest: 0.0144834\tbest: 0.0143156 (0)\ttotal: 143ms\tremaining: 1.44s\n",
            "9:\tlearn: 0.0115269\ttest: 0.0145240\tbest: 0.0143156 (0)\ttotal: 158ms\tremaining: 1.42s\n",
            "10:\tlearn: 0.0114746\ttest: 0.0145340\tbest: 0.0143156 (0)\ttotal: 173ms\tremaining: 1.4s\n",
            "Stopped by overfitting detector  (10 iterations wait)\n",
            "\n",
            "bestTest = 0.01431555411\n",
            "bestIteration = 0\n",
            "\n",
            "Shrink model to first 1 iterations.\n"
          ]
        },
        {
          "name": "stderr",
          "output_type": "stream",
          "text": [
            "/usr/local/lib/python3.7/dist-packages/pypfopt/efficient_frontier/efficient_frontier.py:258: UserWarning: max_sharpe transforms the optimization problem so additional objectives may not work as expected.\n",
            "  \"max_sharpe transforms the optimization problem so additional objectives may not work as expected.\"\n",
            "/usr/local/lib/python3.7/dist-packages/cvxpy/problems/problem.py:1334: UserWarning: Solution may be inaccurate. Try another solver, adjusting the solver settings, or solve with verbose=True for more information.\n",
            "  \"Solution may be inaccurate. Try another solver, \"\n"
          ]
        },
        {
          "name": "stdout",
          "output_type": "stream",
          "text": [
            "2022-02-23 00:00:00\n",
            "0:\tlearn: 0.0143558\ttest: 0.0135703\tbest: 0.0135703 (0)\ttotal: 16.6ms\tremaining: 1.64s\n",
            "1:\tlearn: 0.0140098\ttest: 0.0135443\tbest: 0.0135443 (1)\ttotal: 32.1ms\tremaining: 1.57s\n",
            "2:\tlearn: 0.0137605\ttest: 0.0135985\tbest: 0.0135443 (1)\ttotal: 46.7ms\tremaining: 1.51s\n",
            "3:\tlearn: 0.0135452\ttest: 0.0136570\tbest: 0.0135443 (1)\ttotal: 62.2ms\tremaining: 1.49s\n",
            "4:\tlearn: 0.0133596\ttest: 0.0137083\tbest: 0.0135443 (1)\ttotal: 78.1ms\tremaining: 1.48s\n",
            "5:\tlearn: 0.0131981\ttest: 0.0137517\tbest: 0.0135443 (1)\ttotal: 93.3ms\tremaining: 1.46s\n",
            "6:\tlearn: 0.0130187\ttest: 0.0138050\tbest: 0.0135443 (1)\ttotal: 111ms\tremaining: 1.47s\n",
            "7:\tlearn: 0.0128931\ttest: 0.0138582\tbest: 0.0135443 (1)\ttotal: 127ms\tremaining: 1.46s\n",
            "8:\tlearn: 0.0127352\ttest: 0.0138932\tbest: 0.0135443 (1)\ttotal: 143ms\tremaining: 1.45s\n",
            "9:\tlearn: 0.0125973\ttest: 0.0139553\tbest: 0.0135443 (1)\ttotal: 159ms\tremaining: 1.43s\n",
            "10:\tlearn: 0.0124844\ttest: 0.0140303\tbest: 0.0135443 (1)\ttotal: 174ms\tremaining: 1.41s\n",
            "11:\tlearn: 0.0123906\ttest: 0.0140733\tbest: 0.0135443 (1)\ttotal: 190ms\tremaining: 1.39s\n",
            "Stopped by overfitting detector  (10 iterations wait)\n",
            "\n",
            "bestTest = 0.01354432085\n",
            "bestIteration = 1\n",
            "\n",
            "Shrink model to first 2 iterations.\n"
          ]
        },
        {
          "name": "stderr",
          "output_type": "stream",
          "text": [
            "/usr/local/lib/python3.7/dist-packages/pypfopt/efficient_frontier/efficient_frontier.py:258: UserWarning: max_sharpe transforms the optimization problem so additional objectives may not work as expected.\n",
            "  \"max_sharpe transforms the optimization problem so additional objectives may not work as expected.\"\n",
            "/usr/local/lib/python3.7/dist-packages/cvxpy/problems/problem.py:1334: UserWarning: Solution may be inaccurate. Try another solver, adjusting the solver settings, or solve with verbose=True for more information.\n",
            "  \"Solution may be inaccurate. Try another solver, \"\n"
          ]
        },
        {
          "name": "stdout",
          "output_type": "stream",
          "text": [
            "2022-02-24 00:00:00\n",
            "0:\tlearn: 0.0128524\ttest: 0.0143548\tbest: 0.0143548 (0)\ttotal: 16.7ms\tremaining: 1.65s\n",
            "1:\tlearn: 0.0127512\ttest: 0.0143657\tbest: 0.0143548 (0)\ttotal: 32.6ms\tremaining: 1.6s\n",
            "2:\tlearn: 0.0126207\ttest: 0.0143763\tbest: 0.0143548 (0)\ttotal: 47.9ms\tremaining: 1.55s\n",
            "3:\tlearn: 0.0125391\ttest: 0.0143884\tbest: 0.0143548 (0)\ttotal: 64.1ms\tremaining: 1.54s\n",
            "4:\tlearn: 0.0124496\ttest: 0.0143888\tbest: 0.0143548 (0)\ttotal: 79.6ms\tremaining: 1.51s\n",
            "5:\tlearn: 0.0123640\ttest: 0.0144060\tbest: 0.0143548 (0)\ttotal: 95.3ms\tremaining: 1.49s\n",
            "6:\tlearn: 0.0122613\ttest: 0.0144194\tbest: 0.0143548 (0)\ttotal: 111ms\tremaining: 1.48s\n",
            "7:\tlearn: 0.0121793\ttest: 0.0144444\tbest: 0.0143548 (0)\ttotal: 131ms\tremaining: 1.5s\n",
            "8:\tlearn: 0.0120963\ttest: 0.0144683\tbest: 0.0143548 (0)\ttotal: 147ms\tremaining: 1.48s\n",
            "9:\tlearn: 0.0120223\ttest: 0.0144946\tbest: 0.0143548 (0)\ttotal: 162ms\tremaining: 1.46s\n",
            "10:\tlearn: 0.0119566\ttest: 0.0145065\tbest: 0.0143548 (0)\ttotal: 178ms\tremaining: 1.44s\n",
            "Stopped by overfitting detector  (10 iterations wait)\n",
            "\n",
            "bestTest = 0.01435475383\n",
            "bestIteration = 0\n",
            "\n",
            "Shrink model to first 1 iterations.\n"
          ]
        },
        {
          "name": "stderr",
          "output_type": "stream",
          "text": [
            "/usr/local/lib/python3.7/dist-packages/pypfopt/efficient_frontier/efficient_frontier.py:258: UserWarning: max_sharpe transforms the optimization problem so additional objectives may not work as expected.\n",
            "  \"max_sharpe transforms the optimization problem so additional objectives may not work as expected.\"\n",
            "/usr/local/lib/python3.7/dist-packages/cvxpy/problems/problem.py:1334: UserWarning: Solution may be inaccurate. Try another solver, adjusting the solver settings, or solve with verbose=True for more information.\n",
            "  \"Solution may be inaccurate. Try another solver, \"\n"
          ]
        },
        {
          "name": "stdout",
          "output_type": "stream",
          "text": [
            "2022-02-25 00:00:00\n",
            "0:\tlearn: 0.0146791\ttest: 0.0136589\tbest: 0.0136589 (0)\ttotal: 16.6ms\tremaining: 1.64s\n",
            "1:\tlearn: 0.0143821\ttest: 0.0136792\tbest: 0.0136589 (0)\ttotal: 32.7ms\tremaining: 1.6s\n",
            "2:\tlearn: 0.0141036\ttest: 0.0137005\tbest: 0.0136589 (0)\ttotal: 48.2ms\tremaining: 1.56s\n",
            "3:\tlearn: 0.0138738\ttest: 0.0137163\tbest: 0.0136589 (0)\ttotal: 64.6ms\tremaining: 1.55s\n",
            "4:\tlearn: 0.0136850\ttest: 0.0137351\tbest: 0.0136589 (0)\ttotal: 83ms\tremaining: 1.58s\n",
            "5:\tlearn: 0.0135456\ttest: 0.0138073\tbest: 0.0136589 (0)\ttotal: 98.9ms\tremaining: 1.55s\n",
            "6:\tlearn: 0.0134457\ttest: 0.0138331\tbest: 0.0136589 (0)\ttotal: 114ms\tremaining: 1.52s\n",
            "7:\tlearn: 0.0132855\ttest: 0.0138758\tbest: 0.0136589 (0)\ttotal: 130ms\tremaining: 1.49s\n",
            "8:\tlearn: 0.0132267\ttest: 0.0138911\tbest: 0.0136589 (0)\ttotal: 145ms\tremaining: 1.47s\n",
            "9:\tlearn: 0.0131047\ttest: 0.0139082\tbest: 0.0136589 (0)\ttotal: 161ms\tremaining: 1.45s\n",
            "10:\tlearn: 0.0130013\ttest: 0.0139312\tbest: 0.0136589 (0)\ttotal: 176ms\tremaining: 1.43s\n",
            "Stopped by overfitting detector  (10 iterations wait)\n",
            "\n",
            "bestTest = 0.01365891165\n",
            "bestIteration = 0\n",
            "\n",
            "Shrink model to first 1 iterations.\n"
          ]
        },
        {
          "name": "stderr",
          "output_type": "stream",
          "text": [
            "/usr/local/lib/python3.7/dist-packages/pypfopt/efficient_frontier/efficient_frontier.py:258: UserWarning: max_sharpe transforms the optimization problem so additional objectives may not work as expected.\n",
            "  \"max_sharpe transforms the optimization problem so additional objectives may not work as expected.\"\n",
            "/usr/local/lib/python3.7/dist-packages/cvxpy/problems/problem.py:1334: UserWarning: Solution may be inaccurate. Try another solver, adjusting the solver settings, or solve with verbose=True for more information.\n",
            "  \"Solution may be inaccurate. Try another solver, \"\n"
          ]
        },
        {
          "name": "stdout",
          "output_type": "stream",
          "text": [
            "2022-02-28 00:00:00\n",
            "0:\tlearn: 0.0146194\ttest: 0.0146449\tbest: 0.0146449 (0)\ttotal: 16.7ms\tremaining: 1.66s\n",
            "1:\tlearn: 0.0144055\ttest: 0.0146594\tbest: 0.0146449 (0)\ttotal: 32.5ms\tremaining: 1.59s\n",
            "2:\tlearn: 0.0141842\ttest: 0.0146456\tbest: 0.0146449 (0)\ttotal: 47.8ms\tremaining: 1.54s\n",
            "3:\tlearn: 0.0140158\ttest: 0.0146882\tbest: 0.0146449 (0)\ttotal: 63.8ms\tremaining: 1.53s\n",
            "4:\tlearn: 0.0138622\ttest: 0.0147269\tbest: 0.0146449 (0)\ttotal: 79.1ms\tremaining: 1.5s\n",
            "5:\tlearn: 0.0137304\ttest: 0.0147729\tbest: 0.0146449 (0)\ttotal: 98.5ms\tremaining: 1.54s\n",
            "6:\tlearn: 0.0136006\ttest: 0.0148132\tbest: 0.0146449 (0)\ttotal: 115ms\tremaining: 1.53s\n",
            "7:\tlearn: 0.0134862\ttest: 0.0148280\tbest: 0.0146449 (0)\ttotal: 131ms\tremaining: 1.51s\n",
            "8:\tlearn: 0.0133905\ttest: 0.0148308\tbest: 0.0146449 (0)\ttotal: 147ms\tremaining: 1.49s\n",
            "9:\tlearn: 0.0132545\ttest: 0.0148541\tbest: 0.0146449 (0)\ttotal: 162ms\tremaining: 1.46s\n",
            "10:\tlearn: 0.0131857\ttest: 0.0148813\tbest: 0.0146449 (0)\ttotal: 178ms\tremaining: 1.44s\n",
            "Stopped by overfitting detector  (10 iterations wait)\n",
            "\n",
            "bestTest = 0.01464491046\n",
            "bestIteration = 0\n",
            "\n",
            "Shrink model to first 1 iterations.\n"
          ]
        },
        {
          "name": "stderr",
          "output_type": "stream",
          "text": [
            "/usr/local/lib/python3.7/dist-packages/pypfopt/efficient_frontier/efficient_frontier.py:258: UserWarning: max_sharpe transforms the optimization problem so additional objectives may not work as expected.\n",
            "  \"max_sharpe transforms the optimization problem so additional objectives may not work as expected.\"\n"
          ]
        },
        {
          "name": "stdout",
          "output_type": "stream",
          "text": [
            "2022-03-01 00:00:00\n",
            "0:\tlearn: 0.0128391\ttest: 0.0148578\tbest: 0.0148578 (0)\ttotal: 15.8ms\tremaining: 1.56s\n",
            "1:\tlearn: 0.0126655\ttest: 0.0148979\tbest: 0.0148578 (0)\ttotal: 32.9ms\tremaining: 1.61s\n",
            "2:\tlearn: 0.0125033\ttest: 0.0149410\tbest: 0.0148578 (0)\ttotal: 48.1ms\tremaining: 1.55s\n",
            "3:\tlearn: 0.0123753\ttest: 0.0149924\tbest: 0.0148578 (0)\ttotal: 64.7ms\tremaining: 1.55s\n",
            "4:\tlearn: 0.0122676\ttest: 0.0150443\tbest: 0.0148578 (0)\ttotal: 80ms\tremaining: 1.52s\n",
            "5:\tlearn: 0.0121634\ttest: 0.0151058\tbest: 0.0148578 (0)\ttotal: 95.8ms\tremaining: 1.5s\n",
            "6:\tlearn: 0.0120713\ttest: 0.0151256\tbest: 0.0148578 (0)\ttotal: 111ms\tremaining: 1.48s\n",
            "7:\tlearn: 0.0119812\ttest: 0.0151745\tbest: 0.0148578 (0)\ttotal: 127ms\tremaining: 1.46s\n",
            "8:\tlearn: 0.0119163\ttest: 0.0152148\tbest: 0.0148578 (0)\ttotal: 143ms\tremaining: 1.45s\n",
            "9:\tlearn: 0.0118513\ttest: 0.0152741\tbest: 0.0148578 (0)\ttotal: 158ms\tremaining: 1.42s\n",
            "10:\tlearn: 0.0117836\ttest: 0.0153347\tbest: 0.0148578 (0)\ttotal: 174ms\tremaining: 1.4s\n",
            "Stopped by overfitting detector  (10 iterations wait)\n",
            "\n",
            "bestTest = 0.01485784818\n",
            "bestIteration = 0\n",
            "\n",
            "Shrink model to first 1 iterations.\n"
          ]
        },
        {
          "name": "stderr",
          "output_type": "stream",
          "text": [
            "/usr/local/lib/python3.7/dist-packages/pypfopt/efficient_frontier/efficient_frontier.py:258: UserWarning: max_sharpe transforms the optimization problem so additional objectives may not work as expected.\n",
            "  \"max_sharpe transforms the optimization problem so additional objectives may not work as expected.\"\n",
            "/usr/local/lib/python3.7/dist-packages/cvxpy/problems/problem.py:1334: UserWarning: Solution may be inaccurate. Try another solver, adjusting the solver settings, or solve with verbose=True for more information.\n",
            "  \"Solution may be inaccurate. Try another solver, \"\n"
          ]
        },
        {
          "name": "stdout",
          "output_type": "stream",
          "text": [
            "2022-03-02 00:00:00\n",
            "0:\tlearn: 0.0140184\ttest: 0.0144916\tbest: 0.0144916 (0)\ttotal: 16.8ms\tremaining: 1.67s\n",
            "1:\tlearn: 0.0137769\ttest: 0.0145615\tbest: 0.0144916 (0)\ttotal: 34.8ms\tremaining: 1.7s\n",
            "2:\tlearn: 0.0135503\ttest: 0.0146715\tbest: 0.0144916 (0)\ttotal: 50.6ms\tremaining: 1.63s\n",
            "3:\tlearn: 0.0133814\ttest: 0.0147691\tbest: 0.0144916 (0)\ttotal: 66.8ms\tremaining: 1.6s\n",
            "4:\tlearn: 0.0131983\ttest: 0.0148645\tbest: 0.0144916 (0)\ttotal: 85.5ms\tremaining: 1.63s\n",
            "5:\tlearn: 0.0130519\ttest: 0.0149434\tbest: 0.0144916 (0)\ttotal: 101ms\tremaining: 1.58s\n",
            "6:\tlearn: 0.0129313\ttest: 0.0149712\tbest: 0.0144916 (0)\ttotal: 117ms\tremaining: 1.56s\n",
            "7:\tlearn: 0.0128162\ttest: 0.0150779\tbest: 0.0144916 (0)\ttotal: 133ms\tremaining: 1.53s\n",
            "8:\tlearn: 0.0127351\ttest: 0.0151294\tbest: 0.0144916 (0)\ttotal: 149ms\tremaining: 1.5s\n",
            "9:\tlearn: 0.0126255\ttest: 0.0152554\tbest: 0.0144916 (0)\ttotal: 165ms\tremaining: 1.48s\n",
            "10:\tlearn: 0.0125680\ttest: 0.0152890\tbest: 0.0144916 (0)\ttotal: 180ms\tremaining: 1.45s\n",
            "Stopped by overfitting detector  (10 iterations wait)\n",
            "\n",
            "bestTest = 0.01449157743\n",
            "bestIteration = 0\n",
            "\n",
            "Shrink model to first 1 iterations.\n"
          ]
        },
        {
          "name": "stderr",
          "output_type": "stream",
          "text": [
            "/usr/local/lib/python3.7/dist-packages/pypfopt/efficient_frontier/efficient_frontier.py:258: UserWarning: max_sharpe transforms the optimization problem so additional objectives may not work as expected.\n",
            "  \"max_sharpe transforms the optimization problem so additional objectives may not work as expected.\"\n"
          ]
        },
        {
          "name": "stdout",
          "output_type": "stream",
          "text": [
            "2022-03-03 00:00:00\n",
            "0:\tlearn: 0.0140132\ttest: 0.0146577\tbest: 0.0146577 (0)\ttotal: 17.9ms\tremaining: 1.77s\n",
            "1:\tlearn: 0.0137940\ttest: 0.0146951\tbest: 0.0146577 (0)\ttotal: 41.1ms\tremaining: 2.02s\n",
            "2:\tlearn: 0.0135880\ttest: 0.0147409\tbest: 0.0146577 (0)\ttotal: 58.7ms\tremaining: 1.9s\n",
            "3:\tlearn: 0.0133979\ttest: 0.0147893\tbest: 0.0146577 (0)\ttotal: 77.2ms\tremaining: 1.85s\n",
            "4:\tlearn: 0.0132418\ttest: 0.0148510\tbest: 0.0146577 (0)\ttotal: 92.7ms\tremaining: 1.76s\n",
            "5:\tlearn: 0.0130962\ttest: 0.0149045\tbest: 0.0146577 (0)\ttotal: 109ms\tremaining: 1.71s\n",
            "6:\tlearn: 0.0129619\ttest: 0.0149416\tbest: 0.0146577 (0)\ttotal: 128ms\tremaining: 1.7s\n",
            "7:\tlearn: 0.0128811\ttest: 0.0150015\tbest: 0.0146577 (0)\ttotal: 144ms\tremaining: 1.65s\n",
            "8:\tlearn: 0.0127900\ttest: 0.0150414\tbest: 0.0146577 (0)\ttotal: 160ms\tremaining: 1.62s\n",
            "9:\tlearn: 0.0127045\ttest: 0.0150495\tbest: 0.0146577 (0)\ttotal: 176ms\tremaining: 1.59s\n",
            "10:\tlearn: 0.0126055\ttest: 0.0151073\tbest: 0.0146577 (0)\ttotal: 192ms\tremaining: 1.55s\n",
            "Stopped by overfitting detector  (10 iterations wait)\n",
            "\n",
            "bestTest = 0.01465771116\n",
            "bestIteration = 0\n",
            "\n",
            "Shrink model to first 1 iterations.\n"
          ]
        },
        {
          "name": "stderr",
          "output_type": "stream",
          "text": [
            "/usr/local/lib/python3.7/dist-packages/pypfopt/efficient_frontier/efficient_frontier.py:258: UserWarning: max_sharpe transforms the optimization problem so additional objectives may not work as expected.\n",
            "  \"max_sharpe transforms the optimization problem so additional objectives may not work as expected.\"\n",
            "/usr/local/lib/python3.7/dist-packages/cvxpy/problems/problem.py:1334: UserWarning: Solution may be inaccurate. Try another solver, adjusting the solver settings, or solve with verbose=True for more information.\n",
            "  \"Solution may be inaccurate. Try another solver, \"\n"
          ]
        },
        {
          "name": "stdout",
          "output_type": "stream",
          "text": [
            "2022-03-04 00:00:00\n",
            "0:\tlearn: 0.0153535\ttest: 0.0142420\tbest: 0.0142420 (0)\ttotal: 15.8ms\tremaining: 1.56s\n",
            "1:\tlearn: 0.0151507\ttest: 0.0142003\tbest: 0.0142003 (1)\ttotal: 32.4ms\tremaining: 1.59s\n",
            "2:\tlearn: 0.0149499\ttest: 0.0142792\tbest: 0.0142003 (1)\ttotal: 48.3ms\tremaining: 1.56s\n",
            "3:\tlearn: 0.0147506\ttest: 0.0142998\tbest: 0.0142003 (1)\ttotal: 64.1ms\tremaining: 1.54s\n",
            "4:\tlearn: 0.0145265\ttest: 0.0143959\tbest: 0.0142003 (1)\ttotal: 80.1ms\tremaining: 1.52s\n",
            "5:\tlearn: 0.0143508\ttest: 0.0144411\tbest: 0.0142003 (1)\ttotal: 95.2ms\tremaining: 1.49s\n",
            "6:\tlearn: 0.0141234\ttest: 0.0145322\tbest: 0.0142003 (1)\ttotal: 111ms\tremaining: 1.47s\n",
            "7:\tlearn: 0.0140284\ttest: 0.0145454\tbest: 0.0142003 (1)\ttotal: 128ms\tremaining: 1.47s\n",
            "8:\tlearn: 0.0139309\ttest: 0.0145942\tbest: 0.0142003 (1)\ttotal: 143ms\tremaining: 1.45s\n",
            "9:\tlearn: 0.0137552\ttest: 0.0147242\tbest: 0.0142003 (1)\ttotal: 159ms\tremaining: 1.43s\n",
            "10:\tlearn: 0.0136339\ttest: 0.0148180\tbest: 0.0142003 (1)\ttotal: 174ms\tremaining: 1.41s\n",
            "11:\tlearn: 0.0134865\ttest: 0.0148697\tbest: 0.0142003 (1)\ttotal: 190ms\tremaining: 1.39s\n",
            "Stopped by overfitting detector  (10 iterations wait)\n",
            "\n",
            "bestTest = 0.01420030823\n",
            "bestIteration = 1\n",
            "\n",
            "Shrink model to first 2 iterations.\n"
          ]
        },
        {
          "name": "stderr",
          "output_type": "stream",
          "text": [
            "/usr/local/lib/python3.7/dist-packages/pypfopt/efficient_frontier/efficient_frontier.py:258: UserWarning: max_sharpe transforms the optimization problem so additional objectives may not work as expected.\n",
            "  \"max_sharpe transforms the optimization problem so additional objectives may not work as expected.\"\n",
            "/usr/local/lib/python3.7/dist-packages/cvxpy/problems/problem.py:1334: UserWarning: Solution may be inaccurate. Try another solver, adjusting the solver settings, or solve with verbose=True for more information.\n",
            "  \"Solution may be inaccurate. Try another solver, \"\n"
          ]
        },
        {
          "name": "stdout",
          "output_type": "stream",
          "text": [
            "2022-03-07 00:00:00\n",
            "0:\tlearn: 0.0139088\ttest: 0.0148677\tbest: 0.0148677 (0)\ttotal: 16.2ms\tremaining: 1.61s\n",
            "1:\tlearn: 0.0137248\ttest: 0.0148895\tbest: 0.0148677 (0)\ttotal: 33ms\tremaining: 1.61s\n",
            "2:\tlearn: 0.0135169\ttest: 0.0149247\tbest: 0.0148677 (0)\ttotal: 48.4ms\tremaining: 1.57s\n",
            "3:\tlearn: 0.0133518\ttest: 0.0149340\tbest: 0.0148677 (0)\ttotal: 64.1ms\tremaining: 1.54s\n",
            "4:\tlearn: 0.0131848\ttest: 0.0149333\tbest: 0.0148677 (0)\ttotal: 79.3ms\tremaining: 1.51s\n",
            "5:\tlearn: 0.0130517\ttest: 0.0149556\tbest: 0.0148677 (0)\ttotal: 95.3ms\tremaining: 1.49s\n",
            "6:\tlearn: 0.0129170\ttest: 0.0149848\tbest: 0.0148677 (0)\ttotal: 111ms\tremaining: 1.48s\n",
            "7:\tlearn: 0.0127942\ttest: 0.0149947\tbest: 0.0148677 (0)\ttotal: 126ms\tremaining: 1.45s\n",
            "8:\tlearn: 0.0126869\ttest: 0.0150258\tbest: 0.0148677 (0)\ttotal: 143ms\tremaining: 1.45s\n",
            "9:\tlearn: 0.0125612\ttest: 0.0149954\tbest: 0.0148677 (0)\ttotal: 158ms\tremaining: 1.42s\n",
            "10:\tlearn: 0.0124697\ttest: 0.0150220\tbest: 0.0148677 (0)\ttotal: 173ms\tremaining: 1.4s\n",
            "Stopped by overfitting detector  (10 iterations wait)\n",
            "\n",
            "bestTest = 0.01486774121\n",
            "bestIteration = 0\n",
            "\n",
            "Shrink model to first 1 iterations.\n"
          ]
        },
        {
          "name": "stderr",
          "output_type": "stream",
          "text": [
            "/usr/local/lib/python3.7/dist-packages/pypfopt/efficient_frontier/efficient_frontier.py:258: UserWarning: max_sharpe transforms the optimization problem so additional objectives may not work as expected.\n",
            "  \"max_sharpe transforms the optimization problem so additional objectives may not work as expected.\"\n"
          ]
        },
        {
          "name": "stdout",
          "output_type": "stream",
          "text": [
            "2022-03-08 00:00:00\n",
            "0:\tlearn: 0.0140841\ttest: 0.0152082\tbest: 0.0152082 (0)\ttotal: 17.2ms\tremaining: 1.7s\n",
            "1:\tlearn: 0.0139229\ttest: 0.0151927\tbest: 0.0151927 (1)\ttotal: 34ms\tremaining: 1.66s\n",
            "2:\tlearn: 0.0137637\ttest: 0.0151762\tbest: 0.0151762 (2)\ttotal: 49ms\tremaining: 1.58s\n",
            "3:\tlearn: 0.0135738\ttest: 0.0151728\tbest: 0.0151728 (3)\ttotal: 65.1ms\tremaining: 1.56s\n",
            "4:\tlearn: 0.0134456\ttest: 0.0152116\tbest: 0.0151728 (3)\ttotal: 80.1ms\tremaining: 1.52s\n",
            "5:\tlearn: 0.0133208\ttest: 0.0152488\tbest: 0.0151728 (3)\ttotal: 95.1ms\tremaining: 1.49s\n",
            "6:\tlearn: 0.0132020\ttest: 0.0152760\tbest: 0.0151728 (3)\ttotal: 111ms\tremaining: 1.47s\n",
            "7:\tlearn: 0.0130847\ttest: 0.0153353\tbest: 0.0151728 (3)\ttotal: 127ms\tremaining: 1.46s\n",
            "8:\tlearn: 0.0129198\ttest: 0.0153318\tbest: 0.0151728 (3)\ttotal: 143ms\tremaining: 1.44s\n",
            "9:\tlearn: 0.0128292\ttest: 0.0153669\tbest: 0.0151728 (3)\ttotal: 158ms\tremaining: 1.42s\n",
            "10:\tlearn: 0.0127451\ttest: 0.0153813\tbest: 0.0151728 (3)\ttotal: 173ms\tremaining: 1.4s\n",
            "11:\tlearn: 0.0126159\ttest: 0.0153804\tbest: 0.0151728 (3)\ttotal: 191ms\tremaining: 1.4s\n",
            "12:\tlearn: 0.0125584\ttest: 0.0154034\tbest: 0.0151728 (3)\ttotal: 207ms\tremaining: 1.39s\n",
            "13:\tlearn: 0.0124588\ttest: 0.0154218\tbest: 0.0151728 (3)\ttotal: 229ms\tremaining: 1.41s\n",
            "Stopped by overfitting detector  (10 iterations wait)\n",
            "\n",
            "bestTest = 0.01517280398\n",
            "bestIteration = 3\n",
            "\n",
            "Shrink model to first 4 iterations.\n"
          ]
        },
        {
          "name": "stderr",
          "output_type": "stream",
          "text": [
            "/usr/local/lib/python3.7/dist-packages/pypfopt/efficient_frontier/efficient_frontier.py:258: UserWarning: max_sharpe transforms the optimization problem so additional objectives may not work as expected.\n",
            "  \"max_sharpe transforms the optimization problem so additional objectives may not work as expected.\"\n"
          ]
        },
        {
          "name": "stdout",
          "output_type": "stream",
          "text": [
            "2022-03-09 00:00:00\n",
            "0:\tlearn: 0.0150113\ttest: 0.0152022\tbest: 0.0152022 (0)\ttotal: 16.3ms\tremaining: 1.61s\n",
            "1:\tlearn: 0.0147979\ttest: 0.0152324\tbest: 0.0152022 (0)\ttotal: 33.4ms\tremaining: 1.63s\n",
            "2:\tlearn: 0.0145809\ttest: 0.0152640\tbest: 0.0152022 (0)\ttotal: 48.7ms\tremaining: 1.57s\n",
            "3:\tlearn: 0.0144692\ttest: 0.0152941\tbest: 0.0152022 (0)\ttotal: 64.7ms\tremaining: 1.55s\n",
            "4:\tlearn: 0.0142882\ttest: 0.0153894\tbest: 0.0152022 (0)\ttotal: 81.8ms\tremaining: 1.55s\n",
            "5:\tlearn: 0.0141412\ttest: 0.0154585\tbest: 0.0152022 (0)\ttotal: 99.2ms\tremaining: 1.55s\n",
            "6:\tlearn: 0.0140007\ttest: 0.0155027\tbest: 0.0152022 (0)\ttotal: 115ms\tremaining: 1.53s\n",
            "7:\tlearn: 0.0139097\ttest: 0.0155276\tbest: 0.0152022 (0)\ttotal: 131ms\tremaining: 1.5s\n",
            "8:\tlearn: 0.0137897\ttest: 0.0155881\tbest: 0.0152022 (0)\ttotal: 147ms\tremaining: 1.48s\n",
            "9:\tlearn: 0.0136834\ttest: 0.0156152\tbest: 0.0152022 (0)\ttotal: 163ms\tremaining: 1.47s\n",
            "10:\tlearn: 0.0135767\ttest: 0.0156607\tbest: 0.0152022 (0)\ttotal: 179ms\tremaining: 1.45s\n",
            "Stopped by overfitting detector  (10 iterations wait)\n",
            "\n",
            "bestTest = 0.01520223975\n",
            "bestIteration = 0\n",
            "\n",
            "Shrink model to first 1 iterations.\n"
          ]
        },
        {
          "name": "stderr",
          "output_type": "stream",
          "text": [
            "/usr/local/lib/python3.7/dist-packages/pypfopt/efficient_frontier/efficient_frontier.py:258: UserWarning: max_sharpe transforms the optimization problem so additional objectives may not work as expected.\n",
            "  \"max_sharpe transforms the optimization problem so additional objectives may not work as expected.\"\n"
          ]
        },
        {
          "name": "stdout",
          "output_type": "stream",
          "text": [
            "2022-03-10 00:00:00\n",
            "0:\tlearn: 0.0140183\ttest: 0.0154392\tbest: 0.0154392 (0)\ttotal: 16.8ms\tremaining: 1.66s\n",
            "1:\tlearn: 0.0137585\ttest: 0.0154190\tbest: 0.0154190 (1)\ttotal: 33.3ms\tremaining: 1.63s\n",
            "2:\tlearn: 0.0134496\ttest: 0.0154493\tbest: 0.0154190 (1)\ttotal: 48.6ms\tremaining: 1.57s\n",
            "3:\tlearn: 0.0132290\ttest: 0.0154872\tbest: 0.0154190 (1)\ttotal: 65.5ms\tremaining: 1.57s\n",
            "4:\tlearn: 0.0130220\ttest: 0.0155237\tbest: 0.0154190 (1)\ttotal: 81.4ms\tremaining: 1.55s\n",
            "5:\tlearn: 0.0128536\ttest: 0.0155858\tbest: 0.0154190 (1)\ttotal: 97.2ms\tremaining: 1.52s\n",
            "6:\tlearn: 0.0127196\ttest: 0.0156469\tbest: 0.0154190 (1)\ttotal: 116ms\tremaining: 1.55s\n",
            "7:\tlearn: 0.0125779\ttest: 0.0156843\tbest: 0.0154190 (1)\ttotal: 132ms\tremaining: 1.52s\n",
            "8:\tlearn: 0.0124605\ttest: 0.0157316\tbest: 0.0154190 (1)\ttotal: 148ms\tremaining: 1.5s\n",
            "9:\tlearn: 0.0123445\ttest: 0.0157574\tbest: 0.0154190 (1)\ttotal: 164ms\tremaining: 1.47s\n",
            "10:\tlearn: 0.0122437\ttest: 0.0157941\tbest: 0.0154190 (1)\ttotal: 180ms\tremaining: 1.45s\n",
            "11:\tlearn: 0.0121661\ttest: 0.0158329\tbest: 0.0154190 (1)\ttotal: 195ms\tremaining: 1.43s\n",
            "Stopped by overfitting detector  (10 iterations wait)\n",
            "\n",
            "bestTest = 0.01541904367\n",
            "bestIteration = 1\n",
            "\n",
            "Shrink model to first 2 iterations.\n"
          ]
        },
        {
          "name": "stderr",
          "output_type": "stream",
          "text": [
            "/usr/local/lib/python3.7/dist-packages/pypfopt/efficient_frontier/efficient_frontier.py:258: UserWarning: max_sharpe transforms the optimization problem so additional objectives may not work as expected.\n",
            "  \"max_sharpe transforms the optimization problem so additional objectives may not work as expected.\"\n"
          ]
        },
        {
          "name": "stdout",
          "output_type": "stream",
          "text": [
            "2022-03-11 00:00:00\n",
            "0:\tlearn: 0.0146085\ttest: 0.0153378\tbest: 0.0153378 (0)\ttotal: 16.3ms\tremaining: 1.61s\n",
            "1:\tlearn: 0.0143034\ttest: 0.0153681\tbest: 0.0153378 (0)\ttotal: 32.8ms\tremaining: 1.61s\n",
            "2:\tlearn: 0.0140170\ttest: 0.0153720\tbest: 0.0153378 (0)\ttotal: 48.2ms\tremaining: 1.56s\n",
            "3:\tlearn: 0.0138100\ttest: 0.0154385\tbest: 0.0153378 (0)\ttotal: 64.3ms\tremaining: 1.54s\n",
            "4:\tlearn: 0.0136240\ttest: 0.0154724\tbest: 0.0153378 (0)\ttotal: 79.7ms\tremaining: 1.51s\n",
            "5:\tlearn: 0.0134367\ttest: 0.0155027\tbest: 0.0153378 (0)\ttotal: 95.7ms\tremaining: 1.5s\n",
            "6:\tlearn: 0.0132671\ttest: 0.0155276\tbest: 0.0153378 (0)\ttotal: 112ms\tremaining: 1.48s\n",
            "7:\tlearn: 0.0131219\ttest: 0.0155843\tbest: 0.0153378 (0)\ttotal: 127ms\tremaining: 1.46s\n",
            "8:\tlearn: 0.0130204\ttest: 0.0156001\tbest: 0.0153378 (0)\ttotal: 146ms\tremaining: 1.47s\n",
            "9:\tlearn: 0.0129259\ttest: 0.0156021\tbest: 0.0153378 (0)\ttotal: 161ms\tremaining: 1.45s\n",
            "10:\tlearn: 0.0127838\ttest: 0.0156417\tbest: 0.0153378 (0)\ttotal: 176ms\tremaining: 1.43s\n",
            "Stopped by overfitting detector  (10 iterations wait)\n",
            "\n",
            "bestTest = 0.01533777391\n",
            "bestIteration = 0\n",
            "\n",
            "Shrink model to first 1 iterations.\n"
          ]
        },
        {
          "name": "stderr",
          "output_type": "stream",
          "text": [
            "/usr/local/lib/python3.7/dist-packages/pypfopt/efficient_frontier/efficient_frontier.py:258: UserWarning: max_sharpe transforms the optimization problem so additional objectives may not work as expected.\n",
            "  \"max_sharpe transforms the optimization problem so additional objectives may not work as expected.\"\n"
          ]
        },
        {
          "name": "stdout",
          "output_type": "stream",
          "text": [
            "2022-03-14 00:00:00\n",
            "0:\tlearn: 0.0148516\ttest: 0.0152636\tbest: 0.0152636 (0)\ttotal: 16ms\tremaining: 1.58s\n",
            "1:\tlearn: 0.0146358\ttest: 0.0152497\tbest: 0.0152497 (1)\ttotal: 33.3ms\tremaining: 1.63s\n",
            "2:\tlearn: 0.0144210\ttest: 0.0152437\tbest: 0.0152437 (2)\ttotal: 48.8ms\tremaining: 1.58s\n",
            "3:\tlearn: 0.0142544\ttest: 0.0152440\tbest: 0.0152437 (2)\ttotal: 65ms\tremaining: 1.56s\n",
            "4:\tlearn: 0.0140797\ttest: 0.0152911\tbest: 0.0152437 (2)\ttotal: 80.6ms\tremaining: 1.53s\n",
            "5:\tlearn: 0.0139244\ttest: 0.0153141\tbest: 0.0152437 (2)\ttotal: 97.4ms\tremaining: 1.52s\n",
            "6:\tlearn: 0.0138126\ttest: 0.0153564\tbest: 0.0152437 (2)\ttotal: 113ms\tremaining: 1.51s\n",
            "7:\tlearn: 0.0137261\ttest: 0.0153767\tbest: 0.0152437 (2)\ttotal: 129ms\tremaining: 1.48s\n",
            "8:\tlearn: 0.0136301\ttest: 0.0154311\tbest: 0.0152437 (2)\ttotal: 145ms\tremaining: 1.47s\n",
            "9:\tlearn: 0.0135480\ttest: 0.0154473\tbest: 0.0152437 (2)\ttotal: 160ms\tremaining: 1.44s\n",
            "10:\tlearn: 0.0134443\ttest: 0.0154810\tbest: 0.0152437 (2)\ttotal: 176ms\tremaining: 1.42s\n",
            "11:\tlearn: 0.0133493\ttest: 0.0155111\tbest: 0.0152437 (2)\ttotal: 191ms\tremaining: 1.4s\n",
            "12:\tlearn: 0.0132440\ttest: 0.0155506\tbest: 0.0152437 (2)\ttotal: 206ms\tremaining: 1.38s\n",
            "Stopped by overfitting detector  (10 iterations wait)\n",
            "\n",
            "bestTest = 0.01524369545\n",
            "bestIteration = 2\n",
            "\n",
            "Shrink model to first 3 iterations.\n"
          ]
        },
        {
          "name": "stderr",
          "output_type": "stream",
          "text": [
            "/usr/local/lib/python3.7/dist-packages/pypfopt/efficient_frontier/efficient_frontier.py:258: UserWarning: max_sharpe transforms the optimization problem so additional objectives may not work as expected.\n",
            "  \"max_sharpe transforms the optimization problem so additional objectives may not work as expected.\"\n",
            "/usr/local/lib/python3.7/dist-packages/cvxpy/problems/problem.py:1334: UserWarning: Solution may be inaccurate. Try another solver, adjusting the solver settings, or solve with verbose=True for more information.\n",
            "  \"Solution may be inaccurate. Try another solver, \"\n"
          ]
        },
        {
          "name": "stdout",
          "output_type": "stream",
          "text": [
            "2022-03-15 00:00:00\n",
            "0:\tlearn: 0.0152879\ttest: 0.0154565\tbest: 0.0154565 (0)\ttotal: 16.2ms\tremaining: 1.6s\n",
            "1:\tlearn: 0.0150469\ttest: 0.0154500\tbest: 0.0154500 (1)\ttotal: 32.4ms\tremaining: 1.59s\n",
            "2:\tlearn: 0.0147967\ttest: 0.0155115\tbest: 0.0154500 (1)\ttotal: 47.8ms\tremaining: 1.55s\n",
            "3:\tlearn: 0.0145967\ttest: 0.0155623\tbest: 0.0154500 (1)\ttotal: 64ms\tremaining: 1.54s\n",
            "4:\tlearn: 0.0144221\ttest: 0.0156124\tbest: 0.0154500 (1)\ttotal: 79.6ms\tremaining: 1.51s\n",
            "5:\tlearn: 0.0142582\ttest: 0.0156638\tbest: 0.0154500 (1)\ttotal: 95.1ms\tremaining: 1.49s\n",
            "6:\tlearn: 0.0140787\ttest: 0.0156782\tbest: 0.0154500 (1)\ttotal: 110ms\tremaining: 1.47s\n",
            "7:\tlearn: 0.0139674\ttest: 0.0156886\tbest: 0.0154500 (1)\ttotal: 126ms\tremaining: 1.45s\n",
            "8:\tlearn: 0.0138293\ttest: 0.0157283\tbest: 0.0154500 (1)\ttotal: 142ms\tremaining: 1.44s\n",
            "9:\tlearn: 0.0136909\ttest: 0.0157949\tbest: 0.0154500 (1)\ttotal: 158ms\tremaining: 1.42s\n",
            "10:\tlearn: 0.0135875\ttest: 0.0158606\tbest: 0.0154500 (1)\ttotal: 174ms\tremaining: 1.4s\n",
            "11:\tlearn: 0.0135061\ttest: 0.0159076\tbest: 0.0154500 (1)\ttotal: 188ms\tremaining: 1.38s\n",
            "Stopped by overfitting detector  (10 iterations wait)\n",
            "\n",
            "bestTest = 0.01545001637\n",
            "bestIteration = 1\n",
            "\n",
            "Shrink model to first 2 iterations.\n"
          ]
        },
        {
          "name": "stderr",
          "output_type": "stream",
          "text": [
            "/usr/local/lib/python3.7/dist-packages/pypfopt/efficient_frontier/efficient_frontier.py:258: UserWarning: max_sharpe transforms the optimization problem so additional objectives may not work as expected.\n",
            "  \"max_sharpe transforms the optimization problem so additional objectives may not work as expected.\"\n"
          ]
        },
        {
          "name": "stdout",
          "output_type": "stream",
          "text": [
            "2022-03-16 00:00:00\n",
            "0:\tlearn: 0.0155437\ttest: 0.0152878\tbest: 0.0152878 (0)\ttotal: 15.9ms\tremaining: 1.57s\n",
            "1:\tlearn: 0.0152301\ttest: 0.0154399\tbest: 0.0152878 (0)\ttotal: 32.1ms\tremaining: 1.57s\n",
            "2:\tlearn: 0.0149214\ttest: 0.0156201\tbest: 0.0152878 (0)\ttotal: 47.2ms\tremaining: 1.52s\n",
            "3:\tlearn: 0.0146773\ttest: 0.0158279\tbest: 0.0152878 (0)\ttotal: 63ms\tremaining: 1.51s\n",
            "4:\tlearn: 0.0144589\ttest: 0.0160158\tbest: 0.0152878 (0)\ttotal: 77.8ms\tremaining: 1.48s\n",
            "5:\tlearn: 0.0142676\ttest: 0.0162357\tbest: 0.0152878 (0)\ttotal: 93.2ms\tremaining: 1.46s\n",
            "6:\tlearn: 0.0141244\ttest: 0.0163673\tbest: 0.0152878 (0)\ttotal: 108ms\tremaining: 1.44s\n",
            "7:\tlearn: 0.0139744\ttest: 0.0165142\tbest: 0.0152878 (0)\ttotal: 124ms\tremaining: 1.43s\n",
            "8:\tlearn: 0.0138953\ttest: 0.0165804\tbest: 0.0152878 (0)\ttotal: 139ms\tremaining: 1.41s\n",
            "9:\tlearn: 0.0137427\ttest: 0.0167554\tbest: 0.0152878 (0)\ttotal: 155ms\tremaining: 1.39s\n",
            "10:\tlearn: 0.0136695\ttest: 0.0168290\tbest: 0.0152878 (0)\ttotal: 171ms\tremaining: 1.39s\n",
            "Stopped by overfitting detector  (10 iterations wait)\n",
            "\n",
            "bestTest = 0.01528781972\n",
            "bestIteration = 0\n",
            "\n",
            "Shrink model to first 1 iterations.\n"
          ]
        },
        {
          "name": "stderr",
          "output_type": "stream",
          "text": [
            "/usr/local/lib/python3.7/dist-packages/pypfopt/efficient_frontier/efficient_frontier.py:258: UserWarning: max_sharpe transforms the optimization problem so additional objectives may not work as expected.\n",
            "  \"max_sharpe transforms the optimization problem so additional objectives may not work as expected.\"\n"
          ]
        },
        {
          "name": "stdout",
          "output_type": "stream",
          "text": [
            "2022-03-17 00:00:00\n",
            "0:\tlearn: 0.0160653\ttest: 0.0152722\tbest: 0.0152722 (0)\ttotal: 17.1ms\tremaining: 1.69s\n",
            "1:\tlearn: 0.0157527\ttest: 0.0153670\tbest: 0.0152722 (0)\ttotal: 33.1ms\tremaining: 1.62s\n",
            "2:\tlearn: 0.0155451\ttest: 0.0154597\tbest: 0.0152722 (0)\ttotal: 48.3ms\tremaining: 1.56s\n",
            "3:\tlearn: 0.0153553\ttest: 0.0155818\tbest: 0.0152722 (0)\ttotal: 64.6ms\tremaining: 1.55s\n",
            "4:\tlearn: 0.0151434\ttest: 0.0157374\tbest: 0.0152722 (0)\ttotal: 79.9ms\tremaining: 1.52s\n",
            "5:\tlearn: 0.0149914\ttest: 0.0158921\tbest: 0.0152722 (0)\ttotal: 95ms\tremaining: 1.49s\n",
            "6:\tlearn: 0.0148042\ttest: 0.0159487\tbest: 0.0152722 (0)\ttotal: 111ms\tremaining: 1.48s\n",
            "7:\tlearn: 0.0146619\ttest: 0.0160408\tbest: 0.0152722 (0)\ttotal: 127ms\tremaining: 1.46s\n",
            "8:\tlearn: 0.0144810\ttest: 0.0160440\tbest: 0.0152722 (0)\ttotal: 142ms\tremaining: 1.44s\n",
            "9:\tlearn: 0.0143449\ttest: 0.0161576\tbest: 0.0152722 (0)\ttotal: 158ms\tremaining: 1.42s\n",
            "10:\tlearn: 0.0142296\ttest: 0.0162555\tbest: 0.0152722 (0)\ttotal: 173ms\tremaining: 1.4s\n",
            "Stopped by overfitting detector  (10 iterations wait)\n",
            "\n",
            "bestTest = 0.01527217133\n",
            "bestIteration = 0\n",
            "\n",
            "Shrink model to first 1 iterations.\n"
          ]
        },
        {
          "name": "stderr",
          "output_type": "stream",
          "text": [
            "/usr/local/lib/python3.7/dist-packages/pypfopt/efficient_frontier/efficient_frontier.py:258: UserWarning: max_sharpe transforms the optimization problem so additional objectives may not work as expected.\n",
            "  \"max_sharpe transforms the optimization problem so additional objectives may not work as expected.\"\n"
          ]
        },
        {
          "name": "stdout",
          "output_type": "stream",
          "text": [
            "2022-03-18 00:00:00\n",
            "0:\tlearn: 0.0147767\ttest: 0.0156984\tbest: 0.0156984 (0)\ttotal: 16.3ms\tremaining: 1.61s\n",
            "1:\tlearn: 0.0145284\ttest: 0.0156875\tbest: 0.0156875 (1)\ttotal: 25ms\tremaining: 1.22s\n",
            "2:\tlearn: 0.0142587\ttest: 0.0156934\tbest: 0.0156875 (1)\ttotal: 40.1ms\tremaining: 1.3s\n",
            "3:\tlearn: 0.0140105\ttest: 0.0157282\tbest: 0.0156875 (1)\ttotal: 55.4ms\tremaining: 1.33s\n",
            "4:\tlearn: 0.0137843\ttest: 0.0157859\tbest: 0.0156875 (1)\ttotal: 71ms\tremaining: 1.35s\n",
            "5:\tlearn: 0.0135882\ttest: 0.0158257\tbest: 0.0156875 (1)\ttotal: 87.7ms\tremaining: 1.37s\n",
            "6:\tlearn: 0.0133778\ttest: 0.0158722\tbest: 0.0156875 (1)\ttotal: 103ms\tremaining: 1.37s\n",
            "7:\tlearn: 0.0132168\ttest: 0.0159186\tbest: 0.0156875 (1)\ttotal: 121ms\tremaining: 1.39s\n",
            "8:\tlearn: 0.0131203\ttest: 0.0159612\tbest: 0.0156875 (1)\ttotal: 137ms\tremaining: 1.38s\n",
            "9:\tlearn: 0.0130198\ttest: 0.0159943\tbest: 0.0156875 (1)\ttotal: 152ms\tremaining: 1.37s\n",
            "10:\tlearn: 0.0129057\ttest: 0.0160349\tbest: 0.0156875 (1)\ttotal: 168ms\tremaining: 1.36s\n",
            "11:\tlearn: 0.0128268\ttest: 0.0160575\tbest: 0.0156875 (1)\ttotal: 183ms\tremaining: 1.34s\n",
            "Stopped by overfitting detector  (10 iterations wait)\n",
            "\n",
            "bestTest = 0.01568753551\n",
            "bestIteration = 1\n",
            "\n",
            "Shrink model to first 2 iterations.\n"
          ]
        },
        {
          "name": "stderr",
          "output_type": "stream",
          "text": [
            "/usr/local/lib/python3.7/dist-packages/pypfopt/efficient_frontier/efficient_frontier.py:258: UserWarning: max_sharpe transforms the optimization problem so additional objectives may not work as expected.\n",
            "  \"max_sharpe transforms the optimization problem so additional objectives may not work as expected.\"\n",
            "/usr/local/lib/python3.7/dist-packages/cvxpy/problems/problem.py:1334: UserWarning: Solution may be inaccurate. Try another solver, adjusting the solver settings, or solve with verbose=True for more information.\n",
            "  \"Solution may be inaccurate. Try another solver, \"\n"
          ]
        },
        {
          "name": "stdout",
          "output_type": "stream",
          "text": [
            "2022-03-21 00:00:00\n",
            "0:\tlearn: 0.0160247\ttest: 0.0153392\tbest: 0.0153392 (0)\ttotal: 15.8ms\tremaining: 1.56s\n",
            "1:\tlearn: 0.0157419\ttest: 0.0154463\tbest: 0.0153392 (0)\ttotal: 32.6ms\tremaining: 1.59s\n",
            "2:\tlearn: 0.0154360\ttest: 0.0155567\tbest: 0.0153392 (0)\ttotal: 47.4ms\tremaining: 1.53s\n",
            "3:\tlearn: 0.0151986\ttest: 0.0155934\tbest: 0.0153392 (0)\ttotal: 63.1ms\tremaining: 1.51s\n",
            "4:\tlearn: 0.0149092\ttest: 0.0157618\tbest: 0.0153392 (0)\ttotal: 79.3ms\tremaining: 1.51s\n",
            "5:\tlearn: 0.0147156\ttest: 0.0158341\tbest: 0.0153392 (0)\ttotal: 96.7ms\tremaining: 1.51s\n",
            "6:\tlearn: 0.0145360\ttest: 0.0158994\tbest: 0.0153392 (0)\ttotal: 112ms\tremaining: 1.49s\n",
            "7:\tlearn: 0.0143560\ttest: 0.0159216\tbest: 0.0153392 (0)\ttotal: 128ms\tremaining: 1.47s\n",
            "8:\tlearn: 0.0142010\ttest: 0.0160439\tbest: 0.0153392 (0)\ttotal: 143ms\tremaining: 1.44s\n",
            "9:\tlearn: 0.0140345\ttest: 0.0161674\tbest: 0.0153392 (0)\ttotal: 163ms\tremaining: 1.47s\n",
            "10:\tlearn: 0.0139059\ttest: 0.0162274\tbest: 0.0153392 (0)\ttotal: 186ms\tremaining: 1.5s\n",
            "Stopped by overfitting detector  (10 iterations wait)\n",
            "\n",
            "bestTest = 0.01533919389\n",
            "bestIteration = 0\n",
            "\n",
            "Shrink model to first 1 iterations.\n"
          ]
        },
        {
          "name": "stderr",
          "output_type": "stream",
          "text": [
            "/usr/local/lib/python3.7/dist-packages/pypfopt/efficient_frontier/efficient_frontier.py:258: UserWarning: max_sharpe transforms the optimization problem so additional objectives may not work as expected.\n",
            "  \"max_sharpe transforms the optimization problem so additional objectives may not work as expected.\"\n"
          ]
        },
        {
          "name": "stdout",
          "output_type": "stream",
          "text": [
            "2022-03-22 00:00:00\n",
            "0:\tlearn: 0.0143005\ttest: 0.0161058\tbest: 0.0161058 (0)\ttotal: 16ms\tremaining: 1.58s\n",
            "1:\tlearn: 0.0140363\ttest: 0.0161479\tbest: 0.0161058 (0)\ttotal: 31.9ms\tremaining: 1.56s\n",
            "2:\tlearn: 0.0137799\ttest: 0.0161873\tbest: 0.0161058 (0)\ttotal: 47.2ms\tremaining: 1.53s\n",
            "3:\tlearn: 0.0135541\ttest: 0.0162467\tbest: 0.0161058 (0)\ttotal: 63.4ms\tremaining: 1.52s\n",
            "4:\tlearn: 0.0133746\ttest: 0.0163071\tbest: 0.0161058 (0)\ttotal: 79.2ms\tremaining: 1.5s\n",
            "5:\tlearn: 0.0132137\ttest: 0.0163407\tbest: 0.0161058 (0)\ttotal: 94.5ms\tremaining: 1.48s\n",
            "6:\tlearn: 0.0130446\ttest: 0.0163610\tbest: 0.0161058 (0)\ttotal: 110ms\tremaining: 1.46s\n",
            "7:\tlearn: 0.0129177\ttest: 0.0164070\tbest: 0.0161058 (0)\ttotal: 126ms\tremaining: 1.45s\n",
            "8:\tlearn: 0.0128078\ttest: 0.0164539\tbest: 0.0161058 (0)\ttotal: 142ms\tremaining: 1.43s\n",
            "9:\tlearn: 0.0126639\ttest: 0.0165103\tbest: 0.0161058 (0)\ttotal: 157ms\tremaining: 1.41s\n",
            "10:\tlearn: 0.0125767\ttest: 0.0165453\tbest: 0.0161058 (0)\ttotal: 172ms\tremaining: 1.4s\n",
            "Stopped by overfitting detector  (10 iterations wait)\n",
            "\n",
            "bestTest = 0.01610577592\n",
            "bestIteration = 0\n",
            "\n",
            "Shrink model to first 1 iterations.\n"
          ]
        },
        {
          "name": "stderr",
          "output_type": "stream",
          "text": [
            "/usr/local/lib/python3.7/dist-packages/pypfopt/efficient_frontier/efficient_frontier.py:258: UserWarning: max_sharpe transforms the optimization problem so additional objectives may not work as expected.\n",
            "  \"max_sharpe transforms the optimization problem so additional objectives may not work as expected.\"\n"
          ]
        },
        {
          "name": "stdout",
          "output_type": "stream",
          "text": [
            "2022-03-23 00:00:00\n",
            "0:\tlearn: 0.0147616\ttest: 0.0159070\tbest: 0.0159070 (0)\ttotal: 16.2ms\tremaining: 1.6s\n",
            "1:\tlearn: 0.0145275\ttest: 0.0159691\tbest: 0.0159070 (0)\ttotal: 33.4ms\tremaining: 1.63s\n",
            "2:\tlearn: 0.0142667\ttest: 0.0160437\tbest: 0.0159070 (0)\ttotal: 49ms\tremaining: 1.58s\n",
            "3:\tlearn: 0.0141209\ttest: 0.0161349\tbest: 0.0159070 (0)\ttotal: 65.1ms\tremaining: 1.56s\n",
            "4:\tlearn: 0.0138781\ttest: 0.0161972\tbest: 0.0159070 (0)\ttotal: 80.1ms\tremaining: 1.52s\n",
            "5:\tlearn: 0.0137115\ttest: 0.0162910\tbest: 0.0159070 (0)\ttotal: 95.7ms\tremaining: 1.5s\n",
            "6:\tlearn: 0.0135528\ttest: 0.0163514\tbest: 0.0159070 (0)\ttotal: 111ms\tremaining: 1.48s\n",
            "7:\tlearn: 0.0134256\ttest: 0.0164152\tbest: 0.0159070 (0)\ttotal: 127ms\tremaining: 1.46s\n",
            "8:\tlearn: 0.0132903\ttest: 0.0164682\tbest: 0.0159070 (0)\ttotal: 143ms\tremaining: 1.44s\n",
            "9:\tlearn: 0.0131581\ttest: 0.0165269\tbest: 0.0159070 (0)\ttotal: 158ms\tremaining: 1.43s\n",
            "10:\tlearn: 0.0130681\ttest: 0.0165767\tbest: 0.0159070 (0)\ttotal: 174ms\tremaining: 1.41s\n",
            "Stopped by overfitting detector  (10 iterations wait)\n",
            "\n",
            "bestTest = 0.01590697414\n",
            "bestIteration = 0\n",
            "\n",
            "Shrink model to first 1 iterations.\n"
          ]
        },
        {
          "name": "stderr",
          "output_type": "stream",
          "text": [
            "/usr/local/lib/python3.7/dist-packages/pypfopt/efficient_frontier/efficient_frontier.py:258: UserWarning: max_sharpe transforms the optimization problem so additional objectives may not work as expected.\n",
            "  \"max_sharpe transforms the optimization problem so additional objectives may not work as expected.\"\n"
          ]
        },
        {
          "name": "stdout",
          "output_type": "stream",
          "text": [
            "2022-03-24 00:00:00\n",
            "0:\tlearn: 0.0146433\ttest: 0.0159142\tbest: 0.0159142 (0)\ttotal: 16.3ms\tremaining: 1.61s\n",
            "1:\tlearn: 0.0143708\ttest: 0.0159729\tbest: 0.0159142 (0)\ttotal: 32.9ms\tremaining: 1.61s\n",
            "2:\tlearn: 0.0141247\ttest: 0.0160461\tbest: 0.0159142 (0)\ttotal: 48.2ms\tremaining: 1.56s\n",
            "3:\tlearn: 0.0138903\ttest: 0.0161183\tbest: 0.0159142 (0)\ttotal: 64.6ms\tremaining: 1.55s\n",
            "4:\tlearn: 0.0136920\ttest: 0.0162053\tbest: 0.0159142 (0)\ttotal: 83ms\tremaining: 1.58s\n",
            "5:\tlearn: 0.0135488\ttest: 0.0162744\tbest: 0.0159142 (0)\ttotal: 107ms\tremaining: 1.68s\n",
            "6:\tlearn: 0.0133736\ttest: 0.0163629\tbest: 0.0159142 (0)\ttotal: 123ms\tremaining: 1.63s\n",
            "7:\tlearn: 0.0132469\ttest: 0.0164420\tbest: 0.0159142 (0)\ttotal: 138ms\tremaining: 1.59s\n",
            "8:\tlearn: 0.0131402\ttest: 0.0164559\tbest: 0.0159142 (0)\ttotal: 154ms\tremaining: 1.56s\n",
            "9:\tlearn: 0.0130215\ttest: 0.0164730\tbest: 0.0159142 (0)\ttotal: 171ms\tremaining: 1.54s\n",
            "10:\tlearn: 0.0129203\ttest: 0.0165251\tbest: 0.0159142 (0)\ttotal: 186ms\tremaining: 1.51s\n",
            "Stopped by overfitting detector  (10 iterations wait)\n",
            "\n",
            "bestTest = 0.01591421391\n",
            "bestIteration = 0\n",
            "\n",
            "Shrink model to first 1 iterations.\n"
          ]
        },
        {
          "name": "stderr",
          "output_type": "stream",
          "text": [
            "/usr/local/lib/python3.7/dist-packages/pypfopt/efficient_frontier/efficient_frontier.py:258: UserWarning: max_sharpe transforms the optimization problem so additional objectives may not work as expected.\n",
            "  \"max_sharpe transforms the optimization problem so additional objectives may not work as expected.\"\n"
          ]
        },
        {
          "name": "stdout",
          "output_type": "stream",
          "text": [
            "2022-03-25 00:00:00\n",
            "0:\tlearn: 0.0149785\ttest: 0.0158334\tbest: 0.0158334 (0)\ttotal: 16.1ms\tremaining: 1.59s\n",
            "1:\tlearn: 0.0148018\ttest: 0.0158779\tbest: 0.0158334 (0)\ttotal: 33.1ms\tremaining: 1.62s\n",
            "2:\tlearn: 0.0146316\ttest: 0.0159083\tbest: 0.0158334 (0)\ttotal: 48.6ms\tremaining: 1.57s\n",
            "3:\tlearn: 0.0144820\ttest: 0.0159619\tbest: 0.0158334 (0)\ttotal: 64.8ms\tremaining: 1.55s\n",
            "4:\tlearn: 0.0143313\ttest: 0.0159776\tbest: 0.0158334 (0)\ttotal: 80.3ms\tremaining: 1.52s\n",
            "5:\tlearn: 0.0141909\ttest: 0.0160264\tbest: 0.0158334 (0)\ttotal: 95.3ms\tremaining: 1.49s\n",
            "6:\tlearn: 0.0140674\ttest: 0.0160259\tbest: 0.0158334 (0)\ttotal: 111ms\tremaining: 1.48s\n",
            "7:\tlearn: 0.0139548\ttest: 0.0160469\tbest: 0.0158334 (0)\ttotal: 127ms\tremaining: 1.46s\n",
            "8:\tlearn: 0.0138386\ttest: 0.0160867\tbest: 0.0158334 (0)\ttotal: 142ms\tremaining: 1.44s\n",
            "9:\tlearn: 0.0137157\ttest: 0.0161309\tbest: 0.0158334 (0)\ttotal: 157ms\tremaining: 1.42s\n",
            "10:\tlearn: 0.0136290\ttest: 0.0161497\tbest: 0.0158334 (0)\ttotal: 173ms\tremaining: 1.4s\n",
            "Stopped by overfitting detector  (10 iterations wait)\n",
            "\n",
            "bestTest = 0.01583339937\n",
            "bestIteration = 0\n",
            "\n",
            "Shrink model to first 1 iterations.\n"
          ]
        },
        {
          "name": "stderr",
          "output_type": "stream",
          "text": [
            "/usr/local/lib/python3.7/dist-packages/pypfopt/efficient_frontier/efficient_frontier.py:258: UserWarning: max_sharpe transforms the optimization problem so additional objectives may not work as expected.\n",
            "  \"max_sharpe transforms the optimization problem so additional objectives may not work as expected.\"\n",
            "/usr/local/lib/python3.7/dist-packages/cvxpy/problems/problem.py:1334: UserWarning: Solution may be inaccurate. Try another solver, adjusting the solver settings, or solve with verbose=True for more information.\n",
            "  \"Solution may be inaccurate. Try another solver, \"\n"
          ]
        },
        {
          "name": "stdout",
          "output_type": "stream",
          "text": [
            "2022-03-28 00:00:00\n",
            "0:\tlearn: 0.0156145\ttest: 0.0154942\tbest: 0.0154942 (0)\ttotal: 15.9ms\tremaining: 1.58s\n",
            "1:\tlearn: 0.0152204\ttest: 0.0155357\tbest: 0.0154942 (0)\ttotal: 32.5ms\tremaining: 1.59s\n",
            "2:\tlearn: 0.0148439\ttest: 0.0156589\tbest: 0.0154942 (0)\ttotal: 47.9ms\tremaining: 1.55s\n",
            "3:\tlearn: 0.0146021\ttest: 0.0157395\tbest: 0.0154942 (0)\ttotal: 64ms\tremaining: 1.54s\n",
            "4:\tlearn: 0.0143444\ttest: 0.0158724\tbest: 0.0154942 (0)\ttotal: 79.6ms\tremaining: 1.51s\n",
            "5:\tlearn: 0.0141563\ttest: 0.0159735\tbest: 0.0154942 (0)\ttotal: 95.3ms\tremaining: 1.49s\n",
            "6:\tlearn: 0.0139439\ttest: 0.0161567\tbest: 0.0154942 (0)\ttotal: 111ms\tremaining: 1.48s\n",
            "7:\tlearn: 0.0137969\ttest: 0.0162714\tbest: 0.0154942 (0)\ttotal: 128ms\tremaining: 1.47s\n",
            "8:\tlearn: 0.0136436\ttest: 0.0164768\tbest: 0.0154942 (0)\ttotal: 144ms\tremaining: 1.45s\n",
            "9:\tlearn: 0.0135187\ttest: 0.0165754\tbest: 0.0154942 (0)\ttotal: 159ms\tremaining: 1.43s\n",
            "10:\tlearn: 0.0133924\ttest: 0.0166548\tbest: 0.0154942 (0)\ttotal: 175ms\tremaining: 1.42s\n",
            "Stopped by overfitting detector  (10 iterations wait)\n",
            "\n",
            "bestTest = 0.0154942454\n",
            "bestIteration = 0\n",
            "\n",
            "Shrink model to first 1 iterations.\n"
          ]
        },
        {
          "name": "stderr",
          "output_type": "stream",
          "text": [
            "/usr/local/lib/python3.7/dist-packages/pypfopt/efficient_frontier/efficient_frontier.py:258: UserWarning: max_sharpe transforms the optimization problem so additional objectives may not work as expected.\n",
            "  \"max_sharpe transforms the optimization problem so additional objectives may not work as expected.\"\n",
            "/usr/local/lib/python3.7/dist-packages/cvxpy/problems/problem.py:1334: UserWarning: Solution may be inaccurate. Try another solver, adjusting the solver settings, or solve with verbose=True for more information.\n",
            "  \"Solution may be inaccurate. Try another solver, \"\n"
          ]
        },
        {
          "name": "stdout",
          "output_type": "stream",
          "text": [
            "2022-03-29 00:00:00\n",
            "0:\tlearn: 0.0153012\ttest: 0.0155502\tbest: 0.0155502 (0)\ttotal: 15.7ms\tremaining: 1.56s\n",
            "1:\tlearn: 0.0150912\ttest: 0.0155906\tbest: 0.0155502 (0)\ttotal: 31.7ms\tremaining: 1.55s\n",
            "2:\tlearn: 0.0149053\ttest: 0.0156495\tbest: 0.0155502 (0)\ttotal: 47ms\tremaining: 1.52s\n",
            "3:\tlearn: 0.0147523\ttest: 0.0157220\tbest: 0.0155502 (0)\ttotal: 63ms\tremaining: 1.51s\n",
            "4:\tlearn: 0.0145709\ttest: 0.0158210\tbest: 0.0155502 (0)\ttotal: 81.7ms\tremaining: 1.55s\n",
            "5:\tlearn: 0.0144074\ttest: 0.0158451\tbest: 0.0155502 (0)\ttotal: 98.1ms\tremaining: 1.54s\n",
            "6:\tlearn: 0.0142748\ttest: 0.0159267\tbest: 0.0155502 (0)\ttotal: 113ms\tremaining: 1.51s\n",
            "7:\tlearn: 0.0141262\ttest: 0.0159975\tbest: 0.0155502 (0)\ttotal: 130ms\tremaining: 1.49s\n",
            "8:\tlearn: 0.0139971\ttest: 0.0160307\tbest: 0.0155502 (0)\ttotal: 145ms\tremaining: 1.47s\n",
            "9:\tlearn: 0.0138566\ttest: 0.0160935\tbest: 0.0155502 (0)\ttotal: 171ms\tremaining: 1.54s\n",
            "10:\tlearn: 0.0137391\ttest: 0.0161352\tbest: 0.0155502 (0)\ttotal: 186ms\tremaining: 1.51s\n",
            "Stopped by overfitting detector  (10 iterations wait)\n",
            "\n",
            "bestTest = 0.01555024962\n",
            "bestIteration = 0\n",
            "\n",
            "Shrink model to first 1 iterations.\n"
          ]
        },
        {
          "name": "stderr",
          "output_type": "stream",
          "text": [
            "/usr/local/lib/python3.7/dist-packages/pypfopt/efficient_frontier/efficient_frontier.py:258: UserWarning: max_sharpe transforms the optimization problem so additional objectives may not work as expected.\n",
            "  \"max_sharpe transforms the optimization problem so additional objectives may not work as expected.\"\n"
          ]
        },
        {
          "name": "stdout",
          "output_type": "stream",
          "text": [
            "2022-03-30 00:00:00\n",
            "0:\tlearn: 0.0175515\ttest: 0.0152701\tbest: 0.0152701 (0)\ttotal: 15.5ms\tremaining: 1.54s\n",
            "1:\tlearn: 0.0172723\ttest: 0.0153094\tbest: 0.0152701 (0)\ttotal: 31.9ms\tremaining: 1.56s\n",
            "2:\tlearn: 0.0169285\ttest: 0.0154638\tbest: 0.0152701 (0)\ttotal: 48.1ms\tremaining: 1.55s\n",
            "3:\tlearn: 0.0167288\ttest: 0.0155187\tbest: 0.0152701 (0)\ttotal: 64.3ms\tremaining: 1.54s\n",
            "4:\tlearn: 0.0165139\ttest: 0.0156670\tbest: 0.0152701 (0)\ttotal: 79.4ms\tremaining: 1.51s\n",
            "5:\tlearn: 0.0162638\ttest: 0.0156937\tbest: 0.0152701 (0)\ttotal: 99.4ms\tremaining: 1.56s\n",
            "6:\tlearn: 0.0160880\ttest: 0.0158071\tbest: 0.0152701 (0)\ttotal: 115ms\tremaining: 1.53s\n",
            "7:\tlearn: 0.0158986\ttest: 0.0158376\tbest: 0.0152701 (0)\ttotal: 131ms\tremaining: 1.51s\n",
            "8:\tlearn: 0.0157065\ttest: 0.0159238\tbest: 0.0152701 (0)\ttotal: 147ms\tremaining: 1.49s\n",
            "9:\tlearn: 0.0155314\ttest: 0.0160918\tbest: 0.0152701 (0)\ttotal: 163ms\tremaining: 1.46s\n",
            "10:\tlearn: 0.0153618\ttest: 0.0161361\tbest: 0.0152701 (0)\ttotal: 178ms\tremaining: 1.44s\n",
            "Stopped by overfitting detector  (10 iterations wait)\n",
            "\n",
            "bestTest = 0.01527014471\n",
            "bestIteration = 0\n",
            "\n",
            "Shrink model to first 1 iterations.\n"
          ]
        },
        {
          "name": "stderr",
          "output_type": "stream",
          "text": [
            "/usr/local/lib/python3.7/dist-packages/pypfopt/efficient_frontier/efficient_frontier.py:258: UserWarning: max_sharpe transforms the optimization problem so additional objectives may not work as expected.\n",
            "  \"max_sharpe transforms the optimization problem so additional objectives may not work as expected.\"\n",
            "/usr/local/lib/python3.7/dist-packages/cvxpy/problems/problem.py:1334: UserWarning: Solution may be inaccurate. Try another solver, adjusting the solver settings, or solve with verbose=True for more information.\n",
            "  \"Solution may be inaccurate. Try another solver, \"\n"
          ]
        },
        {
          "name": "stdout",
          "output_type": "stream",
          "text": [
            "2022-03-31 00:00:00\n",
            "0:\tlearn: 0.0151168\ttest: 0.0159248\tbest: 0.0159248 (0)\ttotal: 16.1ms\tremaining: 1.59s\n",
            "1:\tlearn: 0.0147856\ttest: 0.0159793\tbest: 0.0159248 (0)\ttotal: 31.3ms\tremaining: 1.53s\n",
            "2:\tlearn: 0.0144786\ttest: 0.0160489\tbest: 0.0159248 (0)\ttotal: 46.1ms\tremaining: 1.49s\n",
            "3:\tlearn: 0.0142268\ttest: 0.0161409\tbest: 0.0159248 (0)\ttotal: 61.9ms\tremaining: 1.49s\n",
            "4:\tlearn: 0.0139843\ttest: 0.0162543\tbest: 0.0159248 (0)\ttotal: 77.5ms\tremaining: 1.47s\n",
            "5:\tlearn: 0.0137621\ttest: 0.0163477\tbest: 0.0159248 (0)\ttotal: 92.4ms\tremaining: 1.45s\n",
            "6:\tlearn: 0.0135790\ttest: 0.0163931\tbest: 0.0159248 (0)\ttotal: 107ms\tremaining: 1.43s\n",
            "7:\tlearn: 0.0134238\ttest: 0.0164599\tbest: 0.0159248 (0)\ttotal: 124ms\tremaining: 1.42s\n",
            "8:\tlearn: 0.0132854\ttest: 0.0164999\tbest: 0.0159248 (0)\ttotal: 139ms\tremaining: 1.41s\n",
            "9:\tlearn: 0.0131658\ttest: 0.0164993\tbest: 0.0159248 (0)\ttotal: 154ms\tremaining: 1.39s\n",
            "10:\tlearn: 0.0130559\ttest: 0.0165251\tbest: 0.0159248 (0)\ttotal: 174ms\tremaining: 1.4s\n",
            "Stopped by overfitting detector  (10 iterations wait)\n",
            "\n",
            "bestTest = 0.01592480924\n",
            "bestIteration = 0\n",
            "\n",
            "Shrink model to first 1 iterations.\n"
          ]
        },
        {
          "name": "stderr",
          "output_type": "stream",
          "text": [
            "/usr/local/lib/python3.7/dist-packages/pypfopt/efficient_frontier/efficient_frontier.py:258: UserWarning: max_sharpe transforms the optimization problem so additional objectives may not work as expected.\n",
            "  \"max_sharpe transforms the optimization problem so additional objectives may not work as expected.\"\n"
          ]
        },
        {
          "name": "stdout",
          "output_type": "stream",
          "text": [
            "2022-04-01 00:00:00\n",
            "0:\tlearn: 0.0144717\ttest: 0.0161011\tbest: 0.0161011 (0)\ttotal: 16ms\tremaining: 1.58s\n",
            "1:\tlearn: 0.0142348\ttest: 0.0161326\tbest: 0.0161011 (0)\ttotal: 32.1ms\tremaining: 1.57s\n",
            "2:\tlearn: 0.0140245\ttest: 0.0161773\tbest: 0.0161011 (0)\ttotal: 47.1ms\tremaining: 1.52s\n",
            "3:\tlearn: 0.0138798\ttest: 0.0162039\tbest: 0.0161011 (0)\ttotal: 62.8ms\tremaining: 1.51s\n",
            "4:\tlearn: 0.0136872\ttest: 0.0162252\tbest: 0.0161011 (0)\ttotal: 77.5ms\tremaining: 1.47s\n",
            "5:\tlearn: 0.0135352\ttest: 0.0162740\tbest: 0.0161011 (0)\ttotal: 93ms\tremaining: 1.46s\n",
            "6:\tlearn: 0.0133960\ttest: 0.0162937\tbest: 0.0161011 (0)\ttotal: 109ms\tremaining: 1.44s\n",
            "7:\tlearn: 0.0132555\ttest: 0.0163335\tbest: 0.0161011 (0)\ttotal: 125ms\tremaining: 1.43s\n",
            "8:\tlearn: 0.0131446\ttest: 0.0163793\tbest: 0.0161011 (0)\ttotal: 141ms\tremaining: 1.42s\n",
            "9:\tlearn: 0.0130216\ttest: 0.0164256\tbest: 0.0161011 (0)\ttotal: 156ms\tremaining: 1.4s\n",
            "10:\tlearn: 0.0128867\ttest: 0.0164091\tbest: 0.0161011 (0)\ttotal: 172ms\tremaining: 1.39s\n",
            "Stopped by overfitting detector  (10 iterations wait)\n",
            "\n",
            "bestTest = 0.01610110727\n",
            "bestIteration = 0\n",
            "\n",
            "Shrink model to first 1 iterations.\n"
          ]
        },
        {
          "name": "stderr",
          "output_type": "stream",
          "text": [
            "/usr/local/lib/python3.7/dist-packages/pypfopt/efficient_frontier/efficient_frontier.py:258: UserWarning: max_sharpe transforms the optimization problem so additional objectives may not work as expected.\n",
            "  \"max_sharpe transforms the optimization problem so additional objectives may not work as expected.\"\n"
          ]
        },
        {
          "name": "stdout",
          "output_type": "stream",
          "text": [
            "2022-04-04 00:00:00\n",
            "0:\tlearn: 0.0152888\ttest: 0.0157276\tbest: 0.0157276 (0)\ttotal: 16ms\tremaining: 1.59s\n",
            "1:\tlearn: 0.0150478\ttest: 0.0157526\tbest: 0.0157276 (0)\ttotal: 31.9ms\tremaining: 1.56s\n",
            "2:\tlearn: 0.0148151\ttest: 0.0159074\tbest: 0.0157276 (0)\ttotal: 47.1ms\tremaining: 1.52s\n",
            "3:\tlearn: 0.0146051\ttest: 0.0159421\tbest: 0.0157276 (0)\ttotal: 63.3ms\tremaining: 1.52s\n",
            "4:\tlearn: 0.0144069\ttest: 0.0160568\tbest: 0.0157276 (0)\ttotal: 90.6ms\tremaining: 1.72s\n",
            "5:\tlearn: 0.0142407\ttest: 0.0161130\tbest: 0.0157276 (0)\ttotal: 106ms\tremaining: 1.66s\n",
            "6:\tlearn: 0.0140978\ttest: 0.0161617\tbest: 0.0157276 (0)\ttotal: 122ms\tremaining: 1.62s\n",
            "7:\tlearn: 0.0139593\ttest: 0.0162260\tbest: 0.0157276 (0)\ttotal: 137ms\tremaining: 1.58s\n",
            "8:\tlearn: 0.0137941\ttest: 0.0163293\tbest: 0.0157276 (0)\ttotal: 153ms\tremaining: 1.55s\n",
            "9:\tlearn: 0.0136876\ttest: 0.0163795\tbest: 0.0157276 (0)\ttotal: 169ms\tremaining: 1.52s\n",
            "10:\tlearn: 0.0135668\ttest: 0.0164094\tbest: 0.0157276 (0)\ttotal: 184ms\tremaining: 1.49s\n",
            "Stopped by overfitting detector  (10 iterations wait)\n",
            "\n",
            "bestTest = 0.01572763103\n",
            "bestIteration = 0\n",
            "\n",
            "Shrink model to first 1 iterations.\n"
          ]
        },
        {
          "name": "stderr",
          "output_type": "stream",
          "text": [
            "/usr/local/lib/python3.7/dist-packages/pypfopt/efficient_frontier/efficient_frontier.py:258: UserWarning: max_sharpe transforms the optimization problem so additional objectives may not work as expected.\n",
            "  \"max_sharpe transforms the optimization problem so additional objectives may not work as expected.\"\n",
            "/usr/local/lib/python3.7/dist-packages/cvxpy/problems/problem.py:1334: UserWarning: Solution may be inaccurate. Try another solver, adjusting the solver settings, or solve with verbose=True for more information.\n",
            "  \"Solution may be inaccurate. Try another solver, \"\n"
          ]
        },
        {
          "name": "stdout",
          "output_type": "stream",
          "text": [
            "2022-04-05 00:00:00\n",
            "0:\tlearn: 0.0149670\ttest: 0.0158456\tbest: 0.0158456 (0)\ttotal: 16ms\tremaining: 1.58s\n",
            "1:\tlearn: 0.0147084\ttest: 0.0158338\tbest: 0.0158338 (1)\ttotal: 31.8ms\tremaining: 1.56s\n",
            "2:\tlearn: 0.0144324\ttest: 0.0158780\tbest: 0.0158338 (1)\ttotal: 47.2ms\tremaining: 1.53s\n",
            "3:\tlearn: 0.0142747\ttest: 0.0159048\tbest: 0.0158338 (1)\ttotal: 63.2ms\tremaining: 1.52s\n",
            "4:\tlearn: 0.0140682\ttest: 0.0159110\tbest: 0.0158338 (1)\ttotal: 78.4ms\tremaining: 1.49s\n",
            "5:\tlearn: 0.0138936\ttest: 0.0159402\tbest: 0.0158338 (1)\ttotal: 94ms\tremaining: 1.47s\n",
            "6:\tlearn: 0.0137203\ttest: 0.0159695\tbest: 0.0158338 (1)\ttotal: 110ms\tremaining: 1.46s\n",
            "7:\tlearn: 0.0136008\ttest: 0.0160067\tbest: 0.0158338 (1)\ttotal: 126ms\tremaining: 1.45s\n",
            "8:\tlearn: 0.0135019\ttest: 0.0160432\tbest: 0.0158338 (1)\ttotal: 142ms\tremaining: 1.44s\n",
            "9:\tlearn: 0.0133389\ttest: 0.0160967\tbest: 0.0158338 (1)\ttotal: 158ms\tremaining: 1.42s\n",
            "10:\tlearn: 0.0131568\ttest: 0.0161778\tbest: 0.0158338 (1)\ttotal: 173ms\tremaining: 1.4s\n",
            "11:\tlearn: 0.0130384\ttest: 0.0161706\tbest: 0.0158338 (1)\ttotal: 188ms\tremaining: 1.38s\n",
            "Stopped by overfitting detector  (10 iterations wait)\n",
            "\n",
            "bestTest = 0.01583381206\n",
            "bestIteration = 1\n",
            "\n",
            "Shrink model to first 2 iterations.\n"
          ]
        },
        {
          "name": "stderr",
          "output_type": "stream",
          "text": [
            "/usr/local/lib/python3.7/dist-packages/pypfopt/efficient_frontier/efficient_frontier.py:258: UserWarning: max_sharpe transforms the optimization problem so additional objectives may not work as expected.\n",
            "  \"max_sharpe transforms the optimization problem so additional objectives may not work as expected.\"\n",
            "/usr/local/lib/python3.7/dist-packages/cvxpy/problems/problem.py:1334: UserWarning: Solution may be inaccurate. Try another solver, adjusting the solver settings, or solve with verbose=True for more information.\n",
            "  \"Solution may be inaccurate. Try another solver, \"\n"
          ]
        },
        {
          "name": "stdout",
          "output_type": "stream",
          "text": [
            "2022-04-06 00:00:00\n",
            "0:\tlearn: 0.0151782\ttest: 0.0158702\tbest: 0.0158702 (0)\ttotal: 16.4ms\tremaining: 1.62s\n",
            "1:\tlearn: 0.0149381\ttest: 0.0159212\tbest: 0.0158702 (0)\ttotal: 32.2ms\tremaining: 1.58s\n",
            "2:\tlearn: 0.0146738\ttest: 0.0159842\tbest: 0.0158702 (0)\ttotal: 47.6ms\tremaining: 1.54s\n",
            "3:\tlearn: 0.0144519\ttest: 0.0161496\tbest: 0.0158702 (0)\ttotal: 63.5ms\tremaining: 1.52s\n",
            "4:\tlearn: 0.0142868\ttest: 0.0162812\tbest: 0.0158702 (0)\ttotal: 78.8ms\tremaining: 1.5s\n",
            "5:\tlearn: 0.0140687\ttest: 0.0163106\tbest: 0.0158702 (0)\ttotal: 94.8ms\tremaining: 1.49s\n",
            "6:\tlearn: 0.0139196\ttest: 0.0163516\tbest: 0.0158702 (0)\ttotal: 111ms\tremaining: 1.47s\n",
            "7:\tlearn: 0.0137861\ttest: 0.0163629\tbest: 0.0158702 (0)\ttotal: 127ms\tremaining: 1.46s\n",
            "8:\tlearn: 0.0136457\ttest: 0.0164082\tbest: 0.0158702 (0)\ttotal: 143ms\tremaining: 1.45s\n",
            "9:\tlearn: 0.0135261\ttest: 0.0164287\tbest: 0.0158702 (0)\ttotal: 159ms\tremaining: 1.43s\n",
            "10:\tlearn: 0.0133704\ttest: 0.0164987\tbest: 0.0158702 (0)\ttotal: 175ms\tremaining: 1.41s\n",
            "Stopped by overfitting detector  (10 iterations wait)\n",
            "\n",
            "bestTest = 0.01587021648\n",
            "bestIteration = 0\n",
            "\n",
            "Shrink model to first 1 iterations.\n"
          ]
        },
        {
          "name": "stderr",
          "output_type": "stream",
          "text": [
            "/usr/local/lib/python3.7/dist-packages/pypfopt/efficient_frontier/efficient_frontier.py:258: UserWarning: max_sharpe transforms the optimization problem so additional objectives may not work as expected.\n",
            "  \"max_sharpe transforms the optimization problem so additional objectives may not work as expected.\"\n",
            "/usr/local/lib/python3.7/dist-packages/cvxpy/problems/problem.py:1334: UserWarning: Solution may be inaccurate. Try another solver, adjusting the solver settings, or solve with verbose=True for more information.\n",
            "  \"Solution may be inaccurate. Try another solver, \"\n"
          ]
        },
        {
          "name": "stdout",
          "output_type": "stream",
          "text": [
            "2022-04-07 00:00:00\n",
            "0:\tlearn: 0.0160191\ttest: 0.0156420\tbest: 0.0156420 (0)\ttotal: 29ms\tremaining: 2.87s\n",
            "1:\tlearn: 0.0157334\ttest: 0.0156756\tbest: 0.0156420 (0)\ttotal: 45.4ms\tremaining: 2.22s\n",
            "2:\tlearn: 0.0154473\ttest: 0.0156632\tbest: 0.0156420 (0)\ttotal: 60.7ms\tremaining: 1.96s\n",
            "3:\tlearn: 0.0152421\ttest: 0.0157033\tbest: 0.0156420 (0)\ttotal: 77.1ms\tremaining: 1.85s\n",
            "4:\tlearn: 0.0149713\ttest: 0.0156891\tbest: 0.0156420 (0)\ttotal: 92.8ms\tremaining: 1.76s\n",
            "5:\tlearn: 0.0148010\ttest: 0.0157429\tbest: 0.0156420 (0)\ttotal: 109ms\tremaining: 1.7s\n",
            "6:\tlearn: 0.0145151\ttest: 0.0157619\tbest: 0.0156420 (0)\ttotal: 124ms\tremaining: 1.65s\n",
            "7:\tlearn: 0.0143655\ttest: 0.0157924\tbest: 0.0156420 (0)\ttotal: 140ms\tremaining: 1.61s\n",
            "8:\tlearn: 0.0141565\ttest: 0.0158201\tbest: 0.0156420 (0)\ttotal: 159ms\tremaining: 1.61s\n",
            "9:\tlearn: 0.0139793\ttest: 0.0158241\tbest: 0.0156420 (0)\ttotal: 175ms\tremaining: 1.57s\n",
            "10:\tlearn: 0.0138294\ttest: 0.0158443\tbest: 0.0156420 (0)\ttotal: 190ms\tremaining: 1.54s\n",
            "Stopped by overfitting detector  (10 iterations wait)\n",
            "\n",
            "bestTest = 0.01564195638\n",
            "bestIteration = 0\n",
            "\n",
            "Shrink model to first 1 iterations.\n"
          ]
        },
        {
          "name": "stderr",
          "output_type": "stream",
          "text": [
            "/usr/local/lib/python3.7/dist-packages/pypfopt/efficient_frontier/efficient_frontier.py:258: UserWarning: max_sharpe transforms the optimization problem so additional objectives may not work as expected.\n",
            "  \"max_sharpe transforms the optimization problem so additional objectives may not work as expected.\"\n",
            "/usr/local/lib/python3.7/dist-packages/cvxpy/problems/problem.py:1334: UserWarning: Solution may be inaccurate. Try another solver, adjusting the solver settings, or solve with verbose=True for more information.\n",
            "  \"Solution may be inaccurate. Try another solver, \"\n"
          ]
        },
        {
          "name": "stdout",
          "output_type": "stream",
          "text": [
            "2022-04-08 00:00:00\n",
            "0:\tlearn: 0.0167431\ttest: 0.0153382\tbest: 0.0153382 (0)\ttotal: 16.6ms\tremaining: 1.64s\n",
            "1:\tlearn: 0.0163733\ttest: 0.0154222\tbest: 0.0153382 (0)\ttotal: 33.1ms\tremaining: 1.62s\n",
            "2:\tlearn: 0.0160653\ttest: 0.0155330\tbest: 0.0153382 (0)\ttotal: 48.4ms\tremaining: 1.56s\n",
            "3:\tlearn: 0.0157718\ttest: 0.0156350\tbest: 0.0153382 (0)\ttotal: 65ms\tremaining: 1.56s\n",
            "4:\tlearn: 0.0155497\ttest: 0.0157633\tbest: 0.0153382 (0)\ttotal: 80.1ms\tremaining: 1.52s\n",
            "5:\tlearn: 0.0153889\ttest: 0.0158299\tbest: 0.0153382 (0)\ttotal: 95.6ms\tremaining: 1.5s\n",
            "6:\tlearn: 0.0151860\ttest: 0.0158505\tbest: 0.0153382 (0)\ttotal: 124ms\tremaining: 1.65s\n",
            "7:\tlearn: 0.0150365\ttest: 0.0159933\tbest: 0.0153382 (0)\ttotal: 139ms\tremaining: 1.6s\n",
            "8:\tlearn: 0.0148950\ttest: 0.0161043\tbest: 0.0153382 (0)\ttotal: 154ms\tremaining: 1.55s\n",
            "9:\tlearn: 0.0147202\ttest: 0.0161831\tbest: 0.0153382 (0)\ttotal: 169ms\tremaining: 1.52s\n",
            "10:\tlearn: 0.0145841\ttest: 0.0162446\tbest: 0.0153382 (0)\ttotal: 183ms\tremaining: 1.48s\n",
            "Stopped by overfitting detector  (10 iterations wait)\n",
            "\n",
            "bestTest = 0.01533817205\n",
            "bestIteration = 0\n",
            "\n",
            "Shrink model to first 1 iterations.\n"
          ]
        },
        {
          "name": "stderr",
          "output_type": "stream",
          "text": [
            "/usr/local/lib/python3.7/dist-packages/pypfopt/efficient_frontier/efficient_frontier.py:258: UserWarning: max_sharpe transforms the optimization problem so additional objectives may not work as expected.\n",
            "  \"max_sharpe transforms the optimization problem so additional objectives may not work as expected.\"\n"
          ]
        },
        {
          "name": "stdout",
          "output_type": "stream",
          "text": [
            "2022-04-11 00:00:00\n",
            "0:\tlearn: 0.0149182\ttest: 0.0159962\tbest: 0.0159962 (0)\ttotal: 16.1ms\tremaining: 1.59s\n",
            "1:\tlearn: 0.0145998\ttest: 0.0160400\tbest: 0.0159962 (0)\ttotal: 33.3ms\tremaining: 1.63s\n",
            "2:\tlearn: 0.0143110\ttest: 0.0161428\tbest: 0.0159962 (0)\ttotal: 48.8ms\tremaining: 1.58s\n",
            "3:\tlearn: 0.0140937\ttest: 0.0162216\tbest: 0.0159962 (0)\ttotal: 65.3ms\tremaining: 1.57s\n",
            "4:\tlearn: 0.0138669\ttest: 0.0163330\tbest: 0.0159962 (0)\ttotal: 80.6ms\tremaining: 1.53s\n",
            "5:\tlearn: 0.0136514\ttest: 0.0164490\tbest: 0.0159962 (0)\ttotal: 96.3ms\tremaining: 1.51s\n",
            "6:\tlearn: 0.0134751\ttest: 0.0164971\tbest: 0.0159962 (0)\ttotal: 111ms\tremaining: 1.48s\n",
            "7:\tlearn: 0.0133310\ttest: 0.0165634\tbest: 0.0159962 (0)\ttotal: 127ms\tremaining: 1.46s\n",
            "8:\tlearn: 0.0131960\ttest: 0.0166418\tbest: 0.0159962 (0)\ttotal: 142ms\tremaining: 1.44s\n",
            "9:\tlearn: 0.0130563\ttest: 0.0167305\tbest: 0.0159962 (0)\ttotal: 158ms\tremaining: 1.42s\n",
            "10:\tlearn: 0.0129509\ttest: 0.0168034\tbest: 0.0159962 (0)\ttotal: 174ms\tremaining: 1.41s\n",
            "Stopped by overfitting detector  (10 iterations wait)\n",
            "\n",
            "bestTest = 0.01599615123\n",
            "bestIteration = 0\n",
            "\n",
            "Shrink model to first 1 iterations.\n"
          ]
        },
        {
          "name": "stderr",
          "output_type": "stream",
          "text": [
            "/usr/local/lib/python3.7/dist-packages/pypfopt/efficient_frontier/efficient_frontier.py:258: UserWarning: max_sharpe transforms the optimization problem so additional objectives may not work as expected.\n",
            "  \"max_sharpe transforms the optimization problem so additional objectives may not work as expected.\"\n",
            "/usr/local/lib/python3.7/dist-packages/cvxpy/problems/problem.py:1334: UserWarning: Solution may be inaccurate. Try another solver, adjusting the solver settings, or solve with verbose=True for more information.\n",
            "  \"Solution may be inaccurate. Try another solver, \"\n"
          ]
        },
        {
          "name": "stdout",
          "output_type": "stream",
          "text": [
            "2022-04-12 00:00:00\n",
            "0:\tlearn: 0.0154449\ttest: 0.0161927\tbest: 0.0161927 (0)\ttotal: 16.1ms\tremaining: 1.59s\n",
            "1:\tlearn: 0.0150731\ttest: 0.0163000\tbest: 0.0161927 (0)\ttotal: 33.3ms\tremaining: 1.63s\n",
            "2:\tlearn: 0.0147538\ttest: 0.0163230\tbest: 0.0161927 (0)\ttotal: 48.5ms\tremaining: 1.57s\n",
            "3:\tlearn: 0.0144551\ttest: 0.0164246\tbest: 0.0161927 (0)\ttotal: 65ms\tremaining: 1.56s\n",
            "4:\tlearn: 0.0142247\ttest: 0.0165476\tbest: 0.0161927 (0)\ttotal: 80.6ms\tremaining: 1.53s\n",
            "5:\tlearn: 0.0140021\ttest: 0.0167153\tbest: 0.0161927 (0)\ttotal: 96.4ms\tremaining: 1.51s\n",
            "6:\tlearn: 0.0138422\ttest: 0.0168145\tbest: 0.0161927 (0)\ttotal: 112ms\tremaining: 1.49s\n",
            "7:\tlearn: 0.0137000\ttest: 0.0169514\tbest: 0.0161927 (0)\ttotal: 128ms\tremaining: 1.47s\n",
            "8:\tlearn: 0.0135317\ttest: 0.0170364\tbest: 0.0161927 (0)\ttotal: 143ms\tremaining: 1.45s\n",
            "9:\tlearn: 0.0134142\ttest: 0.0171089\tbest: 0.0161927 (0)\ttotal: 159ms\tremaining: 1.43s\n",
            "10:\tlearn: 0.0132884\ttest: 0.0172172\tbest: 0.0161927 (0)\ttotal: 175ms\tremaining: 1.41s\n",
            "Stopped by overfitting detector  (10 iterations wait)\n",
            "\n",
            "bestTest = 0.01619274069\n",
            "bestIteration = 0\n",
            "\n",
            "Shrink model to first 1 iterations.\n"
          ]
        },
        {
          "name": "stderr",
          "output_type": "stream",
          "text": [
            "/usr/local/lib/python3.7/dist-packages/pypfopt/efficient_frontier/efficient_frontier.py:258: UserWarning: max_sharpe transforms the optimization problem so additional objectives may not work as expected.\n",
            "  \"max_sharpe transforms the optimization problem so additional objectives may not work as expected.\"\n"
          ]
        },
        {
          "name": "stdout",
          "output_type": "stream",
          "text": [
            "2022-04-13 00:00:00\n",
            "0:\tlearn: 0.0149050\ttest: 0.0163871\tbest: 0.0163871 (0)\ttotal: 17ms\tremaining: 1.68s\n",
            "1:\tlearn: 0.0147289\ttest: 0.0163809\tbest: 0.0163809 (1)\ttotal: 34ms\tremaining: 1.67s\n",
            "2:\tlearn: 0.0145087\ttest: 0.0163939\tbest: 0.0163809 (1)\ttotal: 49.3ms\tremaining: 1.59s\n",
            "3:\tlearn: 0.0143747\ttest: 0.0164163\tbest: 0.0163809 (1)\ttotal: 65.3ms\tremaining: 1.57s\n",
            "4:\tlearn: 0.0141917\ttest: 0.0164500\tbest: 0.0163809 (1)\ttotal: 81.2ms\tremaining: 1.54s\n",
            "5:\tlearn: 0.0140442\ttest: 0.0164645\tbest: 0.0163809 (1)\ttotal: 96.7ms\tremaining: 1.51s\n",
            "6:\tlearn: 0.0139065\ttest: 0.0164553\tbest: 0.0163809 (1)\ttotal: 112ms\tremaining: 1.49s\n",
            "7:\tlearn: 0.0137836\ttest: 0.0164613\tbest: 0.0163809 (1)\ttotal: 128ms\tremaining: 1.47s\n",
            "8:\tlearn: 0.0136714\ttest: 0.0164616\tbest: 0.0163809 (1)\ttotal: 144ms\tremaining: 1.46s\n",
            "9:\tlearn: 0.0135528\ttest: 0.0164477\tbest: 0.0163809 (1)\ttotal: 160ms\tremaining: 1.44s\n",
            "10:\tlearn: 0.0134572\ttest: 0.0164547\tbest: 0.0163809 (1)\ttotal: 176ms\tremaining: 1.42s\n",
            "11:\tlearn: 0.0133412\ttest: 0.0164706\tbest: 0.0163809 (1)\ttotal: 190ms\tremaining: 1.4s\n",
            "Stopped by overfitting detector  (10 iterations wait)\n",
            "\n",
            "bestTest = 0.01638087106\n",
            "bestIteration = 1\n",
            "\n",
            "Shrink model to first 2 iterations.\n"
          ]
        },
        {
          "name": "stderr",
          "output_type": "stream",
          "text": [
            "/usr/local/lib/python3.7/dist-packages/pypfopt/efficient_frontier/efficient_frontier.py:258: UserWarning: max_sharpe transforms the optimization problem so additional objectives may not work as expected.\n",
            "  \"max_sharpe transforms the optimization problem so additional objectives may not work as expected.\"\n"
          ]
        },
        {
          "name": "stdout",
          "output_type": "stream",
          "text": [
            "2022-04-14 00:00:00\n",
            "0:\tlearn: 0.0153839\ttest: 0.0159112\tbest: 0.0159112 (0)\ttotal: 15.7ms\tremaining: 1.56s\n",
            "1:\tlearn: 0.0150719\ttest: 0.0159699\tbest: 0.0159112 (0)\ttotal: 32.7ms\tremaining: 1.6s\n",
            "2:\tlearn: 0.0147610\ttest: 0.0159987\tbest: 0.0159112 (0)\ttotal: 47.9ms\tremaining: 1.55s\n",
            "3:\tlearn: 0.0145131\ttest: 0.0160595\tbest: 0.0159112 (0)\ttotal: 64.2ms\tremaining: 1.54s\n",
            "4:\tlearn: 0.0142812\ttest: 0.0161580\tbest: 0.0159112 (0)\ttotal: 79.8ms\tremaining: 1.52s\n",
            "5:\tlearn: 0.0140222\ttest: 0.0162030\tbest: 0.0159112 (0)\ttotal: 95.7ms\tremaining: 1.5s\n",
            "6:\tlearn: 0.0138254\ttest: 0.0162804\tbest: 0.0159112 (0)\ttotal: 111ms\tremaining: 1.48s\n",
            "7:\tlearn: 0.0136639\ttest: 0.0163583\tbest: 0.0159112 (0)\ttotal: 127ms\tremaining: 1.46s\n",
            "8:\tlearn: 0.0134728\ttest: 0.0163885\tbest: 0.0159112 (0)\ttotal: 143ms\tremaining: 1.44s\n",
            "9:\tlearn: 0.0133308\ttest: 0.0164560\tbest: 0.0159112 (0)\ttotal: 158ms\tremaining: 1.42s\n",
            "10:\tlearn: 0.0132074\ttest: 0.0164988\tbest: 0.0159112 (0)\ttotal: 174ms\tremaining: 1.41s\n",
            "Stopped by overfitting detector  (10 iterations wait)\n",
            "\n",
            "bestTest = 0.01591123671\n",
            "bestIteration = 0\n",
            "\n",
            "Shrink model to first 1 iterations.\n"
          ]
        },
        {
          "name": "stderr",
          "output_type": "stream",
          "text": [
            "/usr/local/lib/python3.7/dist-packages/pypfopt/efficient_frontier/efficient_frontier.py:258: UserWarning: max_sharpe transforms the optimization problem so additional objectives may not work as expected.\n",
            "  \"max_sharpe transforms the optimization problem so additional objectives may not work as expected.\"\n"
          ]
        },
        {
          "name": "stdout",
          "output_type": "stream",
          "text": [
            "2022-04-18 00:00:00\n",
            "0:\tlearn: 0.0151324\ttest: 0.0162263\tbest: 0.0162263 (0)\ttotal: 16.7ms\tremaining: 1.65s\n",
            "1:\tlearn: 0.0149022\ttest: 0.0162635\tbest: 0.0162263 (0)\ttotal: 33.5ms\tremaining: 1.64s\n",
            "2:\tlearn: 0.0146891\ttest: 0.0163131\tbest: 0.0162263 (0)\ttotal: 49.2ms\tremaining: 1.59s\n",
            "3:\tlearn: 0.0145269\ttest: 0.0163171\tbest: 0.0162263 (0)\ttotal: 65.5ms\tremaining: 1.57s\n",
            "4:\tlearn: 0.0143280\ttest: 0.0163723\tbest: 0.0162263 (0)\ttotal: 81.4ms\tremaining: 1.55s\n",
            "5:\tlearn: 0.0141586\ttest: 0.0164324\tbest: 0.0162263 (0)\ttotal: 96.7ms\tremaining: 1.51s\n",
            "6:\tlearn: 0.0140329\ttest: 0.0164423\tbest: 0.0162263 (0)\ttotal: 112ms\tremaining: 1.49s\n",
            "7:\tlearn: 0.0139020\ttest: 0.0165136\tbest: 0.0162263 (0)\ttotal: 128ms\tremaining: 1.48s\n",
            "8:\tlearn: 0.0137634\ttest: 0.0165255\tbest: 0.0162263 (0)\ttotal: 145ms\tremaining: 1.46s\n",
            "9:\tlearn: 0.0136228\ttest: 0.0165454\tbest: 0.0162263 (0)\ttotal: 161ms\tremaining: 1.45s\n",
            "10:\tlearn: 0.0134915\ttest: 0.0165626\tbest: 0.0162263 (0)\ttotal: 177ms\tremaining: 1.43s\n",
            "Stopped by overfitting detector  (10 iterations wait)\n",
            "\n",
            "bestTest = 0.01622630227\n",
            "bestIteration = 0\n",
            "\n",
            "Shrink model to first 1 iterations.\n"
          ]
        },
        {
          "name": "stderr",
          "output_type": "stream",
          "text": [
            "/usr/local/lib/python3.7/dist-packages/pypfopt/efficient_frontier/efficient_frontier.py:258: UserWarning: max_sharpe transforms the optimization problem so additional objectives may not work as expected.\n",
            "  \"max_sharpe transforms the optimization problem so additional objectives may not work as expected.\"\n"
          ]
        },
        {
          "name": "stdout",
          "output_type": "stream",
          "text": [
            "2022-04-19 00:00:00\n",
            "0:\tlearn: 0.0145756\ttest: 0.0163362\tbest: 0.0163362 (0)\ttotal: 16.5ms\tremaining: 1.63s\n",
            "1:\tlearn: 0.0143218\ttest: 0.0163387\tbest: 0.0163362 (0)\ttotal: 33.2ms\tremaining: 1.62s\n",
            "2:\tlearn: 0.0141332\ttest: 0.0163732\tbest: 0.0163362 (0)\ttotal: 48.1ms\tremaining: 1.55s\n",
            "3:\tlearn: 0.0139393\ttest: 0.0164070\tbest: 0.0163362 (0)\ttotal: 64ms\tremaining: 1.54s\n",
            "4:\tlearn: 0.0137950\ttest: 0.0164524\tbest: 0.0163362 (0)\ttotal: 79.5ms\tremaining: 1.51s\n",
            "5:\tlearn: 0.0136588\ttest: 0.0165205\tbest: 0.0163362 (0)\ttotal: 95.4ms\tremaining: 1.49s\n",
            "6:\tlearn: 0.0134605\ttest: 0.0165023\tbest: 0.0163362 (0)\ttotal: 111ms\tremaining: 1.48s\n",
            "7:\tlearn: 0.0133296\ttest: 0.0165474\tbest: 0.0163362 (0)\ttotal: 128ms\tremaining: 1.47s\n",
            "8:\tlearn: 0.0132245\ttest: 0.0165823\tbest: 0.0163362 (0)\ttotal: 144ms\tremaining: 1.46s\n",
            "9:\tlearn: 0.0131300\ttest: 0.0166150\tbest: 0.0163362 (0)\ttotal: 160ms\tremaining: 1.44s\n",
            "10:\tlearn: 0.0130348\ttest: 0.0166534\tbest: 0.0163362 (0)\ttotal: 176ms\tremaining: 1.42s\n",
            "Stopped by overfitting detector  (10 iterations wait)\n",
            "\n",
            "bestTest = 0.01633615463\n",
            "bestIteration = 0\n",
            "\n",
            "Shrink model to first 1 iterations.\n"
          ]
        },
        {
          "name": "stderr",
          "output_type": "stream",
          "text": [
            "/usr/local/lib/python3.7/dist-packages/pypfopt/efficient_frontier/efficient_frontier.py:258: UserWarning: max_sharpe transforms the optimization problem so additional objectives may not work as expected.\n",
            "  \"max_sharpe transforms the optimization problem so additional objectives may not work as expected.\"\n",
            "/usr/local/lib/python3.7/dist-packages/cvxpy/problems/problem.py:1334: UserWarning: Solution may be inaccurate. Try another solver, adjusting the solver settings, or solve with verbose=True for more information.\n",
            "  \"Solution may be inaccurate. Try another solver, \"\n"
          ]
        },
        {
          "name": "stdout",
          "output_type": "stream",
          "text": [
            "2022-04-20 00:00:00\n",
            "0:\tlearn: 0.0151833\ttest: 0.0161680\tbest: 0.0161680 (0)\ttotal: 16.5ms\tremaining: 1.64s\n",
            "1:\tlearn: 0.0150110\ttest: 0.0162142\tbest: 0.0161680 (0)\ttotal: 33ms\tremaining: 1.62s\n",
            "2:\tlearn: 0.0147558\ttest: 0.0162748\tbest: 0.0161680 (0)\ttotal: 48.5ms\tremaining: 1.57s\n",
            "3:\tlearn: 0.0145620\ttest: 0.0163430\tbest: 0.0161680 (0)\ttotal: 64.8ms\tremaining: 1.55s\n",
            "4:\tlearn: 0.0143596\ttest: 0.0164010\tbest: 0.0161680 (0)\ttotal: 80.7ms\tremaining: 1.53s\n",
            "5:\tlearn: 0.0141555\ttest: 0.0164831\tbest: 0.0161680 (0)\ttotal: 96.6ms\tremaining: 1.51s\n",
            "6:\tlearn: 0.0139759\ttest: 0.0165663\tbest: 0.0161680 (0)\ttotal: 113ms\tremaining: 1.5s\n",
            "7:\tlearn: 0.0138386\ttest: 0.0165862\tbest: 0.0161680 (0)\ttotal: 130ms\tremaining: 1.5s\n",
            "8:\tlearn: 0.0136972\ttest: 0.0166525\tbest: 0.0161680 (0)\ttotal: 146ms\tremaining: 1.48s\n",
            "9:\tlearn: 0.0135887\ttest: 0.0167103\tbest: 0.0161680 (0)\ttotal: 162ms\tremaining: 1.46s\n",
            "10:\tlearn: 0.0134981\ttest: 0.0167245\tbest: 0.0161680 (0)\ttotal: 178ms\tremaining: 1.44s\n",
            "Stopped by overfitting detector  (10 iterations wait)\n",
            "\n",
            "bestTest = 0.01616799023\n",
            "bestIteration = 0\n",
            "\n",
            "Shrink model to first 1 iterations.\n"
          ]
        },
        {
          "name": "stderr",
          "output_type": "stream",
          "text": [
            "/usr/local/lib/python3.7/dist-packages/pypfopt/efficient_frontier/efficient_frontier.py:258: UserWarning: max_sharpe transforms the optimization problem so additional objectives may not work as expected.\n",
            "  \"max_sharpe transforms the optimization problem so additional objectives may not work as expected.\"\n"
          ]
        },
        {
          "name": "stdout",
          "output_type": "stream",
          "text": [
            "2022-04-21 00:00:00\n",
            "0:\tlearn: 0.0170428\ttest: 0.0155577\tbest: 0.0155577 (0)\ttotal: 16.1ms\tremaining: 1.6s\n",
            "1:\tlearn: 0.0165375\ttest: 0.0156264\tbest: 0.0155577 (0)\ttotal: 33.1ms\tremaining: 1.62s\n",
            "2:\tlearn: 0.0161168\ttest: 0.0156812\tbest: 0.0155577 (0)\ttotal: 48.7ms\tremaining: 1.57s\n",
            "3:\tlearn: 0.0157180\ttest: 0.0157935\tbest: 0.0155577 (0)\ttotal: 65.3ms\tremaining: 1.57s\n",
            "4:\tlearn: 0.0154112\ttest: 0.0158948\tbest: 0.0155577 (0)\ttotal: 80.7ms\tremaining: 1.53s\n",
            "5:\tlearn: 0.0152280\ttest: 0.0159572\tbest: 0.0155577 (0)\ttotal: 97.1ms\tremaining: 1.52s\n",
            "6:\tlearn: 0.0149875\ttest: 0.0160506\tbest: 0.0155577 (0)\ttotal: 113ms\tremaining: 1.5s\n",
            "7:\tlearn: 0.0147670\ttest: 0.0161237\tbest: 0.0155577 (0)\ttotal: 130ms\tremaining: 1.49s\n",
            "8:\tlearn: 0.0146269\ttest: 0.0161845\tbest: 0.0155577 (0)\ttotal: 145ms\tremaining: 1.47s\n",
            "9:\tlearn: 0.0143794\ttest: 0.0163074\tbest: 0.0155577 (0)\ttotal: 161ms\tremaining: 1.45s\n",
            "10:\tlearn: 0.0142390\ttest: 0.0163313\tbest: 0.0155577 (0)\ttotal: 177ms\tremaining: 1.43s\n",
            "Stopped by overfitting detector  (10 iterations wait)\n",
            "\n",
            "bestTest = 0.01555767186\n",
            "bestIteration = 0\n",
            "\n",
            "Shrink model to first 1 iterations.\n"
          ]
        },
        {
          "name": "stderr",
          "output_type": "stream",
          "text": [
            "/usr/local/lib/python3.7/dist-packages/pypfopt/efficient_frontier/efficient_frontier.py:258: UserWarning: max_sharpe transforms the optimization problem so additional objectives may not work as expected.\n",
            "  \"max_sharpe transforms the optimization problem so additional objectives may not work as expected.\"\n"
          ]
        },
        {
          "name": "stdout",
          "output_type": "stream",
          "text": [
            "2022-04-22 00:00:00\n",
            "0:\tlearn: 0.0148190\ttest: 0.0164718\tbest: 0.0164718 (0)\ttotal: 15.9ms\tremaining: 1.58s\n",
            "1:\tlearn: 0.0145720\ttest: 0.0165797\tbest: 0.0164718 (0)\ttotal: 34.1ms\tremaining: 1.67s\n",
            "2:\tlearn: 0.0143520\ttest: 0.0166502\tbest: 0.0164718 (0)\ttotal: 49.9ms\tremaining: 1.61s\n",
            "3:\tlearn: 0.0141526\ttest: 0.0167507\tbest: 0.0164718 (0)\ttotal: 66.1ms\tremaining: 1.58s\n",
            "4:\tlearn: 0.0139655\ttest: 0.0168134\tbest: 0.0164718 (0)\ttotal: 81.5ms\tremaining: 1.55s\n",
            "5:\tlearn: 0.0137887\ttest: 0.0169075\tbest: 0.0164718 (0)\ttotal: 97.4ms\tremaining: 1.52s\n",
            "6:\tlearn: 0.0135992\ttest: 0.0169434\tbest: 0.0164718 (0)\ttotal: 114ms\tremaining: 1.51s\n",
            "7:\tlearn: 0.0134665\ttest: 0.0170205\tbest: 0.0164718 (0)\ttotal: 130ms\tremaining: 1.5s\n",
            "8:\tlearn: 0.0133527\ttest: 0.0170898\tbest: 0.0164718 (0)\ttotal: 146ms\tremaining: 1.48s\n",
            "9:\tlearn: 0.0131724\ttest: 0.0171815\tbest: 0.0164718 (0)\ttotal: 162ms\tremaining: 1.46s\n",
            "10:\tlearn: 0.0130296\ttest: 0.0172494\tbest: 0.0164718 (0)\ttotal: 183ms\tremaining: 1.48s\n",
            "Stopped by overfitting detector  (10 iterations wait)\n",
            "\n",
            "bestTest = 0.01647183302\n",
            "bestIteration = 0\n",
            "\n",
            "Shrink model to first 1 iterations.\n"
          ]
        },
        {
          "name": "stderr",
          "output_type": "stream",
          "text": [
            "/usr/local/lib/python3.7/dist-packages/pypfopt/efficient_frontier/efficient_frontier.py:258: UserWarning: max_sharpe transforms the optimization problem so additional objectives may not work as expected.\n",
            "  \"max_sharpe transforms the optimization problem so additional objectives may not work as expected.\"\n",
            "/usr/local/lib/python3.7/dist-packages/cvxpy/problems/problem.py:1334: UserWarning: Solution may be inaccurate. Try another solver, adjusting the solver settings, or solve with verbose=True for more information.\n",
            "  \"Solution may be inaccurate. Try another solver, \"\n"
          ]
        },
        {
          "name": "stdout",
          "output_type": "stream",
          "text": [
            "2022-04-25 00:00:00\n",
            "0:\tlearn: 0.0152523\ttest: 0.0164288\tbest: 0.0164288 (0)\ttotal: 16.2ms\tremaining: 1.61s\n",
            "1:\tlearn: 0.0150182\ttest: 0.0165284\tbest: 0.0164288 (0)\ttotal: 32ms\tremaining: 1.57s\n",
            "2:\tlearn: 0.0147994\ttest: 0.0166293\tbest: 0.0164288 (0)\ttotal: 47ms\tremaining: 1.52s\n",
            "3:\tlearn: 0.0146632\ttest: 0.0167245\tbest: 0.0164288 (0)\ttotal: 62.8ms\tremaining: 1.51s\n",
            "4:\tlearn: 0.0145004\ttest: 0.0167930\tbest: 0.0164288 (0)\ttotal: 78.1ms\tremaining: 1.48s\n",
            "5:\tlearn: 0.0143921\ttest: 0.0169294\tbest: 0.0164288 (0)\ttotal: 93.5ms\tremaining: 1.46s\n",
            "6:\tlearn: 0.0142160\ttest: 0.0169760\tbest: 0.0164288 (0)\ttotal: 109ms\tremaining: 1.45s\n",
            "7:\tlearn: 0.0140514\ttest: 0.0170098\tbest: 0.0164288 (0)\ttotal: 126ms\tremaining: 1.45s\n",
            "8:\tlearn: 0.0139163\ttest: 0.0170368\tbest: 0.0164288 (0)\ttotal: 141ms\tremaining: 1.43s\n",
            "9:\tlearn: 0.0137786\ttest: 0.0171072\tbest: 0.0164288 (0)\ttotal: 156ms\tremaining: 1.41s\n",
            "10:\tlearn: 0.0136665\ttest: 0.0172082\tbest: 0.0164288 (0)\ttotal: 172ms\tremaining: 1.39s\n",
            "Stopped by overfitting detector  (10 iterations wait)\n",
            "\n",
            "bestTest = 0.01642883637\n",
            "bestIteration = 0\n",
            "\n",
            "Shrink model to first 1 iterations.\n"
          ]
        },
        {
          "name": "stderr",
          "output_type": "stream",
          "text": [
            "/usr/local/lib/python3.7/dist-packages/pypfopt/efficient_frontier/efficient_frontier.py:258: UserWarning: max_sharpe transforms the optimization problem so additional objectives may not work as expected.\n",
            "  \"max_sharpe transforms the optimization problem so additional objectives may not work as expected.\"\n"
          ]
        },
        {
          "name": "stdout",
          "output_type": "stream",
          "text": [
            "2022-04-26 00:00:00\n",
            "0:\tlearn: 0.0155994\ttest: 0.0160288\tbest: 0.0160288 (0)\ttotal: 16.1ms\tremaining: 1.59s\n",
            "1:\tlearn: 0.0153369\ttest: 0.0160274\tbest: 0.0160274 (1)\ttotal: 31.8ms\tremaining: 1.56s\n",
            "2:\tlearn: 0.0150631\ttest: 0.0160583\tbest: 0.0160274 (1)\ttotal: 46.8ms\tremaining: 1.51s\n",
            "3:\tlearn: 0.0148726\ttest: 0.0160916\tbest: 0.0160274 (1)\ttotal: 63ms\tremaining: 1.51s\n",
            "4:\tlearn: 0.0146640\ttest: 0.0161073\tbest: 0.0160274 (1)\ttotal: 78.2ms\tremaining: 1.49s\n",
            "5:\tlearn: 0.0144945\ttest: 0.0161440\tbest: 0.0160274 (1)\ttotal: 93.7ms\tremaining: 1.47s\n",
            "6:\tlearn: 0.0143203\ttest: 0.0161559\tbest: 0.0160274 (1)\ttotal: 110ms\tremaining: 1.46s\n",
            "7:\tlearn: 0.0141921\ttest: 0.0161946\tbest: 0.0160274 (1)\ttotal: 126ms\tremaining: 1.45s\n",
            "8:\tlearn: 0.0140393\ttest: 0.0162363\tbest: 0.0160274 (1)\ttotal: 142ms\tremaining: 1.43s\n",
            "9:\tlearn: 0.0138794\ttest: 0.0162841\tbest: 0.0160274 (1)\ttotal: 158ms\tremaining: 1.42s\n",
            "10:\tlearn: 0.0137298\ttest: 0.0163571\tbest: 0.0160274 (1)\ttotal: 173ms\tremaining: 1.4s\n",
            "11:\tlearn: 0.0136212\ttest: 0.0163976\tbest: 0.0160274 (1)\ttotal: 189ms\tremaining: 1.38s\n",
            "Stopped by overfitting detector  (10 iterations wait)\n",
            "\n",
            "bestTest = 0.01602737269\n",
            "bestIteration = 1\n",
            "\n",
            "Shrink model to first 2 iterations.\n"
          ]
        },
        {
          "name": "stderr",
          "output_type": "stream",
          "text": [
            "/usr/local/lib/python3.7/dist-packages/pypfopt/efficient_frontier/efficient_frontier.py:258: UserWarning: max_sharpe transforms the optimization problem so additional objectives may not work as expected.\n",
            "  \"max_sharpe transforms the optimization problem so additional objectives may not work as expected.\"\n"
          ]
        },
        {
          "name": "stdout",
          "output_type": "stream",
          "text": [
            "2022-04-27 00:00:00\n",
            "0:\tlearn: 0.0157169\ttest: 0.0161028\tbest: 0.0161028 (0)\ttotal: 16.4ms\tremaining: 1.62s\n",
            "1:\tlearn: 0.0154098\ttest: 0.0160846\tbest: 0.0160846 (1)\ttotal: 33.9ms\tremaining: 1.66s\n",
            "2:\tlearn: 0.0151231\ttest: 0.0160895\tbest: 0.0160846 (1)\ttotal: 49.8ms\tremaining: 1.61s\n",
            "3:\tlearn: 0.0148362\ttest: 0.0160733\tbest: 0.0160733 (3)\ttotal: 66.5ms\tremaining: 1.6s\n",
            "4:\tlearn: 0.0146136\ttest: 0.0160992\tbest: 0.0160733 (3)\ttotal: 84.2ms\tremaining: 1.6s\n",
            "5:\tlearn: 0.0144417\ttest: 0.0161265\tbest: 0.0160733 (3)\ttotal: 103ms\tremaining: 1.61s\n",
            "6:\tlearn: 0.0142120\ttest: 0.0161401\tbest: 0.0160733 (3)\ttotal: 119ms\tremaining: 1.58s\n",
            "7:\tlearn: 0.0140218\ttest: 0.0161730\tbest: 0.0160733 (3)\ttotal: 135ms\tremaining: 1.55s\n",
            "8:\tlearn: 0.0138782\ttest: 0.0161752\tbest: 0.0160733 (3)\ttotal: 151ms\tremaining: 1.52s\n",
            "9:\tlearn: 0.0137196\ttest: 0.0161935\tbest: 0.0160733 (3)\ttotal: 167ms\tremaining: 1.5s\n",
            "10:\tlearn: 0.0135776\ttest: 0.0162335\tbest: 0.0160733 (3)\ttotal: 183ms\tremaining: 1.48s\n",
            "11:\tlearn: 0.0134219\ttest: 0.0163224\tbest: 0.0160733 (3)\ttotal: 200ms\tremaining: 1.47s\n",
            "12:\tlearn: 0.0132535\ttest: 0.0163446\tbest: 0.0160733 (3)\ttotal: 223ms\tremaining: 1.49s\n",
            "13:\tlearn: 0.0131340\ttest: 0.0163596\tbest: 0.0160733 (3)\ttotal: 244ms\tremaining: 1.5s\n",
            "Stopped by overfitting detector  (10 iterations wait)\n",
            "\n",
            "bestTest = 0.0160732678\n",
            "bestIteration = 3\n",
            "\n",
            "Shrink model to first 4 iterations.\n"
          ]
        },
        {
          "name": "stderr",
          "output_type": "stream",
          "text": [
            "/usr/local/lib/python3.7/dist-packages/pypfopt/efficient_frontier/efficient_frontier.py:258: UserWarning: max_sharpe transforms the optimization problem so additional objectives may not work as expected.\n",
            "  \"max_sharpe transforms the optimization problem so additional objectives may not work as expected.\"\n"
          ]
        },
        {
          "name": "stdout",
          "output_type": "stream",
          "text": [
            "2022-04-28 00:00:00\n",
            "0:\tlearn: 0.0157877\ttest: 0.0158229\tbest: 0.0158229 (0)\ttotal: 16.3ms\tremaining: 1.61s\n",
            "1:\tlearn: 0.0155206\ttest: 0.0158611\tbest: 0.0158229 (0)\ttotal: 33.9ms\tremaining: 1.66s\n",
            "2:\tlearn: 0.0152757\ttest: 0.0159197\tbest: 0.0158229 (0)\ttotal: 50.2ms\tremaining: 1.62s\n",
            "3:\tlearn: 0.0150687\ttest: 0.0159689\tbest: 0.0158229 (0)\ttotal: 67.2ms\tremaining: 1.61s\n",
            "4:\tlearn: 0.0148961\ttest: 0.0159807\tbest: 0.0158229 (0)\ttotal: 84.7ms\tremaining: 1.61s\n",
            "5:\tlearn: 0.0147569\ttest: 0.0160354\tbest: 0.0158229 (0)\ttotal: 100ms\tremaining: 1.57s\n",
            "6:\tlearn: 0.0145780\ttest: 0.0161310\tbest: 0.0158229 (0)\ttotal: 116ms\tremaining: 1.54s\n",
            "7:\tlearn: 0.0144337\ttest: 0.0162607\tbest: 0.0158229 (0)\ttotal: 132ms\tremaining: 1.52s\n",
            "8:\tlearn: 0.0142980\ttest: 0.0162842\tbest: 0.0158229 (0)\ttotal: 149ms\tremaining: 1.5s\n",
            "9:\tlearn: 0.0141641\ttest: 0.0163920\tbest: 0.0158229 (0)\ttotal: 165ms\tremaining: 1.48s\n",
            "10:\tlearn: 0.0140090\ttest: 0.0164434\tbest: 0.0158229 (0)\ttotal: 181ms\tremaining: 1.47s\n",
            "Stopped by overfitting detector  (10 iterations wait)\n",
            "\n",
            "bestTest = 0.01582286465\n",
            "bestIteration = 0\n",
            "\n",
            "Shrink model to first 1 iterations.\n"
          ]
        },
        {
          "name": "stderr",
          "output_type": "stream",
          "text": [
            "/usr/local/lib/python3.7/dist-packages/pypfopt/efficient_frontier/efficient_frontier.py:258: UserWarning: max_sharpe transforms the optimization problem so additional objectives may not work as expected.\n",
            "  \"max_sharpe transforms the optimization problem so additional objectives may not work as expected.\"\n"
          ]
        },
        {
          "name": "stdout",
          "output_type": "stream",
          "text": [
            "2022-04-29 00:00:00\n",
            "0:\tlearn: 0.0157526\ttest: 0.0165427\tbest: 0.0165427 (0)\ttotal: 16.8ms\tremaining: 1.67s\n",
            "1:\tlearn: 0.0154519\ttest: 0.0165001\tbest: 0.0165001 (1)\ttotal: 35.3ms\tremaining: 1.73s\n",
            "2:\tlearn: 0.0151985\ttest: 0.0164065\tbest: 0.0164065 (2)\ttotal: 51.5ms\tremaining: 1.66s\n",
            "3:\tlearn: 0.0150567\ttest: 0.0163666\tbest: 0.0163666 (3)\ttotal: 68.1ms\tremaining: 1.64s\n",
            "4:\tlearn: 0.0149104\ttest: 0.0163096\tbest: 0.0163096 (4)\ttotal: 91.7ms\tremaining: 1.74s\n",
            "5:\tlearn: 0.0147004\ttest: 0.0162921\tbest: 0.0162921 (5)\ttotal: 114ms\tremaining: 1.79s\n",
            "6:\tlearn: 0.0145484\ttest: 0.0163155\tbest: 0.0162921 (5)\ttotal: 131ms\tremaining: 1.74s\n",
            "7:\tlearn: 0.0143685\ttest: 0.0163472\tbest: 0.0162921 (5)\ttotal: 147ms\tremaining: 1.69s\n",
            "8:\tlearn: 0.0142595\ttest: 0.0163535\tbest: 0.0162921 (5)\ttotal: 163ms\tremaining: 1.65s\n",
            "9:\tlearn: 0.0140692\ttest: 0.0164000\tbest: 0.0162921 (5)\ttotal: 180ms\tremaining: 1.62s\n",
            "10:\tlearn: 0.0139379\ttest: 0.0164580\tbest: 0.0162921 (5)\ttotal: 196ms\tremaining: 1.58s\n",
            "11:\tlearn: 0.0138003\ttest: 0.0164810\tbest: 0.0162921 (5)\ttotal: 213ms\tremaining: 1.56s\n",
            "12:\tlearn: 0.0137065\ttest: 0.0165004\tbest: 0.0162921 (5)\ttotal: 244ms\tremaining: 1.63s\n",
            "13:\tlearn: 0.0136187\ttest: 0.0165436\tbest: 0.0162921 (5)\ttotal: 261ms\tremaining: 1.6s\n",
            "14:\tlearn: 0.0135220\ttest: 0.0165481\tbest: 0.0162921 (5)\ttotal: 277ms\tremaining: 1.57s\n",
            "15:\tlearn: 0.0134098\ttest: 0.0165741\tbest: 0.0162921 (5)\ttotal: 293ms\tremaining: 1.54s\n",
            "Stopped by overfitting detector  (10 iterations wait)\n",
            "\n",
            "bestTest = 0.01629214857\n",
            "bestIteration = 5\n",
            "\n",
            "Shrink model to first 6 iterations.\n"
          ]
        },
        {
          "name": "stderr",
          "output_type": "stream",
          "text": [
            "/usr/local/lib/python3.7/dist-packages/pypfopt/efficient_frontier/efficient_frontier.py:258: UserWarning: max_sharpe transforms the optimization problem so additional objectives may not work as expected.\n",
            "  \"max_sharpe transforms the optimization problem so additional objectives may not work as expected.\"\n",
            "/usr/local/lib/python3.7/dist-packages/cvxpy/problems/problem.py:1334: UserWarning: Solution may be inaccurate. Try another solver, adjusting the solver settings, or solve with verbose=True for more information.\n",
            "  \"Solution may be inaccurate. Try another solver, \"\n"
          ]
        }
      ],
      "source": [
        "# Adjustible parameters\n",
        "n_days=252\n",
        "training_len=100\n",
        "\n",
        "# Pre-set parameters\n",
        "trade_days=date_list[-n_days:]\n",
        "daily_return = []\n",
        "ms_daily_return = []\n",
        "mv_daily_return = []\n",
        "seed=0\n",
        "\n",
        "# Looping\n",
        "for trade_day in trade_days:\n",
        "    print(trade_day)\n",
        "    trade_day_index=date_list.get_loc(trade_day)\n",
        "    first_training_day_index=trade_day_index-training_len\n",
        "    train_valid_dates=date_list[first_training_day_index:trade_day_index]\n",
        "    \n",
        "    # Train Validation Split\n",
        "    train_days, eval_days=train_test_split(train_valid_dates,test_size=0.7,random_state=seed)\n",
        "    seed+=1\n",
        "\n",
        "    train_data=cleaned.loc[train_days,:]\n",
        "    eval_data=cleaned.loc[eval_days,:]\n",
        "    trade_day_data = cleaned.loc[trade_day]\n",
        "\n",
        "    train_x=train_data.drop(['Log Return'],axis=1)\n",
        "    train_y=train_data['Log Return']\n",
        "    eval_x=eval_data.drop(['Log Return'],axis=1)\n",
        "    eval_y=eval_data['Log Return']\n",
        "    trade_day_x=trade_day_data.drop(['Log Return'],axis=1)\n",
        "    trade_day_y=trade_day_data['Log Return']\n",
        "\n",
        "    # Establish CatBoost Model \n",
        "    model=CatBoostRegressor(iterations=100,task_type=\"CPU\",learning_rate=0.1,\n",
        "                depth=8,l2_leaf_reg=0.0000001,allow_writing_files=False,\n",
        "                eval_metric='MAPE',random_seed=0,thread_count=-1)\n",
        "    eval_set=Pool(eval_x,eval_y,cat_features=[0])\n",
        "\n",
        "    catboost_train_data = Pool(data=train_x,label=train_y,cat_features=[0])\n",
        "    model.fit(catboost_train_data,\n",
        "              eval_set=eval_set,\n",
        "              plot=False,\n",
        "              early_stopping_rounds=10)\n",
        "    \n",
        "    # Prediction from CatBoost Model\n",
        "    preds_log_return=model.predict(trade_day_x)\n",
        "\n",
        "    # Append Predicted Array to Log Return DataFrame\n",
        "    temp_df = pd.DataFrame(preds_log_return).transpose()\n",
        "    temp_df.columns = stock_list\n",
        "    log_return_opt_df = log_return_df[first_training_day_index:trade_day_index]\n",
        "    log_return_opt_df = log_return_opt_df.append(temp_df)\n",
        "    log_return_opt_df.index = date_list[first_training_day_index:trade_day_index+1]\n",
        "\n",
        "    # Ready for Optimisation\n",
        "    portfolio = log_return_opt_df.applymap(lambda x: exp(x))\n",
        "    cs_actual = CovarianceShrinkage(portfolio, frequency=len(log_return_opt_df))\n",
        "    e_cov = cs_actual.ledoit_wolf()\n",
        "\n",
        "    # Prepare Variables for Black Litterman Model\n",
        "    market_prices = SPY.loc[log_return_opt_df.index[0]:log_return_opt_df.index[-2]]\n",
        "    annual_risk_free = riskfree.loc[trade_day_index]['Price']/100\n",
        "    daily_risk_free = (1+annual_risk_free)**(1/252)-1\n",
        "    delta = black_litterman.market_implied_risk_aversion(market_prices['Close'], risk_free_rate=daily_risk_free)\n",
        "    prior = black_litterman.market_implied_prior_returns(market_cap, delta, e_cov)\n",
        "    viewdict={trade_day_x['Stock'].values[i]:exp(preds_log_return[i])-1 for i in range(len(preds_log_return))}\n",
        "    bl = BlackLittermanModel(e_cov, pi=prior, absolute_views=viewdict)\n",
        "    # Posterior estimate of returns\n",
        "    ret_bl = bl.bl_returns()\n",
        "    S_bl = bl.bl_cov()\n",
        "\n",
        "    # Perform Maximum Sharpe Ratio Portfolio\n",
        "    ms_ef = EfficientFrontier(ret_bl, S_bl,verbose=False)\n",
        "    ms_ef.add_objective(objective_functions.L2_reg)\n",
        "\n",
        "    # Decide Method of Optimisation by Error\n",
        "    try:\n",
        "      ms_ef.max_sharpe()\n",
        "      ms_weights = ms_ef.clean_weights()\n",
        "    except:\n",
        "      ms_weights = ms_ef.nonconvex_objective(objective_functions.sharpe_ratio,\n",
        "                          objective_args=(ms_ef.expected_returns, ms_ef.cov_matrix),\n",
        "                          weights_sum_to_one=True,)\n",
        "    ms_weights = list(ms_weights.values())\n",
        "    ms_expected_return = ms_weights@temp_df.iloc[0].to_numpy().T\n",
        "    ms_return = ms_weights@trade_day_y.to_numpy().T\n",
        "    ms_daily_return = np.append(ms_daily_return,ms_return)\n",
        "\n",
        "    # Perform Minimum Volatility Portfolio\n",
        "    mv_ef = EfficientFrontier(ret_bl, S_bl)\n",
        "    mv_ef.add_objective(objective_functions.L2_reg)\n",
        "    mv_ef.min_volatility()\n",
        "    mv_weights = mv_ef.clean_weights()\n",
        "\n",
        "    mv_weights = list(mv_weights.values())\n",
        "    mv_expected_return = mv_weights@temp_df.iloc[0].to_numpy().T\n",
        "    mv_return = mv_weights@trade_day_y.to_numpy().T\n",
        "    mv_daily_return = np.append(mv_daily_return,mv_return)\n",
        "\n",
        "    # Adopt Better Prediction from Maximum Sharpe Ratio Portfolio or Minimum Volatility Portfolio\n",
        "    if (ms_expected_return>mv_expected_return):\n",
        "      daily_return = np.append(daily_return,ms_return)\n",
        "    else:\n",
        "      daily_return = np.append(daily_return,mv_return)"
      ]
    },
    {
      "cell_type": "code",
      "execution_count": null,
      "metadata": {
        "colab": {
          "base_uri": "https://localhost:8080/"
        },
        "id": "_tRA9QpU64bK",
        "outputId": "d80ae3ee-cf89-4370-fb80-f83de1bc611f"
      },
      "outputs": [
        {
          "name": "stdout",
          "output_type": "stream",
          "text": [
            "1.1457382750672047 1.0172570251602548 1.3088858838178343 0.9751989148503256\n"
          ]
        }
      ],
      "source": [
        "# Ready for Result Exhibition\n",
        "ms_total_return = np.prod(ms_daily_return+1)-1\n",
        "mv_total_return = np.prod(mv_daily_return+1)-1\n",
        "total_return = np.prod(daily_return+1)-1\n",
        "SnP_array = np.array(SnP_Return[\"SnP Log Return\"].loc[trade_days])\n",
        "SnP_total_return = np.prod(SnP_array+1)-1\n",
        "\n",
        "ms_cum_return = np.cumprod(ms_daily_return+1)\n",
        "mv_cum_return = np.cumprod(mv_daily_return+1)\n",
        "cum_return = np.cumprod(daily_return+1)\n",
        "SnP_cum_return = np.cumprod(SnP_array+1)\n",
        "\n",
        "print(ms_cum_return[-1], mv_cum_return[-1], cum_return[-1], SnP_cum_return[-1])"
      ]
    },
    {
      "cell_type": "code",
      "execution_count": null,
      "metadata": {
        "colab": {
          "base_uri": "https://localhost:8080/"
        },
        "id": "8KmQudjFDCdw",
        "outputId": "2780a55b-903b-42ab-c82b-f3e87e59c499"
      },
      "outputs": [
        {
          "name": "stdout",
          "output_type": "stream",
          "text": [
            "0.060479490374541596 0.9600821457057703\n"
          ]
        }
      ],
      "source": [
        "# Calculate Information Ratio\n",
        "avg_return_algorithm = np.array(daily_return).mean()\n",
        "avg_return_SnP = SnP_array.mean()\n",
        "tracking_error = np.std(np.array(daily_return)-SnP_array,ddof=1)\n",
        "IR = (avg_return_algorithm-avg_return_SnP)/tracking_error\n",
        "annual_IR = (avg_return_algorithm-avg_return_SnP)/tracking_error*252**(1/2)\n",
        "print(IR,annual_IR)"
      ]
    },
    {
      "cell_type": "markdown",
      "metadata": {
        "id": "vgNaBnVcFULN"
      },
      "source": [
        "# Result Exhibition"
      ]
    },
    {
      "cell_type": "code",
      "execution_count": null,
      "metadata": {
        "colab": {
          "base_uri": "https://localhost:8080/",
          "height": 550
        },
        "id": "E18HLKh2bFu-",
        "outputId": "59d1f568-9584-4166-e735-4c06ff917b0e"
      },
      "outputs": [
        {
          "name": "stderr",
          "output_type": "stream",
          "text": [
            "No handles with labels found to put in legend.\n"
          ]
        },
        {
          "data": {
            "image/png": "[encoded data removed]",
            "text/plain": [
              "<Figure size 842.4x595.44 with 1 Axes>"
            ]
          },
          "metadata": {},
          "output_type": "display_data"
        }
      ],
      "source": [
        "plt.style.use('ggplot')\n",
        "sns.set(rc={'figure.figsize':(11.7,8.27)})\n",
        "\n",
        "plt.xlabel(\"Date\")\n",
        "plt.ylabel(\"Return\")\n",
        "plt.title(\"Portfolios performance\")\n",
        "plt.legend(loc=\"upper left\")\n",
        "plt.plot(trade_days,ms_cum_return,label=\"Maximised Sharpe Ratio\")\n",
        "plt.plot(trade_days,mv_cum_return,label=\"Minimised volatility\")\n",
        "plt.plot(trade_days,cum_return,label=\"Algorithm\")\n",
        "plt.plot(trade_days,SnP_cum_return,c=\"Red\",label=\"S&P500 Index\")\n",
        "plt.legend(loc=\"upper left\")\n",
        "\n",
        "plt.show()"
      ]
    },
    {
      "cell_type": "code",
      "execution_count": null,
      "metadata": {
        "id": "LHWZtToL9d3-"
      },
      "outputs": [],
      "source": [
        "result = pd.DataFrame({'ms_daily_return':ms_daily_return,'mv_daily_return':mv_daily_return,'algo_daily_return':daily_return,'SnP_daily_return':SnP_array})\n",
        "result.index = trade_days"
      ]
    },
    {
      "cell_type": "code",
      "execution_count": null,
      "metadata": {
        "colab": {
          "base_uri": "https://localhost:8080/"
        },
        "id": "ridpo7BB-Lqa",
        "outputId": "63a2c124-4b7b-4c28-fd97-3a7281f78bd1"
      },
      "outputs": [
        {
          "name": "stdout",
          "output_type": "stream",
          "text": [
            "Mounted at /drive\n"
          ]
        }
      ],
      "source": [
        "from google.colab import  drive\n",
        "\n",
        "drive.mount('/drive',force_remount=True)\n",
        "result.to_csv('/drive/My Drive/result_20220510_2302.csv')"
      ]
    }
  ],
  "metadata": {
    "colab": {
      "collapsed_sections": [],
      "name": "Finalized_Code_Trial2.ipynb",
      "provenance": []
    },
    "kernelspec": {
      "display_name": "Python 3.9.7 ('base')",
      "language": "python",
      "name": "python3"
    },
    "language_info": {
      "codemirror_mode": {
        "name": "ipython",
        "version": 3
      },
      "file_extension": ".py",
      "mimetype": "text/x-python",
      "name": "python",
      "nbconvert_exporter": "python",
      "pygments_lexer": "ipython3",
      "version": "3.9.7"
    },
    "vscode": {
      "interpreter": {
        "hash": "750f7130a0ed5887341392c7bdb5265c945b64bfd064bdaec7ae8d3d01e224ab"
      }
    }
  },
  "nbformat": 4,
  "nbformat_minor": 0
}
