{
 "cells": [
  {
   "cell_type": "markdown",
   "metadata": {},
   "source": [
    "## Assignment: Cross Validation of Logistic Regression Model\n",
    "\n",
    "Following assignment-1, we have a dataset for titanic passengers. Here is the first 5 rows of the dataset:"
   ]
  },
  {
   "cell_type": "code",
   "execution_count": 116,
   "metadata": {},
   "outputs": [
    {
     "data": {
      "text/html": [
       "<div>\n",
       "<style scoped>\n",
       "    .dataframe tbody tr th:only-of-type {\n",
       "        vertical-align: middle;\n",
       "    }\n",
       "\n",
       "    .dataframe tbody tr th {\n",
       "        vertical-align: top;\n",
       "    }\n",
       "\n",
       "    .dataframe thead th {\n",
       "        text-align: right;\n",
       "    }\n",
       "</style>\n",
       "<table border=\"1\" class=\"dataframe\">\n",
       "  <thead>\n",
       "    <tr style=\"text-align: right;\">\n",
       "      <th></th>\n",
       "      <th>Survived</th>\n",
       "      <th>Age</th>\n",
       "      <th>SibSp</th>\n",
       "      <th>Parch</th>\n",
       "      <th>male</th>\n",
       "      <th>Q</th>\n",
       "      <th>S</th>\n",
       "    </tr>\n",
       "  </thead>\n",
       "  <tbody>\n",
       "    <tr>\n",
       "      <th>0</th>\n",
       "      <td>0</td>\n",
       "      <td>22.0</td>\n",
       "      <td>1</td>\n",
       "      <td>0</td>\n",
       "      <td>1</td>\n",
       "      <td>0</td>\n",
       "      <td>1</td>\n",
       "    </tr>\n",
       "    <tr>\n",
       "      <th>1</th>\n",
       "      <td>1</td>\n",
       "      <td>38.0</td>\n",
       "      <td>1</td>\n",
       "      <td>0</td>\n",
       "      <td>0</td>\n",
       "      <td>0</td>\n",
       "      <td>0</td>\n",
       "    </tr>\n",
       "    <tr>\n",
       "      <th>2</th>\n",
       "      <td>1</td>\n",
       "      <td>26.0</td>\n",
       "      <td>0</td>\n",
       "      <td>0</td>\n",
       "      <td>0</td>\n",
       "      <td>0</td>\n",
       "      <td>1</td>\n",
       "    </tr>\n",
       "    <tr>\n",
       "      <th>3</th>\n",
       "      <td>1</td>\n",
       "      <td>35.0</td>\n",
       "      <td>1</td>\n",
       "      <td>0</td>\n",
       "      <td>0</td>\n",
       "      <td>0</td>\n",
       "      <td>1</td>\n",
       "    </tr>\n",
       "    <tr>\n",
       "      <th>4</th>\n",
       "      <td>0</td>\n",
       "      <td>35.0</td>\n",
       "      <td>0</td>\n",
       "      <td>0</td>\n",
       "      <td>1</td>\n",
       "      <td>0</td>\n",
       "      <td>1</td>\n",
       "    </tr>\n",
       "  </tbody>\n",
       "</table>\n",
       "</div>"
      ],
      "text/plain": [
       "   Survived   Age  SibSp  Parch  male  Q  S\n",
       "0         0  22.0      1      0     1  0  1\n",
       "1         1  38.0      1      0     0  0  0\n",
       "2         1  26.0      0      0     0  0  1\n",
       "3         1  35.0      1      0     0  0  1\n",
       "4         0  35.0      0      0     1  0  1"
      ]
     },
     "execution_count": 116,
     "metadata": {},
     "output_type": "execute_result"
    }
   ],
   "source": [
    "import pandas as pd\n",
    "\n",
    "data = pd.read_csv('titanic_cross_validation.csv')\n",
    "data.head()"
   ]
  },
  {
   "cell_type": "markdown",
   "metadata": {},
   "source": [
    "As you can see, in the dataset we have 6 input features [\"Age\",\"SibSp\",\"Parch\",\"male\",\"Q\",\"S\"] and 1 binary output \"Survived\". In this assignment, please iterate over all the possible feature subsets and do cross validation to find the best feature subset.\n",
    "\n",
    "Here are some guidelines:\n",
    "1. Generate all the possible feature subsets;\n",
    "2. Split data into train, valid and test sets. The proportion is $80\\%\\times80\\%:80\\%\\times20\\%:20\\%$;\n",
    "3. Fit a logistic regression model for each feature subset and find the accuracy on the valid set;\n",
    "4. Find the feature subset with maximal accuracy;\n",
    "5. Fit a logistic regression model with the optimal feature subset and calculate the accuracy on test set.\n",
    "6. Plot the ROC grapfor the optimal model."
   ]
  },
  {
   "cell_type": "code",
   "execution_count": 117,
   "metadata": {},
   "outputs": [],
   "source": [
    "import numpy as np\n",
    "from sklearn import linear_model\n",
    "from sklearn import preprocessing\n",
    "\n",
    "le = preprocessing.LabelEncoder()\n",
    "data['male'] = le.fit_transform(data['male'])\n",
    "data['Q'] = le.fit_transform(data['Q'])\n",
    "data['S'] = le.fit_transform(data['S'])"
   ]
  },
  {
   "cell_type": "code",
   "execution_count": 118,
   "metadata": {},
   "outputs": [
    {
     "data": {
      "text/plain": [
       "['Age', 'SibSp', 'Parch', 'male', 'Q', 'S']"
      ]
     },
     "execution_count": 118,
     "metadata": {},
     "output_type": "execute_result"
    }
   ],
   "source": [
    "list(data.columns[1:])"
   ]
  },
  {
   "cell_type": "code",
   "execution_count": 119,
   "metadata": {},
   "outputs": [],
   "source": [
    "from itertools import combinations\n",
    "\n",
    "def all_subsets(my_list):\n",
    "    subs = []\n",
    "    for i in range(1, len(my_list) + 1):\n",
    "        subs += combinations(my_list, i)\n",
    "    subset_List = []\n",
    "    for i in subs:\n",
    "        subset_List += [list(i)]\n",
    "    return subset_List\n",
    "\n",
    "features_subs = all_subsets(data.columns[1:])"
   ]
  },
  {
   "cell_type": "code",
   "execution_count": 120,
   "metadata": {},
   "outputs": [
    {
     "data": {
      "text/plain": [
       "[['Age'],\n",
       " ['SibSp'],\n",
       " ['Parch'],\n",
       " ['male'],\n",
       " ['Q'],\n",
       " ['S'],\n",
       " ['Age', 'SibSp'],\n",
       " ['Age', 'Parch'],\n",
       " ['Age', 'male'],\n",
       " ['Age', 'Q'],\n",
       " ['Age', 'S'],\n",
       " ['SibSp', 'Parch'],\n",
       " ['SibSp', 'male'],\n",
       " ['SibSp', 'Q'],\n",
       " ['SibSp', 'S'],\n",
       " ['Parch', 'male'],\n",
       " ['Parch', 'Q'],\n",
       " ['Parch', 'S'],\n",
       " ['male', 'Q'],\n",
       " ['male', 'S'],\n",
       " ['Q', 'S'],\n",
       " ['Age', 'SibSp', 'Parch'],\n",
       " ['Age', 'SibSp', 'male'],\n",
       " ['Age', 'SibSp', 'Q'],\n",
       " ['Age', 'SibSp', 'S'],\n",
       " ['Age', 'Parch', 'male'],\n",
       " ['Age', 'Parch', 'Q'],\n",
       " ['Age', 'Parch', 'S'],\n",
       " ['Age', 'male', 'Q'],\n",
       " ['Age', 'male', 'S'],\n",
       " ['Age', 'Q', 'S'],\n",
       " ['SibSp', 'Parch', 'male'],\n",
       " ['SibSp', 'Parch', 'Q'],\n",
       " ['SibSp', 'Parch', 'S'],\n",
       " ['SibSp', 'male', 'Q'],\n",
       " ['SibSp', 'male', 'S'],\n",
       " ['SibSp', 'Q', 'S'],\n",
       " ['Parch', 'male', 'Q'],\n",
       " ['Parch', 'male', 'S'],\n",
       " ['Parch', 'Q', 'S'],\n",
       " ['male', 'Q', 'S'],\n",
       " ['Age', 'SibSp', 'Parch', 'male'],\n",
       " ['Age', 'SibSp', 'Parch', 'Q'],\n",
       " ['Age', 'SibSp', 'Parch', 'S'],\n",
       " ['Age', 'SibSp', 'male', 'Q'],\n",
       " ['Age', 'SibSp', 'male', 'S'],\n",
       " ['Age', 'SibSp', 'Q', 'S'],\n",
       " ['Age', 'Parch', 'male', 'Q'],\n",
       " ['Age', 'Parch', 'male', 'S'],\n",
       " ['Age', 'Parch', 'Q', 'S'],\n",
       " ['Age', 'male', 'Q', 'S'],\n",
       " ['SibSp', 'Parch', 'male', 'Q'],\n",
       " ['SibSp', 'Parch', 'male', 'S'],\n",
       " ['SibSp', 'Parch', 'Q', 'S'],\n",
       " ['SibSp', 'male', 'Q', 'S'],\n",
       " ['Parch', 'male', 'Q', 'S'],\n",
       " ['Age', 'SibSp', 'Parch', 'male', 'Q'],\n",
       " ['Age', 'SibSp', 'Parch', 'male', 'S'],\n",
       " ['Age', 'SibSp', 'Parch', 'Q', 'S'],\n",
       " ['Age', 'SibSp', 'male', 'Q', 'S'],\n",
       " ['Age', 'Parch', 'male', 'Q', 'S'],\n",
       " ['SibSp', 'Parch', 'male', 'Q', 'S'],\n",
       " ['Age', 'SibSp', 'Parch', 'male', 'Q', 'S']]"
      ]
     },
     "execution_count": 120,
     "metadata": {},
     "output_type": "execute_result"
    }
   ],
   "source": [
    "features_subs"
   ]
  },
  {
   "cell_type": "code",
   "execution_count": 121,
   "metadata": {},
   "outputs": [],
   "source": [
    "from sklearn.model_selection import train_test_split\n",
    "\n",
    "train_valid_XY, test_XY = train_test_split(data, test_size=0.2, random_state=0)\n",
    "train_XY, valid_XY = train_test_split(train_valid_XY, test_size=0.2, random_state=0)"
   ]
  },
  {
   "cell_type": "code",
   "execution_count": 122,
   "metadata": {},
   "outputs": [
    {
     "data": {
      "text/html": [
       "<div>\n",
       "<style scoped>\n",
       "    .dataframe tbody tr th:only-of-type {\n",
       "        vertical-align: middle;\n",
       "    }\n",
       "\n",
       "    .dataframe tbody tr th {\n",
       "        vertical-align: top;\n",
       "    }\n",
       "\n",
       "    .dataframe thead th {\n",
       "        text-align: right;\n",
       "    }\n",
       "</style>\n",
       "<table border=\"1\" class=\"dataframe\">\n",
       "  <thead>\n",
       "    <tr style=\"text-align: right;\">\n",
       "      <th></th>\n",
       "      <th>S</th>\n",
       "    </tr>\n",
       "  </thead>\n",
       "  <tbody>\n",
       "    <tr>\n",
       "      <th>705</th>\n",
       "      <td>1</td>\n",
       "    </tr>\n",
       "    <tr>\n",
       "      <th>701</th>\n",
       "      <td>0</td>\n",
       "    </tr>\n",
       "    <tr>\n",
       "      <th>172</th>\n",
       "      <td>1</td>\n",
       "    </tr>\n",
       "    <tr>\n",
       "      <th>73</th>\n",
       "      <td>1</td>\n",
       "    </tr>\n",
       "    <tr>\n",
       "      <th>796</th>\n",
       "      <td>1</td>\n",
       "    </tr>\n",
       "    <tr>\n",
       "      <th>...</th>\n",
       "      <td>...</td>\n",
       "    </tr>\n",
       "    <tr>\n",
       "      <th>567</th>\n",
       "      <td>0</td>\n",
       "    </tr>\n",
       "    <tr>\n",
       "      <th>495</th>\n",
       "      <td>0</td>\n",
       "    </tr>\n",
       "    <tr>\n",
       "      <th>91</th>\n",
       "      <td>1</td>\n",
       "    </tr>\n",
       "    <tr>\n",
       "      <th>371</th>\n",
       "      <td>1</td>\n",
       "    </tr>\n",
       "    <tr>\n",
       "      <th>677</th>\n",
       "      <td>1</td>\n",
       "    </tr>\n",
       "  </tbody>\n",
       "</table>\n",
       "<p>568 rows × 1 columns</p>\n",
       "</div>"
      ],
      "text/plain": [
       "     S\n",
       "705  1\n",
       "701  0\n",
       "172  1\n",
       "73   1\n",
       "796  1\n",
       "..  ..\n",
       "567  0\n",
       "495  0\n",
       "91   1\n",
       "371  1\n",
       "677  1\n",
       "\n",
       "[568 rows x 1 columns]"
      ]
     },
     "execution_count": 122,
     "metadata": {},
     "output_type": "execute_result"
    }
   ],
   "source": [
    "train_XY[features_subs[5]]"
   ]
  },
  {
   "cell_type": "markdown",
   "metadata": {},
   "source": [
    "Q3 - Fit a logistic regression model for each feature subset and find the accuracy on the valid set"
   ]
  },
  {
   "cell_type": "code",
   "execution_count": 123,
   "metadata": {},
   "outputs": [],
   "source": [
    "from sklearn import linear_model\n",
    "import numpy as np\n",
    "\n",
    "accuracy_cv = []\n",
    "\n",
    "for i in features_subs:\n",
    "    train_X, train_Y = train_XY[i], train_XY['Survived']\n",
    "    valid_X, valid_Y = valid_XY[i], valid_XY['Survived']\n",
    "    \n",
    "    logisticReg = linear_model.LogisticRegression()\n",
    "    logisticReg.fit(train_X, train_Y)\n",
    "    \n",
    "    sub_accuracy_cv = logisticReg.score(valid_X, valid_Y)\n",
    "    accuracy_cv = np.append(accuracy_cv, sub_accuracy_cv)"
   ]
  },
  {
   "cell_type": "code",
   "execution_count": 124,
   "metadata": {},
   "outputs": [
    {
     "data": {
      "text/plain": [
       "array([0.6013986 , 0.6013986 , 0.59440559, 0.76223776, 0.6013986 ,\n",
       "       0.6013986 , 0.6013986 , 0.60839161, 0.76223776, 0.6013986 ,\n",
       "       0.62937063, 0.59440559, 0.77622378, 0.6013986 , 0.6013986 ,\n",
       "       0.76223776, 0.59440559, 0.61538462, 0.76223776, 0.76223776,\n",
       "       0.66433566, 0.60839161, 0.77622378, 0.6013986 , 0.63636364,\n",
       "       0.76223776, 0.60839161, 0.61538462, 0.76223776, 0.76223776,\n",
       "       0.63636364, 0.77622378, 0.59440559, 0.61538462, 0.77622378,\n",
       "       0.77622378, 0.66433566, 0.76223776, 0.76223776, 0.61538462,\n",
       "       0.76223776, 0.77622378, 0.60839161, 0.64335664, 0.77622378,\n",
       "       0.77622378, 0.64335664, 0.76223776, 0.76223776, 0.61538462,\n",
       "       0.76223776, 0.77622378, 0.77622378, 0.61538462, 0.77622378,\n",
       "       0.76223776, 0.77622378, 0.77622378, 0.63636364, 0.77622378,\n",
       "       0.76923077, 0.77622378, 0.77622378])"
      ]
     },
     "execution_count": 124,
     "metadata": {},
     "output_type": "execute_result"
    }
   ],
   "source": [
    "accuracy_cv"
   ]
  },
  {
   "cell_type": "markdown",
   "metadata": {},
   "source": [
    "Q4 - Find the feature subset with maximal accuracy"
   ]
  },
  {
   "cell_type": "code",
   "execution_count": 125,
   "metadata": {},
   "outputs": [
    {
     "data": {
      "text/plain": [
       "0.7762237762237763"
      ]
     },
     "execution_count": 125,
     "metadata": {},
     "output_type": "execute_result"
    }
   ],
   "source": [
    "max(accuracy_cv)"
   ]
  },
  {
   "cell_type": "code",
   "execution_count": 126,
   "metadata": {},
   "outputs": [
    {
     "data": {
      "text/plain": [
       "['SibSp', 'male']"
      ]
     },
     "execution_count": 126,
     "metadata": {},
     "output_type": "execute_result"
    }
   ],
   "source": [
    "features_subs[accuracy_cv.argmax()]"
   ]
  },
  {
   "cell_type": "markdown",
   "metadata": {},
   "source": [
    "Q5 - Fit a logistic regression model with the optimal feature subset and calculate the accuracy on test set"
   ]
  },
  {
   "cell_type": "code",
   "execution_count": 127,
   "metadata": {},
   "outputs": [
    {
     "data": {
      "text/plain": [
       "LogisticRegression()"
      ]
     },
     "execution_count": 127,
     "metadata": {},
     "output_type": "execute_result"
    }
   ],
   "source": [
    "best_features = features_subs[accuracy_cv.argmax()]\n",
    "\n",
    "train_valid_X, train_valid_Y = train_valid_XY[best_features], train_valid_XY['Survived']\n",
    "test_X, test_Y = test_XY[best_features], test_XY['Survived']\n",
    "\n",
    "logisticReg = linear_model.LogisticRegression()\n",
    "logisticReg.fit(train_valid_X, train_valid_Y)"
   ]
  },
  {
   "cell_type": "code",
   "execution_count": 128,
   "metadata": {},
   "outputs": [
    {
     "data": {
      "text/plain": [
       "array([[-0.30704941, -2.76069155]])"
      ]
     },
     "execution_count": 128,
     "metadata": {},
     "output_type": "execute_result"
    }
   ],
   "source": [
    "logisticReg.coef_"
   ]
  },
  {
   "cell_type": "code",
   "execution_count": 129,
   "metadata": {},
   "outputs": [
    {
     "data": {
      "text/plain": [
       "0.7191011235955056"
      ]
     },
     "execution_count": 129,
     "metadata": {},
     "output_type": "execute_result"
    }
   ],
   "source": [
    "logisticReg.score(test_X, test_Y)"
   ]
  },
  {
   "cell_type": "markdown",
   "metadata": {},
   "source": [
    "Q6 - Plot the ROC grapfor the optimal model"
   ]
  },
  {
   "cell_type": "code",
   "execution_count": 130,
   "metadata": {},
   "outputs": [
    {
     "data": {
      "text/plain": [
       "\"\\ndef get_unique_numbers(numbers):\\n    \\n    list_of_unique_numbers = []\\n    unique_numbers = set(numbers)\\n    for number in unique_numbers:\\n        list_of_unique_numbers.append(number)\\n\\n    return list_of_unique_numbers\\n\\n\\nsibsp = get_unique_numbers(data['SibSp'])\\nmale = get_unique_numbers(data['male'])\\n\""
      ]
     },
     "execution_count": 130,
     "metadata": {},
     "output_type": "execute_result"
    }
   ],
   "source": [
    "from sklearn.metrics import roc_curve, auc\n",
    "import matplotlib.pyplot as plt\n",
    "%matplotlib inline\n",
    "\n",
    "'''\n",
    "def get_unique_numbers(numbers):\n",
    "    \n",
    "    list_of_unique_numbers = []\n",
    "    unique_numbers = set(numbers)\n",
    "    for number in unique_numbers:\n",
    "        list_of_unique_numbers.append(number)\n",
    "\n",
    "    return list_of_unique_numbers\n",
    "\n",
    "\n",
    "sibsp = get_unique_numbers(data['SibSp'])\n",
    "male = get_unique_numbers(data['male'])\n",
    "'''\n"
   ]
  },
  {
   "cell_type": "code",
   "execution_count": 131,
   "metadata": {},
   "outputs": [
    {
     "data": {
      "image/png": "[encoded data removed]",
      "text/plain": [
       "<Figure size 600x400 with 1 Axes>"
      ]
     },
     "metadata": {
      "needs_background": "light"
     },
     "output_type": "display_data"
    }
   ],
   "source": [
    "# the area under the curve\n",
    "fpr, tpr, thresholds = roc_curve(test_Y, logisticReg.predict_proba(test_X)[:,1])\n",
    "roc_auc = auc(fpr, tpr)\n",
    "\n",
    "plt.figure(dpi=100)\n",
    "plt.title('ROC Curve')\n",
    "plt.plot(fpr, tpr, 'b', label='AUC = %0.2f'% roc_auc)\n",
    "plt.plot([0,1],[0,1],'r--')\n",
    "plt.ylabel('Survived')\n",
    "plt.xlabel('SibSp & Male')\n",
    "plt.legend()\n",
    "plt.show()"
   ]
  }
 ],
 "metadata": {
  "kernelspec": {
   "display_name": "Python 3",
   "language": "python",
   "name": "python3"
  },
  "language_info": {
   "codemirror_mode": {
    "name": "ipython",
    "version": 3
   },
   "file_extension": ".py",
   "mimetype": "text/x-python",
   "name": "python",
   "nbconvert_exporter": "python",
   "pygments_lexer": "ipython3",
   "version": "3.9.7"
  },
  "toc": {
   "base_numbering": 1,
   "nav_menu": {},
   "number_sections": true,
   "sideBar": true,
   "skip_h1_title": false,
   "title_cell": "Table of Contents",
   "title_sidebar": "Contents",
   "toc_cell": false,
   "toc_position": {},
   "toc_section_display": true,
   "toc_window_display": false
  }
 },
 "nbformat": 4,
 "nbformat_minor": 2
}
