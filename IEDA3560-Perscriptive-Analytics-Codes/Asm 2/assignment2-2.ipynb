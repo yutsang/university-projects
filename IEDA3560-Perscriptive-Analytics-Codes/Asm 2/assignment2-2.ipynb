{
 "cells": [
  {
   "cell_type": "markdown",
   "metadata": {},
   "source": [
    "## polynomial regression\n",
    "\n",
    "assignment2.csv is the data for you to do analysis on. It is the data to predict cars' prices.\n",
    "Below is the guideline:\n",
    "1. Read the data, call it data_original\n",
    "2. Target = 'price'\n",
    "3. Fix the features, e.g., features_numerical = \\['A', 'B', 'C', 'D'\\], features_category=\\['E','F'\\].\n",
    "4. Preprocess the data\n",
    " - add one-hot encoding for categorical to `data`\n",
    " - add polynomial to `data`\n",
    "5. Fit to model, `model.fit(data.drop[target], data[target])`\n",
    "6. Predict the model by `data`\n",
    "\n",
    "$^*$You may use the function `create_poly_feature()` defined as follows to generate the polynomials."
   ]
  },
  {
   "cell_type": "code",
   "execution_count": 357,
   "metadata": {},
   "outputs": [],
   "source": [
    "def create_poly_feature(df, feature, degree):\n",
    "    '''\n",
    "    :param df: Dataframe, the whole dataframe\n",
    "    :param feature: string, the feature to create polynomial\n",
    "    :param degree: int, the degree of the polynomial\n",
    "    :return:\n",
    "    '''\n",
    "    result = pd.DataFrame()\n",
    "    if feature in df.columns:\n",
    "        # loop over the degrees:\n",
    "        for power in range(2,  degree+1): \n",
    "            # first we'll give the column a name:\n",
    "            name = feature + '_power_' + str(power)\n",
    "\n",
    "            # then assign df[name] to the appropriate power of feature\n",
    "            result[name] = df[feature].astype(float) ** power\n",
    "        return result\n",
    "    else:\n",
    "        return print(\"Please select a feature in this df!\")"
   ]
  },
  {
   "cell_type": "markdown",
   "metadata": {},
   "source": [
    "### read the dataset assignment2.csv and answer the following question:\n",
    "- How many features in this dataset and what are their names?\n",
    "- Which are categorical features? List their names."
   ]
  },
  {
   "cell_type": "code",
   "execution_count": 358,
   "metadata": {
    "scrolled": true
   },
   "outputs": [
    {
     "name": "stdout",
     "output_type": "stream",
     "text": [
      "There are 6 features, their names are 'make', 'drive-wheels', 'length', 'width', 'height', and 'price'.\n",
      "Categorical features in the dataset are 'make'and 'drive-wheels' \n"
     ]
    },
    {
     "data": {
      "text/html": [
       "<div>\n",
       "<style scoped>\n",
       "    .dataframe tbody tr th:only-of-type {\n",
       "        vertical-align: middle;\n",
       "    }\n",
       "\n",
       "    .dataframe tbody tr th {\n",
       "        vertical-align: top;\n",
       "    }\n",
       "\n",
       "    .dataframe thead th {\n",
       "        text-align: right;\n",
       "    }\n",
       "</style>\n",
       "<table border=\"1\" class=\"dataframe\">\n",
       "  <thead>\n",
       "    <tr style=\"text-align: right;\">\n",
       "      <th></th>\n",
       "      <th>make</th>\n",
       "      <th>drive-wheels</th>\n",
       "      <th>length</th>\n",
       "      <th>width</th>\n",
       "      <th>height</th>\n",
       "      <th>price</th>\n",
       "    </tr>\n",
       "  </thead>\n",
       "  <tbody>\n",
       "    <tr>\n",
       "      <th>0</th>\n",
       "      <td>alfa-romero</td>\n",
       "      <td>rwd</td>\n",
       "      <td>168.8</td>\n",
       "      <td>64.1</td>\n",
       "      <td>48.8</td>\n",
       "      <td>16500</td>\n",
       "    </tr>\n",
       "    <tr>\n",
       "      <th>1</th>\n",
       "      <td>alfa-romero</td>\n",
       "      <td>rwd</td>\n",
       "      <td>171.2</td>\n",
       "      <td>65.5</td>\n",
       "      <td>52.4</td>\n",
       "      <td>16500</td>\n",
       "    </tr>\n",
       "    <tr>\n",
       "      <th>2</th>\n",
       "      <td>audi</td>\n",
       "      <td>fwd</td>\n",
       "      <td>176.6</td>\n",
       "      <td>66.2</td>\n",
       "      <td>54.3</td>\n",
       "      <td>13950</td>\n",
       "    </tr>\n",
       "    <tr>\n",
       "      <th>3</th>\n",
       "      <td>audi</td>\n",
       "      <td>4wd</td>\n",
       "      <td>176.6</td>\n",
       "      <td>66.4</td>\n",
       "      <td>54.3</td>\n",
       "      <td>17450</td>\n",
       "    </tr>\n",
       "    <tr>\n",
       "      <th>4</th>\n",
       "      <td>audi</td>\n",
       "      <td>fwd</td>\n",
       "      <td>177.3</td>\n",
       "      <td>66.3</td>\n",
       "      <td>53.1</td>\n",
       "      <td>15250</td>\n",
       "    </tr>\n",
       "    <tr>\n",
       "      <th>...</th>\n",
       "      <td>...</td>\n",
       "      <td>...</td>\n",
       "      <td>...</td>\n",
       "      <td>...</td>\n",
       "      <td>...</td>\n",
       "      <td>...</td>\n",
       "    </tr>\n",
       "    <tr>\n",
       "      <th>175</th>\n",
       "      <td>volvo</td>\n",
       "      <td>rwd</td>\n",
       "      <td>188.8</td>\n",
       "      <td>67.2</td>\n",
       "      <td>57.5</td>\n",
       "      <td>18950</td>\n",
       "    </tr>\n",
       "    <tr>\n",
       "      <th>176</th>\n",
       "      <td>volvo</td>\n",
       "      <td>rwd</td>\n",
       "      <td>188.8</td>\n",
       "      <td>68.9</td>\n",
       "      <td>55.5</td>\n",
       "      <td>16845</td>\n",
       "    </tr>\n",
       "    <tr>\n",
       "      <th>177</th>\n",
       "      <td>volvo</td>\n",
       "      <td>rwd</td>\n",
       "      <td>188.8</td>\n",
       "      <td>68.8</td>\n",
       "      <td>55.5</td>\n",
       "      <td>19045</td>\n",
       "    </tr>\n",
       "    <tr>\n",
       "      <th>178</th>\n",
       "      <td>volvo</td>\n",
       "      <td>rwd</td>\n",
       "      <td>188.8</td>\n",
       "      <td>68.9</td>\n",
       "      <td>55.5</td>\n",
       "      <td>21485</td>\n",
       "    </tr>\n",
       "    <tr>\n",
       "      <th>179</th>\n",
       "      <td>volvo</td>\n",
       "      <td>rwd</td>\n",
       "      <td>188.8</td>\n",
       "      <td>68.9</td>\n",
       "      <td>55.5</td>\n",
       "      <td>22625</td>\n",
       "    </tr>\n",
       "  </tbody>\n",
       "</table>\n",
       "<p>180 rows × 6 columns</p>\n",
       "</div>"
      ],
      "text/plain": [
       "            make drive-wheels  length  width  height  price\n",
       "0    alfa-romero          rwd   168.8   64.1    48.8  16500\n",
       "1    alfa-romero          rwd   171.2   65.5    52.4  16500\n",
       "2           audi          fwd   176.6   66.2    54.3  13950\n",
       "3           audi          4wd   176.6   66.4    54.3  17450\n",
       "4           audi          fwd   177.3   66.3    53.1  15250\n",
       "..           ...          ...     ...    ...     ...    ...\n",
       "175        volvo          rwd   188.8   67.2    57.5  18950\n",
       "176        volvo          rwd   188.8   68.9    55.5  16845\n",
       "177        volvo          rwd   188.8   68.8    55.5  19045\n",
       "178        volvo          rwd   188.8   68.9    55.5  21485\n",
       "179        volvo          rwd   188.8   68.9    55.5  22625\n",
       "\n",
       "[180 rows x 6 columns]"
      ]
     },
     "execution_count": 358,
     "metadata": {},
     "output_type": "execute_result"
    }
   ],
   "source": [
    "import pandas as pd\n",
    "data_origin = pd.read_csv('assignment2-1.csv')\n",
    "target = data_origin['price']\n",
    "\n",
    "# rwd( rear wheels drive)\n",
    "# fwd( front wheels drive)\n",
    "# make (company)\n",
    "def onehot_encode(df, feature):\n",
    "    result = pd.DataFrame()\n",
    "    if feature in df.columns:\n",
    "        # loop over the degrees:\n",
    "        result = pd.get_dummies(df, columns=[feature])\n",
    "        return result\n",
    "    else:  \n",
    "        return print(\"Please select a feature in this df!\")\n",
    "\n",
    "cat_feature_make = onehot_encode(data_origin, 'make')\n",
    "cat_feature_mnd = onehot_encode(cat_feature_make, 'drive-wheels')\n",
    "features_num = ['length', 'width', 'height']\n",
    "features_cat = ['make', 'drive-wheels']\n",
    "print(\"There are 6 features, their names are 'make', 'drive-wheels', 'length', 'width', 'height', and 'price'.\")\n",
    "print(\"Categorical features in the dataset are 'make'and 'drive-wheels' \")\n",
    "data_origin"
   ]
  },
  {
   "cell_type": "markdown",
   "metadata": {},
   "source": [
    "### add the following features to the original dataset:\n",
    "- degree of 2 polynomial of `length`$^*$\n",
    "- degree of 3 polynomial of `height`$^*$"
   ]
  },
  {
   "cell_type": "code",
   "execution_count": 359,
   "metadata": {},
   "outputs": [],
   "source": [
    "poly_feature_length = create_poly_feature(data_origin, 'length', 2)\n",
    "poly_feature_height = create_poly_feature(data_origin, 'height', 3)"
   ]
  },
  {
   "cell_type": "markdown",
   "metadata": {},
   "source": [
    "### consider the whole data set as training set and fit the model."
   ]
  },
  {
   "cell_type": "code",
   "execution_count": 360,
   "metadata": {},
   "outputs": [
    {
     "name": "stdout",
     "output_type": "stream",
     "text": [
      "[-9.60452364e+02  9.73908147e+02 -2.02220364e+04  1.74495521e+03\n",
      " -4.94696981e+02  7.89459622e+03 -1.70970023e+03 -2.31839431e+03\n",
      " -1.97305751e+03 -4.14061589e+03  8.51413031e+03 -2.91691413e+03\n",
      "  1.18458241e+04 -1.62485913e+03 -3.03692314e+03 -1.76119502e+03\n",
      " -6.04572700e+03 -3.04745840e+03  1.61535353e+04 -5.16160120e+03\n",
      " -4.50084489e+02 -3.72066491e+03 -3.38694465e+03 -1.76282286e+03\n",
      " -2.60138138e+03  7.99258798e+02 -1.73317854e+03  9.33919740e+02\n",
      "  3.26372540e+00  3.54757749e+02 -2.09106997e+00]\n",
      "405375.8759149376\n"
     ]
    },
    {
     "data": {
      "image/png": "[encoded data removed]",
      "text/plain": [
       "<Figure size 432x288 with 1 Axes>"
      ]
     },
     "metadata": {},
     "output_type": "display_data"
    },
    {
     "name": "stdout",
     "output_type": "stream",
     "text": [
      "                           Coeff\n",
      "length               -960.452364\n",
      "width                 973.908147\n",
      "height             -20222.036390\n",
      "make_alfa-romero     1744.955214\n",
      "make_audi            -494.696981\n",
      "make_bmw             7894.596224\n",
      "make_chevrolet      -1709.700228\n",
      "make_dodge          -2318.394308\n",
      "make_honda          -1973.057513\n",
      "make_isuzu          -4140.615889\n",
      "make_jaguar          8514.130311\n",
      "make_mazda          -2916.914134\n",
      "make_mercedes-benz  11845.824149\n",
      "make_mercury        -1624.859126\n",
      "make_mitsubishi     -3036.923143\n",
      "make_nissan         -1761.195023\n",
      "make_peugot         -6045.726997\n",
      "make_plymouth       -3047.458397\n",
      "make_porsche        16153.535331\n",
      "make_renault        -5161.601199\n",
      "make_saab            -450.084489\n",
      "make_subaru         -3720.664907\n",
      "make_toyota         -3386.944653\n",
      "make_volkswagen     -1762.822865\n",
      "make_volvo          -2601.381378\n",
      "drive-wheels_4wd      799.258798\n",
      "drive-wheels_fwd    -1733.178538\n",
      "drive-wheels_rwd      933.919740\n",
      "length_power_2          3.263725\n",
      "height_power_2        354.757749\n",
      "height_power_3         -2.091070\n"
     ]
    }
   ],
   "source": [
    "from sklearn import linear_model\n",
    "from sklearn.model_selection import train_test_split\n",
    "target = ['price']\n",
    "data_processed = pd.concat([cat_feature_mnd, poly_feature_length, poly_feature_height],axis = 1)\n",
    "x = data_processed.drop('price',axis=1)\n",
    "y = data_processed['price']\n",
    "#x_train, x_test, y_train, y_test = train_test_split(x, y, test_size = 0.9, random_state = 0)\n",
    "regr = linear_model.LinearRegression()\n",
    "#regr.fit(x_train, y_train)\n",
    "regr.fit(x, y)\n",
    "print(regr.coef_)\n",
    "print(regr.intercept_)\n",
    "pd = pd.DataFrame(regr.coef_, x.columns, columns = ['Coeff'])\n",
    "#pred = regr.predict(x_test)\n",
    "pred = regr.predict(x)\n",
    "plt.scatter(y, pred, color=\"blue\")\n",
    "\n",
    "m, b = np.polyfit(y, pred, 1)\n",
    "plt.plot(y, m*y + b, color=\"black\")\n",
    "\n",
    "plt.show()\n",
    "print(pd)\n"
   ]
  },
  {
   "cell_type": "code",
   "execution_count": 361,
   "metadata": {},
   "outputs": [
    {
     "data": {
      "text/plain": [
       "(array([ 1.,  0.,  3.,  9., 58., 83., 20.,  5.,  0.,  1.]),\n",
       " array([-12172.41059996,  -9829.13680035,  -7485.86300075,  -5142.58920115,\n",
       "         -2799.31540155,   -456.04160195,   1887.23219765,   4230.50599726,\n",
       "          6573.77979686,   8917.05359646,  11260.32739606]),\n",
       " <BarContainer object of 10 artists>)"
      ]
     },
     "execution_count": 361,
     "metadata": {},
     "output_type": "execute_result"
    },
    {
     "data": {
      "image/png": "[encoded data removed]",
      "text/plain": [
       "<Figure size 432x288 with 1 Axes>"
      ]
     },
     "metadata": {},
     "output_type": "display_data"
    }
   ],
   "source": [
    "plt.hist(y - predictions)"
   ]
  },
  {
   "cell_type": "markdown",
   "metadata": {},
   "source": [
    "### write down the formula of RMSE and compute its value of this model. \n",
    "\n",
    "- Hint: you can use $y_i$ as the value of i-th target and $\\hat{y}_i$ as the i-th predicted target."
   ]
  },
  {
   "cell_type": "markdown",
   "metadata": {},
   "source": [
    "The formula of RMSE:\n",
    "\n",
    "RMSE = $\\sqrt{\\frac{1}{n}\\Sigma_{i=1}^{n}{(y_i -\\hat{y}_i)^2}} $\n"
   ]
  },
  {
   "cell_type": "code",
   "execution_count": 362,
   "metadata": {},
   "outputs": [
    {
     "name": "stdout",
     "output_type": "stream",
     "text": [
      "Root Mean Square Error:  2392.4540709679427\n"
     ]
    }
   ],
   "source": [
    "import math\n",
    "RMSE = np.sqrt(metrics.mean_squared_error(y, pred))\n",
    "print(\"Root Mean Square Error: \", RMSE)"
   ]
  },
  {
   "cell_type": "markdown",
   "metadata": {},
   "source": [
    "### compute the following user-defined metric of this model: \n",
    "\n",
    "- $loss = \\sum_{i} |y_i -\\hat{y}_i |$, where $y_i$ is the value of i-th target and $\\hat{y}_i$ is the i-th predicted target."
   ]
  },
  {
   "cell_type": "code",
   "execution_count": 363,
   "metadata": {},
   "outputs": [
    {
     "name": "stdout",
     "output_type": "stream",
     "text": [
      "loss:  292778.9744982414\n"
     ]
    }
   ],
   "source": [
    "loss = np.sum(abs(np.subtract(y, pred)))\n",
    "print(\"loss: \", loss)"
   ]
  }
 ],
 "metadata": {
  "kernelspec": {
   "display_name": "Python 3",
   "language": "python",
   "name": "python3"
  },
  "language_info": {
   "codemirror_mode": {
    "name": "ipython",
    "version": 3
   },
   "file_extension": ".py",
   "mimetype": "text/x-python",
   "name": "python",
   "nbconvert_exporter": "python",
   "pygments_lexer": "ipython3",
   "version": "3.7.4"
  },
  "toc": {
   "base_numbering": 1,
   "nav_menu": {},
   "number_sections": true,
   "sideBar": true,
   "skip_h1_title": false,
   "title_cell": "Table of Contents",
   "title_sidebar": "Contents",
   "toc_cell": false,
   "toc_position": {},
   "toc_section_display": true,
   "toc_window_display": false
  }
 },
 "nbformat": 4,
 "nbformat_minor": 2
}
