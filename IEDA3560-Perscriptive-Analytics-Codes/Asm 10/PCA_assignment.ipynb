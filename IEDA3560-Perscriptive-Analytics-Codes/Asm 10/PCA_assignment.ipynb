{
 "cells": [
  {
   "cell_type": "markdown",
   "metadata": {},
   "source": [
    "## Assignment 10\n",
    "\n",
    "In this assignment, you will get an on-hand experience of utilizing PCA as a dimensionality reduction tool to extract features. \n",
    "\n",
    "Specifically,\n",
    "\n",
    "1. Load the digits data from sklearn.\n",
    "\n",
    "2. Perform a PCA on the dataset **without** specifying `n_components` and which direction is the main principal component? Namely, along the direction, the variance of sample points is the largest.\n",
    "\n",
    "3. Compute the cumulative variance ratio of all the components. If we request that the PCA method should preserve at least 50% of the total variance, what is the minimum number of principal components?\n",
    "\n",
    "4. Choose the best number ($N$) of components by cross-validation. In order to achieve it,first you need to apply the PCA with different $N$ to transform the image data. Then, you are required to apply the logistic regression to do the classification with transformed data as $X$ and the corresponding labels as $Y$. Finally, you can do the cross validation for each $N$."
   ]
  },
  {
   "cell_type": "code",
   "execution_count": 1,
   "metadata": {},
   "outputs": [],
   "source": [
    "%matplotlib inline\n",
    "import numpy as np\n",
    "import matplotlib.pyplot as plt\n",
    "import seaborn as sns; sns.set()\n",
    "\n",
    "from sklearn.datasets import load_digits\n",
    "from sklearn.decomposition import PCA"
   ]
  },
  {
   "cell_type": "code",
   "execution_count": 2,
   "metadata": {},
   "outputs": [],
   "source": [
    " #1.\n",
    "digits = load_digits()\n",
    "data = digits.data\n",
    "labels = digits.target"
   ]
  },
  {
   "cell_type": "code",
   "execution_count": 3,
   "metadata": {},
   "outputs": [
    {
     "name": "stdout",
     "output_type": "stream",
     "text": [
      "[1.79006930e+02 1.63717747e+02 1.41788439e+02 1.01100375e+02\n",
      " 6.95131656e+01 5.91085249e+01 5.18845391e+01 4.40151067e+01\n",
      " 4.03109953e+01 3.70117984e+01 2.85190412e+01 2.73211698e+01\n",
      " 2.19014881e+01 2.13243565e+01 1.76367222e+01 1.69468639e+01\n",
      " 1.58513899e+01 1.50044602e+01 1.22344732e+01 1.08868593e+01\n",
      " 1.06935663e+01 9.58259779e+00 9.22640260e+00 8.69036872e+00\n",
      " 8.36561190e+00 7.16577961e+00 6.91973881e+00 6.19295508e+00\n",
      " 5.88499123e+00 5.15586690e+00 4.49129656e+00 4.24687799e+00\n",
      " 4.04743883e+00 3.94340334e+00 3.70647245e+00 3.53165306e+00\n",
      " 3.08457409e+00 2.73780002e+00 2.67210896e+00 2.54170563e+00\n",
      " 2.28298744e+00 1.90724229e+00 1.81716569e+00 1.68996439e+00\n",
      " 1.40197220e+00 1.29221888e+00 1.15893419e+00 9.31220008e-01\n",
      " 6.69850594e-01 4.86065217e-01 2.52350432e-01 9.91527944e-02\n",
      " 6.31307848e-02 6.07377581e-02 3.96662297e-02 1.49505636e-02\n",
      " 8.47307261e-03 3.62365957e-03 1.27705113e-03 6.61270906e-04\n",
      " 4.12223305e-04 1.14286697e-30 1.14286697e-30 1.12542605e-30]\n"
     ]
    }
   ],
   "source": [
    " #2.\n",
    "pca = PCA().fit(data)\n",
    "print(pca.explained_variance_)"
   ]
  },
  {
   "cell_type": "code",
   "execution_count": 4,
   "metadata": {},
   "outputs": [
    {
     "data": {
      "text/plain": [
       "179.00693009797155"
      ]
     },
     "execution_count": 4,
     "metadata": {},
     "output_type": "execute_result"
    }
   ],
   "source": [
    "max(pca.explained_variance_)"
   ]
  },
  {
   "cell_type": "code",
   "execution_count": 5,
   "metadata": {},
   "outputs": [
    {
     "data": {
      "text/plain": [
       "array([-1.77484909e-19, -1.73094651e-02, -2.23428835e-01, -1.35913304e-01,\n",
       "       -3.30323092e-02, -9.66340844e-02, -8.32943805e-03,  2.26900082e-03,\n",
       "       -3.20516495e-04, -1.19308905e-01, -2.44451676e-01,  1.48512745e-01,\n",
       "       -4.67319410e-02, -2.17740744e-01, -1.48136776e-02,  4.47779518e-03,\n",
       "       -4.94136398e-05, -7.95419375e-02,  8.33951454e-02,  2.15915342e-01,\n",
       "       -1.72126801e-01, -1.63712098e-01,  2.86444452e-02,  4.23251803e-03,\n",
       "        9.85488574e-05,  6.42319144e-02,  2.54093316e-01, -3.56771026e-02,\n",
       "       -2.09462569e-01, -4.31311420e-02,  5.13118688e-02,  2.13422732e-04,\n",
       "       -0.00000000e+00,  1.59950883e-01,  3.68690774e-01,  1.64406827e-01,\n",
       "        8.52007908e-02,  3.72982855e-02,  2.15866980e-02, -0.00000000e+00,\n",
       "        1.28865585e-03,  1.06945287e-01,  3.03067457e-01,  2.47813041e-01,\n",
       "        2.09637296e-01,  1.22325219e-02, -3.69458497e-02,  1.61485028e-03,\n",
       "        6.93023548e-04, -8.35144239e-03, -5.58598986e-02,  9.30534169e-02,\n",
       "        1.07387720e-01, -1.37734565e-01, -6.32879466e-02,  9.61671077e-04,\n",
       "        9.55079131e-06, -1.40786840e-02, -2.35675488e-01, -1.41225588e-01,\n",
       "       -9.15964553e-03, -8.94184677e-02, -3.65977111e-02, -1.14684954e-02])"
      ]
     },
     "execution_count": 5,
     "metadata": {},
     "output_type": "execute_result"
    }
   ],
   "source": [
    "pca.components_[0]"
   ]
  },
  {
   "cell_type": "code",
   "execution_count": 6,
   "metadata": {},
   "outputs": [
    {
     "data": {
      "text/plain": [
       "array([0.14890594, 0.28509365, 0.40303959, 0.48713938, 0.54496353,\n",
       "       0.59413263, 0.6372925 , 0.67390623, 0.70743871, 0.73822677,\n",
       "       0.76195018, 0.78467714, 0.80289578, 0.82063433, 0.83530534,\n",
       "       0.84940249, 0.86258838, 0.87506976, 0.88524694, 0.89430312,\n",
       "       0.9031985 , 0.91116973, 0.91884467, 0.9260737 , 0.93303259,\n",
       "       0.9389934 , 0.94474955, 0.94990113, 0.95479652, 0.9590854 ,\n",
       "       0.96282146, 0.96635421, 0.96972105, 0.97300135, 0.97608455,\n",
       "       0.97902234, 0.98158823, 0.98386565, 0.98608843, 0.98820273,\n",
       "       0.99010182, 0.99168835, 0.99319995, 0.99460574, 0.99577196,\n",
       "       0.99684689, 0.99781094, 0.99858557, 0.99914278, 0.99954711,\n",
       "       0.99975703, 0.99983951, 0.99989203, 0.99994255, 0.99997555,\n",
       "       0.99998798, 0.99999503, 0.99999804, 0.99999911, 0.99999966,\n",
       "       1.        , 1.        , 1.        , 1.        ])"
      ]
     },
     "execution_count": 6,
     "metadata": {},
     "output_type": "execute_result"
    }
   ],
   "source": [
    " #3.\n",
    "np.cumsum(pca.explained_variance_ratio_)"
   ]
  },
  {
   "cell_type": "code",
   "execution_count": 7,
   "metadata": {},
   "outputs": [],
   "source": [
    "#4\n",
    "from sklearn.datasets import load_boston\n",
    "from sklearn.preprocessing import scale\n",
    "from sklearn.model_selection import cross_val_score \n",
    "from sklearn.linear_model import LinearRegression \n",
    "from sklearn.model_selection import train_test_split \n",
    "from sklearn.metrics import mean_squared_error\n",
    "from sklearn.linear_model import LinearRegression \n",
    "sns.set()"
   ]
  },
  {
   "cell_type": "code",
   "execution_count": 8,
   "metadata": {},
   "outputs": [
    {
     "data": {
      "text/plain": [
       "LogisticRegression(max_iter=5000)"
      ]
     },
     "execution_count": 8,
     "metadata": {},
     "output_type": "execute_result"
    }
   ],
   "source": [
    "pca = PCA()\n",
    "X_train, X_test, y_train, y_test = train_test_split(data, labels, test_size=0.1, random_state=1)\n",
    "n = data.shape[1]\n",
    "for i in range(1, n+1):\n",
    "    X_reduced_train = pca.fit_transform(scale(X_train))[:, :i] \n",
    "\n",
    "from sklearn import linear_model\n",
    "logistic = linear_model.LogisticRegression(max_iter=5000)\n",
    "logistic.fit(X_reduced_train, y_train)"
   ]
  },
  {
   "cell_type": "code",
   "execution_count": 9,
   "metadata": {},
   "outputs": [
    {
     "data": {
      "text/plain": [
       "Text(0, 0.5, 'MSE')"
      ]
     },
     "execution_count": 9,
     "metadata": {},
     "output_type": "execute_result"
    },
    {
     "data": {
      "image/png": "[encoded data removed]",
      "text/plain": [
       "<Figure size 720x432 with 1 Axes>"
      ]
     },
     "metadata": {},
     "output_type": "display_data"
    }
   ],
   "source": [
    "mse = []\n",
    "# 10-fold cv\n",
    "score = -cross_val_score(logistic, \n",
    "    np.ones((len(X_reduced_train), 1)), y_train,\n",
    "    cv=10, scoring='neg_mean_squared_error')\n",
    "\n",
    "mse.append(score.mean())\n",
    "\n",
    "# Calculate MSE using cv for the 13 components, adding one at a time\n",
    "for i in range(1, n+1):\n",
    "    score = -cross_val_score(logistic, X_reduced_train[:, :i], y_train, cv=10, scoring='neg_mean_squared_error')\n",
    "    mse.append(score.mean())\n",
    "\n",
    "# Plot results\n",
    "plt.figure(figsize=(10,6))\n",
    "plt.plot(mse, marker='o')\n",
    "plt.xlabel('Number of principal components')\n",
    "plt.ylabel('MSE')"
   ]
  },
  {
   "cell_type": "code",
   "execution_count": 10,
   "metadata": {},
   "outputs": [],
   "source": [
    "a = []\n",
    "for i in range(1, n+1):\n",
    "    X_reduced_test = pca.transform(scale(X_test))[:, :i]\n",
    "    logistic.fit(X_reduced_train[:, :i], y_train)\n",
    "    pred = logistic. predict(X_reduced_test)\n",
    "    a.append(mean_squared_error(y_test, pred))"
   ]
  },
  {
   "cell_type": "code",
   "execution_count": 11,
   "metadata": {},
   "outputs": [
    {
     "data": {
      "text/plain": [
       "0.49444444444444446"
      ]
     },
     "execution_count": 11,
     "metadata": {},
     "output_type": "execute_result"
    }
   ],
   "source": [
    "min(a)"
   ]
  },
  {
   "cell_type": "code",
   "execution_count": 13,
   "metadata": {},
   "outputs": [
    {
     "data": {
      "text/plain": [
       "[30, 32, 33, 38, 39, 40, 41, 42, 43, 44, 45]"
      ]
     },
     "execution_count": 13,
     "metadata": {},
     "output_type": "execute_result"
    }
   ],
   "source": [
    "index = []\n",
    "for i in range(len(a)):\n",
    "    if a[i] == min(a): index.append(i)\n",
    "\n",
    "index"
   ]
  }
 ],
 "metadata": {
  "kernelspec": {
   "display_name": "Python 3",
   "language": "python",
   "name": "python3"
  },
  "language_info": {
   "codemirror_mode": {
    "name": "ipython",
    "version": 3
   },
   "file_extension": ".py",
   "mimetype": "text/x-python",
   "name": "python",
   "nbconvert_exporter": "python",
   "pygments_lexer": "ipython3",
   "version": "3.9.7"
  },
  "toc": {
   "base_numbering": 1,
   "nav_menu": {},
   "number_sections": true,
   "sideBar": true,
   "skip_h1_title": false,
   "title_cell": "Table of Contents",
   "title_sidebar": "Contents",
   "toc_cell": false,
   "toc_position": {},
   "toc_section_display": true,
   "toc_window_display": false
  }
 },
 "nbformat": 4,
 "nbformat_minor": 2
}
