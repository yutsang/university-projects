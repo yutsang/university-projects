{
 "cells": [
  {
   "cell_type": "code",
   "execution_count": 8,
   "metadata": {},
   "outputs": [],
   "source": [
    "import os\n",
    "import pandas as pd\n",
    "\n",
    "# Get the current working directory\n",
    "current_dir = os.getcwd()\n",
    "\n",
    "# Set the name of the folder containing the weather files\n",
    "folder_name = \"weather_tha\"\n",
    "\n",
    "#Taiwan (TWN): Taipei - 58968\n",
    "#Thailand (THA): Bangkok - 48455\n",
    "#Singapore (SGP): Singapore - 48698\n",
    "#Malaysia (MYS): Kuala Lumpur - 48665\n",
    "#Indonesia (IDN): Jakarta - 96749\n",
    "#China (CHN): Beijing - 54511\n",
    "#Philippines (PHL): Manila - 98429\n",
    "\n",
    "# Create the full path to the directory\n",
    "directory = os.path.join(current_dir, folder_name)\n",
    "\n",
    "# Create an empty list to store the dataframes\n",
    "dfs = []\n",
    "\n",
    "# Loop through the files in the directory\n",
    "for filename in os.listdir(directory):\n",
    "    if filename.endswith(\".csv\") and filename.startswith(\"48455\"):\n",
    "        # Read the file into a dataframe\n",
    "        df = pd.read_csv(os.path.join(directory, filename))\n",
    "        # Append the dataframe to the list\n",
    "        dfs.append(df)\n",
    "\n",
    "# Concatenate the dataframes into one\n",
    "merged_df = pd.concat(dfs)\n",
    "\n",
    "# Get the minimum and maximum years from the data\n",
    "min_year = merged_df[\"DATE\"].min()[:4]\n",
    "max_year = merged_df[\"DATE\"].max()[:4]\n",
    "\n",
    "# Save the merged dataframe to a CSV file with the appropriate name\n",
    "merged_df.to_csv(os.path.join(current_dir, f\"{folder_name}_{min_year}_{max_year}.csv\"), index=False)"
   ]
  }
 ],
 "metadata": {
  "kernelspec": {
   "display_name": "base",
   "language": "python",
   "name": "python3"
  },
  "language_info": {
   "codemirror_mode": {
    "name": "ipython",
    "version": 3
   },
   "file_extension": ".py",
   "mimetype": "text/x-python",
   "name": "python",
   "nbconvert_exporter": "python",
   "pygments_lexer": "ipython3",
   "version": "3.9.13"
  },
  "orig_nbformat": 4
 },
 "nbformat": 4,
 "nbformat_minor": 2
}
