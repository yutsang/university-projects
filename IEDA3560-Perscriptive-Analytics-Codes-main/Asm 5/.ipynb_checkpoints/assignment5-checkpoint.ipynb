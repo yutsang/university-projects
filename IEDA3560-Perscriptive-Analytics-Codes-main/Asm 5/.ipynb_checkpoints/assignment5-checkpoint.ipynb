{
 "cells": [
  {
   "cell_type": "markdown",
   "metadata": {},
   "source": [
    "Assignment-5\n",
    "\n",
    "Your main task for this assignment is to combine Linear Regression, Greedy Algorithm and PnL discussed in lecture to predict your trading results. You will be predicting Bitcoin price this time. You should refer to the ipynb file for this tutorial to get the structure. \n",
    "\n",
    "This time the prediction will be slightly different from the Lab. Every prediction should be a result from a model that is trained based on the previous 400 days. Example: if you are predicting 1-1-2019, the model should be trained using the previous 400 days, and so on.\n",
    "\n",
    "\n",
    "The instruction to the assignment are as follow:\n",
    "\n",
    "1. Read BTC price data\n",
    "2. Only keep `close` column for analysis.\n",
    "3. Create features that correspond to the time interval in which we want to predict\n",
    "4. Drop all rows with missing value.\n",
    "5. Set `fix_history_length` equal to 400, `fix_test_length` equal to 100\n",
    "6. Use Greedy Algorithm instead of All Subset Selection\n",
    "7. Find 50 different samples of Return using the given seed format\n",
    "8. Use a histogram to summarize your result. Make sure to adjust the histogram settings to make it look nice\n",
    "\n",
    "The total running time should be about 7 hours. Do not shut down your kernel during the computation."
   ]
  },
  {
   "cell_type": "code",
   "execution_count": null,
   "metadata": {},
   "outputs": [],
   "source": [
    "import ..."
   ]
  },
  {
   "cell_type": "code",
   "execution_count": null,
   "metadata": {},
   "outputs": [],
   "source": [
    "BTC_price_origin = ..."
   ]
  },
  {
   "cell_type": "code",
   "execution_count": null,
   "metadata": {},
   "outputs": [
    {
     "ename": "",
     "evalue": "",
     "output_type": "error",
     "traceback": [
      "\u001b[1;31mFailed to start Jupyter in the environment 'Python 3.8.9 64-bit (/usr/bin/python3)'. \n",
      "View Jupyter <a href='command:jupyter.viewOutput'>log</a> for further details."
     ]
    }
   ],
   "source": []
  },
  {
   "cell_type": "code",
   "execution_count": null,
   "metadata": {},
   "outputs": [
    {
     "ename": "",
     "evalue": "",
     "output_type": "error",
     "traceback": [
      "\u001b[1;31mFailed to start Jupyter in the environment 'Python 3.8.9 64-bit (/usr/bin/python3)'. \n",
      "View Jupyter <a href='command:jupyter.viewOutput'>log</a> for further details."
     ]
    }
   ],
   "source": [
    "predictor_variables = ['1D','3D','1W','2W','3W','1M','6W','2M','3M','4M','5M','6M','9M','1Y']\n",
    "\n",
    "target = ['Return']"
   ]
  },
  {
   "cell_type": "code",
   "execution_count": null,
   "metadata": {},
   "outputs": [],
   "source": [
    "fix_history_length = ...\n",
    "fix_test_length = ...\n",
    "sample_size = 50\n",
    "randomRange = ..."
   ]
  },
  {
   "cell_type": "code",
   "execution_count": null,
   "metadata": {},
   "outputs": [],
   "source": [
    "def greedy_algo(train_valid, target, proportion):\n",
    "    \n",
    "    # initialize a list to save features\n",
    "    greedy_select = []\n",
    "    \n",
    "    profit_greedy_algo = np.array([])\n",
    "    for i in range(len(features)):\n",
    "        profit = np.array([])\n",
    "        features_left = list(set(features) - set(greedy_select))\n",
    "\n",
    "        for new in features_left:\n",
    "            features_new = greedy_select + [new]\n",
    "            train_valid_sub = train_valid[features_new + target]\n",
    "\n",
    "            # CrossValidation, compute the profit and save it into profit_sub\n",
    "            profit_sub = PnL(train_valid_sub, target, proportion)\n",
    "            profit = np.append(profit, profit_sub)\n",
    "\n",
    "        # pick the features that gives the largest profit\n",
    "        # and add it into our features list\n",
    "        # meanwhile, save the corresponding profit\n",
    "        greedy_select += [features_left[profit.argmax()]]\n",
    "        profit_greedy_algo = np.append(profit_greedy_algo, profit.max())\n",
    "        \n",
    "    return greedy_select[:(profit_greedy_algo.argmax()+1)]"
   ]
  },
  {
   "cell_type": "code",
   "execution_count": null,
   "metadata": {},
   "outputs": [],
   "source": [
    "profit_final = np.array([])\n",
    "\n",
    "# Think about why we need two loops here:\n",
    "# The answer is that this time, we need to change the training data for each day, each sample\n",
    "# In total, we have 50 samples\n",
    "for j in range(sample_size):\n",
    "    \n",
    "    np.random.seed(j)\n",
    "\n",
    "    for i in range(fix_test_length):  \n",
    "        \n",
    "        ...\n",
    "\n",
    "        feature_update = greedy_algo(...)\n",
    "\n",
    "        ...\n",
    "        \n",
    "    profit_final = np.append(profit_final, ...)"
   ]
  },
  {
   "cell_type": "code",
   "execution_count": null,
   "metadata": {},
   "outputs": [],
   "source": [
    "fig = plt.figure(figsize=(8,5))\n",
    "bins = np.linspace(0.3, 1.7, 15)\n",
    "a = plt.hist(profit_final, bins, histtype='bar', rwidth=0.9)\n",
    "for i in range(len(bins)-1):\n",
    "    plt.text(a[1][i]+0.037,a[0][i]+0.2,int(a[0][i]))\n",
    "plt.title(\"histogram of 50 Returns for cryptocurrency--'Bitcoin'\")\n",
    "\n",
    "# you should change the coordinates of the plot to make it look nice\n",
    "plt.text(0.3, 18, (\"Avg Return: {0:.2f}%\".format((profit_final.mean()-1) * 100)))\n",
    "plt.text(0.3, 17, (\"Std dev: {0:.2f}%\".format(profit_final.std() * 100)))\n",
    "plt.text(0.3, 16, \"320 training points\")\n",
    "plt.text(0.3, 15, \"80 validation points\")\n",
    "plt.text(0.3, 14, \"100 test points\")"
   ]
  }
 ],
 "metadata": {
  "kernelspec": {
   "display_name": "Python 3 (ipykernel)",
   "language": "python",
   "name": "python3"
  },
  "language_info": {
   "codemirror_mode": {
    "name": "ipython",
    "version": 3
   },
   "file_extension": ".py",
   "mimetype": "text/x-python",
   "name": "python",
   "nbconvert_exporter": "python",
   "pygments_lexer": "ipython3",
   "version": "3.8.9"
  }
 },
 "nbformat": 4,
 "nbformat_minor": 2
}
